{
 "cells": [
  {
   "cell_type": "markdown",
   "id": "727ea7a9-bac0-4bb3-afbc-4981950e3fd1",
   "metadata": {
    "tags": []
   },
   "source": [
    "# **[5-2] 데이터간의 비교연산**"
   ]
  },
  {
   "cell_type": "markdown",
   "id": "0a5448d2-a09e-484c-adf2-6c2e5d0232b8",
   "metadata": {
    "tags": []
   },
   "source": [
    "## **🎯 학습 목표**\n",
    "**Pandas를 사용해 시리즈와 시리즈의 비교연산, 데이터프레임과 데이터프레임의 비교연산을 할 수 있습니다.**"
   ]
  },
  {
   "cell_type": "markdown",
   "id": "01cb348d-d551-4559-910d-6d97d46c0385",
   "metadata": {},
   "source": [
    "---"
   ]
  },
  {
   "cell_type": "markdown",
   "id": "6413fa6e-01a1-49f4-b0a6-da78c2945931",
   "metadata": {
    "jp-MarkdownHeadingCollapsed": true,
    "tags": []
   },
   "source": [
    "이번 시간에는 시리즈, 데이터프레임 간의 비교 연산을 배워봅시다."
   ]
  },
  {
   "cell_type": "markdown",
   "id": "de871f9b-5294-4339-8467-8a0b5bb64b61",
   "metadata": {
    "tags": []
   },
   "source": [
    "## 열, 인덱스가 같은 경우의 비교연산\n",
    "\n",
    "시리즈, 데이터프레임 간의 비교 연산의 경우 파이썬에서 사용하는 비교 연산을 그대로 사용할 수 있습니다.  \n",
    "비교하는 2개의 시리즈, 데이터프레임의 열, 인덱스가 동일하면 각각 열과 인덱스가 같은 데이터끼리 비교 연산을 수행하고 그 결과를 True와 False로 반환합니다.\n",
    "\n",
    "> **⛔️ 오류(ERROR):**\n",
    ">\n",
    "> Pandas의 시리즈, 데이터프레임 간 비교연산은 인덱스와 열이 완전히 일치하는 경우에만 사용 가능합니다.  \n",
    "> 비교연산을 할 때에 두 시리즈, 데이터프레임의 인덱스나 열이 다른 경우 오류가 발생합니다.\n",
    "> 사칙연산과는 다르니 주의해야 합니다.\n",
    "\n",
    "> **시리즈의 비교연산**\n",
    ">\n",
    "> - **같다** : Series1 == Series2 \n",
    "> - **다르다** : Series1 != Series2\n",
    "> - **왼쪽이 크다** : Series1 > Series2\n",
    "> - **오른쪽이 크다** : Series1 < Series2  \n",
    "> - **왼쪽이 크거나 같다** : Series1 >= Series2\n",
    "> - **오른쪽이 크거나 같다** : Series1 <= Series2\n",
    " \n",
    "> **데이터프레임의 비교연산**\n",
    ">\n",
    "> - **같다** : DataFrame1 == DataFrame2 \n",
    "> - **다르다** : DataFrame1 != DataFrame2\n",
    "> - **왼쪽이 크다** : DataFrames1 > DataFrame2\n",
    "> - **오른쪽이 크다** : DataFrame1 < DataFrame2  \n",
    "> - **왼쪽이 크거나 같다** : DataFrame1 >= DataFrame2\n",
    "> - **오른쪽이 크거나 같다** : DataFrame1 <= DataFrame2\n",
    "\n",
    "<table>\n",
    "<tr>\n",
    "    <th><img src=\"https://tmn-bucket-materials-all.s3.ap-northeast-2.amazonaws.com/image/pandas/material_05-07.png\" width=\"700\"></th>\n",
    "</tr>\n",
    "<tr>\n",
    "    <th>시리즈간의 비교연산</th>\n",
    "</tr>\n",
    "</table>\n",
    "\n",
    "<table>\n",
    "<tr>\n",
    "    <th><img src=\"https://tmn-bucket-materials-all.s3.ap-northeast-2.amazonaws.com/image/pandas/material_05-08.png\" width=\"700\"></th>\n",
    "    </tr>\n",
    "<tr>\n",
    "    <th>데이터프레임간의 비교연산</th>\n",
    "</tr>\n",
    "</table>\n",
    "\n",
    "> **✏️ 알아봅시다(NOTE): NaN은 어떻게 계산되나요?(비교연산)**\n",
    ">\n",
    "> NaN과의 비교 연산은 어떠한 경우에도 False를 결과로 내보냅니다.  \n",
    "> NaN은 다른 문자열, 실수, 정수등과 비교할 수 없기 때문입니다.\n",
    "\n",
    "비교연산은 정수, 실수 뿐만 아니라 문자열에 대해서도 적용 가능합니다.\n",
    "\n",
    "> **✏️ 알아봅시다(NOTE): 문자열의 크기 비교는 어떻게 이루어지나요?**\n",
    ">\n",
    "> 문자열에서 크기 비교는 사전에서 뒤에 나오는 문자열일수록 큰 문자열로 취급됩니다.  \n",
    "> 예시 : `'abc' < 'abe'` , `'a'<'z'`, `'가방'<'나비'`\n",
    "\n",
    "<table>\n",
    "<tr>\n",
    "    <th><img src=\"https://tmn-bucket-materials-all.s3.ap-northeast-2.amazonaws.com/image/pandas/material_05-09.png\" width=\"700\"></th>\n",
    "    </tr>\n",
    "<tr>\n",
    "    <th>데이터프레임간의 문자열 비교연산</th>\n",
    "</tr>\n",
    "</table>\n",
    "\n",
    "\n"
   ]
  },
  {
   "cell_type": "code",
   "execution_count": null,
   "id": "895054b0-75ea-49d7-a8f1-8db604ae391a",
   "metadata": {},
   "outputs": [],
   "source": [
    "# 예제_1_크기와_인덱스가_같은_시리즈_사이의_비교연산\n",
    "\n",
    "import pandas as pd\n",
    "\n",
    "A = pd.Series([1,1,1])\n",
    "B = pd.Series([0,1,2])\n",
    "\n",
    "print('#'*30, f\"{'A':^15s}\" , '#' * 30, '\\n') # 출력되는 결과들을 분리해서 보여주기 위한 코드입니다.\n",
    "print(A)\n",
    "print('\\n','#'*30, f\"{'B':^15s}\" , '#' * 30, '\\n') # 출력되는 결과들을 분리해서 보여주기 위한 코드입니다.\n",
    "print(B)\n",
    "print('\\n','#'*30, f\"{'A == B':^15s}\" , '#' * 30, '\\n') # 출력되는 결과들을 분리해서 보여주기 위한 코드입니다.\n",
    "print(A==B)\n",
    "print('\\n','#'*30, f\"{'A != B':^15s}\" , '#' * 30, '\\n') # 출력되는 결과들을 분리해서 보여주기 위한 코드입니다.\n",
    "print(A!=B)\n",
    "print('\\n','#'*30, f\"{'A > B':^15s}\" , '#' * 30, '\\n') # 출력되는 결과들을 분리해서 보여주기 위한 코드입니다.\n",
    "print(A>B)\n",
    "print('\\n','#'*30, f\"{'A < B':^15s}\" , '#' * 30, '\\n') # 출력되는 결과들을 분리해서 보여주기 위한 코드입니다.\n",
    "print(A<B)\n",
    "print('\\n','#'*30, f\"{'A >= B':^15s}\" , '#' * 30, '\\n') # 출력되는 결과들을 분리해서 보여주기 위한 코드입니다.\n",
    "print(A>=B)\n",
    "print('\\n','#'*30, f\"{'A <= B':^15s}\" , '#' * 30, '\\n') # 출력되는 결과들을 분리해서 보여주기 위한 코드입니다.\n",
    "print(A<=B)"
   ]
  },
  {
   "cell_type": "code",
   "execution_count": null,
   "id": "aa3c10e5-35e8-4cef-ad95-90725f683f73",
   "metadata": {},
   "outputs": [],
   "source": [
    "# 예제_2_형태와_인덱스_열이_같은_데이터프레임_사이의_비교연산\n",
    "\n",
    "import pandas as pd\n",
    "\n",
    "A = pd.DataFrame([[1,2,3],[4,5,6]])\n",
    "B = pd.DataFrame([[6,5,4],[3,2,1]])\n",
    "\n",
    "print('#'*30, f\"{'A':^15s}\" , '#' * 30, '\\n') # 출력되는 결과들을 분리해서 보여주기 위한 코드입니다.\n",
    "print(A)\n",
    "print('\\n','#'*30, f\"{'B':^15s}\" , '#' * 30, '\\n') # 출력되는 결과들을 분리해서 보여주기 위한 코드입니다.\n",
    "print(B)\n",
    "print('\\n','#'*30, f\"{'A == B':^15s}\" , '#' * 30, '\\n') # 출력되는 결과들을 분리해서 보여주기 위한 코드입니다.\n",
    "print(A==B)\n",
    "print('\\n','#'*30, f\"{'A != B':^15s}\" , '#' * 30, '\\n') # 출력되는 결과들을 분리해서 보여주기 위한 코드입니다.\n",
    "print(A!=B)\n",
    "print('\\n','#'*30, f\"{'A > B':^15s}\" , '#' * 30, '\\n') # 출력되는 결과들을 분리해서 보여주기 위한 코드입니다.\n",
    "print(A>B)\n",
    "print('\\n','#'*30, f\"{'A < B':^15s}\" , '#' * 30, '\\n') # 출력되는 결과들을 분리해서 보여주기 위한 코드입니다.\n",
    "print(A<B)\n",
    "print('\\n','#'*30, f\"{'A >= B':^15s}\" , '#' * 30, '\\n') # 출력되는 결과들을 분리해서 보여주기 위한 코드입니다.\n",
    "print(A>=B)\n",
    "print('\\n','#'*30, f\"{'A <= B':^15s}\" , '#' * 30, '\\n') # 출력되는 결과들을 분리해서 보여주기 위한 코드입니다.\n",
    "print(A<=B)"
   ]
  },
  {
   "cell_type": "code",
   "execution_count": null,
   "id": "a9b94f5a-3ac5-4a89-891d-6e7405c25969",
   "metadata": {},
   "outputs": [],
   "source": [
    "# 예제_2_형태와_인덱스_열이_같은_데이터프레임_사이의_문자열_비교연산\n",
    "\n",
    "import pandas as pd\n",
    "\n",
    "A = pd.DataFrame([['사과','바나나','복숭아'],['수박','딸기','귤']])\n",
    "B = pd.DataFrame([['사과','복숭아','딸기'],['귤','수박','바나나']])\n",
    "\n",
    "print('#'*30, f\"{'A':^15s}\" , '#' * 30, '\\n') # 출력되는 결과들을 분리해서 보여주기 위한 코드입니다.\n",
    "print(A)\n",
    "print('\\n','#'*30, f\"{'B':^15s}\" , '#' * 30, '\\n') # 출력되는 결과들을 분리해서 보여주기 위한 코드입니다.\n",
    "print(B)\n",
    "print('\\n','#'*30, f\"{'A == B':^15s}\" , '#' * 30, '\\n') # 출력되는 결과들을 분리해서 보여주기 위한 코드입니다.\n",
    "print(A==B)\n",
    "print('\\n','#'*30, f\"{'A != B':^15s}\" , '#' * 30, '\\n') # 출력되는 결과들을 분리해서 보여주기 위한 코드입니다.\n",
    "print(A!=B)\n",
    "print('\\n','#'*30, f\"{'A > B':^15s}\" , '#' * 30, '\\n') # 출력되는 결과들을 분리해서 보여주기 위한 코드입니다.\n",
    "print(A>B)\n",
    "print('\\n','#'*30, f\"{'A < B':^15s}\" , '#' * 30, '\\n') # 출력되는 결과들을 분리해서 보여주기 위한 코드입니다.\n",
    "print(A<B)\n",
    "print('\\n','#'*30, f\"{'A >= B':^15s}\" , '#' * 30, '\\n') # 출력되는 결과들을 분리해서 보여주기 위한 코드입니다.\n",
    "print(A>=B)\n",
    "print('\\n','#'*30, f\"{'A <= B':^15s}\" , '#' * 30, '\\n') # 출력되는 결과들을 분리해서 보여주기 위한 코드입니다.\n",
    "print(A<=B)"
   ]
  },
  {
   "cell_type": "code",
   "execution_count": null,
   "id": "51b49d95-5870-41ca-a6d7-2bbf25f371da",
   "metadata": {},
   "outputs": [],
   "source": [
    "# 예제_4_형태는_같지만_인덱스_열이_다른_데이터프레임_사이의_비교연산\n",
    "\n",
    "import pandas as pd\n",
    "\n",
    "A = pd.DataFrame([[1,2,3],[4,5,6]])\n",
    "B = pd.DataFrame([[6,5],[3,2]])\n",
    "\n",
    "print('#'*30, f\"{'A':^15s}\" , '#' * 30, '\\n') # 출력되는 결과들을 분리해서 보여주기 위한 코드입니다.\n",
    "print(A)\n",
    "print('\\n','#'*30, f\"{'B':^15s}\" , '#' * 30, '\\n') # 출력되는 결과들을 분리해서 보여주기 위한 코드입니다.\n",
    "print(B)\n",
    "print('\\n','#'*30, f\"{'A == B':^15s}\" , '#' * 30, '\\n') # 출력되는 결과들을 분리해서 보여주기 위한 코드입니다.\n",
    "print(A==B)\n",
    "print('\\n','#'*30, f\"{'A != B':^15s}\" , '#' * 30, '\\n') # 출력되는 결과들을 분리해서 보여주기 위한 코드입니다.\n",
    "print(A!=B)\n",
    "print('\\n','#'*30, f\"{'A > B':^15s}\" , '#' * 30, '\\n') # 출력되는 결과들을 분리해서 보여주기 위한 코드입니다.\n",
    "print(A>B)\n",
    "print('\\n','#'*30, f\"{'A < B':^15s}\" , '#' * 30, '\\n') # 출력되는 결과들을 분리해서 보여주기 위한 코드입니다.\n",
    "print(A<B)\n",
    "print('\\n','#'*30, f\"{'A >= B':^15s}\" , '#' * 30, '\\n') # 출력되는 결과들을 분리해서 보여주기 위한 코드입니다.\n",
    "print(A>=B)\n",
    "print('\\n','#'*30, f\"{'A <= B':^15s}\" , '#' * 30, '\\n') # 출력되는 결과들을 분리해서 보여주기 위한 코드입니다.\n",
    "print(A<=B)"
   ]
  },
  {
   "cell_type": "markdown",
   "id": "af5f8a0f-991a-408b-b145-ecd0e5253223",
   "metadata": {},
   "source": [
    "### **💯 연습문제를 풀어봅시다**\n",
    "\n"
   ]
  },
  {
   "cell_type": "markdown",
   "id": "47a105bf-0730-44fa-991b-8b6d11cda8fe",
   "metadata": {
    "tags": []
   },
   "source": [
    "1. <a class=\"jcecodle-mk jcecodle-mk__problem-chip\" data-problem-id=\"FUaGcGR4Uj0\" href='#jce-judge/open/FUaGcGR4Uj0' target='_self'><span>판다스 - 데이터 간 비교연산 (숫자)(1)</span></a>\n",
    "\n",
    "2. <a class=\"jcecodle-mk jcecodle-mk__problem-chip\" data-problem-id=\"P9vVm3ZQdNY\" href='#jce-judge/open/P9vVm3ZQdNY' target='_self'><span>다른 숫자</span></a>\n",
    "\n",
    "3. <a class=\"jcecodle-mk jcecodle-mk__problem-chip\" data-problem-id=\"c_ZV7Png7h4\" href='#jce-judge/open/c_ZV7Png7h4' target='_self'><span>같은 숫자</span></a>\n",
    "\n",
    "4. <a class=\"jcecodle-mk jcecodle-mk__problem-chip\" data-problem-id=\"_dhAAA7XWkM\" href='#jce-judge/open/_dhAAA7XWkM' target='_self'><span>판다스 - 데이터 간 비교연산 (숫자) (2)</span></a>\n",
    "\n",
    "5. <a class=\"jcecodle-mk jcecodle-mk__problem-chip\" data-problem-id=\"0a0cgdPrpIE\" href='#jce-judge/open/0a0cgdPrpIE' target='_self'><span>더 큰 데이터</span></a>\n",
    "\n",
    "6. <a class=\"jcecodle-mk jcecodle-mk__problem-chip\" data-problem-id=\"zgWKHWDCxkk\" href='#jce-judge/open/zgWKHWDCxkk' target='_self'><span>크거나 같은 데이터</span></a>\n",
    "\n",
    "7. <a class=\"jcecodle-mk jcecodle-mk__problem-chip\" data-problem-id=\"UH1YOIZHn4c\" href='#jce-judge/open/UH1YOIZHn4c' target='_self'><span>판다스 - 데이터 간 비교연산 (문자)</span></a>\n",
    "\n",
    "8. <a class=\"jcecodle-mk jcecodle-mk__problem-chip\" data-problem-id=\"cCyTQJsBzNE\" href='#jce-judge/open/cCyTQJsBzNE' target='_self'><span>다른 문자</span></a>\n",
    "\n",
    "9. <a class=\"jcecodle-mk jcecodle-mk__problem-chip\" data-problem-id=\"fr9NIKOJ1Sk\" href='#jce-judge/open/fr9NIKOJ1Sk' target='_self'><span>같은 문자</span></a>\n"
   ]
  }
 ],
 "metadata": {
  "kernelspec": {
   "display_name": "Python 3 (ipykernel)",
   "language": "python",
   "name": "python3"
  },
  "language_info": {
   "codemirror_mode": {
    "name": "ipython",
    "version": 3
   },
   "file_extension": ".py",
   "mimetype": "text/x-python",
   "name": "python",
   "nbconvert_exporter": "python",
   "pygments_lexer": "ipython3",
   "version": "3.8.10"
  }
 },
 "nbformat": 4,
 "nbformat_minor": 5
}
