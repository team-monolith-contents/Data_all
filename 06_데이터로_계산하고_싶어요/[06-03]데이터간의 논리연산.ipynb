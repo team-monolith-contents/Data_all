{
 "cells": [
  {
   "cell_type": "markdown",
   "id": "727ea7a9-bac0-4bb3-afbc-4981950e3fd1",
   "metadata": {
    "tags": []
   },
   "source": [
    "# **[5-3] 데이터간의 논리연산**"
   ]
  },
  {
   "cell_type": "markdown",
   "id": "0a5448d2-a09e-484c-adf2-6c2e5d0232b8",
   "metadata": {
    "tags": []
   },
   "source": [
    "## **🎯 학습 목표**\n",
    "**Pandas를 사용해 시리즈와 시리즈의 논리연산, 데이터프레임과 데이터프레임의 논리연산을 할 수 있습니다.**"
   ]
  },
  {
   "cell_type": "markdown",
   "id": "01cb348d-d551-4559-910d-6d97d46c0385",
   "metadata": {},
   "source": [
    "---"
   ]
  },
  {
   "cell_type": "markdown",
   "id": "b92f5efc-70ea-48d9-ac9a-205cdcced460",
   "metadata": {
    "jp-MarkdownHeadingCollapsed": true,
    "tags": []
   },
   "source": [
    "이번 시간에는 시리즈, 데이터프레임 간의 논리 연산을 사용하는 방법을 배웁니다."
   ]
  },
  {
   "cell_type": "markdown",
   "id": "b7354505-63d5-42fa-b811-c08f23915b94",
   "metadata": {
    "tags": []
   },
   "source": [
    "## 열, 인덱스가 같은 경우의 논리연산\n",
    "\n",
    "논리연산은 참, 거짓 두가지 값을 가지고 할 수 있는 연산들을 말합니다.  \n",
    "`and`, `or`, `not` 등이 포함됩니다.\n",
    "\n",
    "> **시리즈의 논리연산**\n",
    ">\n",
    "> - **and** : Series1 & Series2 \n",
    "> - **or** : Series1 | Series2\n",
    "> - **not** : ~Series1\n",
    "> - **xor** : Series1 ^ Series2  \n",
    " \n",
    "> **데이터프레임의 논리연산**\n",
    ">\n",
    "> - **and** : DataFrame1 & DataFrame2 \n",
    "> - **or** : DataFrame1 | DataFrame2\n",
    "> - **not** : ~DataFrame1\n",
    "> - **xor** : DataFrame1 ^ DataFrame2  \n",
    "\n",
    "<table>\n",
    "<tr>\n",
    "    <th><img src=\"https://tmn-bucket-materials-all.s3.ap-northeast-2.amazonaws.com/image/pandas/material_05-10.png\" width=\"700\"></th>\n",
    "</tr>\n",
    "<tr>\n",
    "    <th>시리즈간의 논리연산</th>\n",
    "</tr>\n",
    "</table>\n",
    "\n",
    "<table>\n",
    "<tr>\n",
    "    <th><img src=\"https://tmn-bucket-materials-all.s3.ap-northeast-2.amazonaws.com/image/pandas/material_05-11.png\" width=\"700\"></th>\n",
    "    </tr>\n",
    "<tr>\n",
    "    <th>데이터프레임간의 논리연산</th>\n",
    "</tr>\n",
    "</table>\n"
   ]
  },
  {
   "cell_type": "code",
   "execution_count": null,
   "id": "e0033905-2aac-4312-acd7-95bfcd63f0e5",
   "metadata": {},
   "outputs": [],
   "source": [
    "# 예제_1_크기와_인덱스가_같은_시리즈_사이의_논리연산\n",
    "\n",
    "import pandas as pd\n",
    "\n",
    "A = pd.Series([True,False,True,False])\n",
    "B = pd.Series([True,True,False,False])\n",
    "\n",
    "print('#'*30, f\"{'A':^15s}\" , '#' * 30, '\\n') # 출력되는 결과들을 분리해서 보여주기 위한 코드입니다.\n",
    "print(A)\n",
    "print('\\n','#'*30, f\"{'B':^15s}\" , '#' * 30, '\\n') # 출력되는 결과들을 분리해서 보여주기 위한 코드입니다.\n",
    "print(B)\n",
    "print('\\n','#'*30, f\"{'A & B':^15s}\" , '#' * 30, '\\n') # 출력되는 결과들을 분리해서 보여주기 위한 코드입니다.\n",
    "print(A&B)\n",
    "print('\\n','#'*30, f\"{'A | B':^15s}\" , '#' * 30, '\\n') # 출력되는 결과들을 분리해서 보여주기 위한 코드입니다.\n",
    "print(A|B)\n",
    "print('\\n','#'*30, f\"{'~A':^15s}\" , '#' * 30, '\\n') # 출력되는 결과들을 분리해서 보여주기 위한 코드입니다.\n",
    "print(~A)\n",
    "print('\\n','#'*30, f\"{'A ^ B':^15s}\" , '#' * 30, '\\n') # 출력되는 결과들을 분리해서 보여주기 위한 코드입니다.\n",
    "print(A^B)"
   ]
  },
  {
   "cell_type": "code",
   "execution_count": null,
   "id": "08f9df58-e381-4a7d-8842-9c3c48c4953b",
   "metadata": {},
   "outputs": [],
   "source": [
    "# 예제_2_형태와_인덱스_열이_같은_데이터프레임_사이의_논리연산\n",
    "\n",
    "import pandas as pd\n",
    "\n",
    "A = pd.DataFrame([[True,False],[True,False]])\n",
    "B = pd.DataFrame([[True,True],[False,False]])\n",
    "\n",
    "print('#'*30, f\"{'A':^15s}\" , '#' * 30, '\\n') # 출력되는 결과들을 분리해서 보여주기 위한 코드입니다.\n",
    "print(A)\n",
    "print('\\n','#'*30, f\"{'B':^15s}\" , '#' * 30, '\\n') # 출력되는 결과들을 분리해서 보여주기 위한 코드입니다.\n",
    "print(B)\n",
    "print('\\n','#'*30, f\"{'A & B':^15s}\" , '#' * 30, '\\n') # 출력되는 결과들을 분리해서 보여주기 위한 코드입니다.\n",
    "print(A&B)\n",
    "print('\\n','#'*30, f\"{'A | B':^15s}\" , '#' * 30, '\\n') # 출력되는 결과들을 분리해서 보여주기 위한 코드입니다.\n",
    "print(A|B)\n",
    "print('\\n','#'*30, f\"{'~A':^15s}\" , '#' * 30, '\\n') # 출력되는 결과들을 분리해서 보여주기 위한 코드입니다.\n",
    "print(~A)\n",
    "print('\\n','#'*30, f\"{'A ^ B':^15s}\" , '#' * 30, '\\n') # 출력되는 결과들을 분리해서 보여주기 위한 코드입니다.\n",
    "print(A^B)"
   ]
  },
  {
   "cell_type": "markdown",
   "id": "772fa5e0-2a58-4077-9a18-8ad254b1f20e",
   "metadata": {},
   "source": [
    "## 열, 인덱스가 다른 경우의 논리연산\n",
    "\n",
    "열, 인덱스가 다른 경우에도 마찬가지의 방법으로 논리연산을 할 수 있습니다.  \n",
    "시리즈, 데이터프레임 모두 같은 방식으로 연산이 가능합니다.  \n",
    "Pandas의 데이터 간 논리연산은 시리즈, 데이터프레임의 모양이 같다고 해서 같은 위치의 데이터끼리 연산되지는 않습니다.  \n",
    "이 때에는 같은 인덱스와 같은 열이름을 가진 데이터끼리 연산됩니다.\n",
    "\n",
    "> **✏️ 알아봅시다(NOTE): NaN은 어떻게 계산되나요?(논리연산)**\n",
    ">\n",
    "> NaN과의 논리 연산은 한가지 경우를 제외하고 모두 False를 결과로 내보냅니다.  \n",
    "> a | b 에서 a의 값이 True인 경우 유일하게 `True`를 결과로 내보냅니다.  \n",
    "> 이는 `or` 연산에서 or 앞에 나오는 변수가 True이면 뒤에 나오는 변수를 보지 않고 True를 반환하는 파이썬의 규칙 때문입니다.\n",
    "\n",
    "> **⚠️ 주의(WARNING):**\n",
    ">\n",
    "> 열, 인덱스가 다를 때 논리연산을 하게되면 두 데이터프레임을 같은 행과 열을 가지도록 NaN 값을 채워넣고 연산을 하게됩니다.  \n",
    "> 이에 따라  앞에서 언급한 NaN과의 논리연산 결과 값에 해당하는 값이 결과로 나오게됩니다.\n",
    "\n",
    "두 시리즈, 데이터프레임의 크기가 다른 경우에도 마찬가지로 인덱스와 열을 기반으로 연산됩니다. "
   ]
  },
  {
   "cell_type": "code",
   "execution_count": null,
   "id": "a12055d4-a2c3-4c22-ba72-aaa2a916568f",
   "metadata": {},
   "outputs": [],
   "source": [
    "# 예제_3_크기는_같지만_인덱스가_다른_시리즈_사이의_논리연산\n",
    "\n",
    "import pandas as pd\n",
    "\n",
    "A = pd.Series([True,False,True,False], index = [0,1,2,3])\n",
    "B = pd.Series([True,True,False,False], index = [4,3,2,1])\n",
    "\n",
    "print('#'*30, f\"{'A':^15s}\" , '#' * 30, '\\n') # 출력되는 결과들을 분리해서 보여주기 위한 코드입니다.\n",
    "print(A)\n",
    "print('\\n','#'*30, f\"{'B':^15s}\" , '#' * 30, '\\n') # 출력되는 결과들을 분리해서 보여주기 위한 코드입니다.\n",
    "print(B)\n",
    "print('\\n','#'*30, f\"{'A & B':^15s}\" , '#' * 30, '\\n') # 출력되는 결과들을 분리해서 보여주기 위한 코드입니다.\n",
    "print(A&B)\n",
    "print('\\n','#'*30, f\"{'A | B':^15s}\" , '#' * 30, '\\n') # 출력되는 결과들을 분리해서 보여주기 위한 코드입니다.\n",
    "print(A|B)\n",
    "print('\\n','#'*30, f\"{'~A':^15s}\" , '#' * 30, '\\n') # 출력되는 결과들을 분리해서 보여주기 위한 코드입니다.\n",
    "print(~A)\n",
    "print('\\n','#'*30, f\"{'A ^ B':^15s}\" , '#' * 30, '\\n') # 출력되는 결과들을 분리해서 보여주기 위한 코드입니다.\n",
    "print(A^B)"
   ]
  },
  {
   "cell_type": "code",
   "execution_count": null,
   "id": "290ea4d6-d612-4891-8cb4-d24f2de697f8",
   "metadata": {},
   "outputs": [],
   "source": [
    "# 예제_4_형태는_같지만_인덱스_열이_다른_데이터프레임_사이의_논리연산\n",
    "\n",
    "import pandas as pd\n",
    "\n",
    "A = pd.DataFrame([[True,False],[True,False]], index = [0,1], columns = ['A','B'])\n",
    "B = pd.DataFrame([[True,True],[False,False]], index = [0,2], columns = ['A','C'])\n",
    "\n",
    "print('#'*30, f\"{'A':^15s}\" , '#' * 30, '\\n') # 출력되는 결과들을 분리해서 보여주기 위한 코드입니다.\n",
    "print(A)\n",
    "print('\\n','#'*30, f\"{'B':^15s}\" , '#' * 30, '\\n') # 출력되는 결과들을 분리해서 보여주기 위한 코드입니다.\n",
    "print(B)\n",
    "print('\\n','#'*30, f\"{'A & B':^15s}\" , '#' * 30, '\\n') # 출력되는 결과들을 분리해서 보여주기 위한 코드입니다.\n",
    "print(A&B)\n",
    "print('\\n','#'*30, f\"{'A | B':^15s}\" , '#' * 30, '\\n') # 출력되는 결과들을 분리해서 보여주기 위한 코드입니다.\n",
    "print(A|B)\n",
    "print('\\n','#'*30, f\"{'~A':^15s}\" , '#' * 30, '\\n') # 출력되는 결과들을 분리해서 보여주기 위한 코드입니다.\n",
    "print(~A)\n",
    "print('\\n','#'*30, f\"{'A ^ B':^15s}\" , '#' * 30, '\\n') # 출력되는 결과들을 분리해서 보여주기 위한 코드입니다.\n",
    "print(A^B)"
   ]
  },
  {
   "cell_type": "code",
   "execution_count": null,
   "id": "64379eab-189e-45d6-aaad-7fef2acde0a3",
   "metadata": {},
   "outputs": [],
   "source": [
    "# 예제_5_형태가_다른_데이터프레임_사이의_논리연산\n",
    "\n",
    "import pandas as pd\n",
    "\n",
    "A = pd.DataFrame([[True,False],[True,False],[True,False]])\n",
    "B = pd.DataFrame([[True,True,True],[False,False,False]])\n",
    "\n",
    "print('#'*30, f\"{'A':^15s}\" , '#' * 30, '\\n') # 출력되는 결과들을 분리해서 보여주기 위한 코드입니다.\n",
    "print(A)\n",
    "print('\\n','#'*30, f\"{'B':^15s}\" , '#' * 30, '\\n') # 출력되는 결과들을 분리해서 보여주기 위한 코드입니다.\n",
    "print(B)\n",
    "print('\\n','#'*30, f\"{'A & B':^15s}\" , '#' * 30, '\\n') # 출력되는 결과들을 분리해서 보여주기 위한 코드입니다.\n",
    "print(A&B)\n",
    "print('\\n','#'*30, f\"{'A | B':^15s}\" , '#' * 30, '\\n') # 출력되는 결과들을 분리해서 보여주기 위한 코드입니다.\n",
    "print(A|B)\n",
    "print('\\n','#'*30, f\"{'~A':^15s}\" , '#' * 30, '\\n') # 출력되는 결과들을 분리해서 보여주기 위한 코드입니다.\n",
    "print(~A)\n",
    "print('\\n','#'*30, f\"{'A ^ B':^15s}\" , '#' * 30, '\\n') # 출력되는 결과들을 분리해서 보여주기 위한 코드입니다.\n",
    "print(A^B)"
   ]
  },
  {
   "cell_type": "markdown",
   "id": "92a82811-98cb-4d16-a2ce-e714d3d3a10a",
   "metadata": {},
   "source": [
    "### **💯 연습문제를 풀어봅시다**\n",
    "\n"
   ]
  },
  {
   "cell_type": "markdown",
   "id": "38db1753-0a8b-43fa-9c4f-02b99266935c",
   "metadata": {
    "tags": []
   },
   "source": [
    "1. <a class=\"jcecodle-mk jcecodle-mk__problem-chip\" data-problem-id=\"FGg5iMJx6Yg\" href='#jce-judge/open/FGg5iMJx6Yg' target='_self'><span>판다스 기초 - 시리즈의 논리연산</span></a>\n",
    "\n",
    "2. <a class=\"jcecodle-mk jcecodle-mk__problem-chip\" data-problem-id=\"zfwI4RCE4C0\" href='#jce-judge/open/zfwI4RCE4C0' target='_self'><span>판다스 기초 - 시리즈의 비교연산과 논리연산</span></a>\n",
    "\n",
    "3. <a class=\"jcecodle-mk jcecodle-mk__problem-chip\" data-problem-id=\"Szt8scMA26c\" href='#jce-judge/open/Szt8scMA26c' target='_self'><span>판다스 기초 - 데이터 프레임의 논리연산</span></a>\n",
    "\n",
    "4. <a class=\"jcecodle-mk jcecodle-mk__problem-chip\" data-problem-id=\"pRVRIoK0ka4\" href='#jce-judge/open/pRVRIoK0ka4' target='_self'><span>판다스 기초 - 데이터 프레임의 비교연산과 논리연산</span></a>\n",
    "\n",
    "5. <a class=\"jcecodle-mk jcecodle-mk__problem-chip\" data-problem-id=\"sE5fWvumZ3M\" href='#jce-judge/open/sE5fWvumZ3M' target='_self'><span>판다스 기초 - 인덱스가 다른 경우의 논리연산(시리즈)</span></a>\n",
    "\n",
    "6. <a class=\"jcecodle-mk jcecodle-mk__problem-chip\" data-problem-id=\"VUZjN0dOmIA\" href='#jce-judge/open/VUZjN0dOmIA' target='_self'><span>판다스 기초 - 인덱스가 다른 경우의 논리연산(데이터 프레임)</span></a>\n"
   ]
  }
 ],
 "metadata": {
  "kernelspec": {
   "display_name": "Python 3 (ipykernel)",
   "language": "python",
   "name": "python3"
  },
  "language_info": {
   "codemirror_mode": {
    "name": "ipython",
    "version": 3
   },
   "file_extension": ".py",
   "mimetype": "text/x-python",
   "name": "python",
   "nbconvert_exporter": "python",
   "pygments_lexer": "ipython3",
   "version": "3.8.10"
  }
 },
 "nbformat": 4,
 "nbformat_minor": 5
}
