{
 "cells": [
  {
   "cell_type": "markdown",
   "id": "727ea7a9-bac0-4bb3-afbc-4981950e3fd1",
   "metadata": {
    "tags": []
   },
   "source": [
    "# **[7-5] 여러 데이터 합치기**"
   ]
  },
  {
   "cell_type": "markdown",
   "id": "0a5448d2-a09e-484c-adf2-6c2e5d0232b8",
   "metadata": {
    "tags": []
   },
   "source": [
    "## **🎯 학습 목표**\n",
    "**여러 데이터를 합쳐봅시다.**"
   ]
  },
  {
   "cell_type": "markdown",
   "id": "01cb348d-d551-4559-910d-6d97d46c0385",
   "metadata": {},
   "source": [
    "---"
   ]
  },
  {
   "cell_type": "markdown",
   "id": "f802fed5-cbe6-4984-85f8-1efb8df138e9",
   "metadata": {},
   "source": [
    "여러 데이터를 합치거나 기존의 데이터에 연산 결과 등의 새로운 정보를 추가하고 싶을 때가 있습니다.  \n",
    "`concat()` 함수는 Pandas 데이터들을 연결하여 하나의 데이터로 만드는데 사용됩니다.   \n",
    "\n",
    "> **🔨 함수(FUNCTIONS):**\n",
    ">\n",
    "> **`pd.concat(objs = 데이터_리스트, axis = 0_또는_1, ignore_index = True_또는_False)`**  \n",
    "> 매개변수로 받은 리스트에 포함된 데이터프레임, 시리즈들을 합쳐줍니다.\n",
    ">> **매개변수(parameter)**\n",
    ">>\n",
    ">> **`objs`** : 합치고 싶은 시리즈, 데이터프레임들의 리스트입니다.  \n",
    ">> **`axis`** : 0 또는 1이 전달됩니다.   \n",
    ">> 0일 경우 행 방향으로 시리즈, 데이터프레임을 합치고 1일 경우 열 방향으로 시리즈, 데이터프레임을 합칩니다.   \n",
    ">> 기본 값은 0으로 행 방향으로 합칩니다.  \n",
    ">> **`ignore_index`** : True 또는 False값이 전달됩니다.  \n",
    ">> True일때는 열방향으로 합하면 열이름을, 행방향으로 합하면 행 인덱스를 초기화합니다.  \n",
    ">> 기본 값 은 False로 행 인덱스나 열이름을 초기화 하지 않습니다.  \n",
    "> ---\n",
    "\n",
    "\n"
   ]
  },
  {
   "cell_type": "markdown",
   "id": "d0a70460-3cf3-497b-8020-896bc76b4376",
   "metadata": {
    "tags": []
   },
   "source": [
    "## 행 방향으로 시리즈, 데이터프레임 합치기\n",
    "\n",
    "`concat(axis = 0)` 함수를 이용하면 시리즈, 데이터프레임을 행 방향으로 합칠 수 있습니다.\n",
    "\n",
    "> **⚠️ 주의(WARNING):**\n",
    ">\n",
    "> 시리즈, 데이터프레임을 행 방향으로 합칠 때는 모든 데이터들의 열들을 포함하도록 각 데이터들을 NaN으로 채우고 데이터를 합칩니다.\n",
    "\n",
    "> **⚠️ 주의(WARNING):**\n",
    ">\n",
    "> 중복된 행 인덱스가 있더라도 하나로 합쳐지지 않습니다.\n",
    "\n",
    "`pd.concat([시리즈, 시리즈], axis = 0)` 으로 시리즈들을 행 방향으로 합칠 수 있습니다.  \n",
    "\n",
    "<table>\n",
    "<tr>\n",
    "    <th><img src=\"https://tmn-bucket-materials-all.s3.ap-northeast-2.amazonaws.com/image/pandas/material_07_19.gif\" width=\"750\"></th>\n",
    "</tr>\n",
    "<tr>\n",
    "    <th>concat() 함수로 행방향으로 시리즈 합치기</th>\n",
    "</tr>\n",
    "</table> \n",
    "\n",
    "`pd.concat([데이터프레임, 데이터프레임], axis = 0)` 으로 데이터프레임들을 행 방향으로 합칠 수 있습니다.  \n",
    "\n",
    "<table>\n",
    "<tr>\n",
    "    <th><img src=\"https://tmn-bucket-materials-all.s3.ap-northeast-2.amazonaws.com/image/pandas/material_07_20.gif\" width=\"750\"></th>\n",
    "</tr>\n",
    "<tr>\n",
    "    <th>concat() 함수로 행방향으로 데이터프레임 합치기</th>\n",
    "</tr>\n",
    "</table>\n",
    "\n",
    "`pd.concat([데이터프레임, 데이터프레임], axis = 0, ignore_index = True)` 으로 행 인덱스들을 초기화 할 수 있습니다.  \n",
    "\n",
    "<table>\n",
    "<tr>\n",
    "    <th><img src=\"https://tmn-bucket-materials-all.s3.ap-northeast-2.amazonaws.com/image/pandas/material_07_21.gif\" width=\"750\"></th>\n",
    "</tr>\n",
    "<tr>\n",
    "    <th>concat() 함수로 행방향으로 데이터프레임 합치고 인덱스 초기화 하기</th>\n",
    "</tr>\n",
    "</table>\n",
    " "
   ]
  },
  {
   "cell_type": "code",
   "execution_count": null,
   "id": "0cc85def-34ce-4f34-8aef-a8350f8898f7",
   "metadata": {
    "tags": []
   },
   "outputs": [],
   "source": [
    "# 예제_1_시리즈와_시리즈_행_방향으로_합치기\n",
    "\n",
    "import pandas as pd\n",
    "import random\n",
    "\n",
    "A = pd.Series([1,2,3])\n",
    "B = pd.Series([4,5,6])\n",
    "\n",
    "print('#'*30, f\"{'A':^15s}\" , '#' * 30, '\\n') # 출력되는 결과들을 분리해서 보여주기 위한 코드입니다.\n",
    "print(A)\n",
    "print('#'*30, f\"{'B':^15s}\" , '#' * 30, '\\n') # 출력되는 결과들을 분리해서 보여주기 위한 코드입니다.\n",
    "print(B)\n",
    "print('\\n','#'*30, \"{:^15s}\".format('pd.concat([A,B])') , '#' * 30, '\\n') # 출력되는 결과들을 분리해서 보여주기 위한 코드입니다.\n",
    "print(pd.concat([A,B]))"
   ]
  },
  {
   "cell_type": "code",
   "execution_count": null,
   "id": "c1df24dc-8f48-47f7-9685-ea19e773c114",
   "metadata": {
    "tags": []
   },
   "outputs": [],
   "source": [
    "# 예제_2_시리즈와_데이터프레임_행_방향으로_합치기\n",
    "\n",
    "import pandas as pd\n",
    "import random\n",
    "\n",
    "A = pd.Series([1,2,3])\n",
    "B = pd.DataFrame([[4,5],[6,7],[8,9]])\n",
    "\n",
    "print('#'*30, f\"{'A':^15s}\" , '#' * 30, '\\n') # 출력되는 결과들을 분리해서 보여주기 위한 코드입니다.\n",
    "print(A)\n",
    "print('#'*30, f\"{'B':^15s}\" , '#' * 30, '\\n') # 출력되는 결과들을 분리해서 보여주기 위한 코드입니다.\n",
    "print(B)\n",
    "print('\\n','#'*30, \"{:^15s}\".format('pd.concat([A,B])') , '#' * 30, '\\n') # 출력되는 결과들을 분리해서 보여주기 위한 코드입니다.\n",
    "print(pd.concat([A,B]))"
   ]
  },
  {
   "cell_type": "code",
   "execution_count": null,
   "id": "875cde8a-c1df-48d2-b212-b9a02a722cb7",
   "metadata": {
    "tags": []
   },
   "outputs": [],
   "source": [
    "# 예제_3_데이터프레임과_데이터프레임_행_방향으로_합치기\n",
    "\n",
    "import pandas as pd\n",
    "import random\n",
    "\n",
    "A = pd.DataFrame([[1,2],[3,4],[5,6]])\n",
    "B = pd.DataFrame([[7,8,9],[10,11,12]])\n",
    "\n",
    "print('#'*30, f\"{'A':^15s}\" , '#' * 30, '\\n') # 출력되는 결과들을 분리해서 보여주기 위한 코드입니다.\n",
    "print(A)\n",
    "print('#'*30, f\"{'B':^15s}\" , '#' * 30, '\\n') # 출력되는 결과들을 분리해서 보여주기 위한 코드입니다.\n",
    "print(B)\n",
    "print('\\n','#'*30, \"{:^15s}\".format('pd.concat([A,B])') , '#' * 30, '\\n') # 출력되는 결과들을 분리해서 보여주기 위한 코드입니다.\n",
    "print(pd.concat([A,B]))"
   ]
  },
  {
   "cell_type": "code",
   "execution_count": null,
   "id": "ca7ce02a-2358-4b35-ba3d-8746a8d6cb06",
   "metadata": {
    "tags": []
   },
   "outputs": [],
   "source": [
    "# 예제_4_데이터프레임과_데이터프레임_행_방향으로_합치고_인덱스_초기화\n",
    "\n",
    "import pandas as pd\n",
    "import random\n",
    "\n",
    "A = pd.DataFrame([[1,2],[3,4],[5,6]])\n",
    "B = pd.DataFrame([[7,8,9],[10,11,12]])\n",
    "\n",
    "print('#'*30, f\"{'A':^15s}\" , '#' * 30, '\\n') # 출력되는 결과들을 분리해서 보여주기 위한 코드입니다.\n",
    "print(A)\n",
    "print('#'*30, f\"{'B':^15s}\" , '#' * 30, '\\n') # 출력되는 결과들을 분리해서 보여주기 위한 코드입니다.\n",
    "print(B)\n",
    "print('\\n','#'*30, \"{:^15s}\".format('pd.concat([A,B], ignore_index = True)') , '#' * 30, '\\n') # 출력되는 결과들을 분리해서 보여주기 위한 코드입니다.\n",
    "print(pd.concat([A,B], ignore_index = True))"
   ]
  },
  {
   "cell_type": "markdown",
   "id": "3726d541-0670-4e46-a489-235630ce1fcc",
   "metadata": {
    "tags": []
   },
   "source": [
    "## 열 방향으로 시리즈, 데이터프레임 합치기\n",
    "\n",
    "`concat(axis = 1)` 함수를 이용하면 시리즈, 데이터프레임을 열 방향으로 합칠 수 있습니다.\n",
    "\n",
    "> **⚠️ 주의(WARNING):**\n",
    ">\n",
    "> 시리즈, 데이터프레임을 열 방향으로 합칠 때는 모든 데이터들의 행들을 포함하도록 각 데이터들을 NaN으로 채우고 데이터를 합칩니다. \n",
    "\n",
    "> **⚠️ 주의(WARNING):**\n",
    ">\n",
    "> 중복된 열이 있더라도 하나로 합쳐지지 않습니다.\n",
    "\n",
    "`pd.concat([시리즈, 시리즈], axis = 1)` 으로 시리즈들을 열 방향으로 합칠 수 있습니다.  \n",
    "\n",
    "<table>\n",
    "<tr>\n",
    "    <th><img src=\"https://tmn-bucket-materials-all.s3.ap-northeast-2.amazonaws.com/image/pandas/material_07_22.gif\" width=\"750\"></th>\n",
    "</tr>\n",
    "<tr>\n",
    "    <th>concat() 함수로 열방향으로 시리즈 합치기</th>\n",
    "</tr>\n",
    "</table>\n",
    "\n",
    "`pd.concat([데이터프레임, 데이터프레임], axis = 1)` 으로 데이터프레임들을 열 방향으로 합칠 수 있습니다.  \n",
    "\n",
    "<table>\n",
    "<tr>\n",
    "    <th><img src=\"https://tmn-bucket-materials-all.s3.ap-northeast-2.amazonaws.com/image/pandas/material_07_23.gif\" width=\"750\"></th>\n",
    "</tr>\n",
    "<tr>\n",
    "    <th>concat() 함수로 열방향으로 데이터프레임 합치기</th>\n",
    "</tr>\n",
    "</table>\n",
    "\n",
    "`pd.concat([데이터프레임, 데이터프레임], axis = 1, ignore_index = True)` 으로 데이터프레임들을 열이름을 초기화 할 수 있습니다..  \n",
    "\n",
    "<table>\n",
    "<tr>\n",
    "    <th><img src=\"https://tmn-bucket-materials-all.s3.ap-northeast-2.amazonaws.com/image/pandas/material_07_24.gif\" width=\"750\"></th>\n",
    "</tr>\n",
    "<tr>\n",
    "    <th>concat() 함수로 열방향으로 데이터프레임 합치고 열이름 초기화 하기</th>\n",
    "</tr>\n",
    "</table>"
   ]
  },
  {
   "cell_type": "code",
   "execution_count": null,
   "id": "d0a0f97d-3e6e-48d2-ab93-04f5e00d7246",
   "metadata": {
    "tags": []
   },
   "outputs": [],
   "source": [
    "# 예제_5_시리즈와_시리즈_열_방향으로_합치기\n",
    "\n",
    "import pandas as pd\n",
    "import random\n",
    "\n",
    "A = pd.Series([1,2,3])\n",
    "B = pd.Series([4,5,6])\n",
    "\n",
    "print('#'*30, f\"{'A':^15s}\" , '#' * 30, '\\n') # 출력되는 결과들을 분리해서 보여주기 위한 코드입니다.\n",
    "print(A)\n",
    "print('#'*30, f\"{'B':^15s}\" , '#' * 30, '\\n') # 출력되는 결과들을 분리해서 보여주기 위한 코드입니다.\n",
    "print(B)\n",
    "print('\\n','#'*30, \"{:^15s}\".format('pd.concat([A,B], axis = 1)') , '#' * 30, '\\n') # 출력되는 결과들을 분리해서 보여주기 위한 코드입니다.\n",
    "print(pd.concat([A,B], axis = 1))"
   ]
  },
  {
   "cell_type": "code",
   "execution_count": null,
   "id": "73a9812e-9800-41df-9a3b-ca168053bc37",
   "metadata": {
    "tags": []
   },
   "outputs": [],
   "source": [
    "# 예제_6_시리즈와_데이터프레임_열_방향으로_합치기\n",
    "\n",
    "import pandas as pd\n",
    "import random\n",
    "\n",
    "A = pd.Series([1,2,3])\n",
    "B = pd.DataFrame([[4,5],[6,7],[8,9]])\n",
    "\n",
    "print('#'*30, f\"{'A':^15s}\" , '#' * 30, '\\n') # 출력되는 결과들을 분리해서 보여주기 위한 코드입니다.\n",
    "print(A)\n",
    "print('#'*30, f\"{'B':^15s}\" , '#' * 30, '\\n') # 출력되는 결과들을 분리해서 보여주기 위한 코드입니다.\n",
    "print(B)\n",
    "print('\\n','#'*30, \"{:^15s}\".format('pd.concat([A,B], axis = 1)') , '#' * 30, '\\n') # 출력되는 결과들을 분리해서 보여주기 위한 코드입니다.\n",
    "print(pd.concat([A,B], axis = 1))"
   ]
  },
  {
   "cell_type": "code",
   "execution_count": null,
   "id": "d824d3f0-3567-47c4-9c01-c25538490ca0",
   "metadata": {
    "tags": []
   },
   "outputs": [],
   "source": [
    "# 예제_7_데이터프레임과_데이터프레임_열_방향으로_합치기\n",
    "\n",
    "import pandas as pd\n",
    "import random\n",
    "\n",
    "A = pd.DataFrame([[1,2],[3,4],[5,6]])\n",
    "B = pd.DataFrame([[7,8,9],[10,11,12]])\n",
    "\n",
    "print('#'*30, f\"{'A':^15s}\" , '#' * 30, '\\n') # 출력되는 결과들을 분리해서 보여주기 위한 코드입니다.\n",
    "print(A)\n",
    "print('#'*30, f\"{'B':^15s}\" , '#' * 30, '\\n') # 출력되는 결과들을 분리해서 보여주기 위한 코드입니다.\n",
    "print(B)\n",
    "print('\\n','#'*30, \"{:^15s}\".format('pd.concat([A,B], axis = 1)') , '#' * 30, '\\n') # 출력되는 결과들을 분리해서 보여주기 위한 코드입니다.\n",
    "print(pd.concat([A,B], axis = 1))"
   ]
  },
  {
   "cell_type": "code",
   "execution_count": null,
   "id": "62121fd2-c3b9-41fd-9232-485403eee7b6",
   "metadata": {
    "tags": []
   },
   "outputs": [],
   "source": [
    "# 예제_8_데이터프레임과_데이터프레임_열_방향으로_합치고_인덱스_초기화\n",
    "\n",
    "import pandas as pd\n",
    "import random\n",
    "\n",
    "A = pd.DataFrame([[1,2],[3,4],[5,6]])\n",
    "B = pd.DataFrame([[7,8,9],[10,11,12]])\n",
    "\n",
    "print('#'*30, f\"{'A':^15s}\" , '#' * 30, '\\n') # 출력되는 결과들을 분리해서 보여주기 위한 코드입니다.\n",
    "print(A)\n",
    "print('#'*30, f\"{'B':^15s}\" , '#' * 30, '\\n') # 출력되는 결과들을 분리해서 보여주기 위한 코드입니다.\n",
    "print(B)\n",
    "print('\\n','#'*30, \"{:^15s}\".format('pd.concat([A,B], axis = 1, ignore_index = True)') , '#' * 30, '\\n') # 출력되는 결과들을 분리해서 보여주기 위한 코드입니다.\n",
    "print(pd.concat([A,B], axis = 1, ignore_index = True))"
   ]
  },
  {
   "cell_type": "markdown",
   "id": "35fee16e-0e8b-4a0d-a3e7-fb1d038fec28",
   "metadata": {},
   "source": [
    "### **💯 연습문제를 풀어봅시다**\n",
    "\n"
   ]
  },
  {
   "cell_type": "markdown",
   "id": "626e55e9-3102-4be7-a23f-12562ed8d3b9",
   "metadata": {
    "tags": []
   },
   "source": [
    "1. <a class=\"jcecodle-mk jcecodle-mk__problem-chip\" data-problem-id=\"iJ3G7ROpeQg\" href='#jce-judge/open/iJ3G7ROpeQg' target='_self'><span>판다스 - 데이터 합치기 - 열 방향 (1)</span></a>\n",
    "\n",
    "1. <a class=\"jcecodle-mk jcecodle-mk__problem-chip\" data-problem-id=\"xgSM9U6IvM0\" href='#jce-judge/open/xgSM9U6IvM0' target='_self'><span>판다스 - 데이터 합치기 - 열 방향 (3)</span></a>\n",
    "\n",
    "2. <a class=\"jcecodle-mk jcecodle-mk__problem-chip\" data-problem-id=\"z_sxdOdbBF4\" href='#jce-judge/open/z_sxdOdbBF4' target='_self'><span>친구들 정보 합치기</span></a>\n",
    "\n",
    "3. <a class=\"jcecodle-mk jcecodle-mk__problem-chip\" data-problem-id=\"d0ns4EaJcwY\" href='#jce-judge/open/d0ns4EaJcwY' target='_self'><span>날씨 정보 합치기</span></a>\n",
    "\n",
    "\n",
    "\n",
    "2. <a class=\"jcecodle-mk jcecodle-mk__problem-chip\" data-problem-id=\"B8nXG7yv_7g\" href='#jce-judge/open/B8nXG7yv_7g' target='_self'><span>판다스 - 데이터 합치기 - 열 방향 (2)</span></a>\n",
    "\n",
    "1. <a class=\"jcecodle-mk jcecodle-mk__problem-chip\" data-problem-id=\"5GM48rolCBA\" href='#jce-judge/open/5GM48rolCBA' target='_self'><span>설문조사 결과 합치기</span></a>\n",
    "\n",
    "2. <a class=\"jcecodle-mk jcecodle-mk__problem-chip\" data-problem-id=\"IZ1qk4DGlL4\" href='#jce-judge/open/IZ1qk4DGlL4' target='_self'><span>국영수, 한국사 합치기</span></a>\n",
    "\n",
    "3. <a class=\"jcecodle-mk jcecodle-mk__problem-chip\" data-problem-id=\"VvK4p--Xuow\" href='#jce-judge/open/VvK4p--Xuow' target='_self'><span>판다스 - 데이터 합치기 - 열 방향 (4)</span></a>\n",
    "\n",
    "\n",
    "\n",
    "3. <a class=\"jcecodle-mk jcecodle-mk__problem-chip\" data-problem-id=\"jscCW3ar_No\" href='#jce-judge/open/jscCW3ar_No' target='_self'><span>판다스 - 데이터 합치기 - 행 방향 (1)</span></a>\n",
    "\n",
    "1. <a class=\"jcecodle-mk jcecodle-mk__problem-chip\" data-problem-id=\"Nv1KNnuFb0E\" href='#jce-judge/open/Nv1KNnuFb0E' target='_self'><span>판다스 - 데이터 합치기 - 행 방향 (3)</span></a>\n",
    "\n",
    "2. <a class=\"jcecodle-mk jcecodle-mk__problem-chip\" data-problem-id=\"7qcV3dTA_k8\" href='#jce-judge/open/7qcV3dTA_k8' target='_self'><span>강수 예측</span></a>\n",
    "\n",
    "3. <a class=\"jcecodle-mk jcecodle-mk__problem-chip\" data-problem-id=\"eayeQepVMBc\" href='#jce-judge/open/eayeQepVMBc' target='_self'><span>행열 바꾸기</span></a>\n",
    "\n",
    "\n",
    "\n",
    "4. <a class=\"jcecodle-mk jcecodle-mk__problem-chip\" data-problem-id=\"s9hpAThbHks\" href='#jce-judge/open/s9hpAThbHks' target='_self'><span>판다스 - 데이터 합치기 - 행 방향 (2)</span></a>\n",
    "\n",
    "\n",
    "1. <a class=\"jcecodle-mk jcecodle-mk__problem-chip\" data-problem-id=\"xJM81yYpu5Y\" href='#jce-judge/open/xJM81yYpu5Y' target='_self'><span>판다스 - 데이터 합치기 - 행 방향 (4)</span></a>\n",
    "\n",
    "2. <a class=\"jcecodle-mk jcecodle-mk__problem-chip\" data-problem-id=\"FH9W86cuDrQ\" href='#jce-judge/open/FH9W86cuDrQ' target='_self'><span>인덱스 순서대로</span></a>\n",
    "\n",
    "3. <a class=\"jcecodle-mk jcecodle-mk__problem-chip\" data-problem-id=\"2WF9lV43UKs\" href='#jce-judge/open/2WF9lV43UKs' target='_self'><span>득표수 데이터 합치기</span></a>\n",
    "\n",
    "\n",
    "\n"
   ]
  }
 ],
 "metadata": {
  "kernelspec": {
   "display_name": "Python 3 (ipykernel)",
   "language": "python",
   "name": "python3"
  },
  "language_info": {
   "codemirror_mode": {
    "name": "ipython",
    "version": 3
   },
   "file_extension": ".py",
   "mimetype": "text/x-python",
   "name": "python",
   "nbconvert_exporter": "python",
   "pygments_lexer": "ipython3",
   "version": "3.8.10"
  }
 },
 "nbformat": 4,
 "nbformat_minor": 5
}
