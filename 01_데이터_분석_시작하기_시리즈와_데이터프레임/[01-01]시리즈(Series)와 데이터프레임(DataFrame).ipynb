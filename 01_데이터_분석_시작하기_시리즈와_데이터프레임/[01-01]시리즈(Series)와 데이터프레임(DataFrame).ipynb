{
 "cells": [
  {
   "cell_type": "markdown",
   "id": "727ea7a9-bac0-4bb3-afbc-4981950e3fd1",
   "metadata": {
    "tags": []
   },
   "source": [
    "# **[1-1] 시리즈(Series)와 데이터프레임(DataFrame)**"
   ]
  },
  {
   "cell_type": "markdown",
   "id": "0a5448d2-a09e-484c-adf2-6c2e5d0232b8",
   "metadata": {
    "tags": []
   },
   "source": [
    "## **🎯 학습 목표**\n",
    "**시리즈(Series)와 데이터프레임(DataFrame)이 무엇인지 알아봅니다.**"
   ]
  },
  {
   "cell_type": "markdown",
   "id": "01cb348d-d551-4559-910d-6d97d46c0385",
   "metadata": {},
   "source": [
    "---"
   ]
  },
  {
   "cell_type": "markdown",
   "id": "cefa182a-3671-4265-9e38-e05da0367af9",
   "metadata": {
    "tags": []
   },
   "source": [
    "Pandas에서는 데이터를 표현하기 위해 2가지 자료구조를 사용합니다.  \n",
    "하나는 1차원 데이터를 표현하기 위한 `Series`이고 나머지 하나는 2차원 데이터를 표현하기 위한 `DataFrame`입니다. \n",
    "\n",
    "> - Series: 1개 열의 데이터 (1차원) </br>\n",
    "> > 활용 방법 : `pd.Series(데이터 변수)`\n",
    "> - DataFrame: 여러 Series가 합쳐진 n개 열의 데이터 (2차원)</br>\n",
    "> > 활용 방법 : `pd.DataFrame(데이터 변수)`\n",
    "\n",
    "<table>\n",
    "<tr>\n",
    "    <th><img src=\"https://tmn-bucket-materials-all.s3.ap-northeast-2.amazonaws.com/image/pandas/material_01-01.png\" width=\"750\"></th>\n",
    "</tr>\n",
    "<tr>\n",
    "    <th>판다스 시리즈의 구조</th>\n",
    "</tr>\n",
    "</table>"
   ]
  },
  {
   "cell_type": "markdown",
   "id": "c394efe4-b434-4c7c-a839-dfa9550cfcaa",
   "metadata": {},
   "source": [
    "## 시리즈(Series)와 데이터프레임(DataFrame)의 관계"
   ]
  },
  {
   "cell_type": "markdown",
   "id": "ead296da-36f9-4ea9-b396-4fa51de4e743",
   "metadata": {
    "jp-MarkdownHeadingCollapsed": true,
    "tags": []
   },
   "source": [
    "Pandas의 시리즈(Series)와 데이터프레임(DataFrame)은 포함관계에 있습니다.  \n",
    "시리즈가 모여서 데이터프레임이되고 데이터프레임이 나뉘면 시리즈가 됩니다.\n",
    "\n",
    "이후에 배울 `concat()` 함수를 통해 시리즈를 합쳐 데이터프레임을 만들 수 있습니다.  \n",
    "마찬가지로 이후에 배울 인덱싱을 사용하여 데이터프레임의 하나의 열을 가져오면 시리즈가 됩니다.  \n",
    "\n",
    "아래의 그림을 보면 데이터프레임과 시리즈의 관계를 알 수 있습니다.\n",
    "\n",
    "<table>\n",
    "<tr>\n",
    "    <th><img src=\"https://tmn-bucket-materials-all.s3.ap-northeast-2.amazonaws.com/image/pandas/material_01-06.png\" width=\"750\"></th>\n",
    "</tr>\n",
    "<tr>\n",
    "    <th>시리즈와 데이터프레임의 관계</th>\n",
    "</tr>\n",
    "</table>"
   ]
  },
  {
   "cell_type": "markdown",
   "id": "5893df26-62e4-4f44-9c9b-7845b25f32a6",
   "metadata": {},
   "source": [
    "## Pandas에서의 결측치"
   ]
  },
  {
   "cell_type": "markdown",
   "id": "85d09a51-9b89-4d95-a321-65e1696a142f",
   "metadata": {},
   "source": [
    "Pandas에서 비어있는 값을 **결측치**라고 부릅니다.  \n",
    "데이터에서는 `NaN`으로 표시합니다.  \n",
    "\n",
    "<table>\n",
    "<tr>\n",
    "    <th><img src=\"https://tmn-bucket-materials-all.s3.ap-northeast-2.amazonaws.com/image/pandas/material_01_07.gif\" width=\"750\"></th>\n",
    "</tr>\n",
    "<tr>\n",
    "    <th>시리즈와 데이터프레임의 관계</th>\n",
    "</tr>\n",
    "</table>"
   ]
  },
  {
   "cell_type": "markdown",
   "id": "33df3be9-9a67-44cb-b753-ad290aba80db",
   "metadata": {},
   "source": [
    "> **❓ QUESTIONS:**\n",
    ">\n",
    "> 데이터프레임과 시리즈의 관계를 설명해봅시다.\n"
   ]
  },
  {
   "cell_type": "raw",
   "id": "06cdb56a-bf41-47c9-9972-3839ac1898ca",
   "metadata": {},
   "source": [
    "질문에 대한 대답을 여기에 적어봅시다."
   ]
  }
 ],
 "metadata": {
  "kernelspec": {
   "display_name": "Python 3 (ipykernel)",
   "language": "python",
   "name": "python3"
  },
  "language_info": {
   "codemirror_mode": {
    "name": "ipython",
    "version": 3
   },
   "file_extension": ".py",
   "mimetype": "text/x-python",
   "name": "python",
   "nbconvert_exporter": "python",
   "pygments_lexer": "ipython3",
   "version": "3.8.10"
  }
 },
 "nbformat": 4,
 "nbformat_minor": 5
}
