{
 "cells": [
  {
   "cell_type": "markdown",
   "id": "727ea7a9-bac0-4bb3-afbc-4981950e3fd1",
   "metadata": {
    "tags": []
   },
   "source": [
    "# **[1-2] 시리즈(Series)의 구조**"
   ]
  },
  {
   "cell_type": "markdown",
   "id": "0a5448d2-a09e-484c-adf2-6c2e5d0232b8",
   "metadata": {
    "tags": []
   },
   "source": [
    "## **🎯 학습 목표**\n",
    "**시리즈(Series)의 구조에 대해 이해합니다.**"
   ]
  },
  {
   "cell_type": "markdown",
   "id": "01cb348d-d551-4559-910d-6d97d46c0385",
   "metadata": {},
   "source": [
    "---"
   ]
  },
  {
   "cell_type": "markdown",
   "id": "f8f50e14-a9a4-4c5e-9eb2-9c7d86c194a3",
   "metadata": {
    "jp-MarkdownHeadingCollapsed": true,
    "tags": []
   },
   "source": [
    "Pandas에서 시리즈(Series)는 `name`, `data`, `index`으로 구성되어 있습니다.\n",
    "\n",
    "`name`은 Series의 이름입니다.  \n",
    "`data`는 Series가 가지고 있는 데이터들입니다.  \n",
    "`index`는 Series에 포함된 데이터들의 인덱스들입니다.\n",
    "\n",
    "> **✏️ NOTE:** index가 무엇인가요?  \n",
    ">\n",
    "> 인덱스(index, 색인)은 위치 값을 뜻합니다.  \n",
    ">책을 볼 때에 목차를 통해 원하는 내용이 있는 페이지로 바로 이동할 수 있는 것 처럼 인덱스를 통해 원하는 데이터에 접근할 수 있습니다.\n",
    "\n",
    "<table>\n",
    "<tr>\n",
    "    <th><img src=\"https://tmn-bucket-materials-all.s3.ap-northeast-2.amazonaws.com/image/pandas/material_01-02.png\" width=\"750\"></th>\n",
    "</tr>\n",
    "<tr>\n",
    "    <th>판다스 시리즈의 구조</th>\n",
    "</tr>\n",
    "</table>\n",
    "\n",
    "각각 `Series.name`, `Series.data`, `Series.index` 속성들을 통해 확인할 수 있습니다.\n",
    "\n",
    "> **🎨 속성(ATTRIBUTES):**\n",
    ">\n",
    "> `Series.index` : 인덱스들을 저장하고 있는 Index 타입의 속성  \n",
    "> `Series.values` : 데이터를 저장하고 있는 Numpy.array 타입의 속성  \n",
    "> `Series.name` : 이름을 저장하고 있는 문자열 타입의 속성    \n",
    "\n",
    "> **🔨 함수(FUNCTIONS):**\n",
    ">\n",
    "> `list(인자)` : 인자가 list로 바뀔 수 있다면 리스트로 바뀐 값을 반환합니다.  \n",
    "> list로 바뀔 수 없다면 오류를 발생시킵니다.\n",
    "\n",
    "\n"
   ]
  },
  {
   "cell_type": "code",
   "execution_count": null,
   "id": "d3bfedf0-6cf9-438d-8972-a5d5ee117e4d",
   "metadata": {
    "tags": [
     "jce.problems.173.예제_01-Pandas_시리즈의_구성_확인하기"
    ]
   },
   "outputs": [],
   "source": [
    "# 예제_01_Pandas_시리즈의_구성_확인하기\n",
    "\n",
    "import pandas as pd\n",
    "\n",
    "my_series = pd.Series(['apple','banana','cat','dog','egg'],\n",
    "                      index = ['a','b','c','d','e'],\n",
    "                      name = '알파벳')\n",
    "\n",
    "print(my_series)\n",
    "print('#'*100)\n",
    "print(\"Index: \", my_series.index)\n",
    "print(\"Data: \", my_series.values)\n",
    "print(\"Name: \", my_series.name)"
   ]
  },
  {
   "cell_type": "code",
   "execution_count": null,
   "id": "170ad574-f25e-470d-b4da-f576a9215c26",
   "metadata": {
    "tags": [
     "jce.problems.173.예제_02-인덱스와_데이터의_타입_변경하기"
    ]
   },
   "outputs": [],
   "source": [
    "# 예제_02_인덱스와_데이터의_타입_변경하기\n",
    "\n",
    "import pandas as pd\n",
    "\n",
    "my_series = pd.Series(['apple','banana','cat','dog','egg'],\n",
    "                      index = ['a','b','c','d','e'],\n",
    "                      name = '알파벳')\n",
    "\n",
    "print(my_series)\n",
    "print('#'*100)\n",
    "print(\"리스트로 변환 전\")\n",
    "print(\"Index: \", list(my_series.index))\n",
    "print(\"Index type: \", type(my_series.index))\n",
    "print(\"Data: \", list(my_series.values))\n",
    "print(\"Data type: \", type(my_series.values))\n",
    "print('#'*100)\n",
    "print(\"리스트로 변환 후\")\n",
    "print(\"Index: \", list(my_series.index))\n",
    "print(\"Index type: \", type(list(my_series.index)))\n",
    "print(\"Data: \", list(my_series.values))\n",
    "print(\"Index type: \", type(list(my_series.values)))"
   ]
  },
  {
   "cell_type": "markdown",
   "id": "ad1fd070-427e-4d63-99ac-e45af2371b0a",
   "metadata": {},
   "source": [
    "> **❓ QUESTIONS:**\n",
    ">\n",
    "> 리스트(list)와 Pandas의 시리즈(Series)는 어떤 점이 비슷하고 어떤 점이 다른가요??  \n",
    ">또, 딕셔너리(dictionary)와 시리즈(Series)는 어떤 점이 비슷하고 어떤 점이 다른가요??  \n"
   ]
  },
  {
   "cell_type": "raw",
   "id": "0e4129a6-4b3a-46ee-8293-d99ea553049d",
   "metadata": {},
   "source": [
    "질문에 대한 대답을 여기에 적어봅시다."
   ]
  },
  {
   "cell_type": "markdown",
   "id": "6d52665e-160e-4e77-b1ff-ded56e8a3751",
   "metadata": {},
   "source": [
    "### **💯 연습문제를 풀어봅시다**\n",
    "\n",
    "1. <a class=\"jcecodle-mk jcecodle-mk__problem-chip\" data-problem-id=\"B67IHw_tw50\" href='#jce-judge/open/B67IHw_tw50' target='_self'><span>판다스 기초 - 시리즈 인덱스</span></a>\n",
    "\n",
    "\n",
    "2. <a class=\"jcecodle-mk jcecodle-mk__problem-chip\" data-problem-id=\"F_e2WtqdvEY\" href='#jce-judge/open/F_e2WtqdvEY' target='_self'><span>판다스 기초 - 제철과일</span></a>\n",
    "\n",
    "3. <a class=\"jcecodle-mk jcecodle-mk__problem-chip\" data-problem-id=\"X2KlLVDDz00\" href='#jce-judge/open/X2KlLVDDz00' target='_self'><span>판다스 기초 - 시리즈 이름</span></a>\n",
    "\n",
    "4. <a class=\"jcecodle-mk jcecodle-mk__problem-chip\" data-problem-id=\"4MjEBLXXxEM\" href='#jce-judge/open/4MjEBLXXxEM' target='_self'><span>판다스 기초 - 시리즈 요소 확인하기</span></a>"
   ]
  }
 ],
 "metadata": {
  "kernelspec": {
   "display_name": "Python 3 (ipykernel)",
   "language": "python",
   "name": "python3"
  },
  "language_info": {
   "codemirror_mode": {
    "name": "ipython",
    "version": 3
   },
   "file_extension": ".py",
   "mimetype": "text/x-python",
   "name": "python",
   "nbconvert_exporter": "python",
   "pygments_lexer": "ipython3",
   "version": "3.8.10"
  }
 },
 "nbformat": 4,
 "nbformat_minor": 5
}
