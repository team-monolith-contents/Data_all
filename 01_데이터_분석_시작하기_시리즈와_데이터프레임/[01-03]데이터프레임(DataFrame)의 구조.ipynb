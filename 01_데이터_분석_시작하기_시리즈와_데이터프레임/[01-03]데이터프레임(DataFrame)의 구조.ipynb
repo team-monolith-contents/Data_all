{
 "cells": [
  {
   "cell_type": "markdown",
   "id": "727ea7a9-bac0-4bb3-afbc-4981950e3fd1",
   "metadata": {
    "tags": []
   },
   "source": [
    "# **[1-3] 데이터프레임(DataFrame)의 구조**"
   ]
  },
  {
   "cell_type": "markdown",
   "id": "0a5448d2-a09e-484c-adf2-6c2e5d0232b8",
   "metadata": {
    "tags": []
   },
   "source": [
    "## **🎯 학습 목표**\n",
    "**데이터프레임(DataFrame)의 구조에 대해 이해합니다.**"
   ]
  },
  {
   "cell_type": "markdown",
   "id": "01cb348d-d551-4559-910d-6d97d46c0385",
   "metadata": {},
   "source": [
    "---"
   ]
  },
  {
   "cell_type": "markdown",
   "id": "d7a94153-cb76-40a1-bf75-73a26af3d9d6",
   "metadata": {
    "jp-MarkdownHeadingCollapsed": true,
    "tags": []
   },
   "source": [
    "Pandas에서 데이터프레임(DataFrame)은 `column`, `index`, `data`으로 구성되어 있습니다.\n",
    "\n",
    "`column`은 DataFrame에 포함된 열(column)들입니다.  \n",
    "`index`는 DataFrame에 포함된 행(row)들입니다.  \n",
    "`data`는 DataFrame이 가지고 있는 데이터들입니다. \n",
    "\n",
    "<table>\n",
    "<tr>\n",
    "    <th><img src=\"https://tmn-bucket-materials-all.s3.ap-northeast-2.amazonaws.com/image/pandas/material_01-03.png\" width=\"750\"></th>\n",
    "</tr>\n",
    "<tr>\n",
    "    <th>판다스 시리즈의 구조</th>\n",
    "</tr>\n",
    "</table>\n",
    "\n",
    "각각 `DataFrame.columns`, `DataFrame.index`, `DataFrame.values` 속성들을 통해 확인할 수 있습니다.\n",
    "\n",
    "> **🎨 속성(ATTRIBUTES):**\n",
    ">\n",
    "> `DataFrame.columns` : 열 인덱스들을 저장하고 있는 Index 타입의 속성  \n",
    "> `DataFrame.index` : 행 인덱스들을 저장하고 있는 Index 타입의 속성  \n",
    "> `DataFrame.values` : 데이터를 저장하고 있는 Numpy.array 타입의 속성\n",
    "\n",
    "시리즈(Series)와 마찬가지로 `list()` 함수로 `column`, `index`, `data`를 리스트(list) 타입으로 바꿀 수 있습니다.\n",
    "\n",
    "\n"
   ]
  },
  {
   "cell_type": "code",
   "execution_count": null,
   "id": "68d14109-d83f-4f5c-84c5-0a811749c1e1",
   "metadata": {
    "tags": [
     "jce.problems.173.예제_01-Pandas_Series의_구성_확인하기"
    ]
   },
   "outputs": [],
   "source": [
    "# 예제_01_Pandas_DataFrame의_구성_확인하기\n",
    "\n",
    "import pandas as pd\n",
    "\n",
    "my_dataframe = pd.DataFrame([['a',5,'e'],['b',6,'a'],['c',3,'t'],['d',3,'g'],['e',3,'g']],\n",
    "                         index = ['apple','banana','cat','dog','egg'],\n",
    "                         columns = [['첫글자', '길이', '마지막글자']])\n",
    "\n",
    "print(my_dataframe)\n",
    "print('#'*100)\n",
    "print(\"Index: \", my_dataframe.index)\n",
    "print(\"Column: \", my_dataframe.columns)\n",
    "print(\"Data: \", my_dataframe.values)"
   ]
  },
  {
   "cell_type": "code",
   "execution_count": null,
   "id": "4701724e-d5e1-463e-a11f-2c7d6f5cc07e",
   "metadata": {
    "tags": [
     "jce.problems.173.예제_02-Index와_Data의_타입_변경하기"
    ]
   },
   "outputs": [],
   "source": [
    "# 예제_02_DataFrame의 속성값들의_타입_변경하기\n",
    "\n",
    "import pandas as pd\n",
    "\n",
    "my_dataframe = pd.DataFrame([['a',5,'e'],['b',6,'a'],['c',3,'t'],['d',3,'g'],['e',3,'g']],\n",
    "                         index = ['apple','banana','cat','dog','egg'],\n",
    "                         columns = ['첫글자', '길이', '마지막글자'])\n",
    "\n",
    "print(my_dataframe)\n",
    "print('#'*100)\n",
    "print(\"리스트로 변환 전\")\n",
    "print(\"Column: \", my_dataframe.columns)\n",
    "print(\"Column Type: \", type(my_dataframe.columns))\n",
    "print(\"Index: \", my_dataframe.index)\n",
    "print(\"Index Type: \", type(my_dataframe.index))\n",
    "print(\"Data: \", my_dataframe.values)\n",
    "print(\"Data Type: \", type(my_dataframe.values))\n",
    "print('#'*100)\n",
    "print(\"리스트로 변환 후\")\n",
    "print(\"Column: \", list(my_dataframe.columns))\n",
    "print(\"Column Type: \", type(list(my_dataframe.columns)))\n",
    "print(\"Index: \", list(my_dataframe.index))\n",
    "print(\"Index Type: \", type(list(my_dataframe.index)))\n",
    "print(\"Data: \", list(my_dataframe.values))\n",
    "print(\"Data Type: \", type(list(my_dataframe.values)))"
   ]
  },
  {
   "cell_type": "markdown",
   "id": "e9e0e88a-69a5-422e-beed-d10b0e195390",
   "metadata": {},
   "source": [
    "> **❓ QUESTIONS:**\n",
    ">\n",
    "> 열이 하나만 존재하는 데이터프레임(DataFrame)과 시리즈(Series)는 어떤 점이 비슷하고 어떤 점이 다른가요?\n"
   ]
  },
  {
   "cell_type": "raw",
   "id": "03ed31ee-8174-4f47-b7db-2357217adbc4",
   "metadata": {},
   "source": [
    "질문에 대한 대답을 여기에 적어봅시다."
   ]
  },
  {
   "cell_type": "markdown",
   "id": "f1956aac-7da0-4dc2-bce3-a08ad3037bf2",
   "metadata": {},
   "source": [
    "### **💯 연습문제를 풀어봅시다**\n",
    "\n",
    "1. <a class=\"jcecodle-mk jcecodle-mk__problem-chip\" data-problem-id=\"Jj4KxNJ4NZE\" href='#jce-judge/open/Jj4KxNJ4NZE' target='_self'><span>판다스 기초 - column 확인하기</span></a>\n",
    "\n",
    "2. <a class=\"jcecodle-mk jcecodle-mk__problem-chip\" data-problem-id=\"nyza019DULk\" href='#jce-judge/open/nyza019DULk' target='_self'><span>판다스 기초 - data 확인하기</span></a>\n",
    "\n",
    "\n",
    "3. <a class=\"jcecodle-mk jcecodle-mk__problem-chip\" data-problem-id=\"JUghSoAbOM0\" href='#jce-judge/open/JUghSoAbOM0' target='_self'><span>판다스 기초 - index 확인하기</span></a>\n",
    "\n",
    "\n",
    "4. <a class=\"jcecodle-mk jcecodle-mk__problem-chip\" data-problem-id=\"kFRTYiv15_0\" href='#jce-judge/open/kFRTYiv15_0' target='_self'><span>판다스 기초 - 인덱스, 열, 데이터 리스트</span></a>\n",
    "\n",
    "\n",
    "5. <a class=\"jcecodle-mk jcecodle-mk__problem-chip\" data-problem-id=\"MiKGzQxQIZ4\" href='#jce-judge/open/MiKGzQxQIZ4' target='_self'><span>판다스 기초 - 데이터프레임 요소 확인</span></a>\n",
    "\n",
    "6. <a class=\"jcecodle-mk jcecodle-mk__problem-chip\" data-problem-id=\"EkzhU4G6u90\" href='#jce-judge/open/EkzhU4G6u90' target='_self'><span>판다스 기초 - 옷 색깔</span></a>\n",
    "\n"
   ]
  }
 ],
 "metadata": {
  "kernelspec": {
   "display_name": "Python 3 (ipykernel)",
   "language": "python",
   "name": "python3"
  },
  "language_info": {
   "codemirror_mode": {
    "name": "ipython",
    "version": 3
   },
   "file_extension": ".py",
   "mimetype": "text/x-python",
   "name": "python",
   "nbconvert_exporter": "python",
   "pygments_lexer": "ipython3",
   "version": "3.8.10"
  }
 },
 "nbformat": 4,
 "nbformat_minor": 5
}
