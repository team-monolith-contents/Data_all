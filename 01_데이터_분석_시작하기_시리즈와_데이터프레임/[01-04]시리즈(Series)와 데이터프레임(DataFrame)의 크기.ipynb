{
 "cells": [
  {
   "cell_type": "markdown",
   "id": "727ea7a9-bac0-4bb3-afbc-4981950e3fd1",
   "metadata": {
    "tags": []
   },
   "source": [
    "# **[1-4] 시리즈(Series)와 데이터프레임(DataFrame)의 크기**"
   ]
  },
  {
   "cell_type": "markdown",
   "id": "0a5448d2-a09e-484c-adf2-6c2e5d0232b8",
   "metadata": {
    "tags": []
   },
   "source": [
    "## **🎯 학습 목표**\n",
    "**시리즈(Series)와 데이터프레임(DataFrame)의 크기를 확인할 수 있습니다.**"
   ]
  },
  {
   "cell_type": "markdown",
   "id": "01cb348d-d551-4559-910d-6d97d46c0385",
   "metadata": {},
   "source": [
    "---"
   ]
  },
  {
   "cell_type": "markdown",
   "id": "7c0b7978-e91b-499e-835d-41b2162e7b56",
   "metadata": {
    "jp-MarkdownHeadingCollapsed": true,
    "tags": []
   },
   "source": [
    "데이터를 크기를 파악하는 것도 데이터 분석에서 중요합니다.  \n",
    "시리즈(Series)와 데이터프레임(DataFrame)에 데이터프레임(DataFrame)의 `shape` 속성을 통해 확인할 수 있습니다.\n",
    "\n",
    "> **🎨 속성(ATTRIBUTES):**\n",
    ">\n",
    "> `Series.shape` : 시리즈(Series)의 크기를 (데이터 수,) 형태의 튜플(tuple) 타입 변수를 저장하고 있습니다.  \n",
    "> `DataFrame.shape` : 데이터프레임(DataFrame)의 크기를 (데이터 수,열 수) 형태의 튜플(tuple) 타입의 변수를 저장하고 있습니다.\n",
    "\n",
    "<table>\n",
    "<tr>\n",
    "    <th><img src=\"https://tmn-bucket-materials-all.s3.ap-northeast-2.amazonaws.com/image/pandas/material_01-04.png\" width=\"500\"></th>\n",
    "    <th><img src=\"https://tmn-bucket-materials-all.s3.ap-northeast-2.amazonaws.com/image/pandas/material_01-05.png\" width=\"500\"></th>\n",
    "</tr>\n",
    "<tr>\n",
    "    <th>시리즈의 크기</th>\n",
    "    <th>데이터프레임의 크기</th>\n",
    "</tr>\n",
    "</table>\n",
    "\n",
    "> **✏️ NOTE:** 튜플(tuple)이 무엇인가요?  \n",
    ">\n",
    "> 튜플(tuple)은 리스트와 비슷한 자료형이다.  \n",
    "> 포함 된 요소들을 바꿀 수 없다는 차이점이 있습니다.  \n",
    "> i 인덱스의 요소에 접근하기 위해 리스트와 마찬가지로 tuple[i]의 방법을 사용합니다.\n",
    ">\n",
    "> `Series.shape[0]` : 시리즈(Series)에 포함된 데이터의 수  \n",
    "> `DataFrame.shape[0]` : 데이터프레임(DataFrame)에 포함된 데이터의 수  \n",
    "> `DataFrame.shape[1]` : 데이터프레임(DataFrame)의 열의 수\n",
    ">\n",
    "> 위에서 보이는 방법으로 각 요소를 사용할 수 있습니다.\n"
   ]
  },
  {
   "cell_type": "code",
   "execution_count": null,
   "id": "c0675870-69a5-4076-9e55-ac85c48030c5",
   "metadata": {},
   "outputs": [],
   "source": [
    "# 예제_01_Pandas_Series의_크기_확인하기\n",
    "\n",
    "import pandas as pd\n",
    "\n",
    "my_series = pd.Series(['apple','banana','cat','dog','egg'],\n",
    "                      index = ['a','b','c','d','e'],\n",
    "                      name = '알파벳')\n",
    "\n",
    "print(my_series)\n",
    "print('#'*100)\n",
    "print(\"크기: \", my_series.shape)\n",
    "print(\"데이터 수: \", my_series.shape[0])"
   ]
  },
  {
   "cell_type": "code",
   "execution_count": null,
   "id": "ec365f6d-bdf2-4314-b92f-2ecbb238c7d8",
   "metadata": {},
   "outputs": [],
   "source": [
    "# 예제_02_Pandas_DataFrame의_크기_확인하기\n",
    "\n",
    "import pandas as pd\n",
    "\n",
    "my_dataframe = pd.DataFrame([['a',5,'e'],['b',6,'a'],['c',3,'t'],['d',3,'g'],['e',3,'g']],\n",
    "                         index = ['apple','banana','cat','dog','egg'],\n",
    "                         columns = [['첫글자', '길이', '마지막글자']])\n",
    "\n",
    "print(my_dataframe)\n",
    "print('#'*100)\n",
    "print(\"크기: \", my_dataframe.shape)\n",
    "print(\"데이터 수: \", my_dataframe.shape[0])\n",
    "print(\"열의 수: \", my_dataframe.shape[1])"
   ]
  },
  {
   "cell_type": "markdown",
   "id": "0314cb9e-7ad1-4919-94ea-56a821c5b2e5",
   "metadata": {},
   "source": [
    "### **💯 연습문제를 풀어봅시다**\n",
    "\n",
    "1. <a class=\"jcecodle-mk jcecodle-mk__problem-chip\" data-problem-id=\"ylLF1ww29MM\" href='#jce-judge/open/ylLF1ww29MM' target='_self'><span>판다스 기초 - 시리즈 길이 확인하기</span></a>\n",
    "2. <a class=\"jcecodle-mk jcecodle-mk__problem-chip\" data-problem-id=\"clgT71wmE0Q\" href='#jce-judge/open/clgT71wmE0Q' target='_self'><span>판다스 기초 - 데이터프레임 크기 확인</span></a>\n",
    "\n",
    "3. <a class=\"jcecodle-mk jcecodle-mk__problem-chip\" data-problem-id=\"1rDA3PTfNPM\" href='#jce-judge/open/1rDA3PTfNPM' target='_self'><span>판다스 기초 - 데이터 프레임 크기 확인(2)</span></a>\n",
    "\n",
    "4. <a class=\"jcecodle-mk jcecodle-mk__problem-chip\" data-problem-id=\"xkdpBYcXK5A\" href='#jce-judge/open/xkdpBYcXK5A' target='_self'><span>판다스 기초 - 데이터의 개수</span></a>\n",
    "\n",
    "5. <a class=\"jcecodle-mk jcecodle-mk__problem-chip\" data-problem-id=\"bwEFGVtzsfw\" href='#jce-judge/open/bwEFGVtzsfw' target='_self'><span>판다스 기초 - 열의 개수</span></a>\n",
    "\n"
   ]
  }
 ],
 "metadata": {
  "kernelspec": {
   "display_name": "Python 3 (ipykernel)",
   "language": "python",
   "name": "python3"
  },
  "language_info": {
   "codemirror_mode": {
    "name": "ipython",
    "version": 3
   },
   "file_extension": ".py",
   "mimetype": "text/x-python",
   "name": "python",
   "nbconvert_exporter": "python",
   "pygments_lexer": "ipython3",
   "version": "3.8.10"
  }
 },
 "nbformat": 4,
 "nbformat_minor": 5
}
