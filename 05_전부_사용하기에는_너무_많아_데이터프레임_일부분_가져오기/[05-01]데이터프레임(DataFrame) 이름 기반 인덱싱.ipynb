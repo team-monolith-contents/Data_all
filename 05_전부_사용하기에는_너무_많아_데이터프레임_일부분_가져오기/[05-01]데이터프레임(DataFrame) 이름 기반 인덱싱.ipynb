{
 "cells": [
  {
   "cell_type": "markdown",
   "id": "727ea7a9-bac0-4bb3-afbc-4981950e3fd1",
   "metadata": {
    "tags": []
   },
   "source": [
    "# **[4-2] 데이터프레임(DataFrame) 이름 기반 인덱싱**"
   ]
  },
  {
   "cell_type": "markdown",
   "id": "0a5448d2-a09e-484c-adf2-6c2e5d0232b8",
   "metadata": {
    "tags": []
   },
   "source": [
    "## **🎯 학습 목표**\n",
    "**이름을 이용해 데이터프레임(DataFrame)에 부분적으로 접근해봅시다.**"
   ]
  },
  {
   "cell_type": "markdown",
   "id": "01cb348d-d551-4559-910d-6d97d46c0385",
   "metadata": {},
   "source": [
    "---"
   ]
  },
  {
   "cell_type": "markdown",
   "id": "1f8b24ed-3071-4afa-98ab-b5d366187a5f",
   "metadata": {
    "jp-MarkdownHeadingCollapsed": true,
    "tags": []
   },
   "source": [
    "데이터프레임도 시리즈와 마찬가지로 특정 부분만 가져와 사용할 경우가 있습니다.  \n",
    "데이터프레임에서는 특정 열, 특정 행, 특정 행과 열을 가지는 데이터를 가져올 수 있습니다.  \n",
    "\n",
    "데이터프레임을 인덱실 할 때에는 열과 행을 잘 구분해야 합니다."
   ]
  },
  {
   "cell_type": "markdown",
   "id": "637f1aa4-bdb1-43d9-ab15-4e0697d84542",
   "metadata": {
    "tags": []
   },
   "source": [
    "## 열이름 정보를 이용해 데이터프레임의 열 인덱싱하기\n",
    "\n",
    "열이름 정보를 이용해 데이터프레임의 원하는 열을 가져올 수 있습니다.\n",
    "\n",
    "1. 하나의 열 인덱싱하기  \n",
    "`DataFrame[\"열이름\"]` : 데이터프레임에서 \"열이름\"에 해당하는 열을 가져옵니다.  \n",
    "\n",
    "<table>\n",
    "<tr>\n",
    "    <th><img src=\"https://tmn-bucket-materials-all.s3.ap-northeast-2.amazonaws.com/image/pandas/material_03_08.gif\" width=\"750\"></th>\n",
    "</tr>\n",
    "<tr>\n",
    "    <th>데이터프레임에서 열이름정보 이용해 하나의 열에 인덱싱</th>\n",
    "</tr>\n",
    "</table>\n",
    "\n",
    "2. 여러개의 열 인덱싱하기  \n",
    "`DataFrame[[\"열이름1\", \"열이름2\"]]` : 데이터프레임에서 \"열이름1\", \"열이름2\"에 해당하는 열을 가져옵니다.  \n",
    "\n",
    "<table>\n",
    "<tr>\n",
    "    <th><img src=\"https://tmn-bucket-materials-all.s3.ap-northeast-2.amazonaws.com/image/pandas/material_03_09.gif\" width=\"750\"></th>\n",
    "</tr>\n",
    "<tr>\n",
    "    <th>데이터프레임에서 열이름정보 이용해 여러개의 열에 인덱싱</th>\n",
    "</tr>\n",
    "</table>\n",
    "\n",
    "> **⛔️ 오류(ERROR):**\n",
    ">\n",
    "> `DataFrame[\"열이름1\":\"열이름2\"]`으로 연속된 열에 접근할 수 없습니다.  \n",
    "> 해당 방법을 사용하면 오류가 발생합니다."
   ]
  },
  {
   "cell_type": "code",
   "execution_count": null,
   "id": "6187c510-fc84-4936-9cf5-551348765d42",
   "metadata": {
    "tags": []
   },
   "outputs": [],
   "source": [
    "# 예제_1_데이터프레임에서_하나의_열에_인덱싱\n",
    "\n",
    "import pandas as pd\n",
    "\n",
    "score = pd.read_csv('https://tmn-bucket-materials-all.s3.ap-northeast-2.amazonaws.com/data/midterm_exam_result.csv')\n",
    "score.index = score['이름']\n",
    "score = score.iloc[:,1:]\n",
    "\n",
    "print('#'*30, f\"{'score':^15s}\" , '#' * 30, '\\n') # 출력되는 결과들을 분리해서 보여주기 위한 코드입니다.\n",
    "print(score)\n",
    "print('\\n','#'*30, \"{:^15s}\".format('score[\"국어\"]') , '#' * 30, '\\n') # 출력되는 결과들을 분리해서 보여주기 위한 코드입니다.\n",
    "print(score[\"국어\"])\n",
    "print('\\n','#'*30, \"{:^15s}\".format('score[\"프로그래밍\"]') , '#' * 30, '\\n') # 출력되는 결과들을 분리해서 보여주기 위한 코드입니다.\n",
    "print(score[\"프로그래밍\"])"
   ]
  },
  {
   "cell_type": "code",
   "execution_count": null,
   "id": "427d0b46-5607-4100-9736-d3a1da2ac3d6",
   "metadata": {
    "tags": []
   },
   "outputs": [],
   "source": [
    "# 예제_2_데이터프레임에서_여러개의_열에_인덱싱\n",
    "\n",
    "import pandas as pd\n",
    "\n",
    "score = pd.read_csv('https://tmn-bucket-materials-all.s3.ap-northeast-2.amazonaws.com/data/midterm_exam_result.csv')\n",
    "score.index = score['이름']\n",
    "score = score.iloc[:,1:]\n",
    "\n",
    "print('#'*30, f\"{'score':^15s}\" , '#' * 30, '\\n') # 출력되는 결과들을 분리해서 보여주기 위한 코드입니다.\n",
    "print(score)\n",
    "print('\\n','#'*30, \"{:^15s}\".format('score[[\"국어\",\"영어\"]]') , '#' * 30, '\\n') # 출력되는 결과들을 분리해서 보여주기 위한 코드입니다.\n",
    "print(score[[\"국어\",\"영어\"]])\n",
    "print('\\n','#'*30, \"{:^15s}\".format('score[[\"국어\",\"영어\",\"프로그래밍\",\"한국사\"]]') , '#' * 30, '\\n') # 출력되는 결과들을 분리해서 보여주기 위한 코드입니다.\n",
    "print(score[[\"국어\",\"영어\",\"프로그래밍\",\"한국사\"]])"
   ]
  },
  {
   "cell_type": "markdown",
   "id": "caf93098-e910-437e-a1d0-c9b6e6e36ffe",
   "metadata": {
    "tags": []
   },
   "source": [
    "## 인덱스 정보를 이용해 데이터프레임의 행 인덱싱하기\n",
    "\n",
    "`loc`을 사용하면 데이터프레임의 인덱스 정보를 이용해 원하는 행을 가져올 수 있습니다.\n",
    "\n",
    "1. 하나의 행 인덱싱하기  \n",
    "`DataFrame.loc['인덱스']`: 데이터프레임의 '인덱스'에 해당하는 행을 가져옵니다.  \n",
    "\n",
    "<table>\n",
    "<tr>\n",
    "    <th><img src=\"https://tmn-bucket-materials-all.s3.ap-northeast-2.amazonaws.com/image/pandas/material_03_10.gif\" width=\"750\"></th>\n",
    "</tr>\n",
    "<tr>\n",
    "    <th>데이터프레임에서 인덱스 정보를 이용해 하나의 행에 인덱싱</th>\n",
    "</tr>\n",
    "</table>\n",
    "\n",
    "2. 연속된 여러개의 행 인덱싱하기  \n",
    "`DataFrame.loc['인덱스1':'인덱스2']`: 데이터프레임의 '인덱스1'부터 '인덱스2'까지 행을 데이터프레임의 형태로 가져옵니다.  \n",
    "\n",
    "<table>\n",
    "<tr>\n",
    "    <th><img src=\"https://tmn-bucket-materials-all.s3.ap-northeast-2.amazonaws.com/image/pandas/material_03_11.gif\" width=\"750\"></th>\n",
    "</tr>\n",
    "<tr>\n",
    "    <th>데이터프레임에서 인덱스 정보를 이용해 연속된 여러개의 행에 인덱싱</th>\n",
    "</tr>\n",
    "</table>\n",
    "\n",
    "3. 연속되지 않은 여러개의 행 인덱싱하기  \n",
    "`DataFrame.loc[['인덱스1', '인덱스2']]`: 데이터프레임의  '인덱스1', '인덱스2'에 해당하는 행을 데이터프레임의 형태로 가져옵니다.  \n",
    "\n",
    "<table>\n",
    "<tr>\n",
    "    <th><img src=\"https://tmn-bucket-materials-all.s3.ap-northeast-2.amazonaws.com/image/pandas/material_03_12.gif\" width=\"750\"></th>\n",
    "</tr>\n",
    "<tr>\n",
    "    <th>데이터프레임에서 인덱스 정보를 이용해 연속되지 않은 여러개의 행에 인덱싱</th>\n",
    "</tr>\n",
    "</table>"
   ]
  },
  {
   "cell_type": "code",
   "execution_count": null,
   "id": "51663e15-e1e9-4eb8-88d4-907692850d9b",
   "metadata": {
    "tags": []
   },
   "outputs": [],
   "source": [
    "# 예제_3_데이터프레임에서_하나의_행에_인덱싱\n",
    "\n",
    "import pandas as pd\n",
    "\n",
    "score = pd.read_csv('https://tmn-bucket-materials-all.s3.ap-northeast-2.amazonaws.com/data/midterm_exam_result.csv')\n",
    "score.index = score['이름']\n",
    "score = score.iloc[:,1:]\n",
    "\n",
    "print('#'*30, f\"{'score':^15s}\" , '#' * 30, '\\n') # 출력되는 결과들을 분리해서 보여주기 위한 코드입니다.\n",
    "print(score)\n",
    "print('\\n','#'*30, \"{:^15s}\".format('score.loc[\"배지우\"]') , '#' * 30, '\\n') # 출력되는 결과들을 분리해서 보여주기 위한 코드입니다.\n",
    "print(score.loc[\"배지우\"])\n",
    "print('\\n','#'*30, \"{:^15s}\".format('score.loc[\"김다은\"]') , '#' * 30, '\\n') # 출력되는 결과들을 분리해서 보여주기 위한 코드입니다.\n",
    "print(score.loc[\"김다은\"])"
   ]
  },
  {
   "cell_type": "code",
   "execution_count": null,
   "id": "eea394f1-b3a6-4ec6-b1f9-d856f74422e2",
   "metadata": {
    "tags": []
   },
   "outputs": [],
   "source": [
    "# 예제_4_데이터프레임에서_연속된_여러개의_행에_인덱싱\n",
    "\n",
    "import pandas as pd\n",
    "\n",
    "score = pd.read_csv('https://tmn-bucket-materials-all.s3.ap-northeast-2.amazonaws.com/data/midterm_exam_result.csv')\n",
    "score.index = score['이름']\n",
    "score = score.iloc[:,1:]\n",
    "\n",
    "print('#'*30, f\"{'score':^15s}\" , '#' * 30, '\\n') # 출력되는 결과들을 분리해서 보여주기 위한 코드입니다.\n",
    "print(score)\n",
    "print('\\n','#'*30, \"{:^15s}\".format('score.loc[\"배지우\":\"한지훈\"]') , '#' * 30, '\\n') # 출력되는 결과들을 분리해서 보여주기 위한 코드입니다.\n",
    "print(score.loc[\"배지우\":\"한지훈\"])\n",
    "print('\\n','#'*30, \"{:^15s}\".format('score.loc[\"김다은\":\"최하은\"]') , '#' * 30, '\\n') # 출력되는 결과들을 분리해서 보여주기 위한 코드입니다.\n",
    "print(score.loc[\"이민준\":\"최하은\"])"
   ]
  },
  {
   "cell_type": "code",
   "execution_count": null,
   "id": "ff3b2491-faa6-447f-99e0-d0e0881873bf",
   "metadata": {
    "tags": []
   },
   "outputs": [],
   "source": [
    "# 예제_5_데이터프레임에서_연속되지_않은_여러개의_행에_인덱싱\n",
    "\n",
    "import pandas as pd\n",
    "\n",
    "score = pd.read_csv('https://tmn-bucket-materials-all.s3.ap-northeast-2.amazonaws.com/data/midterm_exam_result.csv')\n",
    "score.index = score['이름']\n",
    "score = score.iloc[:,1:]\n",
    "\n",
    "print('#'*30, f\"{'score':^15s}\" , '#' * 30, '\\n') # 출력되는 결과들을 분리해서 보여주기 위한 코드입니다.\n",
    "print(score)\n",
    "print('\\n','#'*30, \"{:^15s}\".format('score.loc[[\"배지우\",\"한지훈\",\"김지후\",\"이현우\"]]') , '#' * 30, '\\n') # 출력되는 결과들을 분리해서 보여주기 위한 코드입니다.\n",
    "print(score.loc[[\"배지우\",\"한지훈\",\"김지후\",\"이현우\"]])\n",
    "print('\\n','#'*30, \"{:^15s}\".format('score.loc[[\"이민준\",\"최하은\"]]') , '#' * 30, '\\n') # 출력되는 결과들을 분리해서 보여주기 위한 코드입니다.\n",
    "print(score.loc[[\"이민준\",\"최하은\"]])"
   ]
  },
  {
   "cell_type": "markdown",
   "id": "94acb73c-db63-42b2-a6e7-12e31904fa7e",
   "metadata": {
    "tags": []
   },
   "source": [
    "## 인덱스 정보를 이용해 데이터프레임의 열과 행 동시에 인덱싱하기\n",
    "\n",
    "데이터프레임의 열과 행을 동시에 인덱싱하는 방법은 여러가지가 있습니다.  \n",
    "이번에는 `loc`을 사용해 행과 열을 동시에 인덱싱하는 방법을 배워보겠습니다.\n",
    "\n",
    "1. 행과 열 동시에 인덱싱 하기  \n",
    "`DataFrame.loc[행 인덱싱, 열 인덱싱]` : `loc`을 사용해 행과 열을 동시에 인덱싱 할 수 있습니다.  \n",
    "`행 인덱싱`, `열 인덱싱`의 순서로 지정해 주면 됩니다.  \n",
    "행, 열을 인덱싱 할 때에는 위에서 배운 3가지의 인덱싱 방법을 모두 사용할 수 있습니다.  \n",
    "\n",
    "<table>\n",
    "<tr>\n",
    "    <th><img src=\"https://tmn-bucket-materials-all.s3.ap-northeast-2.amazonaws.com/image/pandas/material_03_13.gif\" width=\"750\"></th>\n",
    "</tr>\n",
    "<tr>\n",
    "    <th>데이터프레임에서 인덱스 정보, 열이름 정보를 이용해 행과 열 동시에 인덱싱</th>\n",
    "</tr>\n",
    "</table>\n",
    "\n",
    "2. 행, 열 전체를 선택하기  \n",
    "`DataFrame.loc[행 인덱싱,:]` : 선택된 행의 모든 열을 가져옵니다.  \n",
    "`DataFrame.loc[:,열 인덱싱]` : 선택된 열의 모든 행을 가져옵니다.  \n",
    "\n",
    "<table>\n",
    "<tr>\n",
    "    <th><img src=\"https://tmn-bucket-materials-all.s3.ap-northeast-2.amazonaws.com/image/pandas/material_03_14.gif\" width=\"750\"></th>\n",
    "</tr>\n",
    "<tr>\n",
    "    <th>데이터프레임에서 loc을 사용할 때에 행, 열 전체 선택하기</th>\n",
    "</tr>\n",
    "</table>\n",
    "\n"
   ]
  },
  {
   "cell_type": "code",
   "execution_count": null,
   "id": "23d9e9cb-1c39-49e4-914d-58cf32fe22db",
   "metadata": {
    "tags": []
   },
   "outputs": [],
   "source": [
    "# 예제_6_데이터프레임에서_loc을_사용한_다양한_인덱싱\n",
    "\n",
    "import pandas as pd\n",
    "\n",
    "score = pd.read_csv('https://tmn-bucket-materials-all.s3.ap-northeast-2.amazonaws.com/data/midterm_exam_result.csv')\n",
    "score.index = score['이름']\n",
    "score = score.iloc[:,1:]\n",
    "\n",
    "print('#'*30, f\"{'score':^15s}\" , '#' * 30, '\\n') # 출력되는 결과들을 분리해서 보여주기 위한 코드입니다.\n",
    "print(score)\n",
    "print('\\n','#'*30, \"{:^15s}\".format('score.loc[\"배지우\",[\"국어\",\"영어\",\"프로그래밍\"]]') , '#' * 30, '\\n') # 출력되는 결과들을 분리해서 보여주기 위한 코드입니다.\n",
    "print(score.loc[\"배지우\",[\"국어\",\"영어\",\"프로그래밍\"]])\n",
    "print('\\n','#'*30, \"{:^15s}\".format('score.loc[[\"배지우\",\"이민준\",\"최하은\"],\"프로그래밍\"]') , '#' * 30, '\\n') # 출력되는 결과들을 분리해서 보여주기 위한 코드입니다.\n",
    "print(score.loc[[\"배지우\",\"이민준\",\"최하은\"],\"프로그래밍\"])\n",
    "print('\\n','#'*30, \"{:^15s}\".format('score.loc[[\"배지우\",\"이민준\",\"최하은\"],[\"프로그래밍\",\"국어\",\"수학\"]]') , '#' * 30, '\\n') # 출력되는 결과들을 분리해서 보여주기 위한 코드입니다.\n",
    "print(score.loc[[\"배지우\",\"이민준\",\"최하은\"],[\"프로그래밍\",\"국어\",\"수학\"]])\n",
    "print('\\n','#'*30, \"{:^15s}\".format('score.loc[[\"배지우\",\"이민준\",\"최하은\"],:]') , '#' * 30, '\\n') # 출력되는 결과들을 분리해서 보여주기 위한 코드입니다.\n",
    "print(score.loc[[\"배지우\",\"이민준\",\"최하은\"],:])\n",
    "print('\\n','#'*30, \"{:^15s}\".format('score.loc[:,[\"프로그래밍\",\"국어\",\"수학\"]]') , '#' * 30, '\\n') # 출력되는 결과들을 분리해서 보여주기 위한 코드입니다.\n",
    "print(score.loc[:,[\"프로그래밍\",\"국어\",\"수학\"]])\n",
    "print('\\n','#'*30, \"{:^15s}\".format('score.loc[:,:]') , '#' * 30, '\\n') # 출력되는 결과들을 분리해서 보여주기 위한 코드입니다.\n",
    "print(score.loc[:,:])"
   ]
  },
  {
   "cell_type": "markdown",
   "id": "6541263e-b0bd-448e-9173-79cea002c54d",
   "metadata": {},
   "source": [
    "> **❓ 생각해보기(QUESTION):**\n",
    ">\n",
    "> 어떠한 경우에 인덱싱을 통해 특정 데이터에 접근해야 할까요?"
   ]
  },
  {
   "cell_type": "raw",
   "id": "e0a1cf77-a170-4d81-b7c7-ff0d5ec9cff5",
   "metadata": {},
   "source": [
    "질문에 대한 대답을 여기에 적어봅시다."
   ]
  },
  {
   "cell_type": "markdown",
   "id": "756d2963-0414-4734-a059-f5c31968287c",
   "metadata": {},
   "source": [
    "### **💯 연습문제를 풀어봅시다**\n",
    "\n"
   ]
  },
  {
   "cell_type": "markdown",
   "id": "1721f1b2-8439-4c1f-9de9-71b3b89ef4c2",
   "metadata": {
    "tags": []
   },
   "source": [
    "1. <a class=\"jcecodle-mk jcecodle-mk__problem-chip\" data-problem-id=\"ryIJK2tzdpY\" href='#jce-judge/open/ryIJK2tzdpY' target='_self'><span>판다스 기초 5 - 데이터프레임 열 이름으로 불러오기</span></a>\n",
    "\n",
    "2. <a class=\"jcecodle-mk jcecodle-mk__problem-chip\" data-problem-id=\"hyZz6FjltlQ\" href='#jce-judge/open/hyZz6FjltlQ' target='_self'><span>탑승객 수 불러오기</span></a>\n",
    "\n",
    "3. <a class=\"jcecodle-mk jcecodle-mk__problem-chip\" data-problem-id=\"P8-2zq1pydI\" href='#jce-judge/open/P8-2zq1pydI' target='_self'><span>지출 확인하기 (1)</span></a>\n",
    "\n",
    "4. <a class=\"jcecodle-mk jcecodle-mk__problem-chip\" data-problem-id=\"R3AMh0eTzDA\" href='#jce-judge/open/R3AMh0eTzDA' target='_self'><span>판다스 기초 - 데이터프레임 열 인덱싱 (여러개)</span></a>\n",
    "\n",
    "5. <a class=\"jcecodle-mk jcecodle-mk__problem-chip\" data-problem-id=\"qSuptxQhUQ8\" href='#jce-judge/open/qSuptxQhUQ8' target='_self'><span>홀수열 불러오기</span></a>\n",
    "\n",
    "6. <a class=\"jcecodle-mk jcecodle-mk__problem-chip\" data-problem-id=\"XS2g21h31uU\" href='#jce-judge/open/XS2g21h31uU' target='_self'><span>지출 확인하기 (2)</span></a>\n",
    "\n",
    "7. <a class=\"jcecodle-mk jcecodle-mk__problem-chip\" data-problem-id=\"NPfqVcJiU2s\" href='#jce-judge/open/NPfqVcJiU2s' target='_self'><span>판다스 기초 - 데이터 프레임 행 이름으로 불러오기</span></a>\n",
    "\n",
    "8. <a class=\"jcecodle-mk jcecodle-mk__problem-chip\" data-problem-id=\"XhmHxvwG71Y\" href='#jce-judge/open/XhmHxvwG71Y' target='_self'><span>데이터 프레임 행 이름으로 불러오기 (2)</span></a>\n",
    "\n",
    "9. <a class=\"jcecodle-mk jcecodle-mk__problem-chip\" data-problem-id=\"cesVayS2x70\" href='#jce-judge/open/cesVayS2x70' target='_self'><span>둘째부터 넷째까지</span></a>\n",
    "\n",
    "10. <a class=\"jcecodle-mk jcecodle-mk__problem-chip\" data-problem-id=\"dJEltjvjDO0\" href='#jce-judge/open/dJEltjvjDO0' target='_self'><span>가족 정보 인덱싱 (1)</span></a>\n",
    "\n",
    "11. <a class=\"jcecodle-mk jcecodle-mk__problem-chip\" data-problem-id=\"V51LDQ08Vqk\" href='#jce-judge/open/V51LDQ08Vqk' target='_self'><span>판다스 기초 - 데이터프레임 2차원 인덱싱 (3)</span></a>\n",
    "\n",
    "12. <a class=\"jcecodle-mk jcecodle-mk__problem-chip\" data-problem-id=\"c-SZQmiXNi0\" href='#jce-judge/open/c-SZQmiXNi0' target='_self'><span>가족 정보 인덱싱 (2) </span></a>\n",
    "\n",
    "13. <a class=\"jcecodle-mk jcecodle-mk__problem-chip\" data-problem-id=\"Sd1hbOkQ9BA\" href='#jce-judge/open/Sd1hbOkQ9BA' target='_self'><span>데이터 통계 정보 인덱싱</span></a>\n"
   ]
  }
 ],
 "metadata": {
  "kernelspec": {
   "display_name": "Python 3 (ipykernel)",
   "language": "python",
   "name": "python3"
  },
  "language_info": {
   "codemirror_mode": {
    "name": "ipython",
    "version": 3
   },
   "file_extension": ".py",
   "mimetype": "text/x-python",
   "name": "python",
   "nbconvert_exporter": "python",
   "pygments_lexer": "ipython3",
   "version": "3.8.10"
  }
 },
 "nbformat": 4,
 "nbformat_minor": 5
}
