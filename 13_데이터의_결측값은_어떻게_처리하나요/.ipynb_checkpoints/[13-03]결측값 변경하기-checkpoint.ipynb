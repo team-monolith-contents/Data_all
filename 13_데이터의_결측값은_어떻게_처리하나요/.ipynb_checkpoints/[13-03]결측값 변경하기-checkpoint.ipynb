{
 "cells": [
  {
   "cell_type": "code",
   "execution_count": 2,
   "id": "fcfdd5f9-ed84-4b24-ad62-e43af9837768",
   "metadata": {},
   "outputs": [],
   "source": [
    "import pandas as pd"
   ]
  },
  {
   "cell_type": "markdown",
   "id": "727ea7a9-bac0-4bb3-afbc-4981950e3fd1",
   "metadata": {
    "tags": []
   },
   "source": [
    "# **[8-3] 결측값 변경하기**"
   ]
  },
  {
   "cell_type": "markdown",
   "id": "0a5448d2-a09e-484c-adf2-6c2e5d0232b8",
   "metadata": {
    "tags": []
   },
   "source": [
    "## **🎯 학습 목표**\n",
    "**데이터의 결측값을 변경할 수 있습니다.**"
   ]
  },
  {
   "cell_type": "markdown",
   "id": "01cb348d-d551-4559-910d-6d97d46c0385",
   "metadata": {},
   "source": [
    "---"
   ]
  },
  {
   "cell_type": "markdown",
   "id": "f7f394b4-866d-41b8-9f3c-a5ff7d98d6df",
   "metadata": {},
   "source": [
    "결측값이 있는 데이터는 정보가 누락되어 통계량을 구하거나 인공지능 학습에 사용될 수 없습니다.  \n",
    "결측값이 있는 데이터를 제거하는게 간단한 방법이지만 너무 많은 데이터를 삭제하게 되면 문제가 생깁니다.   \n",
    "그런때에는 결측값 자리에 새로운 데이터 값을 대체하여 사용할 수 있습니다.  \n",
    "\n",
    "> **🔨 함수(FUNCTIONS):**\n",
    ">\n",
    "> **`Series.fillna(value = 데이터)`**  \n",
    "> 결측값들을 모두 데이터로 변환합니다.\n",
    ">> **매개변수(parameter)**\n",
    ">>\n",
    ">> **`value`** : 문자열 또는 숫자 등이 전달됩니다.   \n",
    ">> 시리즈에 있는 모든 결측값들을 매개변수로 전달받은 값으로 변환합니다.\n",
    "> ---\n",
    "> **`DataFrame.fillna(value = 데이터)`**  \n",
    "> 결측값들을 모두 데이터로 변환합니다.\n",
    ">> **매개변수(parameter)**\n",
    ">>\n",
    ">> **`value`** : 문자열 또는 숫자 등이 전달됩니다.   \n",
    ">> 시리즈에 있는 모든 결측값들을 매개변수로 전달받은 값으로 변환합니다.\n",
    "> ---\n",
    "> **`DataFrame.fillna(value = 딕셔너리)`**  \n",
    "> 각 열의 결측값들을 모두 정해진 값으로 변환합니다.\n",
    ">> **매개변수(parameter)**\n",
    ">>\n",
    ">> **`value`** : 딕셔너리로 값이 전달됩니다.    \n",
    ">> 딕셔너리의 키 값에 해당하는 열의 결측값들을 딕셔너리의 밸류 값으로 변환합니다.\n",
    "> ---\n"
   ]
  },
  {
   "cell_type": "markdown",
   "id": "bb68bfd0-dd75-45d8-b6fc-420b1a452522",
   "metadata": {
    "tags": []
   },
   "source": [
    "## 결측값 확인하기\n",
    "\n",
    "`fillna()` 함수를 이용하면 결측값들을 변환할 수 있습니다.\n",
    "\n",
    "`Series.fillna(value = 값)` 로 결측값들을 모두 주어진 값으로 변환할 수 있습니다.  \n",
    "**😃Series.fillna(value = 값) 이미지😃**  \n",
    "`DataFrame.fillna(value = 값)` 로 데이터프레임에서 결측값들을 모두 주어진 값으로 변환할 수 있습니다.  \n",
    "**😃DataFrame.fillna(value = 값) 이미지😃**  \n",
    "`DataFrame.fillna(value = {딕셔너리})` 로 정해진 규칙에 따라 결측값들을 변환할 수 있습니다.  \n",
    "**😃DataFrame.fillna(value = {딕셔너리}) 이미지😃**  "
   ]
  },
  {
   "cell_type": "code",
   "execution_count": null,
   "id": "56073e44-94cf-45ee-9190-abf9d33ff78f",
   "metadata": {
    "tags": []
   },
   "outputs": [],
   "source": [
    "# Series.fillna(value = 값)"
   ]
  },
  {
   "cell_type": "code",
   "execution_count": null,
   "id": "3247d246-2af0-41e2-a0a8-0bbef00b2ba4",
   "metadata": {
    "tags": []
   },
   "outputs": [],
   "source": [
    "# DataFrame.fillna(value = 값)"
   ]
  },
  {
   "cell_type": "code",
   "execution_count": null,
   "id": "8ab8c1df-5d1d-47b5-9e11-cd9ea33964a1",
   "metadata": {
    "tags": []
   },
   "outputs": [],
   "source": [
    "# DataFrame.fillna(value = {딕셔너리})"
   ]
  },
  {
   "cell_type": "markdown",
   "id": "84d5ac2c-16f4-4f36-a139-35ac3138aef7",
   "metadata": {},
   "source": [
    "### **💯 연습문제를 풀어봅시다**\n",
    "\n"
   ]
  },
  {
   "cell_type": "markdown",
   "id": "f4cee1a0-1f69-46fc-8650-9ceb7f8ca286",
   "metadata": {
    "tags": []
   },
   "source": [
    "1. <a class=\"jcecodle-mk jcecodle-mk__problem-chip\" data-problem-id=\"7h23TDPhtbs\" href='#jce-judge/open/7h23TDPhtbs' target='_self'><span>판다스 - 결측값 처리 - 시리즈 결측값 변경</span></a>\n",
    "\n",
    "1. <a class=\"jcecodle-mk jcecodle-mk__problem-chip\" data-problem-id=\"1a5lam-7dW8\" href='#jce-judge/open/1a5lam-7dW8' target='_self'><span>판다스 - 결측값 처리 - 일괄 변경</span></a>\n",
    "2. <a class=\"jcecodle-mk jcecodle-mk__problem-chip\" data-problem-id=\"19-h_lB1w-I\" href='#jce-judge/open/19-h_lB1w-I' target='_self'><span>판다스 - 결측값 처리 - 열에 따라 변경(1)</span></a>\n",
    "3. <a class=\"jcecodle-mk jcecodle-mk__problem-chip\" data-problem-id=\"BXTt2Rjlq5w\" href='#jce-judge/open/BXTt2Rjlq5w' target='_self'><span>판다스 - 결측값 처리 - 열에 따라 변경(2)</span></a>\n",
    "\n",
    "4. <a class=\"jcecodle-mk jcecodle-mk__problem-chip\" data-problem-id=\"Rx-lpctLFg4\" href='#jce-judge/open/Rx-lpctLFg4' target='_self'><span>판다스 - 결측값 처리 - 열에 따라 변경 (3)</span></a>\n",
    "\n",
    "5. <a class=\"jcecodle-mk jcecodle-mk__problem-chip\" data-problem-id=\"L42tTfYUbxk\" href='#jce-judge/open/L42tTfYUbxk' target='_self'><span>가계부 결측값 변경</span></a>\n",
    "\n",
    "6. <a class=\"jcecodle-mk jcecodle-mk__problem-chip\" data-problem-id=\"C9BqQGWVB0Y\" href='#jce-judge/open/C9BqQGWVB0Y' target='_self'><span>득표수 정보 찾아 변경하기</span></a>\n",
    "\n",
    "\n",
    "\n",
    "\n"
   ]
  }
 ],
 "metadata": {
  "kernelspec": {
   "display_name": "Python 3 (ipykernel)",
   "language": "python",
   "name": "python3"
  },
  "language_info": {
   "codemirror_mode": {
    "name": "ipython",
    "version": 3
   },
   "file_extension": ".py",
   "mimetype": "text/x-python",
   "name": "python",
   "nbconvert_exporter": "python",
   "pygments_lexer": "ipython3",
   "version": "3.10.9"
  }
 },
 "nbformat": 4,
 "nbformat_minor": 5
}
