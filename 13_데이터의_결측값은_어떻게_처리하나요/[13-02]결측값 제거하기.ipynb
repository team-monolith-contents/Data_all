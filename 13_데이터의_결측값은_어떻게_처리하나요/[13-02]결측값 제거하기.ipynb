{
 "cells": [
  {
   "cell_type": "markdown",
   "id": "727ea7a9-bac0-4bb3-afbc-4981950e3fd1",
   "metadata": {
    "tags": []
   },
   "source": [
    "# **[8-1] 결측값 제거하기**"
   ]
  },
  {
   "cell_type": "markdown",
   "id": "0a5448d2-a09e-484c-adf2-6c2e5d0232b8",
   "metadata": {
    "tags": []
   },
   "source": [
    "## **🎯 학습 목표**\n",
    "**Pandas를 사용해 시리즈, 데이터프레임에 존재하는 결측값들을 제거할 수 있습니다.**"
   ]
  },
  {
   "cell_type": "markdown",
   "id": "01cb348d-d551-4559-910d-6d97d46c0385",
   "metadata": {},
   "source": [
    "---"
   ]
  },
  {
   "cell_type": "markdown",
   "id": "f7f394b4-866d-41b8-9f3c-a5ff7d98d6df",
   "metadata": {},
   "source": [
    "데이터를 사용하기 전에 결측값을 제거해주어야 합니다.  \n",
    "`dropna()` 함수로 결측값을 제거할 수 있습니다.\n",
    "\n",
    "> **🔨 함수(FUNCTIONS):**\n",
    ">\n",
    "> **`Series.dropna()`**  \n",
    "> 결측값이 있는 행을 모두 제거합니다.\n",
    "> ---\n",
    "> **`DataFrame.dropna(subset = 열_리스트)`**  \n",
    "> 결측값이 있는 행들을 모두 제거합니다.   \n",
    ">> **매개변수(parameter)**\n",
    ">>\n",
    ">> **`subset`** : 열이름들이 포함된 리스트가 전달됩니다.   \n",
    ">> 리스트에 포함된 열에 결측값이 있는 행들을 모두 제거합니다.  \n",
    ">> subset에 아무런 값도 지정하지 않으면 결측값이 있는 행을 모두 제거합니다.\n",
    "> ---\n",
    "> **`DataFrame.dropna(thresh = 정수)`**  \n",
    "> 매개변수로 받은 정수개 보다 적게 값이 존재하는 행을 모두 제거합니다.   \n",
    ">> **매개변수(parameter)**\n",
    ">>\n",
    ">> **`thresh`** : 정수로 값을 전달받습니다.  \n",
    ">> thresh 값보다 적게 값이 존재하는 행을 모두 제거합니다.\n",
    "> ---\n",
    "\n"
   ]
  },
  {
   "cell_type": "markdown",
   "id": "bb68bfd0-dd75-45d8-b6fc-420b1a452522",
   "metadata": {
    "tags": []
   },
   "source": [
    "## 결측값 확인하기\n",
    "\n",
    "`dropna()` 함수를 이용하면 데이터를 제거할 수 있습니다.\n",
    "\n",
    "`Series.dropna()`, `DataFrame.dropna()` 로 시리즈와 데이터프레임에서 결측값이 있는 행을 모두 제거할 수 있습니다.  \n",
    "\n",
    "<table>\n",
    "<tr>\n",
    "    <th><img src=\"https://tmn-bucket-materials-all.s3.ap-northeast-2.amazonaws.com/image/pandas/material_08_05.gif\" width=\"450\"></th>\n",
    "    <th><img src=\"https://tmn-bucket-materials-all.s3.ap-northeast-2.amazonaws.com/image/pandas/material_08_06.gif\" width=\"450\"></th>\n",
    "</tr>\n",
    "<tr>\n",
    "    <th>시리즈의 결측값 제거하기</th>\n",
    "    <th>데이터프레임의 결측값이 있는 행 제거하기</th>\n",
    "</tr>\n",
    "</table>\n",
    "\n",
    "`DataFrame.dropna(subset = [열_리스트])` 로 데이터프레임에서 열_리스트에 포함되는 열에 결측값이 존재하는 행을 모두 제거할 수 있습니다.  \n",
    "\n",
    "<table>\n",
    "<tr>\n",
    "    <th><img src=\"https://tmn-bucket-materials-all.s3.ap-northeast-2.amazonaws.com/image/pandas/material_08_07.gif\" width=\"750\"></th>\n",
    "</tr>\n",
    "<tr>\n",
    "    <th>데이터프레임에서 열_리스트에 포함되는 열에 결측값이 있는 행 제거하기</th>\n",
    "</tr>\n",
    "</table>\n",
    "\n",
    "`DataFrame.dropna(thresh = 정수)` 으로 데이터프레임에서 행에 값이 thresh 값보다 적게 존재하는 행을 모두 제거할 수 있습니다.   \n",
    "\n",
    "<table>\n",
    "<tr>\n",
    "    <th><img src=\"https://tmn-bucket-materials-all.s3.ap-northeast-2.amazonaws.com/image/pandas/material_08_08.gif\" width=\"750\"></th>\n",
    "</tr>\n",
    "<tr>\n",
    "    <th>데이터프레임에서 결측값의 개수가 thresh보다 큰 행 제거하기</th>\n",
    "</tr>\n",
    "</table>"
   ]
  },
  {
   "cell_type": "code",
   "execution_count": null,
   "id": "56073e44-94cf-45ee-9190-abf9d33ff78f",
   "metadata": {
    "tags": []
   },
   "outputs": [],
   "source": [
    "# 예제_1_dropna_함수를_이용한_시리즈의_결측값_제거\n",
    "\n",
    "import pandas as pd\n",
    "\n",
    "A = pd.Series([1,2,None,4,5,None])\n",
    "\n",
    "print('#'*30, f\"{'A':^15s}\" , '#' * 30, '\\n') # 출력되는 결과들을 분리해서 보여주기 위한 코드입니다.\n",
    "print(A)\n",
    "print('\\n','#'*30, f\"{'A.dropna()':^15s}\" , '#' * 30, '\\n') # 출력되는 결과들을 분리해서 보여주기 위한 코드입니다.\n",
    "print(A.dropna())"
   ]
  },
  {
   "cell_type": "code",
   "execution_count": null,
   "id": "3247d246-2af0-41e2-a0a8-0bbef00b2ba4",
   "metadata": {
    "tags": []
   },
   "outputs": [],
   "source": [
    "# 예제_2_dropna_함수를_이용한_데이터프레임의_결측값_제거\n",
    "\n",
    "import pandas as pd\n",
    "\n",
    "A = pd.DataFrame([[1,2,3,4,5,6],[None,2,3,4,5,6],[1,None,None,4,5,6]])\n",
    "\n",
    "print('#'*30, f\"{'A':^15s}\" , '#' * 30, '\\n') # 출력되는 결과들을 분리해서 보여주기 위한 코드입니다.\n",
    "print(A)\n",
    "print('\\n','#'*30, f\"{'A.dropna()':^15s}\" , '#' * 30, '\\n') # 출력되는 결과들을 분리해서 보여주기 위한 코드입니다.\n",
    "print(A.dropna())"
   ]
  },
  {
   "cell_type": "code",
   "execution_count": null,
   "id": "8ab8c1df-5d1d-47b5-9e11-cd9ea33964a1",
   "metadata": {
    "tags": []
   },
   "outputs": [],
   "source": [
    "# 예제_3_dropna_함수의_subset_속성을_이용한_결측값_선택적_제거\n",
    "\n",
    "import pandas as pd\n",
    "\n",
    "A = pd.DataFrame([[1,2,3,4,5,6],[None,2,3,4,5,6],[1,None,None,4,5,6]])\n",
    "\n",
    "print('#'*30, f\"{'A':^15s}\" , '#' * 30, '\\n') # 출력되는 결과들을 분리해서 보여주기 위한 코드입니다.\n",
    "print(A)\n",
    "print('\\n','#'*30, f\"{'A.dropna(subset = [1,2,3])':^15s}\" , '#' * 30, '\\n') # 출력되는 결과들을 분리해서 보여주기 위한 코드입니다.\n",
    "print(A.dropna(subset = [1,2,3]))"
   ]
  },
  {
   "cell_type": "code",
   "execution_count": null,
   "id": "4b5b1ac9-9fc5-4f28-b72e-03849785a09c",
   "metadata": {
    "tags": []
   },
   "outputs": [],
   "source": [
    "# 예제_4_dropna_함수의_thresh_속성을_이용한_결측값_선택적_제거\n",
    "\n",
    "import pandas as pd\n",
    "\n",
    "A = pd.DataFrame([[1,None,None,None,5,6],[None,2,3,4,5,6],[1,None,None,4,5,6]])\n",
    "\n",
    "print('#'*30, f\"{'A':^15s}\" , '#' * 30, '\\n') # 출력되는 결과들을 분리해서 보여주기 위한 코드입니다.\n",
    "print(A)\n",
    "print('\\n','#'*30, f\"{'A.dropna(thresh=2)':^15s}\" , '#' * 30, '\\n') # 출력되는 결과들을 분리해서 보여주기 위한 코드입니다.\n",
    "print(A.dropna(thresh=2))"
   ]
  },
  {
   "cell_type": "markdown",
   "id": "84d5ac2c-16f4-4f36-a139-35ac3138aef7",
   "metadata": {},
   "source": [
    "### **💯 연습문제를 풀어봅시다**\n",
    "\n"
   ]
  },
  {
   "cell_type": "markdown",
   "id": "f4cee1a0-1f69-46fc-8650-9ceb7f8ca286",
   "metadata": {
    "tags": []
   },
   "source": [
    "1. <a class=\"jcecodle-mk jcecodle-mk__problem-chip\" data-problem-id=\"3byVGYRn9Iw\" href='#jce-judge/open/3byVGYRn9Iw' target='_self'><span>판다스 - 결측값 처리 - 열 기준 제거</span></a>\n",
    "2. <a class=\"jcecodle-mk jcecodle-mk__problem-chip\" data-problem-id=\"afipiWToT9s\" href='#jce-judge/open/afipiWToT9s' target='_self'><span>판다스 - 결측값 처리 - 개수 기준 제거</span></a>\n",
    "\n",
    "3. <a class=\"jcecodle-mk jcecodle-mk__problem-chip\" data-problem-id=\"YeBPoVzxddU\" href='#jce-judge/open/YeBPoVzxddU' target='_self'><span>판다스 - 결측값 처리 - 시리즈</span></a>\n",
    "\n",
    "4. <a class=\"jcecodle-mk jcecodle-mk__problem-chip\" data-problem-id=\"vXPtJTZLuJ8\" href='#jce-judge/open/vXPtJTZLuJ8' target='_self'><span>판다스 - 결측값 처리 - 데이터 프레임 (1)</span></a>\n",
    "\n",
    "\n",
    "5. <a class=\"jcecodle-mk jcecodle-mk__problem-chip\" data-problem-id=\"DvZNqrnu4Ic\" href='#jce-judge/open/DvZNqrnu4Ic' target='_self'><span>판다스 - 결측값 처리 - 데이터프레임 (2)</span></a>\n",
    "\n",
    "\n",
    "6. <a class=\"jcecodle-mk jcecodle-mk__problem-chip\" data-problem-id=\"debOT0206AE\" href='#jce-judge/open/debOT0206AE' target='_self'><span>판다스 - 결측값 처리 - 데이터 프레임(subset)</span></a>\n",
    "\n",
    "\n",
    "7. <a class=\"jcecodle-mk jcecodle-mk__problem-chip\" data-problem-id=\"hRBnpX8BDwc\" href='#jce-judge/open/hRBnpX8BDwc' target='_self'><span>판다스 - 결측값 처리 - 데이터 프레임(thresh 1)</span></a>\n",
    "\n",
    "\n",
    "8. <a class=\"jcecodle-mk jcecodle-mk__problem-chip\" data-problem-id=\"c6tjvUjD6zI\" href='#jce-judge/open/c6tjvUjD6zI' target='_self'><span>판다스 - 결측값 처리 - 데이터 프레임(thresh 2)</span></a>\n",
    "\n",
    "\n"
   ]
  }
 ],
 "metadata": {
  "kernelspec": {
   "display_name": "Python 3 (ipykernel)",
   "language": "python",
   "name": "python3"
  },
  "language_info": {
   "codemirror_mode": {
    "name": "ipython",
    "version": 3
   },
   "file_extension": ".py",
   "mimetype": "text/x-python",
   "name": "python",
   "nbconvert_exporter": "python",
   "pygments_lexer": "ipython3",
   "version": "3.8.10"
  }
 },
 "nbformat": 4,
 "nbformat_minor": 5
}
