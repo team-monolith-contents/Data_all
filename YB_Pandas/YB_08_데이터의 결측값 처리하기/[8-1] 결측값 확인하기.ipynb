{
 "cells": [
  {
   "cell_type": "code",
   "execution_count": 2,
   "id": "fcfdd5f9-ed84-4b24-ad62-e43af9837768",
   "metadata": {},
   "outputs": [],
   "source": [
    "import pandas as pd"
   ]
  },
  {
   "cell_type": "markdown",
   "id": "727ea7a9-bac0-4bb3-afbc-4981950e3fd1",
   "metadata": {
    "tags": []
   },
   "source": [
    "# **[8-1] 결측값 확인하기**"
   ]
  },
  {
   "cell_type": "markdown",
   "id": "0a5448d2-a09e-484c-adf2-6c2e5d0232b8",
   "metadata": {
    "tags": []
   },
   "source": [
    "## **🎯 학습 목표**\n",
    "**데이터의 결측값을 확인할 수 있습니다.**"
   ]
  },
  {
   "cell_type": "markdown",
   "id": "01cb348d-d551-4559-910d-6d97d46c0385",
   "metadata": {},
   "source": [
    "---"
   ]
  },
  {
   "cell_type": "markdown",
   "id": "f7f394b4-866d-41b8-9f3c-a5ff7d98d6df",
   "metadata": {},
   "source": [
    "데이터를 활용하기 전에는 반드시 결측값이 있는지 확인해야 합니다.  \n",
    "\n",
    "> **✏️ 알아봅시다(NOTE): 결측값이 무엇인가요?**\n",
    ">\n",
    "> 결측값이란 데이터가 누락되어 존재하지 않는 것으로 NaN, None, NA, null, N/A 등으로 표현됩니다.   \n",
    "> 결측값이 있는 데이터는 통계량 확인이나 인공지능 학습에 바로 사용할 수 없습니다.  \n",
    "> 결측값이 확인되면 제거하거나 값을 지정해주어야합니다.  \n",
    "\n",
    "`isna()` 함수를 이용하면 값이 존재하지 않는 경우 True, 값이 있는 경우 False로 표현된 데이터가 반환됩니다.  \n",
    "`any()` 함수와 함께 사용하면 결측값이 존재하는 행, 열을 확인할 수 있습니다.\n",
    "\n",
    "> **🔨 함수(FUNCTIONS):**\n",
    ">\n",
    "> **`Series.isna()`**  \n",
    "> 시리즈의 각 데이터가 결측값인지 확인합니다. \n",
    "> 결측값이면 True, 결측값이 아니면 False를 반환합니다.  \n",
    "> 반환되는 시리즈의 모양은 함수를 사용하는 시리즈와 동일합니다.  \n",
    "> ---\n",
    "> **`DataFrame.isna()`**  \n",
    "> 데이터프레임의 각 데이터가 결측값인지 확인합니다. \n",
    "> 결측값이면 True, 결측값이 아니면 False를 반환합니다.  \n",
    "> 반환되는 데이터프레임의 모양은 함수를 사용하는 데이터프레임와 동일합니다.   \n",
    "> ---\n",
    "> **`DataFrame.any(axis = 0_또는_1)`**  \n",
    "> axis로 방향을 지정하면 해당 방향에 True가 있는지 여부를 판단해서 반환합니다.   \n",
    ">> **매개변수(parameter)**\n",
    ">>\n",
    ">> **`axis`** : 0 또는 1이 전달됩니다.   \n",
    ">> 0이 전달되면 행 방향으로 각 열에 True가 있는지 여부를 판단합니다.  \n",
    ">> 각 열에 True가 하나라도 있으면 True를 반환합니다.  \n",
    ">> 1이 전달되면 열 방향으로 각 행에 True가 있는지 여부를 판단합니다.  \n",
    ">> 각 행에 True가 하나라도 있으면 True를 반환합니다.  \n",
    ">> 기본값은 0입니다.\n",
    "> ---\n",
    "\n",
    "\n"
   ]
  },
  {
   "cell_type": "markdown",
   "id": "bb68bfd0-dd75-45d8-b6fc-420b1a452522",
   "metadata": {
    "tags": []
   },
   "source": [
    "## 결측값 확인하기\n",
    "\n",
    "`isna()` 함수를 이용하면 데이터의 결측값을 확인할 수 있습니다.\n",
    "\n",
    "`Series.isna()` 로 시리즈의 데이터들의 결측값 여부를 확인할 수 있습니다.  \n",
    "**😃Series.isna() 이미지😃**  \n",
    "`DataFrame.isna()` 로 데이터프레임의 데이터들의 결측값 여부를 확인할 수 있습니다.  \n",
    "**😃DataFrame.isna() 이미지😃**  \n",
    "`DataFrame.isna().any(axis = 0)` 으로 결측값이 존재하는 열을 확인할 수 있습니다.  \n",
    "**😃DataFrame.isna().any(axis = 0) 이미지😃**  \n",
    "`DataFrame.isna().any(axis = 1)` 으로 결측값이 존재하는 행을 확인할 수 있습니다.  \n",
    "**😃DataFrame.isna().any(axis = 1) 이미지😃**  "
   ]
  },
  {
   "cell_type": "code",
   "execution_count": null,
   "id": "56073e44-94cf-45ee-9190-abf9d33ff78f",
   "metadata": {
    "tags": []
   },
   "outputs": [],
   "source": [
    "# Series.isna()"
   ]
  },
  {
   "cell_type": "code",
   "execution_count": null,
   "id": "3247d246-2af0-41e2-a0a8-0bbef00b2ba4",
   "metadata": {
    "tags": []
   },
   "outputs": [],
   "source": [
    "# DataFrame.isna()"
   ]
  },
  {
   "cell_type": "code",
   "execution_count": null,
   "id": "8ab8c1df-5d1d-47b5-9e11-cd9ea33964a1",
   "metadata": {
    "tags": []
   },
   "outputs": [],
   "source": [
    "# DataFrame.isna().any(axis = 0)"
   ]
  },
  {
   "cell_type": "code",
   "execution_count": null,
   "id": "4b5b1ac9-9fc5-4f28-b72e-03849785a09c",
   "metadata": {
    "tags": []
   },
   "outputs": [],
   "source": [
    "# DataFrame.isna().any(axis = 1)"
   ]
  },
  {
   "cell_type": "markdown",
   "id": "84d5ac2c-16f4-4f36-a139-35ac3138aef7",
   "metadata": {},
   "source": [
    "### **💯 연습문제를 풀어봅시다**\n",
    "\n"
   ]
  },
  {
   "cell_type": "markdown",
   "id": "f4cee1a0-1f69-46fc-8650-9ceb7f8ca286",
   "metadata": {
    "tags": []
   },
   "source": [
    "1. <a class=\"jcecodle-mk jcecodle-mk__problem-chip\" data-problem-id=\"Vk5TA4lAoNw\" href='#jce-judge/open/Vk5TA4lAoNw' target='_self'><span>판다스 - 결측값 처리 - 위치 확인하기</span></a>\n",
    "2. <a class=\"jcecodle-mk jcecodle-mk__problem-chip\" data-problem-id=\"vhrZOf4smVM\" href='#jce-judge/open/vhrZOf4smVM' target='_self'><span>판다스 - 결측값 처리 - 결측값 있는 열 확인</span></a>\n",
    "\n",
    "3. <a class=\"jcecodle-mk jcecodle-mk__problem-chip\" data-problem-id=\"TYOgo47wp-8\" href='#jce-judge/open/TYOgo47wp-8' target='_self'><span>판다스 - 결측값 처리 - 결측값 있는 행 확인</span></a>\n",
    "\n",
    "\n"
   ]
  }
 ],
 "metadata": {
  "kernelspec": {
   "display_name": "Python 3 (ipykernel)",
   "language": "python",
   "name": "python3"
  },
  "language_info": {
   "codemirror_mode": {
    "name": "ipython",
    "version": 3
   },
   "file_extension": ".py",
   "mimetype": "text/x-python",
   "name": "python",
   "nbconvert_exporter": "python",
   "pygments_lexer": "ipython3",
   "version": "3.10.9"
  }
 },
 "nbformat": 4,
 "nbformat_minor": 5
}
