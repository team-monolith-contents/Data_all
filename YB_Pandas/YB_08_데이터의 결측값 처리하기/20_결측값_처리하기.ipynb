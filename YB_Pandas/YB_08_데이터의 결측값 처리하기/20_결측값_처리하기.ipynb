{
 "cells": [
  {
   "cell_type": "markdown",
   "id": "d7408c9a-bce3-4385-8cb8-51bbe9902972",
   "metadata": {
    "tags": []
   },
   "source": [
    "#### [시작하기]\n",
    "\n",
    "<div class=\"alert alert-info\">\n",
    "    <font color=black>\n",
    "    Pandas를 사용하기 위해서 처음 할 일을 무엇인가요?\n",
    "    </font>\n",
    "</div>"
   ]
  },
  {
   "cell_type": "code",
   "execution_count": 1,
   "id": "a022ca8d-8151-4def-8fde-177215c49a17",
   "metadata": {},
   "outputs": [],
   "source": [
    "import pandas as pd # 판다스를 pd로 축약하여 불러옵니다"
   ]
  },
  {
   "cell_type": "markdown",
   "id": "6b63c9cc-92be-4a59-b710-13dd91bc8d9c",
   "metadata": {
    "tags": []
   },
   "source": [
    "# **[20] 결측값 처리하기**\n",
    "\n",
    "[오늘 배울 것]\n",
    "1. 결측값을 확인할 수 있다.\n",
    "2. 결측값을 제거할 수 있다.\n",
    "3. 결측값을 변경할 수 있다."
   ]
  },
  {
   "cell_type": "markdown",
   "id": "f9ab56ba-b13b-42a2-bc36-abe5e24c46d6",
   "metadata": {},
   "source": [
    "> 데이터를 활용하기 전에는 반드시 결측값이 있는지 확인해야 합니다.  \n",
    "> 결측값이란 데이터가 누락되어 존재하지 않는 것으로 NaN, None, NA, null, N/A 등으로 표현됩니다.   \n",
    ">\n",
    "> 결측값이 있는 데이터는 통계량 확인이나 인공지능 학습에 바로 사용할 수 없습니다.  \n",
    "> 결측값이 확인되면 제거하거나 값을 지정해주어야합니다.  \n",
    ">\n",
    "> 다음의 펭귄에 대한 데이터를 이용하여 결측값을 처리하는 방법을 배워봅시다.  "
   ]
  },
  {
   "cell_type": "code",
   "execution_count": 28,
   "id": "ca2deada-3552-466b-89da-32c5351319bb",
   "metadata": {},
   "outputs": [
    {
     "name": "stdout",
     "output_type": "stream",
     "text": [
      "          종        서식지  부리_길이_mm  부리_높이_mm  날개_길이_mm    무게_g      성별\n",
      "0    Adelie  Torgersen      39.1      18.7     181.0  3750.0    Male\n",
      "1    Adelie  Torgersen      39.5      17.4     186.0  3800.0  Female\n",
      "2    Adelie  Torgersen      40.3      18.0     195.0  3250.0  Female\n",
      "3    Adelie  Torgersen       NaN       NaN       NaN     NaN     NaN\n",
      "4    Adelie  Torgersen      36.7      19.3     193.0  3450.0  Female\n",
      "..      ...        ...       ...       ...       ...     ...     ...\n",
      "339  Gentoo     Biscoe       NaN       NaN       NaN     NaN     NaN\n",
      "340  Gentoo     Biscoe      46.8      14.3     215.0  4850.0  Female\n",
      "341  Gentoo     Biscoe      50.4      15.7     222.0  5750.0    Male\n",
      "342  Gentoo     Biscoe      45.2      14.8     212.0  5200.0  Female\n",
      "343  Gentoo     Biscoe      49.9      16.1     213.0  5400.0    Male\n",
      "\n",
      "[344 rows x 7 columns]\n"
     ]
    }
   ],
   "source": [
    "# 예제 1: 제공되는 데이터 불러와서 출력해보기\n",
    "\n",
    "import seaborn as sns\n",
    "df = sns.load_dataset('penguins', cache=True, data_home=None)\n",
    "\n",
    "## columns 설명\n",
    "df.columns = [\"종\", \"서식지\", \"부리_길이_mm\", \"부리_높이_mm\", \"날개_길이_mm\", \"무게_g\", \"성별\"]\n",
    "\n",
    "## 결측치 생성\n",
    "df.iloc[5::100, 0] = None\n",
    "df.iloc[15::90, 2] = None\n",
    "df.iloc[45::80, 4] = None\n",
    "df.iloc[45::100, 5] = None\n",
    "\n",
    "print(df)"
   ]
  },
  {
   "cell_type": "markdown",
   "id": "9e25aa6d-59fe-4f7d-a213-4be4d9341895",
   "metadata": {
    "tags": []
   },
   "source": [
    "## **1. 결측값 확인**\n",
    "\n",
    "> `data.isna()`를 이용하면 값이 존재하지 않는 경우 True, 값이 있는 경우 False로 표현된 데이터가 반환됩니다.  \n",
    "> 그러나 데이터가 큰 경우 이를 출력하여 결측치를 확인하는 것은 어렵습니다.  \n",
    "> 한눈에 결측값 위치와 개수를 확인할 수 있는 방법을 알아봅시다. "
   ]
  },
  {
   "cell_type": "markdown",
   "id": "216aaf5f-839e-4bf0-8a4e-979259289146",
   "metadata": {
    "tags": []
   },
   "source": [
    "### **(1) 결측값이 있는 행/열 확인하기**\n",
    "\n",
    "> `any()`는 행 또는 열에 True가 하나라도 있으면 True, 하나도 없으면 False를 반환합니다.  \n",
    "> 따라서 `data.isna().any()`는 행 또는 열에 결측값이 하나라도 있는지 알려줍니다.  \n",
    "> 또한 이를 인덱싱에 활용하면 결측값이 하나라도 있는 행과 열을 확인할 수 있습니다. \n",
    ">\n",
    "> `data.isna().any()`: 각 열에 결측값이 존재하면 True, 없으면 False를 반환  \n",
    "> `data.isna().any(axis=1)`: 각 행에 결측값이 존재하면 True, 없으면 False를 반환  \n",
    ">\n",
    "> `data.loc[data.isna().any(axis=1), data.isna().any()]`  \n",
    ">: 결측값이 하나라도 존재하는 행과 열을 반환\n",
    "\n"
   ]
  },
  {
   "cell_type": "code",
   "execution_count": 33,
   "id": "a8c93159-6ab8-4f62-8414-c15864a1c1d1",
   "metadata": {},
   "outputs": [
    {
     "name": "stdout",
     "output_type": "stream",
     "text": [
      "결측값이 있는 열 확인: \n",
      "종            True\n",
      "서식지         False\n",
      "부리_길이_mm     True\n",
      "부리_높이_mm     True\n",
      "날개_길이_mm     True\n",
      "무게_g         True\n",
      "성별           True\n",
      "dtype: bool\n",
      "\n",
      "\n",
      "결측값이 있는 행 확인: \n",
      "0      False\n",
      "1      False\n",
      "2      False\n",
      "3       True\n",
      "4      False\n",
      "       ...  \n",
      "339     True\n",
      "340    False\n",
      "341    False\n",
      "342    False\n",
      "343    False\n",
      "Length: 344, dtype: bool\n",
      "\n",
      "\n",
      "결측값이 있는 행과 열 데이터 출력하기: \n"
     ]
    },
    {
     "data": {
      "text/html": [
       "<div>\n",
       "<style scoped>\n",
       "    .dataframe tbody tr th:only-of-type {\n",
       "        vertical-align: middle;\n",
       "    }\n",
       "\n",
       "    .dataframe tbody tr th {\n",
       "        vertical-align: top;\n",
       "    }\n",
       "\n",
       "    .dataframe thead th {\n",
       "        text-align: right;\n",
       "    }\n",
       "</style>\n",
       "<table border=\"1\" class=\"dataframe\">\n",
       "  <thead>\n",
       "    <tr style=\"text-align: right;\">\n",
       "      <th></th>\n",
       "      <th>종</th>\n",
       "      <th>부리_길이_mm</th>\n",
       "      <th>부리_높이_mm</th>\n",
       "      <th>날개_길이_mm</th>\n",
       "      <th>무게_g</th>\n",
       "      <th>성별</th>\n",
       "    </tr>\n",
       "  </thead>\n",
       "  <tbody>\n",
       "    <tr>\n",
       "      <th>3</th>\n",
       "      <td>Adelie</td>\n",
       "      <td>NaN</td>\n",
       "      <td>NaN</td>\n",
       "      <td>NaN</td>\n",
       "      <td>NaN</td>\n",
       "      <td>NaN</td>\n",
       "    </tr>\n",
       "    <tr>\n",
       "      <th>5</th>\n",
       "      <td>None</td>\n",
       "      <td>39.3</td>\n",
       "      <td>20.6</td>\n",
       "      <td>190.0</td>\n",
       "      <td>3650.0</td>\n",
       "      <td>Male</td>\n",
       "    </tr>\n",
       "    <tr>\n",
       "      <th>8</th>\n",
       "      <td>Adelie</td>\n",
       "      <td>34.1</td>\n",
       "      <td>18.1</td>\n",
       "      <td>193.0</td>\n",
       "      <td>3475.0</td>\n",
       "      <td>NaN</td>\n",
       "    </tr>\n",
       "    <tr>\n",
       "      <th>9</th>\n",
       "      <td>Adelie</td>\n",
       "      <td>42.0</td>\n",
       "      <td>20.2</td>\n",
       "      <td>190.0</td>\n",
       "      <td>4250.0</td>\n",
       "      <td>NaN</td>\n",
       "    </tr>\n",
       "    <tr>\n",
       "      <th>10</th>\n",
       "      <td>Adelie</td>\n",
       "      <td>37.8</td>\n",
       "      <td>17.1</td>\n",
       "      <td>186.0</td>\n",
       "      <td>3300.0</td>\n",
       "      <td>NaN</td>\n",
       "    </tr>\n",
       "    <tr>\n",
       "      <th>11</th>\n",
       "      <td>Adelie</td>\n",
       "      <td>37.8</td>\n",
       "      <td>17.3</td>\n",
       "      <td>180.0</td>\n",
       "      <td>3700.0</td>\n",
       "      <td>NaN</td>\n",
       "    </tr>\n",
       "    <tr>\n",
       "      <th>15</th>\n",
       "      <td>Adelie</td>\n",
       "      <td>NaN</td>\n",
       "      <td>17.8</td>\n",
       "      <td>185.0</td>\n",
       "      <td>3700.0</td>\n",
       "      <td>Female</td>\n",
       "    </tr>\n",
       "    <tr>\n",
       "      <th>45</th>\n",
       "      <td>Adelie</td>\n",
       "      <td>39.6</td>\n",
       "      <td>18.8</td>\n",
       "      <td>NaN</td>\n",
       "      <td>NaN</td>\n",
       "      <td>Male</td>\n",
       "    </tr>\n",
       "    <tr>\n",
       "      <th>47</th>\n",
       "      <td>Adelie</td>\n",
       "      <td>37.5</td>\n",
       "      <td>18.9</td>\n",
       "      <td>179.0</td>\n",
       "      <td>2975.0</td>\n",
       "      <td>NaN</td>\n",
       "    </tr>\n",
       "    <tr>\n",
       "      <th>105</th>\n",
       "      <td>None</td>\n",
       "      <td>NaN</td>\n",
       "      <td>18.9</td>\n",
       "      <td>184.0</td>\n",
       "      <td>3550.0</td>\n",
       "      <td>Male</td>\n",
       "    </tr>\n",
       "    <tr>\n",
       "      <th>125</th>\n",
       "      <td>Adelie</td>\n",
       "      <td>40.6</td>\n",
       "      <td>19.0</td>\n",
       "      <td>NaN</td>\n",
       "      <td>4000.0</td>\n",
       "      <td>Male</td>\n",
       "    </tr>\n",
       "    <tr>\n",
       "      <th>145</th>\n",
       "      <td>Adelie</td>\n",
       "      <td>39.0</td>\n",
       "      <td>18.7</td>\n",
       "      <td>185.0</td>\n",
       "      <td>NaN</td>\n",
       "      <td>Male</td>\n",
       "    </tr>\n",
       "    <tr>\n",
       "      <th>195</th>\n",
       "      <td>Chinstrap</td>\n",
       "      <td>NaN</td>\n",
       "      <td>17.0</td>\n",
       "      <td>196.0</td>\n",
       "      <td>3500.0</td>\n",
       "      <td>Female</td>\n",
       "    </tr>\n",
       "    <tr>\n",
       "      <th>205</th>\n",
       "      <td>None</td>\n",
       "      <td>50.7</td>\n",
       "      <td>19.7</td>\n",
       "      <td>NaN</td>\n",
       "      <td>4050.0</td>\n",
       "      <td>Male</td>\n",
       "    </tr>\n",
       "    <tr>\n",
       "      <th>245</th>\n",
       "      <td>Gentoo</td>\n",
       "      <td>46.1</td>\n",
       "      <td>15.1</td>\n",
       "      <td>215.0</td>\n",
       "      <td>NaN</td>\n",
       "      <td>Male</td>\n",
       "    </tr>\n",
       "    <tr>\n",
       "      <th>246</th>\n",
       "      <td>Gentoo</td>\n",
       "      <td>44.5</td>\n",
       "      <td>14.3</td>\n",
       "      <td>216.0</td>\n",
       "      <td>4100.0</td>\n",
       "      <td>NaN</td>\n",
       "    </tr>\n",
       "    <tr>\n",
       "      <th>285</th>\n",
       "      <td>Gentoo</td>\n",
       "      <td>NaN</td>\n",
       "      <td>16.8</td>\n",
       "      <td>NaN</td>\n",
       "      <td>5700.0</td>\n",
       "      <td>Male</td>\n",
       "    </tr>\n",
       "    <tr>\n",
       "      <th>286</th>\n",
       "      <td>Gentoo</td>\n",
       "      <td>46.2</td>\n",
       "      <td>14.4</td>\n",
       "      <td>214.0</td>\n",
       "      <td>4650.0</td>\n",
       "      <td>NaN</td>\n",
       "    </tr>\n",
       "    <tr>\n",
       "      <th>305</th>\n",
       "      <td>None</td>\n",
       "      <td>50.8</td>\n",
       "      <td>17.3</td>\n",
       "      <td>228.0</td>\n",
       "      <td>5600.0</td>\n",
       "      <td>Male</td>\n",
       "    </tr>\n",
       "    <tr>\n",
       "      <th>324</th>\n",
       "      <td>Gentoo</td>\n",
       "      <td>47.3</td>\n",
       "      <td>13.8</td>\n",
       "      <td>216.0</td>\n",
       "      <td>4725.0</td>\n",
       "      <td>NaN</td>\n",
       "    </tr>\n",
       "    <tr>\n",
       "      <th>336</th>\n",
       "      <td>Gentoo</td>\n",
       "      <td>44.5</td>\n",
       "      <td>15.7</td>\n",
       "      <td>217.0</td>\n",
       "      <td>4875.0</td>\n",
       "      <td>NaN</td>\n",
       "    </tr>\n",
       "    <tr>\n",
       "      <th>339</th>\n",
       "      <td>Gentoo</td>\n",
       "      <td>NaN</td>\n",
       "      <td>NaN</td>\n",
       "      <td>NaN</td>\n",
       "      <td>NaN</td>\n",
       "      <td>NaN</td>\n",
       "    </tr>\n",
       "  </tbody>\n",
       "</table>\n",
       "</div>"
      ],
      "text/plain": [
       "             종  부리_길이_mm  부리_높이_mm  날개_길이_mm    무게_g      성별\n",
       "3       Adelie       NaN       NaN       NaN     NaN     NaN\n",
       "5         None      39.3      20.6     190.0  3650.0    Male\n",
       "8       Adelie      34.1      18.1     193.0  3475.0     NaN\n",
       "9       Adelie      42.0      20.2     190.0  4250.0     NaN\n",
       "10      Adelie      37.8      17.1     186.0  3300.0     NaN\n",
       "11      Adelie      37.8      17.3     180.0  3700.0     NaN\n",
       "15      Adelie       NaN      17.8     185.0  3700.0  Female\n",
       "45      Adelie      39.6      18.8       NaN     NaN    Male\n",
       "47      Adelie      37.5      18.9     179.0  2975.0     NaN\n",
       "105       None       NaN      18.9     184.0  3550.0    Male\n",
       "125     Adelie      40.6      19.0       NaN  4000.0    Male\n",
       "145     Adelie      39.0      18.7     185.0     NaN    Male\n",
       "195  Chinstrap       NaN      17.0     196.0  3500.0  Female\n",
       "205       None      50.7      19.7       NaN  4050.0    Male\n",
       "245     Gentoo      46.1      15.1     215.0     NaN    Male\n",
       "246     Gentoo      44.5      14.3     216.0  4100.0     NaN\n",
       "285     Gentoo       NaN      16.8       NaN  5700.0    Male\n",
       "286     Gentoo      46.2      14.4     214.0  4650.0     NaN\n",
       "305       None      50.8      17.3     228.0  5600.0    Male\n",
       "324     Gentoo      47.3      13.8     216.0  4725.0     NaN\n",
       "336     Gentoo      44.5      15.7     217.0  4875.0     NaN\n",
       "339     Gentoo       NaN       NaN       NaN     NaN     NaN"
      ]
     },
     "execution_count": 33,
     "metadata": {},
     "output_type": "execute_result"
    }
   ],
   "source": [
    "# 예제 2: 결측값이 있는 행과 열 확인하기\n",
    "\n",
    "print(\"결측값이 있는 열 확인: \")\n",
    "print(df.isna().any())\n",
    "\n",
    "print(\"\\n\")\n",
    "print(\"결측값이 있는 행 확인: \")\n",
    "print(df.isna().any(axis=1))\n",
    "\n",
    "print(\"\\n\")\n",
    "print(\"결측값이 있는 행과 열 데이터 출력하기: \")\n",
    "df.loc[df.isna().any(axis=1), df.isna().any()]"
   ]
  },
  {
   "cell_type": "markdown",
   "id": "0ffb2774-4cb6-4954-9766-2e4e83168f2f",
   "metadata": {},
   "source": [
    "> 서식지 열에는 결측값이 없다는 것을 확인할 수 있습니다.  \n",
    "> 결측값이 있는 행은 여러 개 존재하며 결측값의 개수도 각각 다릅니다. "
   ]
  },
  {
   "cell_type": "markdown",
   "id": "a18e007a-4238-4e69-bbaa-6005c8fd41fb",
   "metadata": {},
   "source": [
    "#### <연습문제>\n",
    "\n",
    "<a class=\"jcecodle-mk jcecodle-mk__problem-chip\" data-problem-id=\"Vk5TA4lAoNw\" href='#jce-judge/open/Vk5TA4lAoNw' target='_self'><span>판다스 - 결측값 처리 - 위치 확인하기</span></a>\n",
    "\n",
    "\n",
    "\n"
   ]
  },
  {
   "cell_type": "markdown",
   "id": "c5e8ea32-8c26-443d-9f35-d489fcc996ce",
   "metadata": {
    "tags": []
   },
   "source": [
    "### **(2) 결측값의 개수 확인하기**\n",
    "\n",
    "> `sum()`은 각 행 또는 열에 True가 몇 개 있는지 더하여 줍니다.  \n",
    "> 따라서 `data.isna().sum()`은 행 또는 열에 결측값이 몇 개씩 있는지 알려줍니다.  \n",
    ">\n",
    "> `data.isna().sum()`: 각 열에 존재하는 결측값 개수를 반환    \n",
    "> `data.isna().sum(axis=1)`: 각 행에 존재하는 결측값 개수를 반환\n",
    ">\n",
    "> `data.loc[data.isna().any(axis=1)].isna().sum(axis=1)`  \n",
    ">: 결측값이 하나라도 존재하는 행에 각 몇 개의 결측값이 존재하는지 반환"
   ]
  },
  {
   "cell_type": "code",
   "execution_count": 36,
   "id": "6d1941ee-a714-49cd-88c2-80c7071c085c",
   "metadata": {},
   "outputs": [
    {
     "name": "stdout",
     "output_type": "stream",
     "text": [
      "각 열의 결측값 개수: \n",
      "종            4\n",
      "서식지          0\n",
      "부리_길이_mm     6\n",
      "부리_높이_mm     2\n",
      "날개_길이_mm     6\n",
      "무게_g         5\n",
      "성별          11\n",
      "dtype: int64\n",
      "\n",
      "\n",
      "각 행의 결측값 개수: \n",
      "0      0\n",
      "1      0\n",
      "2      0\n",
      "3      5\n",
      "4      0\n",
      "      ..\n",
      "339    5\n",
      "340    0\n",
      "341    0\n",
      "342    0\n",
      "343    0\n",
      "Length: 344, dtype: int64\n",
      "\n",
      "\n",
      "결측값이 있는 행의 결측값 개수: \n"
     ]
    },
    {
     "data": {
      "text/plain": [
       "3      5\n",
       "5      1\n",
       "8      1\n",
       "9      1\n",
       "10     1\n",
       "11     1\n",
       "15     1\n",
       "45     2\n",
       "47     1\n",
       "105    2\n",
       "125    1\n",
       "145    1\n",
       "195    1\n",
       "205    2\n",
       "245    1\n",
       "246    1\n",
       "285    2\n",
       "286    1\n",
       "305    1\n",
       "324    1\n",
       "336    1\n",
       "339    5\n",
       "dtype: int64"
      ]
     },
     "execution_count": 36,
     "metadata": {},
     "output_type": "execute_result"
    }
   ],
   "source": [
    "# 예제 3: 결측값의 개수 확인하기\n",
    "\n",
    "print(\"각 열의 결측값 개수: \")\n",
    "print(df.isna().sum())\n",
    "\n",
    "print(\"\\n\")\n",
    "print(\"각 행의 결측값 개수: \")\n",
    "print(df.isna().sum(axis=1))\n",
    "\n",
    "print(\"\\n\")\n",
    "print(\"결측값이 있는 행의 결측값 개수: \")\n",
    "df.loc[df.isna().any(axis=1)].isna().sum(axis=1)"
   ]
  },
  {
   "cell_type": "markdown",
   "id": "f5444ed7-5633-454c-b363-4c36837522a5",
   "metadata": {},
   "source": [
    "> 각 열에 적으면 2개에서 많으면 11개의 결측값이 있음을 확인할 수 있습니다.  \n",
    "> 결측값이 있는 행은 1개 혹은 2개 많으면 5개의 결측값이 있음을 확인할 수 있습니다. "
   ]
  },
  {
   "cell_type": "markdown",
   "id": "b3d9f18f-4f3d-4a62-b062-7e68738cfce9",
   "metadata": {},
   "source": [
    "#### <연습문제>\n",
    "\n",
    "<a class=\"jcecodle-mk jcecodle-mk__problem-chip\" data-problem-id=\"g6OnqbcKpBI\" href='#jce-judge/open/g6OnqbcKpBI' target='_self'><span>판다스 - 결측값 처리 - 개수 확인하기</span></a>\n"
   ]
  },
  {
   "cell_type": "markdown",
   "id": "41f90cc2-f258-4e0c-8723-3fb3cee61306",
   "metadata": {
    "tags": []
   },
   "source": [
    "## **2. 결측값 제거**\n",
    "\n",
    "> 결측값이 있는 데이터는 정보가 누락되어 통계량을 구하거나 인공지능 학습에 사용될 수 없습니다.  \n",
    "> 다른 값으로 대체하여 사용할 수도 있지만 결측 데이터가 너무 많은 경우에는 제거하는 편이 좋습니다.  \n",
    ">\n",
    "> 정보가 누락된 펭귄의 데이터 (행 데이터) 를 제거하여 봅시다. "
   ]
  },
  {
   "cell_type": "markdown",
   "id": "7baeb0ac-2caa-4a6f-90ee-9a4882c4f34c",
   "metadata": {
    "tags": []
   },
   "source": [
    "### **(1) 결측값이 있는 열 기준으로 제거하기**\n",
    "\n",
    "> `dropna()`를 이용하면 결측값이 존재하는 행이 모두 제거됩니다.  \n",
    "> 이때 `subset` 인수에 열을 지정하면 해당 열에 결측값이 있는 경우에만 행을 제거합니다.  \n",
    ">\n",
    "> `Series.dropna()` : 결측값이 있는 행을 모두 제거  \n",
    "> `DataFrame.dropna()` : 결측값이 있는 행을 모두 제거  \n",
    "> `DataFrame.dropna(subset=[\"col1\", \"col2\"])`  \n",
    "> : col1, col2 열에 결측값이 있는 행을 모두 제거"
   ]
  },
  {
   "cell_type": "markdown",
   "id": "04fa02d8-9652-47f8-9218-034e9fe84970",
   "metadata": {},
   "source": [
    "> 결측값이 있는 열 중에 펭귄의 \"종\"과 \"성별\"은 신체 크기를 결정하는 중요한 데이터입니다.  \n",
    "> \"종\"이나 \"성별\" 데이터가 없는 데이터는 사용하기 어렵기 때문에 제거하여 봅시다. "
   ]
  },
  {
   "cell_type": "code",
   "execution_count": 43,
   "id": "5ee4ca2d-6424-4008-82ef-7a4a590ae458",
   "metadata": {},
   "outputs": [
    {
     "data": {
      "text/plain": [
       "종           False\n",
       "서식지         False\n",
       "부리_길이_mm     True\n",
       "부리_높이_mm    False\n",
       "날개_길이_mm     True\n",
       "무게_g         True\n",
       "성별          False\n",
       "dtype: bool"
      ]
     },
     "execution_count": 43,
     "metadata": {},
     "output_type": "execute_result"
    }
   ],
   "source": [
    "# 예제 4: 결측값이 있는 열 기준으로 행 제거하기\n",
    "\n",
    "# 종과 성별 열에 결측값이 있는 데이터 제거하기\n",
    "df_drop_1 = df.dropna(subset=[\"종\", \"성별\"])\n",
    "\n",
    "# 제거 후 결측값이 있는 열 확인하기\n",
    "df_drop_1.isna().any()"
   ]
  },
  {
   "cell_type": "markdown",
   "id": "f15bb46e-e131-42af-adb6-2a983f8b4e66",
   "metadata": {},
   "source": [
    "> 더이상 \"종\", \"성별\" 열에 결측값이 존재하지 않음을 확인할 수 있습니다.  "
   ]
  },
  {
   "cell_type": "markdown",
   "id": "0f27955f-a062-4d85-b678-d7e0efe6aae6",
   "metadata": {
    "tags": []
   },
   "source": [
    "#### <연습문제>\n",
    "\n",
    "<a class=\"jcecodle-mk jcecodle-mk__problem-chip\" data-problem-id=\"3byVGYRn9Iw\" href='#jce-judge/open/3byVGYRn9Iw' target='_self'><span>판다스 - 결측값 처리 - 열 기준 제거</span></a>\n",
    "\n"
   ]
  },
  {
   "cell_type": "markdown",
   "id": "3e2b07af-26d6-48dc-b957-acc96d24fb44",
   "metadata": {
    "tags": []
   },
   "source": [
    "### **(2) 결측값의 개수 기준으로 제거하기**\n",
    "\n",
    "> `dropna()`를 이용하면 결측값이 존재하는 행이 모두 제거됩니다.  \n",
    "> 이때 `thresh` 인수에 열을 지정하면 해당 열에 결측값이 있는 경우에만 행을 제거합니다.  \n",
    ">\n",
    "> `DataFrame.dropna(thresh=n)`  \n",
    "> : 행에 존재하는 데이터가 n개 이상인 경우를 제외하고 제거 "
   ]
  },
  {
   "cell_type": "markdown",
   "id": "6d089a1b-3bc4-463f-9ef0-be429ec03831",
   "metadata": {},
   "source": [
    "> 결측값이 너무 많은 펭귄 데이터는 사용할 수 없습니다.  \n",
    "> 존재하는 값이 5개 이상인 데이터만 남기고 제거하여 봅시다."
   ]
  },
  {
   "cell_type": "code",
   "execution_count": 44,
   "id": "35043a48-34b1-4ef5-83a5-a3430a122eec",
   "metadata": {},
   "outputs": [
    {
     "name": "stdout",
     "output_type": "stream",
     "text": [
      "결측값이 있는 행의 결측값 개수: \n"
     ]
    },
    {
     "data": {
      "text/plain": [
       "5      1\n",
       "8      1\n",
       "9      1\n",
       "10     1\n",
       "11     1\n",
       "15     1\n",
       "45     2\n",
       "47     1\n",
       "105    2\n",
       "125    1\n",
       "145    1\n",
       "195    1\n",
       "205    2\n",
       "245    1\n",
       "246    1\n",
       "285    2\n",
       "286    1\n",
       "305    1\n",
       "324    1\n",
       "336    1\n",
       "dtype: int64"
      ]
     },
     "execution_count": 44,
     "metadata": {},
     "output_type": "execute_result"
    }
   ],
   "source": [
    "# 예제 5: 결측값의 개수 기준으로 행 제거하기\n",
    "\n",
    "# 존재하는 값이 5개 미만인 데이터 제거하기\n",
    "df_drop_2 = df.dropna(thresh=5)\n",
    "\n",
    "print(\"결측값이 있는 행의 결측값 개수: \")\n",
    "df_drop_2.loc[df_drop_2.isna().any(axis=1)].isna().sum(axis=1)"
   ]
  },
  {
   "cell_type": "markdown",
   "id": "5153d2c1-b3db-4946-8961-9828b530b6f4",
   "metadata": {},
   "source": [
    "> 총 7개의 열이 있으므로 결측치가 있더라도 5 ~ 6개의 데이터가 존재하는 데이터만 남아있음을 확인할 수 있습니다. "
   ]
  },
  {
   "cell_type": "markdown",
   "id": "4f1235c2-6a2f-4e8a-b953-7af10e4ae533",
   "metadata": {
    "tags": []
   },
   "source": [
    "#### <연습문제>\n",
    "\n",
    "<a class=\"jcecodle-mk jcecodle-mk__problem-chip\" data-problem-id=\"afipiWToT9s\" href='#jce-judge/open/afipiWToT9s' target='_self'><span>판다스 - 결측값 처리 - 개수 기준 제거</span></a>\n",
    "\n"
   ]
  },
  {
   "cell_type": "markdown",
   "id": "8781972b-bc1b-4f6c-af1b-6f38b95fffea",
   "metadata": {},
   "source": [
    "> `dropna`의 경우에도 `inplace=True` 로 인수를 지정해주어야 원본의 데이터도 바꾸어 줍니다.  \n",
    "> 위의 과정을 다시 반복하여 원본 데이터를 변경하여 봅시다. "
   ]
  },
  {
   "cell_type": "code",
   "execution_count": 46,
   "id": "fd78ce9a-bac0-40e7-9f89-5979792ad7a8",
   "metadata": {},
   "outputs": [
    {
     "name": "stdout",
     "output_type": "stream",
     "text": [
      "결측값이 있는 행 데이터 출력하기: \n"
     ]
    },
    {
     "data": {
      "text/html": [
       "<div>\n",
       "<style scoped>\n",
       "    .dataframe tbody tr th:only-of-type {\n",
       "        vertical-align: middle;\n",
       "    }\n",
       "\n",
       "    .dataframe tbody tr th {\n",
       "        vertical-align: top;\n",
       "    }\n",
       "\n",
       "    .dataframe thead th {\n",
       "        text-align: right;\n",
       "    }\n",
       "</style>\n",
       "<table border=\"1\" class=\"dataframe\">\n",
       "  <thead>\n",
       "    <tr style=\"text-align: right;\">\n",
       "      <th></th>\n",
       "      <th>종</th>\n",
       "      <th>서식지</th>\n",
       "      <th>부리_길이_mm</th>\n",
       "      <th>부리_높이_mm</th>\n",
       "      <th>날개_길이_mm</th>\n",
       "      <th>무게_g</th>\n",
       "      <th>성별</th>\n",
       "    </tr>\n",
       "  </thead>\n",
       "  <tbody>\n",
       "    <tr>\n",
       "      <th>15</th>\n",
       "      <td>Adelie</td>\n",
       "      <td>Torgersen</td>\n",
       "      <td>NaN</td>\n",
       "      <td>17.8</td>\n",
       "      <td>185.0</td>\n",
       "      <td>3700.0</td>\n",
       "      <td>Female</td>\n",
       "    </tr>\n",
       "    <tr>\n",
       "      <th>45</th>\n",
       "      <td>Adelie</td>\n",
       "      <td>Dream</td>\n",
       "      <td>39.6</td>\n",
       "      <td>18.8</td>\n",
       "      <td>NaN</td>\n",
       "      <td>NaN</td>\n",
       "      <td>Male</td>\n",
       "    </tr>\n",
       "    <tr>\n",
       "      <th>125</th>\n",
       "      <td>Adelie</td>\n",
       "      <td>Torgersen</td>\n",
       "      <td>40.6</td>\n",
       "      <td>19.0</td>\n",
       "      <td>NaN</td>\n",
       "      <td>4000.0</td>\n",
       "      <td>Male</td>\n",
       "    </tr>\n",
       "    <tr>\n",
       "      <th>145</th>\n",
       "      <td>Adelie</td>\n",
       "      <td>Dream</td>\n",
       "      <td>39.0</td>\n",
       "      <td>18.7</td>\n",
       "      <td>185.0</td>\n",
       "      <td>NaN</td>\n",
       "      <td>Male</td>\n",
       "    </tr>\n",
       "    <tr>\n",
       "      <th>195</th>\n",
       "      <td>Chinstrap</td>\n",
       "      <td>Dream</td>\n",
       "      <td>NaN</td>\n",
       "      <td>17.0</td>\n",
       "      <td>196.0</td>\n",
       "      <td>3500.0</td>\n",
       "      <td>Female</td>\n",
       "    </tr>\n",
       "    <tr>\n",
       "      <th>245</th>\n",
       "      <td>Gentoo</td>\n",
       "      <td>Biscoe</td>\n",
       "      <td>46.1</td>\n",
       "      <td>15.1</td>\n",
       "      <td>215.0</td>\n",
       "      <td>NaN</td>\n",
       "      <td>Male</td>\n",
       "    </tr>\n",
       "    <tr>\n",
       "      <th>285</th>\n",
       "      <td>Gentoo</td>\n",
       "      <td>Biscoe</td>\n",
       "      <td>NaN</td>\n",
       "      <td>16.8</td>\n",
       "      <td>NaN</td>\n",
       "      <td>5700.0</td>\n",
       "      <td>Male</td>\n",
       "    </tr>\n",
       "  </tbody>\n",
       "</table>\n",
       "</div>"
      ],
      "text/plain": [
       "             종        서식지  부리_길이_mm  부리_높이_mm  날개_길이_mm    무게_g      성별\n",
       "15      Adelie  Torgersen       NaN      17.8     185.0  3700.0  Female\n",
       "45      Adelie      Dream      39.6      18.8       NaN     NaN    Male\n",
       "125     Adelie  Torgersen      40.6      19.0       NaN  4000.0    Male\n",
       "145     Adelie      Dream      39.0      18.7     185.0     NaN    Male\n",
       "195  Chinstrap      Dream       NaN      17.0     196.0  3500.0  Female\n",
       "245     Gentoo     Biscoe      46.1      15.1     215.0     NaN    Male\n",
       "285     Gentoo     Biscoe       NaN      16.8       NaN  5700.0    Male"
      ]
     },
     "execution_count": 46,
     "metadata": {},
     "output_type": "execute_result"
    }
   ],
   "source": [
    "# 예제 6: 원본 데이터 변경\n",
    "\n",
    "# 종과 성별 열에 결측값이 있는 데이터 제거하기\n",
    "df.dropna(subset=[\"종\", \"성별\"], inplace=True)\n",
    "\n",
    "# 존재하는 값이 5개 미만인 데이터 제거하기\n",
    "df.dropna(thresh=5, inplace=True)\n",
    "\n",
    "print(\"결측값이 있는 행 데이터 출력하기: \")\n",
    "df.loc[df.isna().any(axis=1)]"
   ]
  },
  {
   "cell_type": "markdown",
   "id": "8e4bd91d-53e0-48d0-aad4-7e87112c7c4e",
   "metadata": {
    "tags": []
   },
   "source": [
    "## **3. 결측값 변경**\n",
    "\n",
    "> 결측값이 있는 데이터는 정보가 누락되어 통계량을 구하거나 인공지능 학습에 사용될 수 없습니다.  \n",
    "> 결측값이 있는 데이터를 제거하는게 간단한 방법이지만 너무 많은 데이터를 삭제하게 되면 문제가 생깁니다.   \n",
    "> 그런때에는 결측값 자리에 새로운 데이터 값을 대체하여 사용할 수 있습니다.  \n",
    ">\n",
    "> 정보가 누락된 펭귄의 데이터를 변경하여 봅시다."
   ]
  },
  {
   "cell_type": "markdown",
   "id": "3124a696-b759-4037-9e2e-f6e75583901c",
   "metadata": {
    "tags": []
   },
   "source": [
    "### **(1) 모두 같은 값으로 대체하기**\n",
    "\n",
    "> `fillna()`를 이용하면 결측 자리에 새로운 값이 채워집니다.  \n",
    ">\n",
    "> `data.fillna(value)` : 모든 결측값을 value로 대체"
   ]
  },
  {
   "cell_type": "markdown",
   "id": "f3adf1fc-b4d3-41ff-be90-62de8497d5a1",
   "metadata": {},
   "source": [
    "> 펭귄의 \"부리 길이\", \"날개 길이\", \"무게\"에 결측값이 있습니다.  \n",
    "> 측정한 수치가 없으므로 모두 0으로 대체하여 봅시다. "
   ]
  },
  {
   "cell_type": "code",
   "execution_count": 48,
   "id": "9a8749ad-84a1-49b5-b814-3b21d7549363",
   "metadata": {},
   "outputs": [
    {
     "name": "stdout",
     "output_type": "stream",
     "text": [
      "결측값이 있었던 행 데이터 출력하기: \n"
     ]
    },
    {
     "data": {
      "text/html": [
       "<div>\n",
       "<style scoped>\n",
       "    .dataframe tbody tr th:only-of-type {\n",
       "        vertical-align: middle;\n",
       "    }\n",
       "\n",
       "    .dataframe tbody tr th {\n",
       "        vertical-align: top;\n",
       "    }\n",
       "\n",
       "    .dataframe thead th {\n",
       "        text-align: right;\n",
       "    }\n",
       "</style>\n",
       "<table border=\"1\" class=\"dataframe\">\n",
       "  <thead>\n",
       "    <tr style=\"text-align: right;\">\n",
       "      <th></th>\n",
       "      <th>종</th>\n",
       "      <th>서식지</th>\n",
       "      <th>부리_길이_mm</th>\n",
       "      <th>부리_높이_mm</th>\n",
       "      <th>날개_길이_mm</th>\n",
       "      <th>무게_g</th>\n",
       "      <th>성별</th>\n",
       "    </tr>\n",
       "  </thead>\n",
       "  <tbody>\n",
       "    <tr>\n",
       "      <th>15</th>\n",
       "      <td>Adelie</td>\n",
       "      <td>Torgersen</td>\n",
       "      <td>0.0</td>\n",
       "      <td>17.8</td>\n",
       "      <td>185.0</td>\n",
       "      <td>3700.0</td>\n",
       "      <td>Female</td>\n",
       "    </tr>\n",
       "    <tr>\n",
       "      <th>45</th>\n",
       "      <td>Adelie</td>\n",
       "      <td>Dream</td>\n",
       "      <td>39.6</td>\n",
       "      <td>18.8</td>\n",
       "      <td>0.0</td>\n",
       "      <td>0.0</td>\n",
       "      <td>Male</td>\n",
       "    </tr>\n",
       "    <tr>\n",
       "      <th>125</th>\n",
       "      <td>Adelie</td>\n",
       "      <td>Torgersen</td>\n",
       "      <td>40.6</td>\n",
       "      <td>19.0</td>\n",
       "      <td>0.0</td>\n",
       "      <td>4000.0</td>\n",
       "      <td>Male</td>\n",
       "    </tr>\n",
       "    <tr>\n",
       "      <th>145</th>\n",
       "      <td>Adelie</td>\n",
       "      <td>Dream</td>\n",
       "      <td>39.0</td>\n",
       "      <td>18.7</td>\n",
       "      <td>185.0</td>\n",
       "      <td>0.0</td>\n",
       "      <td>Male</td>\n",
       "    </tr>\n",
       "    <tr>\n",
       "      <th>195</th>\n",
       "      <td>Chinstrap</td>\n",
       "      <td>Dream</td>\n",
       "      <td>0.0</td>\n",
       "      <td>17.0</td>\n",
       "      <td>196.0</td>\n",
       "      <td>3500.0</td>\n",
       "      <td>Female</td>\n",
       "    </tr>\n",
       "    <tr>\n",
       "      <th>245</th>\n",
       "      <td>Gentoo</td>\n",
       "      <td>Biscoe</td>\n",
       "      <td>46.1</td>\n",
       "      <td>15.1</td>\n",
       "      <td>215.0</td>\n",
       "      <td>0.0</td>\n",
       "      <td>Male</td>\n",
       "    </tr>\n",
       "    <tr>\n",
       "      <th>285</th>\n",
       "      <td>Gentoo</td>\n",
       "      <td>Biscoe</td>\n",
       "      <td>0.0</td>\n",
       "      <td>16.8</td>\n",
       "      <td>0.0</td>\n",
       "      <td>5700.0</td>\n",
       "      <td>Male</td>\n",
       "    </tr>\n",
       "  </tbody>\n",
       "</table>\n",
       "</div>"
      ],
      "text/plain": [
       "             종        서식지  부리_길이_mm  부리_높이_mm  날개_길이_mm    무게_g      성별\n",
       "15      Adelie  Torgersen       0.0      17.8     185.0  3700.0  Female\n",
       "45      Adelie      Dream      39.6      18.8       0.0     0.0    Male\n",
       "125     Adelie  Torgersen      40.6      19.0       0.0  4000.0    Male\n",
       "145     Adelie      Dream      39.0      18.7     185.0     0.0    Male\n",
       "195  Chinstrap      Dream       0.0      17.0     196.0  3500.0  Female\n",
       "245     Gentoo     Biscoe      46.1      15.1     215.0     0.0    Male\n",
       "285     Gentoo     Biscoe       0.0      16.8       0.0  5700.0    Male"
      ]
     },
     "execution_count": 48,
     "metadata": {},
     "output_type": "execute_result"
    }
   ],
   "source": [
    "# 예제 7: 결측값 모두 같은 새로운 값으로 대체하기\n",
    "\n",
    "# 결측값을 모두 0으로 변경하기\n",
    "df_fill_1 = df.fillna(0)\n",
    "\n",
    "print(\"결측값이 있었던 행 데이터 출력하기: \")\n",
    "df_fill_1.loc[df.isna().any(axis=1)]"
   ]
  },
  {
   "cell_type": "markdown",
   "id": "2ef88547-6793-40f5-8bb1-01e7884a6c48",
   "metadata": {},
   "source": [
    "> 결측값이 있던 자리에 모두 0이라는 새로운 데이터 값이 채워진 것을 확인할 수 있습니다."
   ]
  },
  {
   "cell_type": "markdown",
   "id": "15fc0575-a5d2-4bdb-932d-763df15f8087",
   "metadata": {},
   "source": [
    "#### <연습문제>\n",
    "\n",
    "<a class=\"jcecodle-mk jcecodle-mk__problem-chip\" data-problem-id=\"1a5lam-7dW8\" href='#jce-judge/open/1a5lam-7dW8' target='_self'><span>판다스 - 결측값 처리 - 일괄 변경</span></a>\n"
   ]
  },
  {
   "cell_type": "markdown",
   "id": "6afbb05a-1c10-42a5-a445-8d25467c2ba6",
   "metadata": {},
   "source": [
    "> 결측값이 0으로 대체된 데이터는 사용하기에 적절할까요?  \n",
    "> 그렇지 않습니다.  \n",
    "> 부리의 길이나 날개의 길이 그리고 무게가 0인 펭귄은 존재하지 않습니다.  \n",
    ">\n",
    "> 데이터의 값을 대체할 때에는 전체 데이터의 통계량을 바꾸지 않도록 하는 것이 필요합니다.  \n",
    "> 각 열은 서로 다른 의미를 가지는 데이터이므로 각 열의 통계량에 맞추어 열마다 다른 값으로 대체하는 것이 좋습니다.  \n",
    "> 전체 데이터의 통계량을 크게 바꾸지 않는 대표적인 방법은 다음과 같습니다.  \n",
    ">\n",
    "> * 수치형의 경우 평균값으로 대체한다.\n",
    "> * 문자형의 경우 최빈값으로 대체한다. "
   ]
  },
  {
   "cell_type": "markdown",
   "id": "0d751545-8214-42f6-919a-ae1b47d3e36d",
   "metadata": {
    "tags": []
   },
   "source": [
    "### **(2) 열 마다 다른 값으로 대체하기**\n",
    "\n",
    "> `fillna()`를 이용하면 결측 자리에 새로운 값이 채워집니다.  \n",
    "> 이때, 열의 이름이 key이고 대체값이 value인 dictionary를 이용하면 각 열마다 다른 대체값을 이용할 수 있습니다.  \n",
    ">\n",
    "> `data.fillna({col1: value1, col2: value2})`  \n",
    "> : col1의 결측값은 value1으로 col2의 결측값은 value2로 대체"
   ]
  },
  {
   "cell_type": "markdown",
   "id": "31466650-5e82-42c6-9ff1-a0d9b6c97d15",
   "metadata": {},
   "source": [
    "> 각 열의 평균값을 대체값으로 하여 결측값을 채워봅시다.  "
   ]
  },
  {
   "cell_type": "code",
   "execution_count": 50,
   "id": "f3e722dc-21d6-45d4-82ee-c9a58edc4767",
   "metadata": {},
   "outputs": [
    {
     "name": "stdout",
     "output_type": "stream",
     "text": [
      "결측값이 있었던 행 데이터 출력하기: \n"
     ]
    },
    {
     "data": {
      "text/html": [
       "<div>\n",
       "<style scoped>\n",
       "    .dataframe tbody tr th:only-of-type {\n",
       "        vertical-align: middle;\n",
       "    }\n",
       "\n",
       "    .dataframe tbody tr th {\n",
       "        vertical-align: top;\n",
       "    }\n",
       "\n",
       "    .dataframe thead th {\n",
       "        text-align: right;\n",
       "    }\n",
       "</style>\n",
       "<table border=\"1\" class=\"dataframe\">\n",
       "  <thead>\n",
       "    <tr style=\"text-align: right;\">\n",
       "      <th></th>\n",
       "      <th>종</th>\n",
       "      <th>서식지</th>\n",
       "      <th>부리_길이_mm</th>\n",
       "      <th>부리_높이_mm</th>\n",
       "      <th>날개_길이_mm</th>\n",
       "      <th>무게_g</th>\n",
       "      <th>성별</th>\n",
       "    </tr>\n",
       "  </thead>\n",
       "  <tbody>\n",
       "    <tr>\n",
       "      <th>15</th>\n",
       "      <td>Adelie</td>\n",
       "      <td>Torgersen</td>\n",
       "      <td>43.979141</td>\n",
       "      <td>17.8</td>\n",
       "      <td>185.00000</td>\n",
       "      <td>3700.000000</td>\n",
       "      <td>Female</td>\n",
       "    </tr>\n",
       "    <tr>\n",
       "      <th>45</th>\n",
       "      <td>Adelie</td>\n",
       "      <td>Dream</td>\n",
       "      <td>39.600000</td>\n",
       "      <td>18.8</td>\n",
       "      <td>200.91411</td>\n",
       "      <td>4204.754601</td>\n",
       "      <td>Male</td>\n",
       "    </tr>\n",
       "    <tr>\n",
       "      <th>125</th>\n",
       "      <td>Adelie</td>\n",
       "      <td>Torgersen</td>\n",
       "      <td>40.600000</td>\n",
       "      <td>19.0</td>\n",
       "      <td>200.91411</td>\n",
       "      <td>4000.000000</td>\n",
       "      <td>Male</td>\n",
       "    </tr>\n",
       "    <tr>\n",
       "      <th>145</th>\n",
       "      <td>Adelie</td>\n",
       "      <td>Dream</td>\n",
       "      <td>39.000000</td>\n",
       "      <td>18.7</td>\n",
       "      <td>185.00000</td>\n",
       "      <td>4204.754601</td>\n",
       "      <td>Male</td>\n",
       "    </tr>\n",
       "    <tr>\n",
       "      <th>195</th>\n",
       "      <td>Chinstrap</td>\n",
       "      <td>Dream</td>\n",
       "      <td>43.979141</td>\n",
       "      <td>17.0</td>\n",
       "      <td>196.00000</td>\n",
       "      <td>3500.000000</td>\n",
       "      <td>Female</td>\n",
       "    </tr>\n",
       "    <tr>\n",
       "      <th>245</th>\n",
       "      <td>Gentoo</td>\n",
       "      <td>Biscoe</td>\n",
       "      <td>46.100000</td>\n",
       "      <td>15.1</td>\n",
       "      <td>215.00000</td>\n",
       "      <td>4204.754601</td>\n",
       "      <td>Male</td>\n",
       "    </tr>\n",
       "    <tr>\n",
       "      <th>285</th>\n",
       "      <td>Gentoo</td>\n",
       "      <td>Biscoe</td>\n",
       "      <td>43.979141</td>\n",
       "      <td>16.8</td>\n",
       "      <td>200.91411</td>\n",
       "      <td>5700.000000</td>\n",
       "      <td>Male</td>\n",
       "    </tr>\n",
       "  </tbody>\n",
       "</table>\n",
       "</div>"
      ],
      "text/plain": [
       "             종        서식지   부리_길이_mm  부리_높이_mm   날개_길이_mm         무게_g      성별\n",
       "15      Adelie  Torgersen  43.979141      17.8  185.00000  3700.000000  Female\n",
       "45      Adelie      Dream  39.600000      18.8  200.91411  4204.754601    Male\n",
       "125     Adelie  Torgersen  40.600000      19.0  200.91411  4000.000000    Male\n",
       "145     Adelie      Dream  39.000000      18.7  185.00000  4204.754601    Male\n",
       "195  Chinstrap      Dream  43.979141      17.0  196.00000  3500.000000  Female\n",
       "245     Gentoo     Biscoe  46.100000      15.1  215.00000  4204.754601    Male\n",
       "285     Gentoo     Biscoe  43.979141      16.8  200.91411  5700.000000    Male"
      ]
     },
     "execution_count": 50,
     "metadata": {},
     "output_type": "execute_result"
    }
   ],
   "source": [
    "# 예제 7: 각 열마다 다른 값으로 결측값 대체하기\n",
    "\n",
    "# 각 열의 이름을 key 각 열의 평균값을 value로 하는 dictionary 만들기\n",
    "dictionary = {\"부리_길이_mm\": df[\"부리_길이_mm\"].mean(), \n",
    "              \"날개_길이_mm\": df[\"날개_길이_mm\"].mean(), \n",
    "              \"무게_g\": df[\"무게_g\"].mean()}\n",
    "\n",
    "# 각 열마다 다른 값으로 결측값 대체하기\n",
    "df_fill_2 = df.fillna(dictionary)\n",
    " \n",
    "print(\"결측값이 있었던 행 데이터 출력하기: \")\n",
    "df_fill_2.loc[df.isna().any(axis=1)]"
   ]
  },
  {
   "cell_type": "markdown",
   "id": "243fb093-0339-4d4a-905c-447071f1f29e",
   "metadata": {},
   "source": [
    "#### <연습문제>\n",
    "\n",
    "<a class=\"jcecodle-mk jcecodle-mk__problem-chip\" data-problem-id=\"19-h_lB1w-I\" href='#jce-judge/open/19-h_lB1w-I' target='_self'><span>판다스 - 결측값 처리 - 열에 따라 변경(1)</span></a>\n",
    "\n",
    "<a class=\"jcecodle-mk jcecodle-mk__problem-chip\" data-problem-id=\"BXTt2Rjlq5w\" href='#jce-judge/open/BXTt2Rjlq5w' target='_self'><span>판다스 - 결측값 처리 - 열에 따라 변경(2)</span></a>\n"
   ]
  },
  {
   "cell_type": "code",
   "execution_count": null,
   "id": "cf769a35-c7b6-401c-b204-81df8469039b",
   "metadata": {},
   "outputs": [],
   "source": []
  }
 ],
 "metadata": {
  "kernelspec": {
   "display_name": "Python 3 (ipykernel)",
   "language": "python",
   "name": "python3"
  },
  "language_info": {
   "codemirror_mode": {
    "name": "ipython",
    "version": 3
   },
   "file_extension": ".py",
   "mimetype": "text/x-python",
   "name": "python",
   "nbconvert_exporter": "python",
   "pygments_lexer": "ipython3",
   "version": "3.10.9"
  }
 },
 "nbformat": 4,
 "nbformat_minor": 5
}
