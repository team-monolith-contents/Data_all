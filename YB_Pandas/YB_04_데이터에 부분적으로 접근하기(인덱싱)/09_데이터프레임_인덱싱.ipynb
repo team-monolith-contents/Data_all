{
 "cells": [
  {
   "cell_type": "markdown",
   "id": "d7408c9a-bce3-4385-8cb8-51bbe9902972",
   "metadata": {
    "tags": []
   },
   "source": [
    "#### [시작하기]\n",
    "\n",
    "<div class=\"alert alert-info\">\n",
    "    <font color=black>\n",
    "    Pandas를 사용하기 위해서 처음 할 일을 무엇인가요?\n",
    "    </font>\n",
    "</div>"
   ]
  },
  {
   "cell_type": "code",
   "execution_count": 1,
   "id": "a022ca8d-8151-4def-8fde-177215c49a17",
   "metadata": {},
   "outputs": [],
   "source": [
    "import pandas as pd # 판다스를 pd로 축약하여 불러옵니다"
   ]
  },
  {
   "cell_type": "markdown",
   "id": "6b63c9cc-92be-4a59-b710-13dd91bc8d9c",
   "metadata": {
    "tags": []
   },
   "source": [
    "# **[9] DataFrame 인덱싱**\n",
    "\n",
    "[오늘 배울 것]\n",
    "1. DataFrame의 열을 인덱싱할 수 있다.\n",
    "2. DataFrame를 행을 인덱싱할 수 있다.\n",
    "3. DataFrame의 부분을 2차원 인덱싱할 수 있다."
   ]
  },
  {
   "cell_type": "markdown",
   "id": "f9ab56ba-b13b-42a2-bc36-abe5e24c46d6",
   "metadata": {},
   "source": [
    " \n",
    "> DataFrame은 데이터를 열과 행 두가지 차원으로 구조화하고 있습니다.  \n",
    "> DataFrame을 인덱싱할 때에는 열과 행을 구분할 줄 알아야 합니다. \n",
    ">\n",
    "> 사용할 DataFrame을 하나 만들어봅시다. "
   ]
  },
  {
   "cell_type": "code",
   "execution_count": 2,
   "id": "6d2ed94b-f817-42b4-af66-b0dbf17c06ff",
   "metadata": {},
   "outputs": [
    {
     "data": {
      "text/html": [
       "<div>\n",
       "<style scoped>\n",
       "    .dataframe tbody tr th:only-of-type {\n",
       "        vertical-align: middle;\n",
       "    }\n",
       "\n",
       "    .dataframe tbody tr th {\n",
       "        vertical-align: top;\n",
       "    }\n",
       "\n",
       "    .dataframe thead th {\n",
       "        text-align: right;\n",
       "    }\n",
       "</style>\n",
       "<table border=\"1\" class=\"dataframe\">\n",
       "  <thead>\n",
       "    <tr style=\"text-align: right;\">\n",
       "      <th></th>\n",
       "      <th>price</th>\n",
       "      <th>pcs</th>\n",
       "      <th>brand</th>\n",
       "    </tr>\n",
       "  </thead>\n",
       "  <tbody>\n",
       "    <tr>\n",
       "      <th>apple</th>\n",
       "      <td>1000</td>\n",
       "      <td>5</td>\n",
       "      <td>any</td>\n",
       "    </tr>\n",
       "    <tr>\n",
       "      <th>cup</th>\n",
       "      <td>2000</td>\n",
       "      <td>1</td>\n",
       "      <td>kakao</td>\n",
       "    </tr>\n",
       "    <tr>\n",
       "      <th>pen</th>\n",
       "      <td>500</td>\n",
       "      <td>3</td>\n",
       "      <td>monami</td>\n",
       "    </tr>\n",
       "    <tr>\n",
       "      <th>banana</th>\n",
       "      <td>4000</td>\n",
       "      <td>2</td>\n",
       "      <td>delmont</td>\n",
       "    </tr>\n",
       "  </tbody>\n",
       "</table>\n",
       "</div>"
      ],
      "text/plain": [
       "        price  pcs    brand\n",
       "apple    1000    5      any\n",
       "cup      2000    1    kakao\n",
       "pen       500    3   monami\n",
       "banana   4000    2  delmont"
      ]
     },
     "execution_count": 2,
     "metadata": {},
     "output_type": "execute_result"
    }
   ],
   "source": [
    "# 예제 1: Pandas DataFrame 만들기\n",
    "\n",
    "ShoppingList = pd.DataFrame(index=['apple', 'cup', 'pen', 'banana'], \n",
    "                            data={'price':[1000, 2000, 500, 4000],\n",
    "                                  'pcs': [5, 1, 3, 2], \n",
    "                                  'brand':['any', 'kakao', 'monami', 'delmont']})\n",
    "ShoppingList"
   ]
  },
  {
   "attachments": {
    "38288198-3c04-4a44-bba6-88879c313a37.png": {
     "image/png": "[encoded data removed]"
    }
   },
   "cell_type": "markdown",
   "id": "9e25aa6d-59fe-4f7d-a213-4be4d9341895",
   "metadata": {
    "tags": []
   },
   "source": [
    "## **1. DataFrame 열 인덱싱**\n",
    "\n",
    "![Indexing-Column.png](attachment:38288198-3c04-4a44-bba6-88879c313a37.png)"
   ]
  },
  {
   "cell_type": "markdown",
   "id": "216aaf5f-839e-4bf0-8a4e-979259289146",
   "metadata": {
    "jp-MarkdownHeadingCollapsed": true,
    "tags": []
   },
   "source": [
    "### **(1) Column 순서로 불러오는 방법**\n",
    "\n",
    "> **없습니다!**  \n",
    "> Column의 순서로 열 데이터를 부르는 방법은 존재하지 않으니 주의합니다.  \n",
    ">\n",
    "> 다만 Column의 이름을 따로 설정하지 않은 경우에는 0부터 시작하는 순번이 이름이 됩니다.  "
   ]
  },
  {
   "cell_type": "markdown",
   "id": "7670ae87-b56d-4c31-a9f9-34f51150585c",
   "metadata": {
    "tags": []
   },
   "source": [
    "### **(2) Column 이름으로 불러오는 방법**\n",
    "\n",
    "> Column의 이름은 열의 데이터를 대변하는 Key 입니다.  \n",
    "> 다음와 같이 Column의 이름을 이용해 데이터를 찾을 수 있습니다. \n",
    ">\n",
    ">`pd.DataFrame[\"column_name\"]`  \n",
    ">`pd.DataFrame.column_name`\n",
    ">\n",
    ">두 방법 모두 해당하는 열을 반환하며 DataFrame의 열 1개는 Series입니다.  "
   ]
  },
  {
   "cell_type": "code",
   "execution_count": 3,
   "id": "1285ee85-3e28-4bfa-9a60-200452015d7c",
   "metadata": {},
   "outputs": [
    {
     "name": "stdout",
     "output_type": "stream",
     "text": [
      "price 열: \n",
      " apple     1000\n",
      "cup       2000\n",
      "pen        500\n",
      "banana    4000\n",
      "Name: price, dtype: int64\n",
      "\n",
      "pcs 열: \n",
      " apple     5\n",
      "cup       1\n",
      "pen       3\n",
      "banana    2\n",
      "Name: pcs, dtype: int64\n"
     ]
    }
   ],
   "source": [
    "# 예제 2 : Pandas DataFrame 열 데이터를 불러오기\n",
    "\n",
    "print(\"price 열: \\n\", ShoppingList[\"price\"])\n",
    "print(\"\\npcs 열: \\n\", ShoppingList.pcs)"
   ]
  },
  {
   "cell_type": "markdown",
   "id": "21df6fe0-6908-4311-800e-28d52c154ea1",
   "metadata": {},
   "source": [
    "> Column의 이름이 반환된 Series의 이름이 되는 것을 확인할 수 있습니다. "
   ]
  },
  {
   "cell_type": "markdown",
   "id": "9d54e8e0-5e3e-47ec-8a85-5ef2f80669d0",
   "metadata": {},
   "source": [
    "#### <연습문제>\n",
    "<a class=\"jcecodle-mk jcecodle-mk__problem-chip\" data-problem-id=\"ryIJK2tzdpY\" href='#jce-judge/open/ryIJK2tzdpY' target='_self'><span>판다스 기초 5 - 데이터프레임 열 이름으로 불러오기</span></a>"
   ]
  },
  {
   "cell_type": "markdown",
   "id": "4c6ae2d5-ada3-4eca-8a1c-60bef71f749d",
   "metadata": {
    "tags": []
   },
   "source": [
    "### **(3) 다수의 Column 불러오는 방법**\n",
    "> 여러개의 열을 한번에 불러오는 방법도 있습니다.  \n",
    ">\n",
    "> 반환하고 싶은 열의 이름을 넣은 리스트를 이용합니다.  \n",
    "> 열의 순서도 리스트 안의 이름 순서 따라 반환됩니다.\n",
    "> \n",
    "> `DataFrame[[\"key2\", \"key1\"]]` : key2, key1 열로 이루어진 DataFrame 반환  "
   ]
  },
  {
   "cell_type": "code",
   "execution_count": 4,
   "id": "f028eb7e-286d-4866-8802-232b26a0f86f",
   "metadata": {},
   "outputs": [
    {
     "name": "stdout",
     "output_type": "stream",
     "text": [
      "DataFrame의 ['price', 'pcs'] 열:\n",
      "\n",
      "        price  pcs\n",
      "apple    1000    5\n",
      "cup      2000    1\n",
      "pen       500    3\n",
      "banana   4000    2\n",
      "\n",
      "DataFrame의 ['brand', 'price'] 열:\n",
      "\n",
      "          brand  price\n",
      "apple       any   1000\n",
      "cup       kakao   2000\n",
      "pen      monami    500\n",
      "banana  delmont   4000\n"
     ]
    }
   ],
   "source": [
    "# 예제 3 : 다수의 열 데이터 불러오기\n",
    "\n",
    "print(\"DataFrame의 ['price', 'pcs'] 열:\\n\")\n",
    "print(ShoppingList[['price', 'pcs']])\n",
    "\n",
    "print(\"\\nDataFrame의 ['brand', 'price'] 열:\\n\")\n",
    "print(ShoppingList[['brand', 'price']])"
   ]
  },
  {
   "cell_type": "markdown",
   "id": "5fd0d633-9c7d-46ea-9a44-81a905e5b12d",
   "metadata": {},
   "source": [
    "#### <연습문제>\n",
    "<a class=\"jcecodle-mk jcecodle-mk__problem-chip\" data-problem-id=\"R3AMh0eTzDA\" href='#jce-judge/open/R3AMh0eTzDA' target='_self'><span>판다스 기초 - 데이터프레임 열 인덱싱 (여러개)</span></a>\n"
   ]
  },
  {
   "attachments": {
    "0ce50306-e205-4b29-9f87-90a5b6e9bcdd.png": {
     "image/png": "[encoded data removed]"
    }
   },
   "cell_type": "markdown",
   "id": "41f90cc2-f258-4e0c-8723-3fb3cee61306",
   "metadata": {
    "tags": []
   },
   "source": [
    "## **2. DataFrame 행 인덱싱**\n",
    "\n",
    "![Indexing-Row.png](attachment:0ce50306-e205-4b29-9f87-90a5b6e9bcdd.png)"
   ]
  },
  {
   "cell_type": "markdown",
   "id": "55a09b12-809d-43e8-a6fd-778ded63483e",
   "metadata": {
    "tags": []
   },
   "source": [
    "### **(1) Index 순서로 불러오는 방법**\n",
    "\n",
    "> DataFrame의 행을 순서를 이용해 불러오기 위해서는 `iloc`을 이용해야 합니다.  \n",
    "`iloc`은 interger(정수로 된)-location(위치)를 의미합니다.  \n",
    ">**[주의]** 0부터 시작된다는 것을 기억합니다!\n",
    ">\n",
    ">`pd.DataFrame.iloc[n]` : n+1 번째 행을 Series로 반환  \n",
    ">`pd.DataFrame.iloc[a:b]` : a+1 번째 ~ b 번째 행을 DataFrame으로 반환  \n",
    ">`pd.DataFrame.iloc[[a, b]]` : a+1 번째, b+1 번째 행을 DataFrame으로 반환"
   ]
  },
  {
   "cell_type": "code",
   "execution_count": 5,
   "id": "44302486-8eff-4a3c-ab15-b8c055f00c09",
   "metadata": {},
   "outputs": [
    {
     "name": "stdout",
     "output_type": "stream",
     "text": [
      "DataFrame의 2번째 행:\n",
      "\n",
      "price     2000\n",
      "pcs          1\n",
      "brand    kakao\n",
      "Name: cup, dtype: object\n",
      "\n",
      "DataFrame의 2번째 ~ 4번째 행:\n",
      "\n",
      "        price  pcs    brand\n",
      "cup      2000    1    kakao\n",
      "pen       500    3   monami\n",
      "banana   4000    2  delmont\n",
      "\n",
      "DataFrame의 4번째, 2번째 행:\n",
      "\n",
      "        price  pcs    brand\n",
      "banana   4000    2  delmont\n",
      "cup      2000    1    kakao\n"
     ]
    }
   ],
   "source": [
    "# 예제 4 : iloc으로 DataFrame 행 데이터 불러오기\n",
    "\n",
    "print(\"DataFrame의 2번째 행:\\n\")\n",
    "print(ShoppingList.iloc[1])\n",
    "\n",
    "print(\"\\nDataFrame의 2번째 ~ 4번째 행:\\n\")\n",
    "print(ShoppingList.iloc[1:4])\n",
    "\n",
    "print(\"\\nDataFrame의 4번째, 2번째 행:\\n\")\n",
    "print(ShoppingList.iloc[[3, 1]])"
   ]
  },
  {
   "cell_type": "markdown",
   "id": "9cb5bf5b-381e-41e0-b07d-ba253f9a3886",
   "metadata": {},
   "source": [
    "> DataFrame의 하나의 행이 Series로 반환될 때 Column의 이름이 행 Index가 되는 것을 볼 수 있습니다. "
   ]
  },
  {
   "cell_type": "markdown",
   "id": "f03d8199-40a2-4c31-8f60-2544121d5246",
   "metadata": {},
   "source": [
    "#### <연습문제>\n",
    "<a class=\"jcecodle-mk jcecodle-mk__problem-chip\" data-problem-id=\"xV7nHKLx08A\" href='#jce-judge/open/xV7nHKLx08A' target='_self'><span>판다스 기초 6 - 인덱스로 행 불러오기</span></a>\n"
   ]
  },
  {
   "cell_type": "markdown",
   "id": "5ce596d9-fa66-43dc-a322-5ee308cebe74",
   "metadata": {
    "tags": []
   },
   "source": [
    "### **(2) Index 이름으로 불러오는 방법**\n",
    "\n",
    "> DataFrame의 행을 index 이름으로 불러오기 위해서는 `loc`을 이용해야 합니다.  \n",
    "`DataFrame.index`를 이용해 행 index를 확인할 수 있습니다.\n",
    ">\n",
    ">`pd.DataFrame.loc[\"key\"]` : key 행을 Series로 반환  \n",
    ">`pd.DataFrame.loc[\"key1\":\"key2\"]` : key1 행부터 key2 행까지 DataFrame으로 반환   \n",
    ">`pd.DataFrame.loc[[\"key1\",\"key2\"]]` : key1 행, key2 행을 DataFrame으로 반환"
   ]
  },
  {
   "cell_type": "code",
   "execution_count": 6,
   "id": "96b8f4eb-1b69-407f-93b9-83659922587e",
   "metadata": {},
   "outputs": [
    {
     "name": "stdout",
     "output_type": "stream",
     "text": [
      "DataFrame의 index:\n",
      "Index(['apple', 'cup', 'pen', 'banana'], dtype='object')\n",
      "\n",
      "\n",
      "DataFrame의 cup 행:\n",
      "\n",
      "price     2000\n",
      "pcs          1\n",
      "brand    kakao\n",
      "Name: cup, dtype: object\n",
      "\n",
      "DataFrame의 cup 행부터 banana 행:\n",
      "\n",
      "        price  pcs    brand\n",
      "cup      2000    1    kakao\n",
      "pen       500    3   monami\n",
      "banana   4000    2  delmont\n",
      "\n",
      "DataFrame의 banana, pen 행:\n",
      "\n",
      "        price  pcs    brand\n",
      "banana   4000    2  delmont\n",
      "pen       500    3   monami\n"
     ]
    }
   ],
   "source": [
    "# 예제 5 : loc으로 DataFrame 행 데이터 불러오기\n",
    "\n",
    "print(\"DataFrame의 index:\")\n",
    "print(ShoppingList.index)\n",
    "print(\"\\n\")\n",
    "\n",
    "print(\"DataFrame의 cup 행:\\n\")\n",
    "print(ShoppingList.loc['cup'])\n",
    "\n",
    "print(\"\\nDataFrame의 cup 행부터 banana 행:\\n\")\n",
    "print(ShoppingList.loc['cup':'banana'])\n",
    "\n",
    "print(\"\\nDataFrame의 banana, pen 행:\\n\")\n",
    "print(ShoppingList.loc[['banana', 'pen']])"
   ]
  },
  {
   "cell_type": "markdown",
   "id": "3abea844-877b-44d7-8c48-81b609da214b",
   "metadata": {
    "tags": []
   },
   "source": [
    "#### <연습문제>\n",
    "<a class=\"jcecodle-mk jcecodle-mk__problem-chip\" data-problem-id=\"NPfqVcJiU2s\" href='#jce-judge/open/NPfqVcJiU2s' target='_self'><span>판다스 기초 - 데이터 프레임 행 이름으로 불러오기</span></a>\n"
   ]
  },
  {
   "attachments": {
    "2a115f9c-d9e9-4a7e-a344-f776e0aa636a.png": {
     "image/png": "[encoded data removed]"
    }
   },
   "cell_type": "markdown",
   "id": "8e4bd91d-53e0-48d0-aad4-7e87112c7c4e",
   "metadata": {
    "tags": []
   },
   "source": [
    "## **3. DataFrame 2차원 인덱싱**\n",
    "![Indexing-CR.png](attachment:2a115f9c-d9e9-4a7e-a344-f776e0aa636a.png)"
   ]
  },
  {
   "cell_type": "markdown",
   "id": "3124a696-b759-4037-9e2e-f6e75583901c",
   "metadata": {
    "tags": []
   },
   "source": [
    "### **(1) 열-행 순으로 지정하기**\n",
    "\n",
    "> DataFrame의 열을 먼저 인덱싱한 후 행을 인덱싱합니다.  \n",
    ">\n",
    "> `DataFrame['key'][n]` : key 열 n+1번째 행 데이터 value를 반환  \n",
    "> `DataFrame['key']['idx1':'idx2']` : key 열의 idx1 행부터 idx2행까지 데이터를 Series로 반환  \n",
    "> `DataFrame['key1':'key2'][a:b]` : key1 열부터 key2 열까지 a+1번째 행부터 b번째 행까지 데이터를 DataFrame으로 반환"
   ]
  },
  {
   "cell_type": "code",
   "execution_count": 10,
   "id": "9a8749ad-84a1-49b5-b814-3b21d7549363",
   "metadata": {},
   "outputs": [
    {
     "name": "stdout",
     "output_type": "stream",
     "text": [
      "DataFrame:\n",
      "        price  pcs    brand\n",
      "apple    1000    5      any\n",
      "cup      2000    1    kakao\n",
      "pen       500    3   monami\n",
      "banana   4000    2  delmont\n",
      "\n",
      "\n",
      "DataFrame의 price열 2번째 행:\n",
      "\n",
      "2000\n",
      "\n",
      "DataFrame의 price열 cup행부터 banana행:\n",
      "\n",
      "cup       2000\n",
      "pen        500\n",
      "banana    4000\n",
      "Name: price, dtype: int64\n",
      "\n",
      "DataFrame의 [brand, price]열 2번째부터 3번째 행:\n",
      "\n",
      "      brand  price\n",
      "cup   kakao   2000\n",
      "pen  monami    500\n"
     ]
    }
   ],
   "source": [
    "# 예제 6 : DataFrame 열-행 순으로 2차원 인덱싱하기\n",
    "\n",
    "print(\"DataFrame:\")\n",
    "print(ShoppingList)\n",
    "print(\"\\n\")\n",
    "\n",
    "print(\"DataFrame의 price열 2번째 행:\\n\")\n",
    "print(ShoppingList['price'][1])\n",
    "\n",
    "print(\"\\nDataFrame의 price열 cup행부터 banana행:\\n\")\n",
    "print(ShoppingList.price['cup':'banana'])\n",
    "\n",
    "print(\"\\nDataFrame의 [brand, price]열 2번째부터 3번째 행:\\n\")\n",
    "print(ShoppingList[['brand','price']][1:3])"
   ]
  },
  {
   "cell_type": "markdown",
   "id": "be0dd620-8c1c-4014-bcbe-83f3c539d19b",
   "metadata": {},
   "source": [
    "#### <연습문제>\n",
    "<a class=\"jcecodle-mk jcecodle-mk__problem-chip\" data-problem-id=\"chKHhO1aT_I\" href='#jce-judge/open/chKHhO1aT_I' target='_self'><span>판다스 기초 - 데이터프레임 2차원 인덱싱 (1)</span></a>\n"
   ]
  },
  {
   "cell_type": "markdown",
   "id": "384897eb-3271-49bb-8f55-f5fb6d2a43fd",
   "metadata": {},
   "source": [
    "### **(2) 행-열 순으로 지정하기**\n",
    "\n",
    "> `iloc`, `loc`을 이용하여 2차원 인덱싱을 할 수 있습니다.  \n",
    "> 이때는 [행 위치, 열 위치]의 순서가 됩니다.\n",
    ">\n",
    ">`pd.DataFrame.iloc[n, m]` : 'n+1'번째 행의 'm+1'번째 열 데이터 value를 반환  \n",
    ">`pd.DataFrame.iloc[n, a:b]` : 'n+1'번째 행의 'a+1'번째 부터 'b'번째 열까지 데이터를 Series로 반환  \n",
    ">\n",
    ">`pd.DataFrame.loc['idx', ['key1', 'key2']]` : idx 행의 key1, key2 열 데이터를 Sereis로 반환   \n",
    ">`pd.DataFrame.loc[['idx1', 'idx2'], 'key1':'key2']` : idx1 행, idx2 행의 key1 열부터 key2 열까지 데이터를 DataFrame으로 반환"
   ]
  },
  {
   "cell_type": "code",
   "execution_count": 19,
   "id": "f77fc3eb-6d55-4bbd-97cd-969e562961ec",
   "metadata": {},
   "outputs": [
    {
     "name": "stdout",
     "output_type": "stream",
     "text": [
      "DataFrame:\n",
      "        price  pcs    brand\n",
      "apple    1000    5      any\n",
      "cup      2000    1    kakao\n",
      "pen       500    3   monami\n",
      "banana   4000    2  delmont\n",
      "\n",
      "\n",
      "DataFrame의 2번째 행, 3번째 열:\n",
      "\n",
      "kakao\n",
      "\n",
      "DataFrame의 2번째 행, 1번째부터 3번째까지 열:\n",
      "\n",
      "price     2000\n",
      "pcs          1\n",
      "brand    kakao\n",
      "Name: cup, dtype: object\n"
     ]
    }
   ],
   "source": [
    "# 예제 7 : iloc을 이용해 DataFrame 행-열 순으로 2차원 인덱싱하기\n",
    "\n",
    "print(\"DataFrame:\")\n",
    "print(ShoppingList)\n",
    "print(\"\\n\")\n",
    "\n",
    "print(\"DataFrame의 2번째 행, 3번째 열:\\n\")\n",
    "print(ShoppingList.iloc[1, 2])\n",
    "\n",
    "print(\"\\nDataFrame의 2번째 행, 1번째부터 3번째까지 열:\\n\")\n",
    "print(ShoppingList.iloc[1, 0:3])"
   ]
  },
  {
   "cell_type": "markdown",
   "id": "184102c4-d079-41f4-b094-548b5b584805",
   "metadata": {},
   "source": [
    "#### <연습문제>\n",
    "<a class=\"jcecodle-mk jcecodle-mk__problem-chip\" data-problem-id=\"2wUqFhadkik\" href='#jce-judge/open/2wUqFhadkik' target='_self'><span>판다스 기초 - 데이터프레임 2차원 인덱싱 (2)</span></a>\n",
    "\n"
   ]
  },
  {
   "cell_type": "code",
   "execution_count": 9,
   "id": "90cf7923-3a4a-4209-86f8-d3dc220da10c",
   "metadata": {},
   "outputs": [
    {
     "name": "stdout",
     "output_type": "stream",
     "text": [
      "DataFrame:\n",
      "        price  pcs    brand\n",
      "apple    1000    5      any\n",
      "cup      2000    1    kakao\n",
      "pen       500    3   monami\n",
      "banana   4000    2  delmont\n",
      "\n",
      "\n",
      "DataFrame의 cup 행, [price, brand] 열:\n",
      "\n",
      "price     2000\n",
      "brand    kakao\n",
      "Name: cup, dtype: object\n",
      "\n",
      "DataFrame의 [pen, banana] 행, price열부터 pcs열까지:\n",
      "\n",
      "        price  pcs\n",
      "pen       500    3\n",
      "banana   4000    2\n"
     ]
    }
   ],
   "source": [
    "# 예제 8 : loc을 이용해 DataFrame 행-열 순으로 2차원 인덱싱하기\n",
    "\n",
    "print(\"DataFrame:\")\n",
    "print(ShoppingList)\n",
    "print(\"\\n\")\n",
    "\n",
    "print(\"DataFrame의 cup 행, [price, brand] 열:\\n\")\n",
    "print(ShoppingList.loc['cup', ['price', 'brand']])\n",
    "\n",
    "print(\"\\nDataFrame의 [pen, banana] 행, price열부터 pcs열까지:\\n\")\n",
    "print(ShoppingList.loc[['pen', 'banana'], 'price':'pcs'])"
   ]
  },
  {
   "cell_type": "markdown",
   "id": "c1332e43-1b0a-4504-b94b-732f4714e45e",
   "metadata": {},
   "source": [
    "#### <연습문제>\n",
    "<a class=\"jcecodle-mk jcecodle-mk__problem-chip\" data-problem-id=\"V51LDQ08Vqk\" href='#jce-judge/open/V51LDQ08Vqk' target='_self'><span>판다스 기초 - 데이터프레임 2차원 인덱싱 (3)</span></a>\n"
   ]
  },
  {
   "cell_type": "markdown",
   "id": "08018561-32cc-45fe-b0cc-4f2f597d6934",
   "metadata": {},
   "source": [
    "<div class=\"alert alert-warning\">\n",
    "    <font color=black>\n",
    "    알아둘 점<br><br>\n",
    "    </font>\n",
    "    \n",
    "\n",
    "```\n",
    "DataFrame을 2차원 인덱싱하는 방법은 다양합니다.\n",
    "위에서 쓰인 방법 이외에도 행 인덱싱과 열 인덱싱을 조합하면 더 많을 수 있습니다.  \n",
    "또 어떤 방법이 있을 수 있는지 시도해보세요!\n",
    "```\n",
    "\n",
    "</div>"
   ]
  },
  {
   "cell_type": "code",
   "execution_count": null,
   "id": "f0b264f1-4333-40d7-93ee-dcf85717655a",
   "metadata": {},
   "outputs": [],
   "source": []
  }
 ],
 "metadata": {
  "kernelspec": {
   "display_name": "Python 3 (ipykernel)",
   "language": "python",
   "name": "python3"
  },
  "language_info": {
   "codemirror_mode": {
    "name": "ipython",
    "version": 3
   },
   "file_extension": ".py",
   "mimetype": "text/x-python",
   "name": "python",
   "nbconvert_exporter": "python",
   "pygments_lexer": "ipython3",
   "version": "3.10.9"
  }
 },
 "nbformat": 4,
 "nbformat_minor": 5
}
