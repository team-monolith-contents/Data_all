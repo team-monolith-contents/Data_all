{
 "cells": [
  {
   "cell_type": "code",
   "execution_count": 2,
   "id": "fcfdd5f9-ed84-4b24-ad62-e43af9837768",
   "metadata": {},
   "outputs": [],
   "source": [
    "import pandas as pd"
   ]
  },
  {
   "cell_type": "markdown",
   "id": "727ea7a9-bac0-4bb3-afbc-4981950e3fd1",
   "metadata": {
    "tags": []
   },
   "source": [
    "# **[4-3] 데이터프레임(DataFrame) 위치 기반 인덱싱**"
   ]
  },
  {
   "cell_type": "markdown",
   "id": "0a5448d2-a09e-484c-adf2-6c2e5d0232b8",
   "metadata": {
    "tags": []
   },
   "source": [
    "## **🎯 학습 목표**\n",
    "**위치를 이용해 데이터프레임(DataFrame)에 부분적으로 접근합니다.(위치 기반 인덱싱)**\n",
    "\n"
   ]
  },
  {
   "cell_type": "markdown",
   "id": "01cb348d-d551-4559-910d-6d97d46c0385",
   "metadata": {},
   "source": [
    "---"
   ]
  },
  {
   "cell_type": "markdown",
   "id": "ef434e73-cf3b-4a33-ae46-7c026214937b",
   "metadata": {
    "jp-MarkdownHeadingCollapsed": true,
    "tags": []
   },
   "source": [
    "데이터프레임에서 특정 열과 행을 가져오기 위해 위치 기반의 인덱싱도 사용할 수 있습니다."
   ]
  },
  {
   "cell_type": "markdown",
   "id": "d4448725-2f04-4e89-83c0-c3bb0fb030b7",
   "metadata": {
    "tags": []
   },
   "source": [
    "## 위치 정보를 이용해 데이터프레임의 행 인덱싱하기\n",
    "\n",
    "데이터프레임의 행을 순서를 이용해 불러오기 위해서는 `iloc`을 이용해야 합니다.  \n",
    "`iloc`은 interger(정수로 된)-location(위치)를 의미합니다.  \n",
    "\n",
    "> **⚠️ 주의(WARNING):**\n",
    ">\n",
    "> 0부터 시작된다는 것을 기억합니다!\n",
    "\n",
    "1. 하나의 행 인덱싱하기  \n",
    "`DataFrame.iloc[n]` : n+1 번째 행을 Series로 반환  \n",
    "**😃하나의 행 인덱싱하는 이미지😃**  \n",
    "\n",
    "2. 연속된 여러개의 행 인덱싱하기  \n",
    "`DataFrame.iloc[a:b]` : a+1 번째 ~ b 번째 행을 DataFrame으로 반환  \n",
    "**😃연속된 여러개의 행 인덱싱하는 이미지😃**\n",
    "\n",
    "3. 연속되지 않은 여러개의 행 인덱싱하기  \n",
    "`DataFrame.iloc[[a, b]]` : a+1 번째, b+1 번째 행을 DataFrame으로 반환  \n",
    "**😃연속되지 않은 여러개의 행 인덱싱하는 이미지😃**"
   ]
  },
  {
   "cell_type": "code",
   "execution_count": null,
   "id": "36aec6a9-23a2-4605-aa92-cc67b0125916",
   "metadata": {
    "tags": []
   },
   "outputs": [],
   "source": [
    "# 하나의 행에 인덱싱하기"
   ]
  },
  {
   "cell_type": "code",
   "execution_count": null,
   "id": "a60c34fd-f12b-4a8b-9688-4ae4f802f0ed",
   "metadata": {
    "tags": []
   },
   "outputs": [],
   "source": [
    "# 연속된 여러개의 행에 인덱싱하기"
   ]
  },
  {
   "cell_type": "code",
   "execution_count": null,
   "id": "f5724107-e538-41d0-9411-8f5fec7dfa2a",
   "metadata": {
    "tags": []
   },
   "outputs": [],
   "source": [
    "# 연속되지 않은 여러개의 행 인덱싱하기"
   ]
  },
  {
   "cell_type": "markdown",
   "id": "e217356b-a890-4f61-bf2e-c23fddb1160b",
   "metadata": {
    "tags": []
   },
   "source": [
    "## 위치 정보를 이용해 데이터프레임의 행과 열 동시에 인덱싱하기\n",
    "\n",
    "데이터프레임에서 위치 정보를 사용해 열만 인덱싱할 수는 없습니다.  \n",
    "따라서 행과 열을 동시에 인덱싱하는 방법을 사용해야 합니다.\n",
    "\n",
    "1. 행과 열 동시에 인덱싱 하기  \n",
    "`DataFrame.iloc[행 인덱싱, 열 인덱싱]` : `iloc`을 사용해 행과 열을 동시에 인덱싱 할 수 있습니다.  \n",
    "`행 인덱싱`, `열 인덱싱`의 순서로 지정해 주면 됩니다.  \n",
    "행, 열을 인덱싱 할 때에는 위에서 배운 3가지의 인덱싱 방법을 모두 사용할 수 있습니다.  \n",
    "**😃위치 기반 인덱싱 동시에 사용하는 이미지😃**\n",
    "\n",
    "2. 행, 열 전체를 선택하기  \n",
    "`DataFrame.iloc[행 인덱싱,:]` : 선택된 행의 모든 열을 가져옵니다.  \n",
    "`DataFrame.iloc[:,열 인덱싱]` : 선택된 열의 모든 행을 가져옵니다.  \n",
    "**😃전체 선택하는 이미지😃**\n",
    "\n",
    "\n"
   ]
  },
  {
   "cell_type": "code",
   "execution_count": null,
   "id": "6f6bb0ba-f4a0-4010-998c-99b0f8606f2f",
   "metadata": {
    "tags": []
   },
   "outputs": [],
   "source": [
    "# 행과 열 동시에 하나씩 인덱싱 하는 예시"
   ]
  },
  {
   "cell_type": "code",
   "execution_count": null,
   "id": "a629962d-04b8-4a4e-902c-29c423b91bc2",
   "metadata": {
    "tags": []
   },
   "outputs": [],
   "source": [
    "# 행하나 열 여러개 동시에 인덱싱 하는 예시"
   ]
  },
  {
   "cell_type": "code",
   "execution_count": null,
   "id": "c9101c6d-70ca-45e6-b542-e942df08f33c",
   "metadata": {
    "tags": []
   },
   "outputs": [],
   "source": [
    "# 행 여러개 열 하나 동시에 인덱싱 하는 예시"
   ]
  },
  {
   "cell_type": "code",
   "execution_count": null,
   "id": "aa7decfe-c8ae-4821-98c1-2f37eb86ab4a",
   "metadata": {
    "tags": []
   },
   "outputs": [],
   "source": [
    "# 행 여러개 열 여러개 동시에 인덱싱 하는 예시"
   ]
  },
  {
   "cell_type": "code",
   "execution_count": null,
   "id": "90ff50a3-0ca9-427d-b6ae-295f68bd6700",
   "metadata": {
    "tags": []
   },
   "outputs": [],
   "source": [
    "# 하나의 열 인덱싱 하는 예시"
   ]
  },
  {
   "cell_type": "code",
   "execution_count": null,
   "id": "14f16e02-30eb-4255-b2d4-ab690b4ca3c6",
   "metadata": {
    "tags": []
   },
   "outputs": [],
   "source": [
    "# 연속되지 않은 여러개의 행에 인덱싱하기"
   ]
  },
  {
   "cell_type": "markdown",
   "id": "ba4a85ee-2bfb-4b52-81da-a125bb581f41",
   "metadata": {},
   "source": [
    "> **❓ 생각해보기(QUESTION):**\n",
    ">\n",
    "> 데이터프레임을 2차원 인덱싱하는 방법은 다양합니다.  \n",
    "> 지금까지 배운 방법 이외에도 행 인덱싱과 열 인덱싱을 조합하면 더 많을 수 있습니다.  \n",
    "> 또 어떤 방법이 있을까요?"
   ]
  },
  {
   "cell_type": "raw",
   "id": "edaf6294-e768-4a01-a1c6-df0391de554f",
   "metadata": {},
   "source": [
    "질문에 대한 대답을 여기에 적어봅시다."
   ]
  },
  {
   "cell_type": "markdown",
   "id": "2eedf977-b33d-47c3-bba9-5153931b4963",
   "metadata": {},
   "source": [
    "### **💯 연습문제를 풀어봅시다**\n",
    "\n"
   ]
  },
  {
   "cell_type": "markdown",
   "id": "a6958479-9312-4e7f-8cb8-b590807dc519",
   "metadata": {
    "tags": []
   },
   "source": [
    "1. <a class=\"jcecodle-mk jcecodle-mk__problem-chip\" data-problem-id=\"xV7nHKLx08A\" href='#jce-judge/open/xV7nHKLx08A' target='_self'><span>판다스 기초 6 - 인덱스로 행 불러오기</span></a>\n",
    "\n",
    "2. <a class=\"jcecodle-mk jcecodle-mk__problem-chip\" data-problem-id=\"Q0bXumIP900\" href='#jce-judge/open/Q0bXumIP900' target='_self'><span>인덱스로 행 불러오기 (2)</span></a>\n",
    "\n",
    "\n",
    "3. <a class=\"jcecodle-mk jcecodle-mk__problem-chip\" data-problem-id=\"lHkUlBzXMac\" href='#jce-judge/open/lHkUlBzXMac' target='_self'><span>n개 행 불러오기</span></a>\n",
    "\n",
    "\n",
    "4. <a class=\"jcecodle-mk jcecodle-mk__problem-chip\" data-problem-id=\"jwp3nh6t6W4\" href='#jce-judge/open/jwp3nh6t6W4' target='_self'><span>거꾸로 불러오기</span></a>\n",
    "\n",
    "\n",
    "5. <a class=\"jcecodle-mk jcecodle-mk__problem-chip\" data-problem-id=\"jwp3nh6t6W4\" href='#jce-judge/open/jwp3nh6t6W4' target='_self'><span>거꾸로 불러오기</span></a>\n",
    "\n",
    "\n",
    "7. <a class=\"jcecodle-mk jcecodle-mk__problem-chip\" data-problem-id=\"NB1fXpsBSPM\" href='#jce-judge/open/NB1fXpsBSPM' target='_self'><span>300행 3열</span></a>\n",
    "\n",
    "\n",
    "8. <a class=\"jcecodle-mk jcecodle-mk__problem-chip\" data-problem-id=\"nITxi677FYQ\" href='#jce-judge/open/nITxi677FYQ' target='_self'><span>마지막과 첫번째 행</span></a>\n",
    "\n",
    "\n",
    "6. <a class=\"jcecodle-mk jcecodle-mk__problem-chip\" data-problem-id=\"2wUqFhadkik\" href='#jce-judge/open/2wUqFhadkik' target='_self'><span>판다스 기초 - 데이터프레임 2차원 인덱싱 (2)</span></a>\n",
    "\n"
   ]
  }
 ],
 "metadata": {
  "kernelspec": {
   "display_name": "Python 3 (ipykernel)",
   "language": "python",
   "name": "python3"
  },
  "language_info": {
   "codemirror_mode": {
    "name": "ipython",
    "version": 3
   },
   "file_extension": ".py",
   "mimetype": "text/x-python",
   "name": "python",
   "nbconvert_exporter": "python",
   "pygments_lexer": "ipython3",
   "version": "3.10.9"
  }
 },
 "nbformat": 4,
 "nbformat_minor": 5
}
