{
 "cells": [
  {
   "cell_type": "markdown",
   "id": "d7408c9a-bce3-4385-8cb8-51bbe9902972",
   "metadata": {
    "tags": []
   },
   "source": [
    "#### [시작하기]\n",
    "\n",
    "<div class=\"alert alert-info\">\n",
    "    <font color=black>\n",
    "    Pandas를 사용하기 위해서 처음 할 일을 무엇인가요?\n",
    "    </font>\n",
    "</div>"
   ]
  },
  {
   "cell_type": "code",
   "execution_count": 2,
   "id": "a022ca8d-8151-4def-8fde-177215c49a17",
   "metadata": {},
   "outputs": [],
   "source": [
    "import pandas as pd # 판다스를 pd로 축약하여 불러옵니다"
   ]
  },
  {
   "cell_type": "markdown",
   "id": "6b63c9cc-92be-4a59-b710-13dd91bc8d9c",
   "metadata": {
    "tags": []
   },
   "source": [
    "# **[8] Series 인덱싱**\n",
    "\n",
    "[오늘 배울 것]\n",
    "1. Series를 순차적으로 인덱싱할 수 있다.\n",
    "2. Series를 Key를 이용해 인덱싱할 수 있다."
   ]
  },
  {
   "cell_type": "markdown",
   "id": "f9ab56ba-b13b-42a2-bc36-abe5e24c46d6",
   "metadata": {},
   "source": [
    " \n",
    "> **인덱싱(Indexing)** 이란 데이터의 위치를 특정하는 방법입니다.  \n",
    ">\n",
    "> 사용할 Series를 하나 만들어봅시다. \n",
    "\n",
    "\n",
    "|index 순서|index 이름|data 값|\n",
    "|---|---|---|\n",
    "|0|apple|5|\n",
    "|1|cup|1|\n",
    "|2|pen|3|\n",
    "|2|banana|2|"
   ]
  },
  {
   "cell_type": "code",
   "execution_count": 4,
   "id": "6d2ed94b-f817-42b4-af66-b0dbf17c06ff",
   "metadata": {},
   "outputs": [
    {
     "name": "stdout",
     "output_type": "stream",
     "text": [
      "apple     5\n",
      "cup       1\n",
      "pen       3\n",
      "banana    2\n",
      "Name: 쇼핑목록, dtype: int64\n"
     ]
    }
   ],
   "source": [
    "# 예제 1: Pandas Series 만들기\n",
    "\n",
    "ShoppingList = pd.Series(index=['apple', 'cup', 'pen', 'banana'], \n",
    "                         data=[5, 1, 3, 2], \n",
    "                         name='쇼핑목록')\n",
    "print(ShoppingList)"
   ]
  },
  {
   "cell_type": "markdown",
   "id": "9e25aa6d-59fe-4f7d-a213-4be4d9341895",
   "metadata": {
    "tags": []
   },
   "source": [
    "## **1. Series 순차적 인덱싱**\n"
   ]
  },
  {
   "cell_type": "markdown",
   "id": "216aaf5f-839e-4bf0-8a4e-979259289146",
   "metadata": {
    "tags": []
   },
   "source": [
    "### **(1) Index 순서로 불러오는 방법**\n",
    "\n",
    "> Series는 순차적 구조로도 볼 수 있습니다.  \n",
    "> list처럼 데이터가 쌓인 순번을 이용해 불러올 수 있습니다.  \n",
    ">\n",
    ">**[주의]** 0부터 시작된다는 것을 기억합니다!\n",
    "</br>  \n",
    "`Series[n]`: 'n+1'번째 데이터를 value로 반환  \n",
    "`Series[a:b]`: 'a+1'번째부터 'b'번째 데이터를 Series로 반환"
   ]
  },
  {
   "cell_type": "code",
   "execution_count": 5,
   "id": "e82db0e9-522e-4578-82ed-367f7b778e2e",
   "metadata": {},
   "outputs": [
    {
     "name": "stdout",
     "output_type": "stream",
     "text": [
      "Series의 데이터:\n",
      "\n",
      "1번째:  5\n",
      "2번째:  1\n",
      "3번째:  3\n",
      "4번째:  2\n",
      "\n",
      "\n",
      "Series의 2~3번째 데이터:\n",
      "\n",
      "cup    1\n",
      "pen    3\n",
      "Name: 쇼핑목록, dtype: int64\n"
     ]
    }
   ],
   "source": [
    "# 예제 2 : 데이터 순서를 이용해 Series 데이터 불러오기\n",
    "\n",
    "print(\"Series의 데이터:\\n\")\n",
    "print(\"1번째: \", ShoppingList[0])\n",
    "print(\"2번째: \", ShoppingList[1])\n",
    "print(\"3번째: \", ShoppingList[2])\n",
    "print(\"4번째: \", ShoppingList[3])\n",
    "print(\"\\n\")\n",
    "\n",
    "print(\"Series의 2~3번째 데이터:\\n\")\n",
    "print(ShoppingList[1:3])"
   ]
  },
  {
   "cell_type": "markdown",
   "id": "7f6d35e9-e2e3-45d8-8908-c27c64f231dc",
   "metadata": {
    "tags": []
   },
   "source": [
    "#### <연습문제>\n",
    "\n",
    "<a class=\"jcecodle-mk jcecodle-mk__problem-chip\" data-problem-id=\"85Z2jvqifdo\" href='#jce-judge/open/85Z2jvqifdo' target='_self'><span>판다스 기초 - 시리즈 인덱싱 순번 이용 (1)</span></a>\n",
    "<a class=\"jcecodle-mk jcecodle-mk__problem-chip\" data-problem-id=\"2pC2Zvg9LkY\" href='#jce-judge/open/2pC2Zvg9LkY' target='_self'><span>판다스 기초 - 시리즈 인덱싱 순번 이용 (2)</span></a>\n",
    "\n"
   ]
  },
  {
   "cell_type": "markdown",
   "id": "4c6ae2d5-ada3-4eca-8a1c-60bef71f749d",
   "metadata": {
    "tags": []
   },
   "source": [
    "### **(2) 연속적이지 않은 다수의 행 불러오는 방법**\n",
    "> 연속하지 않은 데이터를 한번에 불러오는 방법도 있습니다.  \n",
    ">\n",
    "> 반환하고 싶은 행의 순번을 넣은 리스트를 이용합니다.  \n",
    "> 행의 순서도 리스트 안의 순번에 따라 반환됩니다.\n",
    "> \n",
    "> `Series[[0, 1]]`: 1, 2번째 행이 반환  \n",
    "> `Series[[1, 0]]`: 2, 1번째 행이 반환  "
   ]
  },
  {
   "cell_type": "code",
   "execution_count": 6,
   "id": "f028eb7e-286d-4866-8802-232b26a0f86f",
   "metadata": {},
   "outputs": [
    {
     "name": "stdout",
     "output_type": "stream",
     "text": [
      "Series의 [2, 4]번째 행:\n",
      "\n",
      "cup       1\n",
      "banana    2\n",
      "Name: 쇼핑목록, dtype: int64\n",
      "\n",
      "Series의 [3, 1]번째 행:\n",
      "\n",
      "pen      3\n",
      "apple    5\n",
      "Name: 쇼핑목록, dtype: int64\n"
     ]
    }
   ],
   "source": [
    "# 예제 3 : 연속적이지 않은 다수의 Series 데이터 불러오기\n",
    "\n",
    "print(\"Series의 [2, 4]번째 행:\\n\")\n",
    "print(ShoppingList[[1, 3]])\n",
    "\n",
    "print(\"\\nSeries의 [3, 1]번째 행:\\n\")\n",
    "print(ShoppingList[[2, 0]])"
   ]
  },
  {
   "cell_type": "markdown",
   "id": "5fd0d633-9c7d-46ea-9a44-81a905e5b12d",
   "metadata": {},
   "source": [
    "#### <연습문제>\n",
    "\n",
    "<a class=\"jcecodle-mk jcecodle-mk__problem-chip\" data-problem-id=\"YKhP6f05A60\" href='#jce-judge/open/YKhP6f05A60' target='_self'><span>판다스 기초 - 시리즈 인덱싱 불연속한 다수행</span></a>\n"
   ]
  },
  {
   "cell_type": "markdown",
   "id": "41f90cc2-f258-4e0c-8723-3fb3cee61306",
   "metadata": {},
   "source": [
    "## **2. Series Key 인덱싱**"
   ]
  },
  {
   "cell_type": "markdown",
   "id": "5ce596d9-fa66-43dc-a322-5ee308cebe74",
   "metadata": {
    "tags": []
   },
   "source": [
    "### **(1) Index 이름으로 불러오는 방법**\n",
    "\n",
    "> Pandas 데이터는 딕셔너리와 비슷하다고 했습니다.  \n",
    "그래서 딕셔너리처럼 key를 대신하는 index를 이용하여 데이터를 찾을 수 있습니다.  \n",
    ">\n",
    "> **[주의]** index의 이름을 반드시 알아야겠죠?  \n",
    "> `Series.index`를 이용해 확인할 수 있습니다.\n",
    "</br>  \n",
    "`Series['key']` : key 행의 데이터를 value로 반환  \n",
    "`Series['key1':'key2']` : key1 행부터 key2 행의 데이터를 Series로 반환"
   ]
  },
  {
   "cell_type": "code",
   "execution_count": 7,
   "id": "96b8f4eb-1b69-407f-93b9-83659922587e",
   "metadata": {},
   "outputs": [
    {
     "name": "stdout",
     "output_type": "stream",
     "text": [
      "Series의 index:\n",
      "Index(['apple', 'cup', 'pen', 'banana'], dtype='object')\n",
      "\n",
      "\n",
      "Series의 데이터:\n",
      "\n",
      "apple행:  5\n",
      "cup행:  1\n",
      "pen행:  3\n",
      "banana행:  2\n",
      "\n",
      "\n",
      "Series의 cup행부터 pen행까지 데이터:\n",
      "\n",
      "cup    1\n",
      "pen    3\n",
      "Name: 쇼핑목록, dtype: int64\n"
     ]
    }
   ],
   "source": [
    "# 예제 4 : 행 index를 이용해 Series 데이터 불러오기\n",
    "\n",
    "print(\"Series의 index:\")\n",
    "print(ShoppingList.index)\n",
    "print(\"\\n\")\n",
    "\n",
    "print(\"Series의 데이터:\\n\")\n",
    "print(\"apple행: \", ShoppingList['apple'])\n",
    "print(\"cup행: \", ShoppingList['cup'])\n",
    "print(\"pen행: \", ShoppingList['pen'])\n",
    "print(\"banana행: \", ShoppingList['banana'])\n",
    "print(\"\\n\")\n",
    "\n",
    "print(\"Series의 cup행부터 pen행까지 데이터:\\n\")\n",
    "print(ShoppingList['cup':'pen'])"
   ]
  },
  {
   "cell_type": "markdown",
   "id": "3abea844-877b-44d7-8c48-81b609da214b",
   "metadata": {
    "tags": []
   },
   "source": [
    "#### <연습문제>\n",
    "<a class=\"jcecodle-mk jcecodle-mk__problem-chip\" data-problem-id=\"-fJrKazhUCc\" href='#jce-judge/open/-fJrKazhUCc' target='_self'><span>판다스 기초 - 시리즈 인덱싱 이름 이용(1)</span></a>\n",
    "<a class=\"jcecodle-mk jcecodle-mk__problem-chip\" data-problem-id=\"py3oeSeoqxk\" href='#jce-judge/open/py3oeSeoqxk' target='_self'><span>판다스 기초 - 시리즈 인덱싱 이름 이용 (2)</span></a>\n"
   ]
  },
  {
   "cell_type": "markdown",
   "id": "0023aa87-77cd-442f-bd6d-0790d3f06c5e",
   "metadata": {},
   "source": [
    "<div class=\"alert alert-warning\">\n",
    "    <font color=black>\n",
    "    알아둘 점<br><br>\n",
    "    </font>\n",
    "    \n",
    "\n",
    "```\n",
    " 슬라이싱은 [a:b]의 방법으로 연속적으로 나열된 데이터를 인덱싱하는 것을 말합니다.  \n",
    " \n",
    " Pandas Series 인덱싱에서는 방법에 따라 슬라이싱의 결과가 다르기 때문에 주의해야 합니다. \n",
    " \n",
    " - Index 이름 이용: [key1:key2] key2 행이 포함된다.\n",
    " - Index 순서 이용: [1:2] 3번째 행은 포함되지 않는다.\n",
    "```\n",
    "\n",
    "</div>"
   ]
  },
  {
   "cell_type": "markdown",
   "id": "f7f4f14a-1dd0-42a0-9bee-cbc4b43021ab",
   "metadata": {
    "tags": []
   },
   "source": [
    "### **(2) 연속적이지 않은 다수의 행 불러오는 방법**\n",
    "> Index 이름을 넣은 리스트를 이용해서 원하는 다수의 행을 불러올 수 있습니다.  \n",
    "> 행의 순서도 리스트 안의 index에 따라 반환됩니다.\n",
    "> \n",
    "> `Series[[key1, key2]]`: key1, key2 행이 반환  \n",
    "> `Series[[key2, key1]]`: key2, key1 행이 반환"
   ]
  },
  {
   "cell_type": "code",
   "execution_count": 8,
   "id": "6534723e-351b-407f-9ce5-f4be4e048b0b",
   "metadata": {},
   "outputs": [
    {
     "name": "stdout",
     "output_type": "stream",
     "text": [
      "Series의 [apple, pen]행:\n",
      "\n",
      "apple    5\n",
      "pen      3\n",
      "Name: 쇼핑목록, dtype: int64\n",
      "\n",
      "\n",
      "Series의 [banana, apple]행:\n",
      "\n",
      "banana    2\n",
      "apple     5\n",
      "Name: 쇼핑목록, dtype: int64\n"
     ]
    }
   ],
   "source": [
    "# 예제 5 : 연속적이지 않은 다수의 Series 데이터 불러오기\n",
    "\n",
    "print(\"Series의 [apple, pen]행:\\n\")\n",
    "print(ShoppingList[['apple', 'pen']])\n",
    "print(\"\\n\")\n",
    "\n",
    "print(\"Series의 [banana, apple]행:\\n\")\n",
    "print(ShoppingList[['banana', 'apple']])"
   ]
  },
  {
   "cell_type": "markdown",
   "id": "3dd85b5f-e775-49c6-9716-7391b776eff8",
   "metadata": {},
   "source": [
    "#### <연습문제>\n",
    "<a class=\"jcecodle-mk jcecodle-mk__problem-chip\" data-problem-id=\"pN_CQGS4B8c\" href='#jce-judge/open/pN_CQGS4B8c' target='_self'><span>판다스 기초 - 시리즈 인덱싱 불연속한 다수행 (2)</span></a>\n"
   ]
  },
  {
   "cell_type": "markdown",
   "id": "5888060f-2ea1-445c-bec0-f7d4409c9a70",
   "metadata": {},
   "source": []
  }
 ],
 "metadata": {
  "kernelspec": {
   "display_name": "Python 3 (ipykernel)",
   "language": "python",
   "name": "python3"
  },
  "language_info": {
   "codemirror_mode": {
    "name": "ipython",
    "version": 3
   },
   "file_extension": ".py",
   "mimetype": "text/x-python",
   "name": "python",
   "nbconvert_exporter": "python",
   "pygments_lexer": "ipython3",
   "version": "3.10.9"
  }
 },
 "nbformat": 4,
 "nbformat_minor": 5
}
