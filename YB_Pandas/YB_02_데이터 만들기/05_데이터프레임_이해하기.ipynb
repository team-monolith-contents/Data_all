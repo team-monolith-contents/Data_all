{
 "cells": [
  {
   "cell_type": "markdown",
   "id": "6e830ad0-02cd-4e42-aba1-161f8b604d7e",
   "metadata": {
    "tags": []
   },
   "source": [
    "#### [시작하기]\n",
    "\n",
    "<div class=\"alert alert-info\">\n",
    "    <font color=black>\n",
    "    Pandas를 사용하기 위해서 처음 할 일을 무엇인가요?\n",
    "    </font>\n",
    "</div>"
   ]
  },
  {
   "cell_type": "code",
   "execution_count": 1,
   "id": "2faa15e8-6bde-4bfc-93ec-fa7fb853a907",
   "metadata": {},
   "outputs": [],
   "source": [
    "import pandas as pd # 판다스를 pd로 축약하여 불러옵니다"
   ]
  },
  {
   "cell_type": "markdown",
   "id": "006378f9-cf64-4980-a0c7-674fb5dcbf6c",
   "metadata": {
    "tags": []
   },
   "source": [
    "# **[5] Pandas의 DataFrame 이해하기**\n",
    "\n",
    "[오늘 배울 것]\n",
    "1. Pandas DataFrame의 구성 요소를 안다.\n",
    "2. Pandas DataFrame을 만들 수 있다."
   ]
  },
  {
   "cell_type": "markdown",
   "id": "8c5c0615-95e5-47d4-859e-746dec718b3b",
   "metadata": {
    "tags": []
   },
   "source": [
    "##  **1. Pandas DataFrame 구성 요소**\n",
    "\n",
    "> DataFrame의 중요한 구성 요소 세가지를 알아봅시다.   \n",
    "> 아래의 구성 요소를 설정하여 DataFrame를 생성할 수 있습니다.\n",
    ">\n",
    ">- 데이터(data)\n",
    ">> 2차원의 리스트(ex. `[[0, 1], [2, 3]]`), Numpy array, 중첩 딕셔너리 등을 Datafrmae의 데이터로 사용할 수 있습니다.  \n",
    ">- 행 인덱스(index)\n",
    ">> 행을 나타내는 key인 index도 설정할 수 있습니다. \n",
    ">- 열 인덱스(column)\n",
    ">> 열을 나타내는 key인 index도 설정할 수 있습니다. "
   ]
  },
  {
   "cell_type": "markdown",
   "id": "be33b147-ef05-486e-96e6-35e279540aef",
   "metadata": {},
   "source": [
    "## **2. Pandas DataFrame 생성**"
   ]
  },
  {
   "cell_type": "markdown",
   "id": "da7e07ab-8519-449e-9d22-350a7a505a19",
   "metadata": {
    "tags": []
   },
   "source": [
    "### **(1) List로 Pandas.DataFrame 만들기**\n",
    "> 숫자나 문자를 담은 리스트는 Pandas.DataFrame 데이터로 사용될 수 있습니다.\n",
    "</br>  \n",
    "> `pd.DataFrame(List)`  \n",
    "> `pd.DataFrame(data=List)`\n",
    "</br>  \n",
    "> 1차원 리스트와 2차원 리스트를 이용해 DataFrame을 만들고 어떤 차이가 있는지 확인해봅시다."
   ]
  },
  {
   "cell_type": "code",
   "execution_count": 2,
   "id": "d9611d58-053c-40bc-97dd-51cd4857b009",
   "metadata": {},
   "outputs": [
    {
     "name": "stdout",
     "output_type": "stream",
     "text": [
      "내가 좋아하는 과일들:\n",
      "         0\n",
      "0   apple\n",
      "1  banana\n",
      "2    kiwi\n",
      "\n",
      "\n",
      "내가 좋아하는 숫자들:\n",
      "    0    1    2\n",
      "0  0  100  999\n",
      "\n",
      "\n",
      "내가 좋아하는 도시들:\n",
      "     0    1\n",
      "0  서울   뉴욕\n",
      "1  대전  시카고\n",
      "2  부산   LA\n"
     ]
    }
   ],
   "source": [
    "# 예제 1: 파이썬 list를 활용하여 DataFrame 데이터 구성하기\n",
    "\n",
    "# 1차원 list로 만들기\n",
    "myFavoriteFruit = pd.DataFrame(['apple', 'banana', 'kiwi'])\n",
    "print('내가 좋아하는 과일들:\\n', myFavoriteFruit)\n",
    "print('\\n')\n",
    "\n",
    "# 2차원 list로 만들기\n",
    "myFavoriteNumber = pd.DataFrame(data=[[0, 100, 999]])\n",
    "print('내가 좋아하는 숫자들:\\n', myFavoriteNumber)\n",
    "print('\\n')\n",
    "\n",
    "myFavoriteCity = pd.DataFrame(data=[['서울', '뉴욕'], ['대전', '시카고'], ['부산', 'LA']])\n",
    "print('내가 좋아하는 도시들:\\n', myFavoriteCity)"
   ]
  },
  {
   "cell_type": "markdown",
   "id": "3d566b29-602c-4896-a85c-416a6dac5a06",
   "metadata": {},
   "source": [
    "#### **<연습문제>**\n",
    "<a class=\"jcecodle-mk jcecodle-mk__problem-chip\" data-problem-id=\"Xh1DevGAlLw\" href='#jce-judge/open/Xh1DevGAlLw' target='_self'><span>판다스 기초 - 데이터프레임 만들기 (1)</span></a>\n",
    "\n",
    "<a class=\"jcecodle-mk jcecodle-mk__problem-chip\" data-problem-id=\"ADYF5AHX8GM\" href='#jce-judge/open/ADYF5AHX8GM' target='_self'><span>판다스 기초 - 데이터프레임 만들기 (2)</span></a>\n"
   ]
  },
  {
   "cell_type": "markdown",
   "id": "f6b0bcf2-a88d-4e9d-93bc-e3187158a949",
   "metadata": {},
   "source": [
    "> 리스트는 순차적 숫자 index 개념을 가지기 때문에 DataFrame의 '행(가로)'을 나타내는 index도 0부터 시작되는 정수로 자동 생성됩니다. 또한 '열(세로)'을 나타내는 column index도 0부터 정수로 자동 생성됩니다.\n",
    "\n",
    "|index|column0|column1|\n",
    "|---|---|---|\n",
    "|0|서울|뉴욕|\n",
    "|1|대전|시카고|\n",
    "|2|부산|LA|\n",
    "\n",
    "> 다른 index, column을 사용하고 싶다면 DataFrame을 정의할 때 data와 함께 입력합니다.  \n",
    ">\n",
    ">`pd.DataFrame(index=List1, columns=List2, data=List3)`\n",
    "\n",
    "|index|대한민국|미국|\n",
    "|---|---|---|\n",
    "|1순위|서울|뉴욕|\n",
    "|2순위|대전|시카고|\n",
    "|3순위|부산|LA|\n",
    "\n",
    "> 위의 표와 같은 DataFrame을 만들어봅시다."
   ]
  },
  {
   "cell_type": "code",
   "execution_count": 3,
   "id": "50dda8a8-de53-4557-9088-c7fd6378cea0",
   "metadata": {},
   "outputs": [
    {
     "name": "stdout",
     "output_type": "stream",
     "text": [
      "내가 좋아하는 도시들:\n",
      "     대한민국   미국\n",
      "1순위   서울   뉴욕\n",
      "2순위   대전  시카고\n",
      "3순위   부산   LA\n"
     ]
    }
   ],
   "source": [
    "# 예제 2: 파이썬 list를 활용하여 DataFrame 데이터, index, column 구성하기\n",
    "\n",
    "myFavoriteCity = pd.DataFrame(data=[['서울', '뉴욕'], ['대전', '시카고'], ['부산', 'LA']],\n",
    "                             index=['1순위', '2순위', '3순위'], \n",
    "                             columns=['대한민국', '미국'])\n",
    "print('내가 좋아하는 도시들:\\n', myFavoriteCity)"
   ]
  },
  {
   "cell_type": "markdown",
   "id": "5e205aa0-8a76-46c6-a5ed-7183ce276eaa",
   "metadata": {},
   "source": [
    "#### **<연습문제>**\n",
    "<a class=\"jcecodle-mk jcecodle-mk__problem-chip\" data-problem-id=\"Izw6Imoo8sw\" href='#jce-judge/open/Izw6Imoo8sw' target='_self'><span>판다스 기초 - 데이터 프레임 만들기 (3)</span></a>\n"
   ]
  },
  {
   "cell_type": "markdown",
   "id": "ebc5d0ef-c1b5-4758-8c6b-a0c141e71c98",
   "metadata": {
    "tags": []
   },
   "source": [
    "### **(2) Dictionary로 Pandas.DataFrame 만들기**\n",
    "\n",
    "- 중첩 딕셔너리 활용\n",
    "\n",
    "> Pandas 데이터는 딕셔너리 데이터와 흡사합니다.  \n",
    "딕셔너리 데이터가 있다면 Pandas.DataFrame 데이터로 바꿀 수 있답니다.  \n",
    "이때, column이 여러개인 DataFrame을 만들기 위해서는 중첩 딕셔너리가 필요합니다. \n",
    "\n",
    "> 딕셔너리의 value가 딕셔너리인 중첩 딕셔너리를 복습해봅시다."
   ]
  },
  {
   "cell_type": "code",
   "execution_count": 4,
   "id": "81fd231f-5cd7-4897-adb2-05032d7b3635",
   "metadata": {},
   "outputs": [
    {
     "name": "stdout",
     "output_type": "stream",
     "text": [
      "생성된 딕셔너리:\n",
      " {'price': {'apple': 1000, 'cup': 2000, 'pen': 500, 'banana': 4000}, 'pcs': {'apple': '한 개', 'cup': '한 개', 'pen': '네 개', 'banana': '세 개'}}\n",
      "\n",
      "price의 value: \n",
      " {'apple': 1000, 'cup': 2000, 'pen': 500, 'banana': 4000}\n",
      "\n",
      "pcs의 value: \n",
      " {'apple': '한 개', 'cup': '한 개', 'pen': '네 개', 'banana': '세 개'}\n"
     ]
    }
   ],
   "source": [
    "# 예제 3: 파이썬 dictionary를 활용하여 key에 dictionary 할당하기\n",
    "\n",
    "# 중첩 dictionary 만들기\n",
    "items = {'price': {'apple': 1000, 'cup': 2000, 'pen': 500, 'banana': 4000}, \n",
    "         'pcs': {'apple': \"한 개\", 'cup': \"한 개\", 'pen': \"네 개\", 'banana': \"세 개\"}}\n",
    "\n",
    "print(\"생성된 딕셔너리:\\n\", items)\n",
    "\n",
    "# key로 특정 value를 불러오기\n",
    "print(\"\\nprice의 value: \\n\", items[\"price\"])\n",
    "print(\"\\npcs의 value: \\n\", items[\"pcs\"])"
   ]
  },
  {
   "cell_type": "markdown",
   "id": "8ad647df-0888-41c4-bd8f-83f51f468609",
   "metadata": {
    "tags": []
   },
   "source": [
    "#### <연습문제>\n",
    "<a class=\"jcecodle-mk jcecodle-mk__problem-chip\" data-problem-id=\"hrT1maBckWA\" href='#jce-judge/open/hrT1maBckWA' target='_self'><span>판다스 기초 2 - 중첩 딕셔너리</span></a>"
   ]
  },
  {
   "cell_type": "markdown",
   "id": "a86b19e3-ad07-4dc6-a2e4-2acd9a52838e",
   "metadata": {},
   "source": [
    "> 위에서 만든 중첩 딕셔너리를 데이터로 하는 DataFrame을 만들 수 있습니다.\n",
    "</br>  \n",
    "> `pd.DataFrame(Dictionary)`  \n",
    "> `pd.DataFrame(data=Dictionary)`\n",
    "</br>  \n",
    "> 어떤 key가 `index`가 되었는지, 그리고 `columns`가 되었는지 확인해봅시다."
   ]
  },
  {
   "cell_type": "code",
   "execution_count": 5,
   "id": "b0174687-39ab-431c-af4b-d254a5149a6e",
   "metadata": {},
   "outputs": [
    {
     "name": "stdout",
     "output_type": "stream",
     "text": [
      "        price  pcs\n",
      "apple    1000  한 개\n",
      "cup      2000  한 개\n",
      "pen       500  네 개\n",
      "banana   4000  세 개\n"
     ]
    }
   ],
   "source": [
    "# 예제 4 : 중첩 딕셔너리를 이용해 Pandas dataframe을 생성해보기\n",
    "\n",
    "df = pd.DataFrame(items)  # pd.DataFrame함수를 사용하여 딕셔너리를 판다스 데이터로 만듭니다. \n",
    "print(df)"
   ]
  },
  {
   "cell_type": "markdown",
   "id": "5a6b3d31-eb18-4118-9a68-ef11db42dc14",
   "metadata": {},
   "source": [
    "#### **<연습문제>**\n",
    "<a class=\"jcecodle-mk jcecodle-mk__problem-chip\" data-problem-id=\"aq6ucbLA_y4\" href='#jce-judge/open/aq6ucbLA_y4' target='_self'><span>판다스 기초 - 데이터프레임 만들기 (4) </span></a>\n"
   ]
  },
  {
   "cell_type": "markdown",
   "id": "75900aea-bd1f-4a7c-bc90-ca04b72865db",
   "metadata": {},
   "source": [
    "> **[주의]** `index`가 되는 key가 다른 경우 어떤 DataFrame이 생성되는지 확인해봅시다."
   ]
  },
  {
   "cell_type": "code",
   "execution_count": 6,
   "id": "d15d19a8-494e-4beb-bec4-08f915c99deb",
   "metadata": {},
   "outputs": [
    {
     "name": "stdout",
     "output_type": "stream",
     "text": [
      "생성된 딕셔너리:\n",
      " {'price': {'apple': 1000, 'cup': 2000, 'pen': 500, 'banana': 4000}, 'pcs': {'kiwi': '한 개', 'cup': '한 개', 'pen': '네 개', 'candy': '세 개'}}\n",
      "\n",
      "\n",
      "생성된 DataFrame:\n",
      "          price  pcs\n",
      "apple   1000.0  NaN\n",
      "cup     2000.0  한 개\n",
      "pen      500.0  네 개\n",
      "banana  4000.0  NaN\n",
      "kiwi       NaN  한 개\n",
      "candy      NaN  세 개\n"
     ]
    }
   ],
   "source": [
    "# 예제 5: 파이썬 dictionary를 활용하여 key에 dictionary 할당하기 (key가 일치하지 않는 경우)\n",
    "\n",
    "items = {'price': {'apple': 1000, 'cup': 2000, 'pen': 500, 'banana': 4000}, \n",
    "         'pcs': {'kiwi': \"한 개\", 'cup': \"한 개\", 'pen': \"네 개\", 'candy': \"세 개\"}}\n",
    "\n",
    "print(\"생성된 딕셔너리:\\n\", items)\n",
    "print('\\n')\n",
    "\n",
    "df = pd.DataFrame(items)\n",
    "\n",
    "print(\"생성된 DataFrame:\\n\", df)"
   ]
  },
  {
   "cell_type": "code",
   "execution_count": null,
   "id": "aeac3ee5-f194-46e5-90bf-dd9ffb7f6ece",
   "metadata": {},
   "outputs": [],
   "source": []
  }
 ],
 "metadata": {
  "kernelspec": {
   "display_name": "Python 3 (ipykernel)",
   "language": "python",
   "name": "python3"
  },
  "language_info": {
   "codemirror_mode": {
    "name": "ipython",
    "version": 3
   },
   "file_extension": ".py",
   "mimetype": "text/x-python",
   "name": "python",
   "nbconvert_exporter": "python",
   "pygments_lexer": "ipython3",
   "version": "3.10.9"
  }
 },
 "nbformat": 4,
 "nbformat_minor": 5
}
