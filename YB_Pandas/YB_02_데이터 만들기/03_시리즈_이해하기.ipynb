{
 "cells": [
  {
   "cell_type": "markdown",
   "id": "006378f9-cf64-4980-a0c7-674fb5dcbf6c",
   "metadata": {
    "tags": []
   },
   "source": [
    "# **[3] Pandas의 Series 이해하기**\n",
    "\n",
    "[오늘 배울 것]\n",
    "1. Pandas Series의 구성 요소를 안다.\n",
    "2. Pandas Series를 만들 수 있다."
   ]
  },
  {
   "cell_type": "markdown",
   "id": "219a9454-f6d5-4674-bc1b-3a605e3fe9ab",
   "metadata": {},
   "source": [
    "<div class=\"alert alert-info\">\n",
    "    <font color=black>\n",
    "    [시작하기] Pandas를 사용하기 위해서 처음 할 일을 무엇인가요?\n",
    "    </font>\n",
    "</div>"
   ]
  },
  {
   "cell_type": "markdown",
   "id": "777ade2b-2e30-41a2-8959-d3f110683eeb",
   "metadata": {},
   "source": [
    "> `import pandas` 를 통해 패키지를 불러와야 합니다.  \n",
    "일반적으로 Pandas는 pd로 축약하여 활용하기 때문에 `import pandas as pd` 를 통해 불러옵니다.  \n",
    "> 항상 아래의 선언문을 먼저 실행하여야 합니다."
   ]
  },
  {
   "cell_type": "code",
   "execution_count": 1,
   "id": "b56ef5e5-e57f-4e06-807a-141cc223c53e",
   "metadata": {},
   "outputs": [],
   "source": [
    "import pandas as pd # 판다스를 pd로 축약하여 불러옵니다"
   ]
  },
  {
   "cell_type": "markdown",
   "id": "8c5c0615-95e5-47d4-859e-746dec718b3b",
   "metadata": {
    "tags": []
   },
   "source": [
    "##  **1. Pandas Series 구성 요소**\n",
    "\n",
    "> Series의 중요한 구성 요소 세가지를 알아봅시다.   \n",
    "> 아래의 구성 요소를 설정하여 Series를 생성할 수 있습니다.\n",
    ">\n",
    ">- 데이터(data)  \n",
    ">> 1차원의 리스트(ex. `[0, 1, 2]`), 딕셔너리, Numpy array 등을 Series의 데이터로 사용할 수 있습니다.  \n",
    ">- 인덱스(index)\n",
    ">> 행을 나타내는 key인 index도 설정할 수 있습니다. \n",
    ">- 이름(name)\n",
    ">> 문자열을 Series의 이름으로 설정할 수 있습니다."
   ]
  },
  {
   "cell_type": "markdown",
   "id": "be33b147-ef05-486e-96e6-35e279540aef",
   "metadata": {},
   "source": [
    "## **2. Pandas Series 생성**"
   ]
  },
  {
   "cell_type": "markdown",
   "id": "fea07336-d25a-4c77-89cc-60a1cd8bd872",
   "metadata": {
    "tags": []
   },
   "source": [
    "### **(1) List로 Pandas.Series 만들기**\n",
    "\n",
    "> 숫자나 문자를 담은 1차원의 리스트는 Pandas.Series 데이터로 사용될 수 있습니다.  \n",
    "</br> \n",
    "> `pd.Series(List)`  "
   ]
  },
  {
   "cell_type": "code",
   "execution_count": 2,
   "id": "882fdbb5-a5fb-4a6d-89d6-71b9afc9d102",
   "metadata": {},
   "outputs": [
    {
     "name": "stdout",
     "output_type": "stream",
     "text": [
      "내가 좋아하는 과일들:\n",
      " 0     apple\n",
      "1    banana\n",
      "2      kiwi\n",
      "dtype: object\n"
     ]
    }
   ],
   "source": [
    "# 예제 1: 파이썬 list를 활용하여 Series 데이터 구성하기\n",
    "\n",
    "myFavoriteFruit = pd.Series(['apple', 'banana', 'kiwi']) # 리스트를 이용해 Series를 만듭니다.\n",
    "print('내가 좋아하는 과일들:\\n', myFavoriteFruit) # Series를 출력합니다."
   ]
  },
  {
   "cell_type": "markdown",
   "id": "bf2fc85f-d575-44b3-a62a-36d8e1f99898",
   "metadata": {},
   "source": [
    "> Series를 출력하니 데이터 값의 왼쪽에 숫자가 함께 출력됩니다.  \n",
    "이것이 `index`로 value와 매칭되는 key입니다.  \n",
    "> 리스트는 순차적 숫자 index 개념을 가지기 때문에 Series의 index도 0부터 시작되는 정수로 자동 생성됐습니다.  \n",
    "\n",
    "|index|data|\n",
    "|---|---|\n",
    "|0|apple|\n",
    "|1|banana|\n",
    "|2|kiwi|\n",
    "\n"
   ]
  },
  {
   "cell_type": "markdown",
   "id": "5ae1b834-92b1-4cec-a0f7-dc02bf588815",
   "metadata": {},
   "source": [
    "#### <연습문제>\n",
    "\n",
    "<a class=\"jcecodle-mk jcecodle-mk__problem-chip\" data-problem-id=\"CrwnIWE7d1E\" href='#jce-judge/open/CrwnIWE7d1E' target='_self'><span>판다스 기초 - 시리즈 만들기(1)</span></a>\n"
   ]
  },
  {
   "cell_type": "markdown",
   "id": "a5930092-11ab-4107-bf7d-56e06dc36b66",
   "metadata": {},
   "source": [
    "> 다른 index를 사용하고 싶다면 Series를 정의할 때 입력해줄 수 있습니다.  \n",
    "> 이때, 데이터와 index를 구분하기 위해서 다음과 같이 `data`, `index`를 지정해주어야 합니다.    \n",
    ">\n",
    ">`pd.Series(index=List1, data=List2)`\n",
    "\n",
    "|index|data|\n",
    "|---|---|\n",
    "|1순위|apple|\n",
    "|2순위|banana|\n",
    "|3순위|kiwi|\n",
    "\n",
    "> 위의 표와 같은 Series를 만들어봅시다."
   ]
  },
  {
   "cell_type": "code",
   "execution_count": 3,
   "id": "002bd0b3-cdb0-4966-992a-cae8a2f7dcb1",
   "metadata": {},
   "outputs": [
    {
     "name": "stdout",
     "output_type": "stream",
     "text": [
      "내가 좋아하는 과일 순위:\n",
      " 1순위     apple\n",
      "2순위    banana\n",
      "3순위      kiwi\n",
      "dtype: object\n"
     ]
    }
   ],
   "source": [
    "# 예제 2: 파이썬 list를 활용하여 Series 데이터, 인덱스 구성하기\n",
    "\n",
    "myFavoriteFruit = pd.Series(index=['1순위', '2순위', '3순위'], data=['apple', 'banana', 'kiwi'])\n",
    "print('내가 좋아하는 과일 순위:\\n', myFavoriteFruit)"
   ]
  },
  {
   "cell_type": "markdown",
   "id": "590d41ad-231f-4385-9398-1127145c9159",
   "metadata": {
    "tags": []
   },
   "source": [
    "#### <연습문제>\n",
    "<a class=\"jcecodle-mk jcecodle-mk__problem-chip\" data-problem-id=\"84ASSq3j5vw\" href='#jce-judge/open/84ASSq3j5vw' target='_self'><span>판다스 기초 - 시리즈 만들기 (2)</span></a>"
   ]
  },
  {
   "cell_type": "markdown",
   "id": "6eff2ecd-d296-4ad2-bdf8-e489ffb3b804",
   "metadata": {
    "tags": []
   },
   "source": [
    "\n",
    "### **(2) Dictionary로 Pandas.Series 만들기**\n",
    "\n",
    "> 위에서 설명하였듯 Pandas 데이터는 딕셔너리 데이터와 흡사합니다.  \n",
    "딕셔너리 데이터가 있다면 Pandas.Series 데이터로 바꿀 수 있답니다.  \n",
    "따라서 먼저 가장 기본이 되는 key, value를 가지는 딕셔너리 데이터를 정의해보겠습니다."
   ]
  },
  {
   "cell_type": "code",
   "execution_count": 5,
   "id": "f4766875-7122-467c-9ec1-408f4340b4fc",
   "metadata": {
    "tags": [
     "Pandas_Chapter1_예제1"
    ]
   },
   "outputs": [
    {
     "name": "stdout",
     "output_type": "stream",
     "text": [
      "생성된 딕셔너리:  {'apple': 1000, 'cup': 2000, 'pen': 500, 'banana': 4000}\n",
      "apple의 value:  1000\n",
      "pen의 value:  500\n"
     ]
    }
   ],
   "source": [
    "# 예제 3: 파이썬 dictionary를 활용하여 key, value로 데이터 구성하기\n",
    "\n",
    "# dictionay 생성\n",
    "myDictionary = {'apple':1000, \n",
    "         'cup': 2000, \n",
    "         'pen': 500, \n",
    "         'banana': 4000}\n",
    "print(\"생성된 딕셔너리: \", myDictionary)\n",
    "\n",
    "# key로 특정 value를 불러오기\n",
    "print(\"apple의 value: \", myDictionary[\"apple\"])\n",
    "print(\"pen의 value: \", myDictionary[\"pen\"])"
   ]
  },
  {
   "cell_type": "markdown",
   "id": "d930bc7a-e347-4d7c-a8fb-4818a065cd21",
   "metadata": {
    "tags": []
   },
   "source": [
    "#### <연습문제>\n",
    "<a class=\"jcecodle-mk jcecodle-mk__problem-chip\" data-problem-id=\"iFGtSv4oIr0\" href='#jce-judge/open/iFGtSv4oIr0' target='_self'><span>판다스 기초 1 - 딕셔너리</span></a>"
   ]
  },
  {
   "cell_type": "markdown",
   "id": "a292dbb2-1374-4204-9890-8dd0634e8e9e",
   "metadata": {},
   "source": [
    "> 위에서 만들어진 딕셔너리를 다음과 같이 Series로 변환해봅시다.\n",
    ">\n",
    ">`pd.Series(Dictionary)`"
   ]
  },
  {
   "cell_type": "code",
   "execution_count": 6,
   "id": "84a75379-8676-426f-af01-f2e17430d269",
   "metadata": {},
   "outputs": [
    {
     "name": "stdout",
     "output_type": "stream",
     "text": [
      "가격표: \n",
      " apple     1000\n",
      "cup       2000\n",
      "pen        500\n",
      "banana    4000\n",
      "dtype: int64\n"
     ]
    }
   ],
   "source": [
    "# 예제 4: 파이썬 dictionary를 활용하여 Pandas Series 만들기\n",
    "\n",
    "prices = pd.Series(myDictionary)\n",
    "print(\"가격표: \\n\", prices)"
   ]
  },
  {
   "cell_type": "markdown",
   "id": "387b2821-5f1f-42b3-ac4a-a0c2d1b65c34",
   "metadata": {},
   "source": [
    "> 딕셔너리를 데이터로 사용하여 Pandas Series를 만들었더니 `index`를 지정해주지 않아도 값이 생성되었습니다.  \n",
    "> 딕셔너리의 key는`index`, value는 `data`가 되는 것을 확인해봅시다."
   ]
  },
  {
   "cell_type": "markdown",
   "id": "e21ee51c-d02b-4376-9dcf-c055abc24ec3",
   "metadata": {},
   "source": [
    "#### <연습문제>\n",
    "\n",
    "<a class=\"jcecodle-mk jcecodle-mk__problem-chip\" data-problem-id=\"85s1anMGz4o\" href='#jce-judge/open/85s1anMGz4o' target='_self'><span>판다스 기초 - 시리즈 만들기 (3)</span></a>\n"
   ]
  },
  {
   "cell_type": "markdown",
   "id": "9899383d-f5ba-4738-82b5-4d170de4f1f3",
   "metadata": {},
   "source": [
    "> Pandas Series 는 `index`, `data` 외에도 `name` 이라는 요소를 포함합니다.  \n",
    "`name`은 Series를 만들기 위해 꼭 필요한 요소는 아니지만 설정해두면 데이터에 대한 설명을 저장할 수 있어 좋습니다.  \n",
    "딕셔너리를 이용해 Series를 만들며 `name`도 함께 설정해봅시다.  \n",
    ">\n",
    ">`pd.Series(Dictionary, name=\"시리즈_이름\")`"
   ]
  },
  {
   "cell_type": "code",
   "execution_count": 7,
   "id": "c637e18c-ee6f-4a76-a0d9-811399cdffe9",
   "metadata": {},
   "outputs": [
    {
     "name": "stdout",
     "output_type": "stream",
     "text": [
      "가격표: \n",
      " apple     1000\n",
      "cup       2000\n",
      "pen        500\n",
      "banana    4000\n",
      "Name: 가격, dtype: int64\n"
     ]
    }
   ],
   "source": [
    "# 예제 5: 파이썬 dictionary를 활용하여 Pandas Series 만들고 이름도 설정하기\n",
    "\n",
    "prices = pd.Series(myDictionary, name=\"가격\")\n",
    "print(\"가격표: \\n\", prices)"
   ]
  },
  {
   "cell_type": "markdown",
   "id": "4efc0676-84ee-43b1-bdb0-c26695f35325",
   "metadata": {},
   "source": [
    "> `name`이 설정된 경우에 Series를 print하면 Name이 함께 출력되는 것을 확인할 수 있습니다!"
   ]
  },
  {
   "cell_type": "markdown",
   "id": "fd63313a-4460-415b-948f-6b7be69de1f8",
   "metadata": {},
   "source": [
    "#### <연습문제>\n",
    "<a class=\"jcecodle-mk jcecodle-mk__problem-chip\" data-problem-id=\"q6IFlnD9qnI\" href='#jce-judge/open/q6IFlnD9qnI' target='_self'><span>판다스 기초 - 시리즈 만들기 (4)</span></a>\n"
   ]
  }
 ],
 "metadata": {
  "kernelspec": {
   "display_name": "Python 3 (ipykernel)",
   "language": "python",
   "name": "python3"
  },
  "language_info": {
   "codemirror_mode": {
    "name": "ipython",
    "version": 3
   },
   "file_extension": ".py",
   "mimetype": "text/x-python",
   "name": "python",
   "nbconvert_exporter": "python",
   "pygments_lexer": "ipython3",
   "version": "3.10.9"
  }
 },
 "nbformat": 4,
 "nbformat_minor": 5
}
