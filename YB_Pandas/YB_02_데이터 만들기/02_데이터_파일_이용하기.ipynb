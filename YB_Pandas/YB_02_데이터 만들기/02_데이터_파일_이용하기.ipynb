{
 "cells": [
  {
   "cell_type": "markdown",
   "id": "49636b62-cf16-4592-a46c-055635db214e",
   "metadata": {
    "tags": []
   },
   "source": [
    "# **[2] 데이터 파일 이용하기**\n",
    "\n",
    "<div class=\"alert alert-info\">\n",
    "    <font color=black size = 4>\n",
    "    오늘은 무엇을 배울까요?<br>\n",
    "    </font>\n",
    "</div>\n",
    "\n",
    "1. 저장된 데이터 파일을 불러와 Pandas 데이터로 활용할 수 있다. \n",
    "2. Pandas 데이터를 파일로 저장할 수 있다. "
   ]
  },
  {
   "cell_type": "markdown",
   "id": "023409d9-d59c-4ed2-9146-1005c76580a7",
   "metadata": {
    "tags": []
   },
   "source": [
    "#### [수업을 시작하기 전에]\n",
    "\n",
    "<div>\n",
    "    <font color=black size = 3>\n",
    "        <code>import pandas</code>를 통해 패키지를 불러와야 합니다.<br>일반적으로 Pandas는 pd로 축약하여 활용하기 때문에 <code>import pandas as pd</code>를 통해 불러옵니다.\n",
    "    </font>\n",
    "</div>\n",
    "<div>\n",
    "    <font style=\"background-color:#ff1151;\" color=yellow size = 4>\n",
    "        아래의 코드를 실행시켜 주세요!\n",
    "    </font>\n",
    "</div>"
   ]
  },
  {
   "cell_type": "code",
   "execution_count": 1,
   "id": "e010cf1e-837e-4924-a5f2-11a8ca426f86",
   "metadata": {
    "tags": []
   },
   "outputs": [],
   "source": [
    "import pandas as pd # 판다스를 pd로 축약하여 불러옵니다"
   ]
  },
  {
   "cell_type": "markdown",
   "id": "1ec80d7c-3b2d-47d3-9278-14ac205d0910",
   "metadata": {},
   "source": [
    "---"
   ]
  },
  {
   "cell_type": "markdown",
   "id": "b94f5190-cdac-4263-a1fe-5324adc5369c",
   "metadata": {
    "tags": []
   },
   "source": [
    "## **1. Pandas와 데이터 파일**"
   ]
  },
  {
   "cell_type": "markdown",
   "id": "2ffe5964-eec8-404c-9b0c-5ec3f5cf3a56",
   "metadata": {
    "tags": []
   },
   "source": [
    "### **(1) 데이터 파일 불러와 Pandas 데이터로 활용하기**\n",
    "\n",
    "> `read_csv()`는 csv 포멧의 파일을 불러와 Pandas 데이터로 저장합니다.  \n",
    "> \n",
    "> csv 는 comma-separated values로 데이터가 콤마(,)로 구분되어 저장된 파일입니다.  \n",
    ">\n",
    "> `data = pd.read_csv(\"불러올_파일_이름.csv\")`  \n",
    "> : *불러올_파일_이름.csv* 에 저장된 데이터를 불러와 data라는 이름의 Pandas 데이터로 저장합니다. \n"
   ]
  },
  {
   "cell_type": "code",
   "execution_count": 2,
   "id": "3a804205-c5df-42b4-9a1c-15d626cb2095",
   "metadata": {},
   "outputs": [
    {
     "data": {
      "text/html": [
       "<div>\n",
       "<style scoped>\n",
       "    .dataframe tbody tr th:only-of-type {\n",
       "        vertical-align: middle;\n",
       "    }\n",
       "\n",
       "    .dataframe tbody tr th {\n",
       "        vertical-align: top;\n",
       "    }\n",
       "\n",
       "    .dataframe thead th {\n",
       "        text-align: right;\n",
       "    }\n",
       "</style>\n",
       "<table border=\"1\" class=\"dataframe\">\n",
       "  <thead>\n",
       "    <tr style=\"text-align: right;\">\n",
       "      <th></th>\n",
       "      <th>0</th>\n",
       "      <th>1</th>\n",
       "      <th>2</th>\n",
       "      <th>3</th>\n",
       "      <th>4</th>\n",
       "      <th>5</th>\n",
       "    </tr>\n",
       "  </thead>\n",
       "  <tbody>\n",
       "    <tr>\n",
       "      <th>0</th>\n",
       "      <td>4.1</td>\n",
       "      <td>950</td>\n",
       "      <td>1100</td>\n",
       "      <td>1250</td>\n",
       "      <td>1100</td>\n",
       "      <td>1400</td>\n",
       "    </tr>\n",
       "    <tr>\n",
       "      <th>1</th>\n",
       "      <td>4.0</td>\n",
       "      <td>1150</td>\n",
       "      <td>1300</td>\n",
       "      <td>1800</td>\n",
       "      <td>1900</td>\n",
       "      <td>2150</td>\n",
       "    </tr>\n",
       "    <tr>\n",
       "      <th>2</th>\n",
       "      <td>4.4</td>\n",
       "      <td>900</td>\n",
       "      <td>1250</td>\n",
       "      <td>1550</td>\n",
       "      <td>1650</td>\n",
       "      <td>1650</td>\n",
       "    </tr>\n",
       "    <tr>\n",
       "      <th>3</th>\n",
       "      <td>4.1</td>\n",
       "      <td>1250</td>\n",
       "      <td>1500</td>\n",
       "      <td>1800</td>\n",
       "      <td>2100</td>\n",
       "      <td>1800</td>\n",
       "    </tr>\n",
       "    <tr>\n",
       "      <th>4</th>\n",
       "      <td>3.8</td>\n",
       "      <td>1100</td>\n",
       "      <td>1550</td>\n",
       "      <td>1650</td>\n",
       "      <td>1800</td>\n",
       "      <td>1700</td>\n",
       "    </tr>\n",
       "    <tr>\n",
       "      <th>5</th>\n",
       "      <td>4.0</td>\n",
       "      <td>1250</td>\n",
       "      <td>1100</td>\n",
       "      <td>1250</td>\n",
       "      <td>1650</td>\n",
       "      <td>1800</td>\n",
       "    </tr>\n",
       "    <tr>\n",
       "      <th>6</th>\n",
       "      <td>4.1</td>\n",
       "      <td>1100</td>\n",
       "      <td>1450</td>\n",
       "      <td>1800</td>\n",
       "      <td>1850</td>\n",
       "      <td>1950</td>\n",
       "    </tr>\n",
       "    <tr>\n",
       "      <th>7</th>\n",
       "      <td>3.5</td>\n",
       "      <td>1250</td>\n",
       "      <td>1550</td>\n",
       "      <td>1650</td>\n",
       "      <td>1900</td>\n",
       "      <td>2100</td>\n",
       "    </tr>\n",
       "    <tr>\n",
       "      <th>8</th>\n",
       "      <td>3.8</td>\n",
       "      <td>1150</td>\n",
       "      <td>1500</td>\n",
       "      <td>1800</td>\n",
       "      <td>1900</td>\n",
       "      <td>1800</td>\n",
       "    </tr>\n",
       "    <tr>\n",
       "      <th>9</th>\n",
       "      <td>3.9</td>\n",
       "      <td>1350</td>\n",
       "      <td>1500</td>\n",
       "      <td>1550</td>\n",
       "      <td>1650</td>\n",
       "      <td>1750</td>\n",
       "    </tr>\n",
       "    <tr>\n",
       "      <th>10</th>\n",
       "      <td>4.1</td>\n",
       "      <td>1400</td>\n",
       "      <td>1350</td>\n",
       "      <td>1250</td>\n",
       "      <td>1550</td>\n",
       "      <td>1750</td>\n",
       "    </tr>\n",
       "    <tr>\n",
       "      <th>11</th>\n",
       "      <td>4.0</td>\n",
       "      <td>900</td>\n",
       "      <td>1400</td>\n",
       "      <td>1500</td>\n",
       "      <td>1400</td>\n",
       "      <td>1350</td>\n",
       "    </tr>\n",
       "  </tbody>\n",
       "</table>\n",
       "</div>"
      ],
      "text/plain": [
       "      0     1     2     3     4     5\n",
       "0   4.1   950  1100  1250  1100  1400\n",
       "1   4.0  1150  1300  1800  1900  2150\n",
       "2   4.4   900  1250  1550  1650  1650\n",
       "3   4.1  1250  1500  1800  2100  1800\n",
       "4   3.8  1100  1550  1650  1800  1700\n",
       "5   4.0  1250  1100  1250  1650  1800\n",
       "6   4.1  1100  1450  1800  1850  1950\n",
       "7   3.5  1250  1550  1650  1900  2100\n",
       "8   3.8  1150  1500  1800  1900  1800\n",
       "9   3.9  1350  1500  1550  1650  1750\n",
       "10  4.1  1400  1350  1250  1550  1750\n",
       "11  4.0   900  1400  1500  1400  1350"
      ]
     },
     "execution_count": 2,
     "metadata": {},
     "output_type": "execute_result"
    }
   ],
   "source": [
    "# 예제 1: 데이터 불러오기\n",
    "\n",
    "data = pd.read_csv(\"price_list.csv\")\n",
    "data"
   ]
  },
  {
   "cell_type": "markdown",
   "id": "be13c950-b5f1-4ff6-9352-206a61835628",
   "metadata": {},
   "source": [
    "### **(2) Pandas 데이터 파일로 저장하기**\n",
    "\n",
    "> `to_csv()`는 Pandas 데이터를 csv 포멧의 파일로 저장합니다.  \n",
    ">\n",
    "> `data.to_csv(\"저장할_파일_이름.csv\")`  \n",
    "> : data라는 이름의 Pandas 데이터를 *저장할_파일_이름.csv* 파일로 저장합니다.  \n",
    ">\n",
    "> `index=False` 인수를 지정하면 행 인덱스가 저장되지 않습니다. \n"
   ]
  },
  {
   "cell_type": "code",
   "execution_count": 3,
   "id": "af22dc3d-9da7-43ed-9ada-1ae1e7bbce9e",
   "metadata": {},
   "outputs": [],
   "source": [
    "# 예제 2: 데이터 저장하기\n",
    "\n",
    "data.to_csv(\"price_list_new.csv\", index=False)"
   ]
  },
  {
   "cell_type": "markdown",
   "id": "b81861e7-3940-49c8-b2ee-488d01f554bf",
   "metadata": {},
   "source": [
    "> 처음 불러 온 데이터 *price_list.csv* 파일과 저장한 데이터 *price_list_new.csv* 파일의 내용이 같은지 확인해봅시다. "
   ]
  }
 ],
 "metadata": {
  "kernelspec": {
   "display_name": "Python 3 (ipykernel)",
   "language": "python",
   "name": "python3"
  },
  "language_info": {
   "codemirror_mode": {
    "name": "ipython",
    "version": 3
   },
   "file_extension": ".py",
   "mimetype": "text/x-python",
   "name": "python",
   "nbconvert_exporter": "python",
   "pygments_lexer": "ipython3",
   "version": "3.10.9"
  },
  "toc-autonumbering": false,
  "toc-showmarkdowntxt": true
 },
 "nbformat": 4,
 "nbformat_minor": 5
}
