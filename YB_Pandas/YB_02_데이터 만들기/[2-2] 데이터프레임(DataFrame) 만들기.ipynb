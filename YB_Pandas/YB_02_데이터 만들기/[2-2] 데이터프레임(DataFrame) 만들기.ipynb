{
 "cells": [
  {
   "cell_type": "code",
   "execution_count": 1,
   "id": "fcfdd5f9-ed84-4b24-ad62-e43af9837768",
   "metadata": {},
   "outputs": [],
   "source": [
    "import pandas as pd"
   ]
  },
  {
   "cell_type": "markdown",
   "id": "727ea7a9-bac0-4bb3-afbc-4981950e3fd1",
   "metadata": {
    "tags": []
   },
   "source": [
    "# **[2-2] 데이터프레임(DataFrame) 만들기**"
   ]
  },
  {
   "cell_type": "markdown",
   "id": "0a5448d2-a09e-484c-adf2-6c2e5d0232b8",
   "metadata": {
    "tags": []
   },
   "source": [
    "## **🎯 학습 목표**\n",
    "**리스트(list), 딕셔너리(Dictionary)로부터 데이터프레임(DataFrame)을 만들어봅시다.**"
   ]
  },
  {
   "cell_type": "markdown",
   "id": "01cb348d-d551-4559-910d-6d97d46c0385",
   "metadata": {},
   "source": [
    "---"
   ]
  },
  {
   "cell_type": "markdown",
   "id": "589a40c4-3780-427b-a001-e205cef655f5",
   "metadata": {
    "jp-MarkdownHeadingCollapsed": true,
    "tags": []
   },
   "source": [
    "데이터프레임(DataFrame)는 2차원 리스트(2D list)와 중첩 딕셔너리(Nested Dictionary)를 이용해 만들 수 있습니다.\n",
    "\n",
    "> **🔨 함수(FUNCTIONS):**\n",
    ">\n",
    "> **`pd.DataFrame(data=리스트_또는_딕셔너리_또는_시리즈, columns=리스트, index=리스트)`**  \n",
    "> 데이터프레임(DataFrame)을 만듭니다.  \n",
    ">> **매개변수(parameter)**\n",
    ">>\n",
    ">> **`data`** : 데이터프레임에 채워지는 데이터입니다.  \n",
    ">> 리스트, 딕셔너리, 시리즈, 2차원 리스트, 중첩 딕셔너리 등이 사용될 수 있습니다.  \n",
    ">> **`columns`** : 열들의 이름이 담긴 리스트입니다.  \n",
    ">> 지정하지 않으면 데이터로 부터 자동으로 만들어집니다.(딕셔너리, 이름이 있는 시리즈)  \n",
    ">> 데이터로부터 만들 수 없으면 자동으로 0부터 시작하는 열이름을 만듭니다.  \n",
    ">> **`index`** : 데이터의 행방향 인덱스 지정하는 리스트입니다.  \n",
    ">> 지정하지 않으면 데이터로 부터 자동으로 만들어집니다.(딕셔너리, 이름이 있는 시리즈)  \n",
    ">> 데이터로부터 만들 수 없으면 자동으로 0부터 시작하는 인덱스를 만듭니다.  \n",
    "> ---\n",
    "\n"
   ]
  },
  {
   "cell_type": "markdown",
   "id": "7a85964e-df2b-4d40-9404-1e3dbeebd9ed",
   "metadata": {},
   "source": [
    "## 리스트로 데이터프레임을 만들어봅시다.\n",
    "\n",
    "1차원 리스트로 데이터프레임을 만들면 하나의 열을 가진 데이터프레임이 만들어집니다.  \n",
    "**😃하나의 열을 가진 데이터프레임이 만들어지는 이미지😃**  \n",
    "2차원 리스트를 사용하면 여러개의 열을 가진 데이터프레임을 만들 수 있습니다.  \n",
    "내부의 리스트가 하나의 행이 됩니다.  \n",
    "**😃이차원 리스트로 데이터 프레임을 만드는 이미지😃**  \n",
    "리스트는 딕셔너리와는 다르게 키 값을 가지고 있지 않기 때문에 `columns`나 `index` 매개변수를 설정해주지 않으면 0부터 시작하는 인덱스와 열이름을 자동으로 만들게됩니다.  \n",
    "**😃인덱스와 컬럼을 설정해 데이터 프레임을 만드는 이미지😃**\n",
    "\n",
    "> **⛔️ 오류(ERROR):**\n",
    ">\n",
    "> 2중 리스트로 데이터프레임을 만들 때 인덱스의 길이, 열이름 리스트의 길이와 데이터의 길이가 맞지 않으면 오류를 발생시킵니다.\n"
   ]
  },
  {
   "cell_type": "markdown",
   "id": "c6dfe452-23bd-48c9-a698-d03d74fe6837",
   "metadata": {},
   "source": [
    "#### 예제 1 : 1차원 리스트로 데이터프레임 구성하기"
   ]
  },
  {
   "cell_type": "code",
   "execution_count": null,
   "id": "f537eb61-c380-43db-9fa9-5a6ee2316064",
   "metadata": {
    "tags": []
   },
   "outputs": [],
   "source": [
    "# 예제_1_1차원_리스트로_데이터프레임_구성하기\n",
    "\n",
    "myFavoriteFruit = pd.DataFrame(['apple', 'banana', 'kiwi'])\n",
    "print('내가 좋아하는 과일들:\\n', myFavoriteFruit)\n",
    "print('\\n')"
   ]
  },
  {
   "cell_type": "markdown",
   "id": "f1fafea6-08a7-4fbe-b48e-c92431d41fd9",
   "metadata": {},
   "source": [
    "#### 예제 2 : 2차원 리스트로 데이터프레임 구성하기"
   ]
  },
  {
   "cell_type": "code",
   "execution_count": null,
   "id": "bd7bf571-32cc-431d-8331-614108b4d0c0",
   "metadata": {},
   "outputs": [],
   "source": [
    "# 예제_2_2차원_리스트로_데이터프레임_구성하기\n",
    "\n",
    "myFavoriteNumber = pd.DataFrame(data=[[0, 100, 999]])\n",
    "print('내가 좋아하는 숫자들:\\n', myFavoriteNumber)\n",
    "print('\\n')\n",
    "\n",
    "myFavoriteCity = pd.DataFrame(data=[['서울', '뉴욕'], ['대전', '시카고'], ['부산', 'LA']])\n",
    "print('내가 좋아하는 도시들:\\n', myFavoriteCity)"
   ]
  },
  {
   "cell_type": "markdown",
   "id": "8c631797-a92a-470c-b6ef-9225afad4da4",
   "metadata": {},
   "source": [
    "#### 예제 3 : "
   ]
  },
  {
   "cell_type": "code",
   "execution_count": null,
   "id": "72ee5a8a-886f-458f-9275-a8aa530d8df7",
   "metadata": {},
   "outputs": [],
   "source": [
    "# 예제_3_\n",
    "#리스트와 인덱스 길이, 컬럼 길이 달라서 오류 발생하는 예시"
   ]
  },
  {
   "cell_type": "markdown",
   "id": "644f930b-9f10-44ba-badd-ca87ac62477a",
   "metadata": {},
   "source": [
    "#### 예제 4 : 리스트를 활용해 데이터프레임 데이터, 인덱스, 칼럼 구성하기"
   ]
  },
  {
   "cell_type": "code",
   "execution_count": null,
   "id": "06e35873-6dc5-48b4-af1d-42e8616c94ce",
   "metadata": {},
   "outputs": [],
   "source": [
    "# 예제_4_리스트를_활용해_데이터프레임_데이터,인덱스,칼럼_구성하기\n",
    "\n",
    "myFavoriteCity = pd.DataFrame(data=[['서울', '뉴욕'], ['대전', '시카고'], ['부산', 'LA']],\n",
    "                             index=['1순위', '2순위', '3순위'], \n",
    "                             columns=['대한민국', '미국'])\n",
    "print('내가 좋아하는 도시들:\\n', myFavoriteCity)"
   ]
  },
  {
   "cell_type": "markdown",
   "id": "c643aaea-e00e-44a6-9f39-bfc68fd00165",
   "metadata": {
    "tags": []
   },
   "source": [
    "## 딕셔너리로 데이터프레임을 만들어봅시다.\n",
    "\n",
    "딕셔너리로 데이터프레임을 만들면 하나의 열을 가진 데이터프레임이 만들어집니다.  \n",
    "**😃하나의 열을 가진 데이터프레임이 만들어지는 이미지😃**  \n",
    "중첩 딕셔너리를 사용하면 여러개의 열을 가진 데이터프레임을 만들 수 있습니다.  \n",
    "내부의 딕셔너리가 하나의 행이 됩니다.  \n",
    "**😃이차원 딕셔너리로 데이터 프레임을 만드는 이미지😃**  \n",
    "딕셔너리와는 키 값을 가지고 있기 때문에 `columns`나 `index` 매개변수를 설정해주지 않아도 자동으로 인덱스와 열이름이 자동으로 설정됩니다.  \n",
    "\n",
    "> **⚠️ 주의(WARNING):**\n",
    ">\n",
    "> 중첩 딕셔너리로 데이터프레임을 만들 때 인덱스나 열이름을 지정하면 매개변수로 전달한 인덱스와 열이름을 기준으로 데이터프레임이 만들어집니다.  \n",
    "> 따라서 딕셔너리에 키(Key)가 존재하지 않는 인덱스, 열에는 데이터가 지정되지 않습니다.\n",
    ">\n",
    "> **😃이미지 설명이 필요합니다.😃**\n",
    "\n",
    "> **⚠️ 주의(WARNING):**\n",
    ">\n",
    "> 중첩 딕셔너리로 데이터프레임을 만들 때 내부 딕셔너리의 모든 키가 인덱스가 됩니다.  \n",
    "> 따라서 내부 딕셔너리들의 키 값이 동일하지 않으면 특정 열에 존재하지 않는 키에는 값이 들어가지 않습니다.\n",
    ">\n",
    "> **😃이미지 설명이 필요합니다.😃**\n"
   ]
  },
  {
   "cell_type": "markdown",
   "id": "9812e5cf-27a1-45f6-83c6-09d2b39606db",
   "metadata": {},
   "source": [
    "#### 예제 5 : "
   ]
  },
  {
   "cell_type": "code",
   "execution_count": null,
   "id": "904b3b98-733c-40e5-bb72-e39dd379cced",
   "metadata": {
    "tags": []
   },
   "outputs": [],
   "source": [
    "# 딕셔너리로 데이터프레임 만드는 예시"
   ]
  },
  {
   "cell_type": "markdown",
   "id": "2e237b20-c6b5-46e5-b8aa-7dce6c627f20",
   "metadata": {},
   "source": [
    "#### 예제 6 : 중첩 딕셔너리 만들기"
   ]
  },
  {
   "cell_type": "code",
   "execution_count": null,
   "id": "d55f13e8-a83e-4a63-93ff-d20ceee477e7",
   "metadata": {
    "tags": []
   },
   "outputs": [],
   "source": [
    "# 예제_6_중첩_딕셔너리_만들기\n",
    "\n",
    "# 중첩 dictionary 만들기\n",
    "items = {'price': {'apple': 1000, 'cup': 2000, 'pen': 500, 'banana': 4000}, \n",
    "         'pcs': {'apple': \"한 개\", 'cup': \"한 개\", 'pen': \"네 개\", 'banana': \"세 개\"}}\n",
    "\n",
    "print(\"생성된 딕셔너리:\\n\", items)\n",
    "\n",
    "# key로 특정 value를 불러오기\n",
    "print(\"\\nprice의 value: \\n\", items[\"price\"])\n",
    "print(\"\\npcs의 value: \\n\", items[\"pcs\"])"
   ]
  },
  {
   "cell_type": "markdown",
   "id": "54def450-de9c-4d6c-a829-e186beb481a6",
   "metadata": {},
   "source": [
    "#### 예제 7 : 중첩 딕셔너리로 데이터프레임 만들기"
   ]
  },
  {
   "cell_type": "code",
   "execution_count": null,
   "id": "21ab657b-ae46-4a68-9d0c-f76d464c35bf",
   "metadata": {},
   "outputs": [],
   "source": [
    "# 예제_7_중첩_딕셔너리로_데이터프레임_만들기\n",
    "\n",
    "df = pd.DataFrame(items)  # pd.DataFrame함수를 사용하여 딕셔너리를 판다스 데이터로 만듭니다. \n",
    "print(df)"
   ]
  },
  {
   "cell_type": "markdown",
   "id": "eea7cc5c-d74b-472b-b999-717d937321ba",
   "metadata": {},
   "source": [
    "#### 예제 8 : 키가 서로 다른 내부 딕셔너리들로 데이터프레임 만들기"
   ]
  },
  {
   "cell_type": "code",
   "execution_count": null,
   "id": "0eb87fc6-d87c-49b7-b55f-53d8650788c7",
   "metadata": {
    "tags": []
   },
   "outputs": [],
   "source": [
    "# 예제_8_키가_서로_다른_내부_딕셔너리들로_데이터프레임_만들기\n",
    "\n",
    "items = {'price': {'apple': 1000, 'cup': 2000, 'pen': 500, 'banana': 4000}, \n",
    "         'pcs': {'kiwi': \"한 개\", 'cup': \"한 개\", 'pen': \"네 개\", 'candy': \"세 개\"}}\n",
    "\n",
    "print(\"생성된 딕셔너리:\\n\", items)\n",
    "print('\\n')\n",
    "\n",
    "df = pd.DataFrame(items)\n",
    "\n",
    "print(\"생성된 DataFrame:\\n\", df)"
   ]
  },
  {
   "cell_type": "markdown",
   "id": "6572d185-cda1-4002-9f5e-2b9e19c593b9",
   "metadata": {},
   "source": [
    "#### 예제 5 : "
   ]
  },
  {
   "cell_type": "code",
   "execution_count": null,
   "id": "bcfa1a67-ce02-45a8-ba75-239d2211cabd",
   "metadata": {
    "tags": []
   },
   "outputs": [],
   "source": [
    "# 중첩 딕셔너리로 데이터프레임 만들 때 컬럼이랑 인덱스 파라미터 주는 예시"
   ]
  },
  {
   "cell_type": "markdown",
   "id": "679977a4-35e2-4c29-b6dd-58e01deefc38",
   "metadata": {},
   "source": [
    "> **❓ 생각해보기(QUESTION):**\n",
    ">\n",
    "> 중첩딕셔너리, 이차원 리스트 를 사용하지 않고 여러 열이 존재하는 데이터프레임을 만들 수 있는 방법에는 어떤 것들이 있을까요??"
   ]
  },
  {
   "cell_type": "raw",
   "id": "69db7222-41bb-4761-b521-f615aeb7ee8d",
   "metadata": {},
   "source": [
    "질문에 대한 대답을 여기에 적어봅시다."
   ]
  },
  {
   "cell_type": "markdown",
   "id": "c748332e-fe40-4ee6-940d-502aefc6cf5d",
   "metadata": {},
   "source": [
    "### **💯 연습문제를 풀어봅시다**\n",
    "\n",
    "1. <a class=\"jcecodle-mk jcecodle-mk__problem-chip\" data-problem-id=\"Xh1DevGAlLw\" href='#jce-judge/open/Xh1DevGAlLw' target='_self'><span>판다스 기초 - 데이터프레임 만들기 (1)</span></a>\n",
    "2. <a class=\"jcecodle-mk jcecodle-mk__problem-chip\" data-problem-id=\"ADYF5AHX8GM\" href='#jce-judge/open/ADYF5AHX8GM' target='_self'><span>판다스 기초 - 데이터프레임 만들기 (2)</span></a>\n",
    "3. <a class=\"jcecodle-mk jcecodle-mk__problem-chip\" data-problem-id=\"Izw6Imoo8sw\" href='#jce-judge/open/Izw6Imoo8sw' target='_self'><span>판다스 기초 - 데이터 프레임 만들기 (3)</span></a>\n",
    "4. <a class=\"jcecodle-mk jcecodle-mk__problem-chip\" data-problem-id=\"aq6ucbLA_y4\" href='#jce-judge/open/aq6ucbLA_y4' target='_self'><span>판다스 기초 - 데이터프레임 만들기 (4) </span></a>\n",
    "\n",
    "5. <a class=\"jcecodle-mk jcecodle-mk__problem-chip\" data-problem-id=\"vpBef1UIrLw\" href='#jce-judge/open/vpBef1UIrLw' target='_self'><span>판다스 기초 - column 설정</span></a>\n",
    "\n",
    "\n",
    "6. <a class=\"jcecodle-mk jcecodle-mk__problem-chip\" data-problem-id=\"6Xpf_-O94p8\" href='#jce-judge/open/6Xpf_-O94p8' target='_self'><span>학교급 정리</span></a>\n",
    "\n",
    "7. <a class=\"jcecodle-mk jcecodle-mk__problem-chip\" data-problem-id=\"dvSyyHJ5xVg\" href='#jce-judge/open/dvSyyHJ5xVg' target='_self'><span>1차원 리스트와 데이터 프레임</span></a>\n",
    "\n",
    "8. <a class=\"jcecodle-mk jcecodle-mk__problem-chip\" data-problem-id=\"dOs6vElAXPI\" href='#jce-judge/open/dOs6vElAXPI' target='_self'><span>2차원 리스트와 데이터 프레임</span></a>\n",
    "\n",
    "9. <a class=\"jcecodle-mk jcecodle-mk__problem-chip\" data-problem-id=\"5QU23_sl_qE\" href='#jce-judge/open/5QU23_sl_qE' target='_self'><span>중첩 딕셔너리와 데이터 프레임</span></a>\n"
   ]
  }
 ],
 "metadata": {
  "kernelspec": {
   "display_name": "Python 3 (ipykernel)",
   "language": "python",
   "name": "python3"
  },
  "language_info": {
   "codemirror_mode": {
    "name": "ipython",
    "version": 3
   },
   "file_extension": ".py",
   "mimetype": "text/x-python",
   "name": "python",
   "nbconvert_exporter": "python",
   "pygments_lexer": "ipython3",
   "version": "3.10.9"
  }
 },
 "nbformat": 4,
 "nbformat_minor": 5
}
