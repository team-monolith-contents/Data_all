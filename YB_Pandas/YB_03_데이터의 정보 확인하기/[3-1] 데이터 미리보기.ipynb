{
 "cells": [
  {
   "cell_type": "code",
   "execution_count": 2,
   "id": "fcfdd5f9-ed84-4b24-ad62-e43af9837768",
   "metadata": {},
   "outputs": [],
   "source": [
    "import pandas as pd"
   ]
  },
  {
   "cell_type": "markdown",
   "id": "727ea7a9-bac0-4bb3-afbc-4981950e3fd1",
   "metadata": {
    "tags": []
   },
   "source": [
    "# **[3-1] 데이터 미리보기**"
   ]
  },
  {
   "cell_type": "markdown",
   "id": "0a5448d2-a09e-484c-adf2-6c2e5d0232b8",
   "metadata": {
    "tags": []
   },
   "source": [
    "## **🎯 학습 목표**\n",
    "**데이터의 일부를 원하는만큼 출력 해봅시다.**"
   ]
  },
  {
   "cell_type": "markdown",
   "id": "01cb348d-d551-4559-910d-6d97d46c0385",
   "metadata": {},
   "source": [
    "---"
   ]
  },
  {
   "cell_type": "markdown",
   "id": "0eefb44f-348e-4ff4-9189-28803a208683",
   "metadata": {
    "jp-MarkdownHeadingCollapsed": true,
    "tags": []
   },
   "source": [
    "다른 사람이 만든 데이터를 사용하기 위해서는 데이터가 어떻게 구성되어 있는지 확인해야 합니다.  \n",
    "`print()` 함수를 이용해 데이터를 출력할 수도 있지만 데이터가 큰 경우에는 중간을 생략합니다.  \n",
    "`head()`, `tail()` 함수를 사용하면 데이터를 원하는 길이만큼 출력할 수 있습니다.\n",
    "\n",
    "> **🔨 함수(FUNCTIONS):**\n",
    ">\n",
    "> **`Series.head(n = 정수)`**  \n",
    "> 시리즈의 처음 n 개의 데이터를 불러옵니다.\n",
    ">> **매개변수(parameter)**\n",
    ">>\n",
    ">> **`n`** : 불러올 데이터의 개수를 정수로 지정합니다.  \n",
    "> 지정하지 않으면 5개의 데이터가 출력됩니다.\n",
    "> ---\n",
    "> **`Series.tail(n = 정수)`**  \n",
    "> 시리즈의 마지막 n 개의 데이터를 불러옵니다.\n",
    ">> **매개변수(parameter)**\n",
    ">>\n",
    ">> **`n`** : 불러올 데이터의 개수를 정수로 지정합니다.  \n",
    "> 지정하지 않으면 5개의 데이터가 출력됩니다.\n",
    "> ---\n",
    "> **`DataFrame.head(n = 정수)`**  \n",
    "> 데이터프레임의 처음 n 개의 데이터를 불러옵니다.\n",
    ">> **매개변수(parameter)**\n",
    ">>\n",
    ">> **`n`** : 불러올 데이터의 개수를 정수로 지정합니다.  \n",
    "> 지정하지 않으면 5개의 데이터가 출력됩니다.\n",
    ">---\n",
    "> **`DataFrame.tail(n = 정수)`**  \n",
    "> 데이터프레임의 마지막 n 개의 데이터를 불러옵니다.\n",
    ">> **매개변수(parameter)**\n",
    ">>\n",
    ">> **`n`** : 불러올 데이터의 개수를 정수로 지정합니다.  \n",
    "> 지정하지 않으면 5개의 데이터가 출력됩니다.\n",
    "> ---\n"
   ]
  },
  {
   "cell_type": "markdown",
   "id": "14a34532-c00f-4663-ab9a-685e9543bde7",
   "metadata": {},
   "source": [
    "## head(), tail() 함수로 원하는 만큼 시리즈 읽어오기\n",
    "\n",
    "`head()`, `tail()` 함수를 사용하면 원하는 만큼 시리즈 데이터를 읽어올 수 있습니다.\n",
    "\n",
    "**😃head. tail 로 시리즈 데이터 읽어오기😃**"
   ]
  },
  {
   "cell_type": "code",
   "execution_count": null,
   "id": "6ca4b186-9316-4e35-afc5-af91dd017539",
   "metadata": {
    "tags": []
   },
   "outputs": [],
   "source": [
    "# print()로 시리즈 읽어오기"
   ]
  },
  {
   "cell_type": "code",
   "execution_count": null,
   "id": "56c14ebb-9a23-4066-948c-3d3319eb3753",
   "metadata": {
    "tags": []
   },
   "outputs": [],
   "source": [
    "# head()로 시리즈 읽어오기"
   ]
  },
  {
   "cell_type": "code",
   "execution_count": null,
   "id": "1f82d790-0bfa-4a6c-934c-246ea8b89bb7",
   "metadata": {
    "tags": []
   },
   "outputs": [],
   "source": [
    "# tail()로 시리즈 읽어오기"
   ]
  },
  {
   "cell_type": "markdown",
   "id": "7f40843f-ad2a-40fd-94bd-336bee35565d",
   "metadata": {},
   "source": [
    "## head(), tail() 함수로 원하는 만큼 시리즈 읽어오기\n",
    "\n",
    "`head()`, `tail()` 함수를 사용하면 원하는 만큼 데이터프레임에 데이터를 읽어올 수 있습니다.\n",
    "\n",
    "**😃head. tail 로 데이터프레임 데이터 읽어오기😃** "
   ]
  },
  {
   "cell_type": "code",
   "execution_count": null,
   "id": "47087b03-6d28-498e-83d3-6255b2055a76",
   "metadata": {
    "tags": []
   },
   "outputs": [],
   "source": [
    "# print()로 데이터프레임 읽어오기"
   ]
  },
  {
   "cell_type": "code",
   "execution_count": null,
   "id": "e5f38a5a-4063-45ba-bc00-6d4948104e46",
   "metadata": {
    "tags": []
   },
   "outputs": [],
   "source": [
    "# head()로 데이터프레임 읽어오기"
   ]
  },
  {
   "cell_type": "code",
   "execution_count": null,
   "id": "277470bf-92e1-4338-90c1-53a15b147fac",
   "metadata": {
    "tags": []
   },
   "outputs": [],
   "source": [
    "# tail()로 데이터프레임 읽어오기"
   ]
  },
  {
   "cell_type": "markdown",
   "id": "b0689a88-0bbb-43c0-a115-02d6b94ea15c",
   "metadata": {},
   "source": [
    "> **❓ 생각해보기(QUESTION):**\n",
    ">\n",
    "> 다른 사람이 만든 데이터를 활용하기 전에 데이터를 확인해야 하는 이유는 무엇일까요?"
   ]
  },
  {
   "cell_type": "raw",
   "id": "7d197f7c-3ebe-4722-acc9-8e47af4e7e7a",
   "metadata": {},
   "source": [
    "질문에 대한 대답을 여기에 적어봅시다."
   ]
  },
  {
   "cell_type": "markdown",
   "id": "c363ef03-64ac-47dc-850b-b0a190a2b8bf",
   "metadata": {},
   "source": [
    "### **💯 연습문제를 풀어봅시다**\n",
    "\n"
   ]
  },
  {
   "cell_type": "markdown",
   "id": "f49fa315-a101-4771-930e-7fdb22b8a103",
   "metadata": {
    "tags": []
   },
   "source": [
    "1. head() 시리즈 읽어오는 문제\n",
    "2. tail() 시리즈 읽어오는 문제\n",
    "3. head() 데이터프레임 읽어오는 문제\n",
    "4. tail() 데이터프레임 읽어오는 문제\n",
    "5. <a class=\"jcecodle-mk jcecodle-mk__problem-chip\" data-problem-id=\"3urbitKPCt8\" href='#jce-judge/open/3urbitKPCt8' target='_self'><span>판다스 기초 - 데이터 출력하기</span></a>\n"
   ]
  }
 ],
 "metadata": {
  "kernelspec": {
   "display_name": "Python 3 (ipykernel)",
   "language": "python",
   "name": "python3"
  },
  "language_info": {
   "codemirror_mode": {
    "name": "ipython",
    "version": 3
   },
   "file_extension": ".py",
   "mimetype": "text/x-python",
   "name": "python",
   "nbconvert_exporter": "python",
   "pygments_lexer": "ipython3",
   "version": "3.10.9"
  }
 },
 "nbformat": 4,
 "nbformat_minor": 5
}
