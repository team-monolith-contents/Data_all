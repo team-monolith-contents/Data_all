{
 "cells": [
  {
   "cell_type": "code",
   "execution_count": 2,
   "id": "fcfdd5f9-ed84-4b24-ad62-e43af9837768",
   "metadata": {},
   "outputs": [],
   "source": [
    "import pandas as pd"
   ]
  },
  {
   "cell_type": "markdown",
   "id": "727ea7a9-bac0-4bb3-afbc-4981950e3fd1",
   "metadata": {
    "tags": []
   },
   "source": [
    "# **[1-1] 시리즈(Series)와 데이터프레임(DataFrame)**"
   ]
  },
  {
   "cell_type": "markdown",
   "id": "0a5448d2-a09e-484c-adf2-6c2e5d0232b8",
   "metadata": {
    "tags": []
   },
   "source": [
    "## **🎯 학습 목표**\n",
    "**시리즈(Series)와 데이터프레임(DataFrame)이 무엇인지 알아봅니다.**"
   ]
  },
  {
   "cell_type": "markdown",
   "id": "01cb348d-d551-4559-910d-6d97d46c0385",
   "metadata": {},
   "source": [
    "---"
   ]
  },
  {
   "cell_type": "markdown",
   "id": "cefa182a-3671-4265-9e38-e05da0367af9",
   "metadata": {
    "tags": []
   },
   "source": [
    "Pandas에서는 데이터를 표현하기 위해 2가지 자료구조를 사용합니다.  \n",
    "하나는 1차원 데이터를 표현하기 위한 `Series`이고 나머지 하나는 2차원 데이터를 표현하기 위한 `DataFrame`입니다. \n",
    "\n",
    "> - Series: 1개 열의 데이터 (1차원) </br>\n",
    "> > 활용 방법 : `pd.Series(데이터 변수)`\n",
    "> - DataFrame: 여러 Series가 합쳐진 n개 열의 데이터 (2차원)</br>\n",
    "> > 활용 방법 : `pd.DataFrame(데이터 변수)`\n",
    ">\n",
    "> 아래 그림에서와 같이 1차원의 Series를 여러개 합치면 2차원의\n",
    "DataFrame이 됩니다. "
   ]
  }
 ],
 "metadata": {
  "kernelspec": {
   "display_name": "Python 3 (ipykernel)",
   "language": "python",
   "name": "python3"
  },
  "language_info": {
   "codemirror_mode": {
    "name": "ipython",
    "version": 3
   },
   "file_extension": ".py",
   "mimetype": "text/x-python",
   "name": "python",
   "nbconvert_exporter": "python",
   "pygments_lexer": "ipython3",
   "version": "3.10.9"
  }
 },
 "nbformat": 4,
 "nbformat_minor": 5
}
