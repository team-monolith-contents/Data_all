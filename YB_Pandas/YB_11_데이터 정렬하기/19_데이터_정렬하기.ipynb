{
 "cells": [
  {
   "cell_type": "markdown",
   "id": "d7408c9a-bce3-4385-8cb8-51bbe9902972",
   "metadata": {
    "tags": []
   },
   "source": [
    "#### [시작하기]\n",
    "\n",
    "<div class=\"alert alert-info\">\n",
    "    <font color=black>\n",
    "    Pandas를 사용하기 위해서 처음 할 일을 무엇인가요?\n",
    "    </font>\n",
    "</div>"
   ]
  },
  {
   "cell_type": "code",
   "execution_count": 2,
   "id": "a022ca8d-8151-4def-8fde-177215c49a17",
   "metadata": {},
   "outputs": [],
   "source": [
    "import pandas as pd # 판다스를 pd로 축약하여 불러옵니다"
   ]
  },
  {
   "cell_type": "markdown",
   "id": "6b63c9cc-92be-4a59-b710-13dd91bc8d9c",
   "metadata": {
    "tags": []
   },
   "source": [
    "# **[19] 데이터 정렬하기**\n",
    "\n",
    "[오늘 배울 것]\n",
    "1. 값에 따라 데이터를 정렬할 수 있다. \n",
    "2. 인덱스에 따라 데이터를 정렬할 수 있다. \n",
    "3. 무작위로 데이터 순서를 섞을 수 있다. "
   ]
  },
  {
   "cell_type": "markdown",
   "id": "f9ab56ba-b13b-42a2-bc36-abe5e24c46d6",
   "metadata": {},
   "source": [
    "> 여러 상황에서 데이터 정렬이 사용됩니다.  \n",
    "> 데이터를 보기 좋게 확인하기 위해 값을 기준으로 오름차순 혹은 내림차순으로 정렬할 수 있습니다.  \n",
    "> 뒤섞인 데이터를 다시 인덱스에 맞게 정렬할 수도 있습니다.  \n",
    "> 또한, 인공지능 학습과 같이 데이터가 무작위(random)로 섞여야 할 때도 있습니다.  \n",
    "> 다음 학생 정보 데이터를 활용해 다양한 정렬 방법에 대해 알아봅시다. \n"
   ]
  },
  {
   "cell_type": "code",
   "execution_count": 3,
   "id": "9ec4574b-e562-4317-90c3-45843b079d5a",
   "metadata": {},
   "outputs": [
    {
     "data": {
      "text/html": [
       "<div>\n",
       "<style scoped>\n",
       "    .dataframe tbody tr th:only-of-type {\n",
       "        vertical-align: middle;\n",
       "    }\n",
       "\n",
       "    .dataframe tbody tr th {\n",
       "        vertical-align: top;\n",
       "    }\n",
       "\n",
       "    .dataframe thead th {\n",
       "        text-align: right;\n",
       "    }\n",
       "</style>\n",
       "<table border=\"1\" class=\"dataframe\">\n",
       "  <thead>\n",
       "    <tr style=\"text-align: right;\">\n",
       "      <th></th>\n",
       "      <th>이름</th>\n",
       "      <th>성별</th>\n",
       "      <th>키</th>\n",
       "      <th>담당</th>\n",
       "    </tr>\n",
       "  </thead>\n",
       "  <tbody>\n",
       "    <tr>\n",
       "      <th>0</th>\n",
       "      <td>황철수</td>\n",
       "      <td>M</td>\n",
       "      <td>130</td>\n",
       "      <td>청소</td>\n",
       "    </tr>\n",
       "    <tr>\n",
       "      <th>1</th>\n",
       "      <td>이영희</td>\n",
       "      <td>F</td>\n",
       "      <td>141</td>\n",
       "      <td>준비물</td>\n",
       "    </tr>\n",
       "    <tr>\n",
       "      <th>2</th>\n",
       "      <td>김영재</td>\n",
       "      <td>M</td>\n",
       "      <td>128</td>\n",
       "      <td>준비물</td>\n",
       "    </tr>\n",
       "    <tr>\n",
       "      <th>3</th>\n",
       "      <td>오민준</td>\n",
       "      <td>M</td>\n",
       "      <td>143</td>\n",
       "      <td>청소</td>\n",
       "    </tr>\n",
       "    <tr>\n",
       "      <th>4</th>\n",
       "      <td>손민지</td>\n",
       "      <td>F</td>\n",
       "      <td>137</td>\n",
       "      <td>급식</td>\n",
       "    </tr>\n",
       "    <tr>\n",
       "      <th>5</th>\n",
       "      <td>정수정</td>\n",
       "      <td>F</td>\n",
       "      <td>129</td>\n",
       "      <td>급식</td>\n",
       "    </tr>\n",
       "    <tr>\n",
       "      <th>6</th>\n",
       "      <td>최이준</td>\n",
       "      <td>M</td>\n",
       "      <td>139</td>\n",
       "      <td>청소</td>\n",
       "    </tr>\n",
       "    <tr>\n",
       "      <th>7</th>\n",
       "      <td>김로즈</td>\n",
       "      <td>F</td>\n",
       "      <td>135</td>\n",
       "      <td>준비물</td>\n",
       "    </tr>\n",
       "    <tr>\n",
       "      <th>8</th>\n",
       "      <td>박보검</td>\n",
       "      <td>M</td>\n",
       "      <td>132</td>\n",
       "      <td>청소</td>\n",
       "    </tr>\n",
       "    <tr>\n",
       "      <th>9</th>\n",
       "      <td>조앤디</td>\n",
       "      <td>F</td>\n",
       "      <td>150</td>\n",
       "      <td>급식</td>\n",
       "    </tr>\n",
       "  </tbody>\n",
       "</table>\n",
       "</div>"
      ],
      "text/plain": [
       "    이름 성별    키   담당\n",
       "0  황철수  M  130   청소\n",
       "1  이영희  F  141  준비물\n",
       "2  김영재  M  128  준비물\n",
       "3  오민준  M  143   청소\n",
       "4  손민지  F  137   급식\n",
       "5  정수정  F  129   급식\n",
       "6  최이준  M  139   청소\n",
       "7  김로즈  F  135  준비물\n",
       "8  박보검  M  132   청소\n",
       "9  조앤디  F  150   급식"
      ]
     },
     "execution_count": 3,
     "metadata": {},
     "output_type": "execute_result"
    }
   ],
   "source": [
    "# 예제 1: 학생 정보 데이터프레임 생성하기\n",
    "\n",
    "# 학생 정보 데이터 프레임\n",
    "students = pd.DataFrame(data={\"이름\": [\"황철수\", \"이영희\", \"김영재\", \"오민준\", \"손민지\", \"정수정\", \"최이준\", \"김로즈\", \"박보검\", \"조앤디\"],\n",
    "                              \"성별\": list(\"MFMMFFMFMF\"), \n",
    "                              \"키\": [130, 141, 128, 143, 137, 129, 139, 135, 132, 150], \n",
    "                              \"담당\": [\"청소\", \"준비물\", \"준비물\", \"청소\", \"급식\", \"급식\", \"청소\", \"준비물\", \"청소\", \"급식\"]})\n",
    "# 학생 정보 확인하기\n",
    "students"
   ]
  },
  {
   "cell_type": "markdown",
   "id": "9e25aa6d-59fe-4f7d-a213-4be4d9341895",
   "metadata": {
    "tags": []
   },
   "source": [
    "## **1. 값 기준으로 데이터 정렬**\n",
    "\n",
    "> `sort_values` 를 이용하면 Pandas 데이터를 값 기준으로 정렬할 수 있습니다.   \n",
    "> \n",
    "> Series의 경우, `Series.sort_values()`는 1열 데이터의 값을 정렬합니다.     \n",
    "> DataFrame의 경우, `by`와 `axis` 인수를 통해 어느 열 혹은 행 데이터를 기준으로 할지 지정해야 합니다.  \n",
    "> \n",
    "> 가장 자주 사용되는 DataFrame의 열 데이터를 기준으로 정렬하기 방법을 알아보겠습니다.  "
   ]
  },
  {
   "cell_type": "markdown",
   "id": "216aaf5f-839e-4bf0-8a4e-979259289146",
   "metadata": {
    "tags": []
   },
   "source": [
    "### **(1) 숫자 데이터 크기 순서로 정렬하기**\n",
    " \n",
    "> 다음과 같이 해당 열의 데이터 크기 순서로 데이터를 정렬할 수 있습니다.  \n",
    "> \n",
    "> `DataFrame.sort_values(by=['column'])`  \n",
    "> : column의 데이터가 오름차순으로 정렬되도록 행 순서를 바꿈  \n",
    "> `DataFrame.sort_values(by=['column'], ascending=False)`  \n",
    "> : column의 데이터가 내림차순으로 정렬되도록 행 순서를 바꿈\n",
    "\n",
    "> 학생 정보 데이터에는 '키' 열의 숫자 데이터가 있습니다.  \n",
    "> 키가 큰 순서대로 혹은 작은 순서대로 데이터를 정렬해봅시다. \n",
    "\n"
   ]
  },
  {
   "cell_type": "code",
   "execution_count": 4,
   "id": "5d6196a6-d1c4-4381-acf4-aa3b4259d78a",
   "metadata": {},
   "outputs": [
    {
     "name": "stdout",
     "output_type": "stream",
     "text": [
      "키 열 오름차순 정렬하기:\n",
      "    이름 성별    키   담당\n",
      "2  김영재  M  128  준비물\n",
      "5  정수정  F  129   급식\n",
      "0  황철수  M  130   청소\n",
      "8  박보검  M  132   청소\n",
      "7  김로즈  F  135  준비물\n",
      "4  손민지  F  137   급식\n",
      "6  최이준  M  139   청소\n",
      "1  이영희  F  141  준비물\n",
      "3  오민준  M  143   청소\n",
      "9  조앤디  F  150   급식\n",
      "\n",
      "\n",
      "키 열 내림차순 정렬하기:\n",
      "    이름 성별    키   담당\n",
      "9  조앤디  F  150   급식\n",
      "3  오민준  M  143   청소\n",
      "1  이영희  F  141  준비물\n",
      "6  최이준  M  139   청소\n",
      "4  손민지  F  137   급식\n",
      "7  김로즈  F  135  준비물\n",
      "8  박보검  M  132   청소\n",
      "0  황철수  M  130   청소\n",
      "5  정수정  F  129   급식\n",
      "2  김영재  M  128  준비물\n"
     ]
    }
   ],
   "source": [
    "# 예제 2: 숫자 데이터 크기 기준으로 오름차순/내림차순으로 정렬하기\n",
    "\n",
    "print(\"키 열 오름차순 정렬하기:\")\n",
    "print(students.sort_values(by=['키']))\n",
    "\n",
    "print(\"\\n\")\n",
    "print(\"키 열 내림차순 정렬하기:\")\n",
    "print(students.sort_values(by=['키'], ascending=False))"
   ]
  },
  {
   "cell_type": "markdown",
   "id": "a18e007a-4238-4e69-bbaa-6005c8fd41fb",
   "metadata": {},
   "source": [
    "#### <연습문제>\n",
    "\n",
    "<a class=\"jcecodle-mk jcecodle-mk__problem-chip\" data-problem-id=\"A3yzWBEo5F0\" href='#jce-judge/open/A3yzWBEo5F0' target='_self'><span>판다스 - 데이터 정렬 - 숫자 데이터</span></a>\n",
    "\n",
    "\n"
   ]
  },
  {
   "cell_type": "markdown",
   "id": "c5e8ea32-8c26-443d-9f35-d489fcc996ce",
   "metadata": {
    "tags": []
   },
   "source": [
    "### **(2) 문자 데이터 순서로 정렬하기**\n",
    "\n",
    "> 문자 데이터 정렬 순서는 알파벳 순서와 같습니다.  \n",
    "> \n",
    "> 우선 첫 글자의 순서대로 정렬되고 첫글자가 같으면 그 다음 글자의 순서로 정렬됩니다.  \n",
    "> \n",
    "> `DataFrame.sort_values(by=['column'])`  \n",
    "> : column의 데이터가 알파벳 순서로 정렬되도록 행 순서를 바꿈  \n",
    "> `DataFrame.sort_values(by=['column'], ascending=False)`  \n",
    "> : column의 데이터가 알파벳 반대 순서로 정렬되도록 행 순서를 바꿈\n",
    "\n",
    "> 학생 정보 데이터에는 여러 열의 문자 데이터가 있습니다.  \n",
    "> 성별 열과 담당 열을 기준으로 데이터를 정렬해봅시다. \n"
   ]
  },
  {
   "cell_type": "code",
   "execution_count": 5,
   "id": "6d1941ee-a714-49cd-88c2-80c7071c085c",
   "metadata": {},
   "outputs": [
    {
     "name": "stdout",
     "output_type": "stream",
     "text": [
      "성별 열 정렬하기:\n",
      "    이름 성별    키   담당\n",
      "1  이영희  F  141  준비물\n",
      "4  손민지  F  137   급식\n",
      "5  정수정  F  129   급식\n",
      "7  김로즈  F  135  준비물\n",
      "9  조앤디  F  150   급식\n",
      "0  황철수  M  130   청소\n",
      "2  김영재  M  128  준비물\n",
      "3  오민준  M  143   청소\n",
      "6  최이준  M  139   청소\n",
      "8  박보검  M  132   청소\n",
      "\n",
      "\n",
      "담당 열 정렬하기:\n",
      "    이름 성별    키   담당\n",
      "4  손민지  F  137   급식\n",
      "5  정수정  F  129   급식\n",
      "9  조앤디  F  150   급식\n",
      "1  이영희  F  141  준비물\n",
      "2  김영재  M  128  준비물\n",
      "7  김로즈  F  135  준비물\n",
      "0  황철수  M  130   청소\n",
      "3  오민준  M  143   청소\n",
      "6  최이준  M  139   청소\n",
      "8  박보검  M  132   청소\n"
     ]
    }
   ],
   "source": [
    "# 예제 3: 문자 데이터 알파벳 순서대로 정렬하기\n",
    "\n",
    "print(\"성별 열 정렬하기:\")\n",
    "print(students.sort_values(by=['성별']))\n",
    "\n",
    "print(\"\\n\")\n",
    "print(\"담당 열 정렬하기:\")\n",
    "print(students.sort_values(by=['담당']))"
   ]
  },
  {
   "cell_type": "markdown",
   "id": "b3d9f18f-4f3d-4a62-b062-7e68738cfce9",
   "metadata": {},
   "source": [
    "#### <연습문제>\n",
    "\n",
    "<a class=\"jcecodle-mk jcecodle-mk__problem-chip\" data-problem-id=\"zwkgK-9uAno\" href='#jce-judge/open/zwkgK-9uAno' target='_self'><span>판다스 - 데이터 정렬 - 문자 데이터</span></a>\n"
   ]
  },
  {
   "cell_type": "markdown",
   "id": "f6f33b0e-8d41-426d-96e5-e1bbd168f581",
   "metadata": {
    "tags": []
   },
   "source": [
    "### **(3) 여러 기준으로 정렬하기**\n",
    "\n",
    "\n",
    "> `by` 인수를 지정할 때 list안에 여러 열 이름을 넣어주면, 그 순서를 우선순위로 하여 정렬합니다.  \n",
    "> \n",
    "> `DataFrame.sort_values(by=['column1', 'column2'])`  \n",
    "> : column1 데이터를 기준으로 우선 정렬하고,  \n",
    ">   column1의 값이 같은 경우 column2 데이터를 기준으로 정렬하여 행 순서를 바꿈    \n",
    "\n",
    "> 학생 정보 데이터에는 여러 열의 데이터가 있습니다.  \n",
    "> 성별로 우선 정렬 후 키 순서로 정렬해봅시다.   \n",
    "> 그리고 담당 기준으로 우선 정렬 후 이름 순서로 정렬해봅시다. "
   ]
  },
  {
   "cell_type": "code",
   "execution_count": 6,
   "id": "b158f831-ba47-47aa-aa89-e77314b0ed78",
   "metadata": {},
   "outputs": [
    {
     "name": "stdout",
     "output_type": "stream",
     "text": [
      "성별로 우선 정렬 후 키 순서로 정렬하기:\n",
      "    이름 성별    키   담당\n",
      "5  정수정  F  129   급식\n",
      "7  김로즈  F  135  준비물\n",
      "4  손민지  F  137   급식\n",
      "1  이영희  F  141  준비물\n",
      "9  조앤디  F  150   급식\n",
      "2  김영재  M  128  준비물\n",
      "0  황철수  M  130   청소\n",
      "8  박보검  M  132   청소\n",
      "6  최이준  M  139   청소\n",
      "3  오민준  M  143   청소\n",
      "\n",
      "\n",
      "담당으로 우선 정렬 후 이름 순서로 정렬하기:\n",
      "    이름 성별    키   담당\n",
      "4  손민지  F  137   급식\n",
      "5  정수정  F  129   급식\n",
      "9  조앤디  F  150   급식\n",
      "7  김로즈  F  135  준비물\n",
      "2  김영재  M  128  준비물\n",
      "1  이영희  F  141  준비물\n",
      "8  박보검  M  132   청소\n",
      "3  오민준  M  143   청소\n",
      "6  최이준  M  139   청소\n",
      "0  황철수  M  130   청소\n"
     ]
    }
   ],
   "source": [
    "# 예제 4: 여러 기준으로 정렬하기\n",
    "\n",
    "print(\"성별로 우선 정렬 후 키 순서로 정렬하기:\")\n",
    "print(students.sort_values(by=['성별', '키']))\n",
    "\n",
    "print(\"\\n\")\n",
    "print(\"담당으로 우선 정렬 후 이름 순서로 정렬하기:\")\n",
    "print(students.sort_values(by=['담당', '이름']))"
   ]
  },
  {
   "cell_type": "markdown",
   "id": "2482f343-dfe6-42ca-a2a5-a8660fb7c775",
   "metadata": {},
   "source": [
    "#### <연습문제>\n",
    "\n",
    "<a class=\"jcecodle-mk jcecodle-mk__problem-chip\" data-problem-id=\"1Jz1bJPHk58\" href='#jce-judge/open/1Jz1bJPHk58' target='_self'><span>판다스 - 데이터 정렬 - 여러 기준</span></a>\n"
   ]
  },
  {
   "cell_type": "markdown",
   "id": "47aaca33-5355-482d-9740-b99f6ff6fad8",
   "metadata": {},
   "source": [
    "> `sort_values` 함수 안에 `inplace=True` 로 인수를 지정해주면, 원본의 데이터 순서를 바꾸어 줍니다.  \n",
    "\n",
    "> 담당 영역별로 당번 순서를 정하기 위해 담당을 기준으로 우선 정렬한 뒤 이름을 기준으로 정렬하였습니다.  \n",
    "> 원본까지 정렬해봅시다. "
   ]
  },
  {
   "cell_type": "code",
   "execution_count": 7,
   "id": "78de415a-3ee3-4650-b3c3-9f48ba8fa915",
   "metadata": {},
   "outputs": [
    {
     "name": "stdout",
     "output_type": "stream",
     "text": [
      "새롭게 정렬된 students 데이터:\n"
     ]
    },
    {
     "data": {
      "text/html": [
       "<div>\n",
       "<style scoped>\n",
       "    .dataframe tbody tr th:only-of-type {\n",
       "        vertical-align: middle;\n",
       "    }\n",
       "\n",
       "    .dataframe tbody tr th {\n",
       "        vertical-align: top;\n",
       "    }\n",
       "\n",
       "    .dataframe thead th {\n",
       "        text-align: right;\n",
       "    }\n",
       "</style>\n",
       "<table border=\"1\" class=\"dataframe\">\n",
       "  <thead>\n",
       "    <tr style=\"text-align: right;\">\n",
       "      <th></th>\n",
       "      <th>이름</th>\n",
       "      <th>성별</th>\n",
       "      <th>키</th>\n",
       "      <th>담당</th>\n",
       "    </tr>\n",
       "  </thead>\n",
       "  <tbody>\n",
       "    <tr>\n",
       "      <th>4</th>\n",
       "      <td>손민지</td>\n",
       "      <td>F</td>\n",
       "      <td>137</td>\n",
       "      <td>급식</td>\n",
       "    </tr>\n",
       "    <tr>\n",
       "      <th>5</th>\n",
       "      <td>정수정</td>\n",
       "      <td>F</td>\n",
       "      <td>129</td>\n",
       "      <td>급식</td>\n",
       "    </tr>\n",
       "    <tr>\n",
       "      <th>9</th>\n",
       "      <td>조앤디</td>\n",
       "      <td>F</td>\n",
       "      <td>150</td>\n",
       "      <td>급식</td>\n",
       "    </tr>\n",
       "    <tr>\n",
       "      <th>7</th>\n",
       "      <td>김로즈</td>\n",
       "      <td>F</td>\n",
       "      <td>135</td>\n",
       "      <td>준비물</td>\n",
       "    </tr>\n",
       "    <tr>\n",
       "      <th>2</th>\n",
       "      <td>김영재</td>\n",
       "      <td>M</td>\n",
       "      <td>128</td>\n",
       "      <td>준비물</td>\n",
       "    </tr>\n",
       "    <tr>\n",
       "      <th>1</th>\n",
       "      <td>이영희</td>\n",
       "      <td>F</td>\n",
       "      <td>141</td>\n",
       "      <td>준비물</td>\n",
       "    </tr>\n",
       "    <tr>\n",
       "      <th>8</th>\n",
       "      <td>박보검</td>\n",
       "      <td>M</td>\n",
       "      <td>132</td>\n",
       "      <td>청소</td>\n",
       "    </tr>\n",
       "    <tr>\n",
       "      <th>3</th>\n",
       "      <td>오민준</td>\n",
       "      <td>M</td>\n",
       "      <td>143</td>\n",
       "      <td>청소</td>\n",
       "    </tr>\n",
       "    <tr>\n",
       "      <th>6</th>\n",
       "      <td>최이준</td>\n",
       "      <td>M</td>\n",
       "      <td>139</td>\n",
       "      <td>청소</td>\n",
       "    </tr>\n",
       "    <tr>\n",
       "      <th>0</th>\n",
       "      <td>황철수</td>\n",
       "      <td>M</td>\n",
       "      <td>130</td>\n",
       "      <td>청소</td>\n",
       "    </tr>\n",
       "  </tbody>\n",
       "</table>\n",
       "</div>"
      ],
      "text/plain": [
       "    이름 성별    키   담당\n",
       "4  손민지  F  137   급식\n",
       "5  정수정  F  129   급식\n",
       "9  조앤디  F  150   급식\n",
       "7  김로즈  F  135  준비물\n",
       "2  김영재  M  128  준비물\n",
       "1  이영희  F  141  준비물\n",
       "8  박보검  M  132   청소\n",
       "3  오민준  M  143   청소\n",
       "6  최이준  M  139   청소\n",
       "0  황철수  M  130   청소"
      ]
     },
     "execution_count": 7,
     "metadata": {},
     "output_type": "execute_result"
    }
   ],
   "source": [
    "# 예제 5: 원본 데이터도 변경하기\n",
    "\n",
    "# 담당으로 우선 정렬 후 이름 순서로 정렬하기\n",
    "students.sort_values(by=['담당', '이름'], inplace=True)\n",
    "\n",
    "print(\"새롭게 정렬된 students 데이터:\")\n",
    "students"
   ]
  },
  {
   "cell_type": "markdown",
   "id": "41f90cc2-f258-4e0c-8723-3fb3cee61306",
   "metadata": {
    "tags": []
   },
   "source": [
    "## **2. 인덱스 기준으로 데이터 정렬**\n",
    "\n",
    "> `sort_index` 를 이용하면 Pandas 데이터를 index 이름 기준으로 정렬할 수 있습니다.   \n",
    "> \n",
    "> Series의 경우, `Series.sort_index()`는 행 index 순서로 정렬합니다.     \n",
    "> DataFrame의 경우, `axis` 인수를 통해 행 index 혹은 열 index 기준으로 할지 지정해야 합니다.  "
   ]
  },
  {
   "cell_type": "markdown",
   "id": "7baeb0ac-2caa-4a6f-90ee-9a4882c4f34c",
   "metadata": {
    "tags": []
   },
   "source": [
    "### **(1) 행 인덱스 기준으로 정렬하기**\n",
    "\n",
    "> 다음과 같이 행 index 기준으로 데이터를 정렬할 수 있습니다.  \n",
    "> \n",
    "> `data.sort_index()` \n",
    "> : 행 index 기준으로 정렬되도록 행 순서를 바꿈 \n",
    "> \n",
    "> 행 Index가 숫자일 때, 숫자의 오름차순으로 정렬됩니다.  \n",
    "> 행 Index가 문자일 때, 알파벳의 순서대로 정렬됩니다.  \n",
    "> \n",
    "> `ascending=False` 인수를 지정하면 숫자의 내림차순 또는 알파벳의 반대 순서로 정렬됩니다.  \n",
    "> `inplace=True` 인수를 지정하면 원본도 변경됩니다.  \n",
    "\n",
    "> 학생 정보 데이터의 행 index를 기준으로 데이터를 정렬해봅시다.  "
   ]
  },
  {
   "cell_type": "code",
   "execution_count": 8,
   "id": "5ee4ca2d-6424-4008-82ef-7a4a590ae458",
   "metadata": {},
   "outputs": [
    {
     "name": "stdout",
     "output_type": "stream",
     "text": [
      "행 인덱스 기준으로 정렬된 students 데이터:\n"
     ]
    },
    {
     "data": {
      "text/html": [
       "<div>\n",
       "<style scoped>\n",
       "    .dataframe tbody tr th:only-of-type {\n",
       "        vertical-align: middle;\n",
       "    }\n",
       "\n",
       "    .dataframe tbody tr th {\n",
       "        vertical-align: top;\n",
       "    }\n",
       "\n",
       "    .dataframe thead th {\n",
       "        text-align: right;\n",
       "    }\n",
       "</style>\n",
       "<table border=\"1\" class=\"dataframe\">\n",
       "  <thead>\n",
       "    <tr style=\"text-align: right;\">\n",
       "      <th></th>\n",
       "      <th>이름</th>\n",
       "      <th>성별</th>\n",
       "      <th>키</th>\n",
       "      <th>담당</th>\n",
       "    </tr>\n",
       "  </thead>\n",
       "  <tbody>\n",
       "    <tr>\n",
       "      <th>0</th>\n",
       "      <td>황철수</td>\n",
       "      <td>M</td>\n",
       "      <td>130</td>\n",
       "      <td>청소</td>\n",
       "    </tr>\n",
       "    <tr>\n",
       "      <th>1</th>\n",
       "      <td>이영희</td>\n",
       "      <td>F</td>\n",
       "      <td>141</td>\n",
       "      <td>준비물</td>\n",
       "    </tr>\n",
       "    <tr>\n",
       "      <th>2</th>\n",
       "      <td>김영재</td>\n",
       "      <td>M</td>\n",
       "      <td>128</td>\n",
       "      <td>준비물</td>\n",
       "    </tr>\n",
       "    <tr>\n",
       "      <th>3</th>\n",
       "      <td>오민준</td>\n",
       "      <td>M</td>\n",
       "      <td>143</td>\n",
       "      <td>청소</td>\n",
       "    </tr>\n",
       "    <tr>\n",
       "      <th>4</th>\n",
       "      <td>손민지</td>\n",
       "      <td>F</td>\n",
       "      <td>137</td>\n",
       "      <td>급식</td>\n",
       "    </tr>\n",
       "    <tr>\n",
       "      <th>5</th>\n",
       "      <td>정수정</td>\n",
       "      <td>F</td>\n",
       "      <td>129</td>\n",
       "      <td>급식</td>\n",
       "    </tr>\n",
       "    <tr>\n",
       "      <th>6</th>\n",
       "      <td>최이준</td>\n",
       "      <td>M</td>\n",
       "      <td>139</td>\n",
       "      <td>청소</td>\n",
       "    </tr>\n",
       "    <tr>\n",
       "      <th>7</th>\n",
       "      <td>김로즈</td>\n",
       "      <td>F</td>\n",
       "      <td>135</td>\n",
       "      <td>준비물</td>\n",
       "    </tr>\n",
       "    <tr>\n",
       "      <th>8</th>\n",
       "      <td>박보검</td>\n",
       "      <td>M</td>\n",
       "      <td>132</td>\n",
       "      <td>청소</td>\n",
       "    </tr>\n",
       "    <tr>\n",
       "      <th>9</th>\n",
       "      <td>조앤디</td>\n",
       "      <td>F</td>\n",
       "      <td>150</td>\n",
       "      <td>급식</td>\n",
       "    </tr>\n",
       "  </tbody>\n",
       "</table>\n",
       "</div>"
      ],
      "text/plain": [
       "    이름 성별    키   담당\n",
       "0  황철수  M  130   청소\n",
       "1  이영희  F  141  준비물\n",
       "2  김영재  M  128  준비물\n",
       "3  오민준  M  143   청소\n",
       "4  손민지  F  137   급식\n",
       "5  정수정  F  129   급식\n",
       "6  최이준  M  139   청소\n",
       "7  김로즈  F  135  준비물\n",
       "8  박보검  M  132   청소\n",
       "9  조앤디  F  150   급식"
      ]
     },
     "execution_count": 8,
     "metadata": {},
     "output_type": "execute_result"
    }
   ],
   "source": [
    "# 예제 6: 행 인덱스 기준으로 정렬하기\n",
    "\n",
    "# 행 인덱스 기준으로 정렬하기\n",
    "students.sort_index(inplace=True)\n",
    "\n",
    "print(\"행 인덱스 기준으로 정렬된 students 데이터:\")\n",
    "students"
   ]
  },
  {
   "cell_type": "markdown",
   "id": "0f27955f-a062-4d85-b678-d7e0efe6aae6",
   "metadata": {
    "tags": []
   },
   "source": [
    "#### <연습문제>\n",
    "\n",
    "<a class=\"jcecodle-mk jcecodle-mk__problem-chip\" data-problem-id=\"2nKnq5WDG14\" href='#jce-judge/open/2nKnq5WDG14' target='_self'><span>판다스 - 데이터 정렬 - 인덱스 기준</span></a>\n",
    "\n",
    "\n"
   ]
  },
  {
   "cell_type": "markdown",
   "id": "5c71729c-8084-48a1-96bf-4ef39ae0d5e4",
   "metadata": {
    "tags": []
   },
   "source": [
    "### **(2) 열 인덱스 기준으로 정렬하기**\n",
    "\n",
    "> DataFrame에서는 다음과 같이 열 index 기준으로 데이터를 정렬할 수 있습니다.  \n",
    "> \n",
    "> `DataFrame.sort_index(axis=1)` \n",
    "> : 열 index 기준으로 정렬되도록 열 순서를 바꿈 \n",
    "> \n",
    "> 열 Index가 숫자일 때, 숫자의 오름차순으로 정렬됩니다.  \n",
    "> 열 Index가 문자일 때, 알파벳의 순서대로 정렬됩니다.  \n",
    "> \n",
    "> `ascending=False` 인수를 지정하면 숫자의 내림차순 또는 알파벳의 반대 순서로 정렬됩니다.  \n",
    "> `inplace=True` 인수를 지정하면 원본도 변경됩니다.  \n",
    "\n",
    "> 학생 정보 데이터의 열 index를 기준으로 데이터를 정렬해봅시다.  "
   ]
  },
  {
   "cell_type": "code",
   "execution_count": 9,
   "id": "0f0d7967-145e-41e7-a979-049cc06bfbb4",
   "metadata": {},
   "outputs": [
    {
     "name": "stdout",
     "output_type": "stream",
     "text": [
      "열 인덱스 기준으로 정렬된 students 데이터:\n"
     ]
    },
    {
     "data": {
      "text/html": [
       "<div>\n",
       "<style scoped>\n",
       "    .dataframe tbody tr th:only-of-type {\n",
       "        vertical-align: middle;\n",
       "    }\n",
       "\n",
       "    .dataframe tbody tr th {\n",
       "        vertical-align: top;\n",
       "    }\n",
       "\n",
       "    .dataframe thead th {\n",
       "        text-align: right;\n",
       "    }\n",
       "</style>\n",
       "<table border=\"1\" class=\"dataframe\">\n",
       "  <thead>\n",
       "    <tr style=\"text-align: right;\">\n",
       "      <th></th>\n",
       "      <th>담당</th>\n",
       "      <th>성별</th>\n",
       "      <th>이름</th>\n",
       "      <th>키</th>\n",
       "    </tr>\n",
       "  </thead>\n",
       "  <tbody>\n",
       "    <tr>\n",
       "      <th>0</th>\n",
       "      <td>청소</td>\n",
       "      <td>M</td>\n",
       "      <td>황철수</td>\n",
       "      <td>130</td>\n",
       "    </tr>\n",
       "    <tr>\n",
       "      <th>1</th>\n",
       "      <td>준비물</td>\n",
       "      <td>F</td>\n",
       "      <td>이영희</td>\n",
       "      <td>141</td>\n",
       "    </tr>\n",
       "    <tr>\n",
       "      <th>2</th>\n",
       "      <td>준비물</td>\n",
       "      <td>M</td>\n",
       "      <td>김영재</td>\n",
       "      <td>128</td>\n",
       "    </tr>\n",
       "    <tr>\n",
       "      <th>3</th>\n",
       "      <td>청소</td>\n",
       "      <td>M</td>\n",
       "      <td>오민준</td>\n",
       "      <td>143</td>\n",
       "    </tr>\n",
       "    <tr>\n",
       "      <th>4</th>\n",
       "      <td>급식</td>\n",
       "      <td>F</td>\n",
       "      <td>손민지</td>\n",
       "      <td>137</td>\n",
       "    </tr>\n",
       "    <tr>\n",
       "      <th>5</th>\n",
       "      <td>급식</td>\n",
       "      <td>F</td>\n",
       "      <td>정수정</td>\n",
       "      <td>129</td>\n",
       "    </tr>\n",
       "    <tr>\n",
       "      <th>6</th>\n",
       "      <td>청소</td>\n",
       "      <td>M</td>\n",
       "      <td>최이준</td>\n",
       "      <td>139</td>\n",
       "    </tr>\n",
       "    <tr>\n",
       "      <th>7</th>\n",
       "      <td>준비물</td>\n",
       "      <td>F</td>\n",
       "      <td>김로즈</td>\n",
       "      <td>135</td>\n",
       "    </tr>\n",
       "    <tr>\n",
       "      <th>8</th>\n",
       "      <td>청소</td>\n",
       "      <td>M</td>\n",
       "      <td>박보검</td>\n",
       "      <td>132</td>\n",
       "    </tr>\n",
       "    <tr>\n",
       "      <th>9</th>\n",
       "      <td>급식</td>\n",
       "      <td>F</td>\n",
       "      <td>조앤디</td>\n",
       "      <td>150</td>\n",
       "    </tr>\n",
       "  </tbody>\n",
       "</table>\n",
       "</div>"
      ],
      "text/plain": [
       "    담당 성별   이름    키\n",
       "0   청소  M  황철수  130\n",
       "1  준비물  F  이영희  141\n",
       "2  준비물  M  김영재  128\n",
       "3   청소  M  오민준  143\n",
       "4   급식  F  손민지  137\n",
       "5   급식  F  정수정  129\n",
       "6   청소  M  최이준  139\n",
       "7  준비물  F  김로즈  135\n",
       "8   청소  M  박보검  132\n",
       "9   급식  F  조앤디  150"
      ]
     },
     "execution_count": 9,
     "metadata": {},
     "output_type": "execute_result"
    }
   ],
   "source": [
    "# 예제 7: 열 인덱스 기준으로 정렬하기\n",
    "\n",
    "# 열 인덱스 기준으로 정렬하기\n",
    "students.sort_index(axis=1, inplace=True)\n",
    "\n",
    "print(\"열 인덱스 기준으로 정렬된 students 데이터:\")\n",
    "students"
   ]
  },
  {
   "cell_type": "markdown",
   "id": "8e4bd91d-53e0-48d0-aad4-7e87112c7c4e",
   "metadata": {
    "tags": []
   },
   "source": [
    "## **3. 무작위 정렬 (random sort/shuffle)**\n",
    "> 기준을 가지고 순서대로 정렬하기도 하지만, 무작위로 데이터를 섞어야 하는 경우도 있습니다.  \n",
    "> 인공지능을 학습할 때는 데이터가 무작위로 섞여 있어야 편향된 결과가 나오지 않고 잘 학습됩니다.  "
   ]
  },
  {
   "cell_type": "markdown",
   "id": "3124a696-b759-4037-9e2e-f6e75583901c",
   "metadata": {
    "tags": []
   },
   "source": [
    "### **(1) Pandas sample 함수로 무작위 정렬하기**\n",
    "\n",
    "> `sample`은 Series, DataFrame의 행 데이터를 무작위로 반환합니다.  \n",
    ">\n",
    "> `data.sample()` : 랜덤으로 1개 행 데이터 반환  \n",
    "> `data.sample(n=3)` : 랜덤으로 3개 행 데이터 반환  \n",
    ">\n",
    "> sample의 `frac`인수는 fraction(부분)으로 전체 데이터 중 반환할 데이터 개수의 비율을 뜻합니다.  \n",
    "> 즉, `frac=1`이면 데이터의 전체가 다시 반환됩니다.  \n",
    "> 이때 순서는 무작위로 섞여 반환됩니다.  \n",
    ">\n",
    "> `data.sample(frac=1)` : 무작위 순서로 바뀐 전체 데이터 반환"
   ]
  },
  {
   "cell_type": "code",
   "execution_count": 10,
   "id": "9a8749ad-84a1-49b5-b814-3b21d7549363",
   "metadata": {},
   "outputs": [
    {
     "name": "stdout",
     "output_type": "stream",
     "text": [
      "데이터 무작위 정렬: \n",
      "    담당 성별   이름    키\n",
      "9   급식  F  조앤디  150\n",
      "1  준비물  F  이영희  141\n",
      "5   급식  F  정수정  129\n",
      "8   청소  M  박보검  132\n",
      "2  준비물  M  김영재  128\n",
      "3   청소  M  오민준  143\n",
      "4   급식  F  손민지  137\n",
      "7  준비물  F  김로즈  135\n",
      "6   청소  M  최이준  139\n",
      "0   청소  M  황철수  130\n",
      "\n",
      "\n",
      "다시 데이터 무작위 정렬: \n",
      "    담당 성별   이름    키\n",
      "2  준비물  M  김영재  128\n",
      "9   급식  F  조앤디  150\n",
      "8   청소  M  박보검  132\n",
      "1  준비물  F  이영희  141\n",
      "4   급식  F  손민지  137\n",
      "3   청소  M  오민준  143\n",
      "0   청소  M  황철수  130\n",
      "6   청소  M  최이준  139\n",
      "5   급식  F  정수정  129\n",
      "7  준비물  F  김로즈  135\n"
     ]
    }
   ],
   "source": [
    "# 예제 8: 무작위로 데이터 정렬하기\n",
    "\n",
    "# sample 함수 이용하여 데이터 무작위 정렬하기\n",
    "print(\"데이터 무작위 정렬: \")\n",
    "print(students.sample(frac=1))\n",
    "print(\"\\n\")\n",
    "\n",
    "# 한! 번! 더!\n",
    "print(\"다시 데이터 무작위 정렬: \")\n",
    "print(students.sample(frac=1))\n"
   ]
  },
  {
   "cell_type": "markdown",
   "id": "882a5a78-e045-4a67-9965-f43cd76eeb90",
   "metadata": {
    "tags": []
   },
   "source": [
    "### **(2) 무작위 정렬 기억하기**\n",
    "\n",
    "> 위와 같이 무작위 정렬을 반복할때마다 다른 결과가 나옵니다.  \n",
    "> 만약, 한 번 무작위로 정렬된 데이터의 순서를 기억하고 싶다면 어떻게 해야 할까요?  \n",
    ">\n",
    "> `random_state` 인수를 이용할 수 있습니다.  \n",
    ">\n",
    "> `data.sample(frac=1, random_state=n)`  \n",
    "> : 무작위 순서로 바뀐 전체 데이터 반환하는데 만약 같은 n을 사용하면 항상 같은 결과를 반환"
   ]
  },
  {
   "cell_type": "code",
   "execution_count": 11,
   "id": "b97273f2-3d63-4f2a-b537-0ff349fd5441",
   "metadata": {},
   "outputs": [
    {
     "name": "stdout",
     "output_type": "stream",
     "text": [
      "random_state=0으로 데이터 무작위 정렬: \n",
      "    담당 성별   이름    키\n",
      "2  준비물  M  김영재  128\n",
      "8   청소  M  박보검  132\n",
      "4   급식  F  손민지  137\n",
      "9   급식  F  조앤디  150\n",
      "1  준비물  F  이영희  141\n",
      "6   청소  M  최이준  139\n",
      "7  준비물  F  김로즈  135\n",
      "3   청소  M  오민준  143\n",
      "0   청소  M  황철수  130\n",
      "5   급식  F  정수정  129\n",
      "\n",
      "\n",
      "다시 random_state=0으로 데이터 무작위 정렬: \n",
      "    담당 성별   이름    키\n",
      "2  준비물  M  김영재  128\n",
      "8   청소  M  박보검  132\n",
      "4   급식  F  손민지  137\n",
      "9   급식  F  조앤디  150\n",
      "1  준비물  F  이영희  141\n",
      "6   청소  M  최이준  139\n",
      "7  준비물  F  김로즈  135\n",
      "3   청소  M  오민준  143\n",
      "0   청소  M  황철수  130\n",
      "5   급식  F  정수정  129\n"
     ]
    }
   ],
   "source": [
    "# 예제 9: 무작위로 데이터 정렬한 순서 기억하기\n",
    "\n",
    "# sample 함수 이용하여 데이터 무작위 정렬하기\n",
    "print(\"random_state=0으로 데이터 무작위 정렬: \")\n",
    "print(students.sample(frac=1, random_state=0))\n",
    "print(\"\\n\")\n",
    "\n",
    "# 한! 번! 더!\n",
    "print(\"다시 random_state=0으로 데이터 무작위 정렬: \")\n",
    "print(students.sample(frac=1, random_state=0))"
   ]
  },
  {
   "cell_type": "markdown",
   "id": "15fc0575-a5d2-4bdb-932d-763df15f8087",
   "metadata": {},
   "source": [
    "#### <연습문제>\n",
    "\n",
    "<a class=\"jcecodle-mk jcecodle-mk__problem-chip\" data-problem-id=\"AjTlr8Yu4qQ\" href='#jce-judge/open/AjTlr8Yu4qQ' target='_self'><span>판다스 - 데이터 정렬 - 랜덤</span></a>\n"
   ]
  },
  {
   "cell_type": "code",
   "execution_count": null,
   "id": "cf769a35-c7b6-401c-b204-81df8469039b",
   "metadata": {},
   "outputs": [],
   "source": []
  }
 ],
 "metadata": {
  "kernelspec": {
   "display_name": "Python 3 (ipykernel)",
   "language": "python",
   "name": "python3"
  },
  "language_info": {
   "codemirror_mode": {
    "name": "ipython",
    "version": 3
   },
   "file_extension": ".py",
   "mimetype": "text/x-python",
   "name": "python",
   "nbconvert_exporter": "python",
   "pygments_lexer": "ipython3",
   "version": "3.10.9"
  }
 },
 "nbformat": 4,
 "nbformat_minor": 5
}
