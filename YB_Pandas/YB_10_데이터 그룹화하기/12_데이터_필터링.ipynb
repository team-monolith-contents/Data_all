{
 "cells": [
  {
   "cell_type": "markdown",
   "id": "d7408c9a-bce3-4385-8cb8-51bbe9902972",
   "metadata": {
    "tags": []
   },
   "source": [
    "#### [시작하기]\n",
    "\n",
    "<div class=\"alert alert-info\">\n",
    "    <font color=black>\n",
    "    Pandas를 사용하기 위해서 처음 할 일을 무엇인가요?\n",
    "    </font>\n",
    "</div>"
   ]
  },
  {
   "cell_type": "code",
   "execution_count": 1,
   "id": "a022ca8d-8151-4def-8fde-177215c49a17",
   "metadata": {},
   "outputs": [],
   "source": [
    "import pandas as pd # 판다스를 pd로 축약하여 불러옵니다"
   ]
  },
  {
   "cell_type": "markdown",
   "id": "6b63c9cc-92be-4a59-b710-13dd91bc8d9c",
   "metadata": {
    "tags": []
   },
   "source": [
    "# **[12] 데이터 필터링**\n",
    "\n",
    "[오늘 배울 것]\n",
    "1. 데이터를 그룹별로 나누어 확인할 수 있다.\n",
    "2. 데이터를 그룹별로 나누어 각각의 연산 결과를 확인할 수 있다.\n",
    "3. 데이터를 그룹별로 나누어 각각의 통계량을 확인할 수 있다."
   ]
  },
  {
   "cell_type": "markdown",
   "id": "f9ab56ba-b13b-42a2-bc36-abe5e24c46d6",
   "metadata": {},
   "source": [
    "> 데이터를 파악할 때 그룹별로 나누어 각각에 대한 정보를 확인할 필요가 있습니다.  \n",
    "> 가령, 학교의 모든 학생 전체에 대한 데이터를 각 학년 별, 반 별, 성별에 따라 나눌 수 있습니다.  \n",
    "> 이렇게 데이터에서 특정 그룹을 나누어내는 것을 필터링이라고 합니다.  \n",
    ">\n",
    "> Pandas의 `groupby`는 데이터를 그룹별로 나누어줍니다.  \n",
    "> 활용법을 알아보기 위해 사용할 DataFrame을 불러와봅시다."
   ]
  },
  {
   "cell_type": "code",
   "execution_count": 2,
   "id": "f284193f-6a19-4706-8490-4ca0965a037f",
   "metadata": {},
   "outputs": [
    {
     "name": "stdout",
     "output_type": "stream",
     "text": [
      "     year month  passengers\n",
      "0    1949   Jan         112\n",
      "1    1949   Feb         118\n",
      "2    1949   Mar         132\n",
      "3    1949   Apr         129\n",
      "4    1949   May         121\n",
      "..    ...   ...         ...\n",
      "139  1960   Aug         606\n",
      "140  1960   Sep         508\n",
      "141  1960   Oct         461\n",
      "142  1960   Nov         390\n",
      "143  1960   Dec         432\n",
      "\n",
      "[144 rows x 3 columns]\n"
     ]
    }
   ],
   "source": [
    "# 예제 1: 제공되는 데이터 불러와서 출력해보기\n",
    "\n",
    "import seaborn as sns\n",
    "new_df = sns.load_dataset('flights')\n",
    "\n",
    "print(new_df)"
   ]
  },
  {
   "cell_type": "markdown",
   "id": "9e25aa6d-59fe-4f7d-a213-4be4d9341895",
   "metadata": {
    "tags": []
   },
   "source": [
    "## **1. 데이터 그룹별로 확인하기**\n"
   ]
  },
  {
   "cell_type": "markdown",
   "id": "216aaf5f-839e-4bf0-8a4e-979259289146",
   "metadata": {
    "tags": []
   },
   "source": [
    "### **(1) 데이터 그룹 확인하기**\n",
    "\n",
    "> 불러온 데이터를 출력해보니 각 년도의 각 월 별로 승객수를 나타내는 것을 알 수 있습니다.  \n",
    "> 위의 데이터를 년도에 따라 혹은 월에 따라 나누어 볼 수 있습니다.  \n",
    "> 이때, 년도에는 어떤 종류의 값이 있는지 월에는 어떤 종류의 값이 있는지 알아야 필터링에 활용할 수 있습니다.  \n",
    ">\n",
    "> `Series.unique()`: Series 데이터를 구성하는 고유값들을 반환  \n",
    "\n",
    "> **[주의]** DataFrame에는 사용할 수 없습니다!\n",
    "\n"
   ]
  },
  {
   "cell_type": "code",
   "execution_count": 3,
   "id": "5d6196a6-d1c4-4381-acf4-aa3b4259d78a",
   "metadata": {},
   "outputs": [
    {
     "name": "stdout",
     "output_type": "stream",
     "text": [
      "year 열의 고유값:\n",
      "[1949, 1950, 1951, 1952, 1953, 1954, 1955, 1956, 1957, 1958, 1959, 1960] \n",
      "\n",
      "month 열의 고유값:\n",
      "['Jan', 'Feb', 'Mar', 'Apr', 'May', 'Jun', 'Jul', 'Aug', 'Sep', 'Oct', 'Nov', 'Dec']\n"
     ]
    }
   ],
   "source": [
    "# 예제 2: unique로 데이터 고유값 확인하기\n",
    "\n",
    "print(\"year 열의 고유값:\")\n",
    "print(list(new_df.year.unique()), \"\\n\")\n",
    "\n",
    "print(\"month 열의 고유값:\")\n",
    "print(list(new_df.month.unique()))"
   ]
  },
  {
   "cell_type": "markdown",
   "id": "a18e007a-4238-4e69-bbaa-6005c8fd41fb",
   "metadata": {},
   "source": [
    "#### <연습문제>\n",
    "\n",
    "<a class=\"jcecodle-mk jcecodle-mk__problem-chip\" data-problem-id=\"A_cZFNLXp2g\" href='#jce-judge/open/A_cZFNLXp2g' target='_self'><span>판다스 연습 1 - 고유값 확인하기</span></a>\n",
    "\n"
   ]
  },
  {
   "cell_type": "markdown",
   "id": "7670ae87-b56d-4c31-a9f9-34f51150585c",
   "metadata": {
    "tags": []
   },
   "source": [
    "### **(2) 데이터 필터링하여 출력해보기**\n",
    "\n",
    "> 데이터의 고유값을 안다면 해당하는 데이터를 필터링하여 불러올 수 있습니다.  \n",
    "> 예를 들어 `year`열의 값이 `1950`인 행들만 불러올 수 있습니다.  \n",
    ">\n",
    "> `DataFrame.groupby([\"key\"]).get_group(value)`,  \n",
    "> `DataFrame.groupby(by=\"key\").get_group(value)`  \n",
    ">: key행의 값이 value인 행들로만 이루어진 DataFrame을 반환"
   ]
  },
  {
   "cell_type": "code",
   "execution_count": 4,
   "id": "1285ee85-3e28-4bfa-9a60-200452015d7c",
   "metadata": {},
   "outputs": [
    {
     "name": "stdout",
     "output_type": "stream",
     "text": [
      "year열의 값이 1950인 데이터 필터링:\n",
      "    year month  passengers\n",
      "12  1950   Jan         115\n",
      "13  1950   Feb         126\n",
      "14  1950   Mar         141\n",
      "15  1950   Apr         135\n",
      "16  1950   May         125\n",
      "17  1950   Jun         149\n",
      "18  1950   Jul         170\n",
      "19  1950   Aug         170\n",
      "20  1950   Sep         158\n",
      "21  1950   Oct         133\n",
      "22  1950   Nov         114\n",
      "23  1950   Dec         140 \n",
      "\n",
      "month열의 값이 Apr인 데이터 필터링:\n"
     ]
    },
    {
     "name": "stderr",
     "output_type": "stream",
     "text": [
      "No matching template\n",
      "---------------------------------------------------------------------------\n",
      "\u001b[1;33m오류도우미의 설명\u001b[0m\n",
      "\n"
     ]
    },
    {
     "ename": "TypeError",
     "evalue": "unhashable type: 'list'",
     "output_type": "error",
     "traceback": [
      "\u001b[0;31m---------------------------------------------------------------------------\u001b[0m",
      "\u001b[0;31mTypeError\u001b[0m                                 Traceback (most recent call last)",
      "Cell \u001b[0;32mIn[4], line 7\u001b[0m\n\u001b[1;32m      4\u001b[0m \u001b[38;5;28mprint\u001b[39m(new_df\u001b[38;5;241m.\u001b[39mgroupby([\u001b[38;5;124m'\u001b[39m\u001b[38;5;124myear\u001b[39m\u001b[38;5;124m'\u001b[39m])\u001b[38;5;241m.\u001b[39mget_group(\u001b[38;5;241m1950\u001b[39m), \u001b[38;5;124m\"\u001b[39m\u001b[38;5;130;01m\\n\u001b[39;00m\u001b[38;5;124m\"\u001b[39m)\n\u001b[1;32m      6\u001b[0m \u001b[38;5;28mprint\u001b[39m(\u001b[38;5;124m\"\u001b[39m\u001b[38;5;124mmonth열의 값이 Apr인 데이터 필터링:\u001b[39m\u001b[38;5;124m\"\u001b[39m)\n\u001b[0;32m----> 7\u001b[0m \u001b[38;5;28mprint\u001b[39m(\u001b[43mnew_df\u001b[49m\u001b[38;5;241;43m.\u001b[39;49m\u001b[43mgroupby\u001b[49m\u001b[43m(\u001b[49m\u001b[43mby\u001b[49m\u001b[38;5;241;43m=\u001b[39;49m\u001b[38;5;124;43m'\u001b[39;49m\u001b[38;5;124;43mmonth\u001b[39;49m\u001b[38;5;124;43m'\u001b[39;49m\u001b[43m)\u001b[49m\u001b[38;5;241;43m.\u001b[39;49m\u001b[43mget_group\u001b[49m\u001b[43m(\u001b[49m\u001b[43m[\u001b[49m\u001b[38;5;124;43m'\u001b[39;49m\u001b[38;5;124;43mApr\u001b[39;49m\u001b[38;5;124;43m'\u001b[39;49m\u001b[43m,\u001b[49m\u001b[38;5;124;43m'\u001b[39;49m\u001b[38;5;124;43mMar\u001b[39;49m\u001b[38;5;124;43m'\u001b[39;49m\u001b[43m]\u001b[49m\u001b[43m)\u001b[49m)\n",
      "File \u001b[0;32m/usr/local/lib/python3.10/site-packages/pandas/core/groupby/groupby.py:745\u001b[0m, in \u001b[0;36mBaseGroupBy.get_group\u001b[0;34m(self, name, obj)\u001b[0m\n\u001b[1;32m    742\u001b[0m \u001b[38;5;28;01mif\u001b[39;00m obj \u001b[38;5;129;01mis\u001b[39;00m \u001b[38;5;28;01mNone\u001b[39;00m:\n\u001b[1;32m    743\u001b[0m     obj \u001b[38;5;241m=\u001b[39m \u001b[38;5;28mself\u001b[39m\u001b[38;5;241m.\u001b[39m_selected_obj\n\u001b[0;32m--> 745\u001b[0m inds \u001b[38;5;241m=\u001b[39m \u001b[38;5;28;43mself\u001b[39;49m\u001b[38;5;241;43m.\u001b[39;49m\u001b[43m_get_index\u001b[49m\u001b[43m(\u001b[49m\u001b[43mname\u001b[49m\u001b[43m)\u001b[49m\n\u001b[1;32m    746\u001b[0m \u001b[38;5;28;01mif\u001b[39;00m \u001b[38;5;129;01mnot\u001b[39;00m \u001b[38;5;28mlen\u001b[39m(inds):\n\u001b[1;32m    747\u001b[0m     \u001b[38;5;28;01mraise\u001b[39;00m \u001b[38;5;167;01mKeyError\u001b[39;00m(name)\n",
      "File \u001b[0;32m/usr/local/lib/python3.10/site-packages/pandas/core/groupby/groupby.py:673\u001b[0m, in \u001b[0;36mBaseGroupBy._get_index\u001b[0;34m(self, name)\u001b[0m\n\u001b[1;32m    668\u001b[0m \u001b[38;5;129m@final\u001b[39m\n\u001b[1;32m    669\u001b[0m \u001b[38;5;28;01mdef\u001b[39;00m \u001b[38;5;21m_get_index\u001b[39m(\u001b[38;5;28mself\u001b[39m, name):\n\u001b[1;32m    670\u001b[0m \u001b[38;5;250m    \u001b[39m\u001b[38;5;124;03m\"\"\"\u001b[39;00m\n\u001b[1;32m    671\u001b[0m \u001b[38;5;124;03m    Safe get index, translate keys for datelike to underlying repr.\u001b[39;00m\n\u001b[1;32m    672\u001b[0m \u001b[38;5;124;03m    \"\"\"\u001b[39;00m\n\u001b[0;32m--> 673\u001b[0m     \u001b[38;5;28;01mreturn\u001b[39;00m \u001b[38;5;28;43mself\u001b[39;49m\u001b[38;5;241;43m.\u001b[39;49m\u001b[43m_get_indices\u001b[49m\u001b[43m(\u001b[49m\u001b[43m[\u001b[49m\u001b[43mname\u001b[49m\u001b[43m]\u001b[49m\u001b[43m)\u001b[49m[\u001b[38;5;241m0\u001b[39m]\n",
      "File \u001b[0;32m/usr/local/lib/python3.10/site-packages/pandas/core/groupby/groupby.py:666\u001b[0m, in \u001b[0;36mBaseGroupBy._get_indices\u001b[0;34m(self, names)\u001b[0m\n\u001b[1;32m    663\u001b[0m     converter \u001b[38;5;241m=\u001b[39m get_converter(index_sample)\n\u001b[1;32m    664\u001b[0m     names \u001b[38;5;241m=\u001b[39m (converter(name) \u001b[38;5;28;01mfor\u001b[39;00m name \u001b[38;5;129;01min\u001b[39;00m names)\n\u001b[0;32m--> 666\u001b[0m \u001b[38;5;28;01mreturn\u001b[39;00m [\u001b[38;5;28mself\u001b[39m\u001b[38;5;241m.\u001b[39mindices\u001b[38;5;241m.\u001b[39mget(name, []) \u001b[38;5;28;01mfor\u001b[39;00m name \u001b[38;5;129;01min\u001b[39;00m names]\n",
      "File \u001b[0;32m/usr/local/lib/python3.10/site-packages/pandas/core/groupby/groupby.py:666\u001b[0m, in \u001b[0;36m<listcomp>\u001b[0;34m(.0)\u001b[0m\n\u001b[1;32m    663\u001b[0m     converter \u001b[38;5;241m=\u001b[39m get_converter(index_sample)\n\u001b[1;32m    664\u001b[0m     names \u001b[38;5;241m=\u001b[39m (converter(name) \u001b[38;5;28;01mfor\u001b[39;00m name \u001b[38;5;129;01min\u001b[39;00m names)\n\u001b[0;32m--> 666\u001b[0m \u001b[38;5;28;01mreturn\u001b[39;00m [\u001b[38;5;28;43mself\u001b[39;49m\u001b[38;5;241;43m.\u001b[39;49m\u001b[43mindices\u001b[49m\u001b[38;5;241;43m.\u001b[39;49m\u001b[43mget\u001b[49m\u001b[43m(\u001b[49m\u001b[43mname\u001b[49m\u001b[43m,\u001b[49m\u001b[43m \u001b[49m\u001b[43m[\u001b[49m\u001b[43m]\u001b[49m\u001b[43m)\u001b[49m \u001b[38;5;28;01mfor\u001b[39;00m name \u001b[38;5;129;01min\u001b[39;00m names]\n",
      "\u001b[0;31mTypeError\u001b[0m: unhashable type: 'list'"
     ]
    }
   ],
   "source": [
    "# 예제 3: groupby.get_group으로 데이터 필터링하기\n",
    "\n",
    "print(\"year열의 값이 1950인 데이터 필터링:\")\n",
    "print(new_df.groupby(['year']).get_group(1950), \"\\n\")\n",
    "\n",
    "print(\"month열의 값이 Apr인 데이터 필터링:\")\n",
    "print(new_df.groupby(by='month').get_group(['Apr','Mar']))"
   ]
  },
  {
   "cell_type": "markdown",
   "id": "9d54e8e0-5e3e-47ec-8a85-5ef2f80669d0",
   "metadata": {},
   "source": [
    "#### <연습문제>\n",
    "\n",
    "<a class=\"jcecodle-mk jcecodle-mk__problem-chip\" data-problem-id=\"W1lO3m8jNCA\" href='#jce-judge/open/W1lO3m8jNCA' target='_self'><span>판다스 - 데이터 그룹 - 출력하기</span></a>\n"
   ]
  },
  {
   "cell_type": "markdown",
   "id": "41f90cc2-f258-4e0c-8723-3fb3cee61306",
   "metadata": {
    "tags": []
   },
   "source": [
    "## **2. 데이터 그룹별로 연산하기**\n"
   ]
  },
  {
   "cell_type": "markdown",
   "id": "55a09b12-809d-43e8-a6fd-778ded63483e",
   "metadata": {
    "tags": []
   },
   "source": [
    "### **(1) 그룹별로 데이터 개수 확인하기**\n",
    "\n",
    "> `count`를 이용하면 필터링한 데이터에 대해서 데이터 개수를 확인할 수 있습니다.  \n",
    "> 그리고 각 그룹별 데이터 개수를 한번에 확인할 수도 있습니다.\n",
    ">\n",
    ">`DataFrame.groupby([\"key\"]).get_group(value).count()`  \n",
    ">: key열의 값이 value인 행 중 NaN을 제외한 데이터 개수를 반환  \n",
    ">\n",
    "> `DataFrame.groupby(by=\"key\").count()`  \n",
    ">: key열의 각 고유값 별 데이터 개수를 반환"
   ]
  },
  {
   "cell_type": "code",
   "execution_count": null,
   "id": "44302486-8eff-4a3c-ab15-b8c055f00c09",
   "metadata": {},
   "outputs": [],
   "source": [
    "# 예제 4: groupby.count로 그룹별로 데이터 개수 확인하기\n",
    "\n",
    "print(\"year열의 값이 1960인 행들의 데이터 개수:\")\n",
    "print(new_df.groupby(['year']).get_group(1960).count(), \"\\n\")\n",
    "\n",
    "print(\"month열의 고유값 별 데이터 개수:\")\n",
    "print(new_df.groupby(by='month').count())\n"
   ]
  },
  {
   "cell_type": "markdown",
   "id": "f03d8199-40a2-4c31-8f60-2544121d5246",
   "metadata": {},
   "source": [
    "#### <연습문제>\n",
    "\n",
    "<a class=\"jcecodle-mk jcecodle-mk__problem-chip\" data-problem-id=\"BQbDmOWXhvI\" href='#jce-judge/open/BQbDmOWXhvI' target='_self'><span>판다스 - 데이터 그룹 - count</span></a>\n",
    "\n",
    "\n",
    "\n"
   ]
  },
  {
   "cell_type": "markdown",
   "id": "5ce596d9-fa66-43dc-a322-5ee308cebe74",
   "metadata": {
    "tags": []
   },
   "source": [
    "### **(2) 그룹별로 데이터 합 확인하기**\n",
    "\n",
    "> `sum`을 이용하면 필터링한 데이터에 대해서 데이터의 총합을 확인할 수 있습니다.  \n",
    "> 그리고 각 그룹별 데이터 총합을 한번에 확인할 수도 있습니다.\n",
    ">\n",
    ">`DataFrame.groupby([\"key\"]).get_group(value).sum()`  \n",
    ">: key열의 값이 value인 행들의 데이터 총합을 반환  \n",
    ">\n",
    "> `DataFrame.groupby(by=\"key\").sum()`  \n",
    ">: key열의 각 고유값 별 데이터 총합을 반환"
   ]
  },
  {
   "cell_type": "code",
   "execution_count": null,
   "id": "96b8f4eb-1b69-407f-93b9-83659922587e",
   "metadata": {},
   "outputs": [],
   "source": [
    "# 예제 5: groupby.sum으로 그룹별로 데이터 총합 확인하기\n",
    "\n",
    "print(\"month열의 값이 Jan인 행들의 데이터 총합:\")\n",
    "print(new_df.groupby(['month']).get_group('Jan').sum(), \"\\n\")\n",
    "\n",
    "print(\"year열의 고유값 별 데이터 총합:\")\n",
    "print(new_df.groupby(by='year').sum())"
   ]
  },
  {
   "cell_type": "markdown",
   "id": "3abea844-877b-44d7-8c48-81b609da214b",
   "metadata": {
    "tags": []
   },
   "source": [
    "#### <연습문제>\n",
    "\n",
    "<a class=\"jcecodle-mk jcecodle-mk__problem-chip\" data-problem-id=\"to40jej788g\" href='#jce-judge/open/to40jej788g' target='_self'><span>판다스 - 데이터 그룹 - sum</span></a>\n",
    "\n",
    "\n"
   ]
  },
  {
   "cell_type": "markdown",
   "id": "7baeb0ac-2caa-4a6f-90ee-9a4882c4f34c",
   "metadata": {
    "tags": []
   },
   "source": [
    "### **(3) 그룹별로 데이터 크기 순서 확인하기**\n",
    "\n",
    "> `rank`를 이용하면 필터링한 데이터에 대해서 크기 순서를 확인할 수 있습니다.  \n",
    "> 각 그룹별 데이터 크기 순서를 한번에 확인할 수도 있지만 전체 데이터 수만큼 모두 출력되기 때문에 가독성이 떨어집니다.\n",
    ">\n",
    "> 기본적으로 가장 작은 값이 1이 됩니다.  \n",
    ">`rank(ascending=False)` 이면 가장 큰 값이 1이 됩니다.\n",
    ">\n",
    ">`DataFrame.groupby([\"key\"]).get_group(value).rank()`  \n",
    ">: key열의 값이 value인 행에서 데이터 크기 순서를 반환  \n",
    ">\n",
    "> `DataFrame.groupby(by=\"key\").rank()`  \n",
    ">: key열의 각 고유값 별 데이터 크기 순서를 반환"
   ]
  },
  {
   "cell_type": "code",
   "execution_count": null,
   "id": "5ee4ca2d-6424-4008-82ef-7a4a590ae458",
   "metadata": {},
   "outputs": [],
   "source": [
    "# 예제 6: groupby.rank 로 그룹별 데이터 크기 순서 확인하기\n",
    "\n",
    "print(\"year열의 값이 1958인 행들의 passensers열 데이터 크기 순서:\")\n",
    "print(new_df.groupby(by='year').get_group(1958).passengers.rank(), \"\\n\")\n",
    "\n",
    "print(\"month열의 값이 Dec인 행들의 passensers열 데이터 크기 순서:\")\n",
    "print(new_df.groupby(['month']).get_group('Dec').passengers.rank())"
   ]
  },
  {
   "cell_type": "markdown",
   "id": "0f27955f-a062-4d85-b678-d7e0efe6aae6",
   "metadata": {
    "tags": []
   },
   "source": [
    "#### <연습문제>\n",
    "<a class=\"jcecodle-mk jcecodle-mk__problem-chip\" data-problem-id=\"tU3sPIV8aI0\" href='#jce-judge/open/tU3sPIV8aI0' target='_self'><span>판다스 - 데이터 그룹 - rank</span></a>\n",
    "\n",
    "\n",
    "\n"
   ]
  },
  {
   "cell_type": "markdown",
   "id": "8e4bd91d-53e0-48d0-aad4-7e87112c7c4e",
   "metadata": {
    "tags": []
   },
   "source": [
    "## **3. 데이터 그룹별로 통계내보기**\n"
   ]
  },
  {
   "cell_type": "markdown",
   "id": "3124a696-b759-4037-9e2e-f6e75583901c",
   "metadata": {
    "tags": []
   },
   "source": [
    "### **(1) 그룹별 최댓값, 최솟값, 중앙값**\n",
    "\n",
    "> `max`, `min`, `median`을 이용하면 필터링한 데이터의 최댓값, 최솟값, 중앙값을 확인할 수 있습니다.  \n",
    "> 그리고 각 그룹별 결과를 한번에 확인할 수도 있습니다.  \n",
    ">\n",
    "> `DataFrame.groupby([\"key\"]).get_group(value).max()`  \n",
    ">: key열의 값이 value인 행에서 데이터의 최댓값 반환\n",
    ">\n",
    "> `DataFrame.groupby(by=\"key\").max()`  \n",
    ">: key열의 각 고유값 별 데이터 최댓값 반환"
   ]
  },
  {
   "cell_type": "code",
   "execution_count": null,
   "id": "9a8749ad-84a1-49b5-b814-3b21d7549363",
   "metadata": {},
   "outputs": [],
   "source": [
    "# 예제 7: groupby.max, min, median으로 그룹별로 데이터 최댓값, 최솟값, 최댓값 확인하기 (1)\n",
    "\n",
    "print(\"month열의 값이 Jan인 행들의 최솟값:\")\n",
    "print(new_df.groupby(['month']).get_group('Jan').min(), \"\\n\")\n",
    "\n",
    "print(\"month열의 값이 Jan인 행들의 중앙값:\")\n",
    "print(new_df.groupby(['month']).get_group('Jan').median(), \"\\n\")\n",
    "\n",
    "print(\"month열의 값이 Jan인 행들의 최댓값:\")\n",
    "print(new_df.groupby(['month']).get_group('Jan').max(), \"\\n\")\n"
   ]
  },
  {
   "cell_type": "code",
   "execution_count": null,
   "id": "efd3e597-54cd-4662-bbf0-8d6563b4a47b",
   "metadata": {},
   "outputs": [],
   "source": [
    "# 예제 8: groupby.max, min, median으로 그룹별로 데이터 최댓값, 최솟값, 최댓값 확인하기 (2)\n",
    "\n",
    "## year열의 고유값 별 데이터 최솟값, 중앙값, 최댓값을 데이터로 하는 DataFrame 만들기\n",
    "\n",
    "year_min_median_max = pd.DataFrame({\"min\": new_df.groupby(by='year').min()['passengers']\n",
    "                                   , \"median\": new_df.groupby(by='year').median()['passengers']\n",
    "                                   , \"max\": new_df.groupby(by='year').max()['passengers']})\n",
    "\n",
    "print(year_min_median_max)"
   ]
  },
  {
   "cell_type": "markdown",
   "id": "15fc0575-a5d2-4bdb-932d-763df15f8087",
   "metadata": {},
   "source": [
    "#### <연습문제>\n",
    "<a class=\"jcecodle-mk jcecodle-mk__problem-chip\" data-problem-id=\"avwM_OdiVH4\" href='#jce-judge/open/avwM_OdiVH4' target='_self'><span>판다스 - 데이터 그룹 - min/median/max</span></a>\n"
   ]
  },
  {
   "cell_type": "markdown",
   "id": "6a2e0a43-09cc-4c32-85c0-c3bab56ff1c4",
   "metadata": {
    "tags": []
   },
   "source": [
    "### **(2) 그룹별 평균, 표준편차**\n",
    "\n",
    "> `mean`, `std`를 이용하면 필터링한 데이터의 평균, 표준편차를 확인할 수 있습니다.  \n",
    "> 그리고 각 그룹별 결과를 한번에 확인할 수도 있습니다.  \n",
    ">\n",
    "> `DataFrame.groupby([\"key\"]).get_group(value).mean()`  \n",
    ">: key열의 값이 value인 행에서 데이터의 평균 반환\n",
    ">\n",
    "> `DataFrame.groupby(by=\"key\").mean()`  \n",
    ">: key열의 각 고유값 별 데이터 평균 반환"
   ]
  },
  {
   "cell_type": "code",
   "execution_count": null,
   "id": "7d8ca1ce-223d-4593-817a-3731daca8ee4",
   "metadata": {},
   "outputs": [],
   "source": [
    "# 예제 9: groupby.mean, std로 그룹별로 데이터 평균, 표준편차 확인하기 (1)\n",
    "\n",
    "print(\"month열의 값이 Jan인 행들의 평균:\")\n",
    "print(new_df.groupby(['month']).get_group('Jan').mean(), \"\\n\")\n",
    "\n",
    "print(\"month열의 값이 Jan인 행들의 표준편차:\")\n",
    "print(new_df.groupby(['month']).get_group('Jan').std(), \"\\n\")"
   ]
  },
  {
   "cell_type": "code",
   "execution_count": null,
   "id": "98194a02-e458-425c-bf5f-78689c51091c",
   "metadata": {},
   "outputs": [],
   "source": [
    "# 예제 10: groupby.mean, std로 그룹별로 데이터 평균, 표준편차 확인하기 (2)\n",
    "\n",
    "## year열의 고유값 별 데이터 평균, 표준편차를 데이터로 하는 DataFrame 만들기\n",
    "\n",
    "year_mean_std = pd.DataFrame({\"mean\": new_df.groupby(by='year').mean()['passengers']\n",
    "                              , \"std\": new_df.groupby(by='year').std()['passengers']})\n",
    "\n",
    "print(year_mean_std)"
   ]
  },
  {
   "cell_type": "markdown",
   "id": "4459cc38-6f26-4b5b-9685-c9fa358d9969",
   "metadata": {},
   "source": [
    "#### <연습문제>\n",
    "<a class=\"jcecodle-mk jcecodle-mk__problem-chip\" data-problem-id=\"C85oubW1UHs\" href='#jce-judge/open/C85oubW1UHs' target='_self'><span>판다스 - 데이터 그룹 - mean/std</span></a>\n"
   ]
  },
  {
   "cell_type": "markdown",
   "id": "4d7a8b08-7627-4b76-871a-6f506becdb36",
   "metadata": {
    "tags": []
   },
   "source": [
    "### **(2) 그룹별 통계량 한번에 확인하기**\n",
    "\n",
    "> 이전에 데이터의 기초 통계량을 한번에 확인할 수 있는 `describe`를 배운적이 있습니다.  \n",
    "> 이것을 `groupby`와 함께 사용하면 그룹별 기초 통계량을 한눈에 확인할 수 있습니다.  \n",
    ">\n",
    "> `DataFrame.groupby(by=\"key\").describe()`  \n",
    ">: key열의 각 고유값 별 데이터 기초통계량 반환"
   ]
  },
  {
   "cell_type": "code",
   "execution_count": null,
   "id": "491d69bb-9657-44d8-bc0d-29fe024c2f7b",
   "metadata": {},
   "outputs": [],
   "source": [
    "# 예제 11: groupby.describe 으로 그룹별 통계 확인하기 \n",
    "\n",
    "print(\"year열의 고유값 별 데이터 통계:\")\n",
    "print(new_df.groupby(by='year').describe(), \"\\n\")\n",
    "\n",
    "print(\"month열의 고유값 별 passengers 데이터 통계:\")\n",
    "print(new_df.groupby(by='month').passengers.describe())"
   ]
  },
  {
   "cell_type": "markdown",
   "id": "efa40c2f-7372-4a49-a875-1d8707eac0fc",
   "metadata": {},
   "source": [
    "#### <연습문제>\n",
    "<a class=\"jcecodle-mk jcecodle-mk__problem-chip\" data-problem-id=\"qw22bqe0uf4\" href='#jce-judge/open/qw22bqe0uf4' target='_self'><span>판다스 - 데이터 그룹 - describe</span></a>\n"
   ]
  },
  {
   "cell_type": "code",
   "execution_count": null,
   "id": "f0b264f1-4333-40d7-93ee-dcf85717655a",
   "metadata": {},
   "outputs": [],
   "source": []
  }
 ],
 "metadata": {
  "kernelspec": {
   "display_name": "Python 3 (ipykernel)",
   "language": "python",
   "name": "python3"
  },
  "language_info": {
   "codemirror_mode": {
    "name": "ipython",
    "version": 3
   },
   "file_extension": ".py",
   "mimetype": "text/x-python",
   "name": "python",
   "nbconvert_exporter": "python",
   "pygments_lexer": "ipython3",
   "version": "3.10.9"
  }
 },
 "nbformat": 4,
 "nbformat_minor": 5
}
