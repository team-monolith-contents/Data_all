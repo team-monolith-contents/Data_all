{
 "cells": [
  {
   "cell_type": "markdown",
   "id": "d7408c9a-bce3-4385-8cb8-51bbe9902972",
   "metadata": {
    "tags": []
   },
   "source": [
    "#### [시작하기]\n",
    "\n",
    "<div class=\"alert alert-info\">\n",
    "    <font color=black>\n",
    "    Pandas를 사용하기 위해서 처음 할 일을 무엇인가요?\n",
    "    </font>\n",
    "</div>"
   ]
  },
  {
   "cell_type": "code",
   "execution_count": 1,
   "id": "a022ca8d-8151-4def-8fde-177215c49a17",
   "metadata": {},
   "outputs": [],
   "source": [
    "import pandas as pd # 판다스를 pd로 축약하여 불러옵니다"
   ]
  },
  {
   "cell_type": "markdown",
   "id": "6b63c9cc-92be-4a59-b710-13dd91bc8d9c",
   "metadata": {
    "tags": []
   },
   "source": [
    "# **[15] 데이터 나누기**\n",
    "\n",
    "[오늘 배울 것]\n",
    "1. 원하는 열의 데이터만 남길 수 있다. \n",
    "2. 원하는 행의 데이터만 남길 수 있다."
   ]
  },
  {
   "cell_type": "markdown",
   "id": "f9ab56ba-b13b-42a2-bc36-abe5e24c46d6",
   "metadata": {},
   "source": [
    "> 커다란 데이터의 모든 정보가 항상 필요한 것이 아니기 때문에 부분만 선택하여 나눌 수 있습니다.   \n",
    "> 일부 열의 데이터만 이용하여 연산을 할 수도 있고,  \n",
    "> 일부 행의 데이터만 따로 이용하고 싶을 수도 있습니다.\n",
    "> \n",
    "> 여러 방법으로 나누어 볼 DataFrame을 불러와봅시다."
   ]
  },
  {
   "cell_type": "code",
   "execution_count": 8,
   "id": "7a013b47-053e-4aff-a3e0-80e5aa6c92b2",
   "metadata": {},
   "outputs": [
    {
     "name": "stdout",
     "output_type": "stream",
     "text": [
      "       carat        cut color clarity  depth  table  price     x     y     z\n",
      "0       0.23      Ideal     E     SI2   61.5   55.0    326  3.95  3.98  2.43\n",
      "1       0.21    Premium     E     SI1   59.8   61.0    326  3.89  3.84  2.31\n",
      "2       0.23       Good     E     VS1   56.9   65.0    327  4.05  4.07  2.31\n",
      "3       0.29    Premium     I     VS2   62.4   58.0    334  4.20  4.23  2.63\n",
      "4       0.31       Good     J     SI2   63.3   58.0    335  4.34  4.35  2.75\n",
      "...      ...        ...   ...     ...    ...    ...    ...   ...   ...   ...\n",
      "53935   0.72      Ideal     D     SI1   60.8   57.0   2757  5.75  5.76  3.50\n",
      "53936   0.72       Good     D     SI1   63.1   55.0   2757  5.69  5.75  3.61\n",
      "53937   0.70  Very Good     D     SI1   62.8   60.0   2757  5.66  5.68  3.56\n",
      "53938   0.86    Premium     H     SI2   61.0   58.0   2757  6.15  6.12  3.74\n",
      "53939   0.75      Ideal     D     SI2   62.2   55.0   2757  5.83  5.87  3.64\n",
      "\n",
      "[53940 rows x 10 columns]\n"
     ]
    }
   ],
   "source": [
    "# 예제 1: 제공되는 데이터 불러와서 출력해보기\n",
    "\n",
    "import seaborn as sns\n",
    "df = sns.load_dataset('diamonds', cache=True, data_home=None)\n",
    "\n",
    "print(df)"
   ]
  },
  {
   "cell_type": "markdown",
   "id": "d6221697-e8fc-416d-ad45-a714b1744f76",
   "metadata": {},
   "source": [
    "> Seaborn 에서 제공하는 'diamonds' 데이터셋에 대한 설명입니다.  \n",
    "> * **carat** : 다이아몬드의 무게\n",
    "> * **cut** : 세공 품질  (Fair, Good, Very Good, Premium, Ideal)\n",
    "> * **color** : 색상 품질  from J (worst) to D (best)\n",
    "> * **clarity** : 투명도  I1 (worst), SI2, SI1, VS2, VS1, VVS2, VVS1, IF (best)\n",
    "> * **depth** : 깊이 비율  2 * z / (x + y)\n",
    "> * **table** : 직경 비율\n",
    "> * **price** : 가격 (단위: US dollars)\n",
    "> * **x, y, z** : 크기 정보 (단위: mm)"
   ]
  },
  {
   "cell_type": "markdown",
   "id": "9e25aa6d-59fe-4f7d-a213-4be4d9341895",
   "metadata": {
    "tags": []
   },
   "source": [
    "## **1. 열 기준으로 데이터 나누기**\n"
   ]
  },
  {
   "cell_type": "markdown",
   "id": "216aaf5f-839e-4bf0-8a4e-979259289146",
   "metadata": {
    "tags": []
   },
   "source": [
    "### **(1) 열 기준으로 데이터 나누기**\n",
    "\n",
    "> 이전에 DataFrame 인덱싱을 배운 적이 있습니다.  \n",
    "> 남기고 싶은 열의 이름을 이용해 인덱싱하면 선택한 열만 남길 수 있습니다.  \n",
    ">\n",
    "> `new_data = DataFrame[['col1', 'col2']]`  \n",
    "> : col1, col2 열만으로 이루어진 new_data 생성\n",
    "\n",
    "\n",
    "> 또한 `drop`을 이용해 지우고 싶은 열만 지울 수도 있습니다.\n",
    ">\n",
    "> `new_data = DataFrame.drop(columns=['col3', 'col4'])`  \n",
    "> `new_data = DataFrame.drop(['col3', 'col4'], axis=1)`  \n",
    "> : col3, col4가 제외되고 나머지로 이루어진 new_data 생성\n",
    "\n"
   ]
  },
  {
   "cell_type": "code",
   "execution_count": 11,
   "id": "ca2deada-3552-466b-89da-32c5351319bb",
   "metadata": {},
   "outputs": [
    {
     "name": "stdout",
     "output_type": "stream",
     "text": [
      "x, y, z 열만 남은 데이터: \n",
      "          x     y     z\n",
      "0      3.95  3.98  2.43\n",
      "1      3.89  3.84  2.31\n",
      "2      4.05  4.07  2.31\n",
      "3      4.20  4.23  2.63\n",
      "4      4.34  4.35  2.75\n",
      "...     ...   ...   ...\n",
      "53935  5.75  5.76  3.50\n",
      "53936  5.69  5.75  3.61\n",
      "53937  5.66  5.68  3.56\n",
      "53938  6.15  6.12  3.74\n",
      "53939  5.83  5.87  3.64\n",
      "\n",
      "[53940 rows x 3 columns]\n",
      "\n",
      " x, y, z 열이 제외된 나머지 데이터: \n",
      "       carat        cut color clarity  depth  table  price\n",
      "0       0.23      Ideal     E     SI2   61.5   55.0    326\n",
      "1       0.21    Premium     E     SI1   59.8   61.0    326\n",
      "2       0.23       Good     E     VS1   56.9   65.0    327\n",
      "3       0.29    Premium     I     VS2   62.4   58.0    334\n",
      "4       0.31       Good     J     SI2   63.3   58.0    335\n",
      "...      ...        ...   ...     ...    ...    ...    ...\n",
      "53935   0.72      Ideal     D     SI1   60.8   57.0   2757\n",
      "53936   0.72       Good     D     SI1   63.1   55.0   2757\n",
      "53937   0.70  Very Good     D     SI1   62.8   60.0   2757\n",
      "53938   0.86    Premium     H     SI2   61.0   58.0   2757\n",
      "53939   0.75      Ideal     D     SI2   62.2   55.0   2757\n",
      "\n",
      "[53940 rows x 7 columns]\n"
     ]
    }
   ],
   "source": [
    "# 예제 2: 열 기준으로 데이터 나누기\n",
    "\n",
    "data1 = df[['x', 'y', 'z']]\n",
    "data2 = df.drop(columns=['x', 'y', 'z'])\n",
    "\n",
    "print('x, y, z 열만 남은 데이터: ')\n",
    "print(data1)\n",
    "\n",
    "print('\\n', 'x, y, z 열이 제외된 나머지 데이터: ')\n",
    "print(data2)"
   ]
  },
  {
   "cell_type": "markdown",
   "id": "a18e007a-4238-4e69-bbaa-6005c8fd41fb",
   "metadata": {},
   "source": [
    "#### <연습문제>\n",
    "\n",
    "<a class=\"jcecodle-mk jcecodle-mk__problem-chip\" data-problem-id=\"XPgGyEG8Wfs\" href='#jce-judge/open/XPgGyEG8Wfs' target='_self'><span>판다스 - 데이터 나누기 - 열 기준</span></a>\n",
    "\n",
    "\n"
   ]
  },
  {
   "cell_type": "markdown",
   "id": "41f90cc2-f258-4e0c-8723-3fb3cee61306",
   "metadata": {
    "tags": []
   },
   "source": [
    "## **2. 행 기준으로 데이터 나누기**\n",
    "\n",
    "> 행을 기준으로 데이터를 나눌 때에도 위와 같이 인덱싱, drop을 이용할 수 있습니다.  \n",
    "> 그러나 행을 기준으로 데이터를 나눌 때에는 Index 를 기준으로 하기보다 더 많이 사용하는 방법이 따로 있습니다.  \n",
    "> 데이터의 값을 기준으로 데이터를 나누는 것입니다.  \n",
    ">\n",
    "> 예를 들어 diamonds 데이터에서는 다음과 같은 기준으로 데이터를 나눌 수 있습니다.  \n",
    "> * carat 이 3 이상인 데이터 / 3 미만인 데이터\n",
    "> * cut 이 Ideal 인 데이터 / 그 외의 데이터\n",
    "> * color 가 D 또는 E인 데이터 / 그 외의 데이터\n",
    "> * price 가 1000달러 이하이고 clarity 가 VS1 이상 등급인 데이터 / 그 외의 데이터\n",
    ">\n",
    "> 데이터의 값에 조건을 걸어 데이터를 특정하는 방법을 Boolean Indexing이라고 합니다."
   ]
  },
  {
   "cell_type": "markdown",
   "id": "55a09b12-809d-43e8-a6fd-778ded63483e",
   "metadata": {
    "tags": []
   },
   "source": [
    "### **(1) Boolean Indexing 이란**\n",
    "\n",
    "> Series, DataFrame의 인덱싱에서 True, False로 이루어진 list를 이용하면 True 값을 가지는 순서의 행만 선택됩니다.  \n",
    ">\n",
    "> `Series[[True, False]]` : 첫번째 행만 출력  \n",
    "> `DataFrame.loc[[True, False], 'col1']` : 첫번째 행의 col1 열 데이터만 출력\n",
    "> \n",
    "> list 외에도 Numpy.array, Series 를 이용할 수 있습니다.  \n",
    "> 반드시, list와 Numpy.array의 길이가 데이터의 행의 개수와 같아야 합니다.  \n",
    "> Series의 경우 데이터와 행 index가 일치해야 합니다.  "
   ]
  },
  {
   "cell_type": "code",
   "execution_count": 19,
   "id": "44302486-8eff-4a3c-ab15-b8c055f00c09",
   "metadata": {},
   "outputs": [
    {
     "name": "stdout",
     "output_type": "stream",
     "text": [
      "1, 3번째 행만 남기기: \n",
      "   0  1  2\n",
      "0  0  1  2\n",
      "2  2  3  4\n",
      "\n",
      " 2, 4번째 행의 0, 1 열 남기기\n",
      "   0  1\n",
      "1  1  2\n",
      "3  3  4\n"
     ]
    }
   ],
   "source": [
    "# 예제 3: Boolean Indexing 확인하기\n",
    "\n",
    "# DataFrame 생성하기\n",
    "a = pd.DataFrame([[0, 1, 2], [1, 2, 3], [2, 3, 4], [3, 4, 5]])\n",
    "\n",
    "print(\"1, 3번째 행만 남기기: \")\n",
    "indexing = [True, False, True, False]  # 1, 3번째만 True\n",
    "print(a[indexing])\n",
    "\n",
    "print(\"\\n\", \"2, 4번째 행의 0, 1 열 남기기\")\n",
    "indexing = [False, True, False, True]  # 2, 4번째만 True\n",
    "print(a.loc[indexing, :1])"
   ]
  },
  {
   "cell_type": "markdown",
   "id": "5ce596d9-fa66-43dc-a322-5ee308cebe74",
   "metadata": {
    "tags": []
   },
   "source": [
    "### **(2) 비교 연산 이용하여 데이터 나누기**\n",
    "\n",
    "> Series를 비교 연산하면 True, False로 이루어진 Series가 만들어집니다.  \n",
    "> 이 결과를 Boolean Indexing 에 사용할 수 있습니다.  \n",
    ">\n",
    "> `Series[Series == value]` : 값이 value인 행만 남음  \n",
    "> `Series[~(Series == value)]` : 값이 value가 아닌 행만 남음\n",
    "> \n",
    "> `DataFrame[DataFrame.col1 > n]` : col1 열의 값이 n 초과인 행만 남음  \n",
    "> `DataFrame.loc[DataFrame.col1 <= n, ['col2']]` : col1 열의 값이 n 이하인 행들의 col2 열만 남음  "
   ]
  },
  {
   "cell_type": "markdown",
   "id": "5725348e-53b3-4638-b301-9d56ce3c3a7b",
   "metadata": {},
   "source": [
    "> 비교 연산을 이용해 다음 조건으로 데이터를 나누어 봅시다.  \n",
    "> * carat 이 3 이상인 데이터 / 3 미만인 데이터"
   ]
  },
  {
   "cell_type": "code",
   "execution_count": 34,
   "id": "96b8f4eb-1b69-407f-93b9-83659922587e",
   "metadata": {},
   "outputs": [
    {
     "name": "stdout",
     "output_type": "stream",
     "text": [
      "boolean index : \n",
      "0        False\n",
      "1        False\n",
      "2        False\n",
      "3        False\n",
      "4        False\n",
      "         ...  \n",
      "53935    False\n",
      "53936    False\n",
      "53937    False\n",
      "53938    False\n",
      "53939    False\n",
      "Name: carat, Length: 53940, dtype: bool\n",
      "\n",
      " carat 이 3 이상인 데이터: \n",
      "       carat        cut color clarity  depth  table  price      x      y     z\n",
      "16283   3.00  Very Good     H      I1   63.1   55.0   6512   9.23   9.10  5.77\n",
      "19339   3.01    Premium     I      I1   62.7   58.0   8040   9.10   8.97  5.67\n",
      "19346   3.00       Fair     H      I1   67.1   57.0   8044   8.93   8.84  5.97\n",
      "21758   3.11       Fair     J      I1   65.9   57.0   9823   9.15   9.02  5.98\n",
      "21862   3.01    Premium     F      I1   62.2   56.0   9925   9.24   9.13  5.73\n",
      "22428   3.05    Premium     E      I1   60.9   58.0  10453   9.26   9.25  5.66\n",
      "22540   3.02       Fair     I      I1   65.2   56.0  10577   9.11   9.02  5.91\n",
      "22741   3.01       Fair     H      I1   56.1   62.0  10761   9.54   9.38  5.31\n",
      "22831   3.00       Good     I      I1   57.0   64.0  10863   9.38   9.31  5.33\n",
      "23539   3.00       Good     E      I1   64.2   65.0  11548   9.08   8.96  5.79\n",
      "23644   3.65       Fair     H      I1   67.1   53.0  11668   9.53   9.48  6.38\n",
      "24131   3.24    Premium     H      I1   62.1   58.0  12300   9.44   9.40  5.85\n",
      "24297   3.22      Ideal     I      I1   62.6   55.0  12545   9.49   9.42  5.92\n",
      "24328   3.50      Ideal     H      I1   62.8   57.0  12587   9.65   9.59  6.03\n",
      "24816   3.00    Premium     G      I1   59.7   60.0  13203   9.42   9.26  5.58\n",
      "25460   3.01    Premium     G     SI2   59.8   58.0  14220   9.44   9.37  5.62\n",
      "25850   3.00       Good     J     SI2   59.3   64.0  14918   9.32   9.19  5.50\n",
      "25998   4.01    Premium     I      I1   61.0   61.0  15223  10.14  10.10  6.17\n",
      "25999   4.01    Premium     J      I1   62.5   62.0  15223  10.02   9.94  6.24\n",
      "26100   3.04  Very Good     I     SI2   63.2   59.0  15354   9.14   9.07  5.75\n",
      "26431   3.40       Fair     D      I1   66.8   52.0  15964   9.42   9.34  6.27\n",
      "26444   4.00  Very Good     I      I1   63.3   58.0  15984  10.01   9.94  6.31\n",
      "26467   3.01      Ideal     J     SI2   61.7   58.0  16037   9.25   9.20  5.69\n",
      "26534   3.67    Premium     I      I1   62.4   56.0  16193   9.86   9.81  6.13\n",
      "26744   3.01      Ideal     J      I1   65.4   60.0  16538   8.99   8.93  5.86\n",
      "26932   3.00    Premium     I     SI2   60.7   59.0  16970   9.30   9.14  5.60\n",
      "26933   3.00       Fair     I     SI2   64.8   59.0  16970   8.93   8.73  5.72\n",
      "27130   4.13       Fair     H      I1   64.8   61.0  17329  10.00   9.85  6.43\n",
      "27415   5.01       Fair     J      I1   65.5   59.0  18018  10.74  10.54  6.98\n",
      "27514   3.01    Premium     I     SI2   60.2   59.0  18242   9.36   9.31  5.62\n",
      "27515   3.01       Fair     I     SI2   65.8   56.0  18242   8.99   8.94  5.90\n",
      "27516   3.01       Fair     I     SI2   65.8   56.0  18242   8.99   8.94  5.90\n",
      "27517   3.01       Good     I     SI2   63.9   60.0  18242   9.06   9.01  5.77\n",
      "27518   3.01       Good     I     SI2   63.9   60.0  18242   9.06   9.01  5.77\n",
      "27630   4.50       Fair     J      I1   65.8   58.0  18531  10.23  10.16  6.72\n",
      "27638   3.04    Premium     I     SI2   59.3   60.0  18559   9.51   9.46  5.62\n",
      "27649   3.01       Good     H     SI2   57.6   64.0  18593   9.44   9.38  5.42\n",
      "27679   3.51    Premium     J     VS2   62.5   59.0  18701   9.66   9.63  6.03\n",
      "27684   3.01    Premium     J     SI2   60.7   59.0  18710   9.35   9.22  5.64\n",
      "27685   3.01    Premium     J     SI2   59.7   58.0  18710   9.41   9.32  5.59\n",
      "\n",
      " carat 이 3 미만인 데이터: \n",
      "       carat        cut color clarity  depth  table  price     x     y     z\n",
      "0       0.23      Ideal     E     SI2   61.5   55.0    326  3.95  3.98  2.43\n",
      "1       0.21    Premium     E     SI1   59.8   61.0    326  3.89  3.84  2.31\n",
      "2       0.23       Good     E     VS1   56.9   65.0    327  4.05  4.07  2.31\n",
      "3       0.29    Premium     I     VS2   62.4   58.0    334  4.20  4.23  2.63\n",
      "4       0.31       Good     J     SI2   63.3   58.0    335  4.34  4.35  2.75\n",
      "...      ...        ...   ...     ...    ...    ...    ...   ...   ...   ...\n",
      "53935   0.72      Ideal     D     SI1   60.8   57.0   2757  5.75  5.76  3.50\n",
      "53936   0.72       Good     D     SI1   63.1   55.0   2757  5.69  5.75  3.61\n",
      "53937   0.70  Very Good     D     SI1   62.8   60.0   2757  5.66  5.68  3.56\n",
      "53938   0.86    Premium     H     SI2   61.0   58.0   2757  6.15  6.12  3.74\n",
      "53939   0.75      Ideal     D     SI2   62.2   55.0   2757  5.83  5.87  3.64\n",
      "\n",
      "[53900 rows x 10 columns]\n"
     ]
    }
   ],
   "source": [
    "# 예제 4: 비교 연산 이용하여 데이터 나누기\n",
    "\n",
    "print('boolean index : ')\n",
    "print(df.carat >= 3)\n",
    "\n",
    "print('\\n', 'carat 이 3 이상인 데이터: ')\n",
    "print(df[df.carat >= 3])\n",
    "\n",
    "print('\\n', 'carat 이 3 미만인 데이터: ')\n",
    "print(df[~(df.carat >= 3)])"
   ]
  },
  {
   "cell_type": "markdown",
   "id": "c3132346-e390-4f25-b7eb-ba75fb156779",
   "metadata": {},
   "source": [
    "> 나누어진 데이터는 원래의 행 Index를 그대로 따르기 때문에 순차적이지 않습니다.  \n",
    "> 행 Index를 새롭게 부여하고 싶다면 다음과 같이 `reset_index`를 이용합니다. \n",
    ">\n",
    "> `data.reset_index(drop=True)`\n",
    "\n",
    "> 비교 연산을 이용해 다음 조건으로 데이터를 나누고 행 Index를 0부터 순차적으로 다시 부여해봅시다.  \n",
    "> * cut 이 Ideal 인 데이터"
   ]
  },
  {
   "cell_type": "code",
   "execution_count": 35,
   "id": "a4fe085d-812c-48c2-9eca-0b5eb3bfe611",
   "metadata": {},
   "outputs": [
    {
     "name": "stdout",
     "output_type": "stream",
     "text": [
      "cut 이 Ideal인 데이터: \n",
      "       carat    cut color clarity  depth  table  price     x     y     z\n",
      "0       0.23  Ideal     E     SI2   61.5   55.0    326  3.95  3.98  2.43\n",
      "1       0.23  Ideal     J     VS1   62.8   56.0    340  3.93  3.90  2.46\n",
      "2       0.31  Ideal     J     SI2   62.2   54.0    344  4.35  4.37  2.71\n",
      "3       0.30  Ideal     I     SI2   62.0   54.0    348  4.31  4.34  2.68\n",
      "4       0.33  Ideal     I     SI2   61.8   55.0    403  4.49  4.51  2.78\n",
      "...      ...    ...   ...     ...    ...    ...    ...   ...   ...   ...\n",
      "21546   0.79  Ideal     I     SI1   61.6   56.0   2756  5.95  5.97  3.67\n",
      "21547   0.71  Ideal     E     SI1   61.9   56.0   2756  5.71  5.73  3.54\n",
      "21548   0.71  Ideal     G     VS1   61.4   56.0   2756  5.76  5.73  3.53\n",
      "21549   0.72  Ideal     D     SI1   60.8   57.0   2757  5.75  5.76  3.50\n",
      "21550   0.75  Ideal     D     SI2   62.2   55.0   2757  5.83  5.87  3.64\n",
      "\n",
      "[21551 rows x 10 columns]\n"
     ]
    }
   ],
   "source": [
    "# 예제 5: 비교 연산 이용하여 데이터 나누고 행 index 리셋하기\n",
    "\n",
    "print('cut 이 Ideal인 데이터: ')\n",
    "print(df[df.cut == 'Ideal'].reset_index(drop=True))"
   ]
  },
  {
   "cell_type": "markdown",
   "id": "3abea844-877b-44d7-8c48-81b609da214b",
   "metadata": {
    "tags": []
   },
   "source": [
    "#### <연습문제>\n",
    "\n",
    "\n",
    "<a class=\"jcecodle-mk jcecodle-mk__problem-chip\" data-problem-id=\"nuRAz-IVE_s\" href='#jce-judge/open/nuRAz-IVE_s' target='_self'><span>판다스 - 데이터 나누기 - 행 기준 (비교 연산 1)</span></a>\n",
    "\n",
    "<a class=\"jcecodle-mk jcecodle-mk__problem-chip\" data-problem-id=\"ChuKgwqgGus\" href='#jce-judge/open/ChuKgwqgGus' target='_self'><span>판다스 - 데이터 나누기 - 행 기준 (비교 연산 2)</span></a>\n",
    "\n",
    "\n"
   ]
  },
  {
   "cell_type": "markdown",
   "id": "7baeb0ac-2caa-4a6f-90ee-9a4882c4f34c",
   "metadata": {
    "tags": []
   },
   "source": [
    "### **(3) 포함 관계 이용하여 데이터 나누기**\n",
    "\n",
    "> Series 값의 포함 관계를 알려주는 `isin`을 이용하면 True, False로 이루어진 Series가 만들어집니다.  \n",
    "> 이 결과를 Boolean Indexing 에 사용할 수 있습니다.  \n",
    ">\n",
    "> `Series[Series.isin([value1, value2])]`  \n",
    "> : 값이 value1 혹은 value2 인 행만 남음  \n",
    "> \n",
    "> `DataFrame[DataFrame.col1.isin([a, b, c])]`  \n",
    "> : col1 열의 값이 {a, b, c} 에 포함되는 행만 남음  "
   ]
  },
  {
   "cell_type": "markdown",
   "id": "f812cb8f-db7a-4c80-ba51-3c0944058e03",
   "metadata": {},
   "source": [
    "> 포함 관계를 이용해 다음 조건으로 데이터를 나누어 봅시다.  \n",
    "> * color 가 D 또는 E 인 데이터 / 그 외의 데이터"
   ]
  },
  {
   "cell_type": "code",
   "execution_count": 36,
   "id": "5ee4ca2d-6424-4008-82ef-7a4a590ae458",
   "metadata": {},
   "outputs": [
    {
     "name": "stdout",
     "output_type": "stream",
     "text": [
      "boolean index : \n",
      "0         True\n",
      "1         True\n",
      "2         True\n",
      "3        False\n",
      "4        False\n",
      "         ...  \n",
      "53935     True\n",
      "53936     True\n",
      "53937     True\n",
      "53938    False\n",
      "53939     True\n",
      "Name: color, Length: 53940, dtype: bool\n",
      "\n",
      " color 가 D 또는 E 인 데이터: \n",
      "       carat        cut color clarity  depth  table  price     x     y     z\n",
      "0       0.23      Ideal     E     SI2   61.5   55.0    326  3.95  3.98  2.43\n",
      "1       0.21    Premium     E     SI1   59.8   61.0    326  3.89  3.84  2.31\n",
      "2       0.23       Good     E     VS1   56.9   65.0    327  4.05  4.07  2.31\n",
      "8       0.22       Fair     E     VS2   65.1   61.0    337  3.87  3.78  2.49\n",
      "14      0.20    Premium     E     SI2   60.2   62.0    345  3.79  3.75  2.27\n",
      "...      ...        ...   ...     ...    ...    ...    ...   ...   ...   ...\n",
      "53934   0.72    Premium     D     SI1   62.7   59.0   2757  5.69  5.73  3.58\n",
      "53935   0.72      Ideal     D     SI1   60.8   57.0   2757  5.75  5.76  3.50\n",
      "53936   0.72       Good     D     SI1   63.1   55.0   2757  5.69  5.75  3.61\n",
      "53937   0.70  Very Good     D     SI1   62.8   60.0   2757  5.66  5.68  3.56\n",
      "53939   0.75      Ideal     D     SI2   62.2   55.0   2757  5.83  5.87  3.64\n",
      "\n",
      "[16572 rows x 10 columns]\n",
      "\n",
      " 그 외의 데이터: \n",
      "       carat        cut color clarity  depth  table  price     x     y     z\n",
      "3       0.29    Premium     I     VS2   62.4   58.0    334  4.20  4.23  2.63\n",
      "4       0.31       Good     J     SI2   63.3   58.0    335  4.34  4.35  2.75\n",
      "5       0.24  Very Good     J    VVS2   62.8   57.0    336  3.94  3.96  2.48\n",
      "6       0.24  Very Good     I    VVS1   62.3   57.0    336  3.95  3.98  2.47\n",
      "7       0.26  Very Good     H     SI1   61.9   55.0    337  4.07  4.11  2.53\n",
      "...      ...        ...   ...     ...    ...    ...    ...   ...   ...   ...\n",
      "53925   0.79      Ideal     I     SI1   61.6   56.0   2756  5.95  5.97  3.67\n",
      "53927   0.79       Good     F     SI1   58.1   59.0   2756  6.06  6.13  3.54\n",
      "53929   0.71      Ideal     G     VS1   61.4   56.0   2756  5.76  5.73  3.53\n",
      "53931   0.71    Premium     F     SI1   59.8   62.0   2756  5.74  5.73  3.43\n",
      "53938   0.86    Premium     H     SI2   61.0   58.0   2757  6.15  6.12  3.74\n",
      "\n",
      "[37368 rows x 10 columns]\n"
     ]
    }
   ],
   "source": [
    "# 예제 6: 포함 관계 이용하여 데이터 나누기\n",
    "\n",
    "print('boolean index : ')\n",
    "condition = df.color.isin(['D', 'E'])\n",
    "print(condition)\n",
    "\n",
    "print('\\n', 'color 가 D 또는 E 인 데이터: ')\n",
    "print(df[condition])\n",
    "\n",
    "print('\\n', '그 외의 데이터: ')\n",
    "print(df[~condition])"
   ]
  },
  {
   "cell_type": "markdown",
   "id": "0f27955f-a062-4d85-b678-d7e0efe6aae6",
   "metadata": {
    "tags": []
   },
   "source": [
    "#### <연습문제>\n",
    "\n",
    "<a class=\"jcecodle-mk jcecodle-mk__problem-chip\" data-problem-id=\"j6F4bQcy91w\" href='#jce-judge/open/j6F4bQcy91w' target='_self'><span>판다스 - 데이터 나누기 - 행 기준 (포함 관계)</span></a>\n",
    "\n",
    "\n",
    "\n",
    "\n",
    "\n"
   ]
  },
  {
   "cell_type": "markdown",
   "id": "b1b77339-a1af-4392-8ee2-8231474506c3",
   "metadata": {
    "tags": []
   },
   "source": [
    "### **(4) 여러 조건 조합하여 데이터 나누기**\n",
    "\n",
    "> 복잡한 조건이 필요하다면 여러 조건을 조합할 수 있습니다.  \n",
    "> 두 조건의 교집합은 `and`, `&`으로 나타내고 두 조건 모두 만족해야 True가 됩니다.  \n",
    "> 두 조건의 합집합은 `or`, `|`으로 나타내고 두 조건 중 하나만 만족해도 True가 됩니다.  \n",
    ">\n",
    "> `data[condition1 and condition2]` : 두 조건 모두 만족하는 행만 남음  \n",
    "> `data[condition1 or condition2]` : 두 조건 중 하나라도 만족하는 행만 남음  \n",
    "> `data[~conditon1 & condition2 & condition3]`  \n",
    "> : 1번 조건에는 만족하지 않고, 2번과 3번 조건에는 모두 만족하는 행만 남음\n"
   ]
  },
  {
   "cell_type": "markdown",
   "id": "0f6a2f75-6ffd-4869-b494-3d658f8cd30b",
   "metadata": {},
   "source": [
    "> 여러 조건을 조합하여 다음을 만족하도록 데이터를 나누어 봅시다.  \n",
    "> * price 가 1000달러 이하이고 clarity 가 VS1 이상 등급인 데이터 / 그 외의 데이터"
   ]
  },
  {
   "cell_type": "code",
   "execution_count": 39,
   "id": "eb408110-bc69-4393-b169-366bf3022c89",
   "metadata": {},
   "outputs": [
    {
     "name": "stdout",
     "output_type": "stream",
     "text": [
      "price 가 1000달러 이하이고 clarity 가 VS1 이상 등급인 데이터: \n",
      "       carat        cut color clarity  depth  table  price     x     y     z\n",
      "2       0.23       Good     E     VS1   56.9   65.0    327  4.05  4.07  2.31\n",
      "5       0.24  Very Good     J    VVS2   62.8   57.0    336  3.94  3.96  2.48\n",
      "6       0.24  Very Good     I    VVS1   62.3   57.0    336  3.95  3.98  2.47\n",
      "9       0.23  Very Good     H     VS1   59.4   61.0    338  4.00  4.05  2.39\n",
      "11      0.23      Ideal     J     VS1   62.8   56.0    340  3.93  3.90  2.46\n",
      "...      ...        ...   ...     ...    ...    ...    ...   ...   ...   ...\n",
      "53625   0.30       Good     I    VVS1   63.1   57.0    552  4.27  4.29  2.70\n",
      "53626   0.35  Very Good     I     VS1   60.7   62.0    552  4.53  4.59  2.77\n",
      "53629   0.35    Premium     I     VS1   61.8   58.0    552  4.50  4.53  2.79\n",
      "53632   0.30    Premium     I    VVS1   61.1   59.0    552  4.31  4.33  2.64\n",
      "53635   0.30      Ideal     I    VVS1   62.1   56.0    552  4.30  4.33  2.68\n",
      "\n",
      "[6684 rows x 10 columns]\n",
      "\n",
      " price 가 1000달러 초과 혹은 clarity 가 VS1 미만 등급인 데이터: \n",
      "       carat        cut color clarity  depth  table  price     x     y     z\n",
      "0       0.23      Ideal     E     SI2   61.5   55.0    326  3.95  3.98  2.43\n",
      "1       0.21    Premium     E     SI1   59.8   61.0    326  3.89  3.84  2.31\n",
      "3       0.29    Premium     I     VS2   62.4   58.0    334  4.20  4.23  2.63\n",
      "4       0.31       Good     J     SI2   63.3   58.0    335  4.34  4.35  2.75\n",
      "7       0.26  Very Good     H     SI1   61.9   55.0    337  4.07  4.11  2.53\n",
      "...      ...        ...   ...     ...    ...    ...    ...   ...   ...   ...\n",
      "53935   0.72      Ideal     D     SI1   60.8   57.0   2757  5.75  5.76  3.50\n",
      "53936   0.72       Good     D     SI1   63.1   55.0   2757  5.69  5.75  3.61\n",
      "53937   0.70  Very Good     D     SI1   62.8   60.0   2757  5.66  5.68  3.56\n",
      "53938   0.86    Premium     H     SI2   61.0   58.0   2757  6.15  6.12  3.74\n",
      "53939   0.75      Ideal     D     SI2   62.2   55.0   2757  5.83  5.87  3.64\n",
      "\n",
      "[47256 rows x 10 columns]\n"
     ]
    }
   ],
   "source": [
    "# 예제 7: 여러 조건 조합하여 데이터 나누기\n",
    "\n",
    "# 조건 1 = price가 1000달러 이하\n",
    "condition_1 = df.price <= 1000\n",
    "\n",
    "# 조건 2 = clarity가 VS1 이상 등급 (VS1, VVS2, VVS1, IF)\n",
    "condition_2 = df.clarity.isin(['VS1', 'VVS2', 'VVS1', 'IF'])\n",
    "\n",
    "# 조건 1과 2를 모두 만족하는 데이터\n",
    "print(\"price 가 1000달러 이하이고 clarity 가 VS1 이상 등급인 데이터: \")\n",
    "print(df[condition_1 & condition_2])\n",
    "      \n",
    "# 그 외의 데이터\n",
    "print(\"\\n\", \"price 가 1000달러 초과 혹은 clarity 가 VS1 미만 등급인 데이터: \")\n",
    "print(df[~condition_1 | ~condition_2])\n"
   ]
  },
  {
   "cell_type": "markdown",
   "id": "d5bca6d0-98bc-46b7-b1e5-ab792a63dc5b",
   "metadata": {
    "tags": []
   },
   "source": [
    "#### <연습문제>\n",
    "\n",
    "<a class=\"jcecodle-mk jcecodle-mk__problem-chip\" data-problem-id=\"Zj3rqV004aU\" href='#jce-judge/open/Zj3rqV004aU' target='_self'><span>판다스 - 데이터 나누기 - 행 기준 (조건 조합)</span></a>\n",
    "\n",
    "\n",
    "\n",
    "\n",
    "\n",
    "\n"
   ]
  },
  {
   "cell_type": "code",
   "execution_count": null,
   "id": "28594c98-b8d9-41c6-8753-23a63f9c582d",
   "metadata": {},
   "outputs": [],
   "source": []
  }
 ],
 "metadata": {
  "kernelspec": {
   "display_name": "Python 3 (ipykernel)",
   "language": "python",
   "name": "python3"
  },
  "language_info": {
   "codemirror_mode": {
    "name": "ipython",
    "version": 3
   },
   "file_extension": ".py",
   "mimetype": "text/x-python",
   "name": "python",
   "nbconvert_exporter": "python",
   "pygments_lexer": "ipython3",
   "version": "3.10.9"
  },
  "toc-autonumbering": false,
  "toc-showcode": false,
  "toc-showmarkdowntxt": false
 },
 "nbformat": 4,
 "nbformat_minor": 5
}
