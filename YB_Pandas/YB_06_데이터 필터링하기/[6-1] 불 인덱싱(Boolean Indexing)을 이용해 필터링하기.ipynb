{
 "cells": [
  {
   "cell_type": "code",
   "execution_count": 2,
   "id": "fcfdd5f9-ed84-4b24-ad62-e43af9837768",
   "metadata": {},
   "outputs": [],
   "source": [
    "import pandas as pd"
   ]
  },
  {
   "cell_type": "markdown",
   "id": "727ea7a9-bac0-4bb3-afbc-4981950e3fd1",
   "metadata": {
    "tags": []
   },
   "source": [
    "# **[6-1] 불 인덱싱(Boolean Indexing)을 이용해 필터링하기**"
   ]
  },
  {
   "cell_type": "markdown",
   "id": "0a5448d2-a09e-484c-adf2-6c2e5d0232b8",
   "metadata": {
    "tags": []
   },
   "source": [
    "## **🎯 학습 목표**\n",
    "**불 인덱싱(Boolean Indexing)을 이용해 데이터를 필터링 해봅시다.**"
   ]
  },
  {
   "cell_type": "markdown",
   "id": "01cb348d-d551-4559-910d-6d97d46c0385",
   "metadata": {},
   "source": [
    "---"
   ]
  },
  {
   "cell_type": "markdown",
   "id": "1edad04c-e984-4b29-92a3-863cd3d4c284",
   "metadata": {
    "jp-MarkdownHeadingCollapsed": true,
    "tags": []
   },
   "source": [
    "데이터프레임에서 특정 행과 특정 열에 접근하는 인덱싱에 대해서 배웠습니다.  \n",
    "이번에는 조건을 만족하는 행과 열을 찾아 접근하는 방법인 불 인덱싱(bool indexing)에 대해서 배워보겠습니다."
   ]
  },
  {
   "cell_type": "markdown",
   "id": "e9db45bd-6750-4edf-868b-e3de6548023b",
   "metadata": {
    "tags": []
   },
   "source": [
    "## 시리즈에 불 인덱싱을 사용해 특정 조건을 만족하는 행에 접근하기\n",
    "\n",
    "시리즈에 불 인덱싱을 사용하기 위해서는 각 행의 포함여부를 True와 False로 저장하고 있는 시리즈 혹은 리스트를 가지고 있어야 합니다.  \n",
    "각 행의 포함여부정보를 가지고 있는 시리즈 혹은 리스트를 `[]`에 넣어주면 해당 포함여부정보가 True인 데이터만으로 이루어진 시리즈를 반환합니다.  \n",
    "`Series[포함여부정보_시리즈_또는_리스트]`\n",
    "\n",
    "> **⛔️ 오류(ERROR):**\n",
    ">\n",
    "> 주어진 시리즈와 각 행의 포함여부 정보를 가지고 있는 시리즈, 리스트의 크기가 다르면 오류가 발생합니다.\n",
    "\n",
    "다음과 같이 이전에 배운 비교연산, 논리연산을 불 인덱싱에 응용할 수 있습니다.\n",
    "\n",
    "1. 포함여부정보를 이용해 필터링 하기  \n",
    "**😃포함여부 정보를 이용해 불 인덱싱 하는 이미지😃**  \n",
    "\n",
    "2. 비교연산을 사용해 필터링 하기  \n",
    "**😃비교연산으로 불 인덱싱 하는 이미지😃**  \n",
    "\n",
    "3. 논리연산을 사용해 필터링 하기  \n",
    "**😃논리연산으로 불 인덱싱 하는 이미지😃**  "
   ]
  },
  {
   "cell_type": "code",
   "execution_count": null,
   "id": "704f23f8-e5f6-4a83-bb33-2a53fd0719cd",
   "metadata": {
    "tags": []
   },
   "outputs": [],
   "source": [
    "# 포함여부정보를 이용해 필터링"
   ]
  },
  {
   "cell_type": "code",
   "execution_count": null,
   "id": "9a80148c-2b59-4d2b-9ce0-0ae06abe3240",
   "metadata": {
    "tags": []
   },
   "outputs": [],
   "source": [
    "# 비교연산으로 이용해 필터링"
   ]
  },
  {
   "cell_type": "code",
   "execution_count": null,
   "id": "19b47da0-832d-486c-8958-a47e66e33a60",
   "metadata": {
    "tags": []
   },
   "outputs": [],
   "source": [
    "# 논리연산으로 이용해 필터링"
   ]
  },
  {
   "cell_type": "markdown",
   "id": "f0e8d53c-5ebc-47ea-9ed6-99864924ba63",
   "metadata": {
    "tags": []
   },
   "source": [
    "## 데이터프레임에 불 인덱싱을 사용해 특정 조건을 만족하는 행에 접근하기\n",
    "\n",
    "데이터프레임에 불 인덱싱을 사용하기 위해서는 각 행의 포함여부를 True와 False로 저장하고 있는 시리즈 혹은 리스트를 가지고 있어야 합니다.  \n",
    "각 행의 포함여부정보를 가지고 있는 시리즈 혹은 리스트를 `.loc[]`에 넣어주면 해당 포함여부정보가 True인 행들로만 이루어진 데이터프레임를 반환합니다.\n",
    "\n",
    "`DataFrame.loc[포함여부정보_시리즈_또는_리스트]`\n",
    "\n",
    "> **⛔️ 오류(ERROR):**\n",
    ">\n",
    "> 주어진 데이터프레임과 포함여부정보를 가지고 있는 데이터프레임의 크기가 다르면 오류가 발생합니다.  \n",
    "\n",
    "다음과 같이 이전에 배운 비교연산, 논리연산을 불 인덱싱에 응용할 수 있습니다.\n",
    "\n",
    "1. 포함여부정보를 이용해 필터링 하기  \n",
    "**😃포함여부 정보를 이용해 불 인덱싱 하는 이미지😃**  \n",
    "\n",
    "2. 비교연산을 사용해 필터링 하기  \n",
    "**😃비교연산으로 불 인덱싱 하는 이미지😃**  \n",
    "\n",
    "3. 논리연산을 사용해 필터링 하기  \n",
    "**😃논리연산으로 불 인덱싱 하는 이미지😃**  "
   ]
  },
  {
   "cell_type": "code",
   "execution_count": null,
   "id": "2473bdaa-d2e2-4630-bccc-0b785bf62dba",
   "metadata": {
    "tags": []
   },
   "outputs": [],
   "source": [
    "# 포함여부정보를 이용해 필터링"
   ]
  },
  {
   "cell_type": "code",
   "execution_count": null,
   "id": "07342723-3513-42af-8df4-9c107e45bd1e",
   "metadata": {
    "tags": []
   },
   "outputs": [],
   "source": [
    "# 비교연산으로 이용해 필터링"
   ]
  },
  {
   "cell_type": "code",
   "execution_count": null,
   "id": "97738486-2af9-41f3-878b-134a8485dcc3",
   "metadata": {
    "tags": []
   },
   "outputs": [],
   "source": [
    "# 논리연산으로 이용해 필터링"
   ]
  },
  {
   "cell_type": "markdown",
   "id": "c8423198-bbf4-4e78-b43a-bb01a098f887",
   "metadata": {},
   "source": [
    "### **💯 연습문제를 풀어봅시다**\n",
    "\n"
   ]
  },
  {
   "cell_type": "markdown",
   "id": "69779ce5-32d8-4ace-8399-f226e87838fc",
   "metadata": {
    "tags": []
   },
   "source": [
    "1. <a class=\"jcecodle-mk jcecodle-mk__problem-chip\" data-problem-id=\"nuRAz-IVE_s\" href='#jce-judge/open/nuRAz-IVE_s' target='_self'><span>판다스 - 데이터 나누기 - 행 기준 (비교 연산 1)</span></a>\n",
    "2. <a class=\"jcecodle-mk jcecodle-mk__problem-chip\" data-problem-id=\"ChuKgwqgGus\" href='#jce-judge/open/ChuKgwqgGus' target='_self'><span>판다스 - 데이터 나누기 - 행 기준 (비교 연산 2)</span></a>\n",
    "3. <a class=\"jcecodle-mk jcecodle-mk__problem-chip\" data-problem-id=\"j6F4bQcy91w\" href='#jce-judge/open/j6F4bQcy91w' target='_self'><span>판다스 - 데이터 나누기 - 행 기준 (포함 관계)</span></a>\n",
    "4. <a class=\"jcecodle-mk jcecodle-mk__problem-chip\" data-problem-id=\"Zj3rqV004aU\" href='#jce-judge/open/Zj3rqV004aU' target='_self'><span>판다스 - 데이터 나누기 - 행 기준 (조건 조합)</span></a>\n"
   ]
  }
 ],
 "metadata": {
  "kernelspec": {
   "display_name": "Python 3 (ipykernel)",
   "language": "python",
   "name": "python3"
  },
  "language_info": {
   "codemirror_mode": {
    "name": "ipython",
    "version": 3
   },
   "file_extension": ".py",
   "mimetype": "text/x-python",
   "name": "python",
   "nbconvert_exporter": "python",
   "pygments_lexer": "ipython3",
   "version": "3.10.9"
  }
 },
 "nbformat": 4,
 "nbformat_minor": 5
}
