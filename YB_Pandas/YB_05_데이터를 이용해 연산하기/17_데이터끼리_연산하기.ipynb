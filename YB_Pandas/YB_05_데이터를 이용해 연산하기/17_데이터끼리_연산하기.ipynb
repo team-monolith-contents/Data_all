{
 "cells": [
  {
   "cell_type": "markdown",
   "id": "d7408c9a-bce3-4385-8cb8-51bbe9902972",
   "metadata": {
    "tags": []
   },
   "source": [
    "#### [시작하기]\n",
    "\n",
    "<div class=\"alert alert-info\">\n",
    "    <font color=black>\n",
    "    Pandas를 사용하기 위해서 처음 할 일을 무엇인가요?\n",
    "    </font>\n",
    "</div>"
   ]
  },
  {
   "cell_type": "code",
   "execution_count": 1,
   "id": "a022ca8d-8151-4def-8fde-177215c49a17",
   "metadata": {},
   "outputs": [],
   "source": [
    "import pandas as pd # 판다스를 pd로 축약하여 불러옵니다"
   ]
  },
  {
   "cell_type": "markdown",
   "id": "6b63c9cc-92be-4a59-b710-13dd91bc8d9c",
   "metadata": {
    "tags": []
   },
   "source": [
    "# **[17] 데이터끼리 연산하기**\n",
    "\n",
    "[오늘 배울 것]\n",
    "1. 서로 다른 데이터 간 사칙연산 결과를 확인할 수 있다. \n",
    "2. 서로 다른 데이터 간 비교연산 결과를 확인할 수 있다."
   ]
  },
  {
   "cell_type": "markdown",
   "id": "f9ab56ba-b13b-42a2-bc36-abe5e24c46d6",
   "metadata": {},
   "source": [
    "> 여러 데이터를 가지고 있을때, 이들을 조합하여 새로운 결과를 이끌어낼 수 있습니다.  \n",
    "이러한 과정을 연산이라고 합니다.  \n",
    ">\n",
    "> 사칙연산을 통해 데이터들의 합, 차, 곱, 몫의 결과를 알 수 있습니다.  \n",
    "비교연산을 통해 데이터들의 값의 크기를 비교하거나 같고 다름을 알 수도 있습니다.  \n",
    ">\n",
    "> Pandas의 데이터로 연산을 할 때에는 대상이 되는 데이터들의 shape 혹은 index에 따라 결과가 달라질 수 있습니다.  \n",
    "> 주의해야 할 점을 잘 확인하며 연산 방법을 배워봅시다."
   ]
  },
  {
   "cell_type": "markdown",
   "id": "9e25aa6d-59fe-4f7d-a213-4be4d9341895",
   "metadata": {
    "tags": []
   },
   "source": [
    "## **1. 데이터끼리 사칙연산**\n",
    "\n",
    "> 크기가 같은 두 DataFrame을 만들어 사칙연산을 해보겠습니다.  \n",
    "> 2행, 3열 짜리 숫자로 된 두 DataFrame을 만들고, index가 일치하는지 확인해봅시다."
   ]
  },
  {
   "cell_type": "code",
   "execution_count": 2,
   "id": "ca2deada-3552-466b-89da-32c5351319bb",
   "metadata": {},
   "outputs": [
    {
     "name": "stdout",
     "output_type": "stream",
     "text": [
      "a:\n",
      "     0   1   2\n",
      "0  10  10  10\n",
      "1  10  10  10\n",
      "b:\n",
      "    0  1  2\n",
      "0  1  2  3\n",
      "1  4  5  6\n"
     ]
    }
   ],
   "source": [
    "# 예제 1: 크기가 같은 두개의 데이터 만들기\n",
    "\n",
    "a = pd.DataFrame([[10, 10, 10], [10, 10, 10]])\n",
    "b = pd.DataFrame([[1, 2, 3], [4, 5, 6]])\n",
    "\n",
    "print(\"a:\\n\", a)\n",
    "print(\"b:\\n\", b)"
   ]
  },
  {
   "cell_type": "markdown",
   "id": "216aaf5f-839e-4bf0-8a4e-979259289146",
   "metadata": {
    "tags": []
   },
   "source": [
    "### **(1) 데이터끼리 사칙연산**\n",
    "\n",
    "> 데이터 간의 사칙연산은 특별한 함수가 필요하지 않습니다.  \n",
    "> Series, DataFrame 모두 같은 방식으로 연산이 가능합니다.  \n",
    ">\n",
    "> `data1 + data2` : 더하기  \n",
    "> `data1 - data2` : 빼기  \n",
    "> `data1 * data2` : 곱하기  \n",
    "> `data1 / data2` : 나누기\n",
    "\n"
   ]
  },
  {
   "cell_type": "code",
   "execution_count": 3,
   "id": "5d6196a6-d1c4-4381-acf4-aa3b4259d78a",
   "metadata": {},
   "outputs": [
    {
     "name": "stdout",
     "output_type": "stream",
     "text": [
      "더하기: \n",
      "    0   1   2\n",
      "0  11  12  13\n",
      "1  14  15  16\n",
      "\n",
      "빼기: \n",
      "   0  1  2\n",
      "0  9  8  7\n",
      "1  6  5  4\n",
      "\n",
      "곱하기: \n",
      "    0   1   2\n",
      "0  10  20  30\n",
      "1  40  50  60\n",
      "\n",
      "나누기: \n",
      "      0    1         2\n",
      "0  10.0  5.0  3.333333\n",
      "1   2.5  2.0  1.666667\n"
     ]
    }
   ],
   "source": [
    "# 예제 2: 같은 크기의 데이터 간 사칙연산하기\n",
    "\n",
    "print(\"더하기: \")\n",
    "print(a + b)\n",
    "\n",
    "print(\"\\n빼기: \")\n",
    "print(a - b)\n",
    "\n",
    "print(\"\\n곱하기: \")\n",
    "print(a * b)\n",
    "\n",
    "print(\"\\n나누기: \")\n",
    "print(a / b)"
   ]
  },
  {
   "cell_type": "markdown",
   "id": "a18e007a-4238-4e69-bbaa-6005c8fd41fb",
   "metadata": {},
   "source": [
    "#### <연습문제>\n",
    "<a class=\"jcecodle-mk jcecodle-mk__problem-chip\" data-problem-id=\"Xtrlc_bCbtE\" href='#jce-judge/open/Xtrlc_bCbtE' target='_self'><span>판다스 - 데이터 간 사칙연산 (1)</span></a>\n",
    "\n",
    "\n"
   ]
  },
  {
   "cell_type": "markdown",
   "id": "7670ae87-b56d-4c31-a9f9-34f51150585c",
   "metadata": {
    "tags": []
   },
   "source": [
    "### **(2) 인덱스가 다른 경우의 사칙연산**\n",
    "\n",
    "> Pandas의 데이터 간 사칙연산은 shape가 같다고 해서 같은 위치의 데이터끼리 연산되지는 않습니다.  \n",
    "> 행과 열 index로 데이터가 정의된 위치에 맞추어 연산하기 때문입니다.  \n",
    "> 위의 두 데이터의 행과 열 index를 약간 바꾸어 결과가 어떻게 달라지는지 확인해봅시다."
   ]
  },
  {
   "cell_type": "code",
   "execution_count": 35,
   "id": "1285ee85-3e28-4bfa-9a60-200452015d7c",
   "metadata": {},
   "outputs": [
    {
     "name": "stdout",
     "output_type": "stream",
     "text": [
      "a:\n",
      "     1   2   3\n",
      "1  10  10  10\n",
      "2  10  10  10\n",
      "b:\n",
      "    0  1  2\n",
      "0  1  2  3\n",
      "1  4  5  6\n",
      "더하기: \n",
      "    0     1     2   3\n",
      "0 NaN   NaN   NaN NaN\n",
      "1 NaN  15.0  16.0 NaN\n",
      "2 NaN   NaN   NaN NaN\n",
      "\n",
      "빼기: \n",
      "    0    1    2   3\n",
      "0 NaN  NaN  NaN NaN\n",
      "1 NaN  5.0  4.0 NaN\n",
      "2 NaN  NaN  NaN NaN\n",
      "\n",
      "곱하기: \n",
      "    0     1     2   3\n",
      "0 NaN   NaN   NaN NaN\n",
      "1 NaN  50.0  60.0 NaN\n",
      "2 NaN   NaN   NaN NaN\n",
      "\n",
      "나누기: \n",
      "    0    1         2   3\n",
      "0 NaN  NaN       NaN NaN\n",
      "1 NaN  2.0  1.666667 NaN\n",
      "2 NaN  NaN       NaN NaN\n"
     ]
    }
   ],
   "source": [
    "# 예제 3: 행, 열의 index가 다른 경우 데이터 간 사칙연산하기\n",
    "\n",
    "a.index = [1, 2]  # 데이터의 행 인덱스 바꾸기\n",
    "a.columns = [1, 2, 3]  # 데이터의 열 인덱스 바꾸기\n",
    "\n",
    "print(\"a:\\n\", a)\n",
    "print(\"b:\\n\", b)\n",
    "\n",
    "print(\"더하기: \")\n",
    "print(a+b)\n",
    "\n",
    "print(\"\\n빼기: \")\n",
    "print(a - b)\n",
    "\n",
    "print(\"\\n곱하기: \")\n",
    "print(a * b)\n",
    "\n",
    "print(\"\\n나누기: \")\n",
    "print(a / b)"
   ]
  },
  {
   "cell_type": "markdown",
   "id": "7c8d4462-7f3b-40d2-81a2-4fb2a98427cd",
   "metadata": {},
   "source": [
    "> 2행 3열의 두 데이터를 연산했지만, 3행 4열의 결과가 생겼습니다.  \n",
    "> a의 행 [1, 2]와 b의 행 [0, 1]이 합쳐져 결과의 행index는 [0, 1, 2]가 되었습니다.  \n",
    "> a의 열 [1, 2, 3]과 b의 열 [0, 1, 2]가 합쳐져 결과의 열index는 [0, 1, 2, 3]이 되었습니다.  \n",
    ">\n",
    "> 총 12개의 위치 중 a, b 모두 데이터 값이 존재하는 곳에만 연산 결과가 생겼습니다."
   ]
  },
  {
   "cell_type": "markdown",
   "id": "9d54e8e0-5e3e-47ec-8a85-5ef2f80669d0",
   "metadata": {},
   "source": [
    "#### <연습문제>\n",
    "<a class=\"jcecodle-mk jcecodle-mk__problem-chip\" data-problem-id=\"-Vj7ud9-Ozo\" href='#jce-judge/open/-Vj7ud9-Ozo' target='_self'><span>판다스 - 데이터 간 사칙연산 (2)</span></a>\n",
    "\n"
   ]
  },
  {
   "cell_type": "markdown",
   "id": "2d80e0a3-d3e4-4021-9879-4451dd5c5bdd",
   "metadata": {
    "tags": []
   },
   "source": [
    "### **(3) 크기가 다른 데이터 간 연산 결과 확인하기**\n",
    "\n",
    "> 사칙연산의 경우 shape가 같은 두 데이터의 index가 모두 일치하지 않아도 일치하는 데이터에 한해서 결과를 얻을 수 있습니다.  \n",
    "> 같은 이유로 shape가 다르더라도 index가 일치하는 데이터에 한해서 결과를 얻을 수 있습니다.   \n",
    "> 아래의 코드로 결과를 확인해봅시다.  "
   ]
  },
  {
   "cell_type": "code",
   "execution_count": 18,
   "id": "9a8749ad-84a1-49b5-b814-3b21d7549363",
   "metadata": {},
   "outputs": [
    {
     "name": "stdout",
     "output_type": "stream",
     "text": [
      "c:\n",
      "     0   1   2\n",
      "0  30  30  30\n",
      "1  50  50  50\n",
      "d:\n",
      "     0   1   2   3\n",
      "0  10  20  30  40\n",
      "1  20  30  40  50\n",
      "2  40  50  60  70\n",
      "\n",
      "더하기: \n",
      "      0     1     2   3\n",
      "0  40.0  50.0  60.0 NaN\n",
      "1  70.0  80.0  90.0 NaN\n",
      "2   NaN   NaN   NaN NaN\n"
     ]
    }
   ],
   "source": [
    "# 예제 4: 크기가 다른 데이터 간 연산하기\n",
    "\n",
    "c = pd.DataFrame([[30, 30, 30], [50, 50, 50]])\n",
    "d = pd.DataFrame([[10, 20, 30, 40], [20, 30, 40, 50], [40, 50, 60, 70]])\n",
    "\n",
    "print(\"c:\\n\", c)\n",
    "print(\"d:\\n\", d)\n",
    "\n",
    "print(\"\\n더하기: \")  # 사칙연산하기\n",
    "print(c + d)"
   ]
  },
  {
   "cell_type": "markdown",
   "id": "ba6b94f1-3b85-4ff0-b1af-b80163b05c6c",
   "metadata": {},
   "source": [
    "> 두 데이터를 사칙연산하면 두 데이터의 행과 열 index가 합쳐진 결과 데이터가 생성됩니다.  \n",
    "> 그 중 두 데이터 모두 값이 존재하는 위치에만 연산 결과가 존재하며, 다른 위치는 값이 없어 NaN으로 출력됩니다.  "
   ]
  },
  {
   "cell_type": "markdown",
   "id": "b2adcba5-55e3-4e46-9dc0-f1907200d75a",
   "metadata": {},
   "source": [
    "#### <연습문제>\n",
    "<a class=\"jcecodle-mk jcecodle-mk__problem-chip\" data-problem-id=\"h7X7CbcCYRw\" href='#jce-judge/open/h7X7CbcCYRw' target='_self'><span>판다스 - 데이터 간 사칙연산 (3)</span></a>\n"
   ]
  },
  {
   "cell_type": "markdown",
   "id": "41f90cc2-f258-4e0c-8723-3fb3cee61306",
   "metadata": {
    "tags": []
   },
   "source": [
    "## **2. 데이터끼리 비교연산**\n",
    "\n",
    "> 크기가 같은 두 DataFrame을 만들어 비교연산을 해보겠습니다.  \n",
    "> 2행, 3열 짜리 숫자로 된 두 DataFrame을 만들고, index가 일치하는지 확인해봅시다."
   ]
  },
  {
   "cell_type": "code",
   "execution_count": 27,
   "id": "cd011ad6-a112-4d37-b2db-ef636b06e37d",
   "metadata": {},
   "outputs": [
    {
     "name": "stdout",
     "output_type": "stream",
     "text": [
      "e:\n",
      "     0   1   2\n",
      "0  30  30  30\n",
      "1  50  50  50\n",
      "f:\n",
      "     0   1   2\n",
      "0  20  30  40\n",
      "1  40  50  60\n"
     ]
    }
   ],
   "source": [
    "# 예제 5: 크기가 같은 두개의 데이터 만들기\n",
    "\n",
    "e = pd.DataFrame([[30, 30, 30], [50, 50, 50]])\n",
    "f = pd.DataFrame([[20, 30, 40], [40, 50, 60]])\n",
    "\n",
    "print(\"e:\\n\", e)\n",
    "print(\"f:\\n\", f)"
   ]
  },
  {
   "cell_type": "markdown",
   "id": "55a09b12-809d-43e8-a6fd-778ded63483e",
   "metadata": {
    "tags": []
   },
   "source": [
    "### **(1) 숫자 비교 연산하기 (같다, 다르다)**\n",
    "\n",
    "> 숫자를 비교하는 방법에는 같은지, 다른지를 확인하는 것이 있습니다.  \n",
    "> 비교 연산의 결과는 참이면 True, 거짓이면 False 입니다.  \n",
    ">\n",
    "> Series, DataFrame 모두 같은 방식으로 연산이 가능합니다.  \n",
    ">\n",
    "> `data1 == data2` : 같다  \n",
    "> >같은지 비교하는 경우, 두 숫자가 같다면 True이고 다르다면 False입니다.  \n",
    ">\n",
    "> `data1 != data2` : 다르다  \n",
    ">> 다른지 비교하는 경우, 두 숫자가 같다면 False이고 다르다면 True입니다.  "
   ]
  },
  {
   "cell_type": "code",
   "execution_count": 28,
   "id": "44302486-8eff-4a3c-ab15-b8c055f00c09",
   "metadata": {},
   "outputs": [
    {
     "name": "stdout",
     "output_type": "stream",
     "text": [
      "e:\n",
      "     0   1   2\n",
      "0  30  30  30\n",
      "1  50  50  50\n",
      "f:\n",
      "     0   1   2\n",
      "0  20  30  40\n",
      "1  40  50  60\n",
      "값이 같다: \n",
      "       0     1      2\n",
      "0  False  True  False\n",
      "1  False  True  False\n",
      "\n",
      "값이 다르다: \n",
      "      0      1     2\n",
      "0  True  False  True\n",
      "1  True  False  True\n"
     ]
    }
   ],
   "source": [
    "# 예제 6: 같은 크기의 데이터 간 비교 연산하기 (1)\n",
    "\n",
    "print(\"e:\\n\", e)\n",
    "print(\"f:\\n\", f)\n",
    "\n",
    "print(\"값이 같다: \")\n",
    "print(e == f)\n",
    "\n",
    "print(\"\\n값이 다르다: \")\n",
    "print(e != f)"
   ]
  },
  {
   "cell_type": "markdown",
   "id": "f03d8199-40a2-4c31-8f60-2544121d5246",
   "metadata": {
    "jp-MarkdownHeadingCollapsed": true,
    "tags": []
   },
   "source": [
    "#### <연습문제>\n",
    "\n",
    "<a class=\"jcecodle-mk jcecodle-mk__problem-chip\" data-problem-id=\"FUaGcGR4Uj0\" href='#jce-judge/open/FUaGcGR4Uj0' target='_self'><span>판다스 - 데이터 간 비교연산 (숫자)(1)</span></a>\n",
    "\n",
    "\n",
    "\n"
   ]
  },
  {
   "cell_type": "markdown",
   "id": "5ce596d9-fa66-43dc-a322-5ee308cebe74",
   "metadata": {
    "tags": []
   },
   "source": [
    "### **(2) 숫자 비교 연산하기 (크다, 작다)**\n",
    "\n",
    "> 숫자를 비교하는 방법에는 큰지 작은지를 확인하는 것도 있습니다.  \n",
    "> 비교 연산의 결과는 참이면 True, 거짓이면 False 입니다.  \n",
    ">\n",
    "> Series, DataFrame 모두 같은 방식으로 연산이 가능합니다.  \n",
    ">\n",
    "> `data1 > data2` : data1의 값이 더 크다  \n",
    "> `data1 < data2` : data1의 값이 더 작다  \n",
    "> `data1 >= data2` : data1의 값이 더 크거나 같다  \n",
    "> `data1 < data2` : data1의 값이 더 작거다 같다"
   ]
  },
  {
   "cell_type": "code",
   "execution_count": 29,
   "id": "96b8f4eb-1b69-407f-93b9-83659922587e",
   "metadata": {},
   "outputs": [
    {
     "name": "stdout",
     "output_type": "stream",
     "text": [
      "e:\n",
      "     0   1   2\n",
      "0  30  30  30\n",
      "1  50  50  50\n",
      "f:\n",
      "     0   1   2\n",
      "0  20  30  40\n",
      "1  40  50  60\n",
      "\n",
      " e가 f보다 크다: \n",
      "      0      1      2\n",
      "0  True  False  False\n",
      "1  True  False  False\n",
      "\n",
      " e가 f보다 작거나 같다: \n",
      "       0     1     2\n",
      "0  False  True  True\n",
      "1  False  True  True\n"
     ]
    }
   ],
   "source": [
    "# 예제 7: 같은 크기의 데이터 간 비교 연산하기 (2)\n",
    "\n",
    "print(\"e:\\n\", e)\n",
    "print(\"f:\\n\", f)\n",
    "\n",
    "print(\"\\n\", \"e가 f보다 크다: \")\n",
    "print(e > f)\n",
    "\n",
    "print(\"\\n\", \"e가 f보다 작거나 같다: \")\n",
    "print(e <= f)"
   ]
  },
  {
   "cell_type": "markdown",
   "id": "3abea844-877b-44d7-8c48-81b609da214b",
   "metadata": {
    "tags": []
   },
   "source": [
    "#### <연습문제>\n",
    "\n",
    "<a class=\"jcecodle-mk jcecodle-mk__problem-chip\" data-problem-id=\"_dhAAA7XWkM\" href='#jce-judge/open/_dhAAA7XWkM' target='_self'><span>판다스 - 데이터 간 비교연산 (숫자) (2)</span></a>\n",
    "\n",
    "\n"
   ]
  },
  {
   "cell_type": "markdown",
   "id": "7baeb0ac-2caa-4a6f-90ee-9a4882c4f34c",
   "metadata": {
    "tags": []
   },
   "source": [
    "### **(3) 문자 비교하기 (같다, 다르다)**\n",
    "\n",
    "> 같은지 다른지 비교하는 것은 숫자말고도 문자 데이터에 대해서도 가능한 연산입니다.  \n",
    ">\n",
    "> 비교 연산의 결과는 참이면 True, 거짓이면 False 입니다.  \n",
    ">\n",
    "> Series, DataFrame 모두 같은 방식으로 연산이 가능합니다.  \n",
    ">\n",
    "> `data1 == data2` : 같다  \n",
    "> `data1 != data2` : 다르다  "
   ]
  },
  {
   "cell_type": "code",
   "execution_count": 30,
   "id": "5ee4ca2d-6424-4008-82ef-7a4a590ae458",
   "metadata": {},
   "outputs": [
    {
     "name": "stdout",
     "output_type": "stream",
     "text": [
      "g:\n",
      "     0   1   2\n",
      "0  짜장  짬뽕  짜장\n",
      "1  짜장  짬뽕  짜장\n",
      "h:\n",
      "     0   1   2\n",
      "0  짬뽕  짜장  짜장\n",
      "1  짬뽕  짬뽕  짜장\n",
      "\n",
      "값이 같다: \n",
      "       0      1     2\n",
      "0  False  False  True\n",
      "1  False   True  True\n",
      "\n",
      "값이 다르다: \n",
      "      0      1      2\n",
      "0  True   True  False\n",
      "1  True  False  False\n"
     ]
    }
   ],
   "source": [
    "# 예제 8: 문자 데이터 간 비교연산하기\n",
    "\n",
    "# 크기가 같은 문자 데이터 두 개 만들기\n",
    "g = pd.DataFrame([[\"짜장\", \"짬뽕\", \"짜장\"], [\"짜장\", \"짬뽕\", \"짜장\"]])\n",
    "h = pd.DataFrame([[\"짬뽕\", \"짜장\", \"짜장\"], [\"짬뽕\", \"짬뽕\", \"짜장\"]])\n",
    "\n",
    "print(\"g:\\n\", g)\n",
    "print(\"h:\\n\", h)\n",
    "\n",
    "print(\"\\n값이 같다: \")\n",
    "print(g == h)\n",
    "\n",
    "print(\"\\n값이 다르다: \")\n",
    "print(g != h)"
   ]
  },
  {
   "cell_type": "markdown",
   "id": "0f27955f-a062-4d85-b678-d7e0efe6aae6",
   "metadata": {
    "tags": []
   },
   "source": [
    "#### <연습문제>\n",
    "\n",
    "<a class=\"jcecodle-mk jcecodle-mk__problem-chip\" data-problem-id=\"UH1YOIZHn4c\" href='#jce-judge/open/UH1YOIZHn4c' target='_self'><span>판다스 - 데이터 간 비교연산 (문자)</span></a>\n",
    "\n",
    "\n",
    "\n",
    "\n",
    "\n",
    "\n"
   ]
  },
  {
   "cell_type": "markdown",
   "id": "cc8fab75-d1e8-4988-b6af-4574bd7c43e1",
   "metadata": {},
   "source": [
    "### **(4) 인덱스가 다른 경우의 비교연산**\n",
    "\n",
    "> Pandas의 데이터 간 비교연산은 shape와 index가 완전히 일치하는 경우에만 사용 가능합니다.  \n",
    "> **사칙연산과는 다르니 주의합니다!**"
   ]
  },
  {
   "cell_type": "code",
   "execution_count": 33,
   "id": "bba6b690-6448-4814-9fb9-069545a70eeb",
   "metadata": {},
   "outputs": [
    {
     "name": "stdout",
     "output_type": "stream",
     "text": [
      "g:\n",
      "     1   2   3\n",
      "1  짜장  짬뽕  짜장\n",
      "2  짜장  짬뽕  짜장\n",
      "h:\n",
      "     0   1   2\n",
      "0  짬뽕  짜장  짜장\n",
      "1  짬뽕  짬뽕  짜장\n",
      "\n",
      "값이 같다: \n"
     ]
    },
    {
     "name": "stderr",
     "output_type": "stream",
     "text": [
      "No matching template\n",
      "---------------------------------------------------------------------------\n",
      "\u001b[1;33m오류도우미의 설명\u001b[0m\n",
      "\n"
     ]
    },
    {
     "ename": "ValueError",
     "evalue": "Can only compare identically-labeled DataFrame objects",
     "output_type": "error",
     "traceback": [
      "\u001b[0;31m---------------------------------------------------------------------------\u001b[0m",
      "\u001b[0;31mValueError\u001b[0m                                Traceback (most recent call last)",
      "Input \u001b[0;32mIn [33]\u001b[0m, in \u001b[0;36m<cell line: 10>\u001b[0;34m()\u001b[0m\n\u001b[1;32m      7\u001b[0m \u001b[38;5;28mprint\u001b[39m(\u001b[38;5;124m\"\u001b[39m\u001b[38;5;124mh:\u001b[39m\u001b[38;5;130;01m\\n\u001b[39;00m\u001b[38;5;124m\"\u001b[39m, h)\n\u001b[1;32m      9\u001b[0m \u001b[38;5;28mprint\u001b[39m(\u001b[38;5;124m\"\u001b[39m\u001b[38;5;130;01m\\n\u001b[39;00m\u001b[38;5;124m값이 같다: \u001b[39m\u001b[38;5;124m\"\u001b[39m)\n\u001b[0;32m---> 10\u001b[0m \u001b[38;5;28mprint\u001b[39m(\u001b[43mg\u001b[49m\u001b[43m \u001b[49m\u001b[38;5;241;43m==\u001b[39;49m\u001b[43m \u001b[49m\u001b[43mh\u001b[49m)\n",
      "File \u001b[0;32m/opt/conda/lib/python3.10/site-packages/pandas/core/ops/common.py:70\u001b[0m, in \u001b[0;36m_unpack_zerodim_and_defer.<locals>.new_method\u001b[0;34m(self, other)\u001b[0m\n\u001b[1;32m     66\u001b[0m             \u001b[38;5;28;01mreturn\u001b[39;00m \u001b[38;5;28mNotImplemented\u001b[39m\n\u001b[1;32m     68\u001b[0m other \u001b[38;5;241m=\u001b[39m item_from_zerodim(other)\n\u001b[0;32m---> 70\u001b[0m \u001b[38;5;28;01mreturn\u001b[39;00m \u001b[43mmethod\u001b[49m\u001b[43m(\u001b[49m\u001b[38;5;28;43mself\u001b[39;49m\u001b[43m,\u001b[49m\u001b[43m \u001b[49m\u001b[43mother\u001b[49m\u001b[43m)\u001b[49m\n",
      "File \u001b[0;32m/opt/conda/lib/python3.10/site-packages/pandas/core/arraylike.py:40\u001b[0m, in \u001b[0;36mOpsMixin.__eq__\u001b[0;34m(self, other)\u001b[0m\n\u001b[1;32m     38\u001b[0m \u001b[38;5;129m@unpack_zerodim_and_defer\u001b[39m(\u001b[38;5;124m\"\u001b[39m\u001b[38;5;124m__eq__\u001b[39m\u001b[38;5;124m\"\u001b[39m)\n\u001b[1;32m     39\u001b[0m \u001b[38;5;28;01mdef\u001b[39;00m \u001b[38;5;21m__eq__\u001b[39m(\u001b[38;5;28mself\u001b[39m, other):\n\u001b[0;32m---> 40\u001b[0m     \u001b[38;5;28;01mreturn\u001b[39;00m \u001b[38;5;28;43mself\u001b[39;49m\u001b[38;5;241;43m.\u001b[39;49m\u001b[43m_cmp_method\u001b[49m\u001b[43m(\u001b[49m\u001b[43mother\u001b[49m\u001b[43m,\u001b[49m\u001b[43m \u001b[49m\u001b[43moperator\u001b[49m\u001b[38;5;241;43m.\u001b[39;49m\u001b[43meq\u001b[49m\u001b[43m)\u001b[49m\n",
      "File \u001b[0;32m/opt/conda/lib/python3.10/site-packages/pandas/core/frame.py:6931\u001b[0m, in \u001b[0;36mDataFrame._cmp_method\u001b[0;34m(self, other, op)\u001b[0m\n\u001b[1;32m   6928\u001b[0m \u001b[38;5;28;01mdef\u001b[39;00m \u001b[38;5;21m_cmp_method\u001b[39m(\u001b[38;5;28mself\u001b[39m, other, op):\n\u001b[1;32m   6929\u001b[0m     axis \u001b[38;5;241m=\u001b[39m \u001b[38;5;241m1\u001b[39m  \u001b[38;5;66;03m# only relevant for Series other case\u001b[39;00m\n\u001b[0;32m-> 6931\u001b[0m     \u001b[38;5;28mself\u001b[39m, other \u001b[38;5;241m=\u001b[39m \u001b[43mops\u001b[49m\u001b[38;5;241;43m.\u001b[39;49m\u001b[43malign_method_FRAME\u001b[49m\u001b[43m(\u001b[49m\u001b[38;5;28;43mself\u001b[39;49m\u001b[43m,\u001b[49m\u001b[43m \u001b[49m\u001b[43mother\u001b[49m\u001b[43m,\u001b[49m\u001b[43m \u001b[49m\u001b[43maxis\u001b[49m\u001b[43m,\u001b[49m\u001b[43m \u001b[49m\u001b[43mflex\u001b[49m\u001b[38;5;241;43m=\u001b[39;49m\u001b[38;5;28;43;01mFalse\u001b[39;49;00m\u001b[43m,\u001b[49m\u001b[43m \u001b[49m\u001b[43mlevel\u001b[49m\u001b[38;5;241;43m=\u001b[39;49m\u001b[38;5;28;43;01mNone\u001b[39;49;00m\u001b[43m)\u001b[49m\n\u001b[1;32m   6933\u001b[0m     \u001b[38;5;66;03m# See GH#4537 for discussion of scalar op behavior\u001b[39;00m\n\u001b[1;32m   6934\u001b[0m     new_data \u001b[38;5;241m=\u001b[39m \u001b[38;5;28mself\u001b[39m\u001b[38;5;241m.\u001b[39m_dispatch_frame_op(other, op, axis\u001b[38;5;241m=\u001b[39maxis)\n",
      "File \u001b[0;32m/opt/conda/lib/python3.10/site-packages/pandas/core/ops/__init__.py:289\u001b[0m, in \u001b[0;36malign_method_FRAME\u001b[0;34m(left, right, axis, flex, level)\u001b[0m\n\u001b[1;32m    287\u001b[0m             left, right \u001b[38;5;241m=\u001b[39m left\u001b[38;5;241m.\u001b[39malign(right, join\u001b[38;5;241m=\u001b[39m\u001b[38;5;124m\"\u001b[39m\u001b[38;5;124mouter\u001b[39m\u001b[38;5;124m\"\u001b[39m, level\u001b[38;5;241m=\u001b[39mlevel, copy\u001b[38;5;241m=\u001b[39m\u001b[38;5;28;01mFalse\u001b[39;00m)\n\u001b[1;32m    288\u001b[0m         \u001b[38;5;28;01melse\u001b[39;00m:\n\u001b[0;32m--> 289\u001b[0m             \u001b[38;5;28;01mraise\u001b[39;00m \u001b[38;5;167;01mValueError\u001b[39;00m(\n\u001b[1;32m    290\u001b[0m                 \u001b[38;5;124m\"\u001b[39m\u001b[38;5;124mCan only compare identically-labeled DataFrame objects\u001b[39m\u001b[38;5;124m\"\u001b[39m\n\u001b[1;32m    291\u001b[0m             )\n\u001b[1;32m    292\u001b[0m \u001b[38;5;28;01melif\u001b[39;00m \u001b[38;5;28misinstance\u001b[39m(right, ABCSeries):\n\u001b[1;32m    293\u001b[0m     \u001b[38;5;66;03m# axis=1 is default for DataFrame-with-Series op\u001b[39;00m\n\u001b[1;32m    294\u001b[0m     axis \u001b[38;5;241m=\u001b[39m left\u001b[38;5;241m.\u001b[39m_get_axis_number(axis) \u001b[38;5;28;01mif\u001b[39;00m axis \u001b[38;5;129;01mis\u001b[39;00m \u001b[38;5;129;01mnot\u001b[39;00m \u001b[38;5;28;01mNone\u001b[39;00m \u001b[38;5;28;01melse\u001b[39;00m \u001b[38;5;241m1\u001b[39m\n",
      "\u001b[0;31mValueError\u001b[0m: Can only compare identically-labeled DataFrame objects"
     ]
    }
   ],
   "source": [
    "# 예제 9: 행, 열의 index가 다른 경우 데이터 간 비교연산하기\n",
    "\n",
    "g.index = [1, 2]  # 데이터의 행 인덱스 바꾸기\n",
    "g.columns = [1, 2, 3]  # 데이터의 열 인덱스 바꾸기\n",
    "\n",
    "print(\"g:\\n\", g)\n",
    "print(\"h:\\n\", h)\n",
    "\n",
    "print(\"\\n값이 같다: \")\n",
    "print(g == h)\n"
   ]
  },
  {
   "cell_type": "code",
   "execution_count": null,
   "id": "28594c98-b8d9-41c6-8753-23a63f9c582d",
   "metadata": {},
   "outputs": [],
   "source": []
  }
 ],
 "metadata": {
  "kernelspec": {
   "display_name": "Python 3 (ipykernel)",
   "language": "python",
   "name": "python3"
  },
  "language_info": {
   "codemirror_mode": {
    "name": "ipython",
    "version": 3
   },
   "file_extension": ".py",
   "mimetype": "text/x-python",
   "name": "python",
   "nbconvert_exporter": "python",
   "pygments_lexer": "ipython3",
   "version": "3.10.9"
  }
 },
 "nbformat": 4,
 "nbformat_minor": 5
}
