{
 "cells": [
  {
   "cell_type": "markdown",
   "id": "727ea7a9-bac0-4bb3-afbc-4981950e3fd1",
   "metadata": {
    "tags": []
   },
   "source": [
    "# **[5-6] 데이터의 절댓값 구하기**"
   ]
  },
  {
   "cell_type": "markdown",
   "id": "0a5448d2-a09e-484c-adf2-6c2e5d0232b8",
   "metadata": {
    "tags": []
   },
   "source": [
    "## **🎯 학습 목표**\n",
    "**Pandas를 사용해 시리즈, 데이터프레임의 각 데이터의 절댓값을 구해봅시다.**"
   ]
  },
  {
   "cell_type": "markdown",
   "id": "01cb348d-d551-4559-910d-6d97d46c0385",
   "metadata": {},
   "source": [
    "---"
   ]
  },
  {
   "cell_type": "markdown",
   "id": "4202287d-dd36-4db5-9bf6-860e23880767",
   "metadata": {
    "tags": []
   },
   "source": [
    "데이터의 절댓값을 구하고 싶을 때에는 `abs()` 함수를 사용할 수 있습니다.\n",
    "\n",
    "> **🔨 함수(FUNCTIONS):**\n",
    ">\n",
    "> **`Series.abs()`**  \n",
    "> 시리즈의 데이터들의 절댓값을 시리즈로 반환합니다.  \n",
    "> 반환하는 시리즈의 크기는 함수를 적용하는 시리즈와 같습니다.\n",
    "> ---\n",
    "> **`DataFrame.abs()`**  \n",
    "> 데이터프레임의 데이터들의 절댓값을 데이터프레임으로 반환합니다.  \n",
    "> 반환하는 데이터프레임의 형태는 함수를 적용하는 데이터프레임과 같습니다.\n",
    "> ---\n",
    "\n"
   ]
  },
  {
   "cell_type": "markdown",
   "id": "586a7d75-f033-4df0-8cf3-45035f0ecc13",
   "metadata": {},
   "source": [
    "## abs()로 데이터의 절댓값을 계산합니다.\n",
    "\n",
    "`abs()` 함수를 사용하면 데이터의 절댓값을 구할 수 있습니다.  \n",
    "\n",
    "<table>\n",
    "<tr>\n",
    "    <th><img src=\"https://tmn-bucket-materials-all.s3.ap-northeast-2.amazonaws.com/image/pandas/material_05-20.png\" width=\"700\"></th>\n",
    "    </tr>\n",
    "<tr>\n",
    "    <th>abs() 함수를 이용한 절대값 구하기</th>\n",
    "</tr>\n",
    "</table>"
   ]
  },
  {
   "cell_type": "code",
   "execution_count": null,
   "id": "3e5a8d78-6354-4371-9d3f-8c0bd5b74b77",
   "metadata": {
    "tags": []
   },
   "outputs": [],
   "source": [
    "# 예제_1_시리즈의_데이터_절댓값\n",
    "\n",
    "import pandas as pd\n",
    "\n",
    "A = pd.Series([-1,0,1,-3,2,-2])\n",
    "\n",
    "print('#'*30, f\"{'A':^15s}\" , '#' * 30, '\\n') # 출력되는 결과들을 분리해서 보여주기 위한 코드입니다.\n",
    "print(A)\n",
    "print('#'*30, f\"{'A.abs()':^15s}\" , '#' * 30, '\\n') # 출력되는 결과들을 분리해서 보여주기 위한 코드입니다.\n",
    "print(A.abs())"
   ]
  },
  {
   "cell_type": "code",
   "execution_count": null,
   "id": "90b4987f-13b5-447d-9003-89e688d3f154",
   "metadata": {
    "tags": []
   },
   "outputs": [],
   "source": [
    "# 예제_2_데이터프레임의_데이터_절댓값\n",
    "\n",
    "import pandas as pd\n",
    "\n",
    "A = pd.DataFrame([[-1,-3],[0,2], [1,-2]])\n",
    "\n",
    "print('#'*30, f\"{'A':^15s}\" , '#' * 30, '\\n') # 출력되는 결과들을 분리해서 보여주기 위한 코드입니다.\n",
    "print(A)\n",
    "print('#'*30, f\"{'A.abs()':^15s}\" , '#' * 30, '\\n') # 출력되는 결과들을 분리해서 보여주기 위한 코드입니다.\n",
    "print(A.abs())"
   ]
  },
  {
   "cell_type": "markdown",
   "id": "23102c4d-4c85-4d59-bf9e-84502596dc3f",
   "metadata": {},
   "source": [
    "### **💯 연습문제를 풀어봅시다**\n",
    "\n"
   ]
  },
  {
   "cell_type": "markdown",
   "id": "cb46131b-d917-4d5d-9aaf-5666d5f1112b",
   "metadata": {
    "tags": []
   },
   "source": [
    "1. <a class=\"jcecodle-mk jcecodle-mk__problem-chip\" data-problem-id=\"igEUbY7Tfwc\" href='#jce-judge/open/igEUbY7Tfwc' target='_self'><span>판다스 - 데이터 연산하기 - abs</span></a>\n",
    "\n",
    "2. <a class=\"jcecodle-mk jcecodle-mk__problem-chip\" data-problem-id=\"OtAL67kKFJc\" href='#jce-judge/open/OtAL67kKFJc' target='_self'><span>사업실적 절댓값 (1)</span></a>\n",
    "\n",
    "3. <a class=\"jcecodle-mk jcecodle-mk__problem-chip\" data-problem-id=\"PYcUHf3BssQ\" href='#jce-judge/open/PYcUHf3BssQ' target='_self'><span>사업실적 절댓값 (2)</span></a>"
   ]
  }
 ],
 "metadata": {
  "kernelspec": {
   "display_name": "Python 3 (ipykernel)",
   "language": "python",
   "name": "python3"
  },
  "language_info": {
   "codemirror_mode": {
    "name": "ipython",
    "version": 3
   },
   "file_extension": ".py",
   "mimetype": "text/x-python",
   "name": "python",
   "nbconvert_exporter": "python",
   "pygments_lexer": "ipython3",
   "version": "3.8.10"
  }
 },
 "nbformat": 4,
 "nbformat_minor": 5
}
