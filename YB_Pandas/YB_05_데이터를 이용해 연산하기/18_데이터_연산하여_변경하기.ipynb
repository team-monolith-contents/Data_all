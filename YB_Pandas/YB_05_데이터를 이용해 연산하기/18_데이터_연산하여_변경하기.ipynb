{
 "cells": [
  {
   "cell_type": "markdown",
   "id": "d7408c9a-bce3-4385-8cb8-51bbe9902972",
   "metadata": {
    "tags": []
   },
   "source": [
    "#### [시작하기]\n",
    "\n",
    "<div class=\"alert alert-info\">\n",
    "    <font color=black>\n",
    "    Pandas를 사용하기 위해서 처음 할 일을 무엇인가요?\n",
    "    </font>\n",
    "</div>"
   ]
  },
  {
   "cell_type": "code",
   "execution_count": 1,
   "id": "a022ca8d-8151-4def-8fde-177215c49a17",
   "metadata": {},
   "outputs": [],
   "source": [
    "import pandas as pd # 판다스를 pd로 축약하여 불러옵니다"
   ]
  },
  {
   "cell_type": "markdown",
   "id": "6b63c9cc-92be-4a59-b710-13dd91bc8d9c",
   "metadata": {
    "tags": []
   },
   "source": [
    "# **[18] 데이터 연산하여 변경하기**\n",
    "\n",
    "[오늘 배울 것]\n",
    "1. 데이터와 특정 숫자의 연산 결과를 확인할 수 있다.\n",
    "2. 데이터와 특정 문자의 연산 결과를 확인할 수 있다.\n",
    "3. DataFrame 데이터와 Series 데이터의 연산 결과를 확인할 수 있다. "
   ]
  },
  {
   "cell_type": "markdown",
   "id": "f9ab56ba-b13b-42a2-bc36-abe5e24c46d6",
   "metadata": {},
   "source": [
    "> 가지고 있는 데이터에 대해서 특정 값과 연산하여 데이터를 변경할 수 있습니다.\n",
    ">\n",
    "> 앞서 배운 데이터 간 연산 방법을 이용하려면 가지고 있는 데이터와 index가 맞춰진 데이터를 마련해야 할 것입니다.  \n",
    "> 그러나 Pandas의 연산에서는 Broadcasting이 적용되기 때문에 간단하게 모든 데이터에 대한 연산이 가능합니다.  \n",
    ">\n",
    "> 이때에는 Broadcasting의 규칙을 주의하여 사용해야 합니다.  \n",
    "> 주의할 점을 잘 확인하며 연산 방법을 배워봅시다. \n"
   ]
  },
  {
   "attachments": {
    "466cad44-2bf1-49ee-aa9c-a8cdb44c4b13.png": {
     "image/png": "[encoded data removed]"
    }
   },
   "cell_type": "markdown",
   "id": "9e25aa6d-59fe-4f7d-a213-4be4d9341895",
   "metadata": {
    "tags": []
   },
   "source": [
    "## **1. 데이터에 특정 숫자 연산**\n",
    "\n",
    "> 데이터(Series, DataFrame)와 특정 숫자를 연산하면, Broadcasting 규칙에 따라 데이터의 모든 값과 특정 숫자가 연산됩니다.  \n",
    "> 숫자로 된 원본 데이터를 만들고, 연산하여 데이터를 변경해봅시다. \n",
    "\n",
    "![연산1.png](attachment:466cad44-2bf1-49ee-aa9c-a8cdb44c4b13.png)"
   ]
  },
  {
   "cell_type": "code",
   "execution_count": 8,
   "id": "ca2deada-3552-466b-89da-32c5351319bb",
   "metadata": {},
   "outputs": [
    {
     "name": "stdout",
     "output_type": "stream",
     "text": [
      "a:\n",
      "      0    1    2    3\n",
      "0    1    2    3    4\n",
      "1   10   20   30   40\n",
      "2  100  200  300  400\n"
     ]
    }
   ],
   "source": [
    "# 예제 1: 숫자 데이터 만들기\n",
    "\n",
    "a = pd.DataFrame([[1, 2, 3, 4], [10, 20, 30, 40], [100, 200, 300, 400]])\n",
    "\n",
    "print(\"a:\\n\", a)"
   ]
  },
  {
   "cell_type": "markdown",
   "id": "216aaf5f-839e-4bf0-8a4e-979259289146",
   "metadata": {
    "tags": []
   },
   "source": [
    "### **(1) 데이터와 숫자 사칙연산하기**\n",
    "\n",
    "> 데이터의 모든 index 위치에 같은 값을 더하거나, 빼거나, 곱하거나, 나눌때는 데이터와 특정 값을 간단한 사칙연산 기호를 이용해 연산합니다.   \n",
    "> Series, DataFrame 모두 같은 방식으로 연산이 가능합니다.  \n",
    ">\n",
    "> `data + value` : 더하기  \n",
    "> `data - value` : 빼기  \n",
    "> `data * value` : 곱하기  \n",
    "> `data / value` : 나누기\n",
    "\n"
   ]
  },
  {
   "cell_type": "code",
   "execution_count": 5,
   "id": "5d6196a6-d1c4-4381-acf4-aa3b4259d78a",
   "metadata": {},
   "outputs": [
    {
     "name": "stdout",
     "output_type": "stream",
     "text": [
      "더하기: \n",
      "     0    1    2    3\n",
      "0    2    3    4    5\n",
      "1   11   21   31   41\n",
      "2  101  201  301  401\n",
      "\n",
      "빼기: \n",
      "    0    1    2    3\n",
      "0  -9   -8   -7   -6\n",
      "1   0   10   20   30\n",
      "2  90  190  290  390\n",
      "\n",
      "곱하기: \n",
      "      0     1     2     3\n",
      "0    10    20    30    40\n",
      "1   100   200   300   400\n",
      "2  1000  2000  3000  4000\n",
      "\n",
      "나누기: \n",
      "      0     1     2     3\n",
      "0   0.2   0.4   0.6   0.8\n",
      "1   2.0   4.0   6.0   8.0\n",
      "2  20.0  40.0  60.0  80.0\n"
     ]
    }
   ],
   "source": [
    "# 예제 2: 데이터에 특정 숫자 사칙연산하기\n",
    "\n",
    "print(\"더하기: \")\n",
    "print(a + 1)\n",
    "\n",
    "print(\"\\n빼기: \")\n",
    "print(a - 10)\n",
    "\n",
    "print(\"\\n곱하기: \")\n",
    "print(a * 10)\n",
    "\n",
    "print(\"\\n나누기: \")\n",
    "print(a / 5)"
   ]
  },
  {
   "cell_type": "markdown",
   "id": "a18e007a-4238-4e69-bbaa-6005c8fd41fb",
   "metadata": {},
   "source": [
    "#### <연습문제>\n",
    "\n",
    "<a class=\"jcecodle-mk jcecodle-mk__problem-chip\" data-problem-id=\"OnbGlRdDHXE\" href='#jce-judge/open/OnbGlRdDHXE' target='_self'><span>판다스 - 데이터 연산하여 변경 - 숫자 사칙연산</span></a>\n",
    "\n",
    "\n",
    "\n"
   ]
  },
  {
   "cell_type": "markdown",
   "id": "c5e8ea32-8c26-443d-9f35-d489fcc996ce",
   "metadata": {
    "tags": []
   },
   "source": [
    "### **(2) 데이터와 숫자 비교연산하기**\n",
    "\n",
    "> 데이터의 모든 index 위치의 값을 특정 값과 비교할 때는 데이터와 특정 값을 간단한 비교연산 기호를 이용해 연산합니다.   \n",
    "> Series, DataFrame 모두 같은 방식으로 연산이 가능합니다.  \n",
    ">\n",
    "> `data == value` : value와 같다  \n",
    "> `data != value` : value와 다르다  \n",
    "> `data > value` : value보다 크다  \n",
    "> `data < value` : value보다 작다  \n",
    "> `data >= value` : value보다 크거나 같다  \n",
    "> `data <= value` : value보다 작거나 같다"
   ]
  },
  {
   "cell_type": "code",
   "execution_count": 7,
   "id": "6d1941ee-a714-49cd-88c2-80c7071c085c",
   "metadata": {},
   "outputs": [
    {
     "name": "stdout",
     "output_type": "stream",
     "text": [
      "같다: \n",
      "       0      1      2      3\n",
      "0   True  False  False  False\n",
      "1  False  False  False  False\n",
      "2  False  False  False  False\n",
      "\n",
      "다르다: \n",
      "      0     1     2      3\n",
      "0  True  True  True  False\n",
      "1  True  True  True   True\n",
      "2  True  True  True   True\n",
      "\n",
      "10보다 크다: \n",
      "       0      1      2      3\n",
      "0  False  False  False  False\n",
      "1  False   True   True   True\n",
      "2   True   True   True   True\n",
      "\n",
      "100보다 작거나 같다: \n",
      "      0      1      2      3\n",
      "0  True   True   True   True\n",
      "1  True   True   True   True\n",
      "2  True  False  False  False\n"
     ]
    }
   ],
   "source": [
    "# 예제 3: 데이터에 특정 숫자 비교연산하기\n",
    "\n",
    "print(\"같다: \")\n",
    "print(a == 1)\n",
    "\n",
    "print(\"\\n다르다: \")\n",
    "print(a != 4)\n",
    "\n",
    "print(\"\\n10보다 크다: \")\n",
    "print(a > 10)\n",
    "\n",
    "print(\"\\n100보다 작거나 같다: \")\n",
    "print(a <= 100)"
   ]
  },
  {
   "cell_type": "markdown",
   "id": "b3d9f18f-4f3d-4a62-b062-7e68738cfce9",
   "metadata": {},
   "source": [
    "#### <연습문제>\n",
    "\n",
    "<a class=\"jcecodle-mk jcecodle-mk__problem-chip\" data-problem-id=\"jD2dBsnKsn4\" href='#jce-judge/open/jD2dBsnKsn4' target='_self'><span>판다스 - 데이터 연산하여 변경 - 숫자 비교연산</span></a>\n"
   ]
  },
  {
   "cell_type": "markdown",
   "id": "41f90cc2-f258-4e0c-8723-3fb3cee61306",
   "metadata": {
    "tags": []
   },
   "source": [
    "## **2. 데이터에 특정 문자 연산**\n",
    "\n",
    "> 데이터(Series, DataFrame)와 특정 문자를 연산하면, Broadcasting 규칙에 따라 데이터의 모든 값과 특정 문자가 연산됩니다.  \n",
    "> 문자로 된 원본 데이터를 만들고, 연산하여 데이터를 변경해봅시다. "
   ]
  },
  {
   "cell_type": "code",
   "execution_count": 11,
   "id": "cd011ad6-a112-4d37-b2db-ef636b06e37d",
   "metadata": {},
   "outputs": [
    {
     "name": "stdout",
     "output_type": "stream",
     "text": [
      "b:\n",
      "    0  1  2  3\n",
      "0  a  b  a  c\n",
      "1  b  c  c  a\n",
      "2  a  b  c  b\n"
     ]
    }
   ],
   "source": [
    "# 예제 4: 문자 데이터 만들기\n",
    "\n",
    "b = pd.DataFrame([list('abac'), list('bcca'), list('abcb')])\n",
    "\n",
    "print(\"b:\\n\", b)"
   ]
  },
  {
   "cell_type": "markdown",
   "id": "7baeb0ac-2caa-4a6f-90ee-9a4882c4f34c",
   "metadata": {
    "tags": []
   },
   "source": [
    "### **(1) 문자 비교하기 (같다, 다르다)**\n",
    "\n",
    "> 문자를 연산할 때에도 같은 방법을 이용합니다.    \n",
    "> 데이터의 모든 index 위치의 값을 특정 값과 비교할 때는 데이터와 특정 값을 간단한 비교연산 기호를 이용해 연산합니다.   \n",
    "> Series, DataFrame 모두 같은 방식으로 연산이 가능합니다.  \n",
    ">\n",
    "> `data == value` : value와 같다  \n",
    "> `data != value` : value와 다르다  "
   ]
  },
  {
   "cell_type": "code",
   "execution_count": 13,
   "id": "5ee4ca2d-6424-4008-82ef-7a4a590ae458",
   "metadata": {},
   "outputs": [
    {
     "name": "stdout",
     "output_type": "stream",
     "text": [
      "b:\n",
      "    0  1  2  3\n",
      "0  a  b  a  c\n",
      "1  b  c  c  a\n",
      "2  a  b  c  b\n",
      "\n",
      "값이 b와 같다: \n",
      "       0      1      2      3\n",
      "0  False   True  False  False\n",
      "1   True  False  False  False\n",
      "2  False   True  False   True\n",
      "\n",
      "값이 c와 다르다: \n",
      "      0      1      2      3\n",
      "0  True   True   True  False\n",
      "1  True  False  False   True\n",
      "2  True   True  False   True\n"
     ]
    }
   ],
   "source": [
    "# 예제 5: 문자 데이터 간 비교연산하기\n",
    "\n",
    "print(\"b:\\n\", b)\n",
    "\n",
    "print(\"\\n값이 b와 같다: \")\n",
    "print(b == \"b\")\n",
    "\n",
    "print(\"\\n값이 c와 다르다: \")\n",
    "print(b != \"c\")"
   ]
  },
  {
   "cell_type": "markdown",
   "id": "0f27955f-a062-4d85-b678-d7e0efe6aae6",
   "metadata": {
    "tags": []
   },
   "source": [
    "#### <연습문제>\n",
    "\n",
    "<a class=\"jcecodle-mk jcecodle-mk__problem-chip\" data-problem-id=\"96RZHzfaH3s\" href='#jce-judge/open/96RZHzfaH3s' target='_self'><span>판다스 - 데이터 연산하여 변경 - 문자 비교연산</span></a>\n",
    "\n",
    "\n"
   ]
  },
  {
   "attachments": {
    "a8f0dd64-fe34-4f0b-b45c-bc6a69ad4ee7.png": {
     "image/png": "[encoded data removed]"
    }
   },
   "cell_type": "markdown",
   "id": "8e4bd91d-53e0-48d0-aad4-7e87112c7c4e",
   "metadata": {
    "tags": []
   },
   "source": [
    "## **3. 데이터프레임과 시리즈 연산**\n",
    "> DataFrame과 Series 간의 연산시에는 Broadcasting의 규칙에 의해 index에 맞추어 연산됩니다.  \n",
    "> 숫자로 된 원본 DataFrame 데이터를 만들고, 연산하여 데이터를 변경해봅시다. \n",
    "\n",
    "![연산2.png](attachment:a8f0dd64-fe34-4f0b-b45c-bc6a69ad4ee7.png)"
   ]
  },
  {
   "cell_type": "code",
   "execution_count": 12,
   "id": "35112ab1-9089-4e78-962b-31f1dedb3395",
   "metadata": {},
   "outputs": [
    {
     "name": "stdout",
     "output_type": "stream",
     "text": [
      "c:\n",
      "      a    b    c    d\n",
      "0    1    2    3    4\n",
      "1   10   20   30   40\n",
      "2  100  200  300  400\n"
     ]
    }
   ],
   "source": [
    "# 예제 6: 숫자 DataFrame 데이터 만들기\n",
    "\n",
    "c = pd.DataFrame(columns=list(\"abcd\"), data=[[1, 2, 3, 4], [10, 20, 30, 40], [100, 200, 300, 400]])\n",
    "\n",
    "print(\"c:\\n\", c)"
   ]
  },
  {
   "cell_type": "markdown",
   "id": "3124a696-b759-4037-9e2e-f6e75583901c",
   "metadata": {
    "tags": []
   },
   "source": [
    "### **(1) DataFrame과 Series 연산하기**\n",
    "\n",
    "> DataFrame과 Series를 연산하는 경우에는 DataFrame의 열마다 다른 값이 연산됩니다.  \n",
    "> 규칙은 DataFrame의 **A열** 모든 데이터에 Series의 **A행** 값이 연산되는 것입니다.   \n",
    "> 예제 결과를 잘 살펴보고 규칙대로 연산되었는지 확인하여 봅시다. \n"
   ]
  },
  {
   "cell_type": "code",
   "execution_count": 14,
   "id": "9a8749ad-84a1-49b5-b814-3b21d7549363",
   "metadata": {},
   "outputs": [
    {
     "name": "stdout",
     "output_type": "stream",
     "text": [
      "c:\n",
      "      a    b    c    d\n",
      "0    1    2    3    4\n",
      "1   10   20   30   40\n",
      "2  100  200  300  400\n",
      "d:\n",
      " a    1\n",
      "b    2\n",
      "c    3\n",
      "d    4\n",
      "dtype: int64\n",
      "\n",
      "더하기: \n",
      "     a    b    c    d\n",
      "0    2    4    6    8\n",
      "1   11   22   33   44\n",
      "2  101  202  303  404\n",
      "\n",
      "같다: \n",
      "       a      b      c      d\n",
      "0   True   True   True   True\n",
      "1  False  False  False  False\n",
      "2  False  False  False  False\n"
     ]
    }
   ],
   "source": [
    "# 예제 7: DataFrame의 열 index에 따라 다른 값 연산하기 (1)\n",
    "\n",
    "# DataFrame의 열 index와 행 index가 일치하는 Series 만들기\n",
    "d = pd.Series(index=list('abcd'), data=[1, 2, 3, 4])\n",
    "\n",
    "print(\"c:\\n\", c)\n",
    "print(\"d:\\n\", d)\n",
    "\n",
    "print(\"\\n더하기: \")  # DataFrame과 Series 사칙연산하기\n",
    "print(c + d)\n",
    "\n",
    "print(\"\\n같다: \")  # DataFrame과 Series 비교연산하기\n",
    "print(d == c)\n"
   ]
  },
  {
   "cell_type": "markdown",
   "id": "15fc0575-a5d2-4bdb-932d-763df15f8087",
   "metadata": {},
   "source": [
    "#### <연습문제>\n",
    "<a class=\"jcecodle-mk jcecodle-mk__problem-chip\" data-problem-id=\"aZgKv2DEWI8\" href='#jce-judge/open/aZgKv2DEWI8' target='_self'><span>판다스 - 데이터 연산하여 변경 - 시리즈 연산</span></a>\n"
   ]
  },
  {
   "cell_type": "markdown",
   "id": "e44c2fae-cc09-4e64-be40-e3d486bb4a19",
   "metadata": {},
   "source": [
    "> DataFrame의 열 index와 Series의 행 index가 모두 일치하지 않아도 괜찮습니다.  \n",
    "> 일치하는 경우에만 연산이 되며 나머지는 NaN으로 출력됩니다.  \n",
    "> 다음 예제를 보고 index가 일치하는 경우와 그렇지 않은 경우에 어떤 결과를 내는지 잘 살펴봅시다.  "
   ]
  },
  {
   "cell_type": "code",
   "execution_count": 17,
   "id": "9ae164da-6487-4c2b-b9df-9ac64804bfd0",
   "metadata": {},
   "outputs": [
    {
     "name": "stdout",
     "output_type": "stream",
     "text": [
      "c:\n",
      "      a    b    c    d\n",
      "0    1    2    3    4\n",
      "1   10   20   30   40\n",
      "2  100  200  300  400\n",
      "e:\n",
      " a    1\n",
      "b    2\n",
      "dtype: int64\n",
      "\n",
      "빼기: \n",
      "      a      b   c   d\n",
      "0   0.0    0.0 NaN NaN\n",
      "1   9.0   18.0 NaN NaN\n",
      "2  99.0  198.0 NaN NaN\n",
      "\n",
      "\n",
      "c:\n",
      "      a    b    c    d\n",
      "0    1    2    3    4\n",
      "1   10   20   30   40\n",
      "2  100  200  300  400\n",
      "f:\n",
      " a    1\n",
      "b    2\n",
      "c    3\n",
      "d    4\n",
      "e    5\n",
      "dtype: int64\n",
      "\n",
      "빼기: \n",
      "    a    b    c    d   e\n",
      "0   0    0    0    0 NaN\n",
      "1   9   18   27   36 NaN\n",
      "2  99  198  297  396 NaN\n"
     ]
    }
   ],
   "source": [
    "# 예제 8: DataFrame의 열 index에 따라 다른 값 연산하기 (2)\n",
    "\n",
    "# DataFrame의 열 index의 부분과 행 index가 일치하는 Series 만들기\n",
    "e = pd.Series(index=list('ab'), data=[1, 2]) \n",
    "\n",
    "print(\"c:\\n\", c)\n",
    "print(\"e:\\n\", e)\n",
    "\n",
    "print(\"\\n빼기: \")  # DataFrame과 Series 사칙연산하기\n",
    "print(c - e)\n",
    "\n",
    "print(\"\\n\")\n",
    "# DataFrame의 열 index와 행 index의 부분이 일치하는 Series 만들기\n",
    "f = pd.Series(index=list('abcde'), data=[1, 2, 3, 4, 5])\n",
    "\n",
    "print(\"c:\\n\", c)\n",
    "print(\"f:\\n\", f)\n",
    "\n",
    "print(\"\\n빼기: \")  # DataFrame과 Series 사칙연산하기\n",
    "print(c - f)"
   ]
  },
  {
   "cell_type": "code",
   "execution_count": null,
   "id": "cf769a35-c7b6-401c-b204-81df8469039b",
   "metadata": {},
   "outputs": [],
   "source": []
  }
 ],
 "metadata": {
  "kernelspec": {
   "display_name": "Python 3 (ipykernel)",
   "language": "python",
   "name": "python3"
  },
  "language_info": {
   "codemirror_mode": {
    "name": "ipython",
    "version": 3
   },
   "file_extension": ".py",
   "mimetype": "text/x-python",
   "name": "python",
   "nbconvert_exporter": "python",
   "pygments_lexer": "ipython3",
   "version": "3.10.9"
  }
 },
 "nbformat": 4,
 "nbformat_minor": 5
}
