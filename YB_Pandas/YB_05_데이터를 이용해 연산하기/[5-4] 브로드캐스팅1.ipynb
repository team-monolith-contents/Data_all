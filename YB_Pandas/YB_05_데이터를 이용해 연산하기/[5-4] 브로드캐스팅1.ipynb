{
 "cells": [
  {
   "cell_type": "code",
   "execution_count": 2,
   "id": "fcfdd5f9-ed84-4b24-ad62-e43af9837768",
   "metadata": {},
   "outputs": [],
   "source": [
    "import pandas as pd"
   ]
  },
  {
   "cell_type": "markdown",
   "id": "727ea7a9-bac0-4bb3-afbc-4981950e3fd1",
   "metadata": {
    "tags": []
   },
   "source": [
    "# **[8-4] 브로드캐스팅1**"
   ]
  },
  {
   "cell_type": "markdown",
   "id": "0a5448d2-a09e-484c-adf2-6c2e5d0232b8",
   "metadata": {
    "tags": []
   },
   "source": [
    "## **🎯 학습 목표**\n",
    "**데이터와 값 사이의 브로드캐스팅에 대해 알아봅시다.**"
   ]
  },
  {
   "cell_type": "markdown",
   "id": "01cb348d-d551-4559-910d-6d97d46c0385",
   "metadata": {},
   "source": [
    "---"
   ]
  },
  {
   "cell_type": "markdown",
   "id": "16f8b340-b21a-465b-bc2b-80df6e45f50c",
   "metadata": {
    "jp-MarkdownHeadingCollapsed": true,
    "tags": []
   },
   "source": [
    "차원이 다른 두 데이터를 연산할 때에는 **브로드캐스팅**이 적용됩니다.  \n",
    "브로드캐스팅은 작은 차원의 데이터를 큰 차원의 데이터와 연산할 수 있도록 적절한 형태로 바꾼 뒤 연산이 되는 것을 말합니다."
   ]
  },
  {
   "cell_type": "markdown",
   "id": "15f54ce5-40c5-4bb0-bf6b-72d7ac406b49",
   "metadata": {
    "tags": []
   },
   "source": [
    "## 시리즈, 데이터프레임과 값 사이의 연산\n",
    "\n",
    "특정 값과 시리즈를 연산(사칙연산, 비교연산, 논리연산)하게 되면 특정 값을 시리즈와 같은 형태이고 모든 데이터가 특정 값으로 채워진 시리즈로 바꿔서 연산하게 됩니다.\n",
    "\n",
    "> **😃시리즈 브로드캐스팅 예시😃**\n",
    "\n",
    "특정 값과 데이터프레임을 연산(사칙연산, 비교연산, 논리연산)하게 되면 특정 값을 데이터프레임과 같은 형태이고 모든 데이터가 특정 값으로 채워진 데이터프레임으로 바꿔서 연산하게 됩니다.\n",
    "\n",
    "> **😃데이터프레임 브로드캐스팅 예시😃**"
   ]
  },
  {
   "cell_type": "code",
   "execution_count": null,
   "id": "afa543ec-c182-4b61-b598-db551c78b62b",
   "metadata": {},
   "outputs": [],
   "source": [
    "# 시리즈 브로드캐스팅 예시"
   ]
  },
  {
   "cell_type": "code",
   "execution_count": null,
   "id": "fa105ba1-455c-4231-8e98-08eff7ff0ae7",
   "metadata": {},
   "outputs": [],
   "source": [
    "# 데이터프레임 브로드캐스팅 예시"
   ]
  },
  {
   "cell_type": "markdown",
   "id": "c0a79b7d-6fa4-419c-87de-fa6d3d23c9dd",
   "metadata": {
    "tags": []
   },
   "source": [
    "## 시리즈와 데이터프레임 사이의 연산\n",
    "\n",
    "시리즈와 데이터프레임의 연산도 시리즈와 값, 데이터프레임과 값의 연산과 마찬가지로 이루어집니다.  \n",
    "두 데이터가 연산될 때 시리즈를 하나의 행으로 하여 데이터프레임의 행의 수와 동일한 행의 수를 가지는 시리즈를 만든 뒤 연산합니다.\n",
    "\n",
    "> **😃시리즈, 데이터프레임 브로드캐스팅 예시😃**\n",
    "\n",
    "> **⚠️ 주의(WARNING):**\n",
    ">\n",
    "> 시리즈를 데이터프레임과 같은 행의 수를 가지는 데이터프레임으로 바꾼 뒤 연산을 진행하기 때문에 이 때의 연산은 데이터프레임의 연산 규칙을 따르게 됩니다.\n",
    "\n",
    "> **⚠️ 주의(WARNING):**\n",
    ">\n",
    "> 브로드캐스팅을 적용하게 되면 데이터프레임간의 비교연산과는 다르게 시리즈에서 만들어진 데이터프레임과 연산하는 데이터프레임의 열이 다르더라도 오류가 발생하지 않습니다.\n",
    "\n",
    "\n",
    "> **😃크기다른 시리즈 데이터프레임 브로드캐스팅 예시😃**"
   ]
  },
  {
   "cell_type": "code",
   "execution_count": null,
   "id": "3b2dc784-beca-4a72-a2e9-dbe36a338fa2",
   "metadata": {},
   "outputs": [],
   "source": [
    "# 시리즈 브로드캐스팅 예시"
   ]
  },
  {
   "cell_type": "code",
   "execution_count": null,
   "id": "6328d34c-1099-4e0d-a078-be13574d3bfc",
   "metadata": {},
   "outputs": [],
   "source": [
    "# 시리즈 브로드캐스팅 크기 다를 때 예시"
   ]
  },
  {
   "cell_type": "markdown",
   "id": "b5e2dd9e-7266-417e-8c0f-1d8b2f5aa04b",
   "metadata": {},
   "source": [
    "### **💯 연습문제를 풀어봅시다**\n",
    "\n"
   ]
  },
  {
   "cell_type": "markdown",
   "id": "60ae2b52-3d19-470e-8d63-e7fc2fd00dbe",
   "metadata": {
    "tags": []
   },
   "source": [
    "1. 시리즈 값 브로드캐스팅\n",
    "2. 데이터프레임 값 브로드캐스팅\n",
    "3. 시리즈 데이터프레임 브로드캐스팅\n",
    "4. 시리즈 데이터프레임 브로드캐스팅(크기 다를 때)"
   ]
  }
 ],
 "metadata": {
  "kernelspec": {
   "display_name": "Python 3 (ipykernel)",
   "language": "python",
   "name": "python3"
  },
  "language_info": {
   "codemirror_mode": {
    "name": "ipython",
    "version": 3
   },
   "file_extension": ".py",
   "mimetype": "text/x-python",
   "name": "python",
   "nbconvert_exporter": "python",
   "pygments_lexer": "ipython3",
   "version": "3.10.9"
  }
 },
 "nbformat": 4,
 "nbformat_minor": 5
}
