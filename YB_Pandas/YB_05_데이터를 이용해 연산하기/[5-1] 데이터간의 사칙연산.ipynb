{
 "cells": [
  {
   "cell_type": "markdown",
   "id": "727ea7a9-bac0-4bb3-afbc-4981950e3fd1",
   "metadata": {
    "tags": []
   },
   "source": [
    "# **[5-1] 데이터간의 산술연산**"
   ]
  },
  {
   "cell_type": "markdown",
   "id": "0a5448d2-a09e-484c-adf2-6c2e5d0232b8",
   "metadata": {
    "tags": []
   },
   "source": [
    "## **🎯 학습 목표**\n",
    "**Pandas를 사용해 시리즈와 시리즈의 산술연산, 데이터프레임과 데이터프레임의 산술연산을 할 수 있습니다.**"
   ]
  },
  {
   "cell_type": "markdown",
   "id": "01cb348d-d551-4559-910d-6d97d46c0385",
   "metadata": {},
   "source": [
    "---"
   ]
  },
  {
   "cell_type": "markdown",
   "id": "b62f9ec4-a4dc-4da6-95b9-44b031ff13b1",
   "metadata": {
    "jp-MarkdownHeadingCollapsed": true,
    "tags": []
   },
   "source": [
    "여러 데이터를 가지고 있을때, 이들을 조합하여 새로운 결과를 이끌어낼 수 있습니다.  \n",
    "이러한 과정을 연산이라고 합니다.  \n",
    "Pandas의 데이터로 연산을 할 때에는 대상이 되는 데이터들의 shape 혹은 index에 따라 결과가 달라질 수 있습니다.  \n",
    "주의해야 할 점을 잘 확인하며 연산 방법을 배워봅시다.\n",
    "이번 시간에는 산술연산을 통해 데이터들의 합, 차, 곱, 몫을 계산하는 방법을 배웁니다.  "
   ]
  },
  {
   "cell_type": "markdown",
   "id": "3ae7119f-daf9-43cd-8796-ad68026d0a21",
   "metadata": {
    "tags": []
   },
   "source": [
    "## 열, 인덱스가 같은 경우의 산술연산\n",
    "\n",
    "데이터 간의 산술연산은 특별한 함수가 필요하지 않습니다.  \n",
    "시리즈, 데이터프레임 모두 같은 방식으로 연산이 가능합니다.  \n",
    "두 시리즈, 데이터프레임의 인덱스, 열이 같은 경우에는 같은 위치에 있는 데이터끼리 연산됩니다.\n",
    "\n",
    "> **시리즈의 산술연산**\n",
    ">\n",
    "> - **더하기** : Series1 + Series2 \n",
    "> - **빼기** : Series1 - Series2\n",
    "> - **곱하기** : Series1 * Series2\n",
    "> - **나누기** : Series1 / Series2  \n",
    "> - **거듭제곱** : Series1 ** Series2\n",
    "> - **몫** : Series1 // Series2\n",
    "> - **나머지** : Series1 % Series2  \n",
    ">\n",
    " \n",
    "> **데이터프레임의 산술연산**\n",
    ">\n",
    "> - **더하기** : DataFrame1 + DataFrame2 \n",
    "> - **빼기** : DataFrame1 - DataFrame2\n",
    "> - **곱하기** : DataFrame1 * DataFrame2\n",
    "> - **나누기** : DataFrame1 / DataFrame2   \n",
    "> - **거듭제곱** :DataFrame1 ** DataFrame2\n",
    "> - **몫** : DataFrame1 // DataFrame2\n",
    "> - **나머지** : DataFrame1 % DataFrame2\n",
    ">\n",
    "\n",
    "<table>\n",
    "<tr>\n",
    "    <th><img src=\"https://tmn-bucket-materials-all.s3.ap-northeast-2.amazonaws.com/image/pandas/material_05-02.png\" width=\"300\"></th>\n",
    "    <th><img src=\"https://tmn-bucket-materials-all.s3.ap-northeast-2.amazonaws.com/image/pandas/material_05-03.png\" width=\"450\"></th>\n",
    "</tr>\n",
    "<tr>\n",
    "    <th>시리즈간의 산술연산</th>\n",
    "    <th>데이터프레임간의 산술연산</th>\n",
    "</tr>\n",
    "</table>"
   ]
  },
  {
   "cell_type": "code",
   "execution_count": null,
   "id": "b1cf9e3f-bb20-4b76-b54c-5132943c4623",
   "metadata": {},
   "outputs": [],
   "source": [
    "# 예제_1_크기와_인덱스가_같은_시리즈_사이의_산술연산\n",
    "\n",
    "import pandas as pd\n",
    "\n",
    "A = pd.Series([1,2,3])\n",
    "B = pd.Series([4,5,6])\n",
    "\n",
    "print('#'*30, f\"{'A':^15s}\" , '#' * 30, '\\n') # 출력되는 결과들을 분리해서 보여주기 위한 코드입니다.\n",
    "print(A)\n",
    "print('\\n','#'*30, f\"{'B':^15s}\" , '#' * 30, '\\n') # 출력되는 결과들을 분리해서 보여주기 위한 코드입니다.\n",
    "print(B)\n",
    "print('\\n','#'*30, f\"{'A + B':^15s}\" , '#' * 30, '\\n') # 출력되는 결과들을 분리해서 보여주기 위한 코드입니다.\n",
    "print(A+B)\n",
    "print('\\n','#'*30, f\"{'A - B':^15s}\" , '#' * 30, '\\n') # 출력되는 결과들을 분리해서 보여주기 위한 코드입니다.\n",
    "print(A-B)\n",
    "print('\\n','#'*30, f\"{'A * B':^15s}\" , '#' * 30, '\\n') # 출력되는 결과들을 분리해서 보여주기 위한 코드입니다.\n",
    "print(A*B)\n",
    "print('\\n','#'*30, f\"{'A / B':^15s}\" , '#' * 30, '\\n') # 출력되는 결과들을 분리해서 보여주기 위한 코드입니다.\n",
    "print(A/B)\n",
    "print('\\n','#'*30, f\"{'A ** B':^15s}\" , '#' * 30, '\\n') # 출력되는 결과들을 분리해서 보여주기 위한 코드입니다.\n",
    "print(A**B)\n",
    "print('\\n','#'*30, f\"{'A // B':^15s}\" , '#' * 30, '\\n') # 출력되는 결과들을 분리해서 보여주기 위한 코드입니다.\n",
    "print(A//B)\n",
    "print('\\n','#'*30, f\"{'A % B':^15s}\" , '#' * 30, '\\n') # 출력되는 결과들을 분리해서 보여주기 위한 코드입니다.\n",
    "print(A%B)"
   ]
  },
  {
   "cell_type": "code",
   "execution_count": null,
   "id": "ee374497-9e8a-4202-b666-8e8ed3115b99",
   "metadata": {},
   "outputs": [],
   "source": [
    "# 예제_2_형태와_인덱스_열이_같은_데이터프레임_사이의_산술연산\n",
    "\n",
    "import pandas as pd\n",
    "\n",
    "A = pd.DataFrame([[1,2,3],[4,5,6]])\n",
    "B = pd.DataFrame([[6,5,4],[3,2,1]])\n",
    "\n",
    "print('#'*30, f\"{'A':^15s}\" , '#' * 30, '\\n') # 출력되는 결과들을 분리해서 보여주기 위한 코드입니다.\n",
    "print(A)\n",
    "print('\\n','#'*30, f\"{'B':^15s}\" , '#' * 30, '\\n') # 출력되는 결과들을 분리해서 보여주기 위한 코드입니다.\n",
    "print(B)\n",
    "print('\\n','#'*30, f\"{'A + B':^15s}\" , '#' * 30, '\\n') # 출력되는 결과들을 분리해서 보여주기 위한 코드입니다.\n",
    "print(A+B)\n",
    "print('\\n','#'*30, f\"{'A - B':^15s}\" , '#' * 30, '\\n') # 출력되는 결과들을 분리해서 보여주기 위한 코드입니다.\n",
    "print(A-B)\n",
    "print('\\n','#'*30, f\"{'A * B':^15s}\" , '#' * 30, '\\n') # 출력되는 결과들을 분리해서 보여주기 위한 코드입니다.\n",
    "print(A*B)\n",
    "print('\\n','#'*30, f\"{'A / B':^15s}\" , '#' * 30, '\\n') # 출력되는 결과들을 분리해서 보여주기 위한 코드입니다.\n",
    "print(A/B)\n",
    "print('\\n','#'*30, f\"{'A ** B':^15s}\" , '#' * 30, '\\n') # 출력되는 결과들을 분리해서 보여주기 위한 코드입니다.\n",
    "print(A**B)\n",
    "print('\\n','#'*30, f\"{'A // B':^15s}\" , '#' * 30, '\\n') # 출력되는 결과들을 분리해서 보여주기 위한 코드입니다.\n",
    "print(A//B)\n",
    "print('\\n','#'*30, f\"{'A % B':^15s}\" , '#' * 30, '\\n') # 출력되는 결과들을 분리해서 보여주기 위한 코드입니다.\n",
    "print(A%B)"
   ]
  },
  {
   "cell_type": "markdown",
   "id": "bf018a28-2eef-44d2-a11c-3d264145d507",
   "metadata": {},
   "source": [
    "## 열, 인덱스가 다른 경우의 산술연산\n",
    "\n",
    "열, 인덱스가 다른 경우에도 마찬가지의 방법으로 산술연산을 할 수 있습니다.  \n",
    "시리즈, 데이터프레임 모두 같은 방식으로 연산이 가능합니다.  \n",
    "Pandas의 데이터 간 산술연산은 시리즈, 데이터프레임의 모양이 같다고 해서 같은 위치의 데이터끼리 연산되지는 않습니다.  \n",
    "이 때에는 같은 인덱스와 같은 열이름을 가진 데이터끼리 연산됩니다.\n",
    "\n",
    "> **✏️ 알아봅시다(NOTE): NaN은 어떻게 계산되나요?(산술연산)**\n",
    ">\n",
    "> NaN은 비어 있는 값이기 때문에 산술연산 결과를 알 수 없습니다.\n",
    "> 따라서 NaN과의 산술연산은 무조건 NaN이 결과가 됩니다.\n",
    "\n",
    "> **⚠️ 주의(WARNING):**\n",
    ">\n",
    "> 열, 인덱스가 다를 때 산술연산을 할 때 인덱스와 같은 열이름을 가진 데이터가 한쪽에만 존재할 경우, 해당 공간에는 빈 데이터(NaN)가 들어가게 됩니다.  \n",
    "> 이는 해당 인덱스와 열이 없는 시리즈, 데이터프레임에서 데이터가 NaN으로 취급되기 때문입니다.\n",
    "\n",
    "<table>\n",
    "<tr>\n",
    "    <th><img src=\"https://tmn-bucket-materials-all.s3.ap-northeast-2.amazonaws.com/image/pandas/material_05-04.png\" width=\"300\"></th>\n",
    "    <th><img src=\"https://tmn-bucket-materials-all.s3.ap-northeast-2.amazonaws.com/image/pandas/material_05-05.png\" width=\"300\"></th>\n",
    "</tr>\n",
    "<tr>\n",
    "    <th>인덱스가 다른 시리즈 간의 연산</th>\n",
    "    <th>인덱스, 열이 다른 데이터프레임 간의 연산</th>\n",
    "</tr>\n",
    "</table>\n",
    "\n",
    "두 시리즈, 데이터프레임의 형태가 다른 경우에도 마찬가지로 인덱스와 열을 기반으로 연산됩니다. \n",
    "\n",
    "<table>\n",
    "<tr>\n",
    "    <th><img src=\"https://tmn-bucket-materials-all.s3.ap-northeast-2.amazonaws.com/image/pandas/material_05-06.png\" width=\"300\"></th>\n",
    "</tr>\n",
    "<tr>\n",
    "    <th>형태가 다른 데이터프레임 연산</th>\n",
    "</tr>\n",
    "</table>"
   ]
  },
  {
   "cell_type": "code",
   "execution_count": null,
   "id": "571e45ec-7d76-4a11-b077-abeaf2f8c963",
   "metadata": {},
   "outputs": [],
   "source": [
    "# 예제_3_크기는_같지만_인덱스가_다른_시리즈_사이의_산술연산\n",
    "\n",
    "import pandas as pd\n",
    "\n",
    "A = pd.Series([1,2,3], index = [0,1,2])\n",
    "B = pd.Series([4,5,6], index = [3,2,1])\n",
    "\n",
    "print('#'*30, f\"{'A':^15s}\" , '#' * 30, '\\n') # 출력되는 결과들을 분리해서 보여주기 위한 코드입니다.\n",
    "print(A)\n",
    "print('\\n','#'*30, f\"{'B':^15s}\" , '#' * 30, '\\n') # 출력되는 결과들을 분리해서 보여주기 위한 코드입니다.\n",
    "print(B)\n",
    "print('\\n','#'*30, f\"{'A + B':^15s}\" , '#' * 30, '\\n') # 출력되는 결과들을 분리해서 보여주기 위한 코드입니다.\n",
    "print(A+B)\n",
    "print('\\n','#'*30, f\"{'A - B':^15s}\" , '#' * 30, '\\n') # 출력되는 결과들을 분리해서 보여주기 위한 코드입니다.\n",
    "print(A-B)\n",
    "print('\\n','#'*30, f\"{'A * B':^15s}\" , '#' * 30, '\\n') # 출력되는 결과들을 분리해서 보여주기 위한 코드입니다.\n",
    "print(A*B)\n",
    "print('\\n','#'*30, f\"{'A / B':^15s}\" , '#' * 30, '\\n') # 출력되는 결과들을 분리해서 보여주기 위한 코드입니다.\n",
    "print(A/B)\n",
    "print('\\n','#'*30, f\"{'A ** B':^15s}\" , '#' * 30, '\\n') # 출력되는 결과들을 분리해서 보여주기 위한 코드입니다.\n",
    "print(A**B)\n",
    "print('\\n','#'*30, f\"{'A // B':^15s}\" , '#' * 30, '\\n') # 출력되는 결과들을 분리해서 보여주기 위한 코드입니다.\n",
    "print(A//B)\n",
    "print('\\n','#'*30, f\"{'A % B':^15s}\" , '#' * 30, '\\n') # 출력되는 결과들을 분리해서 보여주기 위한 코드입니다.\n",
    "print(A%B)"
   ]
  },
  {
   "cell_type": "code",
   "execution_count": null,
   "id": "5108f6d7-e764-4d92-8afc-eb0978374ec8",
   "metadata": {},
   "outputs": [],
   "source": [
    "# 예제_4_형태는_같지만_인덱스_열이_다른_데이터프레임_사이의_산술연산\n",
    "\n",
    "import pandas as pd\n",
    "\n",
    "A = pd.DataFrame([[1,2,3],[4,5,6]], index = [0,1], columns = ['A', 'B', 'C'])\n",
    "B = pd.DataFrame([[6,5,4],[3,2,1]], index = [0,2], columns = ['B', 'C', 'D'])\n",
    "\n",
    "print('#'*30, f\"{'A':^15s}\" , '#' * 30, '\\n') # 출력되는 결과들을 분리해서 보여주기 위한 코드입니다.\n",
    "print(A)\n",
    "print('\\n','#'*30, f\"{'B':^15s}\" , '#' * 30, '\\n') # 출력되는 결과들을 분리해서 보여주기 위한 코드입니다.\n",
    "print(B)\n",
    "print('\\n','#'*30, f\"{'A + B':^15s}\" , '#' * 30, '\\n') # 출력되는 결과들을 분리해서 보여주기 위한 코드입니다.\n",
    "print(A+B)\n",
    "print('\\n','#'*30, f\"{'A - B':^15s}\" , '#' * 30, '\\n') # 출력되는 결과들을 분리해서 보여주기 위한 코드입니다.\n",
    "print(A-B)\n",
    "print('\\n','#'*30, f\"{'A * B':^15s}\" , '#' * 30, '\\n') # 출력되는 결과들을 분리해서 보여주기 위한 코드입니다.\n",
    "print(A*B)\n",
    "print('\\n','#'*30, f\"{'A / B':^15s}\" , '#' * 30, '\\n') # 출력되는 결과들을 분리해서 보여주기 위한 코드입니다.\n",
    "print(A/B)\n",
    "print('\\n','#'*30, f\"{'A ** B':^15s}\" , '#' * 30, '\\n') # 출력되는 결과들을 분리해서 보여주기 위한 코드입니다.\n",
    "print(A**B)\n",
    "print('\\n','#'*30, f\"{'A // B':^15s}\" , '#' * 30, '\\n') # 출력되는 결과들을 분리해서 보여주기 위한 코드입니다.\n",
    "print(A//B)\n",
    "print('\\n','#'*30, f\"{'A % B':^15s}\" , '#' * 30, '\\n') # 출력되는 결과들을 분리해서 보여주기 위한 코드입니다.\n",
    "print(A%B)"
   ]
  },
  {
   "cell_type": "code",
   "execution_count": null,
   "id": "f4f0ca94-ebad-4b63-87bc-8d2940d8abc5",
   "metadata": {},
   "outputs": [],
   "source": [
    "# 예제_5_형태가_다른_데이터프레임_사이의_산술연산\n",
    "\n",
    "import pandas as pd\n",
    "\n",
    "A = pd.DataFrame([[1,2],[3,4],[5,6]], index = [0,1,2], columns = ['A', 'B'])\n",
    "B = pd.DataFrame([[1,2,3],[4,5,6]], index = [0,1], columns = ['A','B','C'])\n",
    "\n",
    "print('#'*30, f\"{'A':^15s}\" , '#' * 30, '\\n') # 출력되는 결과들을 분리해서 보여주기 위한 코드입니다.\n",
    "print(A)\n",
    "print('\\n','#'*30, f\"{'B':^15s}\" , '#' * 30, '\\n') # 출력되는 결과들을 분리해서 보여주기 위한 코드입니다.\n",
    "print(B)\n",
    "print('\\n','#'*30, f\"{'A + B':^15s}\" , '#' * 30, '\\n') # 출력되는 결과들을 분리해서 보여주기 위한 코드입니다.\n",
    "print(A+B)\n",
    "print('\\n','#'*30, f\"{'A - B':^15s}\" , '#' * 30, '\\n') # 출력되는 결과들을 분리해서 보여주기 위한 코드입니다.\n",
    "print(A-B)\n",
    "print('\\n','#'*30, f\"{'A * B':^15s}\" , '#' * 30, '\\n') # 출력되는 결과들을 분리해서 보여주기 위한 코드입니다.\n",
    "print(A*B)\n",
    "print('\\n','#'*30, f\"{'A / B':^15s}\" , '#' * 30, '\\n') # 출력되는 결과들을 분리해서 보여주기 위한 코드입니다.\n",
    "print(A/B)\n",
    "print('\\n','#'*30, f\"{'A ** B':^15s}\" , '#' * 30, '\\n') # 출력되는 결과들을 분리해서 보여주기 위한 코드입니다.\n",
    "print(A**B)\n",
    "print('\\n','#'*30, f\"{'A // B':^15s}\" , '#' * 30, '\\n') # 출력되는 결과들을 분리해서 보여주기 위한 코드입니다.\n",
    "print(A//B)\n",
    "print('\\n','#'*30, f\"{'A % B':^15s}\" , '#' * 30, '\\n') # 출력되는 결과들을 분리해서 보여주기 위한 코드입니다.\n",
    "print(A%B)"
   ]
  },
  {
   "cell_type": "markdown",
   "id": "fe678dd2-bc93-4de0-b7fb-af2f14f28c4c",
   "metadata": {},
   "source": [
    "### **💯 연습문제를 풀어봅시다**\n",
    "\n"
   ]
  },
  {
   "cell_type": "markdown",
   "id": "e81369d9-b359-4902-b6f9-5064cb41ca75",
   "metadata": {
    "tags": []
   },
   "source": [
    "1. <a class=\"jcecodle-mk jcecodle-mk__problem-chip\" data-problem-id=\"Xtrlc_bCbtE\" href='#jce-judge/open/Xtrlc_bCbtE' target='_self'><span>판다스 - 데이터 간 사칙연산 (1)</span></a>\n",
    "\n",
    "2. <a class=\"jcecodle-mk jcecodle-mk__problem-chip\" data-problem-id=\"Q7oNmKNgX78\" href='#jce-judge/open/Q7oNmKNgX78' target='_self'><span>빼고 곱하기</span></a>\n",
    "\n",
    "\n",
    "3. <a class=\"jcecodle-mk jcecodle-mk__problem-chip\" data-problem-id=\"PZDPU0vB73I\" href='#jce-judge/open/PZDPU0vB73I' target='_self'><span>빼고 더하기</span></a>\n",
    "\n",
    "\n",
    "2. <a class=\"jcecodle-mk jcecodle-mk__problem-chip\" data-problem-id=\"-Vj7ud9-Ozo\" href='#jce-judge/open/-Vj7ud9-Ozo' target='_self'><span>판다스 - 데이터 간 사칙연산 (2)</span></a>\n",
    "\n",
    "4. <a class=\"jcecodle-mk jcecodle-mk__problem-chip\" data-problem-id=\"wvkHK-RzhiU\" href='#jce-judge/open/wvkHK-RzhiU' target='_self'><span>출생연도와 학번</span></a>\n",
    "\n",
    "\n",
    "5. <a class=\"jcecodle-mk jcecodle-mk__problem-chip\" data-problem-id=\"ptPDSw-zES8\" href='#jce-judge/open/ptPDSw-zES8' target='_self'><span>인덱스 다른 데이터 3개</span></a>\n",
    "\n",
    "\n",
    "3. <a class=\"jcecodle-mk jcecodle-mk__problem-chip\" data-problem-id=\"h7X7CbcCYRw\" href='#jce-judge/open/h7X7CbcCYRw' target='_self'><span>판다스 - 데이터 간 사칙연산 (3)</span></a>\n",
    "\n",
    "6. <a class=\"jcecodle-mk jcecodle-mk__problem-chip\" data-problem-id=\"uMaAZRsho9E\" href='#jce-judge/open/uMaAZRsho9E' target='_self'><span>크기가 다른 데이터</span></a>\n",
    "\n",
    "\n",
    "7. <a class=\"jcecodle-mk jcecodle-mk__problem-chip\" data-problem-id=\"UfvzpSUUK1o\" href='#jce-judge/open/UfvzpSUUK1o' target='_self'><span>크기, 인덱스 다른 데이터</span></a>\n"
   ]
  }
 ],
 "metadata": {
  "kernelspec": {
   "display_name": "Python 3 (ipykernel)",
   "language": "python",
   "name": "python3"
  },
  "language_info": {
   "codemirror_mode": {
    "name": "ipython",
    "version": 3
   },
   "file_extension": ".py",
   "mimetype": "text/x-python",
   "name": "python",
   "nbconvert_exporter": "python",
   "pygments_lexer": "ipython3",
   "version": "3.8.10"
  }
 },
 "nbformat": 4,
 "nbformat_minor": 5
}
