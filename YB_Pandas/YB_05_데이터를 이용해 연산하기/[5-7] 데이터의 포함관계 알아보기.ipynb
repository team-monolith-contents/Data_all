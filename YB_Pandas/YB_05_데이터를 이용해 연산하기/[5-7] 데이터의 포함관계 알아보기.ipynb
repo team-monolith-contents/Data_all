{
 "cells": [
  {
   "cell_type": "markdown",
   "id": "727ea7a9-bac0-4bb3-afbc-4981950e3fd1",
   "metadata": {
    "tags": []
   },
   "source": [
    "# **[5-7] 데이터의 포함관계 알아보기**"
   ]
  },
  {
   "cell_type": "markdown",
   "id": "0a5448d2-a09e-484c-adf2-6c2e5d0232b8",
   "metadata": {
    "tags": []
   },
   "source": [
    "## **🎯 학습 목표**\n",
    "**Pandas를 사용해 시리즈, 데이터프레임의 데이터들이 주어진 목록에 포함되어 있는지 알아봅시다.**"
   ]
  },
  {
   "cell_type": "markdown",
   "id": "01cb348d-d551-4559-910d-6d97d46c0385",
   "metadata": {},
   "source": [
    "---"
   ]
  },
  {
   "cell_type": "markdown",
   "id": "74b23a29-3387-403c-ba6c-bb0072a6d832",
   "metadata": {
    "tags": []
   },
   "source": [
    "데이터가 특정 목록에 포함되는 지를 `isin()` 함수를 이용해 간단하게 알아볼 수 있습니다.\n",
    "\n",
    "> **🔨 함수(FUNCTIONS):**\n",
    ">\n",
    "> **`Series.isin(values = 리스트)`**  \n",
    "> 시리즈의 각각의 데이터들이 매개변수로 받은 `리스트`에 포함되어 있는 지 여부를 True/False로 반환합니다.\n",
    ">> **매개변수(parameter)**\n",
    ">>\n",
    ">> **`values`** : 리스트 형태로 전달됩니다.   \n",
    "> 각 데이터가 매개변수로 받은 리스트에 포함되어 있을 경우 `True`, 포함되지 않을 경우 `False`로 데이터를 채워 반환합니다.\n",
    "> 반환되는 시리즈의 모양은 함수를 사용하는 시리즈와 동일합니다.  \n",
    "> ---\n",
    "> **`DataFrame.isin(values = 리스트)`**  \n",
    "> 데이터프레임의 각각의 데이터들이 매개변수로 받은 `리스트`에 포함되어 있는 지 여부를 True/False로 반환합니다.\n",
    ">> **매개변수(parameter)**\n",
    ">>\n",
    ">> **`values`** : 리스트 형태로 전달됩니다.   \n",
    "> 각 데이터가 매개변수로 받은 리스트에 포함되어 있을 경우 `True`, 포함되지 않을 경우 `False`로 데이터를 채워 반환합니다.  \n",
    "> 반환되는 데이터프레임의 모양은 함수를 사용하는 데이터프레임와 동일합니다.  \n",
    "\n"
   ]
  },
  {
   "cell_type": "markdown",
   "id": "9d4af332-d874-426d-975a-ba3144c87d25",
   "metadata": {},
   "source": [
    "## isin() 함수로 데이터의 포함 여부 확인하기\n",
    "\n",
    "`isin()` 함수를 사용하면 데이터의 포함 여부를 확인할 수 있습니다.  \n",
    "매개변수로 포함여부를 판단할 목록을 주어야 합니다.\n",
    "\n",
    "<table>\n",
    "<tr>\n",
    "    <th><img src=\"https://tmn-bucket-materials-all.s3.ap-northeast-2.amazonaws.com/image/pandas/material_05-18.png\" width=\"700\"></th>\n",
    "    </tr>\n",
    "<tr>\n",
    "    <th>isin() 함수를 이용한 데이터의 포함 여부 확인</th>\n",
    "</tr>\n",
    "</table>"
   ]
  },
  {
   "cell_type": "code",
   "execution_count": null,
   "id": "60baea6f-3764-4edf-8f1e-9feb40a542a8",
   "metadata": {
    "tags": []
   },
   "outputs": [],
   "source": [
    "# 예제_1_시리즈의_데이터_포함여부\n",
    "\n",
    "import pandas as pd\n",
    "\n",
    "A = pd.Series(['사과','바나나', '고양이', 'apple', 'banana', 'cat'])\n",
    "B = ['사과','banana']\n",
    "\n",
    "print('#'*30, f\"{'A':^15s}\" , '#' * 30, '\\n') # 출력되는 결과들을 분리해서 보여주기 위한 코드입니다.\n",
    "print(A)\n",
    "print('#'*30, f\"{'A.isin(B)':^15s}\" , '#' * 30, '\\n') # 출력되는 결과들을 분리해서 보여주기 위한 코드입니다.\n",
    "print(A.isin(B))"
   ]
  },
  {
   "cell_type": "code",
   "execution_count": null,
   "id": "1a3bd926-852a-4448-b019-8f9b9d874786",
   "metadata": {
    "tags": []
   },
   "outputs": [],
   "source": [
    "# 예제_2_데이터프레임의_데이터_포함여부\n",
    "\n",
    "import pandas as pd\n",
    "\n",
    "A = pd.DataFrame([['사과', 'apple'], ['바나나', 'banana'],['고양이', 'cat']])\n",
    "B = ['사과','banana']\n",
    "\n",
    "print('#'*30, f\"{'A':^15s}\" , '#' * 30, '\\n') # 출력되는 결과들을 분리해서 보여주기 위한 코드입니다.\n",
    "print(A)\n",
    "print('#'*30, f\"{'A.isin(B)':^15s}\" , '#' * 30, '\\n') # 출력되는 결과들을 분리해서 보여주기 위한 코드입니다.\n",
    "print(A.isin(B))"
   ]
  },
  {
   "cell_type": "markdown",
   "id": "f7336d7b-9217-498f-816d-7206d45c0d74",
   "metadata": {},
   "source": [
    "### **💯 연습문제를 풀어봅시다**\n",
    "\n"
   ]
  },
  {
   "cell_type": "markdown",
   "id": "82be737c-bab8-42ad-953a-e1e12e5da1f7",
   "metadata": {
    "tags": []
   },
   "source": [
    "1. <a class=\"jcecodle-mk jcecodle-mk__problem-chip\" data-problem-id=\"rmsBS7UPIBE\" href='#jce-judge/open/rmsBS7UPIBE' target='_self'><span>판다스 - 시리즈 포함관계</span></a>\n",
    "\n",
    "2. <a class=\"jcecodle-mk jcecodle-mk__problem-chip\" data-problem-id=\"PAgT9s6XUZs\" href='#jce-judge/open/PAgT9s6XUZs' target='_self'><span>동물원에 포함된 동물</span></a>\n",
    "\n",
    "3. <a class=\"jcecodle-mk jcecodle-mk__problem-chip\" data-problem-id=\"P-vtszkk64s\" href='#jce-judge/open/P-vtszkk64s' target='_self'><span>판다스 - 데이터 프레임의 포함관계</span></a>\n",
    "\n",
    "4. <a class=\"jcecodle-mk jcecodle-mk__problem-chip\" data-problem-id=\"kW8wfufyjJo\" href='#jce-judge/open/kW8wfufyjJo' target='_self'><span>대회 출전자 확인</span></a>\n",
    "\n",
    "5. <a class=\"jcecodle-mk jcecodle-mk__problem-chip\" data-problem-id=\"iYIyrE6XeXg\" href='#jce-judge/open/iYIyrE6XeXg' target='_self'><span>대회 출전자 중 1반</span></a>\n",
    "\n"
   ]
  }
 ],
 "metadata": {
  "kernelspec": {
   "display_name": "Python 3 (ipykernel)",
   "language": "python",
   "name": "python3"
  },
  "language_info": {
   "codemirror_mode": {
    "name": "ipython",
    "version": 3
   },
   "file_extension": ".py",
   "mimetype": "text/x-python",
   "name": "python",
   "nbconvert_exporter": "python",
   "pygments_lexer": "ipython3",
   "version": "3.8.10"
  }
 },
 "nbformat": 4,
 "nbformat_minor": 5
}
