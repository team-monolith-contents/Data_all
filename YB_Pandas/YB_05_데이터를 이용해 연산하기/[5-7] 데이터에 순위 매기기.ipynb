{
 "cells": [
  {
   "cell_type": "code",
   "execution_count": 2,
   "id": "fcfdd5f9-ed84-4b24-ad62-e43af9837768",
   "metadata": {},
   "outputs": [],
   "source": [
    "import pandas as pd"
   ]
  },
  {
   "cell_type": "markdown",
   "id": "727ea7a9-bac0-4bb3-afbc-4981950e3fd1",
   "metadata": {
    "tags": []
   },
   "source": [
    "# **[5-7] 데이터에 순위 매기기**"
   ]
  },
  {
   "cell_type": "markdown",
   "id": "0a5448d2-a09e-484c-adf2-6c2e5d0232b8",
   "metadata": {
    "tags": []
   },
   "source": [
    "## **🎯 학습 목표**\n",
    "**데이터에 순위를 매겨봅시다.**"
   ]
  },
  {
   "cell_type": "markdown",
   "id": "01cb348d-d551-4559-910d-6d97d46c0385",
   "metadata": {},
   "source": [
    "---"
   ]
  },
  {
   "cell_type": "markdown",
   "id": "4202287d-dd36-4db5-9bf6-860e23880767",
   "metadata": {
    "tags": []
   },
   "source": [
    "데이터의 순위를 메기고 싶을 때에는 `rank()` 함수를 사용할 수 있습니다.\n",
    "\n",
    "> **🔨 함수(FUNCTIONS):**\n",
    ">\n",
    "> **`Series.rank(ascending=True_또는_False)`**  \n",
    "> 시리즈의 데이터를 크기 순으로 정렬하여 순위를 메겨서 그 결과를 시리즈로 반환합니다.\n",
    ">> **매개변수(parameter)**\n",
    ">>\n",
    ">> **`ascending`** : True 또는 False가 전달됩니다.   \n",
    ">> True일 경우 오름차순으로 정렬하여 순위를 메기고 False일 경우 내림차순으로 정렬하여 순위를 메깁니다.  \n",
    ">> 기본값은 True로 오름차순으로 정렬합니다.\n",
    "> ---\n",
    "> **`DataFrame.rank(axis = 0_또는_1, ascending=True_또는_False)`**  \n",
    "> 데이터프레임의 데이터를 크기 순으로 정렬하여 순위를 메겨서 그 결과를 데이터프레임으로 반환합니다.\n",
    ">> **매개변수(parameter)**\n",
    ">>\n",
    ">> **`axis`** : 0 또는 1이 전달됩니다.   \n",
    ">> 0일 경우 열에서의 순위를 반환하고 1일 경우 행에서의 순위를 반환합니다.  \n",
    ">> 기본값은 0으로 열에서 순위가 기본값입니다.  \n",
    ">> **`ascending`** : True 또는 False가 전달됩니다.   \n",
    ">> True일 경우 오름차순으로 정렬하여 순위를 메기고 False일 경우 내림차순으로 정렬하여 순위를 메깁니다.  \n",
    ">> 기본값은 True로 오름차순으로 정렬합니다.\n",
    "> ---\n",
    "\n"
   ]
  },
  {
   "cell_type": "markdown",
   "id": "586a7d75-f033-4df0-8cf3-45035f0ecc13",
   "metadata": {},
   "source": [
    "## rank()로 데이터의 순위를 메깁니다.\n",
    "\n",
    "`rank()` 함수를 사용하면 데이터의 순위를 메길 수 있습니다.  \n",
    "매개변수를 주어 순위를 메길 방향, 오름차순, 내림차순 여부 등을 설정할 수 있습니다.  \n",
    "\n",
    "**😃rank()😃**"
   ]
  },
  {
   "cell_type": "code",
   "execution_count": null,
   "id": "3e5a8d78-6354-4371-9d3f-8c0bd5b74b77",
   "metadata": {
    "tags": []
   },
   "outputs": [],
   "source": [
    "# 시리즈 랭크"
   ]
  },
  {
   "cell_type": "code",
   "execution_count": null,
   "id": "90b4987f-13b5-447d-9003-89e688d3f154",
   "metadata": {
    "tags": []
   },
   "outputs": [],
   "source": [
    "# 데이터프레임 랭크"
   ]
  },
  {
   "cell_type": "code",
   "execution_count": null,
   "id": "d2b74747-af8d-4aae-bea6-3fad72f25605",
   "metadata": {
    "tags": []
   },
   "outputs": [],
   "source": [
    "# 데이터프레임 axis"
   ]
  },
  {
   "cell_type": "code",
   "execution_count": null,
   "id": "67af0f17-77b4-4ccf-8e07-3a7e1ed6089b",
   "metadata": {
    "tags": []
   },
   "outputs": [],
   "source": [
    "# 데이터프레임 ascending"
   ]
  },
  {
   "cell_type": "markdown",
   "id": "23102c4d-4c85-4d59-bf9e-84502596dc3f",
   "metadata": {},
   "source": [
    "### **💯 연습문제를 풀어봅시다**\n",
    "\n"
   ]
  },
  {
   "cell_type": "markdown",
   "id": "cb46131b-d917-4d5d-9aaf-5666d5f1112b",
   "metadata": {
    "tags": []
   },
   "source": [
    "1. <a class=\"jcecodle-mk jcecodle-mk__problem-chip\" data-problem-id=\"QCIVQ-01EuM\" href='#jce-judge/open/QCIVQ-01EuM' target='_self'><span>판다스 - 데이터 연산하기 - rank</span></a>\n",
    "2. 시리즈 랭크\n",
    "3. 데이터프레임 axis\n",
    "4. 데이터프레임 ascending"
   ]
  }
 ],
 "metadata": {
  "kernelspec": {
   "display_name": "Python 3 (ipykernel)",
   "language": "python",
   "name": "python3"
  },
  "language_info": {
   "codemirror_mode": {
    "name": "ipython",
    "version": 3
   },
   "file_extension": ".py",
   "mimetype": "text/x-python",
   "name": "python",
   "nbconvert_exporter": "python",
   "pygments_lexer": "ipython3",
   "version": "3.10.9"
  }
 },
 "nbformat": 4,
 "nbformat_minor": 5
}
