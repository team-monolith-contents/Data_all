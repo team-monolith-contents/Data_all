{
 "cells": [
  {
   "cell_type": "markdown",
   "id": "727ea7a9-bac0-4bb3-afbc-4981950e3fd1",
   "metadata": {
    "tags": []
   },
   "source": [
    "# **[5-8] 데이터에 순위 매기기**"
   ]
  },
  {
   "cell_type": "markdown",
   "id": "0a5448d2-a09e-484c-adf2-6c2e5d0232b8",
   "metadata": {
    "tags": []
   },
   "source": [
    "## **🎯 학습 목표**\n",
    "**Pandas를 사용해 시리즈, 데이터프레임 안의 각 데이터들의 크기 순서를 매겨봅시다.**"
   ]
  },
  {
   "cell_type": "markdown",
   "id": "01cb348d-d551-4559-910d-6d97d46c0385",
   "metadata": {},
   "source": [
    "---"
   ]
  },
  {
   "cell_type": "markdown",
   "id": "4202287d-dd36-4db5-9bf6-860e23880767",
   "metadata": {
    "tags": []
   },
   "source": [
    "데이터의 순위를 매기고 싶을 때에는 `rank()` 함수를 사용할 수 있습니다.\n",
    "\n",
    "> **🔨 함수(FUNCTIONS):**\n",
    ">\n",
    "> **`Series.rank(ascending=True_또는_False)`**  \n",
    "> 시리즈의 데이터를 크기 순으로 정렬하여 순위를 매겨서 그 결과를 시리즈로 반환합니다.\n",
    ">> **매개변수(parameter)**\n",
    ">>\n",
    ">> **`ascending`** : True 또는 False가 전달됩니다.   \n",
    ">> True일 경우 오름차순으로 정렬하여 순위를 매기고 False일 경우 내림차순으로 정렬하여 순위를 매깁니다.  \n",
    ">> 기본값은 True로 오름차순으로 정렬합니다.\n",
    "> ---\n",
    "> **`DataFrame.rank(axis = 0_또는_1, ascending=True_또는_False)`**  \n",
    "> 데이터프레임의 데이터를 크기 순으로 정렬하여 순위를  매겨서 그 결과를 데이터프레임으로 반환합니다.\n",
    ">> **매개변수(parameter)**\n",
    ">>\n",
    ">> **`axis`** : 0 또는 1이 전달됩니다.   \n",
    ">> 0일 경우 열에서의 순위를 반환하고 1일 경우 행에서의 순위를 반환합니다.  \n",
    ">> 기본값은 0으로 열에서 순위가 기본값입니다.  \n",
    ">> **`ascending`** : True 또는 False가 전달됩니다.   \n",
    ">> True일 경우 오름차순으로 정렬하여 순위를 매기고 False일 경우 내림차순으로 정렬하여 순위를 매깁니다.  \n",
    ">> 기본값은 True로 오름차순으로 정렬합니다.\n",
    "> ---\n",
    "\n"
   ]
  },
  {
   "cell_type": "markdown",
   "id": "586a7d75-f033-4df0-8cf3-45035f0ecc13",
   "metadata": {},
   "source": [
    "## rank()로 데이터의 순위를 매깁니다.\n",
    "\n",
    "`rank()` 함수를 사용하면 데이터의 순위를 매길 수 있습니다.  \n",
    "매개변수를 주어 순위를 매길 방향, 오름차순, 내림차순 여부 등을 설정할 수 있습니다.  \n",
    "\n",
    "<table>\n",
    "<tr>\n",
    "    <th><img src=\"https://tmn-bucket-materials-all.s3.ap-northeast-2.amazonaws.com/image/pandas/material_05-19.png\" width=\"700\"></th>\n",
    "    </tr>\n",
    "<tr>\n",
    "    <th>rank() 함수를 이용한 순위 매기기</th>\n",
    "</tr>\n",
    "</table>"
   ]
  },
  {
   "cell_type": "code",
   "execution_count": null,
   "id": "3e5a8d78-6354-4371-9d3f-8c0bd5b74b77",
   "metadata": {
    "tags": []
   },
   "outputs": [],
   "source": [
    "# 예제_1_시리즈의_데이터_순위매기기\n",
    "\n",
    "import pandas as pd\n",
    "\n",
    "A = pd.Series([2,5,3,6,1,4])\n",
    "\n",
    "print('#'*30, f\"{'A':^15s}\" , '#' * 30, '\\n') # 출력되는 결과들을 분리해서 보여주기 위한 코드입니다.\n",
    "print(A)\n",
    "print('#'*30, f\"{'A.rank()':^15s}\" , '#' * 30, '\\n') # 출력되는 결과들을 분리해서 보여주기 위한 코드입니다.\n",
    "print(A.rank(ascending = False))\n",
    "print('#'*30, f\"{'A.rank(ascending = False)':^15s}\" , '#' * 30, '\\n') # 출력되는 결과들을 분리해서 보여주기 위한 코드입니다.\n",
    "print(A.rank(ascending = False))"
   ]
  },
  {
   "cell_type": "code",
   "execution_count": null,
   "id": "90b4987f-13b5-447d-9003-89e688d3f154",
   "metadata": {
    "tags": []
   },
   "outputs": [],
   "source": [
    "# 예제_2_데이터프레임의_데이터_순위매기기\n",
    "\n",
    "import pandas as pd\n",
    "\n",
    "A = pd.DataFrame([[2,6], [5,1], [3,4]])\n",
    "\n",
    "print('#'*30, f\"{'A':^15s}\" , '#' * 30, '\\n') # 출력되는 결과들을 분리해서 보여주기 위한 코드입니다.\n",
    "print(A)\n",
    "print('#'*30, f\"{'A.rank()':^15s}\" , '#' * 30, '\\n') # 출력되는 결과들을 분리해서 보여주기 위한 코드입니다.\n",
    "print(A.rank(ascending = False))\n",
    "print('#'*30, f\"{'A.rank(axis = 1)':^15s}\" , '#' * 30, '\\n') # 출력되는 결과들을 분리해서 보여주기 위한 코드입니다.\n",
    "print(A.rank(axis = 1))\n",
    "print('#'*30, f\"{'A.rank(ascending = False)':^15s}\" , '#' * 30, '\\n') # 출력되는 결과들을 분리해서 보여주기 위한 코드입니다.\n",
    "print(A.rank(ascending = False))"
   ]
  },
  {
   "cell_type": "markdown",
   "id": "23102c4d-4c85-4d59-bf9e-84502596dc3f",
   "metadata": {},
   "source": [
    "### **💯 연습문제를 풀어봅시다**\n",
    "\n"
   ]
  },
  {
   "cell_type": "markdown",
   "id": "cb46131b-d917-4d5d-9aaf-5666d5f1112b",
   "metadata": {
    "tags": []
   },
   "source": [
    "1. <a class=\"jcecodle-mk jcecodle-mk__problem-chip\" data-problem-id=\"QCIVQ-01EuM\" href='#jce-judge/open/QCIVQ-01EuM' target='_self'><span>판다스 - 데이터 연산하기 - rank</span></a>\n",
    "\n",
    "2. <a class=\"jcecodle-mk jcecodle-mk__problem-chip\" data-problem-id=\"BPIf2PrHeuw\" href='#jce-judge/open/BPIf2PrHeuw' target='_self'><span>판다스 - 데이터 연산하기 - rank (2)</span></a>\n",
    "\n",
    "3. <a class=\"jcecodle-mk jcecodle-mk__problem-chip\" data-problem-id=\"8AzXCaaHMPI\" href='#jce-judge/open/8AzXCaaHMPI' target='_self'><span>키 큰 순으로 (1)</span></a>\n",
    "\n",
    "4. <a class=\"jcecodle-mk jcecodle-mk__problem-chip\" data-problem-id=\"pt-y48i1cig\" href='#jce-judge/open/pt-y48i1cig' target='_self'><span>키 큰 순으로 (2)</span></a>\n",
    "\n",
    "5. <a class=\"jcecodle-mk jcecodle-mk__problem-chip\" data-problem-id=\"ktj0xXAZX54\" href='#jce-judge/open/ktj0xXAZX54' target='_self'><span>학급 성적평균 순위</span></a>\n"
   ]
  }
 ],
 "metadata": {
  "kernelspec": {
   "display_name": "Python 3 (ipykernel)",
   "language": "python",
   "name": "python3"
  },
  "language_info": {
   "codemirror_mode": {
    "name": "ipython",
    "version": 3
   },
   "file_extension": ".py",
   "mimetype": "text/x-python",
   "name": "python",
   "nbconvert_exporter": "python",
   "pygments_lexer": "ipython3",
   "version": "3.8.10"
  }
 },
 "nbformat": 4,
 "nbformat_minor": 5
}
