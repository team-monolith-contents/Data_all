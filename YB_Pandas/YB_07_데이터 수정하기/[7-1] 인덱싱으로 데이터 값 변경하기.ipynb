{
 "cells": [
  {
   "cell_type": "code",
   "execution_count": 2,
   "id": "fcfdd5f9-ed84-4b24-ad62-e43af9837768",
   "metadata": {},
   "outputs": [],
   "source": [
    "import pandas as pd"
   ]
  },
  {
   "cell_type": "markdown",
   "id": "727ea7a9-bac0-4bb3-afbc-4981950e3fd1",
   "metadata": {
    "tags": []
   },
   "source": [
    "# **[7-1] 인덱싱으로 데이터 값 변경하기**"
   ]
  },
  {
   "cell_type": "markdown",
   "id": "0a5448d2-a09e-484c-adf2-6c2e5d0232b8",
   "metadata": {
    "tags": []
   },
   "source": [
    "## **🎯 학습 목표**\n",
    "**인덱싱으로 데이터 값을 변경해봅시다.**"
   ]
  },
  {
   "cell_type": "markdown",
   "id": "01cb348d-d551-4559-910d-6d97d46c0385",
   "metadata": {},
   "source": [
    "---"
   ]
  },
  {
   "cell_type": "markdown",
   "id": "40541fd6-77c0-41ca-beb5-9f32741742de",
   "metadata": {},
   "source": [
    "데이터는 오류가 있을 수도 있고, 시간이 흘러 변할 수도 있습니다.  \n",
    "이런 때에는 값을 변경하면 됩니다.  \n",
    "변경할 데이터의 위치를 정확히 알고 있다면 인덱싱을 통해 위치를 지정한 후 새로운 값을 저장할 수 있습니다.  "
   ]
  },
  {
   "cell_type": "markdown",
   "id": "0d6d3711-9a60-42fa-8700-17cfce0c254e",
   "metadata": {
    "tags": []
   },
   "source": [
    "## 데이터프레임을 같은 크기의 데이터로 수정하기\n",
    "\n",
    "데이터프레임의 데이터를 수정하기 위해서는 수정하고 싶은 데이터에 접근하면 됩니다.(인덱싱)  \n",
    "해당 데이터프레임에 인덱싱하고 인덱싱한 데이터프레임에 원하는 값을 할당해주면 됩니다.  \n",
    "이 때 같은 크기의 데이터를 할당하면 기존 데이터가 새로운 데이터로 대체됩니다.\n",
    "\n",
    "> **⛔️ 오류(ERROR):**\n",
    ">\n",
    "> 인덱싱한 데이터프레임과 할당하는 데이터의 크기가 다르고 브로드캐스팅을 적용할 수 없으면 오류가 발생합니다.\n",
    "\n",
    "> **⚠️ 주의(WARNING):**\n",
    ">\n",
    "> 인덱싱으로 데이터프레임을 수정하면 원본 데이터가 수정됩니다.\n",
    "\n",
    "1. 특정위치의 데이터 수정하기  \n",
    "**😃특정위치의 데이터 수정하기 이미지😃**  \n",
    "2. 특정 행 하나 수정하기  \n",
    "**😃 특정 행 하나 수정하기 이미지😃** \n",
    "3. 특정 열 하나 수정하기  \n",
    "**😃 특정 열 하나 수정하기 이미지😃** \n",
    "4. 여러개의 행과 열 한번에 수정하기  \n",
    "**😃 여러개의 행과 열 한번에 수정하기 이미지😃** "
   ]
  },
  {
   "cell_type": "code",
   "execution_count": null,
   "id": "c5dc7ae6-4271-4b66-b309-6d65307bd0d5",
   "metadata": {
    "tags": []
   },
   "outputs": [],
   "source": [
    "# 특정위치의 데이터 수정하기 "
   ]
  },
  {
   "cell_type": "code",
   "execution_count": null,
   "id": "76591704-49cb-4732-ba70-6b08cca3c670",
   "metadata": {
    "tags": []
   },
   "outputs": [],
   "source": [
    "# 특정 행 하나 수정하기"
   ]
  },
  {
   "cell_type": "code",
   "execution_count": null,
   "id": "a23d0ef5-640d-43f4-a0c9-841f909c5fb0",
   "metadata": {
    "tags": []
   },
   "outputs": [],
   "source": [
    "# 특정 열 하나 수정하기"
   ]
  },
  {
   "cell_type": "code",
   "execution_count": null,
   "id": "9b2910b6-3a7b-4298-93a0-b024c89e9b11",
   "metadata": {
    "tags": []
   },
   "outputs": [],
   "source": [
    "# 여러개의 행과 열 한번에 수정하기 "
   ]
  },
  {
   "cell_type": "markdown",
   "id": "0e38e775-031f-48c7-9728-f09d298e71ab",
   "metadata": {
    "tags": []
   },
   "source": [
    "## 데이터프레임을 브로드캐스팅을 이용하여 수정하기\n",
    "\n",
    "데이터를 할당할 때에 이전 시간에 배운 브로드캐스팅을 적용할 수도 있습니다.\n",
    "\n",
    "1. 데이터를 하나의 값으로 수정하기  \n",
    "**😃데이터를 하나의 값으로 수정하기 이미지😃**  \n",
    "2. 데이터를 시리즈로 수정하기  \n",
    "**😃데이터를 시리즈로 수정하기 이미지😃** \n"
   ]
  },
  {
   "cell_type": "code",
   "execution_count": null,
   "id": "d43406bc-fa87-47e0-8a63-6838c23211da",
   "metadata": {
    "tags": []
   },
   "outputs": [],
   "source": [
    "# 데이터를 하나의 값으로 수정하기"
   ]
  },
  {
   "cell_type": "code",
   "execution_count": null,
   "id": "b4b398fe-a044-45e0-8213-ace60576487a",
   "metadata": {
    "tags": []
   },
   "outputs": [],
   "source": [
    "# 데이터를 시리즈로 수정하기"
   ]
  },
  {
   "cell_type": "markdown",
   "id": "9b667f93-b6bc-4304-9323-3e274406f0c9",
   "metadata": {},
   "source": [
    "### **💯 연습문제를 풀어봅시다**\n",
    "\n"
   ]
  },
  {
   "cell_type": "markdown",
   "id": "10291135-cd99-482b-acaa-1b316318e544",
   "metadata": {
    "tags": []
   },
   "source": [
    "1. <a class=\"jcecodle-mk jcecodle-mk__problem-chip\" data-problem-id=\"pdcOTVxad0k\" href='#jce-judge/open/pdcOTVxad0k' target='_self'><span>판다스 - 데이터 값 변경 - 1개 위치</span></a>\n",
    "\n",
    "1. <a class=\"jcecodle-mk jcecodle-mk__problem-chip\" data-problem-id=\"pF0w3GD4yws\" href='#jce-judge/open/pF0w3GD4yws' target='_self'><span>친구 이름 변경 (1)</span></a>\n",
    "\n",
    "2. <a class=\"jcecodle-mk jcecodle-mk__problem-chip\" data-problem-id=\"UtynmIiHz3Q\" href='#jce-judge/open/UtynmIiHz3Q' target='_self'><span>반평균 성적 변경 (1)</span></a>\n",
    "\n",
    "3. <a class=\"jcecodle-mk jcecodle-mk__problem-chip\" data-problem-id=\"G7uK_Y6fStY\" href='#jce-judge/open/G7uK_Y6fStY' target='_self'><span>아이돌 멤버 변경</span></a>\n",
    "\n",
    "2. <a class=\"jcecodle-mk jcecodle-mk__problem-chip\" data-problem-id=\"vI2-Cplg3VY\" href='#jce-judge/open/vI2-Cplg3VY' target='_self'><span>판다스 - 데이터 값 변경 - 여러 위치(1)</span></a>\n",
    "\n",
    "1. <a class=\"jcecodle-mk jcecodle-mk__problem-chip\" data-problem-id=\"Z4taEsAFFr8\" href='#jce-judge/open/Z4taEsAFFr8' target='_self'><span>친구들 나이 변경</span></a>\n",
    "\n",
    "2. <a class=\"jcecodle-mk jcecodle-mk__problem-chip\" data-problem-id=\"ul7HW3Vv8zI\" href='#jce-judge/open/ul7HW3Vv8zI' target='_self'><span>학교 정보 수정</span></a>\n",
    "\n",
    "3. <a class=\"jcecodle-mk jcecodle-mk__problem-chip\" data-problem-id=\"1cSq2qkpN9k\" href='#jce-judge/open/1cSq2qkpN9k' target='_self'><span>가계부 수정</span></a>\n",
    "\n",
    "3. <a class=\"jcecodle-mk jcecodle-mk__problem-chip\" data-problem-id=\"Lf_f_K08VMY\" href='#jce-judge/open/Lf_f_K08VMY' target='_self'><span>판다스 - 데이터 값 변경 - 여러 위치(2)</span></a>\n",
    "\n",
    "\n",
    "1. <a class=\"jcecodle-mk jcecodle-mk__problem-chip\" data-problem-id=\"Qxrt7lLSbmg\" href='#jce-judge/open/Qxrt7lLSbmg' target='_self'><span>가족 직업 변경 (2)</span></a>\n",
    "\n",
    "2. <a class=\"jcecodle-mk jcecodle-mk__problem-chip\" data-problem-id=\"e-P2j-3PEJM\" href='#jce-judge/open/e-P2j-3PEJM' target='_self'><span>친구들 정보 변경</span></a>\n",
    "\n",
    "3. <a class=\"jcecodle-mk jcecodle-mk__problem-chip\" data-problem-id=\"6ZrVIlCVAq0\" href='#jce-judge/open/6ZrVIlCVAq0' target='_self'><span>특정 구역 값 변경</span></a>\n"
   ]
  }
 ],
 "metadata": {
  "kernelspec": {
   "display_name": "Python 3 (ipykernel)",
   "language": "python",
   "name": "python3"
  },
  "language_info": {
   "codemirror_mode": {
    "name": "ipython",
    "version": 3
   },
   "file_extension": ".py",
   "mimetype": "text/x-python",
   "name": "python",
   "nbconvert_exporter": "python",
   "pygments_lexer": "ipython3",
   "version": "3.10.9"
  }
 },
 "nbformat": 4,
 "nbformat_minor": 5
}
