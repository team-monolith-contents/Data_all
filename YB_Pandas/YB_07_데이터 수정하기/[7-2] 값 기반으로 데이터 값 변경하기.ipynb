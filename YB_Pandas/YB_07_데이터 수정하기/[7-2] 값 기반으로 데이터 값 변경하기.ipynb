{
 "cells": [
  {
   "cell_type": "code",
   "execution_count": 2,
   "id": "fcfdd5f9-ed84-4b24-ad62-e43af9837768",
   "metadata": {},
   "outputs": [],
   "source": [
    "import pandas as pd"
   ]
  },
  {
   "cell_type": "markdown",
   "id": "727ea7a9-bac0-4bb3-afbc-4981950e3fd1",
   "metadata": {
    "tags": []
   },
   "source": [
    "# **[7-2] 값 기반으로 데이터 값 변경하기**"
   ]
  },
  {
   "cell_type": "markdown",
   "id": "0a5448d2-a09e-484c-adf2-6c2e5d0232b8",
   "metadata": {
    "tags": []
   },
   "source": [
    "## **🎯 학습 목표**\n",
    "**값 기반으로 데이터 값을 변경해봅시다.**"
   ]
  },
  {
   "cell_type": "markdown",
   "id": "01cb348d-d551-4559-910d-6d97d46c0385",
   "metadata": {},
   "source": [
    "---"
   ]
  },
  {
   "cell_type": "markdown",
   "id": "a08121dc-75f7-4149-b98b-e24c0d6648bd",
   "metadata": {},
   "source": [
    "데이터를 변경할 때에 인덱싱이 아닌 특정 값들을 가진 데이터를 한번에 수정할 때에는 `replace()` 함수를 사용할 수 있습니다.\n",
    "\n",
    "> **🔨 함수(FUNCTIONS):**\n",
    ">\n",
    "> **`DataFrame.replace(to_replace = 데이터1, value = 데이터2)`**  \n",
    "> 데이터프레임의 데이터1들을 데이터2로 수정한 데이터프레임을 반환합니다.\n",
    ">> **매개변수(parameter)**\n",
    ">>\n",
    ">> **`to_replace`** : 수정할 데이터를 지정합니다.   \n",
    ">> **`value`** : 새롭게 수정될 데이터를 지정합니다.\n",
    "> ---\n",
    "> **`DataFrame.replace(to_replace = 리스트, value = 데이터2)`**  \n",
    "> 데이터프레임의 데이터 중 리스트에 포함된 데이터들을 데이터2로 수정한 데이터프레임을 반환합니다.\n",
    ">> **매개변수(parameter)**\n",
    ">>\n",
    ">> **`to_replace`** : 수정해야 할 데이터의 리스트 입니다.   \n",
    ">> **`value`** : 새롭게 수정될 데이터를 지정합니다.\n",
    "> ---\n",
    "> **`DataFrame.replace(to_replace = 딕셔너리)`**  \n",
    "> 데이터프레임의 데이터 중 매개변수로 받은 딕셔너리의 키에 해당하는 들을 딕셔너리의 벨류에 해당하는 값들로 바꿔줍니다.\n",
    ">> **매개변수(parameter)**\n",
    ">>\n",
    ">> **`to_replace`** : 수정할 값과 수정될 값의 대응을 지정한 딕셔너리입니다.   \n",
    "> ---\n",
    "\n",
    "\n"
   ]
  },
  {
   "cell_type": "markdown",
   "id": "d2f0e5bb-93a4-4012-934d-3be1c8692f7b",
   "metadata": {
    "tags": []
   },
   "source": [
    "## 데이터프레임의 특정 값들을 수정하기\n",
    "\n",
    "`replace()` 함수를 이용하면 데이터프레임의 특정 값들을 원하는 값으로 변경할 수 있습니다.\n",
    "\n",
    "> **⚠️ 주의(WARNING):**\n",
    ">\n",
    "> 인덱싱으로 데이터의 값을 변경할 때와는 다르게 replace로 데이터를 변경할 때에는 데이터프레임 원본이 바뀌지 않습니다.  \n",
    "> 따라서 새로운 변수에 수정된 데이터프레임을 할당해주어야 합니다.\n",
    "\n",
    "`replace(데이터1, 데이터2)` 로 `데이터1`들을 `데이터2`로 한번에 변경할 수 있습니다.  \n",
    "**😃replace(데이터1, 데이터2) 이미지😃**  \n",
    "`replace(데이터_리스트, 데이터2)` 로 `데이터_리스트`에 포함된 데이터들을 `데이터2`로 한번에 변경할 수 있습니다.  \n",
    "**😃replace(데이터_리스트, 데이터2) 이미지😃**  \n",
    "`replace(딕셔너리)` 로 `딕셔너리`의 규칙에 따라 데이터프레임을 변경할 수 있습니다.  \n",
    "**😃replace(딕셔너리) 이미지😃**  "
   ]
  },
  {
   "cell_type": "code",
   "execution_count": null,
   "id": "ec84da26-e778-4ee2-92da-a2510d211ee6",
   "metadata": {
    "tags": []
   },
   "outputs": [],
   "source": [
    "# replace(데이터1, 데이터2)"
   ]
  },
  {
   "cell_type": "code",
   "execution_count": null,
   "id": "ca7a8bb6-556b-46dc-bff5-a3755efaa4f6",
   "metadata": {
    "tags": []
   },
   "outputs": [],
   "source": [
    "# replace(데이터_리스트, 데이터2)"
   ]
  },
  {
   "cell_type": "code",
   "execution_count": null,
   "id": "eea67e54-494e-4cfb-a44a-957b87d5bfa4",
   "metadata": {
    "tags": []
   },
   "outputs": [],
   "source": [
    "# replace(딕셔너리)"
   ]
  },
  {
   "cell_type": "markdown",
   "id": "cc31304b-9cd0-4305-8229-f7e7d6499f0c",
   "metadata": {},
   "source": [
    "### **💯 연습문제를 풀어봅시다**\n",
    "\n"
   ]
  },
  {
   "cell_type": "markdown",
   "id": "aa2d823c-95a3-4dd0-84af-3b7bed2ec84d",
   "metadata": {
    "tags": []
   },
   "source": [
    "1. <a class=\"jcecodle-mk jcecodle-mk__problem-chip\" data-problem-id=\"SzB0uPNXl9Y\" href='#jce-judge/open/SzB0uPNXl9Y' target='_self'><span>판다스 - 데이터 값 변경 - 1가지 값</span></a>\n",
    "2. <a class=\"jcecodle-mk jcecodle-mk__problem-chip\" data-problem-id=\"2xZ3Fs7FMtg\" href='#jce-judge/open/2xZ3Fs7FMtg' target='_self'><span>판다스 - 데이터 값 변경 - 여러가지 값 (1)</span></a>\n",
    "3. <a class=\"jcecodle-mk jcecodle-mk__problem-chip\" data-problem-id=\"E3Vp2wXS6Hw\" href='#jce-judge/open/E3Vp2wXS6Hw' target='_self'><span>판다스 - 데이터 값 변경 - 여러가지 값 (2)</span></a>\n"
   ]
  }
 ],
 "metadata": {
  "kernelspec": {
   "display_name": "Python 3 (ipykernel)",
   "language": "python",
   "name": "python3"
  },
  "language_info": {
   "codemirror_mode": {
    "name": "ipython",
    "version": 3
   },
   "file_extension": ".py",
   "mimetype": "text/x-python",
   "name": "python",
   "nbconvert_exporter": "python",
   "pygments_lexer": "ipython3",
   "version": "3.10.9"
  }
 },
 "nbformat": 4,
 "nbformat_minor": 5
}
