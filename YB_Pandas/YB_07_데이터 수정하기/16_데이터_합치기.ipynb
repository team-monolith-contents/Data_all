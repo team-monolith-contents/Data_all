{
 "cells": [
  {
   "cell_type": "markdown",
   "id": "d7408c9a-bce3-4385-8cb8-51bbe9902972",
   "metadata": {
    "tags": []
   },
   "source": [
    "#### [시작하기]\n",
    "\n",
    "<div class=\"alert alert-info\">\n",
    "    <font color=black>\n",
    "    Pandas를 사용하기 위해서 처음 할 일을 무엇인가요?\n",
    "    </font>\n",
    "</div>"
   ]
  },
  {
   "cell_type": "code",
   "execution_count": 2,
   "id": "a022ca8d-8151-4def-8fde-177215c49a17",
   "metadata": {},
   "outputs": [],
   "source": [
    "import pandas as pd # 판다스를 pd로 축약하여 불러옵니다"
   ]
  },
  {
   "cell_type": "markdown",
   "id": "6b63c9cc-92be-4a59-b710-13dd91bc8d9c",
   "metadata": {
    "tags": []
   },
   "source": [
    "# **[16] 데이터 합치기**\n",
    "\n",
    "[오늘 배울 것]\n",
    "1. 두 데이터를 열의 방향으로 합칠 수 있다.\n",
    "2. 두 데이터를 행의 방향으로 합칠 수 있다."
   ]
  },
  {
   "cell_type": "markdown",
   "id": "f9ab56ba-b13b-42a2-bc36-abe5e24c46d6",
   "metadata": {},
   "source": [
    "> 여러 데이터를 합치거나 기존의 데이터에 연산 결과 등의 새로운 정보를 추가하고 싶을 때가 있습니다.  \n",
    "> `concat` 함수는 Pandas 데이터들을 연결하여 하나의 데이터로 만드는데 사용됩니다.   \n",
    "> `concat` 함수의 이용 규칙에 주의하며 데이터를 합치는 방법을 알아봅시다. "
   ]
  },
  {
   "cell_type": "markdown",
   "id": "9e25aa6d-59fe-4f7d-a213-4be4d9341895",
   "metadata": {
    "tags": []
   },
   "source": [
    "## **1. 열의 방향으로 합치기**"
   ]
  },
  {
   "cell_type": "markdown",
   "id": "216aaf5f-839e-4bf0-8a4e-979259289146",
   "metadata": {
    "tags": []
   },
   "source": [
    "### **(1) Series 여러개 합쳐서 DataFrame 만들기**\n",
    "\n",
    "> 1열인 Series가 여러개 합쳐지면 여러 열을 가지는 DataFrame이 됩니다.  \n",
    "> \n",
    "> `dataframe = pd.concat([series1, series2], axis=1)`  \n",
    "> : 첫번째 열이 series1, 두번째 열이 series2인 DataFrame 생성  \n",
    ">\n",
    "> 이때, 다음 규칙을 따르게 됩니다.  \n",
    "> * 생성된 DataFrame의 열 Index는 list안의 Series의 순차적 순서대로 0부터 부여됨\n",
    "> * 단, Series.name 이 있는 경우 name이 열 Index가 됨\n",
    "> * Series들의 행 Index가 중복되는 경우 하나의 행이 됨\n",
    "> * Series들의 행 Index가 중복되지 않는다면 해당 행이 없는 Series의 열 데이터는 None\n",
    "\n"
   ]
  },
  {
   "cell_type": "code",
   "execution_count": 5,
   "id": "5d6196a6-d1c4-4381-acf4-aa3b4259d78a",
   "metadata": {},
   "outputs": [
    {
     "data": {
      "text/html": [
       "<div>\n",
       "<style scoped>\n",
       "    .dataframe tbody tr th:only-of-type {\n",
       "        vertical-align: middle;\n",
       "    }\n",
       "\n",
       "    .dataframe tbody tr th {\n",
       "        vertical-align: top;\n",
       "    }\n",
       "\n",
       "    .dataframe thead th {\n",
       "        text-align: right;\n",
       "    }\n",
       "</style>\n",
       "<table border=\"1\" class=\"dataframe\">\n",
       "  <thead>\n",
       "    <tr style=\"text-align: right;\">\n",
       "      <th></th>\n",
       "      <th>0</th>\n",
       "      <th>1</th>\n",
       "      <th>4의 배수</th>\n",
       "      <th>2</th>\n",
       "    </tr>\n",
       "  </thead>\n",
       "  <tbody>\n",
       "    <tr>\n",
       "      <th>0</th>\n",
       "      <td>2.0</td>\n",
       "      <td>3.0</td>\n",
       "      <td>4.0</td>\n",
       "      <td>NaN</td>\n",
       "    </tr>\n",
       "    <tr>\n",
       "      <th>1</th>\n",
       "      <td>4.0</td>\n",
       "      <td>6.0</td>\n",
       "      <td>8.0</td>\n",
       "      <td>NaN</td>\n",
       "    </tr>\n",
       "    <tr>\n",
       "      <th>2</th>\n",
       "      <td>6.0</td>\n",
       "      <td>9.0</td>\n",
       "      <td>12.0</td>\n",
       "      <td>10.0</td>\n",
       "    </tr>\n",
       "    <tr>\n",
       "      <th>3</th>\n",
       "      <td>8.0</td>\n",
       "      <td>12.0</td>\n",
       "      <td>16.0</td>\n",
       "      <td>15.0</td>\n",
       "    </tr>\n",
       "    <tr>\n",
       "      <th>4</th>\n",
       "      <td>NaN</td>\n",
       "      <td>NaN</td>\n",
       "      <td>NaN</td>\n",
       "      <td>20.0</td>\n",
       "    </tr>\n",
       "  </tbody>\n",
       "</table>\n",
       "</div>"
      ],
      "text/plain": [
       "     0     1  4의 배수     2\n",
       "0  2.0   3.0    4.0   NaN\n",
       "1  4.0   6.0    8.0   NaN\n",
       "2  6.0   9.0   12.0  10.0\n",
       "3  8.0  12.0   16.0  15.0\n",
       "4  NaN   NaN    NaN  20.0"
      ]
     },
     "execution_count": 5,
     "metadata": {},
     "output_type": "execute_result"
    }
   ],
   "source": [
    "# 예제 1: Series 여러개 합쳐서 DataFrame 만들기\n",
    "\n",
    "## 같은 크기, 같은 index를 가지는 Series 두 개 생성\n",
    "S1 = pd.Series([2, 4, 6, 8])\n",
    "S2 = pd.Series([3, 6, 9, 12])\n",
    "\n",
    "## S1, S2와 크기, index가 같지만 name이 지정된 Series 생성\n",
    "S3 = pd.Series([4, 8, 12 , 16], name='4의 배수')\n",
    "\n",
    "## S1, S2, S3와 크기가 다르고 index가 모두 같지는 않은 Series 생성\n",
    "S4 = pd.Series(index=[2, 3, 4], data=[10, 15, 20])\n",
    "\n",
    "# 네 개의 Series를 열의 방향으로 합치기\n",
    "df = pd.concat([S1, S2, S3, S4], axis=1)\n",
    "\n",
    "df"
   ]
  },
  {
   "cell_type": "markdown",
   "id": "a18e007a-4238-4e69-bbaa-6005c8fd41fb",
   "metadata": {},
   "source": [
    "#### <연습문제>\n",
    "<a class=\"jcecodle-mk jcecodle-mk__problem-chip\" data-problem-id=\"iJ3G7ROpeQg\" href='#jce-judge/open/iJ3G7ROpeQg' target='_self'><span>판다스 - 데이터 합치기 - 열 방향 (1)</span></a>\n",
    "\n"
   ]
  },
  {
   "cell_type": "markdown",
   "id": "7670ae87-b56d-4c31-a9f9-34f51150585c",
   "metadata": {
    "tags": []
   },
   "source": [
    "### **(2) DataFrame 열 방향으로 합치기**\n",
    "\n",
    "> DataFrame 여러개를 열 방향으로 합치면 열이 더 많은 DataFrame이 됩니다.  \n",
    "> \n",
    "> `dataframe = pd.concat([df1, df2], axis=1)`  \n",
    "> : 열의 방향으로 df1, df2가 순차적으로 연결된 DataFrame 생성  \n",
    ">\n",
    "> 이때, 다음 규칙을 따르게 됩니다.  \n",
    "> * 생성된 DataFrame의 열 Index는 list안의 DataFrame의 열 Index를 그대로 따름\n",
    "> * 중복된 열 Index가 있는 경우에도 합쳐지지 않음\n",
    "> * 열 Index를 순서대로 다시 부여하고 싶다면 ignore_index=True를 이용\n",
    "> * DataFrmae들의 행 Index가 중복되는 경우 하나의 행이 됨\n",
    "> * 행 Index가 중복되지 않는다면 해당 행이 없는 DataFrmae의 열 데이터는 None"
   ]
  },
  {
   "cell_type": "code",
   "execution_count": 4,
   "id": "1285ee85-3e28-4bfa-9a60-200452015d7c",
   "metadata": {},
   "outputs": [
    {
     "data": {
      "text/html": [
       "<div>\n",
       "<style scoped>\n",
       "    .dataframe tbody tr th:only-of-type {\n",
       "        vertical-align: middle;\n",
       "    }\n",
       "\n",
       "    .dataframe tbody tr th {\n",
       "        vertical-align: top;\n",
       "    }\n",
       "\n",
       "    .dataframe thead th {\n",
       "        text-align: right;\n",
       "    }\n",
       "</style>\n",
       "<table border=\"1\" class=\"dataframe\">\n",
       "  <thead>\n",
       "    <tr style=\"text-align: right;\">\n",
       "      <th></th>\n",
       "      <th>1</th>\n",
       "      <th>2</th>\n",
       "      <th>0</th>\n",
       "      <th>1</th>\n",
       "      <th>0</th>\n",
       "      <th>1</th>\n",
       "    </tr>\n",
       "  </thead>\n",
       "  <tbody>\n",
       "    <tr>\n",
       "      <th>0</th>\n",
       "      <td>0.0</td>\n",
       "      <td>1.0</td>\n",
       "      <td>NaN</td>\n",
       "      <td>NaN</td>\n",
       "      <td>4.0</td>\n",
       "      <td>5.0</td>\n",
       "    </tr>\n",
       "    <tr>\n",
       "      <th>1</th>\n",
       "      <td>1.0</td>\n",
       "      <td>2.0</td>\n",
       "      <td>3.0</td>\n",
       "      <td>4.0</td>\n",
       "      <td>5.0</td>\n",
       "      <td>6.0</td>\n",
       "    </tr>\n",
       "    <tr>\n",
       "      <th>2</th>\n",
       "      <td>NaN</td>\n",
       "      <td>NaN</td>\n",
       "      <td>4.0</td>\n",
       "      <td>5.0</td>\n",
       "      <td>6.0</td>\n",
       "      <td>7.0</td>\n",
       "    </tr>\n",
       "  </tbody>\n",
       "</table>\n",
       "</div>"
      ],
      "text/plain": [
       "     1    2    0    1    0    1\n",
       "0  0.0  1.0  NaN  NaN  4.0  5.0\n",
       "1  1.0  2.0  3.0  4.0  5.0  6.0\n",
       "2  NaN  NaN  4.0  5.0  6.0  7.0"
      ]
     },
     "execution_count": 4,
     "metadata": {},
     "output_type": "execute_result"
    }
   ],
   "source": [
    "# 예제 2: DataFrame 열 방향으로 합치기\n",
    "\n",
    "## 2행 2열 DataFrame 생성\n",
    "df1 = pd.DataFrame([[0, 1], [1, 2]], columns=[1, 2])\n",
    "\n",
    "## df1과 index가 모두 같지는 않은 2행 2열 DataFrame 생성\n",
    "df2 = pd.DataFrame([[3, 4], [4., 5.]], index=[1, 2])\n",
    "\n",
    "## 3행 2열 DataFrame 생성\n",
    "df3 = pd.DataFrame([[4, 5], [5, 6], [6., 7.]])\n",
    "\n",
    "## 세 개의 DataFrame 열 방향으로 합치기\n",
    "df = pd.concat([df1, df2, df3], axis=1)\n",
    "\n",
    "df"
   ]
  },
  {
   "cell_type": "markdown",
   "id": "9d54e8e0-5e3e-47ec-8a85-5ef2f80669d0",
   "metadata": {},
   "source": [
    "#### <연습문제>\n",
    "\n",
    "<a class=\"jcecodle-mk jcecodle-mk__problem-chip\" data-problem-id=\"B8nXG7yv_7g\" href='#jce-judge/open/B8nXG7yv_7g' target='_self'><span>판다스 - 데이터 합치기 - 열 방향 (2)</span></a>\n"
   ]
  },
  {
   "cell_type": "markdown",
   "id": "41f90cc2-f258-4e0c-8723-3fb3cee61306",
   "metadata": {
    "tags": []
   },
   "source": [
    "## **2. 행의 방향으로 합치기**"
   ]
  },
  {
   "cell_type": "markdown",
   "id": "55a09b12-809d-43e8-a6fd-778ded63483e",
   "metadata": {
    "tags": []
   },
   "source": [
    "### **(1) Series 행 방향으로 합쳐서 DataFrame 만들기**\n",
    "\n",
    "> 1열인 Series를 열과 행을 바꾸어 1행 짜리 DataFrame으로 바꿀 수 있습니다.  \n",
    "> 1행짜리 DataFrame을 여러개 합치면 여러 행을 가지는 DataFrame이 됩니다.  \n",
    ">\n",
    "> `df1 = series1.to_frame().T`    \n",
    "> `df2 = series2.to_frame().T`  \n",
    "> : Series를 1행자리 DataFrame으로 전환  \n",
    "> `dataframe = pd.concat([df1, df2], axis=0)`  \n",
    "> : 첫번째 행이 series1, 두번째 행이 series2인 DataFrame 생성  \n",
    ">\n",
    "> 이때, 다음 규칙을 따르게 됩니다.  \n",
    "> * 생성된 DataFrame의 행 Index는 list안의 data의 행 Index를 그대로 따름  \n",
    "> * 중복된 행 Index가 있어도 합쳐지지 않음\n",
    "> * 행 Index를 순서대로 다시 부여하고 싶다면 ignore_index=True를 이용\n",
    "> * Data들의 열 Index가 중복되는 경우 하나의 열이 됨\n",
    "> * Data들의 열 Index가 중복되지 않는다면 해당 열이 없는 Data들의 행 데이터는 None"
   ]
  },
  {
   "cell_type": "code",
   "execution_count": 44,
   "id": "44302486-8eff-4a3c-ab15-b8c055f00c09",
   "metadata": {},
   "outputs": [
    {
     "data": {
      "text/html": [
       "<div>\n",
       "<style scoped>\n",
       "    .dataframe tbody tr th:only-of-type {\n",
       "        vertical-align: middle;\n",
       "    }\n",
       "\n",
       "    .dataframe tbody tr th {\n",
       "        vertical-align: top;\n",
       "    }\n",
       "\n",
       "    .dataframe thead th {\n",
       "        text-align: right;\n",
       "    }\n",
       "</style>\n",
       "<table border=\"1\" class=\"dataframe\">\n",
       "  <thead>\n",
       "    <tr style=\"text-align: right;\">\n",
       "      <th></th>\n",
       "      <th>a</th>\n",
       "      <th>b</th>\n",
       "      <th>c</th>\n",
       "      <th>d</th>\n",
       "      <th>e</th>\n",
       "    </tr>\n",
       "  </thead>\n",
       "  <tbody>\n",
       "    <tr>\n",
       "      <th>0</th>\n",
       "      <td>1.0</td>\n",
       "      <td>2.0</td>\n",
       "      <td>3.0</td>\n",
       "      <td>4.0</td>\n",
       "      <td>5.0</td>\n",
       "    </tr>\n",
       "    <tr>\n",
       "      <th>0</th>\n",
       "      <td>2.0</td>\n",
       "      <td>4.0</td>\n",
       "      <td>6.0</td>\n",
       "      <td>8.0</td>\n",
       "      <td>NaN</td>\n",
       "    </tr>\n",
       "    <tr>\n",
       "      <th>0</th>\n",
       "      <td>NaN</td>\n",
       "      <td>6.0</td>\n",
       "      <td>9.0</td>\n",
       "      <td>12.0</td>\n",
       "      <td>15.0</td>\n",
       "    </tr>\n",
       "    <tr>\n",
       "      <th>1</th>\n",
       "      <td>NaN</td>\n",
       "      <td>8.0</td>\n",
       "      <td>12.0</td>\n",
       "      <td>16.0</td>\n",
       "      <td>20.0</td>\n",
       "    </tr>\n",
       "  </tbody>\n",
       "</table>\n",
       "</div>"
      ],
      "text/plain": [
       "     a    b     c     d     e\n",
       "0  1.0  2.0   3.0   4.0   5.0\n",
       "0  2.0  4.0   6.0   8.0   NaN\n",
       "0  NaN  6.0   9.0  12.0  15.0\n",
       "1  NaN  8.0  12.0  16.0  20.0"
      ]
     },
     "execution_count": 44,
     "metadata": {},
     "output_type": "execute_result"
    }
   ],
   "source": [
    "# 예제 3: Series 와 DataFrame 행 방향으로 합치기\n",
    "\n",
    "## 5행, 4행의 Series 생성\n",
    "S1 = pd.Series([1., 2., 3., 4., 5.], index=['a', 'b', 'c', 'd', 'e'])\n",
    "S2 = pd.Series([2., 4., 6., 8.], index=['a', 'b', 'c', 'd'])\n",
    "\n",
    "## S1, S2의 Index와 자신의 Column name이 중복되는 DataFrame 생성 \n",
    "df1 = pd.DataFrame([[6., 9., 12., 15.], [8, 12, 16, 20]], columns=['b', 'c', 'd', 'e'])\n",
    "\n",
    "# Series를 DataFrame으로 전환한 뒤 열과 행을 바꾸기\n",
    "df_S1 = S1.to_frame().T  # 1행, 5열(columns: a, b, c, d, e)의 DataFrame으로 전환됨\n",
    "df_S2 = S2.to_frame().T  # 1행, 4열(columns: a, b, c, d)의 DataFrame으로 전환됨\n",
    "\n",
    "# DataFrame 3개를 행 방향으로 합치기\n",
    "df = pd.concat([df_S1, df_S2, df1], axis=0)\n",
    "\n",
    "df"
   ]
  },
  {
   "cell_type": "markdown",
   "id": "f03d8199-40a2-4c31-8f60-2544121d5246",
   "metadata": {},
   "source": [
    "#### <연습문제>\n",
    "\n",
    "<a class=\"jcecodle-mk jcecodle-mk__problem-chip\" data-problem-id=\"jscCW3ar_No\" href='#jce-judge/open/jscCW3ar_No' target='_self'><span>판다스 - 데이터 합치기 - 행 방향 (1)</span></a>\n",
    "\n",
    "\n",
    "\n"
   ]
  },
  {
   "cell_type": "markdown",
   "id": "5ce596d9-fa66-43dc-a322-5ee308cebe74",
   "metadata": {
    "tags": []
   },
   "source": [
    "### **(2) DataFrame 행 방향으로 합치기**\n",
    "\n",
    "> DataFrame 여러개를 행 방향으로 합치면 행이 더 많은 DataFrame이 됩니다.  \n",
    "> \n",
    "> `dataframe = pd.concat([df1, df2])`  \n",
    "> : 열의 방향으로 df1, df2가 순차적으로 연결된 DataFrame 생성  \n",
    ">  (axis인수를 지정하지 않으면 자동으로 0으로 지정되어 행 방향으로 합쳐집니다.)  \n",
    ">\n",
    "> 이때, 다음 규칙을 따르게 됩니다.  \n",
    "> * 생성된 DataFrame의 행 Index는 list안의 data의 행 Index를 그대로 따름  \n",
    "> * 중복된 행 Index가 있어도 합쳐지지 않음\n",
    "> * 행 Index를 순서대로 다시 부여하고 싶다면 ignore_index=True를 이용\n",
    "> * Data들의 열 Index가 중복되는 경우 하나의 열이 됨\n",
    "> * Data들의 열 Index가 중복되지 않는다면 해당 열이 없는 Data들의 행 데이터는 None"
   ]
  },
  {
   "cell_type": "code",
   "execution_count": 6,
   "id": "96b8f4eb-1b69-407f-93b9-83659922587e",
   "metadata": {},
   "outputs": [
    {
     "data": {
      "text/html": [
       "<div>\n",
       "<style scoped>\n",
       "    .dataframe tbody tr th:only-of-type {\n",
       "        vertical-align: middle;\n",
       "    }\n",
       "\n",
       "    .dataframe tbody tr th {\n",
       "        vertical-align: top;\n",
       "    }\n",
       "\n",
       "    .dataframe thead th {\n",
       "        text-align: right;\n",
       "    }\n",
       "</style>\n",
       "<table border=\"1\" class=\"dataframe\">\n",
       "  <thead>\n",
       "    <tr style=\"text-align: right;\">\n",
       "      <th></th>\n",
       "      <th>0</th>\n",
       "      <th>1</th>\n",
       "      <th>2</th>\n",
       "      <th>3</th>\n",
       "      <th>4</th>\n",
       "    </tr>\n",
       "  </thead>\n",
       "  <tbody>\n",
       "    <tr>\n",
       "      <th>0</th>\n",
       "      <td>2.0</td>\n",
       "      <td>4.0</td>\n",
       "      <td>6.0</td>\n",
       "      <td>8.0</td>\n",
       "      <td>NaN</td>\n",
       "    </tr>\n",
       "    <tr>\n",
       "      <th>1</th>\n",
       "      <td>3.0</td>\n",
       "      <td>6.0</td>\n",
       "      <td>9.0</td>\n",
       "      <td>12.0</td>\n",
       "      <td>NaN</td>\n",
       "    </tr>\n",
       "    <tr>\n",
       "      <th>2</th>\n",
       "      <td>NaN</td>\n",
       "      <td>8.0</td>\n",
       "      <td>12.0</td>\n",
       "      <td>16.0</td>\n",
       "      <td>20.0</td>\n",
       "    </tr>\n",
       "    <tr>\n",
       "      <th>3</th>\n",
       "      <td>NaN</td>\n",
       "      <td>10.0</td>\n",
       "      <td>15.0</td>\n",
       "      <td>20.0</td>\n",
       "      <td>25.0</td>\n",
       "    </tr>\n",
       "  </tbody>\n",
       "</table>\n",
       "</div>"
      ],
      "text/plain": [
       "     0     1     2     3     4\n",
       "0  2.0   4.0   6.0   8.0   NaN\n",
       "1  3.0   6.0   9.0  12.0   NaN\n",
       "2  NaN   8.0  12.0  16.0  20.0\n",
       "3  NaN  10.0  15.0  20.0  25.0"
      ]
     },
     "execution_count": 6,
     "metadata": {},
     "output_type": "execute_result"
    }
   ],
   "source": [
    "# 예제 4: DataFrame과 DataFrame 행 방향으로 합치기\n",
    "\n",
    "## 같은 크기이나 열 Index가 모두 같지는 않은 DataFrame 두 개 생성\n",
    "df1 = pd.DataFrame([[2., 4., 6., 8.], [3, 6, 9, 12]])\n",
    "df2 = pd.DataFrame([[8., 12., 16., 20.], [10, 15, 20, 25]], columns=[1, 2, 3, 4])\n",
    "\n",
    "## 두 DataFrame 행 방향으로 합치고 행 Index 새로 부여하기\n",
    "df = pd.concat([df1, df2], ignore_index=True)\n",
    "\n",
    "df"
   ]
  },
  {
   "cell_type": "markdown",
   "id": "3abea844-877b-44d7-8c48-81b609da214b",
   "metadata": {
    "tags": []
   },
   "source": [
    "#### <연습문제>\n",
    "\n",
    "<a class=\"jcecodle-mk jcecodle-mk__problem-chip\" data-problem-id=\"s9hpAThbHks\" href='#jce-judge/open/s9hpAThbHks' target='_self'><span>판다스 - 데이터 합치기 - 행 방향 (2)</span></a>\n",
    "\n",
    "\n"
   ]
  },
  {
   "cell_type": "code",
   "execution_count": null,
   "id": "28594c98-b8d9-41c6-8753-23a63f9c582d",
   "metadata": {},
   "outputs": [],
   "source": []
  }
 ],
 "metadata": {
  "kernelspec": {
   "display_name": "Python 3 (ipykernel)",
   "language": "python",
   "name": "python3"
  },
  "language_info": {
   "codemirror_mode": {
    "name": "ipython",
    "version": 3
   },
   "file_extension": ".py",
   "mimetype": "text/x-python",
   "name": "python",
   "nbconvert_exporter": "python",
   "pygments_lexer": "ipython3",
   "version": "3.10.9"
  }
 },
 "nbformat": 4,
 "nbformat_minor": 5
}
