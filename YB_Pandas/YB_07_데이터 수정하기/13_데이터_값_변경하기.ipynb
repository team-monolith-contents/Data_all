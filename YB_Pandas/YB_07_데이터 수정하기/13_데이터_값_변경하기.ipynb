{
 "cells": [
  {
   "cell_type": "markdown",
   "id": "d7408c9a-bce3-4385-8cb8-51bbe9902972",
   "metadata": {
    "tags": []
   },
   "source": [
    "#### [시작하기]\n",
    "\n",
    "<div class=\"alert alert-info\">\n",
    "    <font color=black>\n",
    "    Pandas를 사용하기 위해서 처음 할 일을 무엇인가요?\n",
    "    </font>\n",
    "</div>"
   ]
  },
  {
   "cell_type": "code",
   "execution_count": 1,
   "id": "a022ca8d-8151-4def-8fde-177215c49a17",
   "metadata": {},
   "outputs": [],
   "source": [
    "import pandas as pd # 판다스를 pd로 축약하여 불러옵니다"
   ]
  },
  {
   "cell_type": "markdown",
   "id": "6b63c9cc-92be-4a59-b710-13dd91bc8d9c",
   "metadata": {
    "tags": []
   },
   "source": [
    "# **[13] 데이터 값 변경하기**\n",
    "\n",
    "[오늘 배울 것]\n",
    "1. 특정 위치의 데이터를 변경할 수 있다.\n",
    "2. 특정 값의 데이터를 모두 한번에 변경할 수 있다."
   ]
  },
  {
   "cell_type": "markdown",
   "id": "f9ab56ba-b13b-42a2-bc36-abe5e24c46d6",
   "metadata": {},
   "source": [
    "> 데이터는 오류가 있을 수도 있고, 시간이 흘러 변할 수도 있습니다.  \n",
    "> 이런 때에는 값을 변경하면 됩니다.  \n",
    ">\n",
    "> 변경할 데이터의 위치를 정확히 알고 있다면 인덱싱을 통해 위치를 지정한 후 새로운 값을 저장할 수 있습니다.  \n",
    "> 변경할 데이터의 값을 알고 있는 경우에도 함수를 이용해 새로운 값으로 변경할 수 있습니다. "
   ]
  },
  {
   "cell_type": "markdown",
   "id": "9e25aa6d-59fe-4f7d-a213-4be4d9341895",
   "metadata": {
    "tags": []
   },
   "source": [
    "## **1. 특정 위치의 데이터 변경**\n",
    "\n",
    "> 이전에 Pandas 데이터의 인덱싱 방법을 배웠습니다.  \n",
    "> 인덱싱을 이용해 특정 위치의 데이터를 선택한 뒤 새로운 값을 입력할 수 있습니다.  \n",
    ">\n",
    "> 데이터 값 변경 연습에 사용할 학생 정보 데이터를 생성해봅시다.  \n",
    "> 또한 변경 전과 후를 비교하기 위해 원본 데이터를 저장해둡시다. \n"
   ]
  },
  {
   "cell_type": "code",
   "execution_count": 8,
   "id": "45040e2d-d420-4edc-9bb4-948b8bdb94cf",
   "metadata": {},
   "outputs": [
    {
     "data": {
      "text/html": [
       "<div>\n",
       "<style scoped>\n",
       "    .dataframe tbody tr th:only-of-type {\n",
       "        vertical-align: middle;\n",
       "    }\n",
       "\n",
       "    .dataframe tbody tr th {\n",
       "        vertical-align: top;\n",
       "    }\n",
       "\n",
       "    .dataframe thead th {\n",
       "        text-align: right;\n",
       "    }\n",
       "</style>\n",
       "<table border=\"1\" class=\"dataframe\">\n",
       "  <thead>\n",
       "    <tr style=\"text-align: right;\">\n",
       "      <th></th>\n",
       "      <th>이름</th>\n",
       "      <th>장래희망</th>\n",
       "      <th>키</th>\n",
       "    </tr>\n",
       "  </thead>\n",
       "  <tbody>\n",
       "    <tr>\n",
       "      <th>1</th>\n",
       "      <td>철수</td>\n",
       "      <td>유투버</td>\n",
       "      <td>130</td>\n",
       "    </tr>\n",
       "    <tr>\n",
       "      <th>2</th>\n",
       "      <td>영희</td>\n",
       "      <td>유투버</td>\n",
       "      <td>141</td>\n",
       "    </tr>\n",
       "    <tr>\n",
       "      <th>3</th>\n",
       "      <td>맹구</td>\n",
       "      <td>유투버</td>\n",
       "      <td>128</td>\n",
       "    </tr>\n",
       "    <tr>\n",
       "      <th>4</th>\n",
       "      <td>민준</td>\n",
       "      <td>아이돌</td>\n",
       "      <td>143</td>\n",
       "    </tr>\n",
       "    <tr>\n",
       "      <th>5</th>\n",
       "      <td>민지</td>\n",
       "      <td>아이돌</td>\n",
       "      <td>137</td>\n",
       "    </tr>\n",
       "    <tr>\n",
       "      <th>6</th>\n",
       "      <td>수정</td>\n",
       "      <td>과학자</td>\n",
       "      <td>129</td>\n",
       "    </tr>\n",
       "    <tr>\n",
       "      <th>7</th>\n",
       "      <td>이준</td>\n",
       "      <td>사업가</td>\n",
       "      <td>139</td>\n",
       "    </tr>\n",
       "    <tr>\n",
       "      <th>8</th>\n",
       "      <td>로즈</td>\n",
       "      <td>과학자</td>\n",
       "      <td>135</td>\n",
       "    </tr>\n",
       "    <tr>\n",
       "      <th>9</th>\n",
       "      <td>보검</td>\n",
       "      <td>배우</td>\n",
       "      <td>132</td>\n",
       "    </tr>\n",
       "    <tr>\n",
       "      <th>10</th>\n",
       "      <td>앤디</td>\n",
       "      <td>유투버</td>\n",
       "      <td>150</td>\n",
       "    </tr>\n",
       "  </tbody>\n",
       "</table>\n",
       "</div>"
      ],
      "text/plain": [
       "    이름 장래희망    키\n",
       "1   철수  유투버  130\n",
       "2   영희  유투버  141\n",
       "3   맹구  유투버  128\n",
       "4   민준  아이돌  143\n",
       "5   민지  아이돌  137\n",
       "6   수정  과학자  129\n",
       "7   이준  사업가  139\n",
       "8   로즈  과학자  135\n",
       "9   보검   배우  132\n",
       "10  앤디  유투버  150"
      ]
     },
     "execution_count": 8,
     "metadata": {},
     "output_type": "execute_result"
    }
   ],
   "source": [
    "# 예제 1: 학생 정보 데이터프레임 생성하기\n",
    "\n",
    "# 학생 정보 데이터 프레임\n",
    "students = pd.DataFrame(index=range(1, 11), data={\"이름\": [\"철수\", \"영희\", \"맹구\", \"민준\", \"민지\", \"수정\", \"이준\", \"로즈\", \"보검\", \"앤디\"], \n",
    "                                                  \"장래희망\": [\"유투버\", \"유투버\", \"유투버\", \"아이돌\", \"아이돌\", \"과학자\", \"사업가\", \"과학자\", \"배우\", \"유투버\"], \n",
    "                                                  \"키\": [130, 141, 128, 143, 137, 129, 139, 135, 132, 150]})\n",
    "\n",
    "# 원본 데이터 저장해두기\n",
    "students_원본 = students.copy()\n",
    "\n",
    "# 학생 정보 확인하기\n",
    "students"
   ]
  },
  {
   "cell_type": "markdown",
   "id": "216aaf5f-839e-4bf0-8a4e-979259289146",
   "metadata": {
    "tags": []
   },
   "source": [
    "### **(1) 1개 데이터 변경하기**\n",
    "\n",
    "> 데이터프레임에서 열의 이름, 행의 index나 위치 순서를 알면 2차원 구조의 데이터에서 1개의 데이터를 특정할 수 있습니다.  \n",
    "> 1개 데이터를 특정한 후 간단히 등호를 이용해 값을 지정하면 데이터 값이 변경됩니다. \n",
    ">\n",
    "> `DataFrmae['column_name']['index'] = value`  \n",
    "> `DataFrmae.loc['index', 'column_name'] = value`  \n",
    "> `DataFrmae.iloc[n, m] = value`\n",
    ">\n",
    "> 3번 학생이 이름을 바꾸었다고 합니다.  \n",
    "> 새로운 이름 '영재'로 변경하겠습니다. \n",
    "\n"
   ]
  },
  {
   "cell_type": "code",
   "execution_count": 10,
   "id": "5d6196a6-d1c4-4381-acf4-aa3b4259d78a",
   "metadata": {},
   "outputs": [
    {
     "name": "stdout",
     "output_type": "stream",
     "text": [
      "3번 학생의 이전 이름: 맹구\n",
      "3번 학생의 바뀐 이름: 영재\n"
     ]
    }
   ],
   "source": [
    "# 예제 2: 1개 데이터 변경하기\n",
    "\n",
    "# 3번 학생 이름을 '영재'로  변경\n",
    "students.loc[3, \"이름\"] = \"영재\"\n",
    "\n",
    "print(\"3번 학생의 이전 이름:\", students_원본.loc[3, \"이름\"])\n",
    "print(\"3번 학생의 바뀐 이름:\", students.loc[3, \"이름\"])"
   ]
  },
  {
   "cell_type": "markdown",
   "id": "a18e007a-4238-4e69-bbaa-6005c8fd41fb",
   "metadata": {},
   "source": [
    "#### <연습문제>\n",
    "\n",
    "<a class=\"jcecodle-mk jcecodle-mk__problem-chip\" data-problem-id=\"pdcOTVxad0k\" href='#jce-judge/open/pdcOTVxad0k' target='_self'><span>판다스 - 데이터 값 변경 - 1개 위치</span></a>\n",
    "\n"
   ]
  },
  {
   "cell_type": "markdown",
   "id": "7670ae87-b56d-4c31-a9f9-34f51150585c",
   "metadata": {
    "tags": []
   },
   "source": [
    "### **(2) 여러 데이터를 하나의 값으로 변경하기**\n",
    "\n",
    "> 인덱싱을 이용해 한번에 여러 데이터를 특정할 수 있습니다.  \n",
    "> 예를 들어 1개의 행, 1개의 열, 여러개의 행, 여러개의 열, 여러 행과 열에 걸친 데이터들을 나타낼 수 있습니다.  \n",
    ">\n",
    "> 여러 데이터를 특정한 후 등호를 이용해 값을 지정하면 모두 같은 값으로 변경됩니다.  \n",
    "> 이전에 배운 Broadcasting이 적용되기 때문입니다.  \n",
    ">\n",
    "> `DataFrame.column_name = value`  \n",
    "> `DataFrame.loc['index'] = value`  \n",
    "> `DataFrame.iloc[a:b, c:d] = value`\n",
    ">\n",
    "> 쌍둥이인 4번, 5번 학생들은 최근에 장래희망을 \"선생님\"으로 바꾸었습니다.  \n",
    "> 두 학생의 장래희망을 한번에 변경하겠습니다. \n"
   ]
  },
  {
   "cell_type": "code",
   "execution_count": 23,
   "id": "1285ee85-3e28-4bfa-9a60-200452015d7c",
   "metadata": {},
   "outputs": [
    {
     "name": "stdout",
     "output_type": "stream",
     "text": [
      "4, 5번 학생의 이전 정보: \n",
      "\n",
      "   이름 장래희망\n",
      "4  민준  아이돌\n",
      "5  민지  아이돌 \n",
      "\n",
      "4, 5번 학생의 바뀐 정보: \n",
      "\n",
      "   이름 장래희망\n",
      "4  민준  선생님\n",
      "5  민지  선생님\n"
     ]
    }
   ],
   "source": [
    "# 예제 3: 인덱싱하여 여러개 데이터 하나의 값으로 변경하기\n",
    "\n",
    "# 4, 5번 학생의 장래희망을 '선생님'으로 변경\n",
    "students['장래희망'].iloc[3:5] = '선생님'\n",
    "\n",
    "print(\"4, 5번 학생의 이전 정보:\", '\\n')\n",
    "print(students_원본[['이름','장래희망']].iloc[3:5], '\\n')\n",
    "\n",
    "print(\"4, 5번 학생의 바뀐 정보:\", '\\n')\n",
    "print(students[['이름','장래희망']].iloc[3:5])"
   ]
  },
  {
   "cell_type": "markdown",
   "id": "9d54e8e0-5e3e-47ec-8a85-5ef2f80669d0",
   "metadata": {},
   "source": [
    "#### <연습문제>\n",
    "\n",
    "<a class=\"jcecodle-mk jcecodle-mk__problem-chip\" data-problem-id=\"vI2-Cplg3VY\" href='#jce-judge/open/vI2-Cplg3VY' target='_self'><span>판다스 - 데이터 값 변경 - 여러 위치(1)</span></a>\n"
   ]
  },
  {
   "cell_type": "markdown",
   "id": "2d80e0a3-d3e4-4021-9879-4451dd5c5bdd",
   "metadata": {
    "tags": []
   },
   "source": [
    "### **(3) 여러 데이터를 새로운 데이터로 변경하기**\n",
    "\n",
    "> 여러 데이터가 각자 다른 값으로 변경되는 경우도 있습니다.  \n",
    "> 인덱싱을 이용해 여러 데이터를 특정한 후 등호를 이용해 **같은 크기**의 리스트 혹은 Numpy.array 데이터를 지정하면 새로운 값으로 변경됩니다. \n",
    ">\n",
    "> `DataFrame.column_name = Numpy.array(len(DataFrame))`  \n",
    "> `DataFrame.loc['index'] = Numpy.array(len(DataFrame.columns))`  \n",
    "> `DataFrame.iloc[:2, :2] = [[0, 0], [0, 0]]`\n",
    ">\n",
    "> 방학이 끝나고 다시 신체검사를 하여 새로운 키 데이터가 생겼습니다.  \n",
    "> 학생 정보를 새로운 데이터로 변경하겠습니다. \n"
   ]
  },
  {
   "cell_type": "code",
   "execution_count": 24,
   "id": "9a8749ad-84a1-49b5-b814-3b21d7549363",
   "metadata": {},
   "outputs": [
    {
     "name": "stdout",
     "output_type": "stream",
     "text": [
      "학생들의 이전 키: \n",
      "\n",
      "    이름    키\n",
      "1   철수  130\n",
      "2   영희  141\n",
      "3   맹구  128\n",
      "4   민준  143\n",
      "5   민지  137\n",
      "6   수정  129\n",
      "7   이준  139\n",
      "8   로즈  135\n",
      "9   보검  132\n",
      "10  앤디  150 \n",
      "\n",
      "학생들의 바뀐 키: \n",
      "\n",
      "    이름    키\n",
      "1   철수  140\n",
      "2   영희  145\n",
      "3   영재  141\n",
      "4   민준  149\n",
      "5   민지  140\n",
      "6   수정  135\n",
      "7   이준  150\n",
      "8   로즈  140\n",
      "9   보검  139\n",
      "10  앤디  155\n"
     ]
    }
   ],
   "source": [
    "# 예제 4: 여러개 데이터 새로운 데이터로 변경하기\n",
    "\n",
    "# 새로운 데이터 생성\n",
    "new_height = [140, 145, 141, 149, 140, 135, 150, 140, 139, 155]\n",
    "\n",
    "# 키 열을 새로운 데이터로 변경\n",
    "students['키'] = new_height\n",
    "\n",
    "print(\"학생들의 이전 키:\", '\\n')\n",
    "print(students_원본[['이름','키']], '\\n')\n",
    "\n",
    "print(\"학생들의 바뀐 키:\", '\\n')\n",
    "print(students[['이름','키']])"
   ]
  },
  {
   "cell_type": "markdown",
   "id": "b2adcba5-55e3-4e46-9dc0-f1907200d75a",
   "metadata": {},
   "source": [
    "#### <연습문제>\n",
    "\n",
    "<a class=\"jcecodle-mk jcecodle-mk__problem-chip\" data-problem-id=\"Lf_f_K08VMY\" href='#jce-judge/open/Lf_f_K08VMY' target='_self'><span>판다스 - 데이터 값 변경 - 여러 위치(2)</span></a>\n"
   ]
  },
  {
   "cell_type": "markdown",
   "id": "41f90cc2-f258-4e0c-8723-3fb3cee61306",
   "metadata": {
    "tags": []
   },
   "source": [
    "## **2. 특정 값의 데이터 변경**\n",
    "\n",
    "> 데이터의 위치가 아닌 값을 이용해 데이터를 특정하고 변경하는 방법이 있습니다.  \n",
    "> 이때에는 등호가 아닌 Pandas에서 제공하는 `replace` 함수를 이용합니다.  \n",
    "> `replace`는 여러가지 방법으로 사용이 가능합니다.  \n",
    "> 그 중 자주 쓰는 방법들을 소개하겠습니다. \n",
    ">\n",
    "> 데이터 값 변경 연습에 사용할 성적 데이터를 생성해봅시다.  \n",
    "> 또한 변경 전과 후를 비교하기 위해 원본 데이터를 저장해둡시다.  \n",
    "> 성적 산출을 위해 {상, 중, 하}, {A, B, C} 로 나뉜 등급을 3점, 2점, 1점으로 바꾸어봅시다.  \n",
    "\n"
   ]
  },
  {
   "cell_type": "code",
   "execution_count": 17,
   "id": "6e545216-3b63-4cbf-b868-cda1bd00fb25",
   "metadata": {},
   "outputs": [
    {
     "data": {
      "text/html": [
       "<div>\n",
       "<style scoped>\n",
       "    .dataframe tbody tr th:only-of-type {\n",
       "        vertical-align: middle;\n",
       "    }\n",
       "\n",
       "    .dataframe tbody tr th {\n",
       "        vertical-align: top;\n",
       "    }\n",
       "\n",
       "    .dataframe thead th {\n",
       "        text-align: right;\n",
       "    }\n",
       "</style>\n",
       "<table border=\"1\" class=\"dataframe\">\n",
       "  <thead>\n",
       "    <tr style=\"text-align: right;\">\n",
       "      <th></th>\n",
       "      <th>국어</th>\n",
       "      <th>영어</th>\n",
       "      <th>수학</th>\n",
       "    </tr>\n",
       "  </thead>\n",
       "  <tbody>\n",
       "    <tr>\n",
       "      <th>1</th>\n",
       "      <td>상</td>\n",
       "      <td>B</td>\n",
       "      <td>A</td>\n",
       "    </tr>\n",
       "    <tr>\n",
       "      <th>2</th>\n",
       "      <td>중</td>\n",
       "      <td>C</td>\n",
       "      <td>C</td>\n",
       "    </tr>\n",
       "    <tr>\n",
       "      <th>3</th>\n",
       "      <td>중</td>\n",
       "      <td>B</td>\n",
       "      <td>B</td>\n",
       "    </tr>\n",
       "    <tr>\n",
       "      <th>4</th>\n",
       "      <td>하</td>\n",
       "      <td>B</td>\n",
       "      <td>B</td>\n",
       "    </tr>\n",
       "    <tr>\n",
       "      <th>5</th>\n",
       "      <td>상</td>\n",
       "      <td>A</td>\n",
       "      <td>C</td>\n",
       "    </tr>\n",
       "    <tr>\n",
       "      <th>6</th>\n",
       "      <td>상</td>\n",
       "      <td>A</td>\n",
       "      <td>A</td>\n",
       "    </tr>\n",
       "    <tr>\n",
       "      <th>7</th>\n",
       "      <td>중</td>\n",
       "      <td>B</td>\n",
       "      <td>A</td>\n",
       "    </tr>\n",
       "    <tr>\n",
       "      <th>8</th>\n",
       "      <td>하</td>\n",
       "      <td>A</td>\n",
       "      <td>B</td>\n",
       "    </tr>\n",
       "    <tr>\n",
       "      <th>9</th>\n",
       "      <td>중</td>\n",
       "      <td>C</td>\n",
       "      <td>C</td>\n",
       "    </tr>\n",
       "    <tr>\n",
       "      <th>10</th>\n",
       "      <td>상</td>\n",
       "      <td>B</td>\n",
       "      <td>B</td>\n",
       "    </tr>\n",
       "  </tbody>\n",
       "</table>\n",
       "</div>"
      ],
      "text/plain": [
       "   국어 영어 수학\n",
       "1   상  B  A\n",
       "2   중  C  C\n",
       "3   중  B  B\n",
       "4   하  B  B\n",
       "5   상  A  C\n",
       "6   상  A  A\n",
       "7   중  B  A\n",
       "8   하  A  B\n",
       "9   중  C  C\n",
       "10  상  B  B"
      ]
     },
     "execution_count": 17,
     "metadata": {},
     "output_type": "execute_result"
    }
   ],
   "source": [
    "# 예제 5: 성적 정보 데이터프레임 생성하기\n",
    "\n",
    "# 성적 정보 데이터 프레임\n",
    "grades = pd.DataFrame(index=range(1, 11), data={\"국어\": list(\"상중중하상상중하중상\"), \n",
    "                                                  \"영어\": list(\"BCBBAABACB\"), \n",
    "                                                  \"수학\": list(\"ACBBCAABCB\")})\n",
    "\n",
    "# 원본 데이터 저장해두기\n",
    "grades_원본 = grades.copy()\n",
    "\n",
    "# 성적 정보 확인하기\n",
    "grades"
   ]
  },
  {
   "cell_type": "markdown",
   "id": "55a09b12-809d-43e8-a6fd-778ded63483e",
   "metadata": {
    "tags": []
   },
   "source": [
    "### **(1) 1가지 값을 변경하기**\n",
    "\n",
    "> `replace`를 이용하면 특정값의 데이터를 모두 새로운 값으로 변경할 수 있습니다.  \n",
    ">\n",
    "> 기존의 값을 새로운 값으로 바꾸는 방법은 다음과 같습니다.  \n",
    "> `Series.replace(value_old, value_new)`   \n",
    "> `DataFrmae.replace(value_old, value_new)`  \n",
    ">\n",
    "> '상'등급을 받은 학생들에게 3점을 부여하려고 합니다.  \n",
    "> `replace`를 이용해 데이터를 변경하겠습니다.  "
   ]
  },
  {
   "cell_type": "code",
   "execution_count": 5,
   "id": "44302486-8eff-4a3c-ab15-b8c055f00c09",
   "metadata": {},
   "outputs": [
    {
     "name": "stdout",
     "output_type": "stream",
     "text": [
      "국어 과목의 이전 성적:\n",
      " 1     상\n",
      "2     중\n",
      "3     중\n",
      "4     하\n",
      "5     상\n",
      "6     상\n",
      "7     중\n",
      "8     하\n",
      "9     중\n",
      "10    상\n",
      "Name: 국어, dtype: object\n",
      "\n",
      "국어 과목의 바뀐 성적:\n",
      " 1     상\n",
      "2     중\n",
      "3     중\n",
      "4     하\n",
      "5     상\n",
      "6     상\n",
      "7     중\n",
      "8     하\n",
      "9     중\n",
      "10    상\n",
      "Name: 국어, dtype: object\n"
     ]
    }
   ],
   "source": [
    "# 예제 6: 1가지 값 변경하기\n",
    "\n",
    "# '상' 등급을 3으로 변경\n",
    "grades.replace('상', 3)\n",
    "\n",
    "print(\"국어 과목의 이전 성적:\\n\", grades_원본.국어)\n",
    "print(\"\\n국어 과목의 바뀐 성적:\\n\", grades.국어)"
   ]
  },
  {
   "cell_type": "markdown",
   "id": "53f1bcea-6e4d-41e4-a723-20b8cf3366a1",
   "metadata": {},
   "source": [
    "> 바뀐 것이 없습니다! 왜일까요?!"
   ]
  },
  {
   "cell_type": "markdown",
   "id": "9d3e1539-cd7a-45fa-9a49-e051352653cf",
   "metadata": {},
   "source": [
    "<div class=\"alert alert-warning\">\n",
    "    <font color=black>\n",
    "    알아둘 점<br><br>\n",
    "    </font>\n",
    "    \n",
    "\n",
    "```\n",
    "\n",
    "PandasData.replace() 는 그 자체는 새로운 데이터이지만 원본을 바꾸지는 않습니다.  \n",
    "원본을 바꾸고 싶다면 replace(inplace=True)와 같이 inplace 인수를 지정해주어야 합니다. \n",
    "```\n",
    "\n",
    "</div>"
   ]
  },
  {
   "cell_type": "code",
   "execution_count": 12,
   "id": "d5911c7a-558b-4678-ae63-58441e795a98",
   "metadata": {},
   "outputs": [
    {
     "name": "stdout",
     "output_type": "stream",
     "text": [
      "국어 과목의 이전 성적:\n",
      " 1     상\n",
      "2     중\n",
      "3     중\n",
      "4     하\n",
      "5     상\n",
      "6     상\n",
      "7     중\n",
      "8     하\n",
      "9     중\n",
      "10    상\n",
      "Name: 국어, dtype: object\n",
      "\n",
      "국어 과목의 바뀐 성적:\n",
      " 1     3\n",
      "2     중\n",
      "3     중\n",
      "4     하\n",
      "5     3\n",
      "6     3\n",
      "7     중\n",
      "8     하\n",
      "9     중\n",
      "10    3\n",
      "Name: 국어, dtype: object\n"
     ]
    }
   ],
   "source": [
    "# 예제 7: 1가지 값 변경하기, 원본 변경\n",
    "\n",
    "# '상' 등급을 3으로 원본을 변경\n",
    "grades.replace('상', 3, inplace=True)\n",
    "\n",
    "print(\"국어 과목의 이전 성적:\\n\", grades_원본.국어)\n",
    "print(\"\\n국어 과목의 바뀐 성적:\\n\", grades.국어)"
   ]
  },
  {
   "cell_type": "markdown",
   "id": "f03d8199-40a2-4c31-8f60-2544121d5246",
   "metadata": {},
   "source": [
    "#### <연습문제>\n",
    "\n",
    "<a class=\"jcecodle-mk jcecodle-mk__problem-chip\" data-problem-id=\"SzB0uPNXl9Y\" href='#jce-judge/open/SzB0uPNXl9Y' target='_self'><span>판다스 - 데이터 값 변경 - 1가지 값</span></a>\n",
    "\n"
   ]
  },
  {
   "cell_type": "markdown",
   "id": "5ce596d9-fa66-43dc-a322-5ee308cebe74",
   "metadata": {
    "tags": []
   },
   "source": [
    "### **(2) 여러가지 값을 하나의 값으로 변경하기**\n",
    "\n",
    "> `replace`와 list를 이용하면 여러가지 값의 데이터를 모두 하나의 새로운 값으로 변경할 수 있습니다.  \n",
    ">\n",
    "> 기존의 값을 새로운 값으로 바꾸는 방법은 다음과 같습니다.  \n",
    "> `Series.replace([value_old_1, value_old_2], value_new)`   \n",
    "> `DataFrmae.replace([value_old_1, value_old_2], value_new)`  \n",
    ">\n",
    "> '중'과 'B'등급을 받은 학생들에게 2점을 부여하려고 합니다.  \n",
    "> `replace`를 이용해 데이터를 변경하겠습니다.  "
   ]
  },
  {
   "cell_type": "code",
   "execution_count": 13,
   "id": "96b8f4eb-1b69-407f-93b9-83659922587e",
   "metadata": {},
   "outputs": [
    {
     "name": "stdout",
     "output_type": "stream",
     "text": [
      "학생들의 이전 성적:\n",
      "    국어 영어 수학\n",
      "1   상  B  A\n",
      "2   중  C  C\n",
      "3   중  B  B\n",
      "4   하  B  B\n",
      "5   상  A  C\n",
      "6   상  A  A\n",
      "7   중  B  A\n",
      "8   하  A  B\n",
      "9   중  C  C\n",
      "10  상  B  B\n",
      "\n",
      "학생들의 바뀐 성적:\n",
      "    국어 영어 수학\n",
      "1   3  2  A\n",
      "2   2  C  C\n",
      "3   2  2  2\n",
      "4   하  2  2\n",
      "5   3  A  C\n",
      "6   3  A  A\n",
      "7   2  2  A\n",
      "8   하  A  2\n",
      "9   2  C  C\n",
      "10  3  2  2\n"
     ]
    }
   ],
   "source": [
    "# 예제 8: 여러가지 값을 하나의 값으로 변경하기\n",
    "\n",
    "# '중', 'B' 등급을 2로 원본을 변경\n",
    "grades.replace(['중', 'B'], 2, inplace=True)\n",
    "\n",
    "print(\"학생들의 이전 성적:\\n\", grades_원본)\n",
    "print(\"\\n학생들의 바뀐 성적:\\n\", grades)"
   ]
  },
  {
   "cell_type": "markdown",
   "id": "3abea844-877b-44d7-8c48-81b609da214b",
   "metadata": {
    "tags": []
   },
   "source": [
    "#### <연습문제>\n",
    "\n",
    "<a class=\"jcecodle-mk jcecodle-mk__problem-chip\" data-problem-id=\"2xZ3Fs7FMtg\" href='#jce-judge/open/2xZ3Fs7FMtg' target='_self'><span>판다스 - 데이터 값 변경 - 여러가지 값 (1)</span></a>\n",
    "\n"
   ]
  },
  {
   "cell_type": "markdown",
   "id": "7baeb0ac-2caa-4a6f-90ee-9a4882c4f34c",
   "metadata": {
    "tags": []
   },
   "source": [
    "### **(3) 여러가지 값을 각각 다른 값으로 변경하기**\n",
    "\n",
    "> `replace`와 dictionary를 이용하면 여러가지 값의 데이터를 각각 다른 값으로 변경할 수 있습니다.  \n",
    ">\n",
    "> 기존의 값을 새로운 값으로 바꾸는 방법은 다음과 같습니다.  \n",
    "> `Series.replace({old_1: new_1, old_2: new_2})`   \n",
    "> `DataFrmae.replace({old_1: new_1, old_2: new_2})`  \n",
    ">\n",
    "> 'A'등급을 받은 학생은 3점, '하'와 'C'등급을 받은 학생들에게 1점을 부여하려고 합니다.  \n",
    "> `replace`를 이용해 데이터를 변경하겠습니다.  "
   ]
  },
  {
   "cell_type": "code",
   "execution_count": 14,
   "id": "5ee4ca2d-6424-4008-82ef-7a4a590ae458",
   "metadata": {},
   "outputs": [
    {
     "name": "stdout",
     "output_type": "stream",
     "text": [
      "학생들의 이전 성적:\n",
      "    국어 영어 수학\n",
      "1   상  B  A\n",
      "2   중  C  C\n",
      "3   중  B  B\n",
      "4   하  B  B\n",
      "5   상  A  C\n",
      "6   상  A  A\n",
      "7   중  B  A\n",
      "8   하  A  B\n",
      "9   중  C  C\n",
      "10  상  B  B\n",
      "\n",
      "학생들의 바뀐 성적:\n",
      "     국어  영어  수학\n",
      "1    3   2   3\n",
      "2    2   1   1\n",
      "3    2   2   2\n",
      "4    1   2   2\n",
      "5    3   3   1\n",
      "6    3   3   3\n",
      "7    2   2   3\n",
      "8    1   3   2\n",
      "9    2   1   1\n",
      "10   3   2   2\n"
     ]
    }
   ],
   "source": [
    "# 예제 9: 여러가지 값을 각각 다른 값으로 변경하기\n",
    "\n",
    "# 'A'등급은 3, '하', 'C' 등급을 1로 바꾸기 위한 dictionary\n",
    "change_rule = {'A': 3, '하': 1, 'C': 1}\n",
    "\n",
    "# 성적 데이터 원본 변경\n",
    "grades.replace(change_rule, inplace=True)\n",
    "\n",
    "print(\"학생들의 이전 성적:\\n\", grades_원본)\n",
    "print(\"\\n학생들의 바뀐 성적:\\n\", grades)"
   ]
  },
  {
   "cell_type": "markdown",
   "id": "0f27955f-a062-4d85-b678-d7e0efe6aae6",
   "metadata": {
    "tags": []
   },
   "source": [
    "#### <연습문제>\n",
    "\n",
    "<a class=\"jcecodle-mk jcecodle-mk__problem-chip\" data-problem-id=\"E3Vp2wXS6Hw\" href='#jce-judge/open/E3Vp2wXS6Hw' target='_self'><span>판다스 - 데이터 값 변경 - 여러가지 값 (2)</span></a>\n",
    "\n",
    "\n",
    "\n",
    "\n",
    "\n",
    "\n"
   ]
  },
  {
   "cell_type": "markdown",
   "id": "8320a16c-3d10-4ce4-bbb8-0822b8ea25da",
   "metadata": {},
   "source": [
    "> 학생들의 등급을 모두 점수로 바꾸었기 때문에 종합 성적 산출이 가능해졌습니다.  \n",
    "> 이전에 배운 데이터 내 연산방법을 이용해 종합 성적을 구해봅시다.  "
   ]
  },
  {
   "cell_type": "code",
   "execution_count": 16,
   "id": "28594c98-b8d9-41c6-8753-23a63f9c582d",
   "metadata": {},
   "outputs": [
    {
     "name": "stdout",
     "output_type": "stream",
     "text": [
      "1     8\n",
      "2     4\n",
      "3     6\n",
      "4     5\n",
      "5     7\n",
      "6     9\n",
      "7     7\n",
      "8     6\n",
      "9     4\n",
      "10    7\n",
      "dtype: int64\n"
     ]
    }
   ],
   "source": [
    "# 예제 10: 데이터 내 연산방법 이용하기\n",
    "\n",
    "# 각 행 별로 점수 합을 계산\n",
    "print(grades.sum(axis=1))"
   ]
  },
  {
   "cell_type": "code",
   "execution_count": null,
   "id": "735ec28f-7340-4653-a47f-dc33c157b070",
   "metadata": {},
   "outputs": [],
   "source": []
  }
 ],
 "metadata": {
  "kernelspec": {
   "display_name": "Python 3 (ipykernel)",
   "language": "python",
   "name": "python3"
  },
  "language_info": {
   "codemirror_mode": {
    "name": "ipython",
    "version": 3
   },
   "file_extension": ".py",
   "mimetype": "text/x-python",
   "name": "python",
   "nbconvert_exporter": "python",
   "pygments_lexer": "ipython3",
   "version": "3.10.9"
  }
 },
 "nbformat": 4,
 "nbformat_minor": 5
}
