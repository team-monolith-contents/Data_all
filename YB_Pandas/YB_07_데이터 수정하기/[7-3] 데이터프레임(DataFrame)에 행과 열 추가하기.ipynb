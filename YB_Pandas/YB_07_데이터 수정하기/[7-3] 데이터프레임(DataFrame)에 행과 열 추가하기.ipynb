{
 "cells": [
  {
   "cell_type": "code",
   "execution_count": 2,
   "id": "fcfdd5f9-ed84-4b24-ad62-e43af9837768",
   "metadata": {},
   "outputs": [],
   "source": [
    "import pandas as pd"
   ]
  },
  {
   "cell_type": "markdown",
   "id": "727ea7a9-bac0-4bb3-afbc-4981950e3fd1",
   "metadata": {
    "tags": []
   },
   "source": [
    "# **[7-1] 데이터프레임(DataFrame)에 행과 열 추가하기**"
   ]
  },
  {
   "cell_type": "markdown",
   "id": "0a5448d2-a09e-484c-adf2-6c2e5d0232b8",
   "metadata": {
    "tags": []
   },
   "source": [
    "## **🎯 학습 목표**\n",
    "**데이터프레임(DataFrame)에 행과 열을 추가해봅시다.**"
   ]
  },
  {
   "cell_type": "markdown",
   "id": "01cb348d-d551-4559-910d-6d97d46c0385",
   "metadata": {},
   "source": [
    "---"
   ]
  },
  {
   "cell_type": "markdown",
   "id": "cdbb972c-e200-44d0-abb3-f75449f47567",
   "metadata": {
    "jp-MarkdownHeadingCollapsed": true,
    "tags": []
   },
   "source": [
    "데이터를 다루다 보면 새로운 데이터가 필요해 추가해야 하는 경우가 생깁니다.   \n",
    "행이나 열을 기준으로 데이터를 추가하는 방법을 배워봅시다. "
   ]
  },
  {
   "cell_type": "markdown",
   "id": "d5a2041b-568c-4bd1-93b4-659c2c0e0829",
   "metadata": {
    "tags": []
   },
   "source": [
    "## 데이터프레임에 열 추가하기\n",
    "\n",
    "데이터프레임에 열을 추가하기 위해서는 추가하고 싶은 이름의 열을 인덱싱하고 그 열에 같은 사이즈의 데이터를 넣어주면 됩니다.  \n",
    "이렇게 하면 가장 마지막 순서에 지정한 열이 추가됩니다.\n",
    "\n",
    "`DataFrame['추가하고싶은_열이름'] = 리스트_또는_시리즈`\n",
    "\n",
    "> **⚠️ 주의(WARNING):**\n",
    ">\n",
    "> 추가하고싶은 열이름이 이미 존재하면 기존에 존재하는 열에 덮어쓰기 됩니다.\n",
    "\n",
    "> **⚠️ 주의(WARNING):**\n",
    ">\n",
    "> 데이터프레임에 열을 추가하면 원본 데이터가 수정됩니다.\n",
    "\n",
    "> **⛔️ 오류(ERROR):**\n",
    ">\n",
    "> 추가하고 싶은 리스트, 시리즈의 길이와 데이터프레임의 행의 수가 다르면 오류가 발생합니다.\n",
    "\n",
    "**😃새로운 컬럼 추가하는 이미지😃**  \n",
    "  \n",
    "마찬가지로 브로드캐스팅을 적용할 수 있습니다.\n",
    "\n",
    "**😃새로운 컬럼을 브로드캐스팅을 이용해 추가하는 이미지😃**\n",
    "\n",
    "시리즈를 사용해 데이터프레임에 열을 추가하면 행 인덱스와 동일한 인덱스를 가진 데이터만 데이터프레임에 추가된다.\n",
    "\n",
    "**😃인덱스 다를 때 열 추가하는 이미지😃**"
   ]
  },
  {
   "cell_type": "code",
   "execution_count": null,
   "id": "f9873ea7-53f3-49f8-90a2-5198ed8fc7f5",
   "metadata": {
    "tags": []
   },
   "outputs": [],
   "source": [
    "# 새로운 컬럼 추가"
   ]
  },
  {
   "cell_type": "code",
   "execution_count": null,
   "id": "e266a701-08ab-44cc-b37e-389a728b4aa7",
   "metadata": {
    "tags": []
   },
   "outputs": [],
   "source": [
    "# 새로운 컬럼을 브로드캐스팅을 이용해 추가"
   ]
  },
  {
   "cell_type": "code",
   "execution_count": null,
   "id": "b0ce4287-e6d9-489d-9ceb-5b772be1d7a7",
   "metadata": {},
   "outputs": [],
   "source": [
    "# 인덱스 다를 때 열 추가"
   ]
  },
  {
   "cell_type": "markdown",
   "id": "5486853c-1a78-4f69-bce5-e93698601c5c",
   "metadata": {
    "tags": []
   },
   "source": [
    "## 데이터프레임에 행 추가하기\n",
    "\n",
    "데이터프레임에 행을 추가하기 위해서는 추가하고 싶은 행을 인덱싱하고 그 행에 같은 사이즈의 데이터를 넣어주면 됩니다.  \n",
    "이렇게 하면 가장 마지막 순서에 지정한 행이 추가됩니다.\n",
    "\n",
    "`DataFrame.loc['추가하고싶은_행_인덱스'] = 리스트_또는_시리즈`\n",
    "\n",
    "> **⚠️ 주의(WARNING):**\n",
    ">\n",
    "> 추가하고싶은 행의 인덱스가 이미 존재하면 기존에 존재하는 행에 덮어쓰기 됩니다.\n",
    "\n",
    "> **⚠️ 주의(WARNING):**\n",
    ">\n",
    "> 데이터프레임에 행을 추가하면 원본 데이터가 수정됩니다.\n",
    "\n",
    "> **⛔️ 오류(ERROR):**\n",
    ">\n",
    "> 추가하고 싶은 리스트, 시리즈의 길이와 데이터프레임의 열의 수가 다르면 오류가 발생합니다.\n",
    "\n",
    "**😃새로운 행 추가하는 이미지😃**  \n",
    "  \n",
    "마찬가지로 브로드캐스팅을 적용할 수 있습니다.\n",
    "\n",
    "**😃새로운 행 브로드캐스팅을 이용해 추가하는 이미지😃**\n",
    "\n",
    "시리즈를 사용해 데이터프레임에 행을 추가하면 열이름과 동일한 인덱스를 가진 데이터만 데이터프레임에 추가된다.\n",
    "\n",
    "**😃인덱스 다를 때 행 추가하는 이미지😃**"
   ]
  },
  {
   "cell_type": "code",
   "execution_count": null,
   "id": "ec133bc3-a920-450d-b27a-9ac6d43cad64",
   "metadata": {
    "tags": []
   },
   "outputs": [],
   "source": [
    "# 새로운 행 추가"
   ]
  },
  {
   "cell_type": "code",
   "execution_count": null,
   "id": "093a22ae-e9a3-45be-a271-c920ad27aab2",
   "metadata": {
    "tags": []
   },
   "outputs": [],
   "source": [
    "# 새로운 행 브로드캐스팅을 이용해 추가"
   ]
  },
  {
   "cell_type": "code",
   "execution_count": null,
   "id": "83c37e07-e422-49d1-bab7-d2daf7853d98",
   "metadata": {},
   "outputs": [],
   "source": [
    "# 인덱스 다를 때 행 추가"
   ]
  },
  {
   "cell_type": "markdown",
   "id": "649afa8b-3d66-4bf9-83cf-52f142b43024",
   "metadata": {},
   "source": [
    "### **💯 연습문제를 풀어봅시다**\n",
    "\n"
   ]
  },
  {
   "cell_type": "markdown",
   "id": "60d6c105-ce8e-48a6-be07-2b3f9c96bbe2",
   "metadata": {
    "tags": []
   },
   "source": [
    "1. <a class=\"jcecodle-mk jcecodle-mk__problem-chip\" data-problem-id=\"LIBoGXNmeUo\" href='#jce-judge/open/LIBoGXNmeUo' target='_self'><span>판다스 - 데이터 추가 - 열 추가 (2)</span></a>\n",
    "2. <a class=\"jcecodle-mk jcecodle-mk__problem-chip\" data-problem-id=\"zyaZmyhT5Nk\" href='#jce-judge/open/zyaZmyhT5Nk' target='_self'><span>판다스 - 데이터 추가 - 행 추가</span></a>\n"
   ]
  }
 ],
 "metadata": {
  "kernelspec": {
   "display_name": "Python 3 (ipykernel)",
   "language": "python",
   "name": "python3"
  },
  "language_info": {
   "codemirror_mode": {
    "name": "ipython",
    "version": 3
   },
   "file_extension": ".py",
   "mimetype": "text/x-python",
   "name": "python",
   "nbconvert_exporter": "python",
   "pygments_lexer": "ipython3",
   "version": "3.10.9"
  }
 },
 "nbformat": 4,
 "nbformat_minor": 5
}
