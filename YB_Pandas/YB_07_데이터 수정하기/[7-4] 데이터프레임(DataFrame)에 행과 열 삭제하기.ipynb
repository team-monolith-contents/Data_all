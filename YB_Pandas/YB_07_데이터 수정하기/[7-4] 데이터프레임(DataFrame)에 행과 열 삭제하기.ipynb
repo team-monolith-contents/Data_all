{
 "cells": [
  {
   "cell_type": "code",
   "execution_count": 2,
   "id": "fcfdd5f9-ed84-4b24-ad62-e43af9837768",
   "metadata": {},
   "outputs": [],
   "source": [
    "import pandas as pd"
   ]
  },
  {
   "cell_type": "markdown",
   "id": "727ea7a9-bac0-4bb3-afbc-4981950e3fd1",
   "metadata": {
    "tags": []
   },
   "source": [
    "# **[7-4] 데이터프레임(DataFrame)에 행과 열 삭제하기**"
   ]
  },
  {
   "cell_type": "markdown",
   "id": "0a5448d2-a09e-484c-adf2-6c2e5d0232b8",
   "metadata": {
    "tags": []
   },
   "source": [
    "## **🎯 학습 목표**\n",
    "**데이터프레임(DataFrame)에 행과 열을 삭제해봅시다.**"
   ]
  },
  {
   "cell_type": "markdown",
   "id": "01cb348d-d551-4559-910d-6d97d46c0385",
   "metadata": {},
   "source": [
    "---"
   ]
  },
  {
   "cell_type": "markdown",
   "id": "2c063e6a-8e4d-4f9d-ab9a-5a43372bc843",
   "metadata": {},
   "source": [
    "`drop()` 함수를 이용하면 특정 열과 행을 지정해서 삭제할 수 있습니다.\n",
    "\n",
    "> **🔨 함수(FUNCTIONS):**\n",
    ">\n",
    "> **`DataFrame.drop(index = 인덱스_또는_리스트, columns = 열이름_또는_리스트)`**  \n",
    "> index 매개변수로 받은 인덱스의 행과 columns 매개변수로 받은 열이름의 열을 삭제합니다.\n",
    ">> **매개변수(parameter)**\n",
    ">>\n",
    ">> **`index`** : 특정 인덱스를 지정하거나 리스트로 여러 인덱스를 지정할 수 있습니다.  \n",
    ">> 지정된 인덱스를 가진 행들을 삭제합니다.  \n",
    ">> **`columns`** : 특정 열을 지정하거나 리스트로 여러 열을 지정할 수 있습니다.  \n",
    ">> 지정된 열들을 삭제합니다.  \n",
    "> ---\n",
    "\n",
    "\n"
   ]
  },
  {
   "cell_type": "markdown",
   "id": "a984f906-b7c4-4515-9a84-cc844056e404",
   "metadata": {
    "tags": []
   },
   "source": [
    "## 데이터프레임의 특정 행과 열 삭제하기\n",
    "\n",
    "`drop()` 함수를 이용하면 데이터프레임의 특정 행, 열을 삭제할 수 있습니다.\n",
    "\n",
    "> **⚠️ 주의(WARNING):**\n",
    ">\n",
    "> 행이나 열을 추가할 때와는 다르게 `drop()` 함수로로 행이나 열을 삭제할 때에는 데이터프레임 원본이 바뀌지 않습니다.  \n",
    "> 따라서 새로운 변수에 수정된 데이터프레임을 할당해주어야 합니다.\n",
    "\n",
    "`drop(index = 인덱스_리스트)` 로 인덱스_리스트에 포함된 인덱스를 가진 행들을 삭제할 수 있습니다.  \n",
    "**😃drop(index = 인덱스_리스트) 이미지😃**  \n",
    "`drop(columns = 열_리스트)` 로 열_리스트에 포함된 열들을 삭제할 수 있습니다.  \n",
    "**😃drop(columns = 인덱스_리스트) 이미지😃**  \n",
    "`drop(index = 인덱스_리스트, columns = 열_리스트)` 로 인덱스_리스트에 포함된 인덱스를 가진 행과 열_리스트에 포함된 열들을 삭제할 수 있습니다.  \n",
    "**😃drop(index = 인덱스_리스트,columns = 인덱스_리스트) 이미지😃**  "
   ]
  },
  {
   "cell_type": "code",
   "execution_count": null,
   "id": "9308c690-ed4f-40bf-ae04-e3502593be59",
   "metadata": {
    "tags": []
   },
   "outputs": [],
   "source": [
    "# drop(index = 인덱스_리스트)"
   ]
  },
  {
   "cell_type": "code",
   "execution_count": null,
   "id": "ca3b677f-10e9-462e-bacd-8f0307f856d3",
   "metadata": {
    "tags": []
   },
   "outputs": [],
   "source": [
    "# drop(columns = 인덱스_리스트)"
   ]
  },
  {
   "cell_type": "code",
   "execution_count": null,
   "id": "27a0234f-d892-4d31-b0ff-1239d3a3b16d",
   "metadata": {
    "tags": []
   },
   "outputs": [],
   "source": [
    "# drop(index = 인덱스_리스트,columns = 인덱스_리스트)"
   ]
  },
  {
   "cell_type": "markdown",
   "id": "efeea333-dfee-4fe0-8441-f77d8db1a7ec",
   "metadata": {},
   "source": [
    "### **💯 연습문제를 풀어봅시다**\n",
    "\n"
   ]
  },
  {
   "cell_type": "markdown",
   "id": "f941f9a3-7fb0-4c11-aa1d-4cbcbdde3010",
   "metadata": {
    "tags": []
   },
   "source": [
    "1. <a class=\"jcecodle-mk jcecodle-mk__problem-chip\" data-problem-id=\"N-j0ivbRsm0\" href='#jce-judge/open/N-j0ivbRsm0' target='_self'><span>판다스 - 데이터 삭제 - 열 삭제</span></a>\n",
    "2. <a class=\"jcecodle-mk jcecodle-mk__problem-chip\" data-problem-id=\"tte1M-sG8tk\" href='#jce-judge/open/tte1M-sG8tk' target='_self'><span>판다스 - 데이터 삭제 - 행 삭제</span></a>\n",
    "3. 열과 행 모두 삭제\n"
   ]
  }
 ],
 "metadata": {
  "kernelspec": {
   "display_name": "Python 3 (ipykernel)",
   "language": "python",
   "name": "python3"
  },
  "language_info": {
   "codemirror_mode": {
    "name": "ipython",
    "version": 3
   },
   "file_extension": ".py",
   "mimetype": "text/x-python",
   "name": "python",
   "nbconvert_exporter": "python",
   "pygments_lexer": "ipython3",
   "version": "3.10.9"
  }
 },
 "nbformat": 4,
 "nbformat_minor": 5
}
