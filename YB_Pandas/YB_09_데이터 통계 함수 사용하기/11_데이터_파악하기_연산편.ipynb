{
 "cells": [
  {
   "cell_type": "markdown",
   "id": "d7408c9a-bce3-4385-8cb8-51bbe9902972",
   "metadata": {
    "tags": []
   },
   "source": [
    "#### [시작하기]\n",
    "\n",
    "<div class=\"alert alert-info\">\n",
    "    <font color=black>\n",
    "    Pandas를 사용하기 위해서 처음 할 일을 무엇인가요?\n",
    "    </font>\n",
    "</div>"
   ]
  },
  {
   "cell_type": "code",
   "execution_count": 1,
   "id": "a022ca8d-8151-4def-8fde-177215c49a17",
   "metadata": {},
   "outputs": [],
   "source": [
    "import pandas as pd # 판다스를 pd로 축약하여 불러옵니다"
   ]
  },
  {
   "cell_type": "markdown",
   "id": "6b63c9cc-92be-4a59-b710-13dd91bc8d9c",
   "metadata": {
    "tags": []
   },
   "source": [
    "# **[11] 데이터 파악하기 - 연산편**\n",
    "\n",
    "[오늘 배울 것]\n",
    "1. 데이터의 개수와 총합을 구할 수 있다.\n",
    "2. 데이터의 크기 순서를 구할 수 있다.\n",
    "3. 데이터의 간략화 연산을 할 수 있다. "
   ]
  },
  {
   "cell_type": "markdown",
   "id": "f9ab56ba-b13b-42a2-bc36-abe5e24c46d6",
   "metadata": {},
   "source": [
    "> 주어진 데이터를 이해하기 위해서는 연산을 통해 여러가지 정보를 파악해야 합니다.  \n",
    "> 대표적으로 많이 사용되는 연산들을 배워봅시다. \n",
    ">\n",
    "> 우선 오늘 사용할 DataFrame을 만들어봅시다. "
   ]
  },
  {
   "cell_type": "code",
   "execution_count": 2,
   "id": "9c8f8652-0c9e-4c05-a09f-ee0c10264495",
   "metadata": {},
   "outputs": [
    {
     "data": {
      "text/html": [
       "<div>\n",
       "<style scoped>\n",
       "    .dataframe tbody tr th:only-of-type {\n",
       "        vertical-align: middle;\n",
       "    }\n",
       "\n",
       "    .dataframe tbody tr th {\n",
       "        vertical-align: top;\n",
       "    }\n",
       "\n",
       "    .dataframe thead th {\n",
       "        text-align: right;\n",
       "    }\n",
       "</style>\n",
       "<table border=\"1\" class=\"dataframe\">\n",
       "  <thead>\n",
       "    <tr style=\"text-align: right;\">\n",
       "      <th></th>\n",
       "      <th>비용</th>\n",
       "      <th>시간</th>\n",
       "      <th>변위</th>\n",
       "    </tr>\n",
       "  </thead>\n",
       "  <tbody>\n",
       "    <tr>\n",
       "      <th>1</th>\n",
       "      <td>99.72</td>\n",
       "      <td>102.0</td>\n",
       "      <td>-234.0</td>\n",
       "    </tr>\n",
       "    <tr>\n",
       "      <th>2</th>\n",
       "      <td>10.44</td>\n",
       "      <td>34.0</td>\n",
       "      <td>NaN</td>\n",
       "    </tr>\n",
       "    <tr>\n",
       "      <th>3</th>\n",
       "      <td>4.15</td>\n",
       "      <td>21.0</td>\n",
       "      <td>56.0</td>\n",
       "    </tr>\n",
       "    <tr>\n",
       "      <th>4</th>\n",
       "      <td>80.92</td>\n",
       "      <td>84.0</td>\n",
       "      <td>-34.0</td>\n",
       "    </tr>\n",
       "    <tr>\n",
       "      <th>5</th>\n",
       "      <td>56.28</td>\n",
       "      <td>23.0</td>\n",
       "      <td>NaN</td>\n",
       "    </tr>\n",
       "    <tr>\n",
       "      <th>6</th>\n",
       "      <td>28.01</td>\n",
       "      <td>NaN</td>\n",
       "      <td>92.0</td>\n",
       "    </tr>\n",
       "    <tr>\n",
       "      <th>7</th>\n",
       "      <td>45.34</td>\n",
       "      <td>94.0</td>\n",
       "      <td>76.0</td>\n",
       "    </tr>\n",
       "    <tr>\n",
       "      <th>8</th>\n",
       "      <td>28.32</td>\n",
       "      <td>45.0</td>\n",
       "      <td>-42.0</td>\n",
       "    </tr>\n",
       "    <tr>\n",
       "      <th>9</th>\n",
       "      <td>45.50</td>\n",
       "      <td>12.0</td>\n",
       "      <td>12.0</td>\n",
       "    </tr>\n",
       "    <tr>\n",
       "      <th>10</th>\n",
       "      <td>84.12</td>\n",
       "      <td>56.0</td>\n",
       "      <td>-123.0</td>\n",
       "    </tr>\n",
       "  </tbody>\n",
       "</table>\n",
       "</div>"
      ],
      "text/plain": [
       "       비용     시간     변위\n",
       "1   99.72  102.0 -234.0\n",
       "2   10.44   34.0    NaN\n",
       "3    4.15   21.0   56.0\n",
       "4   80.92   84.0  -34.0\n",
       "5   56.28   23.0    NaN\n",
       "6   28.01    NaN   92.0\n",
       "7   45.34   94.0   76.0\n",
       "8   28.32   45.0  -42.0\n",
       "9   45.50   12.0   12.0\n",
       "10  84.12   56.0 -123.0"
      ]
     },
     "execution_count": 2,
     "metadata": {},
     "output_type": "execute_result"
    }
   ],
   "source": [
    "# 예제 1: Pandas DataFrame 만들기\n",
    "\n",
    "data = pd.DataFrame(index=list(range(1, 11)), \n",
    "                            data={'비용':[99.72, 10.44, 4.15, 80.92, 56.28, 28.01, 45.34, 28.32, 45.50, 84.12],\n",
    "                                  '시간': [102, 34, 21, 84, 23, None, 94, 45, 12, 56], \n",
    "                                  '변위':[-234, None, 56, -34, None, 92, 76, -42, 12, -123]})\n",
    "data"
   ]
  },
  {
   "cell_type": "markdown",
   "id": "9e25aa6d-59fe-4f7d-a213-4be4d9341895",
   "metadata": {
    "tags": []
   },
   "source": [
    "## **1. 데이터의 개수와 총합**"
   ]
  },
  {
   "cell_type": "markdown",
   "id": "216aaf5f-839e-4bf0-8a4e-979259289146",
   "metadata": {
    "tags": []
   },
   "source": [
    "### **(1) 데이터의 개수 파악하기**\n",
    "\n",
    "> `count`는 행 혹은 열의 방향으로 `Nan`이 아닌 데이터 값의 개수를 알려줍니다.  \n",
    ">\n",
    "> `Series.count()` : 데이터 개수 반환  \n",
    "> `DataFrame.count()` : 각 열의 데이터 개수 반환   \n",
    "> `DataFrame.count(axis=1)` : 각 행의 데이터 개수 반환   \n",
    " \n",
    "\n",
    "> **[주의]** 이전에 배운 `len`와 `shape`는 데이터의 공간 크기를 반환하며 이들은 데이터의 값과는 상관이 없습니다."
   ]
  },
  {
   "cell_type": "code",
   "execution_count": 3,
   "id": "98c92831-1aea-48f5-a1f8-87530ba27cb8",
   "metadata": {},
   "outputs": [
    {
     "name": "stdout",
     "output_type": "stream",
     "text": [
      "비용 열의 데이터 개수: 10\n",
      "시간 열의 데이터 개수: 9\n",
      "변위 열의 데이터 개수: 8\n",
      "\n",
      "각 열의 데이터 개수(1): \n",
      "비용    10\n",
      "시간     9\n",
      "변위     8\n",
      "dtype: int64\n",
      "\n",
      "각 열의 데이터 개수(2): \n",
      "비용    10\n",
      "시간     9\n",
      "변위     8\n",
      "dtype: int64\n",
      "\n",
      "각 행의 데이터 개수: \n",
      "1     3\n",
      "2     2\n",
      "3     3\n",
      "4     3\n",
      "5     2\n",
      "6     2\n",
      "7     3\n",
      "8     3\n",
      "9     3\n",
      "10    3\n",
      "dtype: int64\n"
     ]
    }
   ],
   "source": [
    "# 예제 1: count 로 데이터 개수 파악하기\n",
    "\n",
    "# Series.count()\n",
    "print(\"비용 열의 데이터 개수:\", data.비용.count())\n",
    "print(\"시간 열의 데이터 개수:\", data.시간.count())\n",
    "print(\"변위 열의 데이터 개수:\", data.변위.count())\n",
    "\n",
    "# DataFrame.count()\n",
    "print(\"\\n각 열의 데이터 개수(1): \")\n",
    "print(data.count())\n",
    "print(\"\\n각 열의 데이터 개수(2): \")\n",
    "print(data.count(axis=0))\n",
    "\n",
    "# DataFrame.count(axis=1)\n",
    "print(\"\\n각 행의 데이터 개수: \")\n",
    "print(data.count(axis=1))"
   ]
  },
  {
   "cell_type": "markdown",
   "id": "a18e007a-4238-4e69-bbaa-6005c8fd41fb",
   "metadata": {},
   "source": [
    "#### <연습문제>\n",
    "<a class=\"jcecodle-mk jcecodle-mk__problem-chip\" data-problem-id=\"382GQJkEmuY\" href='#jce-judge/open/382GQJkEmuY' target='_self'><span>판다스 - 데이터 연산하기 - count</span></a>\n"
   ]
  },
  {
   "cell_type": "markdown",
   "id": "7670ae87-b56d-4c31-a9f9-34f51150585c",
   "metadata": {
    "tags": []
   },
   "source": [
    "### **(2) 데이터의 합 파악하기**\n",
    "\n",
    "> `sum`은 행 혹은 열의 방향으로 `Nan`이 아닌 데이터의 합을 알려줍니다.\n",
    ">\n",
    ">`Series.sum()` : 데이터 합 반환  \n",
    ">`DataFrame.sum()` : 각 열의 데이터 합 반환  \n",
    ">`DataFrame.sum(axis=1)` : 각 행의 데이터 합 반환  \n",
    ">\n",
    "\n",
    "> DataFrame의 2차원 데이터를 모두 더하고 싶을때는 두번 사용하면 됩니다. \n",
    ">\n",
    "> `DataFrame.sum().sum()` : 전체 데이터 합 반환"
   ]
  },
  {
   "cell_type": "code",
   "execution_count": 4,
   "id": "1285ee85-3e28-4bfa-9a60-200452015d7c",
   "metadata": {},
   "outputs": [
    {
     "name": "stdout",
     "output_type": "stream",
     "text": [
      "비용 열의 데이터 합: 482.8\n",
      "시간 열의 데이터 합: 471.0\n",
      "변위 열의 데이터 합: -197.0\n",
      "\n",
      "각 열의 데이터 합: \n",
      "비용    482.8\n",
      "시간    471.0\n",
      "변위   -197.0\n",
      "dtype: float64\n",
      "\n",
      "각 행의 데이터 합: \n",
      "1     -32.28\n",
      "2      44.44\n",
      "3      81.15\n",
      "4     130.92\n",
      "5      79.28\n",
      "6     120.01\n",
      "7     215.34\n",
      "8      31.32\n",
      "9      69.50\n",
      "10     17.12\n",
      "dtype: float64\n",
      "\n",
      "전체 데이터 합: \n",
      "756.8\n"
     ]
    }
   ],
   "source": [
    "# 예제 2 : sum 으로 데이터 합 파악하기\n",
    "\n",
    "# Series.sum()\n",
    "print(\"비용 열의 데이터 합:\", data.비용.sum())\n",
    "print(\"시간 열의 데이터 합:\", data.시간.sum())\n",
    "print(\"변위 열의 데이터 합:\", data.변위.sum())\n",
    "\n",
    "# DataFrame.sum()\n",
    "print(\"\\n각 열의 데이터 합: \")\n",
    "print(data.sum())\n",
    "\n",
    "# DataFrame.sum(axis=1)\n",
    "print(\"\\n각 행의 데이터 합: \")\n",
    "print(data.sum(axis=1))\n",
    "\n",
    "# DataFrame.sum().sum()\n",
    "print(\"\\n전체 데이터 합: \")\n",
    "print(data.sum().sum())"
   ]
  },
  {
   "cell_type": "markdown",
   "id": "9d54e8e0-5e3e-47ec-8a85-5ef2f80669d0",
   "metadata": {},
   "source": [
    "#### <연습문제>\n",
    "<a class=\"jcecodle-mk jcecodle-mk__problem-chip\" data-problem-id=\"0JU_Sr_2GP0\" href='#jce-judge/open/0JU_Sr_2GP0' target='_self'><span>판다스 - 데이터 연산하기 - sum (1)</span></a>\n",
    "<a class=\"jcecodle-mk jcecodle-mk__problem-chip\" data-problem-id=\"nOauwzr8TZU\" href='#jce-judge/open/nOauwzr8TZU' target='_self'><span>판다스 - 데이터 연산하기 - sum (2)</span></a>\n"
   ]
  },
  {
   "cell_type": "markdown",
   "id": "41f90cc2-f258-4e0c-8723-3fb3cee61306",
   "metadata": {
    "tags": []
   },
   "source": [
    "## **2. 데이터의 값의 크기**"
   ]
  },
  {
   "cell_type": "markdown",
   "id": "55a09b12-809d-43e8-a6fd-778ded63483e",
   "metadata": {
    "tags": []
   },
   "source": [
    "DataFrame.rank()### **(1) 데이터의 크기 순서 파악하기**\n",
    "\n",
    "> `rank`는 행 혹은 열의 방향으로 데이터의 크기 순서를 담은 데이터를 반환합니다.  \n",
    "> n개의 데이터가 있다면 데이터의 값 대신 1부터 n이 반환됩니다.  \n",
    "> \n",
    "> 기본적으로 가장 작은 값이 1이 됩니다.  \n",
    ">`rank(ascending=False)` 이면 가장 큰 값이 1이 됩니다.  \n",
    "> 동률이면 순위의 평균이 반환됩니다.\n",
    ">\n",
    "> 숫자 뿐 아니라 문자 데이터도 알파벳 순으로 크기 순서가 결정됩니다.\n",
    ">\n",
    "> `Series.rank()` : 데이터 크기 순서를 Series로 반환  \n",
    "> `DataFrame.rank()` : 각 열마다 데이터 크기 순서를 DataFrame으로 반환  \n",
    "> `DataFrame.rank(axis=1)` : 각 행마다 데이터 크기 순서를 DataFrame으로 반환"
   ]
  },
  {
   "cell_type": "code",
   "execution_count": 5,
   "id": "44302486-8eff-4a3c-ab15-b8c055f00c09",
   "metadata": {},
   "outputs": [
    {
     "name": "stdout",
     "output_type": "stream",
     "text": [
      "비용 열의 데이터 크기 순서:\n",
      "        비용    비용\n",
      "1   99.72  10.0\n",
      "2   10.44   2.0\n",
      "3    4.15   1.0\n",
      "4   80.92   8.0\n",
      "5   56.28   7.0\n",
      "6   28.01   3.0\n",
      "7   45.34   5.0\n",
      "8   28.32   4.0\n",
      "9   45.50   6.0\n",
      "10  84.12   9.0\n",
      "\n",
      "각 열의 데이터 크기 순서:\n",
      "        비용     시간     변위    비용   시간   변위\n",
      "1   99.72  102.0 -234.0   1.0  1.0  8.0\n",
      "2   10.44   34.0    NaN   9.0  6.0  NaN\n",
      "3    4.15   21.0   56.0  10.0  8.0  3.0\n",
      "4   80.92   84.0  -34.0   3.0  3.0  5.0\n",
      "5   56.28   23.0    NaN   4.0  7.0  NaN\n",
      "6   28.01    NaN   92.0   8.0  NaN  1.0\n",
      "7   45.34   94.0   76.0   6.0  2.0  2.0\n",
      "8   28.32   45.0  -42.0   7.0  5.0  6.0\n",
      "9   45.50   12.0   12.0   5.0  9.0  4.0\n",
      "10  84.12   56.0 -123.0   2.0  4.0  7.0\n"
     ]
    }
   ],
   "source": [
    "# 예제 3 : rank로 데이터 크기 순서 파악하기 \n",
    "\n",
    "# Series.rank()\n",
    "# concat 함수를 이용해서 원래의 데이터와 rank 결과를 함께 나타내기\n",
    "print(\"비용 열의 데이터 크기 순서:\\n\", pd.concat([data.비용, data.비용.rank()], axis=1))\n",
    "\n",
    "# DataFrame.rank(ascending=False)\n",
    "# concat 함수를 이용해서 원래의 데이터와 rank 결과를 함께 나타내기\n",
    "print(\"\\n각 열의 데이터 크기 순서:\\n\", pd.concat([data, data.rank(ascending=False)], axis=1))"
   ]
  },
  {
   "cell_type": "markdown",
   "id": "f03d8199-40a2-4c31-8f60-2544121d5246",
   "metadata": {},
   "source": [
    "#### <연습문제>\n",
    "<a class=\"jcecodle-mk jcecodle-mk__problem-chip\" data-problem-id=\"QCIVQ-01EuM\" href='#jce-judge/open/QCIVQ-01EuM' target='_self'><span>판다스 - 데이터 연산하기 - rank</span></a>\n"
   ]
  },
  {
   "cell_type": "markdown",
   "id": "5ce596d9-fa66-43dc-a322-5ee308cebe74",
   "metadata": {
    "tags": []
   },
   "source": [
    "### **(2) 가장 크거나 작은 값이 있는 행/열 반환하기**\n",
    "\n",
    "> 가장 큰 값이나 가장 작은 값을 가지는 데이터는 중요합니다.  \n",
    "> 이들만 특정하여 확인할 수 있도록 인덱싱하는 방법이 있습니다.  \n",
    ">\n",
    "> `Series.idxmax()` : 가장 값이 큰 행의 인덱스를 반환  \n",
    "> `Series[Series.idxmax()]` : 가장 값이 큰 행을 반환\n",
    ">\n",
    "> `DataFrame[\"key\"].idxmax()` : key 열에서 가장 값이 큰 행의 인덱스를 반환  \n",
    "> `DataFrame.loc[DataFrame[\"key\"].idxmax()]` : key 열에서 가장 값이 큰 행을 반환  \n",
    "\n",
    "> `idxmin` : 가장 작은 값에 대하여 반환"
   ]
  },
  {
   "cell_type": "code",
   "execution_count": 6,
   "id": "96b8f4eb-1b69-407f-93b9-83659922587e",
   "metadata": {},
   "outputs": [
    {
     "name": "stdout",
     "output_type": "stream",
     "text": [
      "비용이 가장 높은 행의 인덱스:  1\n",
      "비용이 가장 높은 행: \n",
      " 비용     99.72\n",
      "시간    102.00\n",
      "변위   -234.00\n",
      "Name: 1, dtype: float64\n"
     ]
    }
   ],
   "source": [
    "# 예제 4: idxmax 이용해 가장 큰 값이 있는 행 인덱싱\n",
    "\n",
    "print(\"비용이 가장 높은 행의 인덱스: \", data.비용.idxmax())\n",
    "print(\"비용이 가장 높은 행: \\n\", data.loc[data.비용.idxmax()])"
   ]
  },
  {
   "cell_type": "code",
   "execution_count": 7,
   "id": "f2624165-d930-4b33-b5ca-e5ea06b24809",
   "metadata": {},
   "outputs": [
    {
     "name": "stdout",
     "output_type": "stream",
     "text": [
      "시간이 가장 적게 걸리는 행의 인덱스:  9\n",
      "시간이 가장 적게 걸리는 행: \n",
      " 비용    45.5\n",
      "시간    12.0\n",
      "변위    12.0\n",
      "Name: 9, dtype: float64\n"
     ]
    }
   ],
   "source": [
    "# 예제 5: idxmin 이용해 가장 작은 값이 있는 열 인덱싱\n",
    "\n",
    "print(\"시간이 가장 적게 걸리는 행의 인덱스: \", data.시간.idxmin())\n",
    "print(\"시간이 가장 적게 걸리는 행: \\n\", data.loc[data.시간.idxmin()])"
   ]
  },
  {
   "cell_type": "markdown",
   "id": "3abea844-877b-44d7-8c48-81b609da214b",
   "metadata": {
    "tags": []
   },
   "source": [
    "#### <연습문제>\n",
    "<a class=\"jcecodle-mk jcecodle-mk__problem-chip\" data-problem-id=\"_8jUyWKYLHU\" href='#jce-judge/open/_8jUyWKYLHU' target='_self'><span>판다스 - 데이터 연산하기 - idxmax</span></a>\n",
    "<a class=\"jcecodle-mk jcecodle-mk__problem-chip\" data-problem-id=\"UyGtM9-My2Q\" href='#jce-judge/open/UyGtM9-My2Q' target='_self'><span>판다스 - 데이터 연산하기 - idxmin</span></a>\n",
    "\n"
   ]
  },
  {
   "cell_type": "markdown",
   "id": "8e4bd91d-53e0-48d0-aad4-7e87112c7c4e",
   "metadata": {
    "tags": []
   },
   "source": [
    "## **3. 데이터 값 간략화**"
   ]
  },
  {
   "cell_type": "markdown",
   "id": "3124a696-b759-4037-9e2e-f6e75583901c",
   "metadata": {
    "tags": []
   },
   "source": [
    "### **(1) 실수 데이터 반올림하기**\n",
    "\n",
    "> 데이터의 값이 복잡할때 값을 어림하여 간단히 나타낼 수 있습니다.  \n",
    "> `round`는 실수 데이터를 반올림한 결과를 반환합니다.  \n",
    "> 기본적으로 소수점 뒤 첫째자리에서 반올림하며, \n",
    "> 반올림할 위치를 정할 수도 있습니다.\n",
    ">\n",
    "> `Series.round()`, `DataFrame.round()`: 소수점 뒤 첫째자리에서 반올림한 결과를 반환  \n",
    "> `round(n)`: 소수점 뒤 n+1번째 자리에서 반올림한 결과를 반환  \n",
    "> `round(-n)`: 소수점 앞 n번째 자리에서 반올림한 결과를 반환"
   ]
  },
  {
   "cell_type": "code",
   "execution_count": 8,
   "id": "9a8749ad-84a1-49b5-b814-3b21d7549363",
   "metadata": {},
   "outputs": [
    {
     "name": "stdout",
     "output_type": "stream",
     "text": [
      "소수점 뒤 첫째자리에서 반올림:\n",
      "1     100.0\n",
      "2      10.0\n",
      "3       4.0\n",
      "4      81.0\n",
      "5      56.0\n",
      "6      28.0\n",
      "7      45.0\n",
      "8      28.0\n",
      "9      46.0\n",
      "10     84.0\n",
      "Name: 비용, dtype: float64\n",
      "\n",
      "소수점 뒤 둘째자리에서 반올림:\n",
      "1     99.7\n",
      "2     10.4\n",
      "3      4.2\n",
      "4     80.9\n",
      "5     56.3\n",
      "6     28.0\n",
      "7     45.3\n",
      "8     28.3\n",
      "9     45.5\n",
      "10    84.1\n",
      "Name: 비용, dtype: float64\n",
      "\n",
      "소수점 앞 첫째자리에서 반올림:\n",
      "1     100.0\n",
      "2      10.0\n",
      "3       0.0\n",
      "4      80.0\n",
      "5      60.0\n",
      "6      30.0\n",
      "7      50.0\n",
      "8      30.0\n",
      "9      50.0\n",
      "10     80.0\n",
      "Name: 비용, dtype: float64\n"
     ]
    }
   ],
   "source": [
    "# 예제 6 : round로 반올림하여 데이터 값 어림하기\n",
    "\n",
    "# 소수점 뒤 첫째자리에서 반올림하여 정수를 반환\n",
    "print('소수점 뒤 첫째자리에서 반올림:')\n",
    "print(data.비용.round())\n",
    "\n",
    "# 소수점 뒤 둘째자리에서 반올림하여 첫째자리까지 반환\n",
    "print('\\n소수점 뒤 둘째자리에서 반올림:')\n",
    "print(data.비용.round(1))\n",
    "\n",
    "# 소수점 앞 첫째자리에서 반올림하여 반환\n",
    "print('\\n소수점 앞 첫째자리에서 반올림:')\n",
    "print(data.비용.round(-1))"
   ]
  },
  {
   "cell_type": "markdown",
   "id": "be0dd620-8c1c-4014-bcbe-83f3c539d19b",
   "metadata": {},
   "source": [
    "#### <연습문제>\n",
    "\n",
    "<a class=\"jcecodle-mk jcecodle-mk__problem-chip\" data-problem-id=\"6UgfuWGCLOc\" href='#jce-judge/open/6UgfuWGCLOc' target='_self'><span>판다스 - 데이터 연산하기 - round</span></a>\n"
   ]
  },
  {
   "cell_type": "markdown",
   "id": "384897eb-3271-49bb-8f55-f5fb6d2a43fd",
   "metadata": {},
   "source": [
    "### **(2) 숫자 데이터 절댓값 구하기**\n",
    "\n",
    "> 음수로 된 데이터의 부호가 중요하지 않을때는 양수로 변환하여 간단히 나타내기도 합니다.    \n",
    "> `abs`는 숫자 데이터의 절댓값을 반환합니다. \n",
    ">\n",
    "> `Series.abs()`, `DataFrame.abs()`: 절댓값을 반환"
   ]
  },
  {
   "cell_type": "code",
   "execution_count": 9,
   "id": "f77fc3eb-6d55-4bbd-97cd-969e562961ec",
   "metadata": {},
   "outputs": [
    {
     "name": "stdout",
     "output_type": "stream",
     "text": [
      "변위 열의 데이터와 절댓값:\n",
      "        변위     변위\n",
      "1  -234.0  234.0\n",
      "2     NaN    NaN\n",
      "3    56.0   56.0\n",
      "4   -34.0   34.0\n",
      "5     NaN    NaN\n",
      "6    92.0   92.0\n",
      "7    76.0   76.0\n",
      "8   -42.0   42.0\n",
      "9    12.0   12.0\n",
      "10 -123.0  123.0\n",
      "\n",
      "절댓값으로 변환된 데이터:\n",
      "       비용     시간     변위\n",
      "1   99.72  102.0  234.0\n",
      "2   10.44   34.0    NaN\n",
      "3    4.15   21.0   56.0\n",
      "4   80.92   84.0   34.0\n",
      "5   56.28   23.0    NaN\n",
      "6   28.01    NaN   92.0\n",
      "7   45.34   94.0   76.0\n",
      "8   28.32   45.0   42.0\n",
      "9   45.50   12.0   12.0\n",
      "10  84.12   56.0  123.0\n"
     ]
    }
   ],
   "source": [
    "# 예제 7 : abs로 절댓값 구하기\n",
    "\n",
    "# Series.abs()\n",
    "# concat 함수를 이용해서 원래의 데이터와 abs 결과를 함께 나타내기\n",
    "print(\"변위 열의 데이터와 절댓값:\\n\", pd.concat([data.변위, data.변위.abs()], axis=1))\n",
    "\n",
    "# DataFrame.abs()\n",
    "print(\"\\n절댓값으로 변환된 데이터:\")\n",
    "print(data.abs())"
   ]
  },
  {
   "cell_type": "markdown",
   "id": "184102c4-d079-41f4-b094-548b5b584805",
   "metadata": {},
   "source": [
    "#### <연습문제>\n",
    "\n",
    "<a class=\"jcecodle-mk jcecodle-mk__problem-chip\" data-problem-id=\"igEUbY7Tfwc\" href='#jce-judge/open/igEUbY7Tfwc' target='_self'><span>판다스 - 데이터 연산하기 - abs</span></a>\n",
    "\n"
   ]
  },
  {
   "cell_type": "code",
   "execution_count": null,
   "id": "f0b264f1-4333-40d7-93ee-dcf85717655a",
   "metadata": {},
   "outputs": [],
   "source": []
  }
 ],
 "metadata": {
  "kernelspec": {
   "display_name": "Python 3 (ipykernel)",
   "language": "python",
   "name": "python3"
  },
  "language_info": {
   "codemirror_mode": {
    "name": "ipython",
    "version": 3
   },
   "file_extension": ".py",
   "mimetype": "text/x-python",
   "name": "python",
   "nbconvert_exporter": "python",
   "pygments_lexer": "ipython3",
   "version": "3.10.9"
  }
 },
 "nbformat": 4,
 "nbformat_minor": 5
}
