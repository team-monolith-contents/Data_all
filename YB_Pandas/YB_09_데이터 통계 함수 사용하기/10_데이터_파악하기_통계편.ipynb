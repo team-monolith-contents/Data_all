{
 "cells": [
  {
   "cell_type": "markdown",
   "id": "d7408c9a-bce3-4385-8cb8-51bbe9902972",
   "metadata": {
    "tags": []
   },
   "source": [
    "#### [시작하기]\n",
    "\n",
    "<div class=\"alert alert-info\">\n",
    "    <font color=black>\n",
    "    Pandas를 사용하기 위해서 처음 할 일을 무엇인가요?\n",
    "    </font>\n",
    "</div>"
   ]
  },
  {
   "cell_type": "code",
   "execution_count": 4,
   "id": "a022ca8d-8151-4def-8fde-177215c49a17",
   "metadata": {},
   "outputs": [],
   "source": [
    "import pandas as pd # 판다스를 pd로 축약하여 불러옵니다"
   ]
  },
  {
   "cell_type": "markdown",
   "id": "6b63c9cc-92be-4a59-b710-13dd91bc8d9c",
   "metadata": {
    "tags": []
   },
   "source": [
    "# **[10] 데이터 파악하기 - 통계편**\n",
    "\n",
    "[오늘 배울 것]\n",
    "1. 데이터의 최대, 최소, 중앙값을 구할 수 있다.\n",
    "2. 데이터의 평균, 표준편차를 구할 수 있다.\n",
    "3. 데이터의 최빈값을 구할 수 있다."
   ]
  },
  {
   "cell_type": "markdown",
   "id": "f9ab56ba-b13b-42a2-bc36-abe5e24c46d6",
   "metadata": {},
   "source": [
    "> 데이터의 분포를 파악하기 위해서는 여러가지 통계 정보를 확인해야 합니다.  \n",
    "> 대표적으로 많이 사용되는 통계값을 배워봅시다. \n",
    ">\n",
    "> 우선 오늘 사용할 DataFrame을 만들어봅시다. "
   ]
  },
  {
   "cell_type": "code",
   "execution_count": 5,
   "id": "9c8f8652-0c9e-4c05-a09f-ee0c10264495",
   "metadata": {},
   "outputs": [
    {
     "data": {
      "text/html": [
       "<div>\n",
       "<style scoped>\n",
       "    .dataframe tbody tr th:only-of-type {\n",
       "        vertical-align: middle;\n",
       "    }\n",
       "\n",
       "    .dataframe tbody tr th {\n",
       "        vertical-align: top;\n",
       "    }\n",
       "\n",
       "    .dataframe thead th {\n",
       "        text-align: right;\n",
       "    }\n",
       "</style>\n",
       "<table border=\"1\" class=\"dataframe\">\n",
       "  <thead>\n",
       "    <tr style=\"text-align: right;\">\n",
       "      <th></th>\n",
       "      <th>국어</th>\n",
       "      <th>수학</th>\n",
       "      <th>과학</th>\n",
       "    </tr>\n",
       "  </thead>\n",
       "  <tbody>\n",
       "    <tr>\n",
       "      <th>1</th>\n",
       "      <td>35</td>\n",
       "      <td>90</td>\n",
       "      <td>55</td>\n",
       "    </tr>\n",
       "    <tr>\n",
       "      <th>2</th>\n",
       "      <td>55</td>\n",
       "      <td>75</td>\n",
       "      <td>75</td>\n",
       "    </tr>\n",
       "    <tr>\n",
       "      <th>3</th>\n",
       "      <td>20</td>\n",
       "      <td>90</td>\n",
       "      <td>80</td>\n",
       "    </tr>\n",
       "    <tr>\n",
       "      <th>4</th>\n",
       "      <td>85</td>\n",
       "      <td>100</td>\n",
       "      <td>65</td>\n",
       "    </tr>\n",
       "    <tr>\n",
       "      <th>5</th>\n",
       "      <td>90</td>\n",
       "      <td>55</td>\n",
       "      <td>45</td>\n",
       "    </tr>\n",
       "    <tr>\n",
       "      <th>6</th>\n",
       "      <td>25</td>\n",
       "      <td>65</td>\n",
       "      <td>85</td>\n",
       "    </tr>\n",
       "    <tr>\n",
       "      <th>7</th>\n",
       "      <td>45</td>\n",
       "      <td>90</td>\n",
       "      <td>45</td>\n",
       "    </tr>\n",
       "    <tr>\n",
       "      <th>8</th>\n",
       "      <td>65</td>\n",
       "      <td>65</td>\n",
       "      <td>35</td>\n",
       "    </tr>\n",
       "    <tr>\n",
       "      <th>9</th>\n",
       "      <td>5</td>\n",
       "      <td>50</td>\n",
       "      <td>60</td>\n",
       "    </tr>\n",
       "    <tr>\n",
       "      <th>10</th>\n",
       "      <td>75</td>\n",
       "      <td>95</td>\n",
       "      <td>65</td>\n",
       "    </tr>\n",
       "  </tbody>\n",
       "</table>\n",
       "</div>"
      ],
      "text/plain": [
       "    국어   수학  과학\n",
       "1   35   90  55\n",
       "2   55   75  75\n",
       "3   20   90  80\n",
       "4   85  100  65\n",
       "5   90   55  45\n",
       "6   25   65  85\n",
       "7   45   90  45\n",
       "8   65   65  35\n",
       "9    5   50  60\n",
       "10  75   95  65"
      ]
     },
     "execution_count": 5,
     "metadata": {},
     "output_type": "execute_result"
    }
   ],
   "source": [
    "# 예제 1: Pandas DataFrame 만들기\n",
    "\n",
    "score = pd.DataFrame(index=list(range(1, 11)), \n",
    "                            data={'국어':[35, 55, 20, 85, 90, 25, 45, 65, 5, 75],\n",
    "                                  '수학':[90, 75, 90, 100, 55, 65, 90, 65, 50, 95], \n",
    "                                  '과학':[55, 75, 80, 65, 45, 85, 45, 35, 60, 65]})\n",
    "score"
   ]
  },
  {
   "attachments": {
    "6696eeff-7856-4316-b8f4-378209d64fa1.png": {
     "image/png": "[encoded data removed]"
    }
   },
   "cell_type": "markdown",
   "id": "9e25aa6d-59fe-4f7d-a213-4be4d9341895",
   "metadata": {
    "tags": []
   },
   "source": [
    "## **1. 데이터의 최대, 최소, 중앙값**\n",
    "\n",
    "> 다음 그림은 데이터를 값의 크기 순으로 나열한 결과입니다.  \n",
    "> 이때, 시작과 끝 그리고 중간의 값을 확인하면 데이터가 어떻게 분포되어있는지 파악하는데 도움이 됩니다.  \n",
    "![통계1.png](attachment:6696eeff-7856-4316-b8f4-378209d64fa1.png)\n",
    ">- 윗쪽의 경우 최솟값 30, 중앙값 45, 최댓값 60이므로 데이터가 고르게 분포한다고 볼 수 있습니다.  \n",
    ">- 아래쪽의 경우 최솟값 30, 중앙값 50, 최댓값 60이므로 큰 값 쪽으로 데이터가 몰려있다고 볼 수 있습니다.\n"
   ]
  },
  {
   "cell_type": "markdown",
   "id": "216aaf5f-839e-4bf0-8a4e-979259289146",
   "metadata": {
    "tags": []
   },
   "source": [
    "### **(1) 데이터의 최댓값, 최솟값 확인하기**\n",
    "\n",
    "> `max`, `min`는 행 혹은 열의 방향으로 가장 큰 값과 작은 값을 반환합니다.  \n",
    ">\n",
    "> `Series.max()` : 최댓값 반환  \n",
    "> `DataFrame.max()` : 각 열의 최댓값 반환   \n",
    "> `DataFrame.max(axis=1)` : 각 행의 최댓값 반환   \n",
    ">\n",
    "> `Series.min()` : 최솟값 반환  \n",
    "> `DataFrame.min()` : 각 열의 최솟값 반환   \n",
    "> `DataFrame.min(axis=1)` : 각 행의 최솟값 반환   \n"
   ]
  },
  {
   "cell_type": "code",
   "execution_count": 8,
   "id": "98c92831-1aea-48f5-a1f8-87530ba27cb8",
   "metadata": {},
   "outputs": [
    {
     "name": "stdout",
     "output_type": "stream",
     "text": [
      "국어의 최대 점수: 90\n",
      "수학의 최대 점수: 100\n",
      "과학의 최대 점수: 85\n",
      "\n",
      "각 과목의 최대 점수:\n",
      "국어     90\n",
      "수학    100\n",
      "과학     85\n",
      "dtype: int64\n",
      "\n",
      "각 학생의 최대 점수:\n",
      "1      90\n",
      "2      75\n",
      "3      90\n",
      "4     100\n",
      "5      90\n",
      "6      85\n",
      "7      90\n",
      "8      65\n",
      "9      60\n",
      "10     95\n",
      "dtype: int64\n"
     ]
    }
   ],
   "source": [
    "# 예제 1: max 로 최댓값 확인하기\n",
    "\n",
    "#Series.max\n",
    "print(\"국어의 최대 점수:\", score.국어.max())\n",
    "print(\"수학의 최대 점수:\", score.수학.max())\n",
    "print(\"과학의 최대 점수:\", score.과학.max())\n",
    "\n",
    "#DataFrame.max\n",
    "print(\"\\n각 과목의 최대 점수:\")\n",
    "print(score.max())\n",
    "\n",
    "#DataFrame.max(axis=1)\n",
    "print(\"\\n각 학생의 최대 점수:\")\n",
    "print(score.max(axis=1))"
   ]
  },
  {
   "cell_type": "code",
   "execution_count": 9,
   "id": "5d6196a6-d1c4-4381-acf4-aa3b4259d78a",
   "metadata": {},
   "outputs": [
    {
     "name": "stdout",
     "output_type": "stream",
     "text": [
      "국어의 최소 점수: 5\n",
      "수학의 최소 점수: 50\n",
      "과학의 최소 점수: 35\n",
      "\n",
      "각 과목의 최소 점수:\n",
      "국어     5\n",
      "수학    50\n",
      "과학    35\n",
      "dtype: int64\n",
      "\n",
      "각 학생의 최소 점수:\n",
      "1     35\n",
      "2     55\n",
      "3     20\n",
      "4     65\n",
      "5     45\n",
      "6     25\n",
      "7     45\n",
      "8     35\n",
      "9      5\n",
      "10    65\n",
      "dtype: int64\n"
     ]
    }
   ],
   "source": [
    "# 예제 2: min 으로 최댓값 확인하기\n",
    "\n",
    "#Series.min\n",
    "print(\"국어의 최소 점수:\", score.국어.min())\n",
    "print(\"수학의 최소 점수:\", score.수학.min())\n",
    "print(\"과학의 최소 점수:\", score.과학.min())\n",
    "\n",
    "#DataFrame.min\n",
    "print(\"\\n각 과목의 최소 점수:\")\n",
    "print(score.min())\n",
    "\n",
    "#DataFrame.min(axis=1)\n",
    "print(\"\\n각 학생의 최소 점수:\")\n",
    "print(score.min(axis=1))"
   ]
  },
  {
   "cell_type": "markdown",
   "id": "a18e007a-4238-4e69-bbaa-6005c8fd41fb",
   "metadata": {},
   "source": [
    "#### <연습문제>\n",
    "<a class=\"jcecodle-mk jcecodle-mk__problem-chip\" data-problem-id=\"WocVHm-2gLs\" href='#jce-judge/open/WocVHm-2gLs' target='_self'><span>판다스 - 데이터 통계 - min</span></a>\n",
    "<a class=\"jcecodle-mk jcecodle-mk__problem-chip\" data-problem-id=\"wof3MOPluTM\" href='#jce-judge/open/wof3MOPluTM' target='_self'><span>판다스 - 데이터 통계 - max</span></a>\n",
    "\n"
   ]
  },
  {
   "cell_type": "markdown",
   "id": "7670ae87-b56d-4c31-a9f9-34f51150585c",
   "metadata": {
    "tags": []
   },
   "source": [
    "### **(2) 데이터의 중앙값 확인하기**\n",
    "\n",
    "> `median`은 행 혹은 열의 방향으로 중앙값을 반환합니다.  \n",
    ">\n",
    "> `Series.median()` : 중앙값 반환  \n",
    "> `DataFrame.median()` : 각 열의 중앙값 반환   \n",
    "> `DataFrame.median(axis=1)` : 각 행의 중앙값 반환   "
   ]
  },
  {
   "cell_type": "code",
   "execution_count": 15,
   "id": "1285ee85-3e28-4bfa-9a60-200452015d7c",
   "metadata": {},
   "outputs": [
    {
     "name": "stdout",
     "output_type": "stream",
     "text": [
      "국어의 중앙 점수: 50.0\n",
      "수학의 중앙 점수: 82.5\n",
      "과학의 중앙 점수: 62.5\n",
      "\n",
      "각 과목의 중앙 점수:\n",
      "국어    50.0\n",
      "수학    82.5\n",
      "과학    62.5\n",
      "dtype: float64\n",
      "\n",
      "각 학생의 중앙 점수:\n",
      "1     55.0\n",
      "2     75.0\n",
      "3     80.0\n",
      "4     85.0\n",
      "5     55.0\n",
      "6     65.0\n",
      "7     45.0\n",
      "8     65.0\n",
      "9     50.0\n",
      "10    75.0\n",
      "dtype: float64\n"
     ]
    }
   ],
   "source": [
    "# 예제 3: median 으로 중앙값 확인하기\n",
    "\n",
    "#Series.median\n",
    "print(\"국어의 중앙 점수:\", score.국어.median())\n",
    "print(\"수학의 중앙 점수:\", score.수학.median())\n",
    "print(\"과학의 중앙 점수:\", score.과학.median())\n",
    "\n",
    "#DataFrame.median\n",
    "print(\"\\n각 과목의 중앙 점수:\")\n",
    "print(score.median())\n",
    "\n",
    "#DataFrame.median(axis=1)\n",
    "print(\"\\n각 학생의 중앙 점수:\")\n",
    "print(score.median(axis=1))"
   ]
  },
  {
   "cell_type": "markdown",
   "id": "9d54e8e0-5e3e-47ec-8a85-5ef2f80669d0",
   "metadata": {},
   "source": [
    "#### <연습문제>\n",
    "\n",
    "<a class=\"jcecodle-mk jcecodle-mk__problem-chip\" data-problem-id=\"F6pUd4gvMwM\" href='#jce-judge/open/F6pUd4gvMwM' target='_self'><span>판다스 - 데이터 통계 - median</span></a>\n",
    "\n",
    "\n"
   ]
  },
  {
   "attachments": {
    "3eab8bbd-7fb1-4c6c-872b-eb8814c1b432.png": {
     "image/png": "[encoded data removed]"
    }
   },
   "cell_type": "markdown",
   "id": "41f90cc2-f258-4e0c-8723-3fb3cee61306",
   "metadata": {
    "tags": []
   },
   "source": [
    "## **2. 데이터의 평균, 표준편차**\n",
    "\n",
    "> 다음 그림은 데이터의 분포를 나타내는 히스토그램입니다.  \n",
    "> 평균값은 빨간막대로 표시되어 있고 데이터를 대표할 수 있는 값입니다.  \n",
    "> 표준편차는 보라색 화살표로 표시되어 있고 데이터가 평균값으로 부터 얼마나 넓게 분포되어 있는지 보여줍니다.  \n",
    "> 평균값과 표준편차를 알면 데이터가 어떻게 분포되어있는지 파악하는데 도움이 됩니다.  \n",
    "\n",
    "![통계2.png](attachment:3eab8bbd-7fb1-4c6c-872b-eb8814c1b432.png)"
   ]
  },
  {
   "cell_type": "markdown",
   "id": "55a09b12-809d-43e8-a6fd-778ded63483e",
   "metadata": {
    "tags": []
   },
   "source": [
    "### **(1) 데이터의 평균값 확인하기**\n",
    "\n",
    "> `mean`은 행 혹은 열의 방향으로 평균값을 반환합니다.  \n",
    ">\n",
    "> `Series.mean()` : 평균값 반환  \n",
    "> `DataFrame.mean()` : 각 열의 평균값 반환   \n",
    "> `DataFrame.mean(axis=1)` : 각 행의 평균값 반환   "
   ]
  },
  {
   "cell_type": "code",
   "execution_count": 18,
   "id": "44302486-8eff-4a3c-ab15-b8c055f00c09",
   "metadata": {},
   "outputs": [
    {
     "name": "stdout",
     "output_type": "stream",
     "text": [
      "국어의 평균 점수: 50.0\n",
      "수학의 평균 점수: 77.5\n",
      "과학의 평균 점수: 61.0\n",
      "\n",
      "각 과목의 평균 점수:\n",
      "국어    50.0\n",
      "수학    77.5\n",
      "과학    61.0\n",
      "dtype: float64\n",
      "\n",
      "각 학생의 평균 점수:\n",
      "1     60.000000\n",
      "2     68.333333\n",
      "3     63.333333\n",
      "4     83.333333\n",
      "5     63.333333\n",
      "6     58.333333\n",
      "7     60.000000\n",
      "8     55.000000\n",
      "9     38.333333\n",
      "10    78.333333\n",
      "dtype: float64\n"
     ]
    }
   ],
   "source": [
    "# 예제 4: mean 으로 평균값 확인하기\n",
    "\n",
    "#Series.mean\n",
    "print(\"국어의 평균 점수:\", score.국어.mean())\n",
    "print(\"수학의 평균 점수:\", score.수학.mean())\n",
    "print(\"과학의 평균 점수:\", score.과학.mean())\n",
    "\n",
    "#DataFrame.mean\n",
    "print(\"\\n각 과목의 평균 점수:\")\n",
    "print(score.mean())\n",
    "\n",
    "#DataFrame.mean(axis=1)\n",
    "print(\"\\n각 학생의 평균 점수:\")\n",
    "print(score.mean(axis=1))"
   ]
  },
  {
   "cell_type": "markdown",
   "id": "f03d8199-40a2-4c31-8f60-2544121d5246",
   "metadata": {},
   "source": [
    "#### <연습문제>\n",
    "\n",
    "<a class=\"jcecodle-mk jcecodle-mk__problem-chip\" data-problem-id=\"lHKazuduw5A\" href='#jce-judge/open/lHKazuduw5A' target='_self'><span>판다스 - 데이터 통계 -  mean</span></a>\n",
    "\n"
   ]
  },
  {
   "cell_type": "markdown",
   "id": "5ce596d9-fa66-43dc-a322-5ee308cebe74",
   "metadata": {
    "tags": []
   },
   "source": [
    "### **(2) 데이터의 표준편차 확인하기**\n",
    "\n",
    "> `std`는 행 혹은 열의 방향으로 표준편차를 반환합니다.  \n",
    ">\n",
    "> `Series.std()` : 표준편차 반환  \n",
    "> `DataFrame.std()` : 각 열의 표준편차 반환   \n",
    "> `DataFrame.std(axis=1)` : 각 행의 표준편차 반환 "
   ]
  },
  {
   "cell_type": "code",
   "execution_count": 19,
   "id": "96b8f4eb-1b69-407f-93b9-83659922587e",
   "metadata": {},
   "outputs": [
    {
     "name": "stdout",
     "output_type": "stream",
     "text": [
      "국어 점수의 표준편차: 28.867513459481287\n",
      "수학 점수의 표준편차: 17.834112132527245\n",
      "과학 점수의 표준편차: 16.29587541544042\n",
      "\n",
      "각 과목 점수의 표준편차:\n",
      "국어    28.867513\n",
      "수학    17.834112\n",
      "과학    16.295875\n",
      "dtype: float64\n",
      "\n",
      "각 학생 점수의 표준편차:\n",
      "1     27.838822\n",
      "2     11.547005\n",
      "3     37.859389\n",
      "4     17.559423\n",
      "5     23.629078\n",
      "6     30.550505\n",
      "7     25.980762\n",
      "8     17.320508\n",
      "9     29.297326\n",
      "10    15.275252\n",
      "dtype: float64\n"
     ]
    }
   ],
   "source": [
    "# 예제 5: std 로 표준편차 확인하기\n",
    "\n",
    "#Series.std\n",
    "print(\"국어 점수의 표준편차:\", score.국어.std())\n",
    "print(\"수학 점수의 표준편차:\", score.수학.std())\n",
    "print(\"과학 점수의 표준편차:\", score.과학.std())\n",
    "\n",
    "#DataFrame.std\n",
    "print(\"\\n각 과목 점수의 표준편차:\")\n",
    "print(score.std())\n",
    "\n",
    "#DataFrame.std(axis=1)\n",
    "print(\"\\n각 학생 점수의 표준편차:\")\n",
    "print(score.std(axis=1))"
   ]
  },
  {
   "cell_type": "markdown",
   "id": "3abea844-877b-44d7-8c48-81b609da214b",
   "metadata": {
    "tags": []
   },
   "source": [
    "#### <연습문제>\n",
    "\n",
    "<a class=\"jcecodle-mk jcecodle-mk__problem-chip\" data-problem-id=\"SZoWwB5VS24\" href='#jce-judge/open/SZoWwB5VS24' target='_self'><span>판다스 - 데이터 통계 - std</span></a>\n",
    "\n"
   ]
  },
  {
   "cell_type": "markdown",
   "id": "8e4bd91d-53e0-48d0-aad4-7e87112c7c4e",
   "metadata": {
    "tags": []
   },
   "source": [
    "## **3. 데이터의 최빈값**\n",
    "\n",
    "> 데이터에서 가장 많이 나타나는 값인 최빈값도 의미가 있습니다.  \n",
    "> 문자(범주형) 데이터의 경우 위에서 구했던 통계값을 사용할 수 없습니다.  \n",
    "> 이때에는 각 범주의 데이터가 얼마나 나타나는지가 중요합니다. 이때 최빈값을 이용할 수 있습니다.  "
   ]
  },
  {
   "cell_type": "markdown",
   "id": "3124a696-b759-4037-9e2e-f6e75583901c",
   "metadata": {
    "tags": []
   },
   "source": [
    "### **(1) 숫자 데이터의 최빈값 찾기**\n",
    "\n",
    "> `mode`는 행 혹은 열의 방향으로 최빈값을 반환합니다.  \n",
    "> 최빈값이 여러개이면 모두를 반환합니다.\n",
    ">\n",
    "> `Series.mode()` : 최빈값 반환  \n",
    "> `DataFrame.mode()` : 각 열의 최빈값 반환   \n",
    "> `DataFrame.mode(axis=1)` : 각 행의 최빈값 반환 "
   ]
  },
  {
   "cell_type": "code",
   "execution_count": 24,
   "id": "9a8749ad-84a1-49b5-b814-3b21d7549363",
   "metadata": {},
   "outputs": [
    {
     "name": "stdout",
     "output_type": "stream",
     "text": [
      "국어 점수의 최빈값:\n",
      " 0     5\n",
      "1    20\n",
      "2    25\n",
      "3    35\n",
      "4    45\n",
      "5    55\n",
      "6    65\n",
      "7    75\n",
      "8    85\n",
      "9    90\n",
      "Name: 국어, dtype: int64\n",
      "\n",
      "수학 점수의 최빈값:\n",
      " 0    90\n",
      "Name: 수학, dtype: int64\n",
      "\n",
      "과학 점수의 최빈값:\n",
      " 0    45\n",
      "1    65\n",
      "Name: 과학, dtype: int64\n",
      "\n",
      "각 과목 점수의 최빈값:\n",
      "   국어    수학    과학\n",
      "0   5  90.0  45.0\n",
      "1  20   NaN  65.0\n",
      "2  25   NaN   NaN\n",
      "3  35   NaN   NaN\n",
      "4  45   NaN   NaN\n",
      "5  55   NaN   NaN\n",
      "6  65   NaN   NaN\n",
      "7  75   NaN   NaN\n",
      "8  85   NaN   NaN\n",
      "9  90   NaN   NaN\n",
      "\n",
      "각 학생 점수의 최빈값:\n",
      "       0     1      2\n",
      "1   35.0  55.0   90.0\n",
      "2   75.0   NaN    NaN\n",
      "3   20.0  80.0   90.0\n",
      "4   65.0  85.0  100.0\n",
      "5   45.0  55.0   90.0\n",
      "6   25.0  65.0   85.0\n",
      "7   45.0   NaN    NaN\n",
      "8   65.0   NaN    NaN\n",
      "9    5.0  50.0   60.0\n",
      "10  65.0  75.0   95.0\n"
     ]
    }
   ],
   "source": [
    "# 예제 6: mode 로 최빈값 확인하기\n",
    "\n",
    "#Series.mode\n",
    "print(\"국어 점수의 최빈값:\\n\", score.국어.mode())\n",
    "print(\"\\n수학 점수의 최빈값:\\n\", score.수학.mode())\n",
    "print(\"\\n과학 점수의 최빈값:\\n\", score.과학.mode())\n",
    "\n",
    "#DataFrame.mode\n",
    "print(\"\\n각 과목 점수의 최빈값:\")\n",
    "print(score.mode())\n",
    "\n",
    "#DataFrame.mode(axis=1)\n",
    "print(\"\\n각 학생 점수의 최빈값:\")\n",
    "print(score.mode(axis=1))"
   ]
  },
  {
   "cell_type": "markdown",
   "id": "6a2e0a43-09cc-4c32-85c0-c3bab56ff1c4",
   "metadata": {
    "tags": []
   },
   "source": [
    "### **(2) 문자 데이터의 최빈값 찾기**\n",
    "\n",
    "> 문자 데이터에 대해서도 `mode`를 똑같이 사용할 수 있습니다.\n",
    ">\n",
    "> `Series.mode()` : 최빈값 반환  \n",
    "> `DataFrame.mode()` : 각 열의 최빈값 반환   \n",
    "> `DataFrame.mode(axis=1)` : 각 행의 최빈값 반환 "
   ]
  },
  {
   "cell_type": "code",
   "execution_count": 27,
   "id": "7d8ca1ce-223d-4593-817a-3731daca8ee4",
   "metadata": {},
   "outputs": [
    {
     "name": "stdout",
     "output_type": "stream",
     "text": [
      "\n",
      "가장 많은 학생이 좋아하는 과목:\n",
      "    0\n",
      "0  과학\n"
     ]
    }
   ],
   "source": [
    "# 예제 7: mode 로 최빈값 확인하기 (문자 데이터)\n",
    "\n",
    "myFavoriteSubject = pd.DataFrame(['국어', '수학', '국어', '과학', '과학', '국어', '과학', '과학', '수학', '과학'])\n",
    "\n",
    "print(\"\\n가장 많은 학생이 좋아하는 과목:\")\n",
    "print(myFavoriteSubject.mode())"
   ]
  },
  {
   "cell_type": "markdown",
   "id": "4459cc38-6f26-4b5b-9685-c9fa358d9969",
   "metadata": {},
   "source": [
    "#### <연습문제>\n",
    "<a class=\"jcecodle-mk jcecodle-mk__problem-chip\" data-problem-id=\"omdpmhnQghk\" href='#jce-judge/open/omdpmhnQghk' target='_self'><span>판다스 - 데이터 통계 - mode</span></a>\n"
   ]
  },
  {
   "cell_type": "code",
   "execution_count": null,
   "id": "f0b264f1-4333-40d7-93ee-dcf85717655a",
   "metadata": {},
   "outputs": [],
   "source": []
  }
 ],
 "metadata": {
  "kernelspec": {
   "display_name": "Python 3 (ipykernel)",
   "language": "python",
   "name": "python3"
  },
  "language_info": {
   "codemirror_mode": {
    "name": "ipython",
    "version": 3
   },
   "file_extension": ".py",
   "mimetype": "text/x-python",
   "name": "python",
   "nbconvert_exporter": "python",
   "pygments_lexer": "ipython3",
   "version": "3.10.9"
  }
 },
 "nbformat": 4,
 "nbformat_minor": 5
}
