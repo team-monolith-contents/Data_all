{
 "cells": [
  {
   "cell_type": "markdown",
   "id": "727ea7a9-bac0-4bb3-afbc-4981950e3fd1",
   "metadata": {
    "tags": []
   },
   "source": [
    "# **[5-4] 브로드캐스팅**"
   ]
  },
  {
   "cell_type": "markdown",
   "id": "0a5448d2-a09e-484c-adf2-6c2e5d0232b8",
   "metadata": {
    "tags": []
   },
   "source": [
    "## **🎯 학습 목표**\n",
    "**Pandas를 사용해 차원이 다른 데이터 사이의 연산을 가능하게 하는 브로드캐스팅의 원리를 알아봅시다.**  \n",
    "**시리즈와 값, 데이터프레임과 값, 데이터프레임과 시리즈의 산술연산, 비교연산, 산술연산을 할 수 있습니다**"
   ]
  },
  {
   "cell_type": "markdown",
   "id": "01cb348d-d551-4559-910d-6d97d46c0385",
   "metadata": {},
   "source": [
    "---"
   ]
  },
  {
   "cell_type": "markdown",
   "id": "16f8b340-b21a-465b-bc2b-80df6e45f50c",
   "metadata": {
    "jp-MarkdownHeadingCollapsed": true,
    "tags": []
   },
   "source": [
    "차원이 다른 두 데이터를 연산할 때에는 **브로드캐스팅**이 적용됩니다.  \n",
    "브로드캐스팅은 작은 차원의 데이터를 큰 차원의 데이터와 연산할 수 있도록 적절한 형태로 바꾼 뒤 연산이 되는 것을 말합니다."
   ]
  },
  {
   "cell_type": "markdown",
   "id": "15f54ce5-40c5-4bb0-bf6b-72d7ac406b49",
   "metadata": {
    "tags": []
   },
   "source": [
    "## 시리즈, 데이터프레임과 값 사이의 연산\n",
    "\n",
    "특정 값과 시리즈를 연산(사칙연산, 비교연산, 논리연산)하게 되면 특정 값을 시리즈와 같은 형태이고 모든 데이터가 특정 값으로 채워진 시리즈로 바꿔서 연산하게 됩니다.\n",
    "\n",
    "<table>\n",
    "<tr>\n",
    "    <th><img src=\"https://tmn-bucket-materials-all.s3.ap-northeast-2.amazonaws.com/image/pandas/material_05-13.png\" width=\"700\"></th>\n",
    "    </tr>\n",
    "<tr>\n",
    "    <th>시리즈와 값 사이의 연산</th>\n",
    "</tr>\n",
    "</table>\n",
    "\n",
    "특정 값과 데이터프레임을 연산(사칙연산, 비교연산, 논리연산)하게 되면 특정 값을 데이터프레임과 같은 형태이고 모든 데이터가 특정 값으로 채워진 데이터프레임으로 바꿔서 연산하게 됩니다.\n",
    "\n",
    "<table>\n",
    "<tr>\n",
    "    <th><img src=\"https://tmn-bucket-materials-all.s3.ap-northeast-2.amazonaws.com/image/pandas/material_05-14.png\" width=\"700\"></th>\n",
    "    </tr>\n",
    "<tr>\n",
    "    <th>데이터프레임과 값 사이의 연산</th>\n",
    "</tr>\n",
    "</table>"
   ]
  },
  {
   "cell_type": "code",
   "execution_count": null,
   "id": "afa543ec-c182-4b61-b598-db551c78b62b",
   "metadata": {},
   "outputs": [],
   "source": [
    "# 예제_1_시리즈와_값_사이의_연산\n",
    "\n",
    "import pandas as pd\n",
    "\n",
    "A = pd.Series([1,2,3])\n",
    "B = pd.Series(['사과','바나나','딸기'])\n",
    "C = pd.Series([True,False])\n",
    "\n",
    "print('#'*30, f\"{'A':^15s}\" , '#' * 30, '\\n') # 출력되는 결과들을 분리해서 보여주기 위한 코드입니다.\n",
    "print(A)\n",
    "print('\\n','#'*30, f\"{'B':^15s}\" , '#' * 30, '\\n') # 출력되는 결과들을 분리해서 보여주기 위한 코드입니다.\n",
    "print(B)\n",
    "print('\\n','#'*30, f\"{'C':^15s}\" , '#' * 30, '\\n') # 출력되는 결과들을 분리해서 보여주기 위한 코드입니다.\n",
    "print(C)\n",
    "print('\\n','#'*30, f\"{'A + 1':^15s}\" , '#' * 30, '\\n') # 출력되는 결과들을 분리해서 보여주기 위한 코드입니다.\n",
    "print(A+1)\n",
    "print('\\n','#'*30, \"{:^15s}\".format('B == \"사과\"') , '#' * 30, '\\n') # 출력되는 결과들을 분리해서 보여주기 위한 코드입니다.\n",
    "print(B== \"사과\")\n",
    "print('\\n','#'*30, f\"{'~C':^15s}\" , '#' * 30, '\\n') # 출력되는 결과들을 분리해서 보여주기 위한 코드입니다.\n",
    "print(~C)"
   ]
  },
  {
   "cell_type": "code",
   "execution_count": null,
   "id": "fa105ba1-455c-4231-8e98-08eff7ff0ae7",
   "metadata": {},
   "outputs": [],
   "source": [
    "# 예제_2_데이터프레임과_값_사이의_연산\n",
    "\n",
    "import pandas as pd\n",
    "\n",
    "A = pd.DataFrame([[1,2,3],[4,5,6]])\n",
    "B = pd.DataFrame([['사과','바나나'],['딸기','귤']])\n",
    "C = pd.DataFrame([[True,False],[False,True]])\n",
    "\n",
    "print('#'*30, f\"{'A':^15s}\" , '#' * 30, '\\n') # 출력되는 결과들을 분리해서 보여주기 위한 코드입니다.\n",
    "print(A)\n",
    "print('\\n','#'*30, f\"{'B':^15s}\" , '#' * 30, '\\n') # 출력되는 결과들을 분리해서 보여주기 위한 코드입니다.\n",
    "print(B)\n",
    "print('\\n','#'*30, f\"{'C':^15s}\" , '#' * 30, '\\n') # 출력되는 결과들을 분리해서 보여주기 위한 코드입니다.\n",
    "print(C)\n",
    "print('\\n','#'*30, f\"{'A + 1':^15s}\" , '#' * 30, '\\n') # 출력되는 결과들을 분리해서 보여주기 위한 코드입니다.\n",
    "print(A+1)\n",
    "print('\\n','#'*30, \"{:^15s}\".format('B == \"사과\"') , '#' * 30, '\\n') # 출력되는 결과들을 분리해서 보여주기 위한 코드입니다.\n",
    "print(B== \"사과\")\n",
    "print('\\n','#'*30, f\"{'~C':^15s}\" , '#' * 30, '\\n') # 출력되는 결과들을 분리해서 보여주기 위한 코드입니다.\n",
    "print(~C)"
   ]
  },
  {
   "cell_type": "markdown",
   "id": "c0a79b7d-6fa4-419c-87de-fa6d3d23c9dd",
   "metadata": {
    "tags": []
   },
   "source": [
    "## 시리즈와 데이터프레임 사이의 연산\n",
    "\n",
    "시리즈와 데이터프레임의 연산도 시리즈와 값, 데이터프레임과 값의 연산과 마찬가지로 이루어집니다.  \n",
    "두 데이터가 연산될 때 시리즈를 하나의 행으로 하여 데이터프레임의 행의 수와 동일한 행의 수를 가지는 시리즈를 만든 뒤 연산합니다.\n",
    "\n",
    "<table>\n",
    "<tr>\n",
    "    <th><img src=\"https://tmn-bucket-materials-all.s3.ap-northeast-2.amazonaws.com/image/pandas/material_05-15.png\" width=\"700\"></th>\n",
    "    </tr>\n",
    "<tr>\n",
    "    <th>데이터프레임과 시리즈 사이의 연산</th>\n",
    "</tr>\n",
    "</table>\n",
    "\n",
    "> **⚠️ 주의(WARNING):**\n",
    ">\n",
    "> 시리즈를 데이터프레임과 같은 행의 수를 가지는 데이터프레임으로 바꾼 뒤 연산을 진행하기 때문에 이 때의 연산은 데이터프레임의 연산 규칙을 따르게 됩니다.\n",
    "\n",
    "> **⚠️ 주의(WARNING):**\n",
    ">\n",
    "> 브로드캐스팅을 적용하게 되면 데이터프레임간의 비교연산과는 다르게 시리즈에서 만들어진 데이터프레임과 연산하는 데이터프레임의 열이 다르더라도 오류가 발생하지 않습니다."
   ]
  },
  {
   "cell_type": "code",
   "execution_count": null,
   "id": "3b2dc784-beca-4a72-a2e9-dbe36a338fa2",
   "metadata": {},
   "outputs": [],
   "source": [
    "# 예제_3_인덱스가_같은_데이터프레임과_시리즈_사이의_연산\n",
    "\n",
    "import pandas as pd\n",
    "\n",
    "Series_A = pd.Series([1,2,3])\n",
    "Series_B = pd.Series(['사과','바나나'])\n",
    "Series_C = pd.Series([True,False])\n",
    "\n",
    "DataFrame_A = pd.DataFrame([[1,2,3],[4,5,6]])\n",
    "DataFrame_B = pd.DataFrame([['사과','바나나'],['딸기','귤']])\n",
    "DataFrame_C = pd.DataFrame([[True,False],[False,True]])\n",
    "\n",
    "print('#'*30, f\"{'Series_A':^15s}\" , '#' * 30, '\\n') # 출력되는 결과들을 분리해서 보여주기 위한 코드입니다.\n",
    "print(Series_A)\n",
    "print('\\n','#'*30, f\"{'Series_B':^15s}\" , '#' * 30, '\\n') # 출력되는 결과들을 분리해서 보여주기 위한 코드입니다.\n",
    "print(Series_B)\n",
    "print('\\n','#'*30, f\"{'Series_C':^15s}\" , '#' * 30, '\\n') # 출력되는 결과들을 분리해서 보여주기 위한 코드입니다.\n",
    "print(Series_C)\n",
    "print('#'*30, f\"{'DataFrame_A':^15s}\" , '#' * 30, '\\n') # 출력되는 결과들을 분리해서 보여주기 위한 코드입니다.\n",
    "print(DataFrame_A)\n",
    "print('\\n','#'*30, f\"{'DataFrame_B':^15s}\" , '#' * 30, '\\n') # 출력되는 결과들을 분리해서 보여주기 위한 코드입니다.\n",
    "print(DataFrame_B)\n",
    "print('\\n','#'*30, f\"{'DataFrame_C':^15s}\" , '#' * 30, '\\n') # 출력되는 결과들을 분리해서 보여주기 위한 코드입니다.\n",
    "print(DataFrame_C)\n",
    "print('\\n','#'*30, f\"{'DataFrame_A + Series_A':^15s}\" , '#' * 30, '\\n') # 출력되는 결과들을 분리해서 보여주기 위한 코드입니다.\n",
    "print(DataFrame_A + Series_A)\n",
    "print('\\n','#'*30, \"{:^15s}\".format('DataFrame_B == Series_B') , '#' * 30, '\\n') # 출력되는 결과들을 분리해서 보여주기 위한 코드입니다.\n",
    "print(DataFrame_B == Series_B)\n",
    "print('\\n','#'*30, f\"{'DataFrame_C & Series_C':^15s}\" , '#' * 30, '\\n') # 출력되는 결과들을 분리해서 보여주기 위한 코드입니다.\n",
    "print(DataFrame_C & Series_C)"
   ]
  },
  {
   "cell_type": "code",
   "execution_count": null,
   "id": "6328d34c-1099-4e0d-a078-be13574d3bfc",
   "metadata": {},
   "outputs": [],
   "source": [
    "# 예제_4_인덱스가_다른_데이터프레임과_시리즈_사이의_연산\n",
    "\n",
    "import pandas as pd\n",
    "\n",
    "Series_A = pd.Series([1,2,3])\n",
    "DataFrame_A = pd.DataFrame([[1,2],[4,5]])\n",
    "\n",
    "\n",
    "print('#'*30, f\"{'Series_A':^15s}\" , '#' * 30, '\\n') # 출력되는 결과들을 분리해서 보여주기 위한 코드입니다.\n",
    "print(Series_A)\n",
    "print('#'*30, f\"{'DataFrame_A':^15s}\" , '#' * 30, '\\n') # 출력되는 결과들을 분리해서 보여주기 위한 코드입니다.\n",
    "print(DataFrame_A)\n",
    "print('\\n','#'*30, f\"{'DataFrame_A + Series_A':^15s}\" , '#' * 30, '\\n') # 출력되는 결과들을 분리해서 보여주기 위한 코드입니다.\n",
    "print(DataFrame_A + Series_A)"
   ]
  },
  {
   "cell_type": "markdown",
   "id": "b5e2dd9e-7266-417e-8c0f-1d8b2f5aa04b",
   "metadata": {},
   "source": [
    "### **💯 연습문제를 풀어봅시다**\n",
    "\n"
   ]
  },
  {
   "cell_type": "markdown",
   "id": "60ae2b52-3d19-470e-8d63-e7fc2fd00dbe",
   "metadata": {
    "tags": []
   },
   "source": [
    "1. <a class=\"jcecodle-mk jcecodle-mk__problem-chip\" data-problem-id=\"fN-_o4Wr-XQ\" href='#jce-judge/open/fN-_o4Wr-XQ' target='_self'><span>판다스 - 브로드캐스팅 - 시리즈와 값(산술연산)</span></a>\n",
    "\n",
    "2. <a class=\"jcecodle-mk jcecodle-mk__problem-chip\" data-problem-id=\"Lr_sJqEW50w\" href='#jce-judge/open/Lr_sJqEW50w' target='_self'><span>판다스 - 브로드캐스팅 - 시리즈와 값(비교연산)</span></a>\n",
    "\n",
    "3. <a class=\"jcecodle-mk jcecodle-mk__problem-chip\" data-problem-id=\"KU0wjRqH9MM\" href='#jce-judge/open/KU0wjRqH9MM' target='_self'><span>판다스 - 브로드캐스팅 - 시리즈와 값(논리연산)</span></a>\n",
    "\n",
    "4. <a class=\"jcecodle-mk jcecodle-mk__problem-chip\" data-problem-id=\"EJ0tvCSP3-A\" href='#jce-judge/open/EJ0tvCSP3-A' target='_self'><span>판다스 - 브로드캐스팅 - 데이터 프레임과 값(산술연산)</span></a>\n",
    "\n",
    "5. <a class=\"jcecodle-mk jcecodle-mk__problem-chip\" data-problem-id=\"jdVgRsgMBRQ\" href='#jce-judge/open/jdVgRsgMBRQ' target='_self'><span>판다스 - 브로드캐스팅 - 데이터 프레임과 값(비교연산)</span></a>\n",
    "\n",
    "6. <a class=\"jcecodle-mk jcecodle-mk__problem-chip\" data-problem-id=\"VEisoCfy4hg\" href='#jce-judge/open/VEisoCfy4hg' target='_self'><span>판다스 - 브로드캐스팅 - 데이터 프레임과 값(논리연산)</span></a>\n",
    "\n",
    "7. <a class=\"jcecodle-mk jcecodle-mk__problem-chip\" data-problem-id=\"cv3xMiMn6eg\" href='#jce-judge/open/cv3xMiMn6eg' target='_self'><span>판다스 - 브로드캐스팅 - 시리즈와 데이터 프레임 (1)</span></a>\n",
    "\n",
    "8. <a class=\"jcecodle-mk jcecodle-mk__problem-chip\" data-problem-id=\"r7tsm7Z4dPo\" href='#jce-judge/open/r7tsm7Z4dPo' target='_self'><span>판다스 - 브로드캐스팅 - 시리즈와 데이터 프레임 (2)</span></a>\n",
    "\n"
   ]
  }
 ],
 "metadata": {
  "kernelspec": {
   "display_name": "Python 3 (ipykernel)",
   "language": "python",
   "name": "python3"
  },
  "language_info": {
   "codemirror_mode": {
    "name": "ipython",
    "version": 3
   },
   "file_extension": ".py",
   "mimetype": "text/x-python",
   "name": "python",
   "nbconvert_exporter": "python",
   "pygments_lexer": "ipython3",
   "version": "3.8.10"
  }
 },
 "nbformat": 4,
 "nbformat_minor": 5
}
