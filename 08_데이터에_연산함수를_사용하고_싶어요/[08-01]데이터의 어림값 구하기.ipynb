{
 "cells": [
  {
   "cell_type": "markdown",
   "id": "727ea7a9-bac0-4bb3-afbc-4981950e3fd1",
   "metadata": {
    "tags": []
   },
   "source": [
    "# **[5-5] 데이터의 어림값 구하기**"
   ]
  },
  {
   "cell_type": "markdown",
   "id": "0a5448d2-a09e-484c-adf2-6c2e5d0232b8",
   "metadata": {
    "tags": []
   },
   "source": [
    "## **🎯 학습 목표**\n",
    "**Pandas를 사용해 시리즈, 데이터프레임의 각 데이터를 반올림 해봅시다.**"
   ]
  },
  {
   "cell_type": "markdown",
   "id": "01cb348d-d551-4559-910d-6d97d46c0385",
   "metadata": {},
   "source": [
    "---"
   ]
  },
  {
   "cell_type": "markdown",
   "id": "7c9a047e-3197-4a70-88f6-167e435913e4",
   "metadata": {
    "tags": []
   },
   "source": [
    "데이터가 정수 또는 실수로 이루어져 있을 때 `round()` 함수를 이용해 간단하게 반올림 할 수 있습니다.\n",
    "\n",
    "> **🔨 함수(FUNCTIONS):**\n",
    ">\n",
    "> **`Series.round(decimals = 정수)`**  \n",
    "> 시리즈의 각각의 데이터들을 반올림하여 소숫점 아래 매개변수로 받은 `정수` 번째 자리까지 나타냅니다.\n",
    ">> **매개변수(parameter)**\n",
    ">>\n",
    ">> **`decimals`** : 정수 형태로 전달됩니다.   \n",
    "> 매개변수가 0보다 작을 경우(-n)에는 반올림하여 n+1 번째 자리 까지 나타냅니다.  \n",
    "> 예를들어 decimals = -2인 경우 4393.1234 -> 4400.0이 됩니다.  \n",
    "> 기본값은 0입니다.\n",
    "> ---\n",
    "> **`DataFrame.round(decimals = 정수)`**  \n",
    "> 데이터프레임의 각각의 데이터들을 반올림하여 소숫점 아래 매개변수로 받은 `정수` 번째 자리까지 나타냅니다.\n",
    ">> **매개변수(parameter)**\n",
    ">>\n",
    ">> **`decimals`** : 정수 형태로 전달됩니다.   \n",
    "> 매개변수가 0보다 작을 경우(-n)에는 반올림하여 n+1 번째 자리 까지 나타냅니다.  \n",
    "> 예를들어 decimals = -2인 경우 4393.1234 -> 4400.0이 됩니다.  \n",
    "> 기본값은 0입니다.\n",
    "\n"
   ]
  },
  {
   "cell_type": "markdown",
   "id": "08d856c2-962d-457e-a311-e6c50b877dc4",
   "metadata": {},
   "source": [
    "## round() 함수로 데이터 반올림하기\n",
    "\n",
    "`round()` 함수를 사용하면 데이터를 반올림 할 수 있습니다.  \n",
    "매개변수를 주어 어디에서 반올림 할 지 정할 수 있습니다.  \n",
    "\n",
    "<table>\n",
    "<tr>\n",
    "    <th><img src=\"https://tmn-bucket-materials-all.s3.ap-northeast-2.amazonaws.com/image/pandas/material_05-17.png\" width=\"700\"></th>\n",
    "    </tr>\n",
    "<tr>\n",
    "    <th>round() 함수를 이용한 반올림</th>\n",
    "</tr>\n",
    "</table>"
   ]
  },
  {
   "cell_type": "code",
   "execution_count": null,
   "id": "d681328d-22f6-41d0-8779-7befe82948c9",
   "metadata": {
    "tags": []
   },
   "outputs": [],
   "source": [
    "# 예제_1_시리즈의_데이터_반올림\n",
    "\n",
    "import pandas as pd\n",
    "\n",
    "A = pd.Series([12.34,56.78, 123, 1234.5678, 1.2, 400])\n",
    "\n",
    "print('#'*30, f\"{'A':^15s}\" , '#' * 30, '\\n') # 출력되는 결과들을 분리해서 보여주기 위한 코드입니다.\n",
    "print(A)\n",
    "print('#'*30, f\"{'A.round(-1)':^15s}\" , '#' * 30, '\\n') # 출력되는 결과들을 분리해서 보여주기 위한 코드입니다.\n",
    "print(A.round(-1))\n",
    "print('\\n','#'*30, f\"{'A.round(2)':^15s}\" , '#' * 30, '\\n') # 출력되는 결과들을 분리해서 보여주기 위한 코드입니다.\n",
    "print(A.round(2))"
   ]
  },
  {
   "cell_type": "code",
   "execution_count": null,
   "id": "4dcb9c92-479e-46a3-9196-a5e16264d2c2",
   "metadata": {
    "tags": []
   },
   "outputs": [],
   "source": [
    "# 예제_2_데이터프레임의_데이터_반올림\n",
    "\n",
    "import pandas as pd\n",
    "\n",
    "A = pd.DataFrame([[12.34,1234.5678],[56.78,1.2], [123,400]])\n",
    "\n",
    "print('#'*30, f\"{'A':^15s}\" , '#' * 30, '\\n') # 출력되는 결과들을 분리해서 보여주기 위한 코드입니다.\n",
    "print(A)\n",
    "print('#'*30, f\"{'A.round(-1)':^15s}\" , '#' * 30, '\\n') # 출력되는 결과들을 분리해서 보여주기 위한 코드입니다.\n",
    "print(A.round(-1))\n",
    "print('\\n','#'*30, f\"{'A.round(2)':^15s}\" , '#' * 30, '\\n') # 출력되는 결과들을 분리해서 보여주기 위한 코드입니다.\n",
    "print(A.round(2))"
   ]
  },
  {
   "cell_type": "markdown",
   "id": "b70b91c4-7975-4c57-b7fe-4b7781e7d62f",
   "metadata": {},
   "source": [
    "### **💯 연습문제를 풀어봅시다**\n",
    "\n"
   ]
  },
  {
   "cell_type": "markdown",
   "id": "3517c362-45b2-4a7f-8506-bd682c1e8cf7",
   "metadata": {
    "tags": []
   },
   "source": [
    "1. <a class=\"jcecodle-mk jcecodle-mk__problem-chip\" data-problem-id=\"6UgfuWGCLOc\" href='#jce-judge/open/6UgfuWGCLOc' target='_self'><span>판다스 - 데이터 연산하기 - round</span></a>\n",
    "\n",
    "3. <a class=\"jcecodle-mk jcecodle-mk__problem-chip\" data-problem-id=\"F9252q3fdLs\" href='#jce-judge/open/F9252q3fdLs' target='_self'><span>판다스 - 데이터 연산하기 - round (2)</span></a>\n",
    "\n",
    "4. <a class=\"jcecodle-mk jcecodle-mk__problem-chip\" data-problem-id=\"QaAWWcHevyw\" href='#jce-judge/open/QaAWWcHevyw' target='_self'><span>판다스 - 데이터 연산하기 - round (3)</span></a>\n",
    "\n",
    "\n",
    "4. <a class=\"jcecodle-mk jcecodle-mk__problem-chip\" data-problem-id=\"kCB3klhNQuU\" href='#jce-judge/open/kCB3klhNQuU' target='_self'><span>성적 평균 반올림</span></a>\n"
   ]
  }
 ],
 "metadata": {
  "kernelspec": {
   "display_name": "Python 3 (ipykernel)",
   "language": "python",
   "name": "python3"
  },
  "language_info": {
   "codemirror_mode": {
    "name": "ipython",
    "version": 3
   },
   "file_extension": ".py",
   "mimetype": "text/x-python",
   "name": "python",
   "nbconvert_exporter": "python",
   "pygments_lexer": "ipython3",
   "version": "3.10.10"
  }
 },
 "nbformat": 4,
 "nbformat_minor": 5
}
