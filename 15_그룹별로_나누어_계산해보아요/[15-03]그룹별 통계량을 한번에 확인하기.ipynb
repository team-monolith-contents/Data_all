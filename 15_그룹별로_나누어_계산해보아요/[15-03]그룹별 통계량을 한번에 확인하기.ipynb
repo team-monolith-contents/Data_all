{
 "cells": [
  {
   "cell_type": "markdown",
   "id": "727ea7a9-bac0-4bb3-afbc-4981950e3fd1",
   "metadata": {
    "tags": []
   },
   "source": [
    "# **[10-3] 그룹별 통계량을 한번에 확인하기**"
   ]
  },
  {
   "cell_type": "markdown",
   "id": "0a5448d2-a09e-484c-adf2-6c2e5d0232b8",
   "metadata": {
    "tags": []
   },
   "source": [
    "## **🎯 학습 목표**\n",
    "**그룹별 통계량을 한번에 확인해봅시다.**"
   ]
  },
  {
   "cell_type": "markdown",
   "id": "01cb348d-d551-4559-910d-6d97d46c0385",
   "metadata": {},
   "source": [
    "---"
   ]
  },
  {
   "cell_type": "markdown",
   "id": "f6cfb071-7f3f-471c-80a4-03599d968f0e",
   "metadata": {},
   "source": [
    "이전에 데이터의 기초 통계량을 한번에 확인할 수 있는 `describe`를 배운적이 있습니다.  \n",
    "이것을 `groupby`와 함께 사용하면 그룹별 기초 통계량을 한눈에 확인할 수 있습니다.  \n",
    "\n",
    "> **🔨 함수(FUNCTIONS):**\n",
    ">\n",
    "> **`DataFrame.groupby(by = 열이름_또는_열_리스트).describe()`**  \n",
    "> 그룹화하고 각 그룹의 통계값을 한번에 구합니다.\n",
    "> ---"
   ]
  },
  {
   "cell_type": "markdown",
   "id": "a73a415c-1d23-4ec8-8b1b-7c6e4662647c",
   "metadata": {
    "tags": []
   },
   "source": [
    "## 데이터 그룹 확인하기\n",
    "\n",
    "`groupby()` 함수와 `describe()` 함수를 같이 사용하여 데이터의 그룹별 통계를 낼 수 있습니다.  \n",
    "\n",
    "<table>\n",
    "<tr>\n",
    "    <th><img src=\"https://tmn-bucket-materials-all.s3.ap-northeast-2.amazonaws.com/image/pandas/material_10_04.gif\" width=\"750\"></th>\n",
    "</tr>\n",
    "<tr>\n",
    "    <th>데이터프레임 그룹화하고 describe() 함수로 그룹별 통계 한번에 확인하기</th>\n",
    "</tr>\n",
    "</table>"
   ]
  },
  {
   "cell_type": "code",
   "execution_count": null,
   "id": "e3ac630a-81fd-4e03-b07d-ac5b90873ad0",
   "metadata": {
    "tags": []
   },
   "outputs": [],
   "source": [
    "# 예제_1_데이터프레임_그룹별_통계_한번에_확인하기\n",
    "\n",
    "import pandas as pd\n",
    "\n",
    "region = pd.read_csv('https://tmn-bucket-materials-all.s3.ap-northeast-2.amazonaws.com/data/%EA%B3%A0%EB%93%B1%ED%95%99%EA%B5%90.csv')\n",
    "\n",
    "print('#'*30, f\"{'region':^15s}\" , '#' * 30, '\\n') # 출력되는 결과들을 분리해서 보여주기 위한 코드입니다.\n",
    "print(region)\n",
    "print('\\n','#'*30, \"{:^15s}\".format('region.groupby(by=\\'시도교육청\\').describe()') , '#' * 30, '\\n') # 출력되는 결과들을 분리해서 보여주기 위한 코드입니다.\n",
    "print(region.groupby(by='시도교육청').describe())"
   ]
  },
  {
   "cell_type": "markdown",
   "id": "0790bed0-9914-4275-aba6-9fda033ca32a",
   "metadata": {},
   "source": [
    "### **💯 연습문제를 풀어봅시다**\n",
    "\n"
   ]
  },
  {
   "cell_type": "markdown",
   "id": "f06bbb29-9b91-4ea9-94d0-f494cf515fac",
   "metadata": {
    "tags": []
   },
   "source": [
    "1. <a class=\"jcecodle-mk jcecodle-mk__problem-chip\" data-problem-id=\"qw22bqe0uf4\" href='#jce-judge/open/qw22bqe0uf4' target='_self'><span>판다스 - 데이터 그룹 - describe</span></a>\n",
    "\n",
    "2. <a class=\"jcecodle-mk jcecodle-mk__problem-chip\" data-problem-id=\"So_m24VWMOs\" href='#jce-judge/open/So_m24VWMOs' target='_self'><span>판다스 - 데이터 그룹 - describe (2)</span></a>\n"
   ]
  }
 ],
 "metadata": {
  "kernelspec": {
   "display_name": "Python 3 (ipykernel)",
   "language": "python",
   "name": "python3"
  },
  "language_info": {
   "codemirror_mode": {
    "name": "ipython",
    "version": 3
   },
   "file_extension": ".py",
   "mimetype": "text/x-python",
   "name": "python",
   "nbconvert_exporter": "python",
   "pygments_lexer": "ipython3",
   "version": "3.8.10"
  }
 },
 "nbformat": 4,
 "nbformat_minor": 5
}
