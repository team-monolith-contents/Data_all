{
 "cells": [
  {
   "cell_type": "markdown",
   "id": "727ea7a9-bac0-4bb3-afbc-4981950e3fd1",
   "metadata": {
    "tags": []
   },
   "source": [
    "# **[10-1] 데이터 그룹화하기**"
   ]
  },
  {
   "cell_type": "markdown",
   "id": "0a5448d2-a09e-484c-adf2-6c2e5d0232b8",
   "metadata": {
    "tags": []
   },
   "source": [
    "## **🎯 학습 목표**\n",
    "**데이터를 그룹화 해봅시다.**"
   ]
  },
  {
   "cell_type": "markdown",
   "id": "01cb348d-d551-4559-910d-6d97d46c0385",
   "metadata": {},
   "source": [
    "---"
   ]
  },
  {
   "cell_type": "markdown",
   "id": "3d155da9-67f7-49ec-a82c-f0fd16cf5f23",
   "metadata": {},
   "source": [
    "데이터를 파악할 때 그룹별로 나누어 각각에 대한 정보를 확인할 필요가 있습니다.  \n",
    "가령, 학교의 모든 학생 전체에 대한 데이터를 각 학년 별, 반 별, 성별에 따라 나눌 수 있습니다.    \n",
    "Pandas의 `groupby()` 함수는 데이터를 그룹별로 나누어줍니다.  \n",
    "\n",
    "> **🔨 함수(FUNCTIONS):**\n",
    ">\n",
    "> **`Series.unique()`**  \n",
    "> 시리즈에 포함된 고윳값들을 반환합니다.\n",
    "> ---\n",
    "> **`DataFrame.groupby(by = 열이름_또는_열_리스트)`**  \n",
    "> 데이터프레임을 매개변수로 받은 열들의 값을 기준으로 그룹화하여 그룹을 반환합니다.\n",
    ">> **매개변수(parameter)**\n",
    ">>\n",
    ">> **`by`** : 열이름 또는 열_리스트가 전달됩니다.   \n",
    ">> 매개변수로 받은 열들의 값을 기준으로 그룹화합니다.\n",
    "> ---\n",
    "> **`DataFrame.groupby(by = 열이름_또는_열_리스트).get_group(name = 그룹이름)`**  \n",
    "> 그룹화 된 그룹에서 특정 그룹을 반환합니다.\n",
    ">> **매개변수(parameter)**\n",
    ">>\n",
    ">> **`name`** : 그룹이름이 전달됩니다.   \n",
    ">> 매개변수로 받은 그룹에 포함된 행들을 반환합니다.\n",
    "> ---\n",
    "\n",
    "\n",
    "\n",
    "\n"
   ]
  },
  {
   "cell_type": "markdown",
   "id": "546d8e8a-89d1-4d76-ace0-40ed8f3ac359",
   "metadata": {
    "tags": []
   },
   "source": [
    "## 데이터 그룹 확인하기\n",
    "\n",
    "`unique()` 함수로 특정 열에 포함된 고윳값들을 확인할 수 있습니다.  \n",
    "\n",
    "<table>\n",
    "<tr>\n",
    "    <th><img src=\"https://tmn-bucket-materials-all.s3.ap-northeast-2.amazonaws.com/image/pandas/material_10_01.gif\" width=\"750\"></th>\n",
    "</tr>\n",
    "<tr>\n",
    "    <th>시리즈의 고윳값 확인하기</th>\n",
    "</tr>\n",
    "</table>\n",
    "\n",
    "\n",
    "`groupby()` 함수와 `get_group()` 함수를 같이 사용하여 데이터를 그룹화하고 특정 그룹을 확인할 수 있습니다.  \n",
    "\n",
    "<table>\n",
    "<tr>\n",
    "    <th><img src=\"https://tmn-bucket-materials-all.s3.ap-northeast-2.amazonaws.com/image/pandas/material_10_02.gif\" width=\"750\"></th>\n",
    "</tr>\n",
    "<tr>\n",
    "    <th>데이터프레임 그룹화하고 그룹 확인하기</th>\n",
    "</tr>\n",
    "</table>"
   ]
  },
  {
   "cell_type": "code",
   "execution_count": null,
   "id": "c3528fe4-b465-436f-be16-4e7072fc3651",
   "metadata": {
    "tags": []
   },
   "outputs": [],
   "source": [
    "# 예제_1_시리즈의_고윳값_확인하기\n",
    "\n",
    "import pandas as pd\n",
    "\n",
    "region = pd.read_csv('https://tmn-bucket-materials-all.s3.ap-northeast-2.amazonaws.com/data/%EA%B3%A0%EB%93%B1%ED%95%99%EA%B5%90.csv')['시도교육청']\n",
    "\n",
    "print('#'*30, f\"{'region':^15s}\" , '#' * 30, '\\n') # 출력되는 결과들을 분리해서 보여주기 위한 코드입니다.\n",
    "print(region)\n",
    "print('\\n','#'*30, \"{:^15s}\".format('region.unique()') , '#' * 30, '\\n') # 출력되는 결과들을 분리해서 보여주기 위한 코드입니다.\n",
    "print(region.unique())"
   ]
  },
  {
   "cell_type": "code",
   "execution_count": null,
   "id": "b283d703-4a5f-46ae-ab83-ce8d71a36f5f",
   "metadata": {
    "tags": []
   },
   "outputs": [],
   "source": [
    "# 예제_2_데이터프레임 그룹화하고 그룹 확인하기\n",
    "\n",
    "import pandas as pd\n",
    "\n",
    "region = pd.read_csv('https://tmn-bucket-materials-all.s3.ap-northeast-2.amazonaws.com/data/%EA%B3%A0%EB%93%B1%ED%95%99%EA%B5%90.csv')\n",
    "\n",
    "print('#'*30, f\"{'region':^15s}\" , '#' * 30, '\\n') # 출력되는 결과들을 분리해서 보여주기 위한 코드입니다.\n",
    "print(region)\n",
    "print('\\n','#'*30, \"{:^15s}\".format(\"region.groupby(by='시도교육청').get_group('서울특별시교육청')\") , '#' * 30, '\\n') # 출력되는 결과들을 분리해서 보여주기 위한 코드입니다.\n",
    "print(region.groupby(by='시도교육청').get_group('서울특별시교육청'))"
   ]
  },
  {
   "cell_type": "markdown",
   "id": "26f36b08-a173-4ada-8a87-dbc4c0ee0984",
   "metadata": {},
   "source": [
    "### **💯 연습문제를 풀어봅시다**\n",
    "\n"
   ]
  },
  {
   "cell_type": "markdown",
   "id": "a5e82e78-de32-4f45-bce6-a380a7eeae3e",
   "metadata": {
    "tags": []
   },
   "source": [
    "1. <a class=\"jcecodle-mk jcecodle-mk__problem-chip\" data-problem-id=\"A_cZFNLXp2g\" href='#jce-judge/open/A_cZFNLXp2g' target='_self'><span>판다스 연습 1 - 고유값 확인하기</span></a>\n",
    "\n",
    "1. <a class=\"jcecodle-mk jcecodle-mk__problem-chip\" data-problem-id=\"eCJG9W11jwo\" href='#jce-judge/open/eCJG9W11jwo' target='_self'><span>판다스 연습 - 고유값 확인하기 (2)</span></a>\n",
    "\n",
    "2. <a class=\"jcecodle-mk jcecodle-mk__problem-chip\" data-problem-id=\"6JfDhokaDD8\" href='#jce-judge/open/6JfDhokaDD8' target='_self'><span>판다스 연습 - 고유값 확인하기 (3)</span></a>\n",
    "\n",
    "\n",
    "\n",
    "2. <a class=\"jcecodle-mk jcecodle-mk__problem-chip\" data-problem-id=\"W1lO3m8jNCA\" href='#jce-judge/open/W1lO3m8jNCA' target='_self'><span>판다스 - 데이터 그룹 - 출력하기</span></a>\n",
    "\n",
    "1. <a class=\"jcecodle-mk jcecodle-mk__problem-chip\" data-problem-id=\"XY8NiTglyiU\" href='#jce-judge/open/XY8NiTglyiU' target='_self'><span>판다스 - 데이터 그룹 - 출력하기 (2)</span></a>\n",
    "\n",
    "2. <a class=\"jcecodle-mk jcecodle-mk__problem-chip\" data-problem-id=\"hj-qreiT6CQ\" href='#jce-judge/open/hj-qreiT6CQ' target='_self'><span>가족 인적사항 그룹핑</span></a>\n",
    "\n"
   ]
  }
 ],
 "metadata": {
  "kernelspec": {
   "display_name": "Python 3 (ipykernel)",
   "language": "python",
   "name": "python3"
  },
  "language_info": {
   "codemirror_mode": {
    "name": "ipython",
    "version": 3
   },
   "file_extension": ".py",
   "mimetype": "text/x-python",
   "name": "python",
   "nbconvert_exporter": "python",
   "pygments_lexer": "ipython3",
   "version": "3.8.10"
  }
 },
 "nbformat": 4,
 "nbformat_minor": 5
}
