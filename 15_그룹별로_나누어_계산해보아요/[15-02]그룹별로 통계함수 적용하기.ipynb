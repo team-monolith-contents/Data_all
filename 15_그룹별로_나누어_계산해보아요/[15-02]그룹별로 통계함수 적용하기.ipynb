{
 "cells": [
  {
   "cell_type": "markdown",
   "id": "727ea7a9-bac0-4bb3-afbc-4981950e3fd1",
   "metadata": {
    "tags": []
   },
   "source": [
    "# **[10-2] 그룹별로 통계함수 적용하기**"
   ]
  },
  {
   "cell_type": "markdown",
   "id": "0a5448d2-a09e-484c-adf2-6c2e5d0232b8",
   "metadata": {
    "tags": []
   },
   "source": [
    "## **🎯 학습 목표**\n",
    "**그룹별로 통계함수를 적용해봅시다.**"
   ]
  },
  {
   "cell_type": "markdown",
   "id": "01cb348d-d551-4559-910d-6d97d46c0385",
   "metadata": {},
   "source": [
    "---"
   ]
  },
  {
   "cell_type": "markdown",
   "id": "e5cf56ef-5ca3-47a6-9437-0b5a43a92cdb",
   "metadata": {},
   "source": [
    "데이터를 파악할 때 그룹별로 나누어 각각에 대한 정보를 확인할 필요가 있습니다.  \n",
    "앞에서 배운 통계함수들을 각 그룹별로 적용할 수 있습니다.\n",
    "\n",
    "> **🔨 함수(FUNCTIONS):**\n",
    ">\n",
    "> **`DataFrame.groupby(by = 열이름_또는_열_리스트).mean(numeric_only = True)`**  \n",
    "> 그룹화 된 그룹에서 각 그룹의 각 열별로 평균값을 구합니다.\n",
    ">> **매개변수(parameter)**\n",
    ">>\n",
    ">> **`numeric_only`** : True 또는 False가 전달됩니다.   \n",
    ">> True이면 정수, 실수 데이터에 대해서만 통계값을 계산합니다.\n",
    "> ---\n",
    "> **`DataFrame.groupby(by = 열이름_또는_열_리스트).median(numeric_only = True)`**  \n",
    "> 그룹화 된 그룹에서 각 그룹의 각 열별로 중앙값을 구합니다.\n",
    ">> **매개변수(parameter)**\n",
    ">>\n",
    ">> **`numeric_only`** : True 또는 False가 전달됩니다.   \n",
    ">> True이면 정수, 실수 데이터에 대해서만 통계값을 계산합니다.\n",
    "> ---\n",
    "> **`DataFrame.groupby(by = 열이름_또는_열_리스트).std(numeric_only = True)`**  \n",
    "> 그룹화 된 그룹에서 각 그룹의 각 열별로 표준편차를 구합니다.\n",
    ">> **매개변수(parameter)**\n",
    ">>\n",
    ">> **`numeric_only`** : True 또는 False가 전달됩니다.   \n",
    ">> True이면 정수, 실수 데이터에 대해서만 통계값을 계산합니다.\n",
    "> ---\n",
    "> **`DataFrame.groupby(by = 열이름_또는_열_리스트).max(numeric_only = True)`**  \n",
    "> 그룹화 된 그룹에서 각 그룹의 각 열별로 최댓값을 구합니다.\n",
    ">> **매개변수(parameter)**\n",
    ">>\n",
    ">> **`numeric_only`** : True 또는 False가 전달됩니다.   \n",
    ">> True이면 정수, 실수 데이터에 대해서만 통계값을 계산합니다.\n",
    "> ---\n",
    "> **`DataFrame.groupby(by = 열이름_또는_열_리스트).min(numeric_only = True)`**  \n",
    "> 그룹화 된 그룹에서 각 그룹의 각 열별로 최솟값을 구합니다.\n",
    ">> **매개변수(parameter)**\n",
    ">>\n",
    ">> **`numeric_only`** : True 또는 False가 전달됩니다.   \n",
    ">> True이면 정수, 실수 데이터에 대해서만 통계값을 계산합니다.\n",
    "> ---\n",
    "> **`DataFrame.groupby(by = 열이름_또는_열_리스트).argmax(numeric_only = True)`**  \n",
    "> 그룹화 된 그룹에서 각 그룹의 각 열별로 최댓값의 인덱스를 구합니다.\n",
    ">> **매개변수(parameter)**\n",
    ">>\n",
    ">> **`numeric_only`** : True 또는 False가 전달됩니다.   \n",
    ">> True이면 정수, 실수 데이터에 대해서만 통계값을 계산합니다.\n",
    "> ---\n",
    "> **`DataFrame.groupby(by = 열이름_또는_열_리스트).argmin(numeric_only = True)`**  \n",
    "> 그룹화 된 그룹에서 각 그룹의 각 열별로 최솟값의 인덱스를 구합니다.\n",
    ">> **매개변수(parameter)**\n",
    ">>\n",
    ">> **`numeric_only`** : True 또는 False가 전달됩니다.   \n",
    ">> True이면 정수, 실수 데이터에 대해서만 통계값을 계산합니다.\n",
    "> ---\n",
    "> **`DataFrame.groupby(by = 열이름_또는_열_리스트).sum(numeric_only = True)`**  \n",
    "> 그룹화 된 그룹에서 각 그룹의 각 열별로 데이터의 합을 구합니다.\n",
    ">> **매개변수(parameter)**\n",
    ">>\n",
    ">> **`numeric_only`** : True 또는 False가 전달됩니다.   \n",
    ">> True이면 정수, 실수 데이터에 대해서만 통계값을 계산합니다.\n",
    "> ---\n",
    "> **`DataFrame.groupby(by = 열이름_또는_열_리스트).count()`**  \n",
    "> 그룹화 된 그룹에서 각 그룹의 각 열별로 데이터의 개수를 구합니다.\n",
    "> ---\n",
    "\n",
    "> **⚠️ 주의(WARNING):**\n",
    ">\n",
    "> 그룹 통계 함수에서 최빈값함수(mode)는 사용할 수 없습니다.\n",
    "\n",
    "\n"
   ]
  },
  {
   "cell_type": "markdown",
   "id": "70f8792a-b98b-40ea-9adb-260bdace91d7",
   "metadata": {
    "tags": []
   },
   "source": [
    "## 데이터 그룹 확인하기\n",
    "\n",
    "\n",
    "`groupby()` 함수와 통계 함수를 같이 사용하여 데이터의 그룹별 통계를 낼 수 있습니다.  \n",
    "\n",
    "<table>\n",
    "<tr>\n",
    "    <th><img src=\"https://tmn-bucket-materials-all.s3.ap-northeast-2.amazonaws.com/image/pandas/material_10_03.gif\" width=\"750\"></th>\n",
    "</tr>\n",
    "<tr>\n",
    "    <th>데이터프레임 그룹화하고 그룹별 통계 확인하기</th>\n",
    "</tr>\n",
    "</table>"
   ]
  },
  {
   "cell_type": "code",
   "execution_count": null,
   "id": "c44ad056-5718-440e-8088-814a05720e17",
   "metadata": {
    "tags": []
   },
   "outputs": [],
   "source": [
    "# 예제_1_데이터프레임의_그룹별_통계_확인하기\n",
    "\n",
    "import pandas as pd\n",
    "\n",
    "region = pd.read_csv('https://tmn-bucket-materials-all.s3.ap-northeast-2.amazonaws.com/data/%EA%B3%A0%EB%93%B1%ED%95%99%EA%B5%90.csv')\n",
    "\n",
    "print('#'*30, f\"{'region':^15s}\" , '#' * 30, '\\n') # 출력되는 결과들을 분리해서 보여주기 위한 코드입니다.\n",
    "print(region)\n",
    "print('\\n','#'*30, \"{:^15s}\".format('region.groupby(by=\\'시도교육청\\').mean(numeric_only = True)') , '#' * 30, '\\n') # 출력되는 결과들을 분리해서 보여주기 위한 코드입니다.\n",
    "print(region.groupby(by='시도교육청').mean(numeric_only = True))\n",
    "print('\\n','#'*30, \"{:^15s}\".format('region.groupby(by=\\'시도교육청\\').median(numeric_only = True)') , '#' * 30, '\\n') # 출력되는 결과들을 분리해서 보여주기 위한 코드입니다.\n",
    "print(region.groupby(by='시도교육청').median(numeric_only = True))\n",
    "print('\\n','#'*30, \"{:^15s}\".format('region.groupby(by=\\'시도교육청\\').std(numeric_only = True)') , '#' * 30, '\\n') # 출력되는 결과들을 분리해서 보여주기 위한 코드입니다.\n",
    "print(region.groupby(by='시도교육청').std(numeric_only = True))\n",
    "print('\\n','#'*30, \"{:^15s}\".format('region.groupby(by=\\'시도교육청\\').max(numeric_only = True)') , '#' * 30, '\\n') # 출력되는 결과들을 분리해서 보여주기 위한 코드입니다.\n",
    "print(region.groupby(by='시도교육청').max(numeric_only = True))\n",
    "print('\\n','#'*30, \"{:^15s}\".format('region.groupby(by=\\'시도교육청\\').idxmax(numeric_only = True)') , '#' * 30, '\\n') # 출력되는 결과들을 분리해서 보여주기 위한 코드입니다.\n",
    "print(region.groupby(by='시도교육청').idxmax(numeric_only = True))\n",
    "print('\\n','#'*30, \"{:^15s}\".format('region.groupby(by=\\'시도교육청\\').min(numeric_only = True)') , '#' * 30, '\\n') # 출력되는 결과들을 분리해서 보여주기 위한 코드입니다.\n",
    "print(region.groupby(by='시도교육청').min(numeric_only = True))\n",
    "print('\\n','#'*30, \"{:^15s}\".format('region.groupby(by=\\'시도교육청\\').idxmin(numeric_only = True)') , '#' * 30, '\\n') # 출력되는 결과들을 분리해서 보여주기 위한 코드입니다.\n",
    "print(region.groupby(by='시도교육청').idxmin(numeric_only = True))\n",
    "print('\\n','#'*30, \"{:^15s}\".format('region.groupby(by=\\'시도교육청\\').sum(numeric_only = True)') , '#' * 30, '\\n') # 출력되는 결과들을 분리해서 보여주기 위한 코드입니다.\n",
    "print(region.groupby(by='시도교육청').sum(numeric_only = True))\n",
    "print('\\n','#'*30, \"{:^15s}\".format('region.groupby(by=\\'시도교육청\\').count()') , '#' * 30, '\\n') # 출력되는 결과들을 분리해서 보여주기 위한 코드입니다.\n",
    "print(region.groupby(by='시도교육청').count())"
   ]
  },
  {
   "cell_type": "markdown",
   "id": "67b8a509-7541-4fa1-bd14-46add080eabe",
   "metadata": {},
   "source": [
    "### **💯 연습문제를 풀어봅시다**\n",
    "\n"
   ]
  },
  {
   "cell_type": "markdown",
   "id": "1ad0cd3b-e5e5-40f7-8f07-a0e8f11fe536",
   "metadata": {
    "tags": []
   },
   "source": [
    "1. <a class=\"jcecodle-mk jcecodle-mk__problem-chip\" data-problem-id=\"avwM_OdiVH4\" href='#jce-judge/open/avwM_OdiVH4' target='_self'><span>판다스 - 데이터 그룹 - min/median/max</span></a>\n",
    "\n",
    "1. <a class=\"jcecodle-mk jcecodle-mk__problem-chip\" data-problem-id=\"YicYmkkhgg8\" href='#jce-judge/open/YicYmkkhgg8' target='_self'><span>판다스 - 데이터 그룹 - min/max</span></a>\n",
    "\n",
    "2. <a class=\"jcecodle-mk jcecodle-mk__problem-chip\" data-problem-id=\"gJqxmBB03eE\" href='#jce-judge/open/gJqxmBB03eE' target='_self'><span>카페 정보 중앙값</span></a>\n",
    "\n",
    "3. <a class=\"jcecodle-mk jcecodle-mk__problem-chip\" data-problem-id=\"FE8ax_kDL3E\" href='#jce-judge/open/FE8ax_kDL3E' target='_self'><span>날씨 데이터 min/max/median</span></a>\n",
    "\n",
    "\n",
    "\n",
    "2. <a class=\"jcecodle-mk jcecodle-mk__problem-chip\" data-problem-id=\"C85oubW1UHs\" href='#jce-judge/open/C85oubW1UHs' target='_self'><span>판다스 - 데이터 그룹 - mean/std</span></a>\n",
    "\n",
    "1. <a class=\"jcecodle-mk jcecodle-mk__problem-chip\" data-problem-id=\"S5pt2E2mv-A\" href='#jce-judge/open/S5pt2E2mv-A' target='_self'><span>기온, 습도 평균</span></a>\n",
    "\n",
    "2. <a class=\"jcecodle-mk jcecodle-mk__problem-chip\" data-problem-id=\"SA6R7R1iYh0\" href='#jce-judge/open/SA6R7R1iYh0' target='_self'><span>다이어트 데이터 표준편차</span></a>\n",
    "\n"
   ]
  }
 ],
 "metadata": {
  "kernelspec": {
   "display_name": "Python 3 (ipykernel)",
   "language": "python",
   "name": "python3"
  },
  "language_info": {
   "codemirror_mode": {
    "name": "ipython",
    "version": 3
   },
   "file_extension": ".py",
   "mimetype": "text/x-python",
   "name": "python",
   "nbconvert_exporter": "python",
   "pygments_lexer": "ipython3",
   "version": "3.8.10"
  }
 },
 "nbformat": 4,
 "nbformat_minor": 5
}
