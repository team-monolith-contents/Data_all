{
 "cells": [
  {
   "cell_type": "markdown",
   "id": "727ea7a9-bac0-4bb3-afbc-4981950e3fd1",
   "metadata": {
    "tags": []
   },
   "source": [
    "# **[9-2] 데이터의 최댓값, 최솟값 구하기**"
   ]
  },
  {
   "cell_type": "markdown",
   "id": "0a5448d2-a09e-484c-adf2-6c2e5d0232b8",
   "metadata": {
    "tags": []
   },
   "source": [
    "## **🎯 학습 목표**\n",
    "**데이터의 최댓값, 최솟값을 구해봅시다.**"
   ]
  },
  {
   "cell_type": "markdown",
   "id": "01cb348d-d551-4559-910d-6d97d46c0385",
   "metadata": {},
   "source": [
    "---"
   ]
  },
  {
   "cell_type": "markdown",
   "id": "4049d798-b79e-476a-b703-ce95e19c9641",
   "metadata": {},
   "source": [
    "여러 함수를 이용해 데이터의 최댓값, 최솟값을 계산할 수 있습니다.\n",
    "\n",
    "> **🔨 함수(FUNCTIONS):**\n",
    ">\n",
    "> **`Series.max()`**  \n",
    "> 시리즈의 최댓값을 구합니다.  \n",
    "> ---\n",
    "> **`DataFrame.max(axis = 0_또는_1)`**  \n",
    "> 데이터프레임의 최댓값을 구합니다.\n",
    ">> **매개변수(parameter)**\n",
    ">>\n",
    ">> **`axis`** : 0 또는 1이 전달됩니다.   \n",
    ">> axis가 0 일경우 열에서의 최댓값을 구하고 axis가 1일 경우 행에서의 최댓값을 구합니다.     \n",
    ">> 기본값은 0으로 열 방향으로의 최댓값을 구합니다.\n",
    "> ---\n",
    "> **`Series.min()`**  \n",
    "> 시리즈의 최솟값을 구합니다.  \n",
    "> ---\n",
    "> **`DataFrame.min(axis = 0_또는_1)`**  \n",
    "> 데이터프레임의 최솟값을 구합니다.\n",
    ">> **매개변수(parameter)**\n",
    ">>\n",
    ">> **`axis`** : 0 또는 1이 전달됩니다.   \n",
    ">> axis가 0 일경우 열에서의 최솟값을 구하고 axis가 1일 경우 행에서의 최솟값을 구합니다.     \n",
    ">> 기본값은 0으로 열 방향으로의 최솟값을 구합니다.\n",
    "> ---\n",
    "> **`Series.idxmax()`**  \n",
    "> 시리즈의 최대값의 인덱스를 구합니다.  \n",
    "> ---\n",
    "> **`DataFrame.idxmax(axis = 0_또는_1)`**  \n",
    "> 데이터프레임의 최대값의 인덱스를 구합니다.\n",
    ">> **매개변수(parameter)**\n",
    ">>\n",
    ">> **`axis`** : 0 또는 1이 전달됩니다.   \n",
    ">> axis가 0 일경우 열에서의 최댓값의 인덱스를 구하고 axis가 1일 경우 행에서의 최댓값의 열을 구합니다.     \n",
    ">> 기본값은 0으로 열 방향으로의 최댓값의 인덱스를 구합니다.\n",
    "> ---\n",
    "> **`Series.idxmin()`**  \n",
    "> 시리즈의 최솟값의 인덱스를 구합니다.  \n",
    "> ---\n",
    "> **`DataFrame.idxmin(axis = 0_또는_1)`**  \n",
    "> 데이터프레임의 최솟값의 인덱스를 구합니다.\n",
    ">> **매개변수(parameter)**\n",
    ">>\n",
    ">> **`axis`** : 0 또는 1이 전달됩니다.   \n",
    ">> axis가 0 일경우 열에서의 최솟값의 인덱스를 구하고 axis가 1일 경우 행에서의 최솟값의 열을 구합니다.     \n",
    ">> 기본값은 0으로 열 방향으로의 최솟값의 인덱스를 구합니다.\n",
    "> ---\n",
    "\n",
    "\n",
    "\n",
    "\n",
    "\n",
    "\n",
    "\n"
   ]
  },
  {
   "cell_type": "markdown",
   "id": "7d3efa65-c79a-42bc-bee1-d2b34e31c5b2",
   "metadata": {
    "tags": []
   },
   "source": [
    "## 최댓값, 최솟값 구하기\n",
    "\n",
    "시리즈와 데이터프레임에 여러 함수들을 적용해 최솟값과 최댓값을 구할 수 있습니다.\n",
    "\n",
    "<table>\n",
    "<tr>\n",
    "    <th><img src=\"https://tmn-bucket-materials-all.s3.ap-northeast-2.amazonaws.com/image/pandas/material_09_04.gif\" width=\"750\"></th>\n",
    "</tr>\n",
    "<tr>\n",
    "    <th>시리즈에 최솟값, 최댓값 함수 적용하기</th>\n",
    "</tr>\n",
    "</table>\n",
    "\n",
    "<table>\n",
    "<tr>\n",
    "    <th><img src=\"https://tmn-bucket-materials-all.s3.ap-northeast-2.amazonaws.com/image/pandas/material_09_05.gif\" width=\"750\"></th>\n",
    "</tr>\n",
    "<tr>\n",
    "    <th>데이터프레임에 최솟값, 최댓값 함수 적용하기</th>\n",
    "</tr>\n",
    "</table>\n",
    "\n",
    "<table>\n",
    "<tr>\n",
    "    <th><img src=\"https://tmn-bucket-materials-all.s3.ap-northeast-2.amazonaws.com/image/pandas/material_09_06.gif\" width=\"750\"></th>\n",
    "</tr>\n",
    "<tr>\n",
    "    <th>데이터프레임에 열방향으로 최솟값, 최댓값 함수 적용하기</th>\n",
    "</tr>\n",
    "</table>"
   ]
  },
  {
   "cell_type": "code",
   "execution_count": null,
   "id": "7e226aaa-d8cb-45cc-8eb7-ca7d09dd3686",
   "metadata": {
    "tags": []
   },
   "outputs": [],
   "source": [
    "# 예제_1_시리즈의_최솟값_최댓값_구하기\n",
    "\n",
    "import pandas as pd\n",
    "import random\n",
    "\n",
    "score = pd.read_csv('https://tmn-bucket-materials-all.s3.ap-northeast-2.amazonaws.com/data/midterm_exam_result.csv')\n",
    "score.index = score['이름']\n",
    "score = score.iloc[:,1]\n",
    "\n",
    "print('#'*30, f\"{'score':^15s}\" , '#' * 30, '\\n') # 출력되는 결과들을 분리해서 보여주기 위한 코드입니다.\n",
    "print(score)\n",
    "print('\\n','#'*30, \"{:^15s}\".format('score.min()') , '#' * 30, '\\n') # 출력되는 결과들을 분리해서 보여주기 위한 코드입니다.\n",
    "print(score.min())\n",
    "print('\\n','#'*30, \"{:^15s}\".format('score.max()') , '#' * 30, '\\n') # 출력되는 결과들을 분리해서 보여주기 위한 코드입니다.\n",
    "print(score.max())\n",
    "print('\\n','#'*30, \"{:^15s}\".format('score.idxmin()') , '#' * 30, '\\n') # 출력되는 결과들을 분리해서 보여주기 위한 코드입니다.\n",
    "print(score.idxmin())\n",
    "print('\\n','#'*30, \"{:^15s}\".format('score.idxmax()') , '#' * 30, '\\n') # 출력되는 결과들을 분리해서 보여주기 위한 코드입니다.\n",
    "print(score.idxmax())"
   ]
  },
  {
   "cell_type": "code",
   "execution_count": null,
   "id": "34367943-6a1d-4425-9f59-a91e799a453d",
   "metadata": {
    "tags": []
   },
   "outputs": [],
   "source": [
    "# 예제_2_데이터프레임의_최솟값_최댓값_구하기\n",
    "\n",
    "import pandas as pd\n",
    "import random\n",
    "\n",
    "score = pd.read_csv('https://tmn-bucket-materials-all.s3.ap-northeast-2.amazonaws.com/data/midterm_exam_result.csv')\n",
    "score.index = score['이름']\n",
    "score = score.iloc[:,1:]\n",
    "\n",
    "print('#'*30, f\"{'score':^15s}\" , '#' * 30, '\\n') # 출력되는 결과들을 분리해서 보여주기 위한 코드입니다.\n",
    "print(score)\n",
    "print('\\n','#'*30, \"{:^15s}\".format('score.min()') , '#' * 30, '\\n') # 출력되는 결과들을 분리해서 보여주기 위한 코드입니다.\n",
    "print(score.min())\n",
    "print('\\n','#'*30, \"{:^15s}\".format('score.max()') , '#' * 30, '\\n') # 출력되는 결과들을 분리해서 보여주기 위한 코드입니다.\n",
    "print(score.max())\n",
    "print('\\n','#'*30, \"{:^15s}\".format('score.idxmin()') , '#' * 30, '\\n') # 출력되는 결과들을 분리해서 보여주기 위한 코드입니다.\n",
    "print(score.idxmin())\n",
    "print('\\n','#'*30, \"{:^15s}\".format('score.idxmax()') , '#' * 30, '\\n') # 출력되는 결과들을 분리해서 보여주기 위한 코드입니다.\n",
    "print(score.idxmax())"
   ]
  },
  {
   "cell_type": "code",
   "execution_count": null,
   "id": "4be00da7-660e-4693-8b02-b81978aba465",
   "metadata": {
    "tags": []
   },
   "outputs": [],
   "source": [
    "# 예제_3_데이터프레임의_열방향_최솟값_최댓값_구하기\n",
    "\n",
    "import pandas as pd\n",
    "import random\n",
    "\n",
    "score = pd.read_csv('https://tmn-bucket-materials-all.s3.ap-northeast-2.amazonaws.com/data/midterm_exam_result.csv')\n",
    "score.index = score['이름']\n",
    "score = score.iloc[:,1:]\n",
    "\n",
    "print('#'*30, f\"{'score':^15s}\" , '#' * 30, '\\n') # 출력되는 결과들을 분리해서 보여주기 위한 코드입니다.\n",
    "print(score)\n",
    "print('\\n','#'*30, \"{:^15s}\".format('score.min(axis = 1)') , '#' * 30, '\\n') # 출력되는 결과들을 분리해서 보여주기 위한 코드입니다.\n",
    "print(score.min(axis = 1))\n",
    "print('\\n','#'*30, \"{:^15s}\".format('score.max(axis = 1)') , '#' * 30, '\\n') # 출력되는 결과들을 분리해서 보여주기 위한 코드입니다.\n",
    "print(score.max(axis = 1))\n",
    "print('\\n','#'*30, \"{:^15s}\".format('score.idxmin(axis = 1)') , '#' * 30, '\\n') # 출력되는 결과들을 분리해서 보여주기 위한 코드입니다.\n",
    "print(score.idxmin(axis = 1))\n",
    "print('\\n','#'*30, \"{:^15s}\".format('score.idxmax(axis = 1)') , '#' * 30, '\\n') # 출력되는 결과들을 분리해서 보여주기 위한 코드입니다.\n",
    "print(score.idxmax(axis = 1))"
   ]
  },
  {
   "cell_type": "markdown",
   "id": "634c9dde-c8e9-47b8-947a-14bb1015b1e1",
   "metadata": {},
   "source": [
    "### **💯 연습문제를 풀어봅시다**\n",
    "\n"
   ]
  },
  {
   "cell_type": "markdown",
   "id": "705efcce-0dc2-401a-8bef-5ca8cf35dad5",
   "metadata": {
    "tags": []
   },
   "source": [
    "1. <a class=\"jcecodle-mk jcecodle-mk__problem-chip\" data-problem-id=\"wof3MOPluTM\" href='#jce-judge/open/wof3MOPluTM' target='_self'><span>판다스 - 데이터 통계 - max</span></a>\n",
    "1. <a class=\"jcecodle-mk jcecodle-mk__problem-chip\" data-problem-id=\"K51KUnww6ME\" href='#jce-judge/open/K51KUnww6ME' target='_self'><span>매출액 최대</span></a>\n",
    "2. <a class=\"jcecodle-mk jcecodle-mk__problem-chip\" data-problem-id=\"Vm59O1HkYv0\" href='#jce-judge/open/Vm59O1HkYv0' target='_self'><span>인적사항 최댓값</span></a>\n",
    "1. <a class=\"jcecodle-mk jcecodle-mk__problem-chip\" data-problem-id=\"WocVHm-2gLs\" href='#jce-judge/open/WocVHm-2gLs' target='_self'><span>판다스 - 데이터 통계 - min</span></a>\n",
    "1. <a class=\"jcecodle-mk jcecodle-mk__problem-chip\" data-problem-id=\"W0G6nPsoNgo\" href='#jce-judge/open/W0G6nPsoNgo' target='_self'><span>매출액 최소</span></a>\n",
    "2. <a class=\"jcecodle-mk jcecodle-mk__problem-chip\" data-problem-id=\"dGLmkowYD18\" href='#jce-judge/open/dGLmkowYD18' target='_self'><span>인적사항 최솟값</span></a>\n",
    "3. <a class=\"jcecodle-mk jcecodle-mk__problem-chip\" data-problem-id=\"_8jUyWKYLHU\" href='#jce-judge/open/_8jUyWKYLHU' target='_self'><span>판다스 - 데이터 연산하기 - idxmax</span></a>\n",
    "1. <a class=\"jcecodle-mk jcecodle-mk__problem-chip\" data-problem-id=\"e3bAUADVQ8k\" href='#jce-judge/open/e3bAUADVQ8k' target='_self'><span>국어 1등</span></a>\n",
    "2. <a class=\"jcecodle-mk jcecodle-mk__problem-chip\" data-problem-id=\"ZqBeUeUkv3Q\" href='#jce-judge/open/ZqBeUeUkv3Q' target='_self'><span>연장자</span></a>\n",
    "4. <a class=\"jcecodle-mk jcecodle-mk__problem-chip\" data-problem-id=\"UyGtM9-My2Q\" href='#jce-judge/open/UyGtM9-My2Q' target='_self'><span>판다스 - 데이터 연산하기 - idxmin</span></a>\n",
    "\n",
    "2. <a class=\"jcecodle-mk jcecodle-mk__problem-chip\" data-problem-id=\"cEF35d3TDqA\" href='#jce-judge/open/cEF35d3TDqA' target='_self'><span>성적 평균이 최소인 과목</span></a>\n"
   ]
  }
 ],
 "metadata": {
  "kernelspec": {
   "display_name": "Python 3 (ipykernel)",
   "language": "python",
   "name": "python3"
  },
  "language_info": {
   "codemirror_mode": {
    "name": "ipython",
    "version": 3
   },
   "file_extension": ".py",
   "mimetype": "text/x-python",
   "name": "python",
   "nbconvert_exporter": "python",
   "pygments_lexer": "ipython3",
   "version": "3.10.10"
  }
 },
 "nbformat": 4,
 "nbformat_minor": 5
}
