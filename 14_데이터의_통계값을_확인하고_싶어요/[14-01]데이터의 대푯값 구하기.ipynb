{
 "cells": [
  {
   "cell_type": "markdown",
   "id": "727ea7a9-bac0-4bb3-afbc-4981950e3fd1",
   "metadata": {
    "tags": []
   },
   "source": [
    "# **[9-1] 데이터의 대푯값 구하기**"
   ]
  },
  {
   "cell_type": "markdown",
   "id": "0a5448d2-a09e-484c-adf2-6c2e5d0232b8",
   "metadata": {
    "tags": []
   },
   "source": [
    "## **🎯 학습 목표**\n",
    "**데이터의 다양한 대푯값을 계산해봅시다.**"
   ]
  },
  {
   "cell_type": "markdown",
   "id": "01cb348d-d551-4559-910d-6d97d46c0385",
   "metadata": {},
   "source": [
    "---"
   ]
  },
  {
   "cell_type": "markdown",
   "id": "2e8e39ab-d04d-4988-9e30-6bc3859c53a5",
   "metadata": {},
   "source": [
    "여러 함수를 이용해 데이터의 대푯값을 계산할 수 있습니다.\n",
    "\n",
    "> **✏️ 알아봅시다(NOTE): 대푯값이 무엇인가요?**\n",
    ">\n",
    "> 대푯값은 어떤 데이터를 대표하는 값입니다.  \n",
    "> 평균, 중앙값, 최빈값, 표준편차 등이 있습니다. \n",
    "\n",
    "> **🔨 함수(FUNCTIONS):**\n",
    ">\n",
    "> **`Series.mean()`**  \n",
    "> 시리즈의 평균값을 구합니다.\n",
    "> ---\n",
    "> **`DataFrame.mean(axis = 0_또는_1)`**  \n",
    "> 데이터프레임의 평균값을 구합니다.\n",
    ">> **매개변수(parameter)**\n",
    ">>\n",
    ">> **`axis`** : 0 또는 1이 전달됩니다.   \n",
    ">> axis가 0 일경우 열에서의 평균값을 구하고 axis가 1일 경우 행에서의 평균값을 구합니다.     \n",
    ">> 기본값은 0으로 열 방향으로의 평균값을 구합니다.\n",
    "> ---\n",
    "> **`Series.median()`**  \n",
    "> 데이터프레임의 중앙값을 구합니다.\n",
    "> ---\n",
    "> **`DataFrame.median(axis = 0_또는_1)`**  \n",
    "> 데이터프레임의 중앙값을 구합니다.\n",
    ">> **매개변수(parameter)**\n",
    ">>\n",
    ">> **`axis`** : 0 또는 1이 전달됩니다.   \n",
    ">> axis가 0 일경우 열에서의 중앙값을 구하고 axis가 1일 경우 행에서의 중앙값을 구합니다.     \n",
    ">> 기본값은 0으로 열 방향으로의 중앙값을 구합니다.\n",
    "> ---\n",
    "> **`Series.mode()`**  \n",
    "> 데이터프레임의 최빈값을 구합니다.\n",
    "> ---\n",
    "> **`DataFrame.mode(axis = 0_또는_1)`**  \n",
    "> 데이터프레임의 최빈값을 구합니다.\n",
    ">> **매개변수(parameter)**\n",
    ">>\n",
    ">> **`axis`** : 0 또는 1이 전달됩니다.   \n",
    ">> axis가 0 일경우 열에서의 최빈값을 구하고 axis가 1일 경우 행에서의 최빈값을 구합니다.     \n",
    ">> 기본값은 0으로 열 방향으로의 최빈값을 구합니다.\n",
    "> ---\n",
    "> **`Series.std()`**  \n",
    "> 데이터프레임의 표준편차를 구합니다.\n",
    "> ---\n",
    "> **`DataFrame.std(axis = 0_또는_1)`**  \n",
    "> 데이터프레임의 표준편차를 구합니다.\n",
    ">> **매개변수(parameter)**\n",
    ">>\n",
    ">> **`axis`** : 0 또는 1이 전달됩니다.   \n",
    ">> axis가 0 일경우 열에서의 표준편차 구하고 axis가 1일 경우 행에서의 표준편차를 구합니다.     \n",
    ">> 기본값은 0으로 열 방향으로의 표준편차를 구합니다.\n",
    "> ---\n",
    "\n"
   ]
  },
  {
   "cell_type": "markdown",
   "id": "48f45d52-8fa5-4d93-ac0f-5c9bae752cbb",
   "metadata": {
    "tags": []
   },
   "source": [
    "## 대푯값 구하기\n",
    "\n",
    "시리즈와 데이터프레임에 여러 함수들을 적용해 대푯값을 구할 수 있습니다.\n",
    "\n",
    "<table>\n",
    "<tr>\n",
    "    <th><img src=\"https://tmn-bucket-materials-all.s3.ap-northeast-2.amazonaws.com/image/pandas/material_09_01.gif\" width=\"750\"></th>\n",
    "</tr>\n",
    "<tr>\n",
    "    <th>시리즈에 대푯값 함수 적용하기</th>\n",
    "</tr>\n",
    "</table>\n",
    "\n",
    "<table>\n",
    "<tr>\n",
    "    <th><img src=\"https://tmn-bucket-materials-all.s3.ap-northeast-2.amazonaws.com/image/pandas/material_09_02.gif\" width=\"750\"></th>\n",
    "</tr>\n",
    "<tr>\n",
    "    <th>데이터프레임에 대푯값 함수 적용하기</th>\n",
    "</tr>\n",
    "</table>\n",
    "\n",
    "<table>\n",
    "<tr>\n",
    "    <th><img src=\"https://tmn-bucket-materials-all.s3.ap-northeast-2.amazonaws.com/image/pandas/material_09_03.gif\" width=\"750\"></th>\n",
    "</tr>\n",
    "<tr>\n",
    "    <th>데이터프레임에 열방향으로 대푯값 함수 적용하기</th>\n",
    "</tr>\n",
    "</table>"
   ]
  },
  {
   "cell_type": "code",
   "execution_count": null,
   "id": "f34ee13a-04f9-4d2a-b0f2-6a6b58e0097a",
   "metadata": {
    "tags": []
   },
   "outputs": [],
   "source": [
    "# 예제_1_시리즈의_대푯값_구하기\n",
    "\n",
    "import pandas as pd\n",
    "import random\n",
    "\n",
    "score = pd.read_csv('https://tmn-bucket-materials-all.s3.ap-northeast-2.amazonaws.com/data/midterm_exam_result.csv')\n",
    "score.index = score['이름']\n",
    "score = score.iloc[:,1]\n",
    "\n",
    "print('#'*30, f\"{'score':^15s}\" , '#' * 30, '\\n') # 출력되는 결과들을 분리해서 보여주기 위한 코드입니다.\n",
    "print(score)\n",
    "print('\\n','#'*30, \"{:^15s}\".format('score.mean()') , '#' * 30, '\\n') # 출력되는 결과들을 분리해서 보여주기 위한 코드입니다.\n",
    "print(score.mean())\n",
    "print('\\n','#'*30, \"{:^15s}\".format('score.median()') , '#' * 30, '\\n') # 출력되는 결과들을 분리해서 보여주기 위한 코드입니다.\n",
    "print(score.median())\n",
    "print('\\n','#'*30, \"{:^15s}\".format('score.mode()') , '#' * 30, '\\n') # 출력되는 결과들을 분리해서 보여주기 위한 코드입니다.\n",
    "print(score.mode())\n",
    "print('\\n','#'*30, \"{:^15s}\".format('score.std()') , '#' * 30, '\\n') # 출력되는 결과들을 분리해서 보여주기 위한 코드입니다.\n",
    "print(score.std())"
   ]
  },
  {
   "cell_type": "code",
   "execution_count": null,
   "id": "55a05175-945d-400f-9e17-b67af772e941",
   "metadata": {
    "tags": []
   },
   "outputs": [],
   "source": [
    "# 예제_2_데이터프레임의_대푯값_구하기\n",
    "\n",
    "import pandas as pd\n",
    "import random\n",
    "\n",
    "score = pd.read_csv('https://tmn-bucket-materials-all.s3.ap-northeast-2.amazonaws.com/data/midterm_exam_result.csv')\n",
    "score.index = score['이름']\n",
    "score = score.iloc[:,1:]\n",
    "\n",
    "print('#'*30, f\"{'score':^15s}\" , '#' * 30, '\\n') # 출력되는 결과들을 분리해서 보여주기 위한 코드입니다.\n",
    "print(score)\n",
    "print('\\n','#'*30, \"{:^15s}\".format('score.mean()') , '#' * 30, '\\n') # 출력되는 결과들을 분리해서 보여주기 위한 코드입니다.\n",
    "print(score.mean())\n",
    "print('\\n','#'*30, \"{:^15s}\".format('score.median()') , '#' * 30, '\\n') # 출력되는 결과들을 분리해서 보여주기 위한 코드입니다.\n",
    "print(score.median())\n",
    "print('\\n','#'*30, \"{:^15s}\".format('score.mode()') , '#' * 30, '\\n') # 출력되는 결과들을 분리해서 보여주기 위한 코드입니다.\n",
    "print(score.mode())\n",
    "print('\\n','#'*30, \"{:^15s}\".format('score.std()') , '#' * 30, '\\n') # 출력되는 결과들을 분리해서 보여주기 위한 코드입니다.\n",
    "print(score.std())"
   ]
  },
  {
   "cell_type": "code",
   "execution_count": null,
   "id": "c6a2ca50-3bc9-458d-bdb7-a837a1ce401f",
   "metadata": {
    "tags": []
   },
   "outputs": [],
   "source": [
    "# 예제_2_데이터프레임의_열방향_대푯값_구하기\n",
    "\n",
    "import pandas as pd\n",
    "import random\n",
    "\n",
    "score = pd.read_csv('https://tmn-bucket-materials-all.s3.ap-northeast-2.amazonaws.com/data/midterm_exam_result.csv')\n",
    "score.index = score['이름']\n",
    "score = score.iloc[:,1:]\n",
    "\n",
    "print('#'*30, f\"{'score':^15s}\" , '#' * 30, '\\n') # 출력되는 결과들을 분리해서 보여주기 위한 코드입니다.\n",
    "print(score)\n",
    "print('\\n','#'*30, \"{:^15s}\".format('score.mean(axis = 1)') , '#' * 30, '\\n') # 출력되는 결과들을 분리해서 보여주기 위한 코드입니다.\n",
    "print(score.mean(axis = 1))\n",
    "print('\\n','#'*30, \"{:^15s}\".format('score.median(axis = 1)') , '#' * 30, '\\n') # 출력되는 결과들을 분리해서 보여주기 위한 코드입니다.\n",
    "print(score.median(axis = 1))\n",
    "print('\\n','#'*30, \"{:^15s}\".format('score.mode(axis = 1)') , '#' * 30, '\\n') # 출력되는 결과들을 분리해서 보여주기 위한 코드입니다.\n",
    "print(score.mode(axis = 1))\n",
    "print('\\n','#'*30, \"{:^15s}\".format('score.std(axis = 1)') , '#' * 30, '\\n') # 출력되는 결과들을 분리해서 보여주기 위한 코드입니다.\n",
    "print(score.std(axis = 1))"
   ]
  },
  {
   "cell_type": "markdown",
   "id": "4faf772d-313e-4bb7-995e-a3e5a99cdc1e",
   "metadata": {},
   "source": [
    "### **💯 연습문제를 풀어봅시다**\n",
    "\n"
   ]
  },
  {
   "cell_type": "markdown",
   "id": "bfc63131-846c-4c7e-a4e0-c918c3962b19",
   "metadata": {
    "tags": []
   },
   "source": [
    "1. <a class=\"jcecodle-mk jcecodle-mk__problem-chip\" data-problem-id=\"F6pUd4gvMwM\" href='#jce-judge/open/F6pUd4gvMwM' target='_self'><span>판다스 - 데이터 통계 - median</span></a>\n",
    "\n",
    "1. <a class=\"jcecodle-mk jcecodle-mk__problem-chip\" data-problem-id=\"yAEg4HHoJF8\" href='#jce-judge/open/yAEg4HHoJF8' target='_self'><span>도착시간 중앙값 (1)</span></a>\n",
    "\n",
    "2. <a class=\"jcecodle-mk jcecodle-mk__problem-chip\" data-problem-id=\"uR1NqzwSJvk\" href='#jce-judge/open/uR1NqzwSJvk' target='_self'><span>도착시간 중앙값 (2)</span></a>\n",
    "\n",
    "3. <a class=\"jcecodle-mk jcecodle-mk__problem-chip\" data-problem-id=\"OsKrBBq2TTE\" href='#jce-judge/open/OsKrBBq2TTE' target='_self'><span>성적 중앙값</span></a>\n",
    "\n",
    "2. <a class=\"jcecodle-mk jcecodle-mk__problem-chip\" data-problem-id=\"lHKazuduw5A\" href='#jce-judge/open/lHKazuduw5A' target='_self'><span>판다스 - 데이터 통계 -  mean</span></a>\n",
    "\n",
    "1. <a class=\"jcecodle-mk jcecodle-mk__problem-chip\" data-problem-id=\"XxoGA530lVI\" href='#jce-judge/open/XxoGA530lVI' target='_self'><span>성적 평균값 (1)</span></a>\n",
    "\n",
    "2. <a class=\"jcecodle-mk jcecodle-mk__problem-chip\" data-problem-id=\"2un8j30nlU0\" href='#jce-judge/open/2un8j30nlU0' target='_self'><span>성적 평균값 (3)</span></a>\n",
    "\n",
    "3. <a class=\"jcecodle-mk jcecodle-mk__problem-chip\" data-problem-id=\"19-h_lB1w-I\" href='#jce-judge/open/19-h_lB1w-I' target='_self'><span>판다스 - 결측값 처리 - 열에 따라 변경(1)</span></a>\n",
    "\n",
    "3. <a class=\"jcecodle-mk jcecodle-mk__problem-chip\" data-problem-id=\"SZoWwB5VS24\" href='#jce-judge/open/SZoWwB5VS24' target='_self'><span>판다스 - 데이터 통계 - std</span></a>\n",
    "\n",
    "1. <a class=\"jcecodle-mk jcecodle-mk__problem-chip\" data-problem-id=\"0UyZTrM2eUo\" href='#jce-judge/open/0UyZTrM2eUo' target='_self'><span>매출액 표준편차</span></a>\n",
    "\n",
    "2. <a class=\"jcecodle-mk jcecodle-mk__problem-chip\" data-problem-id=\"IAmEXv9cWrE\" href='#jce-judge/open/IAmEXv9cWrE' target='_self'><span>부동산 표준편차</span></a>\n",
    "\n",
    "3. <a class=\"jcecodle-mk jcecodle-mk__problem-chip\" data-problem-id=\"0Se3NuwFlBE\" href='#jce-judge/open/0Se3NuwFlBE' target='_self'><span>광고 매체 선호도 표준편차</span></a>\n",
    "\n",
    "4. <a class=\"jcecodle-mk jcecodle-mk__problem-chip\" data-problem-id=\"omdpmhnQghk\" href='#jce-judge/open/omdpmhnQghk' target='_self'><span>판다스 - 데이터 통계 - mode</span></a>\n",
    "\n",
    "1. <a class=\"jcecodle-mk jcecodle-mk__problem-chip\" data-problem-id=\"QBymtuzthO0\" href='#jce-judge/open/QBymtuzthO0' target='_self'><span>펭귄의 종과 서식지</span></a>\n",
    "\n",
    "2. <a class=\"jcecodle-mk jcecodle-mk__problem-chip\" data-problem-id=\"-54q2pbV7pQ\" href='#jce-judge/open/-54q2pbV7pQ' target='_self'><span>카페 정보 최빈값</span></a>\n",
    "\n",
    "3. <a class=\"jcecodle-mk jcecodle-mk__problem-chip\" data-problem-id=\"BXTt2Rjlq5w\" href='#jce-judge/open/BXTt2Rjlq5w' target='_self'><span>판다스 - 결측값 처리 - 열에 따라 변경(2)</span></a>"
   ]
  }
 ],
 "metadata": {
  "kernelspec": {
   "display_name": "Python 3 (ipykernel)",
   "language": "python",
   "name": "python3"
  },
  "language_info": {
   "codemirror_mode": {
    "name": "ipython",
    "version": 3
   },
   "file_extension": ".py",
   "mimetype": "text/x-python",
   "name": "python",
   "nbconvert_exporter": "python",
   "pygments_lexer": "ipython3",
   "version": "3.10.10"
  }
 },
 "nbformat": 4,
 "nbformat_minor": 5
}
