{
 "cells": [
  {
   "cell_type": "markdown",
   "id": "727ea7a9-bac0-4bb3-afbc-4981950e3fd1",
   "metadata": {
    "tags": []
   },
   "source": [
    "# **[9-3] 데이터의 개수,합 구하기**"
   ]
  },
  {
   "cell_type": "markdown",
   "id": "0a5448d2-a09e-484c-adf2-6c2e5d0232b8",
   "metadata": {
    "tags": []
   },
   "source": [
    "## **🎯 학습 목표**\n",
    "**데이터의 개수, 합을 구해봅시다.**"
   ]
  },
  {
   "cell_type": "markdown",
   "id": "01cb348d-d551-4559-910d-6d97d46c0385",
   "metadata": {},
   "source": [
    "---"
   ]
  },
  {
   "cell_type": "markdown",
   "id": "005f9506-4698-4c2d-b3e0-7ab8ba6e02f3",
   "metadata": {},
   "source": [
    "여러 함수를 이용해 데이터의 개수와 합을 계산할 수 있습니다.\n",
    "\n",
    "> **🔨 함수(FUNCTIONS):**\n",
    ">\n",
    "> **`Series.count()`**  \n",
    "> 시리즈의 데이터의 개수를 구합니다.\n",
    "> ---\n",
    "> **`DataFrame.count(axis = 0_또는_1)`**  \n",
    "> 데이터프레임의 데이터의 개수를 구합니다.\n",
    ">> **매개변수(parameter)**\n",
    ">>\n",
    ">> **`axis`** : 0 또는 1이 전달됩니다.   \n",
    ">> axis가 0 일경우 열에서의 데이터의 개수를 구하고 axis가 1일 경우 행에서의 데이터의 개수를 구합니다.     \n",
    ">> 기본값은 0으로 열 방향으로의 데이터의 개수를 구합니다.\n",
    "> ---\n",
    "> **`Series.sum()`**  \n",
    "> 시리즈의 데이터의 합을 구합니다.\n",
    "> ---\n",
    "> **`DataFrame.sum(axis = 0_또는_1)`**  \n",
    "> 데이터프레임의 데이터의 합을 구합니다.\n",
    ">> **매개변수(parameter)**\n",
    ">>\n",
    ">> **`axis`** : 0 또는 1이 전달됩니다.   \n",
    ">> axis가 0 일경우 열에서의 데이터의 합을 구하고 axis가 1일 경우 행에서의 데이터의 합을 구합니다.     \n",
    ">> 기본값은 0으로 열 방향으로의 데이터의 합을 구합니다.\n",
    "> ---\n",
    "\n",
    "\n",
    "\n"
   ]
  },
  {
   "cell_type": "markdown",
   "id": "30724166-7421-4fb6-be42-813b6bba4bbe",
   "metadata": {
    "tags": []
   },
   "source": [
    "## 데이터의 개수와 합 구하기\n",
    "\n",
    "시리즈와 데이터프레임에 여러 함수들을 적용해 데이터의 개수와 합을 구할 수 있습니다.\n",
    "\n",
    "<table>\n",
    "<tr>\n",
    "    <th><img src=\"https://tmn-bucket-materials-all.s3.ap-northeast-2.amazonaws.com/image/pandas/material_09_07.gif\" width=\"750\"></th>\n",
    "</tr>\n",
    "<tr>\n",
    "    <th>시리즈에 데이터의 합, 개수 함수 적용하기</th>\n",
    "</tr>\n",
    "</table>\n",
    "\n",
    "<table>\n",
    "<tr>\n",
    "    <th><img src=\"https://tmn-bucket-materials-all.s3.ap-northeast-2.amazonaws.com/image/pandas/material_09_08.gif\" width=\"750\"></th>\n",
    "</tr>\n",
    "<tr>\n",
    "    <th>데이터프레임에 데이터의 합, 개수 함수 적용하기</th>\n",
    "</tr>\n",
    "</table>\n",
    "\n",
    "<table>\n",
    "<tr>\n",
    "    <th><img src=\"https://tmn-bucket-materials-all.s3.ap-northeast-2.amazonaws.com/image/pandas/material_09_09.gif\" width=\"750\"></th>\n",
    "</tr>\n",
    "<tr>\n",
    "    <th>데이터프레임에 열방향으로 데이터의 합, 개수 함수 적용하기</th>\n",
    "</tr>\n",
    "</table>"
   ]
  },
  {
   "cell_type": "code",
   "execution_count": null,
   "id": "5ffb06ee-9571-4811-8f38-bbde8cddae79",
   "metadata": {
    "tags": []
   },
   "outputs": [],
   "source": [
    "# 예제_1_시리즈의_합_개수_구하기\n",
    "\n",
    "import pandas as pd\n",
    "import random\n",
    "\n",
    "score = pd.read_csv('https://tmn-bucket-materials-all.s3.ap-northeast-2.amazonaws.com/data/midterm_exam_result.csv')\n",
    "score.index = score['이름']\n",
    "score = score.iloc[:,1]\n",
    "\n",
    "print('#'*30, f\"{'score':^15s}\" , '#' * 30, '\\n') # 출력되는 결과들을 분리해서 보여주기 위한 코드입니다.\n",
    "print(score)\n",
    "print('\\n','#'*30, \"{:^15s}\".format('score.count()') , '#' * 30, '\\n') # 출력되는 결과들을 분리해서 보여주기 위한 코드입니다.\n",
    "print(score.count())\n",
    "print('\\n','#'*30, \"{:^15s}\".format('score.sum()') , '#' * 30, '\\n') # 출력되는 결과들을 분리해서 보여주기 위한 코드입니다.\n",
    "print(score.sum())"
   ]
  },
  {
   "cell_type": "code",
   "execution_count": null,
   "id": "51b8be50-178f-4fc0-ac3e-6994b8b7cafa",
   "metadata": {
    "tags": []
   },
   "outputs": [],
   "source": [
    "# 예제_1_데이터프레임의_합_개수_구하기\n",
    "\n",
    "import pandas as pd\n",
    "import random\n",
    "\n",
    "score = pd.read_csv('https://tmn-bucket-materials-all.s3.ap-northeast-2.amazonaws.com/data/midterm_exam_result.csv')\n",
    "score.index = score['이름']\n",
    "score = score.iloc[:,1:]\n",
    "\n",
    "print('#'*30, f\"{'score':^15s}\" , '#' * 30, '\\n') # 출력되는 결과들을 분리해서 보여주기 위한 코드입니다.\n",
    "print(score)\n",
    "print('\\n','#'*30, \"{:^15s}\".format('score.count()') , '#' * 30, '\\n') # 출력되는 결과들을 분리해서 보여주기 위한 코드입니다.\n",
    "print(score.count())\n",
    "print('\\n','#'*30, \"{:^15s}\".format('score.sum()') , '#' * 30, '\\n') # 출력되는 결과들을 분리해서 보여주기 위한 코드입니다.\n",
    "print(score.sum())"
   ]
  },
  {
   "cell_type": "code",
   "execution_count": null,
   "id": "f0ffea28-b18d-4e5f-bedd-463e9642e2f8",
   "metadata": {
    "tags": []
   },
   "outputs": [],
   "source": [
    "# 예제_1_데이터프레임의_열방향_합_개수_구하기\n",
    "\n",
    "import pandas as pd\n",
    "import random\n",
    "\n",
    "score = pd.read_csv('https://tmn-bucket-materials-all.s3.ap-northeast-2.amazonaws.com/data/midterm_exam_result.csv')\n",
    "score.index = score['이름']\n",
    "score = score.iloc[:,1:]\n",
    "\n",
    "print('#'*30, f\"{'score':^15s}\" , '#' * 30, '\\n') # 출력되는 결과들을 분리해서 보여주기 위한 코드입니다.\n",
    "print(score)\n",
    "print('\\n','#'*30, \"{:^15s}\".format('score.count(axis = 1)') , '#' * 30, '\\n') # 출력되는 결과들을 분리해서 보여주기 위한 코드입니다.\n",
    "print(score.count(axis = 1))\n",
    "print('\\n','#'*30, \"{:^15s}\".format('score.sum(axis = 1)') , '#' * 30, '\\n') # 출력되는 결과들을 분리해서 보여주기 위한 코드입니다.\n",
    "print(score.sum(axis = 1))"
   ]
  },
  {
   "cell_type": "markdown",
   "id": "39d8bcb0-45cc-475b-a0bf-6242a3b7983f",
   "metadata": {},
   "source": [
    "### **💯 연습문제를 풀어봅시다**\n",
    "\n"
   ]
  },
  {
   "cell_type": "markdown",
   "id": "8d0dd8fe-cfd0-4ccb-a3d6-fbf7199fbb98",
   "metadata": {
    "tags": []
   },
   "source": [
    "1. <a class=\"jcecodle-mk jcecodle-mk__problem-chip\" data-problem-id=\"382GQJkEmuY\" href='#jce-judge/open/382GQJkEmuY' target='_self'><span>판다스 - 데이터 연산하기 - count</span></a>\n",
    "\n",
    "1. <a class=\"jcecodle-mk jcecodle-mk__problem-chip\" data-problem-id=\"9S_mUPGOUuM\" href='#jce-judge/open/9S_mUPGOUuM' target='_self'><span>열별 데이터 개수</span></a>\n",
    "2. <a class=\"jcecodle-mk jcecodle-mk__problem-chip\" data-problem-id=\"Ko8ZZWsvwZ4\" href='#jce-judge/open/Ko8ZZWsvwZ4' target='_self'><span>가계부 데이터 개수 (1)</span></a>\n",
    "2. <a class=\"jcecodle-mk jcecodle-mk__problem-chip\" data-problem-id=\"0JU_Sr_2GP0\" href='#jce-judge/open/0JU_Sr_2GP0' target='_self'><span>판다스 - 데이터 연산하기 - sum (1)</span></a>\n",
    "3. <a class=\"jcecodle-mk jcecodle-mk__problem-chip\" data-problem-id=\"nOauwzr8TZU\" href='#jce-judge/open/nOauwzr8TZU' target='_self'><span>판다스 - 데이터 연산하기 - sum (2)</span></a>\n",
    "1. <a class=\"jcecodle-mk jcecodle-mk__problem-chip\" data-problem-id=\"Clzp33-7Wd4\" href='#jce-judge/open/Clzp33-7Wd4' target='_self'><span>광고 매체 저촉 인원 합계</span></a>\n",
    "2. <a class=\"jcecodle-mk jcecodle-mk__problem-chip\" data-problem-id=\"FC1e2M2CMtw\" href='#jce-judge/open/FC1e2M2CMtw' target='_self'><span>전교회장 후보 득표수 합계</span></a>\n",
    "3. <a class=\"jcecodle-mk jcecodle-mk__problem-chip\" data-problem-id=\"l_FykgOTPIM\" href='#jce-judge/open/l_FykgOTPIM' target='_self'><span>전과목 성적 합계</span></a>\n",
    "6. <a class=\"jcecodle-mk jcecodle-mk__problem-chip\" data-problem-id=\"C9BqQGWVB0Y\" href='#jce-judge/open/C9BqQGWVB0Y' target='_self'><span>득표수 정보 찾아 변경하기</span></a>\n",
    "1. <a class=\"jcecodle-mk jcecodle-mk__problem-chip\" data-problem-id=\"XTOwDbSGsZ8\" href='#jce-judge/open/XTOwDbSGsZ8' target='_self'><span>지출 최소인 주</span></a>\n"
   ]
  }
 ],
 "metadata": {
  "kernelspec": {
   "display_name": "Python 3 (ipykernel)",
   "language": "python",
   "name": "python3"
  },
  "language_info": {
   "codemirror_mode": {
    "name": "ipython",
    "version": 3
   },
   "file_extension": ".py",
   "mimetype": "text/x-python",
   "name": "python",
   "nbconvert_exporter": "python",
   "pygments_lexer": "ipython3",
   "version": "3.10.10"
  }
 },
 "nbformat": 4,
 "nbformat_minor": 5
}
