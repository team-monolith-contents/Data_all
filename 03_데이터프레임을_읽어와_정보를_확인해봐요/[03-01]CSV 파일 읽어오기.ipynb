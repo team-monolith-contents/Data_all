{
 "cells": [
  {
   "cell_type": "markdown",
   "id": "727ea7a9-bac0-4bb3-afbc-4981950e3fd1",
   "metadata": {
    "tags": []
   },
   "source": [
    "# **[2-3] CSV 파일 읽어오기**"
   ]
  },
  {
   "cell_type": "markdown",
   "id": "0a5448d2-a09e-484c-adf2-6c2e5d0232b8",
   "metadata": {
    "tags": []
   },
   "source": [
    "## **🎯 학습 목표**\n",
    "**csv 파일로부터 데이터를 읽어오고 데이터를 csv 파일로 저장해봅시다.**"
   ]
  },
  {
   "cell_type": "markdown",
   "id": "01cb348d-d551-4559-910d-6d97d46c0385",
   "metadata": {},
   "source": [
    "---"
   ]
  },
  {
   "cell_type": "markdown",
   "id": "e3bd3d48-97dc-44e7-90ce-85c0e1df11d4",
   "metadata": {
    "jp-MarkdownHeadingCollapsed": true,
    "tags": []
   },
   "source": [
    "Pandas에서는 CSV 파일로부터 데이터프레임(DataFrame)을 읽어올 수 있습니다.\n",
    "\n",
    "> **✏️ 알아봅시다(NOTE):** CSV(Comma-Seperated Values)가 무엇인가요?  \n",
    ">\n",
    "> 표 형태의 데이터를 저장하는 파일 형식입니다.  \n",
    "> 한 줄이 한 개의 행에 해당하며, 열 사이에는 쉼표(,)를 넣어 구분합니다.\n",
    ">\n",
    "> <table>\n",
    "> <tr>\n",
    ">     <th><img src=\"https://tmn-bucket-materials-all.s3.ap-northeast-2.amazonaws.com/image/pandas/material_02_12.PNG\" width=\"500\"></th>\n",
    "> </tr>\n",
    "> <tr>\n",
    ">     <th>중첩 딕셔너리로 인덱스, 열 설정하여 데이터프레임 만들기</th>\n",
    "> </tr>\n",
    "> </table>\n",
    "\n",
    "\n",
    "> **🔨 함수(FUNCTIONS):**\n",
    ">\n",
    "> **`pd.read_csv(파일이름(문자열), encoding = 인코딩방법(문자열))`**  \n",
    "> 해당 CSV 파일을 읽어 데이터프레임으로 불러옵니다.\n",
    ">> **매개변수(parameter)**\n",
    ">>\n",
    ">> **`encoding`** : 파일의 인코등 방식을 문자열 형태로 전달합니다.  \n",
    "> (utf-8로 인코딩 된 파일은 encoding 매개변수를 넣어주지 않아도 됩니다.\n",
    "> ---\n",
    "> **`DataFrame.to_csv(파일이름(문자열), index = 인덱스포함여부(불))`**  \n",
    "> 데이터프레임을 CSV 파일로 저장합니다.  \n",
    ">> **매개변수(parameter)**\n",
    ">>\n",
    ">> **`index`** : 인덱스의 포함 여부를 나타냅니다.  \n",
    "> True면 index 라는 이름을 가진 열을 생성합니다.  \n",
    "> 따로 매개변수를 설정하지 않으면 True 값을 가집니다.\n",
    "> ---\n",
    "\n",
    "> **✏️ 알아봅시다(NOTE):** 인코딩(encoding)이 무엇인가요?\n",
    ">\n",
    "> 인코딩(encoding)은 사용자가 입력한 문자나 기호들을 컴퓨터가 이용할 수 있는 신호로 만드는 것입니다.  \n",
    "> 다양한 방법이 존재하는데 한국어 데이터는 보통 `utf-8`, `cp949` `euc-kr`의 방법으로 인코딩됩니다.\n",
    "\n",
    "\n"
   ]
  },
  {
   "cell_type": "markdown",
   "id": "42248f77-417a-4709-90b7-105fbb1542e0",
   "metadata": {},
   "source": [
    "## csv 파일로 데이터프레임 만들기\n",
    "\n",
    "`read_csv()` 함수를 사용하면 csv 파일을 읽어 데이터프레임을 생성합니다.\n",
    "이때 인덱스는 0부터 자동으로 생성합니다.\n",
    "\n",
    "<table>\n",
    "<tr>\n",
    "    <th><img src=\"https://tmn-bucket-materials-all.s3.ap-northeast-2.amazonaws.com/image/pandas/material_02_13.gif\" width=\"750\"></th>\n",
    "</tr>\n",
    "<tr>\n",
    "    <th>csv 파일로 데이터프레임 만들기</th>\n",
    "</tr>\n",
    "</table>\n",
    "\n",
    "> **⛔️ 오류(ERROR):**\n",
    ">\n",
    "> 파일이 인코딩 방법을 정확하게 넣어주지 않으면 오류가 발생합니다.  "
   ]
  },
  {
   "cell_type": "code",
   "execution_count": null,
   "id": "60eaafd0-9f83-4125-841c-dbb2e7cf1038",
   "metadata": {
    "tags": []
   },
   "outputs": [],
   "source": [
    "# 예제_1_csv_파일_읽어오기\n",
    "\n",
    "import pandas as pd\n",
    "\n",
    "print('\\n','#'*30, \"{:^15s}\".format(\"pd.read_csv('price_list.csv')\") , '#' * 30, '\\n') # 출력되는 결과들을 분리해서 보여주기 위한 코드입니다.\n",
    "print(pd.read_csv('price_list.csv'))"
   ]
  },
  {
   "cell_type": "code",
   "execution_count": null,
   "id": "1141b756-602e-4b6c-b0f2-3de0a76d6544",
   "metadata": {
    "tags": []
   },
   "outputs": [],
   "source": [
    "# 예제_2_파일이_없어서_실패\n",
    "\n",
    "import pandas as pd\n",
    "\n",
    "print('\\n','#'*30, \"{:^15s}\".format(\"pd.read_csv('price_list2.csv')\") , '#' * 30, '\\n') # 출력되는 결과들을 분리해서 보여주기 위한 코드입니다.\n",
    "print(pd.read_csv('price_list2.csv'))"
   ]
  },
  {
   "cell_type": "markdown",
   "id": "a9031470-025f-455c-ab13-1176350dd92a",
   "metadata": {},
   "source": [
    "## 데이터프레임을 csv 파일로 저장하기\n",
    "\n",
    "데이터프레임에 `to_csv()` 함수를 사용하면 데이터프레임을 csv로 저장해줍니다.  \n",
    "이때 index열을 생성해 인덱스 정보를 저장합니다.  \n",
    "\n",
    "<table>\n",
    "<tr>\n",
    "    <th><img src=\"https://tmn-bucket-materials-all.s3.ap-northeast-2.amazonaws.com/image/pandas/material_02_14.gif\" width=\"750\"></th>\n",
    "</tr>\n",
    "<tr>\n",
    "    <th>데이터프레임을 csv 파일로 저장하기</th>\n",
    "</tr>\n",
    "</table>\n",
    "\n",
    "`index = False` 매개변수를 추가하면 index 열을 생성하지 않습니다.  \n",
    "\n",
    "<table>\n",
    "<tr>\n",
    "    <th><img src=\"https://tmn-bucket-materials-all.s3.ap-northeast-2.amazonaws.com/image/pandas/material_02_15.gif\" width=\"750\"></th>\n",
    "</tr>\n",
    "<tr>\n",
    "    <th>데이터프레임을 인덱스 없이 csv 파일로 저장하기</th>\n",
    "</tr>\n",
    "</table>\n"
   ]
  },
  {
   "cell_type": "code",
   "execution_count": null,
   "id": "77739bbe-1855-45fb-afe6-fb7b1d1c05b1",
   "metadata": {
    "tags": []
   },
   "outputs": [],
   "source": [
    "# 예제_3_데이터프레임_csv_파일로_저장하기\n",
    "\n",
    "import pandas as pd\n",
    "\n",
    "print('\\n','#'*30, \"{:^15s}\".format(\"df\") , '#' * 30, '\\n') # 출력되는 결과들을 분리해서 보여주기 위한 코드입니다.\n",
    "df = pd.read_csv('price_list.csv')\n",
    "print(df)\n",
    "print('\\n','#'*30, \"{:^15s}\".format(\"df.to_csv('price_list_new.csv')\") , '#' * 30, '\\n') # 출력되는 결과들을 분리해서 보여주기 위한 코드입니다.\n",
    "df.to_csv('price_list_new.csv')"
   ]
  },
  {
   "cell_type": "code",
   "execution_count": null,
   "id": "4fca5a06-8f59-4166-9e50-ab7dcf62afd4",
   "metadata": {
    "tags": []
   },
   "outputs": [],
   "source": [
    "# CSV index 없이 저장하는 예시\n",
    "\n",
    "# 예제_3_데이터프레임_인덱스_없이_csv_파일로_저장하기\n",
    "\n",
    "import pandas as pd\n",
    "\n",
    "print('\\n','#'*30, \"{:^15s}\".format(\"df\") , '#' * 30, '\\n') # 출력되는 결과들을 분리해서 보여주기 위한 코드입니다.\n",
    "df = pd.read_csv('price_list.csv')\n",
    "print(df)\n",
    "print('\\n','#'*30, \"{:^15s}\".format(\"df.to_csv('price_list_new.csv', index = False)\") , '#' * 30, '\\n') # 출력되는 결과들을 분리해서 보여주기 위한 코드입니다.\n",
    "df.to_csv('price_list_new.csv', index = False)"
   ]
  },
  {
   "cell_type": "markdown",
   "id": "3075d91a-a2b3-4d89-86be-e16f059a1e27",
   "metadata": {},
   "source": [
    "> **❓ 생각해보기(QUESTION):**\n",
    ">\n",
    "> 데이터를 데이터프레임의 형태로 불러오고, 데이터프레임을 데이터로 저장하는 과정이 중요한 이유는 무엇인가요?"
   ]
  },
  {
   "cell_type": "raw",
   "id": "e280e55b-0a29-48a6-946f-51b8aa887737",
   "metadata": {},
   "source": [
    "질문에 대한 대답을 여기에 적어봅시다."
   ]
  },
  {
   "cell_type": "markdown",
   "id": "603eec65-944d-4dfa-9eaa-f93137173dbe",
   "metadata": {},
   "source": [
    "### **💯 연습문제를 풀어봅시다**\n",
    "\n"
   ]
  },
  {
   "cell_type": "markdown",
   "id": "237e5d61-40cb-4b55-aaff-6737cb568f77",
   "metadata": {
    "tags": []
   },
   "source": [
    "1. CSV 읽어오는 문제\n",
    "2. CSV cp949로 읽어오는 문제"
   ]
  }
 ],
 "metadata": {
  "kernelspec": {
   "display_name": "Python 3 (ipykernel)",
   "language": "python",
   "name": "python3"
  },
  "language_info": {
   "codemirror_mode": {
    "name": "ipython",
    "version": 3
   },
   "file_extension": ".py",
   "mimetype": "text/x-python",
   "name": "python",
   "nbconvert_exporter": "python",
   "pygments_lexer": "ipython3",
   "version": "3.8.10"
  }
 },
 "nbformat": 4,
 "nbformat_minor": 5
}
