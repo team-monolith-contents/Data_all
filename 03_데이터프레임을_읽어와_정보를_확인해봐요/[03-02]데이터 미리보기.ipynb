{
 "cells": [
  {
   "cell_type": "markdown",
   "id": "727ea7a9-bac0-4bb3-afbc-4981950e3fd1",
   "metadata": {
    "tags": []
   },
   "source": [
    "# **[3-1] 데이터 미리보기**"
   ]
  },
  {
   "cell_type": "markdown",
   "id": "0a5448d2-a09e-484c-adf2-6c2e5d0232b8",
   "metadata": {
    "tags": []
   },
   "source": [
    "## **🎯 학습 목표**\n",
    "**데이터의 일부를 원하는만큼 출력 해봅시다.**"
   ]
  },
  {
   "cell_type": "markdown",
   "id": "01cb348d-d551-4559-910d-6d97d46c0385",
   "metadata": {},
   "source": [
    "---"
   ]
  },
  {
   "cell_type": "markdown",
   "id": "0eefb44f-348e-4ff4-9189-28803a208683",
   "metadata": {
    "jp-MarkdownHeadingCollapsed": true,
    "tags": []
   },
   "source": [
    "다른 사람이 만든 데이터를 사용하기 위해서는 데이터가 어떻게 구성되어 있는지 확인해야 합니다.  \n",
    "`print()` 함수를 이용해 데이터를 출력할 수도 있지만 데이터가 큰 경우에는 중간을 생략합니다.  \n",
    "`head()`, `tail()` 함수를 사용하면 데이터를 원하는 길이만큼 출력할 수 있습니다.\n",
    "\n",
    "> **🔨 함수(FUNCTIONS):**\n",
    ">\n",
    "> **`Series.head(n = 정수)`**  \n",
    "> 시리즈의 처음 n 개의 데이터를 불러옵니다.\n",
    ">> **매개변수(parameter)**\n",
    ">>\n",
    ">> **`n`** : 불러올 데이터의 개수를 정수로 지정합니다.  \n",
    "> 지정하지 않으면 5개의 데이터가 출력됩니다.\n",
    "> ---\n",
    "> **`Series.tail(n = 정수)`**  \n",
    "> 시리즈의 마지막 n 개의 데이터를 불러옵니다.\n",
    ">> **매개변수(parameter)**\n",
    ">>\n",
    ">> **`n`** : 불러올 데이터의 개수를 정수로 지정합니다.  \n",
    "> 지정하지 않으면 5개의 데이터가 출력됩니다.\n",
    "> ---\n",
    "> **`DataFrame.head(n = 정수)`**  \n",
    "> 데이터프레임의 처음 n 개의 데이터를 불러옵니다.\n",
    ">> **매개변수(parameter)**\n",
    ">>\n",
    ">> **`n`** : 불러올 데이터의 개수를 정수로 지정합니다.  \n",
    "> 지정하지 않으면 5개의 데이터가 출력됩니다.\n",
    ">---\n",
    "> **`DataFrame.tail(n = 정수)`**  \n",
    "> 데이터프레임의 마지막 n 개의 데이터를 불러옵니다.\n",
    ">> **매개변수(parameter)**\n",
    ">>\n",
    ">> **`n`** : 불러올 데이터의 개수를 정수로 지정합니다.  \n",
    "> 지정하지 않으면 5개의 데이터가 출력됩니다.\n",
    "> ---\n"
   ]
  },
  {
   "cell_type": "markdown",
   "id": "14a34532-c00f-4663-ab9a-685e9543bde7",
   "metadata": {},
   "source": [
    "## head(), tail() 함수로 원하는 만큼 시리즈 읽어오기\n",
    "\n",
    "`head()`, `tail()` 함수를 사용하면 원하는 만큼 시리즈 데이터를 읽어올 수 있습니다.\n",
    "\n",
    "<table>\n",
    "<tr>\n",
    "    <th><img src=\"https://tmn-bucket-materials-all.s3.ap-northeast-2.amazonaws.com/image/pandas/material_03_01.gif\" width=\"750\"></th>\n",
    "</tr>\n",
    "<tr>\n",
    "    <th>head, tail 함수로 시리즈 데이터 읽어오기</th>\n",
    "</tr>\n",
    "</table>"
   ]
  },
  {
   "cell_type": "code",
   "execution_count": null,
   "id": "6ca4b186-9316-4e35-afc5-af91dd017539",
   "metadata": {
    "tags": []
   },
   "outputs": [],
   "source": [
    "# 예제_1_시리즈_출력하기\n",
    "\n",
    "import pandas as pd\n",
    "\n",
    "school = pd.read_csv('https://tmn-bucket-materials-all.s3.ap-northeast-2.amazonaws.com/data/%EA%B3%A0%EB%93%B1%ED%95%99%EA%B5%90.csv')['학교명']\n",
    "\n",
    "print('#'*30, f\"{'print(school)':^15s}\" , '#' * 30, '\\n') # 출력되는 결과들을 분리해서 보여주기 위한 코드입니다.\n",
    "print(school)\n",
    "print('\\n','#'*30, f\"{'school.head(10)':^15s}\" , '#' * 30, '\\n') # 출력되는 결과들을 분리해서 보여주기 위한 코드입니다.\n",
    "print(school.head(10))\n",
    "print('\\n','#'*30, f\"{'school.tail(10)':^15s}\" , '#' * 30, '\\n') # 출력되는 결과들을 분리해서 보여주기 위한 코드입니다.\n",
    "print(school.tail(5))"
   ]
  },
  {
   "cell_type": "markdown",
   "id": "7f40843f-ad2a-40fd-94bd-336bee35565d",
   "metadata": {},
   "source": [
    "## head(), tail() 함수로 원하는 만큼 데이터프레임 읽어오기\n",
    "\n",
    "`head()`, `tail()` 함수를 사용하면 원하는 만큼 데이터프레임에 데이터를 읽어올 수 있습니다.\n",
    "\n",
    "<table>\n",
    "<tr>\n",
    "    <th><img src=\"https://tmn-bucket-materials-all.s3.ap-northeast-2.amazonaws.com/image/pandas/material_03_02.gif\" width=\"750\"></th>\n",
    "</tr>\n",
    "<tr>\n",
    "    <th>head, tail 함수로 데이터프레임 데이터 읽어오기</th>\n",
    "</tr>\n",
    "</table>"
   ]
  },
  {
   "cell_type": "code",
   "execution_count": null,
   "id": "47087b03-6d28-498e-83d3-6255b2055a76",
   "metadata": {
    "tags": []
   },
   "outputs": [],
   "source": [
    "# 예제_2_데이터프레임_출력하기\n",
    "\n",
    "import pandas as pd\n",
    "\n",
    "school = pd.read_csv('https://tmn-bucket-materials-all.s3.ap-northeast-2.amazonaws.com/data/%EA%B3%A0%EB%93%B1%ED%95%99%EA%B5%90.csv')\n",
    "\n",
    "print('#'*30, f\"{'print(school)':^15s}\" , '#' * 30, '\\n') # 출력되는 결과들을 분리해서 보여주기 위한 코드입니다.\n",
    "print(school)\n",
    "print('\\n','#'*30, f\"{'school.head(10)':^15s}\" , '#' * 30, '\\n') # 출력되는 결과들을 분리해서 보여주기 위한 코드입니다.\n",
    "print(school.head(10))\n",
    "print('\\n','#'*30, f\"{'school.tail(10)':^15s}\" , '#' * 30, '\\n') # 출력되는 결과들을 분리해서 보여주기 위한 코드입니다.\n",
    "print(school.tail(5))"
   ]
  },
  {
   "cell_type": "markdown",
   "id": "b0689a88-0bbb-43c0-a115-02d6b94ea15c",
   "metadata": {},
   "source": [
    "> **❓ 생각해보기(QUESTION):**\n",
    ">\n",
    "> 다른 사람이 만든 데이터를 활용하기 전에 데이터를 확인해야 하는 이유는 무엇일까요?"
   ]
  },
  {
   "cell_type": "raw",
   "id": "7d197f7c-3ebe-4722-acc9-8e47af4e7e7a",
   "metadata": {},
   "source": [
    "질문에 대한 대답을 여기에 적어봅시다."
   ]
  },
  {
   "cell_type": "markdown",
   "id": "c363ef03-64ac-47dc-850b-b0a190a2b8bf",
   "metadata": {},
   "source": [
    "### **💯 연습문제를 풀어봅시다**\n",
    "\n"
   ]
  },
  {
   "cell_type": "markdown",
   "id": "f49fa315-a101-4771-930e-7fdb22b8a103",
   "metadata": {
    "tags": []
   },
   "source": [
    "1. <a class=\"jcecodle-mk jcecodle-mk__problem-chip\" data-problem-id=\"eIqw64lQUsQ\" href='#jce-judge/open/eIqw64lQUsQ' target='_self'><span>시리즈 처음</span></a>\n",
    "\n",
    "\n",
    "2. <a class=\"jcecodle-mk jcecodle-mk__problem-chip\" data-problem-id=\"PIik3l43D-Q\" href='#jce-judge/open/PIik3l43D-Q' target='_self'><span>시리즈 끝</span></a>\n",
    "\n",
    "\n",
    "3. <a class=\"jcecodle-mk jcecodle-mk__problem-chip\" data-problem-id=\"WfLej_479RA\" href='#jce-judge/open/WfLej_479RA' target='_self'><span>데이터의 처음</span></a>\n",
    "\n",
    "4. <a class=\"jcecodle-mk jcecodle-mk__problem-chip\" data-problem-id=\"letS_qsEPmM\" href='#jce-judge/open/letS_qsEPmM' target='_self'><span>데이터의 끝</span></a>\n",
    "\n",
    "\n",
    "\n",
    "5. <a class=\"jcecodle-mk jcecodle-mk__problem-chip\" data-problem-id=\"kkpMpZOlWug\" href='#jce-judge/open/kkpMpZOlWug' target='_self'><span>첫째와 둘째, 막내</span></a>\n",
    "\n",
    "\n",
    "6. <a class=\"jcecodle-mk jcecodle-mk__problem-chip\" data-problem-id=\"3urbitKPCt8\" href='#jce-judge/open/3urbitKPCt8' target='_self'><span>판다스 기초 - 데이터 출력하기</span></a>\n"
   ]
  }
 ],
 "metadata": {
  "kernelspec": {
   "display_name": "Python 3 (ipykernel)",
   "language": "python",
   "name": "python3"
  },
  "language_info": {
   "codemirror_mode": {
    "name": "ipython",
    "version": 3
   },
   "file_extension": ".py",
   "mimetype": "text/x-python",
   "name": "python",
   "nbconvert_exporter": "python",
   "pygments_lexer": "ipython3",
   "version": "3.8.10"
  }
 },
 "nbformat": 4,
 "nbformat_minor": 5
}
