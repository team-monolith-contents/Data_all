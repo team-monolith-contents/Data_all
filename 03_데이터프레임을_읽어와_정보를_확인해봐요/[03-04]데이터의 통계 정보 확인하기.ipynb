{
 "cells": [
  {
   "cell_type": "markdown",
   "id": "727ea7a9-bac0-4bb3-afbc-4981950e3fd1",
   "metadata": {
    "tags": []
   },
   "source": [
    "# **[3-3] 데이터의 통계 정보 확인하기**"
   ]
  },
  {
   "cell_type": "markdown",
   "id": "0a5448d2-a09e-484c-adf2-6c2e5d0232b8",
   "metadata": {
    "tags": []
   },
   "source": [
    "## **🎯 학습 목표**\n",
    "**데이터의 요약된 통계 정보를 출력해봅시다.**"
   ]
  },
  {
   "cell_type": "markdown",
   "id": "01cb348d-d551-4559-910d-6d97d46c0385",
   "metadata": {},
   "source": [
    "---"
   ]
  },
  {
   "cell_type": "markdown",
   "id": "778098e1-d728-463a-868b-430a0e30431d",
   "metadata": {
    "jp-MarkdownHeadingCollapsed": true,
    "tags": []
   },
   "source": [
    "Pandas에서는 데이터의 통계 정보도 손쉽게 확인할 수 있습니다.\n",
    "\n",
    "> **🔨 함수(FUNCTIONS):**\n",
    ">\n",
    "> **`Series.describe(include = 문자열)`, `DataFrame.describe(include = 문자열)`**  \n",
    "> 시리즈/데이터프레임의 통계 정보를 알려줍니다.\n",
    ">- count: 데이터 갯수 (비어 있는 값 제외)\n",
    ">- mean: 평균값\n",
    ">- std: 표준편차\n",
    ">- min: 최솟값\n",
    ">- 25%: 크기 순으로 정렬했을때 4분의 1번째에 해당하는 값\n",
    ">- 50%: 크기 순으로 정렬했을때 중앙에 해당하는 값 (중앙값)\n",
    ">- 75%: 크기 순으로 정렬했을때 4분의 3번째에 해당하는 값\n",
    ">- max: 최댓값\n",
    ">> **매개변수(parameter)**\n",
    ">>\n",
    ">> **`include`** : 통계에 포함된 데이터 타입을 지정합니다.\n",
    ">> 'O'를 설정하면 오브젝트(object) 타입 데이터에 대한 추가적인 통계량을 알려줍니다.\n",
    ">>- count: 데이터 갯수 (비어 있는 값 제외)\n",
    ">>- unique: 데이터의 고유값 종류 갯수\n",
    ">>- top: 가장 수가 많은 고유값\n",
    ">>- freq: top에 해당하는 고유값의 갯수\n",
    "> ---"
   ]
  },
  {
   "cell_type": "markdown",
   "id": "d2b836dc-f73e-4f85-8f79-917fb14259f8",
   "metadata": {},
   "source": [
    "## describe() 함수로 데이터의 통계 정보 확인하기\n",
    "\n",
    "`describe()` 함수를 사용하면 데이터의 통계 정보를 확인할 수 있습니다.\n",
    "`include` 매개변수로 `'O'`를 주면 문자 데이터의 통계 정보도 확인할 수 있습니다.\n",
    "\n",
    "<table>\n",
    "<tr>\n",
    "    <th><img src=\"https://tmn-bucket-materials-all.s3.ap-northeast-2.amazonaws.com/image/pandas/material_03_04.png\" width=\"750\"></th>\n",
    "</tr>\n",
    "<tr>\n",
    "    <th>describe() 함수로 통계 데이터 읽어오기</th>\n",
    "</tr>\n",
    "</table>"
   ]
  },
  {
   "cell_type": "code",
   "execution_count": null,
   "id": "76fd50f0-387a-4378-8a54-438b143972e6",
   "metadata": {
    "tags": []
   },
   "outputs": [],
   "source": [
    "# 예제_1_시리즈의_통계_정보_확인하기\n",
    "\n",
    "import pandas as pd\n",
    "\n",
    "school = pd.read_csv('https://tmn-bucket-materials-all.s3.ap-northeast-2.amazonaws.com/data/%EA%B3%A0%EB%93%B1%ED%95%99%EA%B5%90.csv')['학교명']\n",
    "\n",
    "print('#'*30, f\"{'school':^15s}\" , '#' * 30, '\\n') # 출력되는 결과들을 분리해서 보여주기 위한 코드입니다.\n",
    "print(school)\n",
    "print('\\n','#'*30, f\"{'school.describe()':^15s}\" , '#' * 30, '\\n') # 출력되는 결과들을 분리해서 보여주기 위한 코드입니다.\n",
    "print(school.describe())"
   ]
  },
  {
   "cell_type": "code",
   "execution_count": null,
   "id": "c2063a24-f55a-474e-b894-4b73f4ad1f6d",
   "metadata": {
    "tags": []
   },
   "outputs": [],
   "source": [
    "# 예제_2_데이터프레임의_통계_정보_확인하기\n",
    "\n",
    "import pandas as pd\n",
    "\n",
    "school = pd.read_csv('https://tmn-bucket-materials-all.s3.ap-northeast-2.amazonaws.com/data/%EA%B3%A0%EB%93%B1%ED%95%99%EA%B5%90.csv')\n",
    "\n",
    "print('#'*30, f\"{'school':^15s}\" , '#' * 30, '\\n') # 출력되는 결과들을 분리해서 보여주기 위한 코드입니다.\n",
    "print(school)\n",
    "print('\\n','#'*30, f\"{'school.describe()':^15s}\" , '#' * 30, '\\n') # 출력되는 결과들을 분리해서 보여주기 위한 코드입니다.\n",
    "print(school.describe())"
   ]
  },
  {
   "cell_type": "code",
   "execution_count": null,
   "id": "3252c95f-71cf-4978-9e99-c2b42ece1ae0",
   "metadata": {
    "tags": []
   },
   "outputs": [],
   "source": [
    "# 예제_3_데이터프레임의_문자데이터_통계_정보_확인하기\n",
    "\n",
    "import pandas as pd\n",
    "\n",
    "school = pd.read_csv('https://tmn-bucket-materials-all.s3.ap-northeast-2.amazonaws.com/data/%EA%B3%A0%EB%93%B1%ED%95%99%EA%B5%90.csv')\n",
    "\n",
    "print('#'*30, f\"{'school':^15s}\" , '#' * 30, '\\n') # 출력되는 결과들을 분리해서 보여주기 위한 코드입니다.\n",
    "print(school)\n",
    "print('\\n','#'*30, \"{:^15s}\".format('school.describe(include=\\'O\\')') , '#' * 30, '\\n') # 출력되는 결과들을 분리해서 보여주기 위한 코드입니다.\n",
    "print(school.describe(include='O'))"
   ]
  },
  {
   "cell_type": "markdown",
   "id": "c7ba11de-2d55-48e0-ba16-7bdc5c927b1b",
   "metadata": {},
   "source": [
    "> **❓ 생각해보기(QUESTION):**\n",
    ">\n",
    "> 통계 정보를 확인하면 어떤 정보를 추가적으로 알 수 있을까요?"
   ]
  },
  {
   "cell_type": "raw",
   "id": "d7085821-1bc0-4946-82dd-58f6244c351c",
   "metadata": {},
   "source": [
    "질문에 대한 대답을 여기에 적어봅시다."
   ]
  },
  {
   "cell_type": "markdown",
   "id": "e9274ebc-40eb-4802-8429-5a4b432526b2",
   "metadata": {},
   "source": [
    "### **💯 연습문제를 풀어봅시다**\n",
    "\n"
   ]
  },
  {
   "cell_type": "markdown",
   "id": "6e35f536-2ac2-403d-a94c-01637831bf28",
   "metadata": {
    "tags": []
   },
   "source": [
    "1. <a class=\"jcecodle-mk jcecodle-mk__problem-chip\" data-problem-id=\"T0QwboxCL-A\" href='#jce-judge/open/T0QwboxCL-A' target='_self'><span>판다스 기초 - 숫자 데이터 통계 확인하기</span></a>\n",
    "2. <a class=\"jcecodle-mk jcecodle-mk__problem-chip\" data-problem-id=\"0hhVXsFglyk\" href='#jce-judge/open/0hhVXsFglyk' target='_self'><span>판다스 기초 - 숫자 데이터 통게 확인하기 (2)</span></a>\n",
    "3. <a class=\"jcecodle-mk jcecodle-mk__problem-chip\" data-problem-id=\"c1xby3pplU0\" href='#jce-judge/open/c1xby3pplU0' target='_self'><span>판다스 기초 - 문자 데이터 통계 확인하기</span></a>\n",
    "4. <a class=\"jcecodle-mk jcecodle-mk__problem-chip\" data-problem-id=\"va6a0Xko5_E\" href='#jce-judge/open/va6a0Xko5_E' target='_self'><span>판다스 기초 - 문자 데이터 통계 확인하기 (2)</span></a>\n",
    "5. <a class=\"jcecodle-mk jcecodle-mk__problem-chip\" data-problem-id=\"TehwC_5I29I\" href='#jce-judge/open/TehwC_5I29I' target='_self'><span>판다스 기초 - 모든 데이터 통계 확인하기</span></a>\n",
    "\n"
   ]
  }
 ],
 "metadata": {
  "kernelspec": {
   "display_name": "Python 3 (ipykernel)",
   "language": "python",
   "name": "python3"
  },
  "language_info": {
   "codemirror_mode": {
    "name": "ipython",
    "version": 3
   },
   "file_extension": ".py",
   "mimetype": "text/x-python",
   "name": "python",
   "nbconvert_exporter": "python",
   "pygments_lexer": "ipython3",
   "version": "3.8.10"
  }
 },
 "nbformat": 4,
 "nbformat_minor": 5
}
