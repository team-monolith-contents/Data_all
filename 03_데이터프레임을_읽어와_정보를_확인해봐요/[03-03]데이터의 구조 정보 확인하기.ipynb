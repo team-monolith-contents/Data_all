{
 "cells": [
  {
   "cell_type": "markdown",
   "id": "727ea7a9-bac0-4bb3-afbc-4981950e3fd1",
   "metadata": {
    "tags": []
   },
   "source": [
    "# **[3-2] 데이터의 구조 정보 확인하기**"
   ]
  },
  {
   "cell_type": "markdown",
   "id": "0a5448d2-a09e-484c-adf2-6c2e5d0232b8",
   "metadata": {
    "tags": []
   },
   "source": [
    "## **🎯 학습 목표**\n",
    "**데이터의 요약된 구조 정보를 출력해봅시다.**"
   ]
  },
  {
   "cell_type": "markdown",
   "id": "01cb348d-d551-4559-910d-6d97d46c0385",
   "metadata": {},
   "source": [
    "---"
   ]
  },
  {
   "cell_type": "markdown",
   "id": "193dea66-99f4-4912-bc20-3a03fc6fef2b",
   "metadata": {
    "jp-MarkdownHeadingCollapsed": true,
    "tags": []
   },
   "source": [
    "데이터의 일부분을 출력하는 것으로는 전체적인 데이터를 파악하기에 무리가 있습니다.  \n",
    "데이터가 크다면 전체를 출력하여도 마찬가지입니다.  \n",
    "\n",
    "Pandas에는 데이터에 대한 전반적인 정보를 정리해주는 기능들이 있습니다.  \n",
    "\n",
    "\n",
    "\n",
    "\n",
    "> **🔨 함수(FUNCTIONS):**\n",
    ">\n",
    "> **`Series.info()`**  \n",
    "> 시리즈의 **총 행의 길이**, **시리즈의 이름**, **비어 있지 않은 데이터의 개수**, **데이터의 타입**, **데이터의 용량**을 알려줍니다.\n",
    "> ---\n",
    "> **`DataFrame.info()`**  \n",
    "> 데이터프레임의 **총 행의 길이**, **각 열의 이름**, **각 열에 비어 있지 않은 데이터의 개수**, **각 열의 데이터 타입**, **데이터의 용량**을 알려줍니다.\n",
    "> ---"
   ]
  },
  {
   "cell_type": "markdown",
   "id": "eb3ab7fc-209e-44ce-9fd8-9f46dca544b2",
   "metadata": {},
   "source": [
    "## info() 함수로 데이터의 정보 확인하기\n",
    "\n",
    "`info()` 함수를 사용하면 데이터의 전반적인 정보를 확인할 수 있습니다.\n",
    "\n",
    "<table>\n",
    "<tr>\n",
    "    <th><img src=\"https://tmn-bucket-materials-all.s3.ap-northeast-2.amazonaws.com/image/pandas/material_03_03.png\" width=\"750\"></th>\n",
    "</tr>\n",
    "<tr>\n",
    "    <th>info() 함수로 데이터의 정보 확인하기</th>\n",
    "</tr>\n",
    "</table>"
   ]
  },
  {
   "cell_type": "code",
   "execution_count": null,
   "id": "4e4b41d1-d0af-4584-b368-7cd4d72e3dca",
   "metadata": {
    "tags": []
   },
   "outputs": [],
   "source": [
    "# 예제_1_시리즈의_데이터_정보_확인하기\n",
    "\n",
    "import pandas as pd\n",
    "\n",
    "school = pd.read_csv('https://tmn-bucket-materials-all.s3.ap-northeast-2.amazonaws.com/data/%EA%B3%A0%EB%93%B1%ED%95%99%EA%B5%90.csv')['학교명']\n",
    "\n",
    "print('#'*30, f\"{'school':^15s}\" , '#' * 30, '\\n') # 출력되는 결과들을 분리해서 보여주기 위한 코드입니다.\n",
    "print(school)\n",
    "print('\\n','#'*30, f\"{'school.info()':^15s}\" , '#' * 30, '\\n') # 출력되는 결과들을 분리해서 보여주기 위한 코드입니다.\n",
    "print(school.info())"
   ]
  },
  {
   "cell_type": "code",
   "execution_count": null,
   "id": "cb44c7b2-8745-402a-83e9-65c687c620a7",
   "metadata": {
    "tags": []
   },
   "outputs": [],
   "source": [
    "# 예제_2_데이터프레임의_데이터_정보_확인하기\n",
    "\n",
    "import pandas as pd\n",
    "\n",
    "school = pd.read_csv('https://tmn-bucket-materials-all.s3.ap-northeast-2.amazonaws.com/data/%EA%B3%A0%EB%93%B1%ED%95%99%EA%B5%90.csv')\n",
    "\n",
    "print('#'*30, f\"{'school':^15s}\" , '#' * 30, '\\n') # 출력되는 결과들을 분리해서 보여주기 위한 코드입니다.\n",
    "print(school)\n",
    "print('\\n','#'*30, f\"{'school.info()':^15s}\" , '#' * 30, '\\n') # 출력되는 결과들을 분리해서 보여주기 위한 코드입니다.\n",
    "print(school.info())"
   ]
  },
  {
   "cell_type": "markdown",
   "id": "f6fff66d-c374-42e8-be00-3f614bcf8e1e",
   "metadata": {},
   "source": [
    "> **❓ 생각해보기(QUESTION):**\n",
    ">\n",
    "> `info()` 함수를 사용하면 데이터를 직접 확인했을 때보다 어떤 점이 좋은가요? "
   ]
  },
  {
   "cell_type": "raw",
   "id": "4064ecbf-e9cb-4fb4-b96c-25636981b5d6",
   "metadata": {},
   "source": [
    "질문에 대한 대답을 여기에 적어봅시다."
   ]
  },
  {
   "cell_type": "markdown",
   "id": "bd51f774-8de5-4cac-9589-255a151734ca",
   "metadata": {},
   "source": [
    "### **💯 연습문제를 풀어봅시다**\n",
    "\n"
   ]
  },
  {
   "cell_type": "markdown",
   "id": "4598c295-6e7d-40ac-9e2e-626c53640242",
   "metadata": {
    "tags": []
   },
   "source": [
    "1. <a class=\"jcecodle-mk jcecodle-mk__problem-chip\" data-problem-id=\"HA4xV3SU1_A\" href='#jce-judge/open/HA4xV3SU1_A' target='_self'><span>판다스 기초 - 데이터 정보 확인하기 (1)</span></a>\n",
    "2. <a class=\"jcecodle-mk jcecodle-mk__problem-chip\" data-problem-id=\"SeZBiTED_n4\" href='#jce-judge/open/SeZBiTED_n4' target='_self'><span>판다스 기초 - 데이터 정보 확인하기 (2)</span></a>\n",
    "3. <a class=\"jcecodle-mk jcecodle-mk__problem-chip\" data-problem-id=\"EQ93k91oXgU\" href='#jce-judge/open/EQ93k91oXgU' target='_self'><span>판다스 기초 - 데이터 정보 확인하기 (3)</span></a>\n"
   ]
  }
 ],
 "metadata": {
  "kernelspec": {
   "display_name": "Python 3 (ipykernel)",
   "language": "python",
   "name": "python3"
  },
  "language_info": {
   "codemirror_mode": {
    "name": "ipython",
    "version": 3
   },
   "file_extension": ".py",
   "mimetype": "text/x-python",
   "name": "python",
   "nbconvert_exporter": "python",
   "pygments_lexer": "ipython3",
   "version": "3.8.10"
  }
 },
 "nbformat": 4,
 "nbformat_minor": 5
}
