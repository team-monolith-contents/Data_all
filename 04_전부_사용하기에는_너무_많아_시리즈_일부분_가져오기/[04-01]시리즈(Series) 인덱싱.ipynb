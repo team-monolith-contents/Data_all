{
 "cells": [
  {
   "cell_type": "markdown",
   "id": "727ea7a9-bac0-4bb3-afbc-4981950e3fd1",
   "metadata": {
    "tags": []
   },
   "source": [
    "# **[4-1] 시리즈(Series) 인덱싱**"
   ]
  },
  {
   "cell_type": "markdown",
   "id": "0a5448d2-a09e-484c-adf2-6c2e5d0232b8",
   "metadata": {
    "tags": []
   },
   "source": [
    "## **🎯 학습 목표**\n",
    "**인덱싱을 사용하여 시리즈(Series)에 부분적으로 접근해봅시다.**"
   ]
  },
  {
   "cell_type": "markdown",
   "id": "01cb348d-d551-4559-910d-6d97d46c0385",
   "metadata": {},
   "source": [
    "---"
   ]
  },
  {
   "cell_type": "markdown",
   "id": "a2ba31af-b0f2-4b8f-9879-8b6836fd154b",
   "metadata": {
    "jp-MarkdownHeadingCollapsed": true,
    "tags": []
   },
   "source": [
    "데이터를 사용할 때에는 데이터의 전체를 사용할 때도 있지만 데이터의 특정 부분만을 가져와 사용하는 경우가 있습니다.  \n",
    "데이터를 인덱싱(indexing)하여 원하는 부분만 가져와 사용할 수 있습니다.\n",
    "\n",
    "> **✏️ 알아봅시다(NOTE):** 인덱싱(indexing)이 무엇인가요?  \n",
    ">\n",
    "> 인덱싱은 데이터의 특정 부분에 접근하는 방법입니다.  \n",
    "> 데이터에서 원하는 부분만을 가져와 사용할 수 있습니다.\n",
    "> "
   ]
  },
  {
   "cell_type": "markdown",
   "id": "d809eb9d-a9ea-4a4d-ad04-8e4e21bfa9fc",
   "metadata": {
    "tags": []
   },
   "source": [
    "## 위치 정보를 이용해 데이터 인덱싱하기\n",
    "\n",
    "시리즈는 리스트(list) 처럼 원하는 데이터의 위치 정보를 이용해 데이터를 인덱싱할 수 있습니다.\n",
    "\n",
    "> **⚠️ 주의(WARNING):**\n",
    ">\n",
    "> 시리즈의 위치는 리스트와 마찬가지로 0부터 시작됩니다.\n",
    "\n",
    "1. 하나의 데이터 인덱싱하기  \n",
    "`Series[n]`: 시리즈의 'n+1'번째 데이터를 가져옵니다.  \n",
    "\n",
    "<table>\n",
    "<tr>\n",
    "    <th><img src=\"https://tmn-bucket-materials-all.s3.ap-northeast-2.amazonaws.com/image/pandas/material_03_05.gif\" width=\"750\"></th>\n",
    "</tr>\n",
    "<tr>\n",
    "    <th>시리즈에서 하나의 데이터 인덱싱</th>\n",
    "</tr>\n",
    "</table>\n",
    "\n",
    "2. 연속된 여러개의 데이터 인덱싱하기  \n",
    "`Series[a:b]`: 시리즈의 'a+1'번째부터 'b'번째 데이터를 시리즈의 형태로 가져옵니다.  \n",
    "\n",
    "<table>\n",
    "<tr>\n",
    "    <th><img src=\"https://tmn-bucket-materials-all.s3.ap-northeast-2.amazonaws.com/image/pandas/material_03_06.gif\" width=\"750\"></th>\n",
    "</tr>\n",
    "<tr>\n",
    "    <th>시리즈에서 연속된 여러개의 데이터 인덱싱</th>\n",
    "</tr>\n",
    "</table>\n",
    "\n",
    "3. 연속되지 않은 여러개의 데이터 인덱싱하기  \n",
    "`Series[[0, 1]]`: 시리즈의 첫 번째, 두 번째 데이터를 시리즈의 형태로 가져옵니다.  \n",
    "`Series[[1, 0]]`: 시리즈의 두 번째, 첫 번째 데이터를 시리즈의 형태로 가져옵니다.  \n",
    "\n",
    "<table>\n",
    "<tr>\n",
    "    <th><img src=\"https://tmn-bucket-materials-all.s3.ap-northeast-2.amazonaws.com/image/pandas/material_03_07.gif\" width=\"750\"></th>\n",
    "</tr>\n",
    "<tr>\n",
    "    <th>시리즈에서 연속되지 않은 여러개의 데이터 인덱싱</th>\n",
    "</tr>\n",
    "</table>"
   ]
  },
  {
   "cell_type": "code",
   "execution_count": null,
   "id": "70d814ad-dbdd-40a5-9d90-d44ef2b9b816",
   "metadata": {
    "tags": []
   },
   "outputs": [],
   "source": [
    "# 예제_1_시리즈에서_하나의_데이터_인덱싱\n",
    "\n",
    "import pandas as pd\n",
    "\n",
    "df = pd.read_csv('https://tmn-bucket-materials-all.s3.ap-northeast-2.amazonaws.com/data/midterm_exam_result.csv')\n",
    "\n",
    "score = pd.Series(df['프로그래밍'])\n",
    "score.index = df['이름']\n",
    "\n",
    "print('#'*30, f\"{'score':^15s}\" , '#' * 30, '\\n') # 출력되는 결과들을 분리해서 보여주기 위한 코드입니다.\n",
    "print(score)\n",
    "print('\\n','#'*30, f\"{'score[5]':^15s}\" , '#' * 30, '\\n') # 출력되는 결과들을 분리해서 보여주기 위한 코드입니다.\n",
    "print(score[5])\n",
    "print('\\n','#'*30, f\"{'score[5]':^15s}\" , '#' * 30, '\\n') # 출력되는 결과들을 분리해서 보여주기 위한 코드입니다.\n",
    "print(score[13])"
   ]
  },
  {
   "cell_type": "code",
   "execution_count": null,
   "id": "62d58381-73ba-4ffe-8273-241aa15f5cd3",
   "metadata": {
    "tags": []
   },
   "outputs": [],
   "source": [
    "# 예제_2_시리즈에서_연속된_여러개의_데이터_인덱싱\n",
    "\n",
    "import pandas as pd\n",
    "\n",
    "df = pd.read_csv('https://tmn-bucket-materials-all.s3.ap-northeast-2.amazonaws.com/data/midterm_exam_result.csv')\n",
    "\n",
    "score = pd.Series(df['프로그래밍'])\n",
    "score.index = df['이름']\n",
    "\n",
    "print('#'*30, f\"{'score':^15s}\" , '#' * 30, '\\n') # 출력되는 결과들을 분리해서 보여주기 위한 코드입니다.\n",
    "print(score)\n",
    "print('\\n','#'*30, f\"{'score[5:10]':^15s}\" , '#' * 30, '\\n') # 출력되는 결과들을 분리해서 보여주기 위한 코드입니다.\n",
    "print(score[5:10])\n",
    "print('\\n','#'*30, f\"{'score[13:15]':^15s}\" , '#' * 30, '\\n') # 출력되는 결과들을 분리해서 보여주기 위한 코드입니다.\n",
    "print(score[13:15])"
   ]
  },
  {
   "cell_type": "code",
   "execution_count": null,
   "id": "eee37cb0-b2b9-4c75-afc3-640842635fb1",
   "metadata": {
    "tags": []
   },
   "outputs": [],
   "source": [
    "# 예제_3_시리즈에서_연속되지_않은_여러개의_데이터_인덱싱\n",
    "\n",
    "import pandas as pd\n",
    "\n",
    "df = pd.read_csv('https://tmn-bucket-materials-all.s3.ap-northeast-2.amazonaws.com/data/midterm_exam_result.csv')\n",
    "\n",
    "score = pd.Series(df['프로그래밍'])\n",
    "score.index = df['이름']\n",
    "\n",
    "print('#'*30, f\"{'score':^15s}\" , '#' * 30, '\\n') # 출력되는 결과들을 분리해서 보여주기 위한 코드입니다.\n",
    "print(score)\n",
    "print('\\n','#'*30, f\"{'score[[5,6,10,12]]':^15s}\" , '#' * 30, '\\n') # 출력되는 결과들을 분리해서 보여주기 위한 코드입니다.\n",
    "print(score[[5,6,10,12]])\n",
    "print('\\n','#'*30, f\"{'score[[1,3,5]]':^15s}\" , '#' * 30, '\\n') # 출력되는 결과들을 분리해서 보여주기 위한 코드입니다.\n",
    "print(score[[1,3,5]])"
   ]
  },
  {
   "cell_type": "markdown",
   "id": "44d44629-164c-4c5b-a7c1-c4ce4c1ac5e0",
   "metadata": {
    "tags": []
   },
   "source": [
    "## 인덱스 정보를 이용해 데이터 인덱싱하기\n",
    "\n",
    "시리즈는 딕셔너리(dictionary) 처럼 원하는 데이터의 인덱스를 이용해 데이터를 인덱싱할 수 있습니다.\n",
    "\n",
    "> **⛔️ 오류(ERROR):**\n",
    ">\n",
    "> 시리즈에 존재하지 않는 인덱스를 사용하면 오류가 발생합니다.\n",
    "\n",
    "1. 하나의 데이터 인덱싱하기  \n",
    "`Series['인덱스']`: 시리즈의 '인덱스'에 해당하는 데이터를 가져옵니다.  \n",
    "\n",
    "<table>\n",
    "<tr>\n",
    "    <th><img src=\"https://tmn-bucket-materials-all.s3.ap-northeast-2.amazonaws.com/image/pandas/material_04_01_04.gif\" width=\"750\"></th>\n",
    "</tr>\n",
    "<tr>\n",
    "    <th>시리즈에서 인덱스를 정보를 이용해 하나의 데이터 인덱싱</th>\n",
    "</tr>\n",
    "</table>\n",
    "\n",
    "2. 연속된 여러개의 데이터 인덱싱하기  \n",
    "`Series['인덱스1':'인덱스2']`: 시리즈의 '인덱스1'부터 '인덱스2'까지의 데이터를 시리즈의 형태로 가져옵니다.  \n",
    "\n",
    "<table>\n",
    "<tr>\n",
    "    <th><img src=\"https://tmn-bucket-materials-all.s3.ap-northeast-2.amazonaws.com/image/pandas/material_04_01_05.gif\" width=\"750\"></th>\n",
    "</tr>\n",
    "<tr>\n",
    "    <th>시리즈에서 인덱스를 정보를 이용해 연속된 여러개의 데이터 인덱싱</th>\n",
    "</tr>\n",
    "</table>\n",
    "\n",
    "3. 연속되지 않은 여러개의 데이터 인덱싱하기  \n",
    "`Series[['인덱스1', '인덱스2']]`: 시리즈의  '인덱스1', '인덱스2'에 해당하는 데이터를 시리즈의 형태로 가져옵니다.  \n",
    "`Series[['인덱스2', '인덱스1']]`: 시리즈의  '인덱스2', '인덱스1'에 해당하는 데이터를 시리즈의 형태로 가져옵니다.  \n",
    "\n",
    "<table>\n",
    "<tr>\n",
    "    <th><img src=\"https://tmn-bucket-materials-all.s3.ap-northeast-2.amazonaws.com/image/pandas/material_04_01_06.gif\" width=\"750\"></th>\n",
    "</tr>\n",
    "<tr>\n",
    "    <th>시리즈에서 인덱스를 정보를 이용해 연속되지 않은 여러개의 데이터 인덱싱</th>\n",
    "</tr>\n",
    "</table>\n",
    "\n",
    "> **⚠️ 주의(WARNING):**\n",
    ">\n",
    "> [a:b]의 방법으로 연속된 데이터를 인덱싱할 때에 위치 정보를 사용하는지, 인덱스 정보를 사용하는지에 따라 결과가 달라 주의해야 합니다.\n",
    ">  - 위치 정보 이용: [1:3] 4번째 행은 포함되지 않습니다.\n",
    ">  - 인덱스 정보 이용: ['인덱스1':'인덱스2'] '인덱스2' 행이 포함됩니다.\n"
   ]
  },
  {
   "cell_type": "code",
   "execution_count": null,
   "id": "5b557d0a-2240-4ce5-add7-d718b8246973",
   "metadata": {
    "tags": []
   },
   "outputs": [],
   "source": [
    "# 예제_4_시리즈에서_인덱스정보_이용하여_하나의_데이터_인덱싱\n",
    "\n",
    "import pandas as pd\n",
    "\n",
    "df = pd.read_csv('https://tmn-bucket-materials-all.s3.ap-northeast-2.amazonaws.com/data/midterm_exam_result.csv')\n",
    "\n",
    "score = pd.Series(df['프로그래밍'])\n",
    "score.index = df['이름']\n",
    "\n",
    "print('#'*30, f\"{'score':^15s}\" , '#' * 30, '\\n') # 출력되는 결과들을 분리해서 보여주기 위한 코드입니다.\n",
    "print(score)\n",
    "print('\\n','#'*30, \"{:^15s}\".format('score[\"이민서\"]') , '#' * 30, '\\n') # 출력되는 결과들을 분리해서 보여주기 위한 코드입니다.\n",
    "print(score[\"이민서\"])\n",
    "print('\\n','#'*30, \"{:^15s}\".format('score[\"박채원\"]') , '#' * 30, '\\n') # 출력되는 결과들을 분리해서 보여주기 위한 코드입니다.\n",
    "print(score[\"박채원\"])"
   ]
  },
  {
   "cell_type": "code",
   "execution_count": null,
   "id": "02cc6666-c8db-4cf4-82db-a9641220dd24",
   "metadata": {
    "tags": []
   },
   "outputs": [],
   "source": [
    "# 예제_5_시리즈에서_인덱스정보_이용하여_연속된_여러개의_데이터_인덱싱\n",
    "\n",
    "import pandas as pd\n",
    "\n",
    "df = pd.read_csv('https://tmn-bucket-materials-all.s3.ap-northeast-2.amazonaws.com/data/midterm_exam_result.csv')\n",
    "\n",
    "score = pd.Series(df['프로그래밍'])\n",
    "score.index = df['이름']\n",
    "\n",
    "print('#'*30, f\"{'score':^15s}\" , '#' * 30, '\\n') # 출력되는 결과들을 분리해서 보여주기 위한 코드입니다.\n",
    "print(score)\n",
    "print('\\n','#'*30, \"{:^15s}\".format('score[\"이민서\":\"박채원\"]') , '#' * 30, '\\n') # 출력되는 결과들을 분리해서 보여주기 위한 코드입니다.\n",
    "print(score[\"이민서\":\"박채원\"])\n",
    "print('\\n','#'*30, \"{:^15s}\".format('score[\"박채원\":\"정예준\"]') , '#' * 30, '\\n') # 출력되는 결과들을 분리해서 보여주기 위한 코드입니다.\n",
    "print(score[\"박채원\":\"정예준\"])"
   ]
  },
  {
   "cell_type": "code",
   "execution_count": null,
   "id": "2cd9df66-7d25-4a13-8683-ef082cedf635",
   "metadata": {
    "tags": []
   },
   "outputs": [],
   "source": [
    "# 예제_6_시리즈에서_인덱스정보_이용하여_연속되지_않은_여러개의_데이터_인덱싱\n",
    "\n",
    "import pandas as pd\n",
    "\n",
    "df = pd.read_csv('https://tmn-bucket-materials-all.s3.ap-northeast-2.amazonaws.com/data/midterm_exam_result.csv')\n",
    "\n",
    "score = pd.Series(df['프로그래밍'])\n",
    "score.index = df['이름']\n",
    "\n",
    "print('#'*30, f\"{'score':^15s}\" , '#' * 30, '\\n') # 출력되는 결과들을 분리해서 보여주기 위한 코드입니다.\n",
    "print(score)\n",
    "print('\\n','#'*30, \"{:^15s}\".format('score[[\"이민서\",\"채수아\",\"김서준\",\"박채원\"]]') , '#' * 30, '\\n') # 출력되는 결과들을 분리해서 보여주기 위한 코드입니다.\n",
    "print(score[[\"이민서\",\"채수아\",\"김서준\",\"박채원\"]])\n",
    "print('\\n','#'*30, \"{:^15s}\".format('(score[[\"박채원\",\"박도윤\",\"정예준\"]]') , '#' * 30, '\\n') # 출력되는 결과들을 분리해서 보여주기 위한 코드입니다.\n",
    "print(score[[\"박채원\",\"박도윤\",\"정예준\"]])"
   ]
  },
  {
   "cell_type": "markdown",
   "id": "804b8e17-3042-490b-852a-873a62d746b3",
   "metadata": {},
   "source": [
    "> **❓ 생각해보기(QUESTION):**\n",
    ">\n",
    "> 어떠한 경우에 인덱싱을 통해 특정 데이터에 접근해야 할까요?"
   ]
  },
  {
   "cell_type": "raw",
   "id": "31b1f407-64e2-44a0-b3c5-91945b6dce1b",
   "metadata": {},
   "source": [
    "질문에 대한 대답을 여기에 적어봅시다."
   ]
  },
  {
   "cell_type": "markdown",
   "id": "98d65e26-4a56-49d8-9628-536522033248",
   "metadata": {
    "tags": []
   },
   "source": [
    "### **💯 연습문제를 풀어봅시다**\n",
    "\n"
   ]
  },
  {
   "cell_type": "markdown",
   "id": "e029ae0a-c2de-4170-9fe7-70f048f5773d",
   "metadata": {
    "tags": []
   },
   "source": [
    "1. <a class=\"jcecodle-mk jcecodle-mk__problem-chip\" data-problem-id=\"85Z2jvqifdo\" href='#jce-judge/open/85Z2jvqifdo' target='_self'><span>판다스 기초 - 시리즈 인덱싱 순번 이용 (1)</span></a>\n",
    "\n",
    "2. <a class=\"jcecodle-mk jcecodle-mk__problem-chip\" data-problem-id=\"mEJX6nUojpk\" href='#jce-judge/open/mEJX6nUojpk' target='_self'><span>상품 시리즈 인덱싱</span></a>\n",
    "\n",
    "3. <a class=\"jcecodle-mk jcecodle-mk__problem-chip\" data-problem-id=\"cyt-JLuGCYI\" href='#jce-judge/open/cyt-JLuGCYI' target='_self'><span>성적 시리즈 인덱싱 (1)</span></a>\n",
    "\n",
    "4. <a class=\"jcecodle-mk jcecodle-mk__problem-chip\" data-problem-id=\"2pC2Zvg9LkY\" href='#jce-judge/open/2pC2Zvg9LkY' target='_self'><span>판다스 기초 - 시리즈 인덱싱 순번 이용 (2)</span></a>\n",
    "\n",
    "5. <a class=\"jcecodle-mk jcecodle-mk__problem-chip\" data-problem-id=\"E4yxB-12C0c\" href='#jce-judge/open/E4yxB-12C0c' target='_self'><span>연속 3줄 인덱싱</span></a>\n",
    "\n",
    "6. <a class=\"jcecodle-mk jcecodle-mk__problem-chip\" data-problem-id=\"IONclzSz0Wo\" href='#jce-judge/open/IONclzSz0Wo' target='_self'><span>장학급 수혜 대상자</span></a>\n",
    "\n",
    "7. <a class=\"jcecodle-mk jcecodle-mk__problem-chip\" data-problem-id=\"YKhP6f05A60\" href='#jce-judge/open/YKhP6f05A60' target='_self'><span>판다스 기초 - 시리즈 인덱싱 불연속한 다수행</span></a>\n",
    "\n",
    "8. <a class=\"jcecodle-mk jcecodle-mk__problem-chip\" data-problem-id=\"4e1mBJFGmCk\" href='#jce-judge/open/4e1mBJFGmCk' target='_self'><span>과일만 모으기(1)</span></a>\n",
    "\n",
    "9. <a class=\"jcecodle-mk jcecodle-mk__problem-chip\" data-problem-id=\"uOUUxOYUevk\" href='#jce-judge/open/uOUUxOYUevk' target='_self'><span>홀수행 인덱싱</span></a>\n",
    "\n",
    "10. <a class=\"jcecodle-mk jcecodle-mk__problem-chip\" data-problem-id=\"-fJrKazhUCc\" href='#jce-judge/open/-fJrKazhUCc' target='_self'><span>판다스 기초 - 시리즈 인덱싱 이름 이용(1)</span></a>\n",
    "\n",
    "11. <a class=\"jcecodle-mk jcecodle-mk__problem-chip\" data-problem-id=\"BW1n3ugNlfc\" href='#jce-judge/open/BW1n3ugNlfc' target='_self'><span>가족 시리즈 인덱싱</span></a>\n",
    "\n",
    "12. <a class=\"jcecodle-mk jcecodle-mk__problem-chip\" data-problem-id=\"O96L51_d4vg\" href='#jce-judge/open/O96L51_d4vg' target='_self'><span>결제 비용 (1)</span></a>\n",
    "\n",
    "13. <a class=\"jcecodle-mk jcecodle-mk__problem-chip\" data-problem-id=\"py3oeSeoqxk\" href='#jce-judge/open/py3oeSeoqxk' target='_self'><span>판다스 기초 - 시리즈 인덱싱 이름 이용 (2)</span></a>\n",
    "\n",
    "14. <a class=\"jcecodle-mk jcecodle-mk__problem-chip\" data-problem-id=\"-kmyKPqL8Qw\" href='#jce-judge/open/-kmyKPqL8Qw' target='_self'><span>성적 시리즈 인덱싱 (2)</span></a>\n",
    "\n",
    "15. <a class=\"jcecodle-mk jcecodle-mk__problem-chip\" data-problem-id=\"pN_CQGS4B8c\" href='#jce-judge/open/pN_CQGS4B8c' target='_self'><span>판다스 기초 - 시리즈 인덱싱 불연속한 다수행 (2)</span></a>\n",
    "\n",
    "16. <a class=\"jcecodle-mk jcecodle-mk__problem-chip\" data-problem-id=\"OWcA8MHupII\" href='#jce-judge/open/OWcA8MHupII' target='_self'><span>결제 비용 (2)</span></a>\n"
   ]
  }
 ],
 "metadata": {
  "kernelspec": {
   "display_name": "Python 3 (ipykernel)",
   "language": "python",
   "name": "python3"
  },
  "language_info": {
   "codemirror_mode": {
    "name": "ipython",
    "version": 3
   },
   "file_extension": ".py",
   "mimetype": "text/x-python",
   "name": "python",
   "nbconvert_exporter": "python",
   "pygments_lexer": "ipython3",
   "version": "3.8.10"
  }
 },
 "nbformat": 4,
 "nbformat_minor": 5
}
