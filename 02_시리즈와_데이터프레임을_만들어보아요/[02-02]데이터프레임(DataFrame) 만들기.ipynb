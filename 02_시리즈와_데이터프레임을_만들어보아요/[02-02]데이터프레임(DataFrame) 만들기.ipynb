{
 "cells": [
  {
   "cell_type": "markdown",
   "id": "727ea7a9-bac0-4bb3-afbc-4981950e3fd1",
   "metadata": {
    "tags": []
   },
   "source": [
    "# **[2-2] 데이터프레임(DataFrame) 만들기**"
   ]
  },
  {
   "cell_type": "markdown",
   "id": "0a5448d2-a09e-484c-adf2-6c2e5d0232b8",
   "metadata": {
    "tags": []
   },
   "source": [
    "## **🎯 학습 목표**\n",
    "**리스트(list), 딕셔너리(Dictionary)로부터 데이터프레임(DataFrame)을 만들어봅시다.**"
   ]
  },
  {
   "cell_type": "markdown",
   "id": "01cb348d-d551-4559-910d-6d97d46c0385",
   "metadata": {},
   "source": [
    "---"
   ]
  },
  {
   "cell_type": "markdown",
   "id": "589a40c4-3780-427b-a001-e205cef655f5",
   "metadata": {
    "jp-MarkdownHeadingCollapsed": true,
    "tags": []
   },
   "source": [
    "데이터프레임(DataFrame)는 2차원 리스트(2D list)와 중첩 딕셔너리(Nested Dictionary)를 이용해 만들 수 있습니다.\n",
    "\n",
    "> **🔨 함수(FUNCTIONS):**\n",
    ">\n",
    "> **`pd.DataFrame(data=리스트_또는_딕셔너리_또는_시리즈, columns=리스트, index=리스트)`**  \n",
    "> 데이터프레임(DataFrame)을 만듭니다.  \n",
    ">> **매개변수(parameter)**\n",
    ">>\n",
    ">> **`data`** : 데이터프레임에 채워지는 데이터입니다.  \n",
    ">> 리스트, 딕셔너리, 시리즈, 2차원 리스트, 중첩 딕셔너리 등이 사용될 수 있습니다.  \n",
    ">> **`columns`** : 열들의 이름이 담긴 리스트입니다.  \n",
    ">> 지정하지 않으면 데이터로 부터 자동으로 만들어집니다.(딕셔너리, 이름이 있는 시리즈)  \n",
    ">> 데이터로부터 만들 수 없으면 자동으로 0부터 시작하는 열이름을 만듭니다.  \n",
    ">> **`index`** : 데이터의 행방향 인덱스 지정하는 리스트입니다.  \n",
    ">> 지정하지 않으면 데이터로 부터 자동으로 만들어집니다.(딕셔너리, 이름이 있는 시리즈)  \n",
    ">> 데이터로부터 만들 수 없으면 자동으로 0부터 시작하는 인덱스를 만듭니다.  \n",
    "> ---\n",
    "\n"
   ]
  },
  {
   "cell_type": "markdown",
   "id": "7a85964e-df2b-4d40-9404-1e3dbeebd9ed",
   "metadata": {},
   "source": [
    "## 리스트로 데이터프레임을 만들어봅시다.\n",
    "\n",
    "1차원 리스트로 데이터프레임을 만들면 하나의 열을 가진 데이터프레임이 만들어집니다.  \n",
    "\n",
    "<table>\n",
    "<tr>\n",
    "    <th><img src=\"https://tmn-bucket-materials-all.s3.ap-northeast-2.amazonaws.com/image/pandas/material_02_05.gif\" width=\"750\"></th>\n",
    "</tr>\n",
    "<tr>\n",
    "    <th>1차원 리스트로 데이터프레임 만들기</th>\n",
    "</tr>\n",
    "</table>\n",
    "\n",
    "2차원 리스트를 사용하면 여러개의 열을 가진 데이터프레임을 만들 수 있습니다.  \n",
    "내부의 리스트가 하나의 행이 됩니다.  \n",
    "\n",
    "<table>\n",
    "<tr>\n",
    "    <th><img src=\"https://tmn-bucket-materials-all.s3.ap-northeast-2.amazonaws.com/image/pandas/material_02_06.gif\" width=\"750\"></th>\n",
    "</tr>\n",
    "<tr>\n",
    "    <th>2차원 리스트로 데이터프레임 만들기</th>\n",
    "</tr>\n",
    "</table>\n",
    "\n",
    "리스트는 딕셔너리와는 다르게 키 값을 가지고 있지 않기 때문에 `columns`나 `index` 매개변수를 설정해주지 않으면 0부터 시작하는 인덱스와 열이름을 자동으로 만들게됩니다.  \n",
    "\n",
    "<table>\n",
    "<tr>\n",
    "    <th><img src=\"https://tmn-bucket-materials-all.s3.ap-northeast-2.amazonaws.com/image/pandas/material_02_07.gif\" width=\"750\"></th>\n",
    "</tr>\n",
    "<tr>\n",
    "    <th>2차원 리스트로 인덱스, 열 설정하여 데이터프레임 만들기</th>\n",
    "</tr>\n",
    "</table>\n",
    "\n",
    "> **⛔️ 오류(ERROR):**\n",
    ">\n",
    "> 2중 리스트로 데이터프레임을 만들 때 인덱스의 길이, 열이름 리스트의 길이와 데이터의 길이가 맞지 않으면 오류를 발생시킵니다.\n"
   ]
  },
  {
   "cell_type": "code",
   "execution_count": null,
   "id": "f537eb61-c380-43db-9fa9-5a6ee2316064",
   "metadata": {
    "tags": []
   },
   "outputs": [],
   "source": [
    "# 예제_1_리스트로부터_데이터프레임_만들기\n",
    "\n",
    "import pandas as pd\n",
    "\n",
    "A = ['사과', '오렌지', '포도', '딸기', '수박']\n",
    "\n",
    "print('#'*30, f\"{'A':^15s}\" , '#' * 30, '\\n') # 출력되는 결과들을 분리해서 보여주기 위한 코드입니다.\n",
    "print(A)\n",
    "print('\\n','#'*30, f\"{'pd.DataFrame(A)':^15s}\" , '#' * 30, '\\n') # 출력되는 결과들을 분리해서 보여주기 위한 코드입니다.\n",
    "print(pd.DataFrame(A))"
   ]
  },
  {
   "cell_type": "code",
   "execution_count": null,
   "id": "bd7bf571-32cc-431d-8331-614108b4d0c0",
   "metadata": {},
   "outputs": [],
   "source": [
    "# 예제_2_2차원_리스트로부터_데이터프레임_만들기\n",
    "\n",
    "import pandas as pd\n",
    "\n",
    "A = [['사과',1000], ['오렌지',2300], ['포도',5300], ['딸기',12000], ['수박',20000]]\n",
    "\n",
    "print('#'*30, f\"{'A':^15s}\" , '#' * 30, '\\n') # 출력되는 결과들을 분리해서 보여주기 위한 코드입니다.\n",
    "print(A)\n",
    "print('\\n','#'*30, f\"{'pd.DataFrame(A)':^15s}\" , '#' * 30, '\\n') # 출력되는 결과들을 분리해서 보여주기 위한 코드입니다.\n",
    "print(pd.DataFrame(A))"
   ]
  },
  {
   "cell_type": "code",
   "execution_count": null,
   "id": "72ee5a8a-886f-458f-9275-a8aa530d8df7",
   "metadata": {},
   "outputs": [],
   "source": [
    "# 예제_3_2차원_리스트에_인덱스_열_설정해_데이터프레임_만들기\n",
    "\n",
    "import pandas as pd\n",
    "\n",
    "A = [['사과',1000], ['오렌지',2300], ['포도',5300], ['딸기',12000], ['수박',20000]]\n",
    "index = ['A', 'B', 'C', 'D', 'E']\n",
    "columns = ['과일','가격']\n",
    "\n",
    "print('#'*30, f\"{'A':^15s}\" , '#' * 30, '\\n') # 출력되는 결과들을 분리해서 보여주기 위한 코드입니다.\n",
    "print(A)\n",
    "print('#'*30, f\"{'index':^15s}\" , '#' * 30, '\\n') # 출력되는 결과들을 분리해서 보여주기 위한 코드입니다.\n",
    "print(index)\n",
    "print('#'*30, f\"{'columns':^15s}\" , '#' * 30, '\\n') # 출력되는 결과들을 분리해서 보여주기 위한 코드입니다.\n",
    "print(columns)\n",
    "print('\\n','#'*30, f\"{'pd.DataFrame(A)':^15s}\" , '#' * 30, '\\n') # 출력되는 결과들을 분리해서 보여주기 위한 코드입니다.\n",
    "print(pd.DataFrame(A, index=index, columns=columns))"
   ]
  },
  {
   "cell_type": "code",
   "execution_count": null,
   "id": "06e35873-6dc5-48b4-af1d-42e8616c94ce",
   "metadata": {},
   "outputs": [],
   "source": [
    "# 예제_4_2차원_리스트에_인덱스_열_설정해_데이터프레임_만들떄에_오류발생\n",
    "\n",
    "import pandas as pd\n",
    "\n",
    "A = [['사과',1000], ['오렌지',2300], ['포도',5300], ['딸기',12000], ['수박',20000]]\n",
    "index = ['A', 'B', 'C', 'D', 'E']\n",
    "columns = ['과일']\n",
    "\n",
    "print('#'*30, f\"{'A':^15s}\" , '#' * 30, '\\n') # 출력되는 결과들을 분리해서 보여주기 위한 코드입니다.\n",
    "print(A)\n",
    "print('#'*30, f\"{'index':^15s}\" , '#' * 30, '\\n') # 출력되는 결과들을 분리해서 보여주기 위한 코드입니다.\n",
    "print(index)\n",
    "print('#'*30, f\"{'columns':^15s}\" , '#' * 30, '\\n') # 출력되는 결과들을 분리해서 보여주기 위한 코드입니다.\n",
    "print(columns)\n",
    "print('\\n','#'*30, f\"{'pd.DataFrame(A)':^15s}\" , '#' * 30, '\\n') # 출력되는 결과들을 분리해서 보여주기 위한 코드입니다.\n",
    "print(pd.DataFrame(A, index=index, columns=columns))"
   ]
  },
  {
   "cell_type": "markdown",
   "id": "c643aaea-e00e-44a6-9f39-bfc68fd00165",
   "metadata": {
    "tags": []
   },
   "source": [
    "## 딕셔너리로 데이터프레임을 만들어봅시다.\n",
    "\n",
    "딕셔너리로 데이터프레임을 만들면 하나의 행을 가진 데이터프레임이 만들어집니다.  \n",
    "이때에는 반드시 인덱스를 설정해주어야 합니다.\n",
    "\n",
    "<table>\n",
    "<tr>\n",
    "    <th><img src=\"https://tmn-bucket-materials-all.s3.ap-northeast-2.amazonaws.com/image/pandas/material_02_08.gif\" width=\"750\"></th>\n",
    "</tr>\n",
    "<tr>\n",
    "    <th>딕셔너리로 데이터프레임 만들기</th>\n",
    "</tr>\n",
    "</table>\n",
    "\n",
    "중첩 딕셔너리를 사용하면 여러개의 열을 가진 데이터프레임을 만들 수 있습니다.  \n",
    "내부의 딕셔너리가 하나의 행이 됩니다.  \n",
    "\n",
    "<table>\n",
    "<tr>\n",
    "    <th><img src=\"https://tmn-bucket-materials-all.s3.ap-northeast-2.amazonaws.com/image/pandas/material_02_09.gif\" width=\"750\"></th>\n",
    "</tr>\n",
    "<tr>\n",
    "    <th>중첩 딕셔너리로 데이터프레임 만들기</th>\n",
    "</tr>\n",
    "</table>\n",
    "\n",
    "딕셔너리와는 키 값을 가지고 있기 때문에 `columns`나 `index` 매개변수를 설정해주지 않아도 자동으로 인덱스와 열이름이 자동으로 설정됩니다.  \n",
    "\n",
    "> **⚠️ 주의(WARNING):**\n",
    ">\n",
    "> 중첩 딕셔너리로 데이터프레임을 만들 때 인덱스나 열이름을 지정하면 매개변수로 전달한 인덱스와 열이름을 기준으로 데이터프레임이 만들어집니다.  \n",
    "> 따라서 딕셔너리에 키(Key)가 존재하지 않는 인덱스, 열에는 데이터가 지정되지 않습니다.\n",
    ">\n",
    "> <table>\n",
    "> <tr>\n",
    ">     <th><img src=\"https://tmn-bucket-materials-all.s3.ap-northeast-2.amazonaws.com/image/pandas/material_02_10.gif\" width=\"750\"></th>\n",
    "> </tr>\n",
    "> <tr>\n",
    ">     <th>중첩 딕셔너리로 인덱스, 열 설정하여 데이터프레임 만들기</th>\n",
    "> </tr>\n",
    "> </table>\n",
    "\n",
    "> **⚠️ 주의(WARNING):**\n",
    ">\n",
    "> 중첩 딕셔너리로 데이터프레임을 만들 때 내부 딕셔너리의 모든 키가 인덱스가 됩니다.  \n",
    "> 따라서 내부 딕셔너리들의 키 값이 동일하지 않으면 특정 열에 존재하지 않는 키에는 값이 들어가지 않습니다.\n",
    ">\n",
    "> <table>\n",
    "> <tr>\n",
    ">     <th><img src=\"https://tmn-bucket-materials-all.s3.ap-northeast-2.amazonaws.com/image/pandas/material_02_11.gif\" width=\"750\"></th>\n",
    "> </tr>\n",
    "> <tr>\n",
    ">     <th>키가 다른중첩 딕셔너리로 데이터프레임 만들기</th>\n",
    "> </tr>\n",
    "> </table>\n",
    "\n"
   ]
  },
  {
   "cell_type": "code",
   "execution_count": null,
   "id": "904b3b98-733c-40e5-bb72-e39dd379cced",
   "metadata": {
    "tags": []
   },
   "outputs": [],
   "source": [
    "# 예제_5_딕셔너리로부터_시리즈_만들기\n",
    "\n",
    "import pandas as pd\n",
    "\n",
    "A = {'A':'사과', 'B':'오렌지', 'C':'포도', 'D':'딸기', 'E':'수박'}\n",
    "index = ['과일']\n",
    "\n",
    "print('#'*30, f\"{'A':^15s}\" , '#' * 30, '\\n') # 출력되는 결과들을 분리해서 보여주기 위한 코드입니다.\n",
    "print(A)\n",
    "print('\\n','#'*30, f\"{'pd.DataFrame(A, index = index)':^15s}\" , '#' * 30, '\\n') # 출력되는 결과들을 분리해서 보여주기 위한 코드입니다.\n",
    "print(pd.DataFrame(A, index = index))"
   ]
  },
  {
   "cell_type": "code",
   "execution_count": null,
   "id": "d55f13e8-a83e-4a63-93ff-d20ceee477e7",
   "metadata": {
    "tags": []
   },
   "outputs": [],
   "source": [
    "# 예제_6_중첩_딕셔너리로부터_데이터프레임_만들기\n",
    "\n",
    "import pandas as pd\n",
    "\n",
    "A = {'과일' : {'A':'사과', 'B':'오렌지', 'C':'포도', 'D':'딸기', 'E':'수박'},\n",
    "     '가격' : {'A':1000, 'B':2300, 'C':5300, 'D':12000, 'E':20000}}\n",
    "\n",
    "print('#'*30, f\"{'A':^15s}\" , '#' * 30, '\\n') # 출력되는 결과들을 분리해서 보여주기 위한 코드입니다.\n",
    "print(A)\n",
    "print('\\n','#'*30, f\"{'pd.DataFrame(A)':^15s}\" , '#' * 30, '\\n') # 출력되는 결과들을 분리해서 보여주기 위한 코드입니다.\n",
    "print(pd.DataFrame(A))"
   ]
  },
  {
   "cell_type": "code",
   "execution_count": null,
   "id": "21ab657b-ae46-4a68-9d0c-f76d464c35bf",
   "metadata": {},
   "outputs": [],
   "source": [
    "# 예제_7_중첩_딕셔너리로부터_인덱스와_열_설정하여_데이터프레임_만들기\n",
    "\n",
    "import pandas as pd\n",
    "\n",
    "A = {'과일' : {'A':'사과', 'B':'오렌지', 'C':'포도', 'D':'딸기', 'E':'수박'},\n",
    "     '가격' : {'A':1000, 'B':2300, 'C':5300, 'D':12000, 'E':20000}}\n",
    "\n",
    "index = ['A','C','E','G']\n",
    "\n",
    "columns = ['과일', '판매량']\n",
    "\n",
    "print('#'*30, f\"{'A':^15s}\" , '#' * 30, '\\n') # 출력되는 결과들을 분리해서 보여주기 위한 코드입니다.\n",
    "print(A)\n",
    "print('#'*30, f\"{'index':^15s}\" , '#' * 30, '\\n') # 출력되는 결과들을 분리해서 보여주기 위한 코드입니다.\n",
    "print(index)\n",
    "print('#'*30, f\"{'columns':^15s}\" , '#' * 30, '\\n') # 출력되는 결과들을 분리해서 보여주기 위한 코드입니다.\n",
    "print(columns)\n",
    "print('\\n','#'*30, f\"{'pd.DataFrame(A, index = index, columns = columns)':^15s}\" , '#' * 30, '\\n') # 출력되는 결과들을 분리해서 보여주기 위한 코드입니다.\n",
    "print(pd.DataFrame(A, index = index, columns = columns))"
   ]
  },
  {
   "cell_type": "code",
   "execution_count": null,
   "id": "0eb87fc6-d87c-49b7-b55f-53d8650788c7",
   "metadata": {
    "tags": []
   },
   "outputs": [],
   "source": [
    "# 예제_8_키가_서로_다른_내부_딕셔너리들로_데이터프레임_만들기\n",
    "\n",
    "import pandas as pd\n",
    "\n",
    "A = {'과일' : {'A':'사과', 'B':'오렌지', 'C':'포도', 'D':'딸기', 'E':'수박'},\n",
    "     '가격' : {'A':1000, 'B':2300, 'D':5300, 'E':12000, 'F':20000}}\n",
    "\n",
    "print('#'*30, f\"{'A':^15s}\" , '#' * 30, '\\n') # 출력되는 결과들을 분리해서 보여주기 위한 코드입니다.\n",
    "print(A)\n",
    "print('\\n','#'*30, f\"{'pd.DataFrame(A)':^15s}\" , '#' * 30, '\\n') # 출력되는 결과들을 분리해서 보여주기 위한 코드입니다.\n",
    "print(pd.DataFrame(A))"
   ]
  },
  {
   "cell_type": "markdown",
   "id": "679977a4-35e2-4c29-b6dd-58e01deefc38",
   "metadata": {},
   "source": [
    "> **❓ 생각해보기(QUESTION):**\n",
    ">\n",
    "> 중첩딕셔너리, 이차원 리스트 를 사용하지 않고 여러 열이 존재하는 데이터프레임을 만들 수 있는 방법에는 어떤 것들이 있을까요??"
   ]
  },
  {
   "cell_type": "raw",
   "id": "69db7222-41bb-4761-b521-f615aeb7ee8d",
   "metadata": {},
   "source": [
    "질문에 대한 대답을 여기에 적어봅시다."
   ]
  },
  {
   "cell_type": "markdown",
   "id": "c748332e-fe40-4ee6-940d-502aefc6cf5d",
   "metadata": {},
   "source": [
    "### **💯 연습문제를 풀어봅시다**\n",
    "\n",
    "1. <a class=\"jcecodle-mk jcecodle-mk__problem-chip\" data-problem-id=\"Xh1DevGAlLw\" href='#jce-judge/open/Xh1DevGAlLw' target='_self'><span>판다스 기초 - 데이터프레임 만들기 (1)</span></a>\n",
    "2. <a class=\"jcecodle-mk jcecodle-mk__problem-chip\" data-problem-id=\"ADYF5AHX8GM\" href='#jce-judge/open/ADYF5AHX8GM' target='_self'><span>판다스 기초 - 데이터프레임 만들기 (2)</span></a>\n",
    "3. <a class=\"jcecodle-mk jcecodle-mk__problem-chip\" data-problem-id=\"Izw6Imoo8sw\" href='#jce-judge/open/Izw6Imoo8sw' target='_self'><span>판다스 기초 - 데이터 프레임 만들기 (3)</span></a>\n",
    "4. <a class=\"jcecodle-mk jcecodle-mk__problem-chip\" data-problem-id=\"aq6ucbLA_y4\" href='#jce-judge/open/aq6ucbLA_y4' target='_self'><span>판다스 기초 - 데이터프레임 만들기 (4) </span></a>\n",
    "\n",
    "5. <a class=\"jcecodle-mk jcecodle-mk__problem-chip\" data-problem-id=\"vpBef1UIrLw\" href='#jce-judge/open/vpBef1UIrLw' target='_self'><span>판다스 기초 - column 설정</span></a>\n",
    "\n",
    "\n",
    "6. <a class=\"jcecodle-mk jcecodle-mk__problem-chip\" data-problem-id=\"6Xpf_-O94p8\" href='#jce-judge/open/6Xpf_-O94p8' target='_self'><span>학교급 정리</span></a>\n",
    "\n",
    "7. <a class=\"jcecodle-mk jcecodle-mk__problem-chip\" data-problem-id=\"dvSyyHJ5xVg\" href='#jce-judge/open/dvSyyHJ5xVg' target='_self'><span>1차원 리스트와 데이터 프레임</span></a>\n",
    "\n",
    "8. <a class=\"jcecodle-mk jcecodle-mk__problem-chip\" data-problem-id=\"dOs6vElAXPI\" href='#jce-judge/open/dOs6vElAXPI' target='_self'><span>2차원 리스트와 데이터 프레임</span></a>\n",
    "\n",
    "9. <a class=\"jcecodle-mk jcecodle-mk__problem-chip\" data-problem-id=\"5QU23_sl_qE\" href='#jce-judge/open/5QU23_sl_qE' target='_self'><span>중첩 딕셔너리와 데이터 프레임</span></a>\n"
   ]
  }
 ],
 "metadata": {
  "kernelspec": {
   "display_name": "Python 3 (ipykernel)",
   "language": "python",
   "name": "python3"
  },
  "language_info": {
   "codemirror_mode": {
    "name": "ipython",
    "version": 3
   },
   "file_extension": ".py",
   "mimetype": "text/x-python",
   "name": "python",
   "nbconvert_exporter": "python",
   "pygments_lexer": "ipython3",
   "version": "3.8.10"
  }
 },
 "nbformat": 4,
 "nbformat_minor": 5
}
