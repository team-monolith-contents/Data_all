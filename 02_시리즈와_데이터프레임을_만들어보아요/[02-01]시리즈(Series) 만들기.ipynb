{
 "cells": [
  {
   "cell_type": "markdown",
   "id": "727ea7a9-bac0-4bb3-afbc-4981950e3fd1",
   "metadata": {
    "tags": []
   },
   "source": [
    "# **[2-1] 시리즈(Series) 만들기**"
   ]
  },
  {
   "cell_type": "markdown",
   "id": "0a5448d2-a09e-484c-adf2-6c2e5d0232b8",
   "metadata": {
    "tags": []
   },
   "source": [
    "## **🎯 학습 목표**\n",
    "**리스트(list), 딕셔너리(Dictionary)로부터 시리즈(Series)를 만들어봅시다.**"
   ]
  },
  {
   "cell_type": "markdown",
   "id": "01cb348d-d551-4559-910d-6d97d46c0385",
   "metadata": {},
   "source": [
    "---"
   ]
  },
  {
   "cell_type": "markdown",
   "id": "26e5885b-74fb-4a87-b1e9-00cb1ba4a91f",
   "metadata": {
    "jp-MarkdownHeadingCollapsed": true,
    "tags": []
   },
   "source": [
    "데이터프레임(DataFrame)는 2차원 리스트(2D list)와 중첩 딕셔너리(Nested Dictionary)를 이용해 만들 수 있습니다.\n",
    "\n",
    "> **🔨 함수(FUNCTIONS):**\n",
    ">\n",
    "> **`pd.Series(data=리스트_또는_딕셔너리, index=리스트, name=문자열)`**  \n",
    "> 시리즈(Series)를 만듭니다.  \n",
    ">> **매개변수(parameter)**\n",
    ">>\n",
    ">> **`data`** : 시리즈에 채워지는 데이터입니다.  \n",
    ">> 리스트, 딕셔너리 등이 사용될 수 있습니다.  \n",
    ">> **`index`** : 데이터의 인덱스를 지정하는 리스트입니다.  \n",
    ">> 지정하지 않으면 데이터로 부터 자동으로 만들어집니다.(딕셔너리)  \n",
    ">> 데이터로부터 만들 수 없으면 자동으로 0부터 시작하는 인덱스를 만듭니다.  \n",
    ">> **`name`** : 시리즈의 이름을 지정합니다.  \n",
    ">> 지정하지 않으면 이름이 없는 시리즈가 만들어집니다.  \n",
    ">> 데이터로부터 만들 수 없으면 자동으로 0부터 시작하는 인덱스를 만듭니다.  \n",
    "> ---\n",
    "\n"
   ]
  },
  {
   "cell_type": "markdown",
   "id": "f7835a83-d65e-4cad-b5b1-6faf372ffc76",
   "metadata": {},
   "source": [
    "## 리스트로 시리즈를 만들어봅시다.\n",
    "\n",
    "1차원 리스트로 시리즈를 만들 수 있습니다.  \n",
    "\n",
    "<table>\n",
    "<tr>\n",
    "    <th><img src=\"https://tmn-bucket-materials-all.s3.ap-northeast-2.amazonaws.com/image/pandas/material_02_01.gif\" width=\"750\"></th>\n",
    "</tr>\n",
    "<tr>\n",
    "    <th>리스트로 시리즈 만들기</th>\n",
    "</tr>\n",
    "</table>\n",
    "\n",
    "\n",
    "리스트는 딕셔너리와는 다르게 키 값을 가지고 있지 않기 때문에 `index` 매개변수를 설정해주지 않으면 0부터 시작하는 인덱스와 열이름을 자동으로 만들게됩니다.  \n",
    "\n",
    "<table>\n",
    "<tr>\n",
    "    <th><img src=\"https://tmn-bucket-materials-all.s3.ap-northeast-2.amazonaws.com/image/pandas/material_02_02.gif\" width=\"750\"></th>\n",
    "</tr>\n",
    "<tr>\n",
    "    <th>리스트로 인덱스 설정하여 시리즈 만들기</th>\n",
    "</tr>\n",
    "</table>\n",
    "\n",
    "> **⛔️ 오류(ERROR):**\n",
    ">\n",
    "> 리스트로 시리즈를 만들 때 인덱스의 길이와 데이터의 길이가 맞지 않으면 오류를 발생시킵니다.\n",
    "\n",
    "시리즈를 만들때에 `name` 매개변수를 주면 이름이 있는 시리즈를 만들 수 있습니다.\n"
   ]
  },
  {
   "cell_type": "code",
   "execution_count": null,
   "id": "5f8f50fc-34c5-4165-bfb8-914c73a5b311",
   "metadata": {},
   "outputs": [],
   "source": [
    "# 예제_1_리스트로부터_시리즈_만들기\n",
    "\n",
    "import pandas as pd\n",
    "\n",
    "A = ['사과', '오렌지', '포도', '딸기', '수박']\n",
    "\n",
    "print('#'*30, f\"{'A':^15s}\" , '#' * 30, '\\n') # 출력되는 결과들을 분리해서 보여주기 위한 코드입니다.\n",
    "print(A)\n",
    "print('\\n','#'*30, f\"{'pd.Series(A)':^15s}\" , '#' * 30, '\\n') # 출력되는 결과들을 분리해서 보여주기 위한 코드입니다.\n",
    "print(pd.Series(A))"
   ]
  },
  {
   "cell_type": "code",
   "execution_count": null,
   "id": "6c2f5eee-8bf0-42d8-a561-2faf64c8a955",
   "metadata": {},
   "outputs": [],
   "source": [
    "# 예제_2_리스트에_인덱스_정해서_시리즈_만들기\n",
    "\n",
    "import pandas as pd\n",
    "\n",
    "A = ['사과', '오렌지', '포도', '딸기', '수박']\n",
    "index = ['A', 'B', 'C', 'D', 'E']\n",
    "\n",
    "print('#'*30, f\"{'A':^15s}\" , '#' * 30, '\\n') # 출력되는 결과들을 분리해서 보여주기 위한 코드입니다.\n",
    "print(A)\n",
    "print('#'*30, f\"{'index':^15s}\" , '#' * 30, '\\n') # 출력되는 결과들을 분리해서 보여주기 위한 코드입니다.\n",
    "print(index)\n",
    "print('\\n','#'*30, f\"{'pd.Series(A, index = index)':^15s}\" , '#' * 30, '\\n') # 출력되는 결과들을 분리해서 보여주기 위한 코드입니다.\n",
    "print(pd.Series(A, index = index))"
   ]
  },
  {
   "cell_type": "code",
   "execution_count": null,
   "id": "8d8e71ad-42e8-40a5-8b0e-c64e6c05b33e",
   "metadata": {},
   "outputs": [],
   "source": [
    "# 예제_3_리스트와_인덱스의_길이가_달라_발생하는_오류\n",
    "\n",
    "import pandas as pd\n",
    "\n",
    "A = ['사과', '오렌지', '포도', '딸기', '수박']\n",
    "index = ['A', 'B', 'C', 'D']\n",
    "\n",
    "print('#'*30, f\"{'A':^15s}\" , '#' * 30, '\\n') # 출력되는 결과들을 분리해서 보여주기 위한 코드입니다.\n",
    "print(A)\n",
    "print('#'*30, f\"{'index':^15s}\" , '#' * 30, '\\n') # 출력되는 결과들을 분리해서 보여주기 위한 코드입니다.\n",
    "print(index)\n",
    "print('\\n','#'*30, f\"{'pd.Series(A, index = index)':^15s}\" , '#' * 30, '\\n') # 출력되는 결과들을 분리해서 보여주기 위한 코드입니다.\n",
    "print(pd.Series(A, index = index))"
   ]
  },
  {
   "cell_type": "code",
   "execution_count": null,
   "id": "c476f329-0663-4ca0-9cdb-ce11a684180b",
   "metadata": {},
   "outputs": [],
   "source": [
    "# 예제_4_시리즈에_이름붙여서_만들기\n",
    "\n",
    "import pandas as pd\n",
    "\n",
    "A = ['사과', '오렌지', '포도', '딸기', '수박']\n",
    "\n",
    "print('#'*30, f\"{'A':^15s}\" , '#' * 30, '\\n') # 출력되는 결과들을 분리해서 보여주기 위한 코드입니다.\n",
    "print(A)\n",
    "print('\\n','#'*30, \"{:^15s}\".format(\"pd.Series(A, name='과일')\") , '#' * 30, '\\n') # 출력되는 결과들을 분리해서 보여주기 위한 코드입니다.\n",
    "print(pd.Series(A, name='과일'))"
   ]
  },
  {
   "cell_type": "markdown",
   "id": "c9c20721-018a-4aef-ba5e-7772c5d99281",
   "metadata": {
    "tags": []
   },
   "source": [
    "## 딕셔너리로 시리즈를 만들어봅시다.\n",
    "\n",
    "딕셔너리로도 시리즈를 만들 수 있습니다.   \n",
    "\n",
    "<table>\n",
    "<tr>\n",
    "    <th><img src=\"https://tmn-bucket-materials-all.s3.ap-northeast-2.amazonaws.com/image/pandas/material_02_03.gif\" width=\"750\"></th>\n",
    "</tr>\n",
    "<tr>\n",
    "    <th>딕셔너리로 시리즈 만들기</th>\n",
    "</tr>\n",
    "</table>\n",
    "\n",
    "딕셔너리와는 키 값을 가지고 있기 때문에 `index` 매개변수를 설정해주지 않아도 자동으로 인덱스와 열이름이 자동으로 설정됩니다.  \n",
    "\n",
    "> **⚠️ 주의(WARNING):**\n",
    ">\n",
    "> 딕셔너리로 시리즈를 만들 때 인덱스를 지정하면 매개변수로 전달한 인덱스를 기준으로 시리즈가 만들어집니다.  \n",
    "> 따라서 딕셔너리에 키(Key)가 존재하지 않는 인덱스, 열에는 데이터가 지정되지 않습니다.\n",
    ">\n",
    "> <table>\n",
    "> <tr>\n",
    ">     <th><img src=\"https://tmn-bucket-materials-all.s3.ap-northeast-2.amazonaws.com/image/pandas/material_02_04.gif\" width=\"750\"></th>\n",
    "> </tr>\n",
    "> <tr>\n",
    ">     <th>딕셔너리에 인덱스 설정하여 시리즈 만들기</th>\n",
    "> </tr>\n",
    "> </table>\n",
    "\n",
    "\n",
    "시리즈를 만들때에 `name` 매개변수를 주면 이름이 있는 시리즈를 만들 수 있습니다."
   ]
  },
  {
   "cell_type": "code",
   "execution_count": null,
   "id": "6ffee253-2527-4ea8-af02-9ba72ca6f640",
   "metadata": {},
   "outputs": [],
   "source": [
    "# 예제_5_딕셔너리로부터_시리즈_만들기\n",
    "\n",
    "import pandas as pd\n",
    "\n",
    "A = {'A':'사과', 'B':'오렌지', 'C':'포도', 'D':'딸기', 'E':'수박'}\n",
    "\n",
    "print('#'*30, f\"{'A':^15s}\" , '#' * 30, '\\n') # 출력되는 결과들을 분리해서 보여주기 위한 코드입니다.\n",
    "print(A)\n",
    "print('\\n','#'*30, f\"{'pd.Series(A)':^15s}\" , '#' * 30, '\\n') # 출력되는 결과들을 분리해서 보여주기 위한 코드입니다.\n",
    "print(pd.Series(A))"
   ]
  },
  {
   "cell_type": "code",
   "execution_count": null,
   "id": "d9666bda-18a1-4789-b0f6-b0454e40741f",
   "metadata": {},
   "outputs": [],
   "source": [
    "# 예제_6_딕셔너리로부터_인덱스정해서_시리즈_만들기\n",
    "\n",
    "import pandas as pd\n",
    "\n",
    "A = {'A':'사과', 'B':'오렌지', 'C':'포도', 'D':'딸기', 'E':'수박'}\n",
    "index = ['A', 'C', 'E', 'G']\n",
    "\n",
    "print('#'*30, f\"{'A':^15s}\" , '#' * 30, '\\n') # 출력되는 결과들을 분리해서 보여주기 위한 코드입니다.\n",
    "print(A)\n",
    "print('#'*30, f\"{'index':^15s}\" , '#' * 30, '\\n') # 출력되는 결과들을 분리해서 보여주기 위한 코드입니다.\n",
    "print(index)\n",
    "print('\\n','#'*30, f\"{'pd.Series(A, index = index)':^15s}\" , '#' * 30, '\\n') # 출력되는 결과들을 분리해서 보여주기 위한 코드입니다.\n",
    "print(pd.Series(A, index = index))"
   ]
  },
  {
   "cell_type": "markdown",
   "id": "13263aaa-cc80-4275-bd0e-2f269cf14174",
   "metadata": {},
   "source": [
    "> **❓ 생각해보기(QUESTION):**\n",
    ">\n",
    "> 시리즈를 만들 때에 리스트, 딕셔너리를 사용하는 방법 각각의 장점과 단점이 무엇인지 이야기해 봅시다. "
   ]
  },
  {
   "cell_type": "raw",
   "id": "969075f7-6633-4106-a9a8-25288874022d",
   "metadata": {},
   "source": [
    "질문에 대한 대답을 여기에 적어봅시다."
   ]
  },
  {
   "cell_type": "markdown",
   "id": "22f48678-b3e6-4822-80b7-e98c0c214d97",
   "metadata": {},
   "source": [
    "### **💯 연습문제를 풀어봅시다**\n",
    "\n",
    "1. <a class=\"jcecodle-mk jcecodle-mk__problem-chip\" data-problem-id=\"CrwnIWE7d1E\" href='#jce-judge/open/CrwnIWE7d1E' target='_self'><span>판다스 기초 - 시리즈 만들기 (1)</span></a>\n",
    "\n",
    "2. <a class=\"jcecodle-mk jcecodle-mk__problem-chip\" data-problem-id=\"84ASSq3j5vw\" href='#jce-judge/open/84ASSq3j5vw' target='_self'><span>판다스 기초 - 시리즈 만들기 (2)</span></a>\n",
    "\n",
    "3. <a class=\"jcecodle-mk jcecodle-mk__problem-chip\" data-problem-id=\"85s1anMGz4o\" href='#jce-judge/open/85s1anMGz4o' target='_self'><span>판다스 기초 - 시리즈 만들기 (3)</span></a>\n",
    "\n",
    "4. <a class=\"jcecodle-mk jcecodle-mk__problem-chip\" data-problem-id=\"q6IFlnD9qnI\" href='#jce-judge/open/q6IFlnD9qnI' target='_self'><span>판다스 기초 - 시리즈 만들기 (4)</span></a>\n",
    "\n",
    "5. <a class=\"jcecodle-mk jcecodle-mk__problem-chip\" data-problem-id=\"TDAycODI5Ms\" href='#jce-judge/open/TDAycODI5Ms' target='_self'><span>판다스 기초 - 시리즈 이름 설정</span></a>\n",
    "\n",
    "6. <a class=\"jcecodle-mk jcecodle-mk__problem-chip\" data-problem-id=\"CIjtA1UO4P0\" href='#jce-judge/open/CIjtA1UO4P0' target='_self'><span>판다스 기초 - 아이돌과 노래</span></a>\n",
    "\n",
    "7. <a class=\"jcecodle-mk jcecodle-mk__problem-chip\" data-problem-id=\"XafKcm_cCbg\" href='#jce-judge/open/XafKcm_cCbg' target='_self'><span>판다스 기초 - MBTI시리즈</span></a>\n",
    "\n",
    "8. <a class=\"jcecodle-mk jcecodle-mk__problem-chip\" data-problem-id=\"l704ja9Qjcw\" href='#jce-judge/open/l704ja9Qjcw' target='_self'><span>판다스 기초 - 과일 시리즈</span></a>\n",
    "\n",
    "\n"
   ]
  }
 ],
 "metadata": {
  "kernelspec": {
   "display_name": "Python 3 (ipykernel)",
   "language": "python",
   "name": "python3"
  },
  "language_info": {
   "codemirror_mode": {
    "name": "ipython",
    "version": 3
   },
   "file_extension": ".py",
   "mimetype": "text/x-python",
   "name": "python",
   "nbconvert_exporter": "python",
   "pygments_lexer": "ipython3",
   "version": "3.8.10"
  }
 },
 "nbformat": 4,
 "nbformat_minor": 5
}
